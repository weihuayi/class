{
 "cells": [
  {
   "cell_type": "markdown",
   "metadata": {
    "slideshow": {
     "slide_type": "slide"
    }
   },
   "source": [
    "# Python 数据分析简介"
   ]
  },
  {
   "cell_type": "markdown",
   "metadata": {
    "slideshow": {
     "slide_type": "slide"
    }
   },
   "source": [
    "## 课程信息"
   ]
  },
  {
   "cell_type": "markdown",
   "metadata": {
    "slideshow": {
     "slide_type": "fragment"
    }
   },
   "source": [
    "* **任课教师：**　魏华祎\n",
    "* **联系电话：** 15973229281\n",
    "* **办公室：** 数学院南楼 227\n",
    "* **助教: ** 张雅琴\n",
    "    + 电话：15873238221"
   ]
  },
  {
   "cell_type": "markdown",
   "metadata": {
    "slideshow": {
     "slide_type": "slide"
    }
   },
   "source": [
    "## 从数据到智慧"
   ]
  },
  {
   "cell_type": "markdown",
   "metadata": {
    "slideshow": {
     "slide_type": "fragment"
    }
   },
   "source": [
    "![DIKW 金字](./figures/DIKW_0.png)"
   ]
  },
  {
   "cell_type": "markdown",
   "metadata": {
    "slideshow": {
     "slide_type": "fragment"
    }
   },
   "source": [
    "* 数据(data): \n",
    "    + 代表各种事件和现象\n",
    "    + 没有组织和结构\n",
    "    + 只告诉你过去发生了什么\n",
    "    + 不能让你理解为什么会发生\n",
    "* 信息(information):\n",
    "    + 结构化且赋予意义的数据\n",
    "    + 可以用来分析和解读，支持决策\n",
    "* 知识(knowledge):\n",
    "    + 把信息组织起来，刻画事件之间的本质逻辑关系\n",
    "    + 模型，特别是数学模型，是一种高级的知识，能解释现象，还能预测未来。比如牛顿第二定律模型。\n",
    "* 智慧(wisdom):\n",
    "    + 识别、选择和应用知识的能力"
   ]
  },
  {
   "cell_type": "markdown",
   "metadata": {
    "slideshow": {
     "slide_type": "slide"
    }
   },
   "source": [
    "## 什么是数据科学？"
   ]
  },
  {
   "cell_type": "markdown",
   "metadata": {
    "slideshow": {
     "slide_type": "fragment"
    }
   },
   "source": [
    "![Data Science Venn Diagram](figures/Data_Science_VD.png)\n",
    "\n",
    "<small>(Source: [Drew Conway](http://drewconway.com/zia/2013/3/26/the-data-science-venn-diagram))</small>"
   ]
  },
  {
   "cell_type": "markdown",
   "metadata": {
    "slideshow": {
     "slide_type": "slide"
    }
   },
   "source": [
    "数据科学是一门交叉学科，从事数据科学需要具备三个领域的能力\n",
    "* 数学与统计学家的能力\n",
    "    + 建立模型\n",
    "    + 分析数据\n",
    "* 计算机科学家的能力\n",
    "    + 设计算法对数据进行高效存储，分析和可视化\n",
    "* 领域专家的能力\n",
    "    + 细分领域经过专业的训练\n",
    "    + 可以提出正确的问题\n",
    "    + 可以做出专业的解答"
   ]
  },
  {
   "cell_type": "markdown",
   "metadata": {
    "slideshow": {
     "slide_type": "slide"
    }
   },
   "source": [
    "## **Python 数据分析**学什么？"
   ]
  },
  {
   "cell_type": "markdown",
   "metadata": {
    "slideshow": {
     "slide_type": "fragment"
    }
   },
   "source": [
    "尽管“数据分析”出现在课程名字当中，但本课程将明确专注于**Python**语言的\n",
    "\n",
    "* 编程\n",
    "* 类库\n",
    "* 工具\n",
    "\n",
    "而**不是**数据分析的**方法论**。\n"
   ]
  },
  {
   "cell_type": "markdown",
   "metadata": {
    "slideshow": {
     "slide_type": "slide"
    }
   },
   "source": [
    "## 为什么选择 Python?"
   ]
  },
  {
   "cell_type": "markdown",
   "metadata": {
    "slideshow": {
     "slide_type": "fragment"
    }
   },
   "source": [
    "Python 有如下优点：\n",
    "\n",
    "* 是一门简单易用的解释性语言（与编译的语言相对），并且可以交互式使用。有很多 Python 的解释器可以用来执行命令和脚本。\n",
    "* 开源协议下的自由软件，可以个人和开发商业软件都可以免费使用。\n",
    "* 跨平台。\n",
    "* 语法简洁明了，代码可读性强。\n",
    "* 从网站架构到科学计算，对于不同的应用，Python 都有大量高质量的软件包可以使用。\n",
    "* 非常容易和其它语言对接，特别是 C 和 C++ 语言。\n",
    "* 是面向对象和动态类型的语言。"
   ]
  },
  {
   "cell_type": "markdown",
   "metadata": {
    "slideshow": {
     "slide_type": "slide"
    }
   },
   "source": [
    "Python 在数据科学领域应用广泛，主要因为它的第三方程序包拥有庞大的生态系统：\n",
    "* Numpy 可以处理同类型的数组数据\n",
    "* Pandas 可以处理多种类型带标签的数据\n",
    "* Scipy 可以解决常见和科学计算问题\n",
    "* Matplotlib 可以绘制用于印刷的可视化图形\n",
    "* IPython 可以实现交互式编程和快速分享代码\n",
    "* Scikit-Learn 可以进行机器学习"
   ]
  },
  {
   "cell_type": "markdown",
   "metadata": {
    "slideshow": {
     "slide_type": "slide"
    }
   },
   "source": [
    "## 学习内容概览"
   ]
  },
  {
   "cell_type": "markdown",
   "metadata": {
    "slideshow": {
     "slide_type": "fragment"
    }
   },
   "source": [
    "1. Ipython 和 Jupyter　Notebook 编程环境搭建与使用\n",
    "1. Python 语言基础\n",
    "1. Numpy：多维数组对象及操作\n",
    "1. Pandas：带行列标签的多维数组对象及操作\n",
    "1. Matplotlib：基于　NumPy 数组基础上的多平台可视化程序库\n",
    "1. 常用数据存储格式的 Python 读写操作\n",
    "1. 数据分析示例"
   ]
  },
  {
   "cell_type": "markdown",
   "metadata": {
    "slideshow": {
     "slide_type": "slide"
    }
   },
   "source": [
    "## 学习建议"
   ]
  },
  {
   "cell_type": "markdown",
   "metadata": {
    "slideshow": {
     "slide_type": "fragment"
    }
   },
   "source": [
    "* 能熟练阅读英文资料。"
   ]
  },
  {
   "cell_type": "markdown",
   "metadata": {
    "slideshow": {
     "slide_type": "fragment"
    }
   },
   "source": [
    "* 重要的不是知道答案，而是如何快速找到答案。"
   ]
  },
  {
   "cell_type": "markdown",
   "metadata": {
    "slideshow": {
     "slide_type": "fragment"
    }
   },
   "source": [
    "* 熟能生巧。"
   ]
  },
  {
   "cell_type": "markdown",
   "metadata": {
    "slideshow": {
     "slide_type": "fragment"
    }
   },
   "source": [
    "* 经验来自不断地犯错。"
   ]
  },
  {
   "cell_type": "markdown",
   "metadata": {
    "slideshow": {
     "slide_type": "fragment"
    }
   },
   "source": [
    "* 选择开放性的工具。"
   ]
  },
  {
   "cell_type": "markdown",
   "metadata": {
    "slideshow": {
     "slide_type": "fragment"
    }
   },
   "source": [
    "* 首要目标是入门并存活下来， 长期目标才是成为顶尖高手。"
   ]
  },
  {
   "cell_type": "markdown",
   "metadata": {
    "slideshow": {
     "slide_type": "slide"
    }
   },
   "source": [
    "* 要了解所学工具为满足用户需求所采用的思维原型，基本概念，并在使用过程中不断深入了解。"
   ]
  },
  {
   "cell_type": "markdown",
   "metadata": {
    "slideshow": {
     "slide_type": "fragment"
    }
   },
   "source": [
    "* 用好搜索引擎， 论坛，邮件列表解决自己大部分使用过程中遇到的问题。"
   ]
  },
  {
   "cell_type": "markdown",
   "metadata": {
    "slideshow": {
     "slide_type": "fragment"
    }
   },
   "source": [
    "* 点滴记录你所犯的错误， 问题， 解决办法， 以及你对解决问题的思考过程。"
   ]
  },
  {
   "cell_type": "markdown",
   "metadata": {
    "slideshow": {
     "slide_type": "fragment"
    }
   },
   "source": [
    "* 成为社群的一分子， 尝试回答别人遇到的问题， 分享你的经验, Don't be one of the leeches(水蛭)。"
   ]
  },
  {
   "cell_type": "markdown",
   "metadata": {
    "slideshow": {
     "slide_type": "fragment"
    }
   },
   "source": [
    "* 如果工具确实没有你需要的功能， 尝试贡献这一功能。"
   ]
  },
  {
   "cell_type": "markdown",
   "metadata": {
    "slideshow": {
     "slide_type": "fragment"
    }
   },
   "source": [
    "* 不断向你的周围的人传播你所使用的好工具。"
   ]
  },
  {
   "cell_type": "markdown",
   "metadata": {
    "slideshow": {
     "slide_type": "fragment"
    }
   },
   "source": [
    "* 把自己的可重复的经验程序化，让计算机做重复的工作，使自己集中精力做更重要的事情."
   ]
  },
  {
   "cell_type": "code",
   "execution_count": null,
   "metadata": {
    "slideshow": {
     "slide_type": "notes"
    }
   },
   "outputs": [],
   "source": []
  }
 ],
 "metadata": {
  "kernelspec": {
   "display_name": "Python 3",
   "language": "python",
   "name": "python3"
  },
  "language_info": {
   "codemirror_mode": {
    "name": "ipython",
    "version": 3
   },
   "file_extension": ".py",
   "mimetype": "text/x-python",
   "name": "python",
   "nbconvert_exporter": "python",
   "pygments_lexer": "ipython3",
   "version": "3.6.8"
  },
  "toc": {
   "base_numbering": 1,
   "nav_menu": {},
   "number_sections": true,
   "sideBar": true,
   "skip_h1_title": false,
   "title_cell": "Table of Contents",
   "title_sidebar": "Contents",
   "toc_cell": false,
   "toc_position": {},
   "toc_section_display": true,
   "toc_window_display": false
  }
 },
 "nbformat": 4,
 "nbformat_minor": 2
}
