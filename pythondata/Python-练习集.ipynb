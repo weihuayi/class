{
 "cells": [
  {
   "cell_type": "markdown",
   "metadata": {},
   "source": [
    "# Python 练习集"
   ]
  },
  {
   "cell_type": "markdown",
   "metadata": {},
   "source": [
    "## 计算机基础"
   ]
  },
  {
   "cell_type": "markdown",
   "metadata": {
    "solution2": "hidden",
    "solution2_first": true
   },
   "source": [
    "* CPU 可以直接访问硬盘的数据，对吗？"
   ]
  },
  {
   "cell_type": "markdown",
   "metadata": {
    "solution2": "hidden"
   },
   "source": [
    "答：不对。CPU 只能直接访问内存的指令和数据，硬盘的数据必须先放入内存，才能被 CPU 访问。"
   ]
  },
  {
   "cell_type": "markdown",
   "metadata": {
    "solution2": "hidden",
    "solution2_first": true
   },
   "source": [
    "* 计算机中的 1 位(bit) 可以存储多少不同的信息？"
   ]
  },
  {
   "cell_type": "markdown",
   "metadata": {
    "solution2": "hidden"
   },
   "source": [
    "答：0和1两种信息。"
   ]
  },
  {
   "cell_type": "markdown",
   "metadata": {
    "solution2": "hidden",
    "solution2_first": true
   },
   "source": [
    "* 1 字节(Byte)由( )位组成，一个字节可以存储多少不同的信息？"
   ]
  },
  {
   "cell_type": "markdown",
   "metadata": {
    "solution2": "hidden"
   },
   "source": [
    "**答：** 8 位组成，共可以存储 $2^8 = 256$ 种不同的信息。"
   ]
  },
  {
   "cell_type": "markdown",
   "metadata": {
    "solution2": "hidden",
    "solution2_first": true
   },
   "source": [
    "* 在计算机操作系统中，内存的容量单位如何计算？"
   ]
  },
  {
   "cell_type": "markdown",
   "metadata": {
    "solution2": "hidden"
   },
   "source": [
    "+ 1 KB = 1024 B = $2^{10}$ B\n",
    "+ 1 MB = 1024 KB = $2^{20}$ B\n",
    "+ 1 GB = 1024 MB = $2^{30}$ B\n",
    "+ 1 TB = 1024 GB = $2^{40}$ B\n",
    "+ 1 PB = 1024 TB = $2^{50}$ B\n",
    "+ 1 EB = 1024 PB = $2^{60}$ B "
   ]
  },
  {
   "cell_type": "markdown",
   "metadata": {
    "solution2": "hidden",
    "solution2_first": true
   },
   "source": [
    "* CPU 读写内存的最小单位是什么？"
   ]
  },
  {
   "cell_type": "markdown",
   "metadata": {
    "solution2": "hidden"
   },
   "source": [
    "**答：** 1 Byte。"
   ]
  },
  {
   "cell_type": "markdown",
   "metadata": {
    "solution2": "hidden",
    "solution2_first": true
   },
   "source": [
    "* 32 位计算机最大支持的内存大小？"
   ]
  },
  {
   "cell_type": "markdown",
   "metadata": {
    "solution2": "hidden"
   },
   "source": [
    "答：$$ 2^{32} = 2^2\\times 2^{30} = 4 GB $$"
   ]
  },
  {
   "cell_type": "markdown",
   "metadata": {
    "solution2": "hidden",
    "solution2_first": true
   },
   "source": [
    "* 64 位计算机最大支持内存的大小？"
   ]
  },
  {
   "cell_type": "markdown",
   "metadata": {
    "solution2": "hidden"
   },
   "source": [
    "答：$$ 2^{64} = 2^{34}\\times 2^{30} = 2^{34} GB = 17,179,869,184 GB$$"
   ]
  },
  {
   "cell_type": "markdown",
   "metadata": {
    "solution2": "hidden",
    "solution2_first": true
   },
   "source": [
    "* 什么是操作系统的内核？"
   ]
  },
  {
   "cell_type": "markdown",
   "metadata": {
    "solution2": "hidden"
   },
   "source": [
    "**答：** 内核是一个操作系统的核心。它负责管理系统的进程、内存、设备驱动程序、文件和网络系统，决定着系统的性能和稳定性"
   ]
  },
  {
   "cell_type": "markdown",
   "metadata": {
    "solution2": "hidden",
    "solution2_first": true
   },
   "source": [
    "* 什么是图形用户界面？"
   ]
  },
  {
   "cell_type": "markdown",
   "metadata": {
    "solution2": "hidden"
   },
   "source": [
    "**答：** 图形用户界面（Graphical User Interface，简称 GUI，又称图形用户接口）是指采用图形方式显示的计算机操作用户界面。"
   ]
  },
  {
   "cell_type": "markdown",
   "metadata": {},
   "source": [
    "## 面向对象"
   ]
  },
  {
   "cell_type": "markdown",
   "metadata": {},
   "source": [
    "在面向对象程序设计中， 对象(object)是包含**数据(data)**和**代码(code)**的一个实体，其中：\n",
    "* **数据**描述了对象的**属性(attributes or properties)**。\n",
    "* **代码**描述了对象的**方法(methods)**。\n",
    "\n",
    "同一类对象的抽象描述，称为**类(class)**。 \n"
   ]
  },
  {
   "cell_type": "markdown",
   "metadata": {},
   "source": [
    "## Python 语法基础"
   ]
  },
  {
   "cell_type": "markdown",
   "metadata": {},
   "source": [
    "1. 给定一个圆的半径 $r$, 计算圆的周长和面积。\n",
    "1. 利用 Wallis 公式计算 $\\pi$ 的近似值。 \n",
    "$$\n",
    "\\pi = 2\\Pi_{i=1}^{\\infty}\\frac{4i^2}{4i^2-1}\n",
    "$$\n",
    "1. 定义一个函数，传三个点二维坐标，计算由这三点组成的三角形的面积。\n",
    "1. 定义一个函数，计算"
   ]
  },
  {
   "cell_type": "markdown",
   "metadata": {},
   "source": [
    "## 参考资源"
   ]
  },
  {
   "cell_type": "markdown",
   "metadata": {},
   "source": [
    "1. https://www.w3resource.com/python-exercises/"
   ]
  }
 ],
 "metadata": {
  "kernelspec": {
   "display_name": "Python 3",
   "language": "python",
   "name": "python3"
  },
  "language_info": {
   "codemirror_mode": {
    "name": "ipython",
    "version": 3
   },
   "file_extension": ".py",
   "mimetype": "text/x-python",
   "name": "python",
   "nbconvert_exporter": "python",
   "pygments_lexer": "ipython3",
   "version": "3.6.8"
  },
  "toc": {
   "base_numbering": 1,
   "nav_menu": {},
   "number_sections": true,
   "sideBar": true,
   "skip_h1_title": false,
   "title_cell": "Table of Contents",
   "title_sidebar": "Contents",
   "toc_cell": false,
   "toc_position": {},
   "toc_section_display": true,
   "toc_window_display": false
  }
 },
 "nbformat": 4,
 "nbformat_minor": 2
}
