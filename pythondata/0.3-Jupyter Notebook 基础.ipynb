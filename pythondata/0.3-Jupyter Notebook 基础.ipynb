{
 "cells": [
  {
   "cell_type": "markdown",
   "metadata": {},
   "source": [
    "#  Jupyter Notebook 基础"
   ]
  },
  {
   "cell_type": "markdown",
   "metadata": {},
   "source": [
    "Jupyter Notebook 是**交互**使用 Python 的图形用户界面"
   ]
  },
  {
   "cell_type": "markdown",
   "metadata": {},
   "source": [
    "> * 整理知识，学习笔记\n",
    "> * 发布日记，杂文，所见所想\n",
    "> * 撰写发布技术文稿（代码支持，文档中的代码可直接运行）\n",
    "> * 撰写漂亮的数学公式（LaTeX 公式支持）"
   ]
  },
  {
   "cell_type": "markdown",
   "metadata": {},
   "source": [
    "## 什么是 Markdown\n",
    "\n",
    "Markdown 是一种方便记忆、书写的纯文本标记语言，用户可以使用这些标记符号以最小的输入代价生成极富表现力的文档：譬如您正在阅读的这份文档。它使用简单的符号标记不同的标题，分割不同的段落，**粗体** 或者 *斜体* 某些文字，更棒的是，它还可以\n",
    "\n",
    "### 1. 制作一份待办事宜 [Todo 列表](https://www.zybuluo.com/mdeditor?url=https://www.zybuluo.com/static/editor/md-help.markdown#13-待办事宜-todo-列表)\n",
    "\n",
    "- [ ] 支持以 PDF 格式导出文稿\n",
    "- [ ] 改进 Cmd 渲染算法，使用局部渲染技术提高渲染效率\n",
    "- [x] 新增 Todo 列表功能\n",
    "- [x] 修复 LaTex 公式渲染问题\n",
    "- [x] 新增 LaTex 公式编号功能"
   ]
  },
  {
   "cell_type": "markdown",
   "metadata": {},
   "source": [
    "### 支持数学公式\n",
    "行内公式 $f(x) = x^2 + x + 1$\n",
    "\n",
    "行间公式：\n",
    "\n",
    "$$E=mc^2$$\n",
    "\n",
    "$$\\sum_{i=1}^n a_i=0$$\n",
    "\n",
    "$$f(x_1,x_x,\\ldots,x_n) = x_1^2 + x_2^2 + \\cdots + x_n^2 $$\n",
    "\n",
    "$$\\sum^{j-1}_{k=0}{\\widehat{\\gamma}_{kj} z_k}$$"
   ]
  },
  {
   "cell_type": "markdown",
   "metadata": {},
   "source": [
    "### 高亮一段代码[^code]\n",
    "\n",
    "```python\n",
    "@requires_authorization\n",
    "class SomeClass:\n",
    "    pass\n",
    "\n",
    "if __name__ == '__main__':\n",
    "    # A comment\n",
    "    print 'hello world'\n",
    "```"
   ]
  },
  {
   "cell_type": "markdown",
   "metadata": {},
   "source": [
    "###  高效绘制 [流程图] \n",
    "需要安装插件\n",
    "```flow\n",
    "st=>start: Start\n",
    "op=>operation: Your Operation\n",
    "cond=>condition: Yes or No?\n",
    "e=>end\n",
    "\n",
    "st->op->cond\n",
    "cond(yes)->e\n",
    "cond(no)->op\n",
    "```"
   ]
  },
  {
   "cell_type": "code",
   "execution_count": 3,
   "metadata": {},
   "outputs": [
    {
     "data": {
      "image/png": "[encoded data removed]",
      "text/plain": [
       "<IPython.core.display.Image object>"
      ]
     },
     "execution_count": 3,
     "metadata": {},
     "output_type": "execute_result"
    }
   ],
   "source": [
    "# sudo apt install graphviz libgraphviz-dev\n",
    "# sudo -H pip3 install pygraphviz\n",
    "import pygraphviz as pgv\n",
    "from IPython.display import Image\n",
    "\n",
    "def draw(dot):\n",
    "    return Image(pgv.AGraph(dot).draw(format='png', prog='dot'))\n",
    "\n",
    "g1 = \"\"\"digraph top {\n",
    "   a -> b -> c;\n",
    "}\"\"\"\n",
    "draw(g1)"
   ]
  },
  {
   "cell_type": "markdown",
   "metadata": {},
   "source": [
    "### 高效绘制 [甘特图]\n",
    "需要安装插件\n",
    "```gantt\n",
    "    title 项目开发流程\n",
    "    section 项目确定\n",
    "        需求分析       :a1, 2016-06-22, 3d\n",
    "        可行性报告     :after a1, 5d\n",
    "        概念验证       : 5d\n",
    "    section 项目实施\n",
    "        概要设计      :2016-07-05  , 5d\n",
    "        详细设计      :2016-07-08, 10d\n",
    "        编码          :2016-07-15, 10d\n",
    "        测试          :2016-07-22, 5d\n",
    "    section 发布验收\n",
    "        发布: 2d\n",
    "        验收: 3d\n",
    "```"
   ]
  },
  {
   "cell_type": "markdown",
   "metadata": {},
   "source": [
    "### 绘制表格\n",
    "\n",
    "| 项目        | 价格   |  数量  |\n",
    "| --------   | -----:  | :----:  |\n",
    "| 计算机     | \\$1600 |   5     |\n",
    "| 手机        |   \\$12   |   12   |\n",
    "| 管线        |    \\$1    |  234  |"
   ]
  },
  {
   "cell_type": "code",
   "execution_count": 2,
   "metadata": {},
   "outputs": [
    {
     "data": {
      "image/png": "[encoded data removed]",
      "text/plain": [
       "<IPython.core.display.Image object>"
      ]
     },
     "execution_count": 2,
     "metadata": {},
     "output_type": "execute_result"
    }
   ],
   "source": []
  },
  {
   "cell_type": "code",
   "execution_count": null,
   "metadata": {},
   "outputs": [],
   "source": []
  }
 ],
 "metadata": {
  "kernelspec": {
   "display_name": "Python 3",
   "language": "python",
   "name": "python3"
  },
  "language_info": {
   "codemirror_mode": {
    "name": "ipython",
    "version": 3
   },
   "file_extension": ".py",
   "mimetype": "text/x-python",
   "name": "python",
   "nbconvert_exporter": "python",
   "pygments_lexer": "ipython3",
   "version": "3.6.8"
  },
  "latex_envs": {
   "LaTeX_envs_menu_present": true,
   "autoclose": false,
   "autocomplete": true,
   "bibliofile": "biblio.bib",
   "cite_by": "apalike",
   "current_citInitial": 1,
   "eqLabelWithNumbers": true,
   "eqNumInitial": 1,
   "hotkeys": {
    "equation": "Ctrl-E",
    "itemize": "Ctrl-I"
   },
   "labels_anchors": false,
   "latex_user_defs": false,
   "report_style_numbering": false,
   "user_envs_cfg": false
  },
  "toc": {
   "base_numbering": 1,
   "nav_menu": {},
   "number_sections": true,
   "sideBar": true,
   "skip_h1_title": false,
   "title_cell": "Table of Contents",
   "title_sidebar": "Contents",
   "toc_cell": false,
   "toc_position": {},
   "toc_section_display": true,
   "toc_window_display": false
  }
 },
 "nbformat": 4,
 "nbformat_minor": 2
}
