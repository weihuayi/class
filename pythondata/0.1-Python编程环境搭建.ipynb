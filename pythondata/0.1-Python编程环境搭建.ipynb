{
 "cells": [
  {
   "cell_type": "markdown",
   "metadata": {},
   "source": [
    "# Python 编程环境搭建"
   ]
  },
  {
   "cell_type": "markdown",
   "metadata": {},
   "source": [
    "编程是一项实践性很强的活动，**经常写**是学好编程的最根本保证。 在学习 Python 编程之\n",
    "前，首先要给自己搭建一个环境， 让自己随时都能写上一点程序。\n",
    "\n",
    "下面主要介绍几种 Python 编程环境的搭建过程。"
   ]
  },
  {
   "cell_type": "markdown",
   "metadata": {},
   "source": [
    "## [Anaconda](https://www.anaconda.com/) \n",
    "\n",
    "首先介绍最简单的一种方式，就是安装 Anaconda，这是当前最流行的跨平台 Python 数据\n",
    "科学平台软件包，下载地址： https://www.anaconda.com/download/ ， 其中有 Windows\n",
    "、macOS 和 Linux 三种系统的 安装包，最新安装包内置的 Python 版本是 3.7。\n",
    "Anaconda 中已经集成了大部分我们平时最常用的 Python 软件模块。另外，也提供了很多\n",
    "第三方的网上软件模块仓库，可以利用 `conda` 命令来安装你需要的软件包。\n",
    "\n",
    "Windows 安装 Anaconda 之后， 就会在开始菜单中出现一个 Anaconda 文件夹， 下面有\n",
    "各种工具的启动链接：\n",
    "\n",
    "* **Anaconda Cloud**: \n",
    "Anaconda 的云平台，就是一个网上编程环境， 它提供软件包、 笔记和环境的管理服务，\n",
    "用户可以和别人共享自己的程序和笔记。用 Cloud 的好处是， 它会帮完成软件包和环境的\n",
    "更新管理任务， 用户只用专注编程就可以啦。 \n",
    "* **Anaconda Navigator**: 就是一个导览， 告诉用户 Anaconda 中有什么。\n",
    "* **Anaconda Prompt**: 就是 Anaconda 的命令终端， 用 `conda` 命令管理 Python 软件包的安装和卸载。\n",
    "* **IPython**: Python 的高级交互终端， 可以在里面快速获得帮助，测试代码的运行效果等。\n",
    "* **Jupyter Notebook**: 一个交互计算的 Web 应用， 启动后会在浏览器中打开， 你可\n",
    "    以写包含代码的文档笔记， 特别注意其中的代码是可以直接运行的。 \n",
    "* **Jupyter QTConsole**: 和 IPython 其实是一个东西， 只不过用 QT 实现的界面。\n",
    "* **spyder**: Python 的集成开发环境， 有与 Matlab 类似的界面。\n",
    "\n",
    "而 Linux 和 MacOS 系统中安装 Anaconda 之后， 在用户主目录中就会出现一个 Anaconda\n",
    "的文件夹，并且会自动屏蔽系统中已经安装的 Python。 用户需要打开你的命令行终端来运行\n",
    "上面的命令。"
   ]
  },
  {
   "cell_type": "markdown",
   "metadata": {},
   "source": [
    "## Ubuntu 系统"
   ]
  },
  {
   "cell_type": "markdown",
   "metadata": {},
   "source": [
    "这一节首先介绍如何手工配置 Ubuntu Linux 系统下的 Python 编程环境， 然后介绍怎么调用\n",
    "相关的程序。 \n",
    "\n",
    "首先按下 `Ctrl + Alt + T` 快捷键打开命令行终端， 类似下面的界面：\n",
    "\n",
    "![命令行终端](./figures/shell.png)\n",
    "\n",
    "下面安装 Python 语言基础软件包 `python3` 和 Python 软件模块管理器 `pip3`。  \n",
    "\n",
    "```\n",
    "$ sudo apt install python3 # 语言基础软件包\n",
    "$ sudo apt install python3-pip # python 软件模块管理器\n",
    "```\n",
    "\n",
    "注意这里安装的是 Python3。\n",
    "\n",
    "安装完成， 可以打印版本信息测试一下：\n",
    "\n",
    "```\n",
    "$ python3 -V\n",
    "Python 3.5.2\n",
    "$ pip3 -V \n",
    "pip 18.0 from /usr/local/lib/python3.5/dist-packages/pip (python 3.5)\n",
    "```\n",
    "\n",
    "进一步安装 Python 的高级交互终端 IPython:\n",
    "\n",
    "```\n",
    "$ sudo apt install ipython3\n",
    "```\n",
    "\n",
    "在命令行终端中运行 `ipython3`:\n",
    "\n",
    "```\n",
    "$ ipython3\n",
    "Python 3.5.2 (default, Nov 23 2017, 16:37:01) \n",
    "Type \"copyright\", \"credits\" or \"license\" for more information.\n",
    "\n",
    "IPython 5.1.0 -- An enhanced Interactive Python.\n",
    "?         -> Introduction and overview of IPython's features.\n",
    "%quickref -> Quick reference.\n",
    "help      -> Python's own help system.\n",
    "object?   -> Details about 'object', use 'object??' for extra details.\n",
    "\n",
    "In [1]: print(\"Hello Python World!\")\n",
    "Hello Python World!\n",
    "\n",
    "In [2]: \n",
    "```\n",
    "\n",
    "IPython 是交互式学习 Python 的好工具。 你可以很方便的在里面获得帮助文档， 和快速\n",
    "测试自己的想法。 \n",
    "\n",
    "下面安装 Python 最基本的科学计算软件模块：\n",
    "\n",
    "```\n",
    "$ sudo -H pip3 install numpy \n",
    "$ sudo -H pip3 install scipy\n",
    "$ sudo -H pip3 install matplotlib\n",
    "$ sudo -H pip3 install sympy\n",
    "```\n",
    "\n",
    "经过以上步骤， 你已经完成 Python 编程环境的配置了。下面就是找一款好的编辑器写\n",
    "Python 程序了， 我推荐使用 [vim](https://www.vim.org/)。 \n",
    "\n",
    "当然， 很多人更喜欢用集成开发环境来写程序， 这里推荐使用[spyder](https://www.spyder-ide.org/)：\n",
    "\n",
    "```\n",
    "$ sudo apt install spyder\n",
    "```"
   ]
  },
  {
   "cell_type": "markdown",
   "metadata": {},
   "source": [
    "## 总结说明 "
   ]
  },
  {
   "cell_type": "markdown",
   "metadata": {},
   "source": [
    "上面的搭建过程介绍的很简单， 有很多细节还需要多查一查网络，或者在使用过程中再\n",
    "更深入的了解。 \n",
    "\n",
    "再强调一点， 在学习使用工具的过程中， 一定要有效率意识，要不时地想一想， 是不是\n",
    "还有更好的操作方法， 并且多查多问，使用工具的水平自然就会不断提高， 最终成为一个\n",
    "顶尖高手。 \n",
    "\n",
    "祝 Python 能够成为你学习、工作和生活的好朋友。"
   ]
  },
  {
   "cell_type": "code",
   "execution_count": null,
   "metadata": {},
   "outputs": [],
   "source": []
  }
 ],
 "metadata": {
  "kernelspec": {
   "display_name": "Python 3",
   "language": "python",
   "name": "python3"
  },
  "language_info": {
   "codemirror_mode": {
    "name": "ipython",
    "version": 3
   },
   "file_extension": ".py",
   "mimetype": "text/x-python",
   "name": "python",
   "nbconvert_exporter": "python",
   "pygments_lexer": "ipython3",
   "version": "3.6.8"
  }
 },
 "nbformat": 4,
 "nbformat_minor": 2
}
