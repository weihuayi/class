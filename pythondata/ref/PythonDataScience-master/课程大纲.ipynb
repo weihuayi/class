{
 "cells": [
  {
   "cell_type": "markdown",
   "metadata": {},
   "source": [
    "# 课程内容纲要\n"
   ]
  },
  {
   "cell_type": "markdown",
   "metadata": {},
   "source": [
    "Python 语言是一个数据师必备的编程语言, 是数据分析师或者数据科学家踏入数据科学领域的关键一步. 本课程从数据分析角度出发,从以下三个方面主要介绍:\n",
    "\n",
    "\n",
    "    + Python 的基本概念与操作, 包括文件读写, 控制语句, 列表, 元组, 字典, 推导式, 模块, 函数, 类异常处理和正则表达式.\n",
    "    + Numpy 的数组操作.\n",
    "    + matplotlib 的画图操作.\n",
    "    + Pandas 的数据操作."
   ]
  },
  {
   "cell_type": "markdown",
   "metadata": {},
   "source": [
    "## Python 简介"
   ]
  },
  {
   "cell_type": "markdown",
   "metadata": {},
   "source": [
    "Python 语言是一种解释型、面向对象、动态数据类型的高级程序设计语言. 如今已经成为绝大部分数据师首选的数据分析语言."
   ]
  },
  {
   "cell_type": "markdown",
   "metadata": {},
   "source": [
    "\n",
    "从第一个程序 Hello world 开始, 以 print 为例, 介绍 Python2.x 和 Python3.x 的区别:\n",
    "```\n",
    "# Python2\n",
    "print \"Hello World!\"\n",
    "\n",
    "# Python3 \n",
    "print(\"Hello World!\")\n",
    "```"
   ]
  },
  {
   "cell_type": "markdown",
   "metadata": {},
   "source": [
    "本课程是根据 Python3.x 版本进行教学."
   ]
  },
  {
   "cell_type": "markdown",
   "metadata": {},
   "source": [
    "### Python 火热的原因"
   ]
  },
  {
   "cell_type": "markdown",
   "metadata": {},
   "source": [
    "+ 易于学习和易于理解\n",
    "+ 开源工具多, 易于交叉\n",
    "+ 可靠且高效\n",
    "+ Python 在人工智能方面的普及\n",
    "+ 深度学习等前沿技术基于 Python 的工具\n",
    "+ 众多大企业使用 Python 做开发"
   ]
  },
  {
   "cell_type": "markdown",
   "metadata": {},
   "source": [
    "### Python 和其它语言的比较"
   ]
  },
  {
   "cell_type": "markdown",
   "metadata": {},
   "source": [
    "+ C++ 语言\n",
    "```\n",
    "#include <iostream>\n",
    "int main(void)\n",
    "{\n",
    "std::cout<<\"Hello world\";\n",
    "}\n",
    "```\n",
    "+ C语言\n",
    "\n",
    "```\n",
    "#include <stdio.h>\n",
    "int main(void)\n",
    "{\n",
    "printf(\"\\nhello world!\");\n",
    "return 0;\n",
    "}\n",
    "```\n",
    "\n",
    "\n",
    "+  Java\n",
    "```\n",
    "public class HelloWorld{\n",
    "   // 程序的入口\n",
    "   public static void main(String args[]){\n",
    "     // 向控制台输出信息\n",
    "     System.out.println(\"Hello World!\");\n",
    "   }\n",
    " }\n",
    "```"
   ]
  },
  {
   "cell_type": "markdown",
   "metadata": {},
   "source": [
    "### Python 的优缺点"
   ]
  },
  {
   "cell_type": "markdown",
   "metadata": {},
   "source": [
    "#### 优点\n",
    "\n",
    "+ Python的定位是“优雅”、“明确”、“简单”，所以Python程序看上去总是简单易懂，初学者学Python，不但入门容易，而且将来深入下去，可以编写那些非常非常复杂的程序。\n",
    "+ 开发效率非常高，Python有非常强大的第三方库，基本上你想通过计算机实现任何功能，Python官方库里都有相应的模块进行支持，直接下载调用后，在基础库的基础上再进行开发，大大降低开发周期，避免重复造轮子。\n",
    "+ 高级语言————当你用Python语言编写程序的时候，你无需考虑诸如如何管理你的程序使用的内存一类的底层细节\n",
    "+ 可移植性————由于它的开源本质，Python已经被移植在许多平台上（经过改动使它能够工 作在不同平台上）。如果你小心地避免使用依赖于系统的特性，那么你的所有Python程序无需修改就几乎可以在市场上所有的系统平台上运行\n",
    "+ 可扩展性————如果你需要你的一段关键代码运行得更快或者希望某些算法不公开，你可以把你的部分程序用C或C++编写，然后在你的Python程序中使用它们。\n",
    "+ 可嵌入性————你可以把Python嵌入你的C/C++程序，从而向你的程序用户提供脚本功能。\n",
    "\n",
    "#### 缺点\n",
    "\n",
    "+ 速度慢，Python 的运行速度相比C语言确实慢很多，跟JAVA相比也要慢一些，因此这也是很多所谓的大牛不屑于使用Python的主要原因，但其实这里所指的运行速度慢在大多数情况下用户是无法直接感知到的，必须借助测试工具才能体现出来，比如你用C运一个程序花了0.01s,用Python是0.1s,这样C语言直接比Python快了10倍,算是非常夸张了，但是你是无法直接通过肉眼感知的，因为一个正常人所能感知的时间最小单位是0.15-0.4s左右，哈哈。其实在大多数情况下Python已经完全可以满足你对程序速度的要求，除非你要写对速度要求极高的搜索引擎等，这种情况下，当然还是建议你用C去实现的。\n",
    "+ 代码不能加密，因为PYTHON是解释性语言，它的源码都是以名文形式存放的，不过我不认为这算是一个缺点，如果你的项目要求源代码必须是加密的，那你一开始就不应该用Python来去实现。\n",
    "+ 线程不能利用多CPU问题，这是Python被人诟病最多的一个缺点，GIL即全局解释器锁（Global Interpreter Lock），是计算机程序设计语言解释器用于同步线程的工具，使得任何时刻仅有一个线程在执行，Python的线程是操作系统的原生线程。在Linux上为pthread，在Windows上为Win thread，完全由操作系统调度线程的执行。一个python解释器进程内有一条主线程，以及多条用户程序的执行线程。即使在多核CPU平台上，由于GIL的存在，所以禁止多线程的并行执行。关于这个问题的折衷解决方法，我们在以后线程和进程章节里再进行详细探讨。\n"
   ]
  },
  {
   "cell_type": "markdown",
   "metadata": {},
   "source": [
    "### Python 的应用"
   ]
  },
  {
   "cell_type": "markdown",
   "metadata": {},
   "source": [
    "Python可以应用于众多领域，如：数据分析、组件集成、网络服务、图像处理、数值计算和科学计算等众多领域。目前业内几乎所有大中型互联网企业都在使用Python，如：Youtube、Dropbox、BT、Quora（中国知乎）、豆瓣、知乎、Google、Yahoo!、Facebook、NASA、百度、腾讯、汽车之家、美团等。"
   ]
  },
  {
   "cell_type": "markdown",
   "metadata": {},
   "source": [
    "### 目前Python主要应用领域："
   ]
  },
  {
   "cell_type": "markdown",
   "metadata": {},
   "source": [
    "+ 云计算: 云计算最火的语言， 典型应用OpenStack\n",
    "+ WEB开发: 众多优秀的WEB框架，众多大型网站均为Python开发，Youtube, Dropbox, 豆瓣等, 典型WEB框架有Django科学运算、人工智能: 典型库NumPy, SciPy, Matplotlib, Enthought librarys,pandas \n",
    "+ 系统运维: 运维人员必备语言\n",
    "+ 金融：量化交易，金融分析，在金融工程领域，Python不但在用，且用的最多，而且重要性逐年提高。原因：作为动态语言的Python，语言结构清晰简单，库丰富，成熟稳定，科学计算和统计分析都很牛逼，生产效率远远高于c,c++,java,尤其擅长策略回测\n",
    "+ 图形GUI: PyQT, WxPython,TkInter"
   ]
  },
  {
   "cell_type": "markdown",
   "metadata": {},
   "source": [
    "### Python在一些公司的应用： \n",
    "\n",
    "+ 谷歌：Google App Engine 、code.google.com 、Google earth 、谷歌爬虫、Google广告等项目都在大量使用Python开发\n",
    "+ CIA: 美国中情局网站就是用Python开发的\n",
    "+ NASA: 美国航天局(NASA)大量使用Python进行数据分析和运算\n",
    "+ YouTube:世界上最大的视频网站YouTube就是用Python开发的\n",
    "+ Dropbox:美国最大的在线云存储网站，全部用Python实现，每天网站处理10亿个文件的上传和下载\n",
    "+ Instagram:美国最大的图片分享社交网站，每天超过3千万张照片被分享，全部用python开发\n",
    "+ Facebook:大量的基础库均通过Python实现的\n",
    "+ Redhat: 世界上最流行的Linux发行版本中的yum包管理工具就是用python开发的\n",
    "+ 豆瓣: 公司几乎所有的业务均是通过Python开发的\n",
    "+ 知乎: 国内最大的问答社区，通过Python开发(国外Quora)\n",
    "+ 春雨医生：国内知名的在线医疗网站是用Python开发的\n",
    "除上面之外，还有搜狐、金山、腾讯、盛大、网易、百度、阿里、淘宝 、土豆、新浪、果壳等公司都在使用Python完成各种各样的任务"
   ]
  }
 ],
 "metadata": {
  "kernelspec": {
   "display_name": "Python 3",
   "language": "python",
   "name": "python3"
  },
  "language_info": {
   "codemirror_mode": {
    "name": "ipython",
    "version": 3
   },
   "file_extension": ".py",
   "mimetype": "text/x-python",
   "name": "python",
   "nbconvert_exporter": "python",
   "pygments_lexer": "ipython3",
   "version": "3.6.5"
  }
 },
 "nbformat": 4,
 "nbformat_minor": 2
}
