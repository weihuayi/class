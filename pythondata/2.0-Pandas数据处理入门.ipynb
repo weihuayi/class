{
 "cells": [
  {
   "cell_type": "markdown",
   "metadata": {},
   "source": [
    "# Pandas 数据处理入门"
   ]
  },
  {
   "cell_type": "markdown",
   "metadata": {},
   "source": [
    "**注：**  拿到一个新软件包，如何入手学习呢？\n",
    "1. 这个软件包的核心数据结构是什么？\n",
    "1. 这个软件包的核心算法是什么？"
   ]
  },
  {
   "cell_type": "markdown",
   "metadata": {},
   "source": [
    "Pandas 是建立在 Numpy 基础之上建立的新程序库，核心提供了一种高效的 DataFrame 数据结构。"
   ]
  },
  {
   "cell_type": "markdown",
   "metadata": {},
   "source": [
    "## Pandas 中的对象简介"
   ]
  },
  {
   "cell_type": "code",
   "execution_count": 2,
   "metadata": {},
   "outputs": [],
   "source": [
    "import numpy as np\n",
    "import pandas as pd"
   ]
  },
  {
   "cell_type": "markdown",
   "metadata": {},
   "source": [
    "*  `pd.Series` 对象\n",
    "*  `pd.DataFrame` 对象\n",
    "*  `pd.Index` 对象"
   ]
  },
  {
   "cell_type": "markdown",
   "metadata": {},
   "source": [
    "## Series 对象"
   ]
  },
  {
   "cell_type": "markdown",
   "metadata": {},
   "source": [
    "Series 对象是一个**带索引数据**构成的**一维数组**, 它除了存储数据外，还**显式**地把**索引**也存储下来！\n",
    "\n",
    "Numpy 数据用的是**隐式**的索引！"
   ]
  },
  {
   "cell_type": "code",
   "execution_count": 2,
   "metadata": {},
   "outputs": [
    {
     "data": {
      "text/plain": [
       "0    0.25\n",
       "1    0.50\n",
       "2    0.75\n",
       "3    1.00\n",
       "dtype: float64"
      ]
     },
     "execution_count": 2,
     "metadata": {},
     "output_type": "execute_result"
    }
   ],
   "source": [
    "data = pd.Series([0.25, 0.5, 0.75, 1.0])\n",
    "data"
   ]
  },
  {
   "cell_type": "markdown",
   "metadata": {},
   "source": [
    "Series 对象有两个基本属性 \n",
    "\n",
    "* `values`\n",
    "* `index`"
   ]
  },
  {
   "cell_type": "code",
   "execution_count": 3,
   "metadata": {},
   "outputs": [
    {
     "data": {
      "text/plain": [
       "array([0.25, 0.5 , 0.75, 1.  ])"
      ]
     },
     "execution_count": 3,
     "metadata": {},
     "output_type": "execute_result"
    }
   ],
   "source": [
    "data.values"
   ]
  },
  {
   "cell_type": "code",
   "execution_count": 4,
   "metadata": {},
   "outputs": [
    {
     "data": {
      "text/plain": [
       "RangeIndex(start=0, stop=4, step=1)"
      ]
     },
     "execution_count": 4,
     "metadata": {},
     "output_type": "execute_result"
    }
   ],
   "source": [
    "data.index"
   ]
  },
  {
   "cell_type": "markdown",
   "metadata": {},
   "source": [
    " 用户可以用与 Numpy 数组类似的索引方式索引"
   ]
  },
  {
   "cell_type": "code",
   "execution_count": 5,
   "metadata": {},
   "outputs": [
    {
     "data": {
      "text/plain": [
       "0.25"
      ]
     },
     "execution_count": 5,
     "metadata": {},
     "output_type": "execute_result"
    }
   ],
   "source": [
    "data[0]"
   ]
  },
  {
   "cell_type": "code",
   "execution_count": 6,
   "metadata": {},
   "outputs": [
    {
     "data": {
      "text/plain": [
       "0    0.25\n",
       "1    0.50\n",
       "dtype: float64"
      ]
     },
     "execution_count": 6,
     "metadata": {},
     "output_type": "execute_result"
    }
   ],
   "source": [
    "data[0:2]"
   ]
  },
  {
   "cell_type": "markdown",
   "metadata": {},
   "source": [
    "**思考：** Series 把索引也保存下来，不是多此一举吗？\n",
    "\n",
    "1) Series 是通用的 Numpy 一维数组， 但比 Numpy 更加灵活。\n",
    "\n",
    "2) Series 是一种特殊的 Python 字典， 但比 Python 字典更加高效。"
   ]
  },
  {
   "cell_type": "markdown",
   "metadata": {},
   "source": [
    "###  Series 是通用的 Numpy 一维数组， 但比 Numpy 更加灵活"
   ]
  },
  {
   "cell_type": "code",
   "execution_count": 7,
   "metadata": {},
   "outputs": [
    {
     "data": {
      "text/plain": [
       "a    0.25\n",
       "b    0.50\n",
       "c    0.75\n",
       "d    1.00\n",
       "dtype: float64"
      ]
     },
     "execution_count": 7,
     "metadata": {},
     "output_type": "execute_result"
    }
   ],
   "source": [
    "data = pd.Series([0.25, 0.5, 0.75, 1.0], index=['a', 'b', 'c', 'd'])\n",
    "data"
   ]
  },
  {
   "cell_type": "code",
   "execution_count": 8,
   "metadata": {},
   "outputs": [
    {
     "data": {
      "text/plain": [
       "0.5"
      ]
     },
     "execution_count": 8,
     "metadata": {},
     "output_type": "execute_result"
    }
   ],
   "source": [
    "data['a']\n",
    "data['b']"
   ]
  },
  {
   "cell_type": "code",
   "execution_count": 9,
   "metadata": {},
   "outputs": [
    {
     "data": {
      "text/plain": [
       "2    0.25\n",
       "5    0.50\n",
       "3    0.75\n",
       "7    1.00\n",
       "dtype: float64"
      ]
     },
     "execution_count": 9,
     "metadata": {},
     "output_type": "execute_result"
    }
   ],
   "source": [
    "data = pd.Series([0.25, 0.5, 0.75, 1.0],\n",
    "                 index=[2, 5, 3, 7])\n",
    "data"
   ]
  },
  {
   "cell_type": "markdown",
   "metadata": {},
   "source": [
    "### Series 是一种特殊的 Python 字典， 但比 Python 字典更加高效"
   ]
  },
  {
   "cell_type": "code",
   "execution_count": 10,
   "metadata": {},
   "outputs": [
    {
     "data": {
      "text/plain": [
       "Beijing      38332521\n",
       "Henan        26448193\n",
       "Hunan        19651127\n",
       "Guangdong    19552860\n",
       "dtype: int64"
      ]
     },
     "execution_count": 10,
     "metadata": {},
     "output_type": "execute_result"
    }
   ],
   "source": [
    "population_dict = {'Beijing': 38332521,\n",
    "                   'Henan': 26448193,\n",
    "                   'Hunan': 19651127,\n",
    "                   'Guangdong': 19552860}\n",
    "population = pd.Series(population_dict)\n",
    "population"
   ]
  },
  {
   "cell_type": "code",
   "execution_count": 11,
   "metadata": {},
   "outputs": [
    {
     "data": {
      "text/plain": [
       "38332521"
      ]
     },
     "execution_count": 11,
     "metadata": {},
     "output_type": "execute_result"
    }
   ],
   "source": [
    "population['Beijing']"
   ]
  },
  {
   "cell_type": "code",
   "execution_count": 12,
   "metadata": {},
   "outputs": [
    {
     "data": {
      "text/plain": [
       "Beijing      38332521\n",
       "Henan        26448193\n",
       "Hunan        19651127\n",
       "Guangdong    19552860\n",
       "dtype: int64"
      ]
     },
     "execution_count": 12,
     "metadata": {},
     "output_type": "execute_result"
    }
   ],
   "source": [
    "population['Beijing':'Guangdong']"
   ]
  },
  {
   "cell_type": "markdown",
   "metadata": {},
   "source": [
    "3) Series 对象的创建"
   ]
  },
  {
   "cell_type": "code",
   "execution_count": 13,
   "metadata": {},
   "outputs": [
    {
     "data": {
      "text/plain": [
       "0    2\n",
       "1    4\n",
       "2    6\n",
       "dtype: int64"
      ]
     },
     "execution_count": 13,
     "metadata": {},
     "output_type": "execute_result"
    }
   ],
   "source": [
    "pd.Series([2, 4, 6])"
   ]
  },
  {
   "cell_type": "code",
   "execution_count": 14,
   "metadata": {},
   "outputs": [
    {
     "data": {
      "text/plain": [
       "100    5\n",
       "200    5\n",
       "300    5\n",
       "dtype: int64"
      ]
     },
     "execution_count": 14,
     "metadata": {},
     "output_type": "execute_result"
    }
   ],
   "source": [
    "pd.Series(5, index=[100, 200, 300])"
   ]
  },
  {
   "cell_type": "code",
   "execution_count": 15,
   "metadata": {},
   "outputs": [
    {
     "data": {
      "text/plain": [
       "2    a\n",
       "1    b\n",
       "3    c\n",
       "dtype: object"
      ]
     },
     "execution_count": 15,
     "metadata": {},
     "output_type": "execute_result"
    }
   ],
   "source": [
    "pd.Series({2:'a', 1:'b', 3:'c'})"
   ]
  },
  {
   "cell_type": "markdown",
   "metadata": {},
   "source": [
    "用 `index` 参数来筛选字典中的键值对，即选择字典中的一部分元素来构建 Series 对象 。"
   ]
  },
  {
   "cell_type": "code",
   "execution_count": 16,
   "metadata": {},
   "outputs": [
    {
     "data": {
      "text/plain": [
       "3    c\n",
       "2    a\n",
       "dtype: object"
      ]
     },
     "execution_count": 16,
     "metadata": {},
     "output_type": "execute_result"
    }
   ],
   "source": [
    "pd.Series({2:'a', 1:'b', 3:'c'}, index=[3, 2])"
   ]
  },
  {
   "cell_type": "markdown",
   "metadata": {},
   "source": [
    "### Series 数据的选择方法 "
   ]
  },
  {
   "cell_type": "code",
   "execution_count": 17,
   "metadata": {},
   "outputs": [
    {
     "data": {
      "text/plain": [
       "a    0.25\n",
       "b    0.50\n",
       "c    0.75\n",
       "d    1.00\n",
       "dtype: float64"
      ]
     },
     "execution_count": 17,
     "metadata": {},
     "output_type": "execute_result"
    }
   ],
   "source": [
    "import pandas as pd\n",
    "data = pd.Series([0.25, 0.5, 0.75, 1.0], index=['a', 'b', 'c', 'd'])\n",
    "data"
   ]
  },
  {
   "cell_type": "markdown",
   "metadata": {},
   "source": [
    "**1) 将 Series 看作字典**"
   ]
  },
  {
   "cell_type": "code",
   "execution_count": 18,
   "metadata": {},
   "outputs": [
    {
     "data": {
      "text/plain": [
       "0.5"
      ]
     },
     "execution_count": 18,
     "metadata": {},
     "output_type": "execute_result"
    }
   ],
   "source": [
    "data['b']"
   ]
  },
  {
   "cell_type": "code",
   "execution_count": 19,
   "metadata": {},
   "outputs": [
    {
     "data": {
      "text/plain": [
       "True"
      ]
     },
     "execution_count": 19,
     "metadata": {},
     "output_type": "execute_result"
    }
   ],
   "source": [
    "'a' in data"
   ]
  },
  {
   "cell_type": "code",
   "execution_count": 20,
   "metadata": {},
   "outputs": [
    {
     "data": {
      "text/plain": [
       "Index(['a', 'b', 'c', 'd'], dtype='object')"
      ]
     },
     "execution_count": 20,
     "metadata": {},
     "output_type": "execute_result"
    }
   ],
   "source": [
    "data.keys()"
   ]
  },
  {
   "cell_type": "code",
   "execution_count": 21,
   "metadata": {},
   "outputs": [
    {
     "data": {
      "text/plain": [
       "[('a', 0.25), ('b', 0.5), ('c', 0.75), ('d', 1.0)]"
      ]
     },
     "execution_count": 21,
     "metadata": {},
     "output_type": "execute_result"
    }
   ],
   "source": [
    "list(data.items())"
   ]
  },
  {
   "cell_type": "code",
   "execution_count": 22,
   "metadata": {},
   "outputs": [
    {
     "data": {
      "text/plain": [
       "a    0.25\n",
       "b    0.50\n",
       "c    0.75\n",
       "d    1.00\n",
       "e    1.25\n",
       "dtype: float64"
      ]
     },
     "execution_count": 22,
     "metadata": {},
     "output_type": "execute_result"
    }
   ],
   "source": [
    "data['e'] = 1.25\n",
    "data"
   ]
  },
  {
   "cell_type": "markdown",
   "metadata": {},
   "source": [
    "**2) 将 Series 看作一维数组**"
   ]
  },
  {
   "cell_type": "code",
   "execution_count": 23,
   "metadata": {},
   "outputs": [
    {
     "data": {
      "text/plain": [
       "a    0.25\n",
       "b    0.50\n",
       "c    0.75\n",
       "dtype: float64"
      ]
     },
     "execution_count": 23,
     "metadata": {},
     "output_type": "execute_result"
    }
   ],
   "source": [
    "data['a':'c'] # 显式索引做为切片"
   ]
  },
  {
   "cell_type": "code",
   "execution_count": 24,
   "metadata": {},
   "outputs": [
    {
     "data": {
      "text/plain": [
       "a    0.25\n",
       "b    0.50\n",
       "dtype: float64"
      ]
     },
     "execution_count": 24,
     "metadata": {},
     "output_type": "execute_result"
    }
   ],
   "source": [
    "data[0:2] # 隐式索引做为切片"
   ]
  },
  {
   "cell_type": "code",
   "execution_count": 25,
   "metadata": {},
   "outputs": [
    {
     "data": {
      "text/plain": [
       "a    0.25\n",
       "b    0.50\n",
       "c    0.75\n",
       "d    1.00\n",
       "e    1.25\n",
       "dtype: float64"
      ]
     },
     "execution_count": 25,
     "metadata": {},
     "output_type": "execute_result"
    }
   ],
   "source": [
    "data"
   ]
  },
  {
   "cell_type": "code",
   "execution_count": 26,
   "metadata": {},
   "outputs": [
    {
     "data": {
      "text/plain": [
       "b    0.5\n",
       "dtype: float64"
      ]
     },
     "execution_count": 26,
     "metadata": {},
     "output_type": "execute_result"
    }
   ],
   "source": [
    "data[(data > 0.3) & (data <= 0.5)] # 布尔索引(或者叫掩码)"
   ]
  },
  {
   "cell_type": "code",
   "execution_count": 27,
   "metadata": {},
   "outputs": [
    {
     "data": {
      "text/plain": [
       "a    0.25\n",
       "e    1.25\n",
       "dtype: float64"
      ]
     },
     "execution_count": 27,
     "metadata": {},
     "output_type": "execute_result"
    }
   ],
   "source": [
    "data[['a', 'e']] # 花哨索引(francy indexing)"
   ]
  },
  {
   "cell_type": "markdown",
   "metadata": {},
   "source": [
    "**注意：**\n",
    "\n",
    "1. 什么是显式索引？\n",
    "1. 什么是隐式索引？\n",
    "1. 什么情况下会出现混乱? 用**整数形式**的**显式索引**的时候！"
   ]
  },
  {
   "cell_type": "code",
   "execution_count": 28,
   "metadata": {},
   "outputs": [
    {
     "data": {
      "text/plain": [
       "1    a\n",
       "3    b\n",
       "5    c\n",
       "dtype: object"
      ]
     },
     "execution_count": 28,
     "metadata": {},
     "output_type": "execute_result"
    }
   ],
   "source": [
    "data = pd.Series(['a', 'b', 'c'], index=[1, 3, 5])\n",
    "data"
   ]
  },
  {
   "cell_type": "code",
   "execution_count": 29,
   "metadata": {},
   "outputs": [
    {
     "data": {
      "text/plain": [
       "'a'"
      ]
     },
     "execution_count": 29,
     "metadata": {},
     "output_type": "execute_result"
    }
   ],
   "source": [
    "data[1] # 显式索引"
   ]
  },
  {
   "cell_type": "code",
   "execution_count": 30,
   "metadata": {},
   "outputs": [
    {
     "data": {
      "text/plain": [
       "3    b\n",
       "5    c\n",
       "dtype: object"
      ]
     },
     "execution_count": 30,
     "metadata": {},
     "output_type": "execute_result"
    }
   ],
   "source": [
    "data[1:3] # 隐式索引"
   ]
  },
  {
   "cell_type": "markdown",
   "metadata": {},
   "source": [
    "**3) 索引器**"
   ]
  },
  {
   "cell_type": "markdown",
   "metadata": {},
   "source": [
    "Series 有三个**索引器**属性来解决上面的混乱。"
   ]
  },
  {
   "cell_type": "markdown",
   "metadata": {},
   "source": [
    "* Series.loc， 表示取值和切片都是显式的"
   ]
  },
  {
   "cell_type": "code",
   "execution_count": 31,
   "metadata": {},
   "outputs": [
    {
     "data": {
      "text/plain": [
       "1    a\n",
       "3    b\n",
       "5    c\n",
       "dtype: object"
      ]
     },
     "execution_count": 31,
     "metadata": {},
     "output_type": "execute_result"
    }
   ],
   "source": [
    "data"
   ]
  },
  {
   "cell_type": "code",
   "execution_count": 32,
   "metadata": {},
   "outputs": [
    {
     "data": {
      "text/plain": [
       "'a'"
      ]
     },
     "execution_count": 32,
     "metadata": {},
     "output_type": "execute_result"
    }
   ],
   "source": [
    "data.loc[1]"
   ]
  },
  {
   "cell_type": "code",
   "execution_count": 33,
   "metadata": {},
   "outputs": [
    {
     "data": {
      "text/plain": [
       "1    a\n",
       "3    b\n",
       "dtype: object"
      ]
     },
     "execution_count": 33,
     "metadata": {},
     "output_type": "execute_result"
    }
   ],
   "source": [
    "data.loc[1:3]"
   ]
  },
  {
   "cell_type": "markdown",
   "metadata": {},
   "source": [
    "* Series.iloc， 表示取值和切片都是 Python 形式的隐式索引，即从 0 开始， 左闭右开区间!"
   ]
  },
  {
   "cell_type": "code",
   "execution_count": 34,
   "metadata": {},
   "outputs": [
    {
     "data": {
      "text/plain": [
       "1    a\n",
       "3    b\n",
       "5    c\n",
       "dtype: object"
      ]
     },
     "execution_count": 34,
     "metadata": {},
     "output_type": "execute_result"
    }
   ],
   "source": [
    "data"
   ]
  },
  {
   "cell_type": "code",
   "execution_count": 35,
   "metadata": {},
   "outputs": [
    {
     "data": {
      "text/plain": [
       "'b'"
      ]
     },
     "execution_count": 35,
     "metadata": {},
     "output_type": "execute_result"
    }
   ],
   "source": [
    "data.iloc[1]"
   ]
  },
  {
   "cell_type": "code",
   "execution_count": 36,
   "metadata": {},
   "outputs": [
    {
     "data": {
      "text/plain": [
       "3    b\n",
       "5    c\n",
       "dtype: object"
      ]
     },
     "execution_count": 36,
     "metadata": {},
     "output_type": "execute_result"
    }
   ],
   "source": [
    "data.iloc[1:3]"
   ]
  },
  {
   "cell_type": "markdown",
   "metadata": {},
   "source": [
    "* Series.ix，混合索引形式， 特价于中括号索引 `data[]`。"
   ]
  },
  {
   "cell_type": "markdown",
   "metadata": {},
   "source": [
    "## DataFrame 对象"
   ]
  },
  {
   "cell_type": "markdown",
   "metadata": {},
   "source": [
    "DataFrame 对象是 Pandas 另一个基础的数据结构。"
   ]
  },
  {
   "cell_type": "markdown",
   "metadata": {},
   "source": [
    "### 一个通用的 Numpy 二维数组，但比 Numpy 数组更加灵活，带有灵活的**行索引**，又有**列名**。"
   ]
  },
  {
   "cell_type": "code",
   "execution_count": 3,
   "metadata": {},
   "outputs": [
    {
     "data": {
      "text/plain": [
       "Beijing       16410.54\n",
       "Henan        167000.00\n",
       "Hunan        211800.00\n",
       "Guangdong    179770.00\n",
       "dtype: float64"
      ]
     },
     "execution_count": 3,
     "metadata": {},
     "output_type": "execute_result"
    }
   ],
   "source": [
    "area_dict = {'Beijing': 16410.54,\n",
    "             'Henan':167000, \n",
    "             'Hunan':211800, \n",
    "             'Guangdong':179770} # 平方千米\n",
    "area = pd.Series(area_dict)\n",
    "area"
   ]
  },
  {
   "cell_type": "code",
   "execution_count": 4,
   "metadata": {},
   "outputs": [
    {
     "data": {
      "text/plain": [
       "Beijing      3.03\n",
       "Henan        4.80\n",
       "Hunan        3.64\n",
       "Guangdong    9.73\n",
       "dtype: float64"
      ]
     },
     "execution_count": 4,
     "metadata": {},
     "output_type": "execute_result"
    }
   ],
   "source": [
    "gdp_dict = {'Beijing': 3.03,\n",
    "            'Henan':4.8, \n",
    "            'Hunan':3.64, \n",
    "            'Guangdong':9.73} # 万亿元\n",
    "gdp = pd.Series(gdp_dict)\n",
    "gdp"
   ]
  },
  {
   "cell_type": "code",
   "execution_count": 5,
   "metadata": {},
   "outputs": [
    {
     "data": {
      "text/html": [
       "<div>\n",
       "<style scoped>\n",
       "    .dataframe tbody tr th:only-of-type {\n",
       "        vertical-align: middle;\n",
       "    }\n",
       "\n",
       "    .dataframe tbody tr th {\n",
       "        vertical-align: top;\n",
       "    }\n",
       "\n",
       "    .dataframe thead th {\n",
       "        text-align: right;\n",
       "    }\n",
       "</style>\n",
       "<table border=\"1\" class=\"dataframe\">\n",
       "  <thead>\n",
       "    <tr style=\"text-align: right;\">\n",
       "      <th></th>\n",
       "      <th>GDP</th>\n",
       "      <th>area</th>\n",
       "    </tr>\n",
       "  </thead>\n",
       "  <tbody>\n",
       "    <tr>\n",
       "      <th>Beijing</th>\n",
       "      <td>3.03</td>\n",
       "      <td>16410.54</td>\n",
       "    </tr>\n",
       "    <tr>\n",
       "      <th>Henan</th>\n",
       "      <td>4.80</td>\n",
       "      <td>167000.00</td>\n",
       "    </tr>\n",
       "    <tr>\n",
       "      <th>Hunan</th>\n",
       "      <td>3.64</td>\n",
       "      <td>211800.00</td>\n",
       "    </tr>\n",
       "    <tr>\n",
       "      <th>Guangdong</th>\n",
       "      <td>9.73</td>\n",
       "      <td>179770.00</td>\n",
       "    </tr>\n",
       "  </tbody>\n",
       "</table>\n",
       "</div>"
      ],
      "text/plain": [
       "            GDP       area\n",
       "Beijing    3.03   16410.54\n",
       "Henan      4.80  167000.00\n",
       "Hunan      3.64  211800.00\n",
       "Guangdong  9.73  179770.00"
      ]
     },
     "execution_count": 5,
     "metadata": {},
     "output_type": "execute_result"
    }
   ],
   "source": [
    "data = pd.DataFrame({\"GDP\":gdp, \"area\":area})\n",
    "data"
   ]
  },
  {
   "cell_type": "markdown",
   "metadata": {},
   "source": [
    "**属性：**\n",
    "1. `index`: 存储行标签\n",
    "1. `columns`: 存储列标签"
   ]
  },
  {
   "cell_type": "code",
   "execution_count": 40,
   "metadata": {},
   "outputs": [
    {
     "data": {
      "text/plain": [
       "array([[3.030000e+00, 1.641054e+04],\n",
       "       [4.800000e+00, 1.670000e+05],\n",
       "       [3.640000e+00, 2.118000e+05],\n",
       "       [9.730000e+00, 1.797700e+05]])"
      ]
     },
     "execution_count": 40,
     "metadata": {},
     "output_type": "execute_result"
    }
   ],
   "source": [
    "data.values"
   ]
  },
  {
   "cell_type": "code",
   "execution_count": 41,
   "metadata": {},
   "outputs": [
    {
     "data": {
      "text/plain": [
       "Index(['Beijing', 'Henan', 'Hunan', 'Guangdong'], dtype='object')"
      ]
     },
     "execution_count": 41,
     "metadata": {},
     "output_type": "execute_result"
    }
   ],
   "source": [
    "data.index"
   ]
  },
  {
   "cell_type": "code",
   "execution_count": 42,
   "metadata": {},
   "outputs": [
    {
     "data": {
      "text/plain": [
       "Index(['GDP', 'area'], dtype='object')"
      ]
     },
     "execution_count": 42,
     "metadata": {},
     "output_type": "execute_result"
    }
   ],
   "source": [
    "data.columns"
   ]
  },
  {
   "cell_type": "markdown",
   "metadata": {},
   "source": [
    "### 它是一个特殊的 Python 字典, 但比 Python 字典更加高效"
   ]
  },
  {
   "cell_type": "code",
   "execution_count": 7,
   "metadata": {},
   "outputs": [
    {
     "data": {
      "text/plain": [
       "16410.54"
      ]
     },
     "execution_count": 7,
     "metadata": {},
     "output_type": "execute_result"
    }
   ],
   "source": [
    "data['area']['Beijing']"
   ]
  },
  {
   "cell_type": "code",
   "execution_count": 44,
   "metadata": {},
   "outputs": [
    {
     "data": {
      "text/plain": [
       "Beijing      3.03\n",
       "Henan        4.80\n",
       "Hunan        3.64\n",
       "Guangdong    9.73\n",
       "Name: GDP, dtype: float64"
      ]
     },
     "execution_count": 44,
     "metadata": {},
     "output_type": "execute_result"
    }
   ],
   "source": [
    "data['GDP']"
   ]
  },
  {
   "cell_type": "markdown",
   "metadata": {},
   "source": [
    "### DataFrame 对象的创建"
   ]
  },
  {
   "cell_type": "markdown",
   "metadata": {},
   "source": [
    "(1) 通过单个 Series 对象创建"
   ]
  },
  {
   "cell_type": "code",
   "execution_count": 45,
   "metadata": {},
   "outputs": [
    {
     "data": {
      "text/html": [
       "<div>\n",
       "<style scoped>\n",
       "    .dataframe tbody tr th:only-of-type {\n",
       "        vertical-align: middle;\n",
       "    }\n",
       "\n",
       "    .dataframe tbody tr th {\n",
       "        vertical-align: top;\n",
       "    }\n",
       "\n",
       "    .dataframe thead th {\n",
       "        text-align: right;\n",
       "    }\n",
       "</style>\n",
       "<table border=\"1\" class=\"dataframe\">\n",
       "  <thead>\n",
       "    <tr style=\"text-align: right;\">\n",
       "      <th></th>\n",
       "      <th>area</th>\n",
       "    </tr>\n",
       "  </thead>\n",
       "  <tbody>\n",
       "    <tr>\n",
       "      <td>Beijing</td>\n",
       "      <td>16410.54</td>\n",
       "    </tr>\n",
       "    <tr>\n",
       "      <td>Henan</td>\n",
       "      <td>167000.00</td>\n",
       "    </tr>\n",
       "    <tr>\n",
       "      <td>Hunan</td>\n",
       "      <td>211800.00</td>\n",
       "    </tr>\n",
       "    <tr>\n",
       "      <td>Guangdong</td>\n",
       "      <td>179770.00</td>\n",
       "    </tr>\n",
       "  </tbody>\n",
       "</table>\n",
       "</div>"
      ],
      "text/plain": [
       "                area\n",
       "Beijing     16410.54\n",
       "Henan      167000.00\n",
       "Hunan      211800.00\n",
       "Guangdong  179770.00"
      ]
     },
     "execution_count": 45,
     "metadata": {},
     "output_type": "execute_result"
    }
   ],
   "source": [
    "pd.DataFrame(area, columns=['area'])"
   ]
  },
  {
   "cell_type": "markdown",
   "metadata": {},
   "source": [
    "(2) 通过字典列表创建"
   ]
  },
  {
   "cell_type": "code",
   "execution_count": 46,
   "metadata": {},
   "outputs": [
    {
     "data": {
      "text/plain": [
       "[{'a': 0, 'b': 0}, {'a': 1, 'b': 2}, {'a': 2, 'b': 4}]"
      ]
     },
     "execution_count": 46,
     "metadata": {},
     "output_type": "execute_result"
    }
   ],
   "source": [
    "data = [{'a': i, 'b': 2*i} for i in range(3)]\n",
    "data"
   ]
  },
  {
   "cell_type": "code",
   "execution_count": 47,
   "metadata": {},
   "outputs": [
    {
     "data": {
      "text/html": [
       "<div>\n",
       "<style scoped>\n",
       "    .dataframe tbody tr th:only-of-type {\n",
       "        vertical-align: middle;\n",
       "    }\n",
       "\n",
       "    .dataframe tbody tr th {\n",
       "        vertical-align: top;\n",
       "    }\n",
       "\n",
       "    .dataframe thead th {\n",
       "        text-align: right;\n",
       "    }\n",
       "</style>\n",
       "<table border=\"1\" class=\"dataframe\">\n",
       "  <thead>\n",
       "    <tr style=\"text-align: right;\">\n",
       "      <th></th>\n",
       "      <th>a</th>\n",
       "      <th>b</th>\n",
       "    </tr>\n",
       "  </thead>\n",
       "  <tbody>\n",
       "    <tr>\n",
       "      <td>A</td>\n",
       "      <td>0</td>\n",
       "      <td>0</td>\n",
       "    </tr>\n",
       "    <tr>\n",
       "      <td>B</td>\n",
       "      <td>1</td>\n",
       "      <td>2</td>\n",
       "    </tr>\n",
       "    <tr>\n",
       "      <td>C</td>\n",
       "      <td>2</td>\n",
       "      <td>4</td>\n",
       "    </tr>\n",
       "  </tbody>\n",
       "</table>\n",
       "</div>"
      ],
      "text/plain": [
       "   a  b\n",
       "A  0  0\n",
       "B  1  2\n",
       "C  2  4"
      ]
     },
     "execution_count": 47,
     "metadata": {},
     "output_type": "execute_result"
    }
   ],
   "source": [
    "pd.DataFrame(data, index=['A', 'B', 'C'])"
   ]
  },
  {
   "cell_type": "markdown",
   "metadata": {},
   "source": [
    "(3) 通过 Series 对象字典创建"
   ]
  },
  {
   "cell_type": "code",
   "execution_count": 48,
   "metadata": {},
   "outputs": [
    {
     "data": {
      "text/html": [
       "<div>\n",
       "<style scoped>\n",
       "    .dataframe tbody tr th:only-of-type {\n",
       "        vertical-align: middle;\n",
       "    }\n",
       "\n",
       "    .dataframe tbody tr th {\n",
       "        vertical-align: top;\n",
       "    }\n",
       "\n",
       "    .dataframe thead th {\n",
       "        text-align: right;\n",
       "    }\n",
       "</style>\n",
       "<table border=\"1\" class=\"dataframe\">\n",
       "  <thead>\n",
       "    <tr style=\"text-align: right;\">\n",
       "      <th></th>\n",
       "      <th>GDP</th>\n",
       "      <th>area</th>\n",
       "    </tr>\n",
       "  </thead>\n",
       "  <tbody>\n",
       "    <tr>\n",
       "      <td>Beijing</td>\n",
       "      <td>3.03</td>\n",
       "      <td>16410.54</td>\n",
       "    </tr>\n",
       "    <tr>\n",
       "      <td>Henan</td>\n",
       "      <td>4.80</td>\n",
       "      <td>167000.00</td>\n",
       "    </tr>\n",
       "    <tr>\n",
       "      <td>Hunan</td>\n",
       "      <td>3.64</td>\n",
       "      <td>211800.00</td>\n",
       "    </tr>\n",
       "    <tr>\n",
       "      <td>Guangdong</td>\n",
       "      <td>9.73</td>\n",
       "      <td>179770.00</td>\n",
       "    </tr>\n",
       "  </tbody>\n",
       "</table>\n",
       "</div>"
      ],
      "text/plain": [
       "            GDP       area\n",
       "Beijing    3.03   16410.54\n",
       "Henan      4.80  167000.00\n",
       "Hunan      3.64  211800.00\n",
       "Guangdong  9.73  179770.00"
      ]
     },
     "execution_count": 48,
     "metadata": {},
     "output_type": "execute_result"
    }
   ],
   "source": [
    "pd.DataFrame({'GDP': gdp, 'area': area})"
   ]
  },
  {
   "cell_type": "markdown",
   "metadata": {},
   "source": [
    "(3) 通过 Numpy 二维数组创建"
   ]
  },
  {
   "cell_type": "code",
   "execution_count": 49,
   "metadata": {},
   "outputs": [
    {
     "data": {
      "text/html": [
       "<div>\n",
       "<style scoped>\n",
       "    .dataframe tbody tr th:only-of-type {\n",
       "        vertical-align: middle;\n",
       "    }\n",
       "\n",
       "    .dataframe tbody tr th {\n",
       "        vertical-align: top;\n",
       "    }\n",
       "\n",
       "    .dataframe thead th {\n",
       "        text-align: right;\n",
       "    }\n",
       "</style>\n",
       "<table border=\"1\" class=\"dataframe\">\n",
       "  <thead>\n",
       "    <tr style=\"text-align: right;\">\n",
       "      <th></th>\n",
       "      <th>foo</th>\n",
       "      <th>bar</th>\n",
       "    </tr>\n",
       "  </thead>\n",
       "  <tbody>\n",
       "    <tr>\n",
       "      <td>a</td>\n",
       "      <td>0.405863</td>\n",
       "      <td>0.576527</td>\n",
       "    </tr>\n",
       "    <tr>\n",
       "      <td>b</td>\n",
       "      <td>0.925586</td>\n",
       "      <td>0.104607</td>\n",
       "    </tr>\n",
       "    <tr>\n",
       "      <td>c</td>\n",
       "      <td>0.497548</td>\n",
       "      <td>0.281248</td>\n",
       "    </tr>\n",
       "  </tbody>\n",
       "</table>\n",
       "</div>"
      ],
      "text/plain": [
       "        foo       bar\n",
       "a  0.405863  0.576527\n",
       "b  0.925586  0.104607\n",
       "c  0.497548  0.281248"
      ]
     },
     "execution_count": 49,
     "metadata": {},
     "output_type": "execute_result"
    }
   ],
   "source": [
    "pd.DataFrame(np.random.rand(3, 2), \n",
    "             columns=['foo', 'bar'], \n",
    "             index=['a', 'b', 'c'])"
   ]
  },
  {
   "cell_type": "markdown",
   "metadata": {},
   "source": [
    "### DataFrame 对象的数据选择方法 "
   ]
  },
  {
   "cell_type": "markdown",
   "metadata": {},
   "source": [
    "(1) 将 DataFrame 看作字典"
   ]
  },
  {
   "cell_type": "code",
   "execution_count": 50,
   "metadata": {},
   "outputs": [
    {
     "data": {
      "text/plain": [
       "Beijing       16410.54\n",
       "Henan        167000.00\n",
       "Hunan        211800.00\n",
       "Guangdong    179770.00\n",
       "dtype: float64"
      ]
     },
     "execution_count": 50,
     "metadata": {},
     "output_type": "execute_result"
    }
   ],
   "source": [
    "area = pd.Series( {'Beijing': 16410.54,\n",
    "                   'Henan':167000, \n",
    "                   'Hunan':211800, \n",
    "                   'Guangdong':179770})# 平方千米\n",
    "area"
   ]
  },
  {
   "cell_type": "code",
   "execution_count": 51,
   "metadata": {},
   "outputs": [
    {
     "data": {
      "text/plain": [
       "Beijing      3.03\n",
       "Henan        4.80\n",
       "Hunan        3.64\n",
       "Guangdong    9.73\n",
       "dtype: float64"
      ]
     },
     "execution_count": 51,
     "metadata": {},
     "output_type": "execute_result"
    }
   ],
   "source": [
    "gdp = pd.Series({'Beijing': 3.03, \n",
    "                 'Henan':4.8,\n",
    "                 'Hunan':3.64, \n",
    "                 'Guangdong':9.73})# 万亿元\n",
    "gdp"
   ]
  },
  {
   "cell_type": "code",
   "execution_count": 52,
   "metadata": {},
   "outputs": [
    {
     "data": {
      "text/html": [
       "<div>\n",
       "<style scoped>\n",
       "    .dataframe tbody tr th:only-of-type {\n",
       "        vertical-align: middle;\n",
       "    }\n",
       "\n",
       "    .dataframe tbody tr th {\n",
       "        vertical-align: top;\n",
       "    }\n",
       "\n",
       "    .dataframe thead th {\n",
       "        text-align: right;\n",
       "    }\n",
       "</style>\n",
       "<table border=\"1\" class=\"dataframe\">\n",
       "  <thead>\n",
       "    <tr style=\"text-align: right;\">\n",
       "      <th></th>\n",
       "      <th>area</th>\n",
       "      <th>GDP</th>\n",
       "    </tr>\n",
       "  </thead>\n",
       "  <tbody>\n",
       "    <tr>\n",
       "      <td>Beijing</td>\n",
       "      <td>16410.54</td>\n",
       "      <td>3.03</td>\n",
       "    </tr>\n",
       "    <tr>\n",
       "      <td>Henan</td>\n",
       "      <td>167000.00</td>\n",
       "      <td>4.80</td>\n",
       "    </tr>\n",
       "    <tr>\n",
       "      <td>Hunan</td>\n",
       "      <td>211800.00</td>\n",
       "      <td>3.64</td>\n",
       "    </tr>\n",
       "    <tr>\n",
       "      <td>Guangdong</td>\n",
       "      <td>179770.00</td>\n",
       "      <td>9.73</td>\n",
       "    </tr>\n",
       "  </tbody>\n",
       "</table>\n",
       "</div>"
      ],
      "text/plain": [
       "                area   GDP\n",
       "Beijing     16410.54  3.03\n",
       "Henan      167000.00  4.80\n",
       "Hunan      211800.00  3.64\n",
       "Guangdong  179770.00  9.73"
      ]
     },
     "execution_count": 52,
     "metadata": {},
     "output_type": "execute_result"
    }
   ],
   "source": [
    "data = pd.DataFrame({'area':area, 'GDP':gdp})\n",
    "data"
   ]
  },
  {
   "cell_type": "code",
   "execution_count": 53,
   "metadata": {},
   "outputs": [
    {
     "data": {
      "text/html": [
       "<div>\n",
       "<style scoped>\n",
       "    .dataframe tbody tr th:only-of-type {\n",
       "        vertical-align: middle;\n",
       "    }\n",
       "\n",
       "    .dataframe tbody tr th {\n",
       "        vertical-align: top;\n",
       "    }\n",
       "\n",
       "    .dataframe thead th {\n",
       "        text-align: right;\n",
       "    }\n",
       "</style>\n",
       "<table border=\"1\" class=\"dataframe\">\n",
       "  <thead>\n",
       "    <tr style=\"text-align: right;\">\n",
       "      <th></th>\n",
       "      <th>area</th>\n",
       "      <th>GDP</th>\n",
       "      <th>density</th>\n",
       "    </tr>\n",
       "  </thead>\n",
       "  <tbody>\n",
       "    <tr>\n",
       "      <td>Beijing</td>\n",
       "      <td>16410.54</td>\n",
       "      <td>3.03</td>\n",
       "      <td>0.000185</td>\n",
       "    </tr>\n",
       "    <tr>\n",
       "      <td>Henan</td>\n",
       "      <td>167000.00</td>\n",
       "      <td>4.80</td>\n",
       "      <td>0.000029</td>\n",
       "    </tr>\n",
       "    <tr>\n",
       "      <td>Hunan</td>\n",
       "      <td>211800.00</td>\n",
       "      <td>3.64</td>\n",
       "      <td>0.000017</td>\n",
       "    </tr>\n",
       "    <tr>\n",
       "      <td>Guangdong</td>\n",
       "      <td>179770.00</td>\n",
       "      <td>9.73</td>\n",
       "      <td>0.000054</td>\n",
       "    </tr>\n",
       "  </tbody>\n",
       "</table>\n",
       "</div>"
      ],
      "text/plain": [
       "                area   GDP   density\n",
       "Beijing     16410.54  3.03  0.000185\n",
       "Henan      167000.00  4.80  0.000029\n",
       "Hunan      211800.00  3.64  0.000017\n",
       "Guangdong  179770.00  9.73  0.000054"
      ]
     },
     "execution_count": 53,
     "metadata": {},
     "output_type": "execute_result"
    }
   ],
   "source": [
    "data['density'] = data['GDP']/data['area']\n",
    "data"
   ]
  },
  {
   "cell_type": "markdown",
   "metadata": {},
   "source": [
    "(2) 将 DataFrame 看作二维数组"
   ]
  },
  {
   "cell_type": "code",
   "execution_count": 54,
   "metadata": {},
   "outputs": [
    {
     "data": {
      "text/plain": [
       "array([[1.64105400e+04, 3.03000000e+00, 1.84637434e-04],\n",
       "       [1.67000000e+05, 4.80000000e+00, 2.87425150e-05],\n",
       "       [2.11800000e+05, 3.64000000e+00, 1.71860246e-05],\n",
       "       [1.79770000e+05, 9.73000000e+00, 5.41247149e-05]])"
      ]
     },
     "execution_count": 54,
     "metadata": {},
     "output_type": "execute_result"
    }
   ],
   "source": [
    "data.values"
   ]
  },
  {
   "cell_type": "code",
   "execution_count": 55,
   "metadata": {},
   "outputs": [
    {
     "data": {
      "text/html": [
       "<div>\n",
       "<style scoped>\n",
       "    .dataframe tbody tr th:only-of-type {\n",
       "        vertical-align: middle;\n",
       "    }\n",
       "\n",
       "    .dataframe tbody tr th {\n",
       "        vertical-align: top;\n",
       "    }\n",
       "\n",
       "    .dataframe thead th {\n",
       "        text-align: right;\n",
       "    }\n",
       "</style>\n",
       "<table border=\"1\" class=\"dataframe\">\n",
       "  <thead>\n",
       "    <tr style=\"text-align: right;\">\n",
       "      <th></th>\n",
       "      <th>Beijing</th>\n",
       "      <th>Henan</th>\n",
       "      <th>Hunan</th>\n",
       "      <th>Guangdong</th>\n",
       "    </tr>\n",
       "  </thead>\n",
       "  <tbody>\n",
       "    <tr>\n",
       "      <td>area</td>\n",
       "      <td>16410.540000</td>\n",
       "      <td>167000.000000</td>\n",
       "      <td>211800.000000</td>\n",
       "      <td>179770.000000</td>\n",
       "    </tr>\n",
       "    <tr>\n",
       "      <td>GDP</td>\n",
       "      <td>3.030000</td>\n",
       "      <td>4.800000</td>\n",
       "      <td>3.640000</td>\n",
       "      <td>9.730000</td>\n",
       "    </tr>\n",
       "    <tr>\n",
       "      <td>density</td>\n",
       "      <td>0.000185</td>\n",
       "      <td>0.000029</td>\n",
       "      <td>0.000017</td>\n",
       "      <td>0.000054</td>\n",
       "    </tr>\n",
       "  </tbody>\n",
       "</table>\n",
       "</div>"
      ],
      "text/plain": [
       "              Beijing          Henan          Hunan      Guangdong\n",
       "area     16410.540000  167000.000000  211800.000000  179770.000000\n",
       "GDP          3.030000       4.800000       3.640000       9.730000\n",
       "density      0.000185       0.000029       0.000017       0.000054"
      ]
     },
     "execution_count": 55,
     "metadata": {},
     "output_type": "execute_result"
    }
   ],
   "source": [
    "data.T"
   ]
  },
  {
   "cell_type": "code",
   "execution_count": 56,
   "metadata": {},
   "outputs": [
    {
     "data": {
      "text/plain": [
       "3.03"
      ]
     },
     "execution_count": 56,
     "metadata": {},
     "output_type": "execute_result"
    }
   ],
   "source": [
    "data.values[0][1] # [0, 1]"
   ]
  },
  {
   "cell_type": "code",
   "execution_count": 57,
   "metadata": {},
   "outputs": [
    {
     "data": {
      "text/html": [
       "<div>\n",
       "<style scoped>\n",
       "    .dataframe tbody tr th:only-of-type {\n",
       "        vertical-align: middle;\n",
       "    }\n",
       "\n",
       "    .dataframe tbody tr th {\n",
       "        vertical-align: top;\n",
       "    }\n",
       "\n",
       "    .dataframe thead th {\n",
       "        text-align: right;\n",
       "    }\n",
       "</style>\n",
       "<table border=\"1\" class=\"dataframe\">\n",
       "  <thead>\n",
       "    <tr style=\"text-align: right;\">\n",
       "      <th></th>\n",
       "      <th>area</th>\n",
       "      <th>GDP</th>\n",
       "    </tr>\n",
       "  </thead>\n",
       "  <tbody>\n",
       "    <tr>\n",
       "      <td>Beijing</td>\n",
       "      <td>16410.54</td>\n",
       "      <td>3.03</td>\n",
       "    </tr>\n",
       "    <tr>\n",
       "      <td>Henan</td>\n",
       "      <td>167000.00</td>\n",
       "      <td>4.80</td>\n",
       "    </tr>\n",
       "    <tr>\n",
       "      <td>Hunan</td>\n",
       "      <td>211800.00</td>\n",
       "      <td>3.64</td>\n",
       "    </tr>\n",
       "  </tbody>\n",
       "</table>\n",
       "</div>"
      ],
      "text/plain": [
       "              area   GDP\n",
       "Beijing   16410.54  3.03\n",
       "Henan    167000.00  4.80\n",
       "Hunan    211800.00  3.64"
      ]
     },
     "execution_count": 57,
     "metadata": {},
     "output_type": "execute_result"
    }
   ],
   "source": [
    "data.iloc[:3, :2]"
   ]
  },
  {
   "cell_type": "code",
   "execution_count": 58,
   "metadata": {},
   "outputs": [
    {
     "data": {
      "text/html": [
       "<div>\n",
       "<style scoped>\n",
       "    .dataframe tbody tr th:only-of-type {\n",
       "        vertical-align: middle;\n",
       "    }\n",
       "\n",
       "    .dataframe tbody tr th {\n",
       "        vertical-align: top;\n",
       "    }\n",
       "\n",
       "    .dataframe thead th {\n",
       "        text-align: right;\n",
       "    }\n",
       "</style>\n",
       "<table border=\"1\" class=\"dataframe\">\n",
       "  <thead>\n",
       "    <tr style=\"text-align: right;\">\n",
       "      <th></th>\n",
       "      <th>area</th>\n",
       "      <th>GDP</th>\n",
       "    </tr>\n",
       "  </thead>\n",
       "  <tbody>\n",
       "    <tr>\n",
       "      <td>Beijing</td>\n",
       "      <td>16410.54</td>\n",
       "      <td>3.03</td>\n",
       "    </tr>\n",
       "    <tr>\n",
       "      <td>Henan</td>\n",
       "      <td>167000.00</td>\n",
       "      <td>4.80</td>\n",
       "    </tr>\n",
       "    <tr>\n",
       "      <td>Hunan</td>\n",
       "      <td>211800.00</td>\n",
       "      <td>3.64</td>\n",
       "    </tr>\n",
       "  </tbody>\n",
       "</table>\n",
       "</div>"
      ],
      "text/plain": [
       "              area   GDP\n",
       "Beijing   16410.54  3.03\n",
       "Henan    167000.00  4.80\n",
       "Hunan    211800.00  3.64"
      ]
     },
     "execution_count": 58,
     "metadata": {},
     "output_type": "execute_result"
    }
   ],
   "source": [
    "a = data.loc[:'Hunan', :'GDP']\n",
    "a"
   ]
  },
  {
   "cell_type": "markdown",
   "metadata": {},
   "source": [
    "(3) 其它取值方法"
   ]
  },
  {
   "cell_type": "code",
   "execution_count": 59,
   "metadata": {},
   "outputs": [
    {
     "data": {
      "text/html": [
       "<div>\n",
       "<style scoped>\n",
       "    .dataframe tbody tr th:only-of-type {\n",
       "        vertical-align: middle;\n",
       "    }\n",
       "\n",
       "    .dataframe tbody tr th {\n",
       "        vertical-align: top;\n",
       "    }\n",
       "\n",
       "    .dataframe thead th {\n",
       "        text-align: right;\n",
       "    }\n",
       "</style>\n",
       "<table border=\"1\" class=\"dataframe\">\n",
       "  <thead>\n",
       "    <tr style=\"text-align: right;\">\n",
       "      <th></th>\n",
       "      <th>area</th>\n",
       "      <th>GDP</th>\n",
       "      <th>density</th>\n",
       "    </tr>\n",
       "  </thead>\n",
       "  <tbody>\n",
       "    <tr>\n",
       "      <td>Henan</td>\n",
       "      <td>167000.0</td>\n",
       "      <td>4.80</td>\n",
       "      <td>0.000029</td>\n",
       "    </tr>\n",
       "    <tr>\n",
       "      <td>Hunan</td>\n",
       "      <td>211800.0</td>\n",
       "      <td>3.64</td>\n",
       "      <td>0.000017</td>\n",
       "    </tr>\n",
       "  </tbody>\n",
       "</table>\n",
       "</div>"
      ],
      "text/plain": [
       "           area   GDP   density\n",
       "Henan  167000.0  4.80  0.000029\n",
       "Hunan  211800.0  3.64  0.000017"
      ]
     },
     "execution_count": 59,
     "metadata": {},
     "output_type": "execute_result"
    }
   ],
   "source": [
    "data['Henan':'Hunan'] # 显式切片索引"
   ]
  },
  {
   "cell_type": "code",
   "execution_count": 60,
   "metadata": {},
   "outputs": [
    {
     "data": {
      "text/html": [
       "<div>\n",
       "<style scoped>\n",
       "    .dataframe tbody tr th:only-of-type {\n",
       "        vertical-align: middle;\n",
       "    }\n",
       "\n",
       "    .dataframe tbody tr th {\n",
       "        vertical-align: top;\n",
       "    }\n",
       "\n",
       "    .dataframe thead th {\n",
       "        text-align: right;\n",
       "    }\n",
       "</style>\n",
       "<table border=\"1\" class=\"dataframe\">\n",
       "  <thead>\n",
       "    <tr style=\"text-align: right;\">\n",
       "      <th></th>\n",
       "      <th>area</th>\n",
       "      <th>GDP</th>\n",
       "      <th>density</th>\n",
       "    </tr>\n",
       "  </thead>\n",
       "  <tbody>\n",
       "    <tr>\n",
       "      <td>Henan</td>\n",
       "      <td>167000.0</td>\n",
       "      <td>4.80</td>\n",
       "      <td>0.000029</td>\n",
       "    </tr>\n",
       "    <tr>\n",
       "      <td>Hunan</td>\n",
       "      <td>211800.0</td>\n",
       "      <td>3.64</td>\n",
       "      <td>0.000017</td>\n",
       "    </tr>\n",
       "  </tbody>\n",
       "</table>\n",
       "</div>"
      ],
      "text/plain": [
       "           area   GDP   density\n",
       "Henan  167000.0  4.80  0.000029\n",
       "Hunan  211800.0  3.64  0.000017"
      ]
     },
     "execution_count": 60,
     "metadata": {},
     "output_type": "execute_result"
    }
   ],
   "source": [
    "data[1:3] # 隐式切片"
   ]
  },
  {
   "cell_type": "markdown",
   "metadata": {},
   "source": [
    "## Index 对象"
   ]
  },
  {
   "cell_type": "code",
   "execution_count": 62,
   "metadata": {},
   "outputs": [],
   "source": [
    "d = {'a':2, 'b':4}"
   ]
  },
  {
   "cell_type": "code",
   "execution_count": null,
   "metadata": {},
   "outputs": [],
   "source": [
    "ind = pd.Index([2, 3, 5, 7, 11])\n",
    "ind"
   ]
  },
  {
   "cell_type": "markdown",
   "metadata": {},
   "source": [
    "1) 将 Index 看作不可变数组"
   ]
  },
  {
   "cell_type": "code",
   "execution_count": null,
   "metadata": {},
   "outputs": [],
   "source": [
    "ind[1]"
   ]
  },
  {
   "cell_type": "code",
   "execution_count": null,
   "metadata": {},
   "outputs": [],
   "source": [
    "ind[::2]"
   ]
  },
  {
   "cell_type": "code",
   "execution_count": null,
   "metadata": {},
   "outputs": [],
   "source": [
    "print(ind.size, ind.shape, ind.ndim, ind.dtype)"
   ]
  },
  {
   "cell_type": "markdown",
   "metadata": {},
   "source": [
    "2) 将 Index 看作有序集合，和 Python 的中的 `set` 对象有很多相似的操作"
   ]
  },
  {
   "cell_type": "code",
   "execution_count": null,
   "metadata": {},
   "outputs": [],
   "source": [
    "indA = pd.Index([1, 3, 5, 7, 9])\n",
    "indB = pd.Index([2, 3, 5, 7, 11])"
   ]
  },
  {
   "cell_type": "code",
   "execution_count": null,
   "metadata": {},
   "outputs": [],
   "source": [
    "indA & indB # 交集"
   ]
  },
  {
   "cell_type": "code",
   "execution_count": null,
   "metadata": {},
   "outputs": [],
   "source": [
    "indA | indB # 并集"
   ]
  },
  {
   "cell_type": "code",
   "execution_count": null,
   "metadata": {},
   "outputs": [],
   "source": [
    "indA ^ indB # 异或"
   ]
  },
  {
   "cell_type": "markdown",
   "metadata": {},
   "source": [
    "## 层级索引 `MultiIndex`"
   ]
  },
  {
   "cell_type": "markdown",
   "metadata": {},
   "source": [
    "如果想处理中国每个省 2000 年到 2018 年的数据，在 Pandas 中该如何存储呢？"
   ]
  },
  {
   "cell_type": "code",
   "execution_count": 8,
   "metadata": {},
   "outputs": [],
   "source": [
    "import numpy as np\n",
    "import pandas as pd"
   ]
  },
  {
   "cell_type": "markdown",
   "metadata": {},
   "source": [
    "### 一种笨办法"
   ]
  },
  {
   "cell_type": "markdown",
   "metadata": {},
   "source": [
    "下面的 CSV 文件中存储了每个省每年的人口和 GDP 数据 (查看数据文件格式)。"
   ]
  },
  {
   "cell_type": "code",
   "execution_count": 14,
   "metadata": {},
   "outputs": [
    {
     "data": {
      "text/html": [
       "<div>\n",
       "<style scoped>\n",
       "    .dataframe tbody tr th:only-of-type {\n",
       "        vertical-align: middle;\n",
       "    }\n",
       "\n",
       "    .dataframe tbody tr th {\n",
       "        vertical-align: top;\n",
       "    }\n",
       "\n",
       "    .dataframe thead th {\n",
       "        text-align: right;\n",
       "    }\n",
       "</style>\n",
       "<table border=\"1\" class=\"dataframe\">\n",
       "  <thead>\n",
       "    <tr style=\"text-align: right;\">\n",
       "      <th></th>\n",
       "      <th>省</th>\n",
       "      <th>年份</th>\n",
       "      <th>人口(万人)</th>\n",
       "      <th>地区gdp(亿元)</th>\n",
       "    </tr>\n",
       "  </thead>\n",
       "  <tbody>\n",
       "    <tr>\n",
       "      <th>0</th>\n",
       "      <td>北京市</td>\n",
       "      <td>2018</td>\n",
       "      <td>2154.0</td>\n",
       "      <td>30319.98</td>\n",
       "    </tr>\n",
       "    <tr>\n",
       "      <th>1</th>\n",
       "      <td>北京市</td>\n",
       "      <td>2017</td>\n",
       "      <td>2171.0</td>\n",
       "      <td>28014.94</td>\n",
       "    </tr>\n",
       "    <tr>\n",
       "      <th>2</th>\n",
       "      <td>北京市</td>\n",
       "      <td>2016</td>\n",
       "      <td>2173.0</td>\n",
       "      <td>25669.13</td>\n",
       "    </tr>\n",
       "    <tr>\n",
       "      <th>3</th>\n",
       "      <td>北京市</td>\n",
       "      <td>2015</td>\n",
       "      <td>2171.0</td>\n",
       "      <td>23014.59</td>\n",
       "    </tr>\n",
       "    <tr>\n",
       "      <th>4</th>\n",
       "      <td>北京市</td>\n",
       "      <td>2014</td>\n",
       "      <td>2152.0</td>\n",
       "      <td>21330.83</td>\n",
       "    </tr>\n",
       "    <tr>\n",
       "      <th>5</th>\n",
       "      <td>北京市</td>\n",
       "      <td>2013</td>\n",
       "      <td>2115.0</td>\n",
       "      <td>19800.81</td>\n",
       "    </tr>\n",
       "    <tr>\n",
       "      <th>6</th>\n",
       "      <td>北京市</td>\n",
       "      <td>2012</td>\n",
       "      <td>2069.0</td>\n",
       "      <td>17879.40</td>\n",
       "    </tr>\n",
       "    <tr>\n",
       "      <th>7</th>\n",
       "      <td>北京市</td>\n",
       "      <td>2011</td>\n",
       "      <td>2019.0</td>\n",
       "      <td>16251.93</td>\n",
       "    </tr>\n",
       "    <tr>\n",
       "      <th>8</th>\n",
       "      <td>北京市</td>\n",
       "      <td>2010</td>\n",
       "      <td>1962.0</td>\n",
       "      <td>14113.58</td>\n",
       "    </tr>\n",
       "    <tr>\n",
       "      <th>9</th>\n",
       "      <td>北京市</td>\n",
       "      <td>2009</td>\n",
       "      <td>1860.0</td>\n",
       "      <td>12153.03</td>\n",
       "    </tr>\n",
       "    <tr>\n",
       "      <th>10</th>\n",
       "      <td>北京市</td>\n",
       "      <td>2008</td>\n",
       "      <td>1771.0</td>\n",
       "      <td>11115.00</td>\n",
       "    </tr>\n",
       "    <tr>\n",
       "      <th>11</th>\n",
       "      <td>北京市</td>\n",
       "      <td>2007</td>\n",
       "      <td>1676.0</td>\n",
       "      <td>9846.81</td>\n",
       "    </tr>\n",
       "    <tr>\n",
       "      <th>12</th>\n",
       "      <td>北京市</td>\n",
       "      <td>2006</td>\n",
       "      <td>1601.0</td>\n",
       "      <td>8117.78</td>\n",
       "    </tr>\n",
       "    <tr>\n",
       "      <th>13</th>\n",
       "      <td>北京市</td>\n",
       "      <td>2005</td>\n",
       "      <td>1538.0</td>\n",
       "      <td>6969.52</td>\n",
       "    </tr>\n",
       "    <tr>\n",
       "      <th>14</th>\n",
       "      <td>北京市</td>\n",
       "      <td>2004</td>\n",
       "      <td>1493.0</td>\n",
       "      <td>6033.21</td>\n",
       "    </tr>\n",
       "    <tr>\n",
       "      <th>15</th>\n",
       "      <td>北京市</td>\n",
       "      <td>2003</td>\n",
       "      <td>1456.0</td>\n",
       "      <td>5007.21</td>\n",
       "    </tr>\n",
       "    <tr>\n",
       "      <th>16</th>\n",
       "      <td>北京市</td>\n",
       "      <td>2002</td>\n",
       "      <td>1423.0</td>\n",
       "      <td>4315.00</td>\n",
       "    </tr>\n",
       "    <tr>\n",
       "      <th>17</th>\n",
       "      <td>北京市</td>\n",
       "      <td>2001</td>\n",
       "      <td>1385.0</td>\n",
       "      <td>3707.96</td>\n",
       "    </tr>\n",
       "    <tr>\n",
       "      <th>18</th>\n",
       "      <td>北京市</td>\n",
       "      <td>2000</td>\n",
       "      <td>1364.0</td>\n",
       "      <td>3161.66</td>\n",
       "    </tr>\n",
       "    <tr>\n",
       "      <th>19</th>\n",
       "      <td>安徽省</td>\n",
       "      <td>2018</td>\n",
       "      <td>6324.0</td>\n",
       "      <td>30006.82</td>\n",
       "    </tr>\n",
       "    <tr>\n",
       "      <th>20</th>\n",
       "      <td>安徽省</td>\n",
       "      <td>2017</td>\n",
       "      <td>6255.0</td>\n",
       "      <td>27018.00</td>\n",
       "    </tr>\n",
       "    <tr>\n",
       "      <th>21</th>\n",
       "      <td>安徽省</td>\n",
       "      <td>2016</td>\n",
       "      <td>6196.0</td>\n",
       "      <td>24407.62</td>\n",
       "    </tr>\n",
       "    <tr>\n",
       "      <th>22</th>\n",
       "      <td>安徽省</td>\n",
       "      <td>2015</td>\n",
       "      <td>6144.0</td>\n",
       "      <td>22005.63</td>\n",
       "    </tr>\n",
       "    <tr>\n",
       "      <th>23</th>\n",
       "      <td>安徽省</td>\n",
       "      <td>2014</td>\n",
       "      <td>6083.0</td>\n",
       "      <td>20848.75</td>\n",
       "    </tr>\n",
       "    <tr>\n",
       "      <th>24</th>\n",
       "      <td>安徽省</td>\n",
       "      <td>2013</td>\n",
       "      <td>6030.0</td>\n",
       "      <td>19229.34</td>\n",
       "    </tr>\n",
       "    <tr>\n",
       "      <th>25</th>\n",
       "      <td>安徽省</td>\n",
       "      <td>2012</td>\n",
       "      <td>5988.0</td>\n",
       "      <td>17212.05</td>\n",
       "    </tr>\n",
       "    <tr>\n",
       "      <th>26</th>\n",
       "      <td>安徽省</td>\n",
       "      <td>2011</td>\n",
       "      <td>5968.0</td>\n",
       "      <td>15300.65</td>\n",
       "    </tr>\n",
       "    <tr>\n",
       "      <th>27</th>\n",
       "      <td>安徽省</td>\n",
       "      <td>2010</td>\n",
       "      <td>5957.0</td>\n",
       "      <td>12359.33</td>\n",
       "    </tr>\n",
       "    <tr>\n",
       "      <th>28</th>\n",
       "      <td>安徽省</td>\n",
       "      <td>2009</td>\n",
       "      <td>6131.0</td>\n",
       "      <td>10062.82</td>\n",
       "    </tr>\n",
       "    <tr>\n",
       "      <th>29</th>\n",
       "      <td>安徽省</td>\n",
       "      <td>2008</td>\n",
       "      <td>6135.0</td>\n",
       "      <td>8851.66</td>\n",
       "    </tr>\n",
       "    <tr>\n",
       "      <th>...</th>\n",
       "      <td>...</td>\n",
       "      <td>...</td>\n",
       "      <td>...</td>\n",
       "      <td>...</td>\n",
       "    </tr>\n",
       "    <tr>\n",
       "      <th>559</th>\n",
       "      <td>浙江省</td>\n",
       "      <td>2010</td>\n",
       "      <td>5447.0</td>\n",
       "      <td>27722.31</td>\n",
       "    </tr>\n",
       "    <tr>\n",
       "      <th>560</th>\n",
       "      <td>浙江省</td>\n",
       "      <td>2009</td>\n",
       "      <td>5276.0</td>\n",
       "      <td>22990.35</td>\n",
       "    </tr>\n",
       "    <tr>\n",
       "      <th>561</th>\n",
       "      <td>浙江省</td>\n",
       "      <td>2008</td>\n",
       "      <td>5212.0</td>\n",
       "      <td>21462.69</td>\n",
       "    </tr>\n",
       "    <tr>\n",
       "      <th>562</th>\n",
       "      <td>浙江省</td>\n",
       "      <td>2007</td>\n",
       "      <td>5155.0</td>\n",
       "      <td>18753.73</td>\n",
       "    </tr>\n",
       "    <tr>\n",
       "      <th>563</th>\n",
       "      <td>浙江省</td>\n",
       "      <td>2006</td>\n",
       "      <td>5072.0</td>\n",
       "      <td>15718.47</td>\n",
       "    </tr>\n",
       "    <tr>\n",
       "      <th>564</th>\n",
       "      <td>浙江省</td>\n",
       "      <td>2005</td>\n",
       "      <td>4991.0</td>\n",
       "      <td>13417.68</td>\n",
       "    </tr>\n",
       "    <tr>\n",
       "      <th>565</th>\n",
       "      <td>浙江省</td>\n",
       "      <td>2004</td>\n",
       "      <td>4925.0</td>\n",
       "      <td>11648.70</td>\n",
       "    </tr>\n",
       "    <tr>\n",
       "      <th>566</th>\n",
       "      <td>浙江省</td>\n",
       "      <td>2003</td>\n",
       "      <td>4857.0</td>\n",
       "      <td>9705.02</td>\n",
       "    </tr>\n",
       "    <tr>\n",
       "      <th>567</th>\n",
       "      <td>浙江省</td>\n",
       "      <td>2002</td>\n",
       "      <td>4776.0</td>\n",
       "      <td>8003.67</td>\n",
       "    </tr>\n",
       "    <tr>\n",
       "      <th>568</th>\n",
       "      <td>浙江省</td>\n",
       "      <td>2001</td>\n",
       "      <td>4729.0</td>\n",
       "      <td>6898.34</td>\n",
       "    </tr>\n",
       "    <tr>\n",
       "      <th>569</th>\n",
       "      <td>浙江省</td>\n",
       "      <td>2000</td>\n",
       "      <td>4680.0</td>\n",
       "      <td>6141.03</td>\n",
       "    </tr>\n",
       "    <tr>\n",
       "      <th>570</th>\n",
       "      <td>重庆市</td>\n",
       "      <td>2018</td>\n",
       "      <td>3102.0</td>\n",
       "      <td>20363.19</td>\n",
       "    </tr>\n",
       "    <tr>\n",
       "      <th>571</th>\n",
       "      <td>重庆市</td>\n",
       "      <td>2017</td>\n",
       "      <td>3075.0</td>\n",
       "      <td>19424.73</td>\n",
       "    </tr>\n",
       "    <tr>\n",
       "      <th>572</th>\n",
       "      <td>重庆市</td>\n",
       "      <td>2016</td>\n",
       "      <td>3048.0</td>\n",
       "      <td>17740.59</td>\n",
       "    </tr>\n",
       "    <tr>\n",
       "      <th>573</th>\n",
       "      <td>重庆市</td>\n",
       "      <td>2015</td>\n",
       "      <td>3017.0</td>\n",
       "      <td>15717.27</td>\n",
       "    </tr>\n",
       "    <tr>\n",
       "      <th>574</th>\n",
       "      <td>重庆市</td>\n",
       "      <td>2014</td>\n",
       "      <td>2991.0</td>\n",
       "      <td>14262.60</td>\n",
       "    </tr>\n",
       "    <tr>\n",
       "      <th>575</th>\n",
       "      <td>重庆市</td>\n",
       "      <td>2013</td>\n",
       "      <td>2970.0</td>\n",
       "      <td>12783.26</td>\n",
       "    </tr>\n",
       "    <tr>\n",
       "      <th>576</th>\n",
       "      <td>重庆市</td>\n",
       "      <td>2012</td>\n",
       "      <td>2945.0</td>\n",
       "      <td>11409.60</td>\n",
       "    </tr>\n",
       "    <tr>\n",
       "      <th>577</th>\n",
       "      <td>重庆市</td>\n",
       "      <td>2011</td>\n",
       "      <td>2919.0</td>\n",
       "      <td>10011.37</td>\n",
       "    </tr>\n",
       "    <tr>\n",
       "      <th>578</th>\n",
       "      <td>重庆市</td>\n",
       "      <td>2010</td>\n",
       "      <td>2885.0</td>\n",
       "      <td>7925.58</td>\n",
       "    </tr>\n",
       "    <tr>\n",
       "      <th>579</th>\n",
       "      <td>重庆市</td>\n",
       "      <td>2009</td>\n",
       "      <td>2859.0</td>\n",
       "      <td>6530.01</td>\n",
       "    </tr>\n",
       "    <tr>\n",
       "      <th>580</th>\n",
       "      <td>重庆市</td>\n",
       "      <td>2008</td>\n",
       "      <td>2839.0</td>\n",
       "      <td>5793.66</td>\n",
       "    </tr>\n",
       "    <tr>\n",
       "      <th>581</th>\n",
       "      <td>重庆市</td>\n",
       "      <td>2007</td>\n",
       "      <td>2816.0</td>\n",
       "      <td>4676.13</td>\n",
       "    </tr>\n",
       "    <tr>\n",
       "      <th>582</th>\n",
       "      <td>重庆市</td>\n",
       "      <td>2006</td>\n",
       "      <td>2808.0</td>\n",
       "      <td>3907.23</td>\n",
       "    </tr>\n",
       "    <tr>\n",
       "      <th>583</th>\n",
       "      <td>重庆市</td>\n",
       "      <td>2005</td>\n",
       "      <td>2798.0</td>\n",
       "      <td>3467.72</td>\n",
       "    </tr>\n",
       "    <tr>\n",
       "      <th>584</th>\n",
       "      <td>重庆市</td>\n",
       "      <td>2004</td>\n",
       "      <td>2793.0</td>\n",
       "      <td>3034.58</td>\n",
       "    </tr>\n",
       "    <tr>\n",
       "      <th>585</th>\n",
       "      <td>重庆市</td>\n",
       "      <td>2003</td>\n",
       "      <td>2803.0</td>\n",
       "      <td>2555.72</td>\n",
       "    </tr>\n",
       "    <tr>\n",
       "      <th>586</th>\n",
       "      <td>重庆市</td>\n",
       "      <td>2002</td>\n",
       "      <td>2814.0</td>\n",
       "      <td>2232.86</td>\n",
       "    </tr>\n",
       "    <tr>\n",
       "      <th>587</th>\n",
       "      <td>重庆市</td>\n",
       "      <td>2001</td>\n",
       "      <td>2829.0</td>\n",
       "      <td>1976.86</td>\n",
       "    </tr>\n",
       "    <tr>\n",
       "      <th>588</th>\n",
       "      <td>重庆市</td>\n",
       "      <td>2000</td>\n",
       "      <td>2849.0</td>\n",
       "      <td>1791.00</td>\n",
       "    </tr>\n",
       "  </tbody>\n",
       "</table>\n",
       "<p>589 rows × 4 columns</p>\n",
       "</div>"
      ],
      "text/plain": [
       "       省    年份  人口(万人)  地区gdp(亿元)\n",
       "0    北京市  2018  2154.0   30319.98\n",
       "1    北京市  2017  2171.0   28014.94\n",
       "2    北京市  2016  2173.0   25669.13\n",
       "3    北京市  2015  2171.0   23014.59\n",
       "4    北京市  2014  2152.0   21330.83\n",
       "5    北京市  2013  2115.0   19800.81\n",
       "6    北京市  2012  2069.0   17879.40\n",
       "7    北京市  2011  2019.0   16251.93\n",
       "8    北京市  2010  1962.0   14113.58\n",
       "9    北京市  2009  1860.0   12153.03\n",
       "10   北京市  2008  1771.0   11115.00\n",
       "11   北京市  2007  1676.0    9846.81\n",
       "12   北京市  2006  1601.0    8117.78\n",
       "13   北京市  2005  1538.0    6969.52\n",
       "14   北京市  2004  1493.0    6033.21\n",
       "15   北京市  2003  1456.0    5007.21\n",
       "16   北京市  2002  1423.0    4315.00\n",
       "17   北京市  2001  1385.0    3707.96\n",
       "18   北京市  2000  1364.0    3161.66\n",
       "19   安徽省  2018  6324.0   30006.82\n",
       "20   安徽省  2017  6255.0   27018.00\n",
       "21   安徽省  2016  6196.0   24407.62\n",
       "22   安徽省  2015  6144.0   22005.63\n",
       "23   安徽省  2014  6083.0   20848.75\n",
       "24   安徽省  2013  6030.0   19229.34\n",
       "25   安徽省  2012  5988.0   17212.05\n",
       "26   安徽省  2011  5968.0   15300.65\n",
       "27   安徽省  2010  5957.0   12359.33\n",
       "28   安徽省  2009  6131.0   10062.82\n",
       "29   安徽省  2008  6135.0    8851.66\n",
       "..   ...   ...     ...        ...\n",
       "559  浙江省  2010  5447.0   27722.31\n",
       "560  浙江省  2009  5276.0   22990.35\n",
       "561  浙江省  2008  5212.0   21462.69\n",
       "562  浙江省  2007  5155.0   18753.73\n",
       "563  浙江省  2006  5072.0   15718.47\n",
       "564  浙江省  2005  4991.0   13417.68\n",
       "565  浙江省  2004  4925.0   11648.70\n",
       "566  浙江省  2003  4857.0    9705.02\n",
       "567  浙江省  2002  4776.0    8003.67\n",
       "568  浙江省  2001  4729.0    6898.34\n",
       "569  浙江省  2000  4680.0    6141.03\n",
       "570  重庆市  2018  3102.0   20363.19\n",
       "571  重庆市  2017  3075.0   19424.73\n",
       "572  重庆市  2016  3048.0   17740.59\n",
       "573  重庆市  2015  3017.0   15717.27\n",
       "574  重庆市  2014  2991.0   14262.60\n",
       "575  重庆市  2013  2970.0   12783.26\n",
       "576  重庆市  2012  2945.0   11409.60\n",
       "577  重庆市  2011  2919.0   10011.37\n",
       "578  重庆市  2010  2885.0    7925.58\n",
       "579  重庆市  2009  2859.0    6530.01\n",
       "580  重庆市  2008  2839.0    5793.66\n",
       "581  重庆市  2007  2816.0    4676.13\n",
       "582  重庆市  2006  2808.0    3907.23\n",
       "583  重庆市  2005  2798.0    3467.72\n",
       "584  重庆市  2004  2793.0    3034.58\n",
       "585  重庆市  2003  2803.0    2555.72\n",
       "586  重庆市  2002  2814.0    2232.86\n",
       "587  重庆市  2001  2829.0    1976.86\n",
       "588  重庆市  2000  2849.0    1791.00\n",
       "\n",
       "[589 rows x 4 columns]"
      ]
     },
     "execution_count": 14,
     "metadata": {},
     "output_type": "execute_result"
    }
   ],
   "source": [
    "data = pd.read_csv('./data/pop_and_gdp.csv')\n",
    "data"
   ]
  },
  {
   "cell_type": "code",
   "execution_count": 16,
   "metadata": {},
   "outputs": [],
   "source": [
    "index = [(x, y) for x, y in zip(data['省'], data['年份'])]"
   ]
  },
  {
   "cell_type": "code",
   "execution_count": 17,
   "metadata": {},
   "outputs": [
    {
     "data": {
      "text/plain": [
       "(北京市, 2018)    2154.0\n",
       "(北京市, 2017)    2171.0\n",
       "(北京市, 2016)    2173.0\n",
       "(北京市, 2015)    2171.0\n",
       "(北京市, 2014)    2152.0\n",
       "(北京市, 2013)    2115.0\n",
       "(北京市, 2012)    2069.0\n",
       "(北京市, 2011)    2019.0\n",
       "(北京市, 2010)    1962.0\n",
       "(北京市, 2009)    1860.0\n",
       "(北京市, 2008)    1771.0\n",
       "(北京市, 2007)    1676.0\n",
       "(北京市, 2006)    1601.0\n",
       "(北京市, 2005)    1538.0\n",
       "(北京市, 2004)    1493.0\n",
       "(北京市, 2003)    1456.0\n",
       "(北京市, 2002)    1423.0\n",
       "(北京市, 2001)    1385.0\n",
       "(北京市, 2000)    1364.0\n",
       "(安徽省, 2018)    6324.0\n",
       "(安徽省, 2017)    6255.0\n",
       "(安徽省, 2016)    6196.0\n",
       "(安徽省, 2015)    6144.0\n",
       "(安徽省, 2014)    6083.0\n",
       "(安徽省, 2013)    6030.0\n",
       "(安徽省, 2012)    5988.0\n",
       "(安徽省, 2011)    5968.0\n",
       "(安徽省, 2010)    5957.0\n",
       "(安徽省, 2009)    6131.0\n",
       "(安徽省, 2008)    6135.0\n",
       "                ...  \n",
       "(浙江省, 2010)    5447.0\n",
       "(浙江省, 2009)    5276.0\n",
       "(浙江省, 2008)    5212.0\n",
       "(浙江省, 2007)    5155.0\n",
       "(浙江省, 2006)    5072.0\n",
       "(浙江省, 2005)    4991.0\n",
       "(浙江省, 2004)    4925.0\n",
       "(浙江省, 2003)    4857.0\n",
       "(浙江省, 2002)    4776.0\n",
       "(浙江省, 2001)    4729.0\n",
       "(浙江省, 2000)    4680.0\n",
       "(重庆市, 2018)    3102.0\n",
       "(重庆市, 2017)    3075.0\n",
       "(重庆市, 2016)    3048.0\n",
       "(重庆市, 2015)    3017.0\n",
       "(重庆市, 2014)    2991.0\n",
       "(重庆市, 2013)    2970.0\n",
       "(重庆市, 2012)    2945.0\n",
       "(重庆市, 2011)    2919.0\n",
       "(重庆市, 2010)    2885.0\n",
       "(重庆市, 2009)    2859.0\n",
       "(重庆市, 2008)    2839.0\n",
       "(重庆市, 2007)    2816.0\n",
       "(重庆市, 2006)    2808.0\n",
       "(重庆市, 2005)    2798.0\n",
       "(重庆市, 2004)    2793.0\n",
       "(重庆市, 2003)    2803.0\n",
       "(重庆市, 2002)    2814.0\n",
       "(重庆市, 2001)    2829.0\n",
       "(重庆市, 2000)    2849.0\n",
       "Length: 589, dtype: float64"
      ]
     },
     "execution_count": 17,
     "metadata": {},
     "output_type": "execute_result"
    }
   ],
   "source": [
    "pop = pd.Series(data['人口(万人)'].values, index=index)\n",
    "pop"
   ]
  },
  {
   "cell_type": "code",
   "execution_count": 18,
   "metadata": {},
   "outputs": [
    {
     "data": {
      "text/plain": [
       "(北京市, 2018)    2154.0\n",
       "(北京市, 2017)    2171.0\n",
       "(北京市, 2016)    2173.0\n",
       "(北京市, 2015)    2171.0\n",
       "(北京市, 2014)    2152.0\n",
       "dtype: float64"
      ]
     },
     "execution_count": 18,
     "metadata": {},
     "output_type": "execute_result"
    }
   ],
   "source": [
    "pop[('北京市', 2018):('北京市', 2014)]"
   ]
  },
  {
   "cell_type": "markdown",
   "metadata": {},
   "source": [
    "下面取出所有省 2018 年数据"
   ]
  },
  {
   "cell_type": "code",
   "execution_count": 19,
   "metadata": {},
   "outputs": [
    {
     "data": {
      "text/plain": [
       "(北京市, 2018)          2154.0\n",
       "(安徽省, 2018)          6324.0\n",
       "(福建省, 2018)          3941.0\n",
       "(甘肃省, 2018)          2637.0\n",
       "(广东省, 2018)         11346.0\n",
       "(广西壮族自治区, 2018)      4926.0\n",
       "(贵州省, 2018)          3600.0\n",
       "(海南省, 2018)           934.0\n",
       "(河北省, 2018)          7556.0\n",
       "(河南省, 2018)          9605.0\n",
       "(黑龙江省, 2018)         3773.0\n",
       "(湖北省, 2018)          5917.0\n",
       "(湖南省, 2018)          6899.0\n",
       "(吉林省, 2018)          2704.0\n",
       "(江苏省, 2018)          8051.0\n",
       "(江西省, 2018)          4648.0\n",
       "(辽宁省, 2018)          4359.0\n",
       "(内蒙古自治区, 2018)       2534.0\n",
       "(宁夏回族自治区, 2018)       688.0\n",
       "(青海省, 2018)           603.0\n",
       "(山东省, 2018)         10047.0\n",
       "(山西省, 2018)          3718.0\n",
       "(陕西省, 2018)          3864.0\n",
       "(上海市, 2018)          2424.0\n",
       "(四川省, 2018)          8341.0\n",
       "(天津市, 2018)          1560.0\n",
       "(西藏自治区, 2018)         344.0\n",
       "(新疆维吾尔自治区, 2018)     2487.0\n",
       "(云南省, 2018)          4830.0\n",
       "(浙江省, 2018)          5737.0\n",
       "(重庆市, 2018)          3102.0\n",
       "dtype: float64"
      ]
     },
     "execution_count": 19,
     "metadata": {},
     "output_type": "execute_result"
    }
   ],
   "source": [
    "pop[[i for i in pop.index if i[1] == 2018]]"
   ]
  },
  {
   "cell_type": "markdown",
   "metadata": {},
   "source": [
    "### 另一种方法"
   ]
  },
  {
   "cell_type": "code",
   "execution_count": null,
   "metadata": {},
   "outputs": [],
   "source": []
  },
  {
   "cell_type": "code",
   "execution_count": null,
   "metadata": {},
   "outputs": [],
   "source": [
    "index = pd.MultiIndex.from_tuples(index)"
   ]
  },
  {
   "cell_type": "code",
   "execution_count": 25,
   "metadata": {},
   "outputs": [
    {
     "data": {
      "text/plain": [
       "(北京市, 2018)    2154.0\n",
       "(北京市, 2017)    2171.0\n",
       "(北京市, 2016)    2173.0\n",
       "(北京市, 2015)    2171.0\n",
       "(北京市, 2014)    2152.0\n",
       "(北京市, 2013)    2115.0\n",
       "(北京市, 2012)    2069.0\n",
       "(北京市, 2011)    2019.0\n",
       "(北京市, 2010)    1962.0\n",
       "(北京市, 2009)    1860.0\n",
       "(北京市, 2008)    1771.0\n",
       "(北京市, 2007)    1676.0\n",
       "(北京市, 2006)    1601.0\n",
       "(北京市, 2005)    1538.0\n",
       "(北京市, 2004)    1493.0\n",
       "(北京市, 2003)    1456.0\n",
       "(北京市, 2002)    1423.0\n",
       "(北京市, 2001)    1385.0\n",
       "(北京市, 2000)    1364.0\n",
       "(安徽省, 2018)    6324.0\n",
       "(安徽省, 2017)    6255.0\n",
       "(安徽省, 2016)    6196.0\n",
       "(安徽省, 2015)    6144.0\n",
       "(安徽省, 2014)    6083.0\n",
       "(安徽省, 2013)    6030.0\n",
       "(安徽省, 2012)    5988.0\n",
       "(安徽省, 2011)    5968.0\n",
       "(安徽省, 2010)    5957.0\n",
       "(安徽省, 2009)    6131.0\n",
       "(安徽省, 2008)    6135.0\n",
       "                ...  \n",
       "(浙江省, 2010)    5447.0\n",
       "(浙江省, 2009)    5276.0\n",
       "(浙江省, 2008)    5212.0\n",
       "(浙江省, 2007)    5155.0\n",
       "(浙江省, 2006)    5072.0\n",
       "(浙江省, 2005)    4991.0\n",
       "(浙江省, 2004)    4925.0\n",
       "(浙江省, 2003)    4857.0\n",
       "(浙江省, 2002)    4776.0\n",
       "(浙江省, 2001)    4729.0\n",
       "(浙江省, 2000)    4680.0\n",
       "(重庆市, 2018)    3102.0\n",
       "(重庆市, 2017)    3075.0\n",
       "(重庆市, 2016)    3048.0\n",
       "(重庆市, 2015)    3017.0\n",
       "(重庆市, 2014)    2991.0\n",
       "(重庆市, 2013)    2970.0\n",
       "(重庆市, 2012)    2945.0\n",
       "(重庆市, 2011)    2919.0\n",
       "(重庆市, 2010)    2885.0\n",
       "(重庆市, 2009)    2859.0\n",
       "(重庆市, 2008)    2839.0\n",
       "(重庆市, 2007)    2816.0\n",
       "(重庆市, 2006)    2808.0\n",
       "(重庆市, 2005)    2798.0\n",
       "(重庆市, 2004)    2793.0\n",
       "(重庆市, 2003)    2803.0\n",
       "(重庆市, 2002)    2814.0\n",
       "(重庆市, 2001)    2829.0\n",
       "(重庆市, 2000)    2849.0\n",
       "Length: 589, dtype: float64"
      ]
     },
     "execution_count": 25,
     "metadata": {},
     "output_type": "execute_result"
    }
   ],
   "source": [
    "pop"
   ]
  },
  {
   "cell_type": "code",
   "execution_count": 26,
   "metadata": {},
   "outputs": [
    {
     "data": {
      "text/plain": [
       "北京市  2018    2154.0\n",
       "     2017    2171.0\n",
       "     2016    2173.0\n",
       "     2015    2171.0\n",
       "     2014    2152.0\n",
       "     2013    2115.0\n",
       "     2012    2069.0\n",
       "     2011    2019.0\n",
       "     2010    1962.0\n",
       "     2009    1860.0\n",
       "     2008    1771.0\n",
       "     2007    1676.0\n",
       "     2006    1601.0\n",
       "     2005    1538.0\n",
       "     2004    1493.0\n",
       "     2003    1456.0\n",
       "     2002    1423.0\n",
       "     2001    1385.0\n",
       "     2000    1364.0\n",
       "安徽省  2018    6324.0\n",
       "     2017    6255.0\n",
       "     2016    6196.0\n",
       "     2015    6144.0\n",
       "     2014    6083.0\n",
       "     2013    6030.0\n",
       "     2012    5988.0\n",
       "     2011    5968.0\n",
       "     2010    5957.0\n",
       "     2009    6131.0\n",
       "     2008    6135.0\n",
       "              ...  \n",
       "浙江省  2010    5447.0\n",
       "     2009    5276.0\n",
       "     2008    5212.0\n",
       "     2007    5155.0\n",
       "     2006    5072.0\n",
       "     2005    4991.0\n",
       "     2004    4925.0\n",
       "     2003    4857.0\n",
       "     2002    4776.0\n",
       "     2001    4729.0\n",
       "     2000    4680.0\n",
       "重庆市  2018    3102.0\n",
       "     2017    3075.0\n",
       "     2016    3048.0\n",
       "     2015    3017.0\n",
       "     2014    2991.0\n",
       "     2013    2970.0\n",
       "     2012    2945.0\n",
       "     2011    2919.0\n",
       "     2010    2885.0\n",
       "     2009    2859.0\n",
       "     2008    2839.0\n",
       "     2007    2816.0\n",
       "     2006    2808.0\n",
       "     2005    2798.0\n",
       "     2004    2793.0\n",
       "     2003    2803.0\n",
       "     2002    2814.0\n",
       "     2001    2829.0\n",
       "     2000    2849.0\n",
       "Length: 589, dtype: float64"
      ]
     },
     "execution_count": 26,
     "metadata": {},
     "output_type": "execute_result"
    }
   ],
   "source": [
    "pop = pop.reindex(index)\n",
    "pop # 带层级索引的 Series 对象"
   ]
  },
  {
   "cell_type": "code",
   "execution_count": 27,
   "metadata": {},
   "outputs": [
    {
     "data": {
      "text/plain": [
       "北京市          2154.0\n",
       "安徽省          6324.0\n",
       "福建省          3941.0\n",
       "甘肃省          2637.0\n",
       "广东省         11346.0\n",
       "广西壮族自治区      4926.0\n",
       "贵州省          3600.0\n",
       "海南省           934.0\n",
       "河北省          7556.0\n",
       "河南省          9605.0\n",
       "黑龙江省         3773.0\n",
       "湖北省          5917.0\n",
       "湖南省          6899.0\n",
       "吉林省          2704.0\n",
       "江苏省          8051.0\n",
       "江西省          4648.0\n",
       "辽宁省          4359.0\n",
       "内蒙古自治区       2534.0\n",
       "宁夏回族自治区       688.0\n",
       "青海省           603.0\n",
       "山东省         10047.0\n",
       "山西省          3718.0\n",
       "陕西省          3864.0\n",
       "上海市          2424.0\n",
       "四川省          8341.0\n",
       "天津市          1560.0\n",
       "西藏自治区         344.0\n",
       "新疆维吾尔自治区     2487.0\n",
       "云南省          4830.0\n",
       "浙江省          5737.0\n",
       "重庆市          3102.0\n",
       "dtype: float64"
      ]
     },
     "execution_count": 27,
     "metadata": {},
     "output_type": "execute_result"
    }
   ],
   "source": [
    "pop[:, 2018]"
   ]
  },
  {
   "cell_type": "markdown",
   "metadata": {},
   "source": [
    "### 层级索引 Series 转化为 DataFrame 对象 "
   ]
  },
  {
   "cell_type": "code",
   "execution_count": 31,
   "metadata": {},
   "outputs": [
    {
     "data": {
      "text/plain": [
       "北京市  2018    2154.0\n",
       "     2017    2171.0\n",
       "     2016    2173.0\n",
       "     2015    2171.0\n",
       "     2014    2152.0\n",
       "     2013    2115.0\n",
       "     2012    2069.0\n",
       "     2011    2019.0\n",
       "     2010    1962.0\n",
       "     2009    1860.0\n",
       "     2008    1771.0\n",
       "     2007    1676.0\n",
       "     2006    1601.0\n",
       "     2005    1538.0\n",
       "     2004    1493.0\n",
       "     2003    1456.0\n",
       "     2002    1423.0\n",
       "     2001    1385.0\n",
       "     2000    1364.0\n",
       "安徽省  2018    6324.0\n",
       "     2017    6255.0\n",
       "     2016    6196.0\n",
       "     2015    6144.0\n",
       "     2014    6083.0\n",
       "     2013    6030.0\n",
       "     2012    5988.0\n",
       "     2011    5968.0\n",
       "     2010    5957.0\n",
       "     2009    6131.0\n",
       "     2008    6135.0\n",
       "              ...  \n",
       "浙江省  2010    5447.0\n",
       "     2009    5276.0\n",
       "     2008    5212.0\n",
       "     2007    5155.0\n",
       "     2006    5072.0\n",
       "     2005    4991.0\n",
       "     2004    4925.0\n",
       "     2003    4857.0\n",
       "     2002    4776.0\n",
       "     2001    4729.0\n",
       "     2000    4680.0\n",
       "重庆市  2018    3102.0\n",
       "     2017    3075.0\n",
       "     2016    3048.0\n",
       "     2015    3017.0\n",
       "     2014    2991.0\n",
       "     2013    2970.0\n",
       "     2012    2945.0\n",
       "     2011    2919.0\n",
       "     2010    2885.0\n",
       "     2009    2859.0\n",
       "     2008    2839.0\n",
       "     2007    2816.0\n",
       "     2006    2808.0\n",
       "     2005    2798.0\n",
       "     2004    2793.0\n",
       "     2003    2803.0\n",
       "     2002    2814.0\n",
       "     2001    2829.0\n",
       "     2000    2849.0\n",
       "Length: 589, dtype: float64"
      ]
     },
     "execution_count": 31,
     "metadata": {},
     "output_type": "execute_result"
    }
   ],
   "source": [
    "pop"
   ]
  },
  {
   "cell_type": "code",
   "execution_count": 29,
   "metadata": {},
   "outputs": [
    {
     "data": {
      "text/html": [
       "<div>\n",
       "<style scoped>\n",
       "    .dataframe tbody tr th:only-of-type {\n",
       "        vertical-align: middle;\n",
       "    }\n",
       "\n",
       "    .dataframe tbody tr th {\n",
       "        vertical-align: top;\n",
       "    }\n",
       "\n",
       "    .dataframe thead th {\n",
       "        text-align: right;\n",
       "    }\n",
       "</style>\n",
       "<table border=\"1\" class=\"dataframe\">\n",
       "  <thead>\n",
       "    <tr style=\"text-align: right;\">\n",
       "      <th></th>\n",
       "      <th>2000</th>\n",
       "      <th>2001</th>\n",
       "      <th>2002</th>\n",
       "      <th>2003</th>\n",
       "      <th>2004</th>\n",
       "      <th>2005</th>\n",
       "      <th>2006</th>\n",
       "      <th>2007</th>\n",
       "      <th>2008</th>\n",
       "      <th>2009</th>\n",
       "      <th>2010</th>\n",
       "      <th>2011</th>\n",
       "      <th>2012</th>\n",
       "      <th>2013</th>\n",
       "      <th>2014</th>\n",
       "      <th>2015</th>\n",
       "      <th>2016</th>\n",
       "      <th>2017</th>\n",
       "      <th>2018</th>\n",
       "    </tr>\n",
       "  </thead>\n",
       "  <tbody>\n",
       "    <tr>\n",
       "      <th>上海市</th>\n",
       "      <td>1609.0</td>\n",
       "      <td>1668.0</td>\n",
       "      <td>1713.0</td>\n",
       "      <td>1766.0</td>\n",
       "      <td>1835.0</td>\n",
       "      <td>1890.0</td>\n",
       "      <td>1964.0</td>\n",
       "      <td>2064.0</td>\n",
       "      <td>2141.0</td>\n",
       "      <td>2210.0</td>\n",
       "      <td>2303.0</td>\n",
       "      <td>2347.0</td>\n",
       "      <td>2380.0</td>\n",
       "      <td>2415.0</td>\n",
       "      <td>2426.0</td>\n",
       "      <td>2415.0</td>\n",
       "      <td>2420.0</td>\n",
       "      <td>2418.0</td>\n",
       "      <td>2424.0</td>\n",
       "    </tr>\n",
       "    <tr>\n",
       "      <th>云南省</th>\n",
       "      <td>4241.0</td>\n",
       "      <td>4287.0</td>\n",
       "      <td>4333.0</td>\n",
       "      <td>4376.0</td>\n",
       "      <td>4415.0</td>\n",
       "      <td>4450.0</td>\n",
       "      <td>4483.0</td>\n",
       "      <td>4514.0</td>\n",
       "      <td>4543.0</td>\n",
       "      <td>4571.0</td>\n",
       "      <td>4602.0</td>\n",
       "      <td>4631.0</td>\n",
       "      <td>4659.0</td>\n",
       "      <td>4687.0</td>\n",
       "      <td>4714.0</td>\n",
       "      <td>4742.0</td>\n",
       "      <td>4771.0</td>\n",
       "      <td>4801.0</td>\n",
       "      <td>4830.0</td>\n",
       "    </tr>\n",
       "    <tr>\n",
       "      <th>内蒙古自治区</th>\n",
       "      <td>2372.0</td>\n",
       "      <td>2381.0</td>\n",
       "      <td>2384.0</td>\n",
       "      <td>2386.0</td>\n",
       "      <td>2393.0</td>\n",
       "      <td>2403.0</td>\n",
       "      <td>2415.0</td>\n",
       "      <td>2429.0</td>\n",
       "      <td>2444.0</td>\n",
       "      <td>2458.0</td>\n",
       "      <td>2472.0</td>\n",
       "      <td>2482.0</td>\n",
       "      <td>2490.0</td>\n",
       "      <td>2498.0</td>\n",
       "      <td>2505.0</td>\n",
       "      <td>2511.0</td>\n",
       "      <td>2520.0</td>\n",
       "      <td>2529.0</td>\n",
       "      <td>2534.0</td>\n",
       "    </tr>\n",
       "    <tr>\n",
       "      <th>北京市</th>\n",
       "      <td>1364.0</td>\n",
       "      <td>1385.0</td>\n",
       "      <td>1423.0</td>\n",
       "      <td>1456.0</td>\n",
       "      <td>1493.0</td>\n",
       "      <td>1538.0</td>\n",
       "      <td>1601.0</td>\n",
       "      <td>1676.0</td>\n",
       "      <td>1771.0</td>\n",
       "      <td>1860.0</td>\n",
       "      <td>1962.0</td>\n",
       "      <td>2019.0</td>\n",
       "      <td>2069.0</td>\n",
       "      <td>2115.0</td>\n",
       "      <td>2152.0</td>\n",
       "      <td>2171.0</td>\n",
       "      <td>2173.0</td>\n",
       "      <td>2171.0</td>\n",
       "      <td>2154.0</td>\n",
       "    </tr>\n",
       "    <tr>\n",
       "      <th>吉林省</th>\n",
       "      <td>2682.0</td>\n",
       "      <td>2691.0</td>\n",
       "      <td>2699.0</td>\n",
       "      <td>2704.0</td>\n",
       "      <td>2709.0</td>\n",
       "      <td>2716.0</td>\n",
       "      <td>2723.0</td>\n",
       "      <td>2730.0</td>\n",
       "      <td>2734.0</td>\n",
       "      <td>2740.0</td>\n",
       "      <td>2747.0</td>\n",
       "      <td>2749.0</td>\n",
       "      <td>2750.0</td>\n",
       "      <td>2751.0</td>\n",
       "      <td>2752.0</td>\n",
       "      <td>2753.0</td>\n",
       "      <td>2733.0</td>\n",
       "      <td>2717.0</td>\n",
       "      <td>2704.0</td>\n",
       "    </tr>\n",
       "    <tr>\n",
       "      <th>四川省</th>\n",
       "      <td>8329.0</td>\n",
       "      <td>8143.0</td>\n",
       "      <td>8110.0</td>\n",
       "      <td>8176.0</td>\n",
       "      <td>8090.0</td>\n",
       "      <td>8212.0</td>\n",
       "      <td>8169.0</td>\n",
       "      <td>8127.0</td>\n",
       "      <td>8138.0</td>\n",
       "      <td>8185.0</td>\n",
       "      <td>8045.0</td>\n",
       "      <td>8050.0</td>\n",
       "      <td>8076.0</td>\n",
       "      <td>8107.0</td>\n",
       "      <td>8140.0</td>\n",
       "      <td>8204.0</td>\n",
       "      <td>8262.0</td>\n",
       "      <td>8302.0</td>\n",
       "      <td>8341.0</td>\n",
       "    </tr>\n",
       "    <tr>\n",
       "      <th>天津市</th>\n",
       "      <td>1001.0</td>\n",
       "      <td>1004.0</td>\n",
       "      <td>1007.0</td>\n",
       "      <td>1011.0</td>\n",
       "      <td>1024.0</td>\n",
       "      <td>1043.0</td>\n",
       "      <td>1075.0</td>\n",
       "      <td>1115.0</td>\n",
       "      <td>1176.0</td>\n",
       "      <td>1228.0</td>\n",
       "      <td>1299.0</td>\n",
       "      <td>1355.0</td>\n",
       "      <td>1413.0</td>\n",
       "      <td>1472.0</td>\n",
       "      <td>1517.0</td>\n",
       "      <td>1547.0</td>\n",
       "      <td>1562.0</td>\n",
       "      <td>1557.0</td>\n",
       "      <td>1560.0</td>\n",
       "    </tr>\n",
       "    <tr>\n",
       "      <th>宁夏回族自治区</th>\n",
       "      <td>554.0</td>\n",
       "      <td>563.0</td>\n",
       "      <td>572.0</td>\n",
       "      <td>580.0</td>\n",
       "      <td>588.0</td>\n",
       "      <td>596.0</td>\n",
       "      <td>604.0</td>\n",
       "      <td>610.0</td>\n",
       "      <td>618.0</td>\n",
       "      <td>625.0</td>\n",
       "      <td>633.0</td>\n",
       "      <td>639.0</td>\n",
       "      <td>647.0</td>\n",
       "      <td>654.0</td>\n",
       "      <td>662.0</td>\n",
       "      <td>668.0</td>\n",
       "      <td>675.0</td>\n",
       "      <td>682.0</td>\n",
       "      <td>688.0</td>\n",
       "    </tr>\n",
       "    <tr>\n",
       "      <th>安徽省</th>\n",
       "      <td>6093.0</td>\n",
       "      <td>6128.0</td>\n",
       "      <td>6144.0</td>\n",
       "      <td>6163.0</td>\n",
       "      <td>6228.0</td>\n",
       "      <td>6120.0</td>\n",
       "      <td>6110.0</td>\n",
       "      <td>6118.0</td>\n",
       "      <td>6135.0</td>\n",
       "      <td>6131.0</td>\n",
       "      <td>5957.0</td>\n",
       "      <td>5968.0</td>\n",
       "      <td>5988.0</td>\n",
       "      <td>6030.0</td>\n",
       "      <td>6083.0</td>\n",
       "      <td>6144.0</td>\n",
       "      <td>6196.0</td>\n",
       "      <td>6255.0</td>\n",
       "      <td>6324.0</td>\n",
       "    </tr>\n",
       "    <tr>\n",
       "      <th>山东省</th>\n",
       "      <td>8998.0</td>\n",
       "      <td>9041.0</td>\n",
       "      <td>9082.0</td>\n",
       "      <td>9125.0</td>\n",
       "      <td>9180.0</td>\n",
       "      <td>9248.0</td>\n",
       "      <td>9309.0</td>\n",
       "      <td>9367.0</td>\n",
       "      <td>9417.0</td>\n",
       "      <td>9470.0</td>\n",
       "      <td>9588.0</td>\n",
       "      <td>9637.0</td>\n",
       "      <td>9685.0</td>\n",
       "      <td>9733.0</td>\n",
       "      <td>9789.0</td>\n",
       "      <td>9847.0</td>\n",
       "      <td>9947.0</td>\n",
       "      <td>10006.0</td>\n",
       "      <td>10047.0</td>\n",
       "    </tr>\n",
       "    <tr>\n",
       "      <th>山西省</th>\n",
       "      <td>3247.0</td>\n",
       "      <td>3272.0</td>\n",
       "      <td>3294.0</td>\n",
       "      <td>3314.0</td>\n",
       "      <td>3335.0</td>\n",
       "      <td>3355.0</td>\n",
       "      <td>3375.0</td>\n",
       "      <td>3393.0</td>\n",
       "      <td>3411.0</td>\n",
       "      <td>3427.0</td>\n",
       "      <td>3574.0</td>\n",
       "      <td>3593.0</td>\n",
       "      <td>3611.0</td>\n",
       "      <td>3630.0</td>\n",
       "      <td>3648.0</td>\n",
       "      <td>3664.0</td>\n",
       "      <td>3682.0</td>\n",
       "      <td>3702.0</td>\n",
       "      <td>3718.0</td>\n",
       "    </tr>\n",
       "    <tr>\n",
       "      <th>广东省</th>\n",
       "      <td>8650.0</td>\n",
       "      <td>8733.0</td>\n",
       "      <td>8842.0</td>\n",
       "      <td>8963.0</td>\n",
       "      <td>9111.0</td>\n",
       "      <td>9194.0</td>\n",
       "      <td>9442.0</td>\n",
       "      <td>9660.0</td>\n",
       "      <td>9893.0</td>\n",
       "      <td>10130.0</td>\n",
       "      <td>10441.0</td>\n",
       "      <td>10505.0</td>\n",
       "      <td>10594.0</td>\n",
       "      <td>10644.0</td>\n",
       "      <td>10724.0</td>\n",
       "      <td>10849.0</td>\n",
       "      <td>10999.0</td>\n",
       "      <td>11169.0</td>\n",
       "      <td>11346.0</td>\n",
       "    </tr>\n",
       "    <tr>\n",
       "      <th>广西壮族自治区</th>\n",
       "      <td>4751.0</td>\n",
       "      <td>4788.0</td>\n",
       "      <td>4822.0</td>\n",
       "      <td>4857.0</td>\n",
       "      <td>4889.0</td>\n",
       "      <td>4660.0</td>\n",
       "      <td>4719.0</td>\n",
       "      <td>4768.0</td>\n",
       "      <td>4816.0</td>\n",
       "      <td>4856.0</td>\n",
       "      <td>4610.0</td>\n",
       "      <td>4645.0</td>\n",
       "      <td>4682.0</td>\n",
       "      <td>4719.0</td>\n",
       "      <td>4754.0</td>\n",
       "      <td>4796.0</td>\n",
       "      <td>4838.0</td>\n",
       "      <td>4885.0</td>\n",
       "      <td>4926.0</td>\n",
       "    </tr>\n",
       "    <tr>\n",
       "      <th>新疆维吾尔自治区</th>\n",
       "      <td>1849.0</td>\n",
       "      <td>1876.0</td>\n",
       "      <td>1905.0</td>\n",
       "      <td>1934.0</td>\n",
       "      <td>1963.0</td>\n",
       "      <td>2010.0</td>\n",
       "      <td>2050.0</td>\n",
       "      <td>2095.0</td>\n",
       "      <td>2131.0</td>\n",
       "      <td>2159.0</td>\n",
       "      <td>2185.0</td>\n",
       "      <td>2209.0</td>\n",
       "      <td>2233.0</td>\n",
       "      <td>2264.0</td>\n",
       "      <td>2298.0</td>\n",
       "      <td>2360.0</td>\n",
       "      <td>2398.0</td>\n",
       "      <td>2445.0</td>\n",
       "      <td>2487.0</td>\n",
       "    </tr>\n",
       "    <tr>\n",
       "      <th>江苏省</th>\n",
       "      <td>7327.0</td>\n",
       "      <td>7359.0</td>\n",
       "      <td>7406.0</td>\n",
       "      <td>7458.0</td>\n",
       "      <td>7523.0</td>\n",
       "      <td>7588.0</td>\n",
       "      <td>7656.0</td>\n",
       "      <td>7723.0</td>\n",
       "      <td>7762.0</td>\n",
       "      <td>7810.0</td>\n",
       "      <td>7869.0</td>\n",
       "      <td>7899.0</td>\n",
       "      <td>7920.0</td>\n",
       "      <td>7939.0</td>\n",
       "      <td>7960.0</td>\n",
       "      <td>7976.0</td>\n",
       "      <td>7999.0</td>\n",
       "      <td>8029.0</td>\n",
       "      <td>8051.0</td>\n",
       "    </tr>\n",
       "    <tr>\n",
       "      <th>江西省</th>\n",
       "      <td>4149.0</td>\n",
       "      <td>4186.0</td>\n",
       "      <td>4222.0</td>\n",
       "      <td>4254.0</td>\n",
       "      <td>4284.0</td>\n",
       "      <td>4311.0</td>\n",
       "      <td>4339.0</td>\n",
       "      <td>4368.0</td>\n",
       "      <td>4400.0</td>\n",
       "      <td>4432.0</td>\n",
       "      <td>4462.0</td>\n",
       "      <td>4488.0</td>\n",
       "      <td>4504.0</td>\n",
       "      <td>4522.0</td>\n",
       "      <td>4542.0</td>\n",
       "      <td>4566.0</td>\n",
       "      <td>4592.0</td>\n",
       "      <td>4622.0</td>\n",
       "      <td>4648.0</td>\n",
       "    </tr>\n",
       "    <tr>\n",
       "      <th>河北省</th>\n",
       "      <td>6674.0</td>\n",
       "      <td>6699.0</td>\n",
       "      <td>6735.0</td>\n",
       "      <td>6769.0</td>\n",
       "      <td>6809.0</td>\n",
       "      <td>6851.0</td>\n",
       "      <td>6898.0</td>\n",
       "      <td>6943.0</td>\n",
       "      <td>6989.0</td>\n",
       "      <td>7034.0</td>\n",
       "      <td>7194.0</td>\n",
       "      <td>7241.0</td>\n",
       "      <td>7288.0</td>\n",
       "      <td>7333.0</td>\n",
       "      <td>7384.0</td>\n",
       "      <td>7425.0</td>\n",
       "      <td>7470.0</td>\n",
       "      <td>7520.0</td>\n",
       "      <td>7556.0</td>\n",
       "    </tr>\n",
       "    <tr>\n",
       "      <th>河南省</th>\n",
       "      <td>9488.0</td>\n",
       "      <td>9555.0</td>\n",
       "      <td>9613.0</td>\n",
       "      <td>9667.0</td>\n",
       "      <td>9717.0</td>\n",
       "      <td>9380.0</td>\n",
       "      <td>9392.0</td>\n",
       "      <td>9360.0</td>\n",
       "      <td>9429.0</td>\n",
       "      <td>9487.0</td>\n",
       "      <td>9405.0</td>\n",
       "      <td>9388.0</td>\n",
       "      <td>9406.0</td>\n",
       "      <td>9413.0</td>\n",
       "      <td>9436.0</td>\n",
       "      <td>9480.0</td>\n",
       "      <td>9532.0</td>\n",
       "      <td>9559.0</td>\n",
       "      <td>9605.0</td>\n",
       "    </tr>\n",
       "    <tr>\n",
       "      <th>浙江省</th>\n",
       "      <td>4680.0</td>\n",
       "      <td>4729.0</td>\n",
       "      <td>4776.0</td>\n",
       "      <td>4857.0</td>\n",
       "      <td>4925.0</td>\n",
       "      <td>4991.0</td>\n",
       "      <td>5072.0</td>\n",
       "      <td>5155.0</td>\n",
       "      <td>5212.0</td>\n",
       "      <td>5276.0</td>\n",
       "      <td>5447.0</td>\n",
       "      <td>5463.0</td>\n",
       "      <td>5477.0</td>\n",
       "      <td>5498.0</td>\n",
       "      <td>5508.0</td>\n",
       "      <td>5539.0</td>\n",
       "      <td>5590.0</td>\n",
       "      <td>5657.0</td>\n",
       "      <td>5737.0</td>\n",
       "    </tr>\n",
       "    <tr>\n",
       "      <th>海南省</th>\n",
       "      <td>789.0</td>\n",
       "      <td>796.0</td>\n",
       "      <td>803.0</td>\n",
       "      <td>811.0</td>\n",
       "      <td>818.0</td>\n",
       "      <td>828.0</td>\n",
       "      <td>836.0</td>\n",
       "      <td>845.0</td>\n",
       "      <td>854.0</td>\n",
       "      <td>864.0</td>\n",
       "      <td>869.0</td>\n",
       "      <td>877.0</td>\n",
       "      <td>887.0</td>\n",
       "      <td>895.0</td>\n",
       "      <td>903.0</td>\n",
       "      <td>911.0</td>\n",
       "      <td>917.0</td>\n",
       "      <td>926.0</td>\n",
       "      <td>934.0</td>\n",
       "    </tr>\n",
       "    <tr>\n",
       "      <th>湖北省</th>\n",
       "      <td>5646.0</td>\n",
       "      <td>5658.0</td>\n",
       "      <td>5672.0</td>\n",
       "      <td>5685.0</td>\n",
       "      <td>5698.0</td>\n",
       "      <td>5710.0</td>\n",
       "      <td>5693.0</td>\n",
       "      <td>5699.0</td>\n",
       "      <td>5711.0</td>\n",
       "      <td>5720.0</td>\n",
       "      <td>5728.0</td>\n",
       "      <td>5758.0</td>\n",
       "      <td>5779.0</td>\n",
       "      <td>5799.0</td>\n",
       "      <td>5816.0</td>\n",
       "      <td>5852.0</td>\n",
       "      <td>5885.0</td>\n",
       "      <td>5902.0</td>\n",
       "      <td>5917.0</td>\n",
       "    </tr>\n",
       "    <tr>\n",
       "      <th>湖南省</th>\n",
       "      <td>6562.0</td>\n",
       "      <td>6596.0</td>\n",
       "      <td>6629.0</td>\n",
       "      <td>6663.0</td>\n",
       "      <td>6698.0</td>\n",
       "      <td>6326.0</td>\n",
       "      <td>6342.0</td>\n",
       "      <td>6355.0</td>\n",
       "      <td>6380.0</td>\n",
       "      <td>6406.0</td>\n",
       "      <td>6570.0</td>\n",
       "      <td>6596.0</td>\n",
       "      <td>6639.0</td>\n",
       "      <td>6691.0</td>\n",
       "      <td>6737.0</td>\n",
       "      <td>6783.0</td>\n",
       "      <td>6822.0</td>\n",
       "      <td>6860.0</td>\n",
       "      <td>6899.0</td>\n",
       "    </tr>\n",
       "    <tr>\n",
       "      <th>甘肃省</th>\n",
       "      <td>2515.0</td>\n",
       "      <td>2523.0</td>\n",
       "      <td>2531.0</td>\n",
       "      <td>2537.0</td>\n",
       "      <td>2541.0</td>\n",
       "      <td>2545.0</td>\n",
       "      <td>2547.0</td>\n",
       "      <td>2548.0</td>\n",
       "      <td>2551.0</td>\n",
       "      <td>2555.0</td>\n",
       "      <td>2560.0</td>\n",
       "      <td>2564.0</td>\n",
       "      <td>2578.0</td>\n",
       "      <td>2582.0</td>\n",
       "      <td>2591.0</td>\n",
       "      <td>2600.0</td>\n",
       "      <td>2610.0</td>\n",
       "      <td>2626.0</td>\n",
       "      <td>2637.0</td>\n",
       "    </tr>\n",
       "    <tr>\n",
       "      <th>福建省</th>\n",
       "      <td>3410.0</td>\n",
       "      <td>3445.0</td>\n",
       "      <td>3476.0</td>\n",
       "      <td>3502.0</td>\n",
       "      <td>3529.0</td>\n",
       "      <td>3557.0</td>\n",
       "      <td>3585.0</td>\n",
       "      <td>3612.0</td>\n",
       "      <td>3639.0</td>\n",
       "      <td>3666.0</td>\n",
       "      <td>3693.0</td>\n",
       "      <td>3720.0</td>\n",
       "      <td>3748.0</td>\n",
       "      <td>3774.0</td>\n",
       "      <td>3806.0</td>\n",
       "      <td>3839.0</td>\n",
       "      <td>3874.0</td>\n",
       "      <td>3911.0</td>\n",
       "      <td>3941.0</td>\n",
       "    </tr>\n",
       "    <tr>\n",
       "      <th>西藏自治区</th>\n",
       "      <td>258.0</td>\n",
       "      <td>264.0</td>\n",
       "      <td>268.0</td>\n",
       "      <td>272.0</td>\n",
       "      <td>276.0</td>\n",
       "      <td>280.0</td>\n",
       "      <td>285.0</td>\n",
       "      <td>289.0</td>\n",
       "      <td>292.0</td>\n",
       "      <td>296.0</td>\n",
       "      <td>300.0</td>\n",
       "      <td>303.0</td>\n",
       "      <td>308.0</td>\n",
       "      <td>312.0</td>\n",
       "      <td>318.0</td>\n",
       "      <td>324.0</td>\n",
       "      <td>331.0</td>\n",
       "      <td>337.0</td>\n",
       "      <td>344.0</td>\n",
       "    </tr>\n",
       "    <tr>\n",
       "      <th>贵州省</th>\n",
       "      <td>3756.0</td>\n",
       "      <td>3799.0</td>\n",
       "      <td>3837.0</td>\n",
       "      <td>3870.0</td>\n",
       "      <td>3904.0</td>\n",
       "      <td>3730.0</td>\n",
       "      <td>3690.0</td>\n",
       "      <td>3632.0</td>\n",
       "      <td>3596.0</td>\n",
       "      <td>3537.0</td>\n",
       "      <td>3479.0</td>\n",
       "      <td>3469.0</td>\n",
       "      <td>3484.0</td>\n",
       "      <td>3502.0</td>\n",
       "      <td>3508.0</td>\n",
       "      <td>3530.0</td>\n",
       "      <td>3555.0</td>\n",
       "      <td>3580.0</td>\n",
       "      <td>3600.0</td>\n",
       "    </tr>\n",
       "    <tr>\n",
       "      <th>辽宁省</th>\n",
       "      <td>4184.0</td>\n",
       "      <td>4194.0</td>\n",
       "      <td>4203.0</td>\n",
       "      <td>4210.0</td>\n",
       "      <td>4217.0</td>\n",
       "      <td>4221.0</td>\n",
       "      <td>4271.0</td>\n",
       "      <td>4298.0</td>\n",
       "      <td>4315.0</td>\n",
       "      <td>4341.0</td>\n",
       "      <td>4375.0</td>\n",
       "      <td>4383.0</td>\n",
       "      <td>4389.0</td>\n",
       "      <td>4390.0</td>\n",
       "      <td>4391.0</td>\n",
       "      <td>4382.0</td>\n",
       "      <td>4378.0</td>\n",
       "      <td>4369.0</td>\n",
       "      <td>4359.0</td>\n",
       "    </tr>\n",
       "    <tr>\n",
       "      <th>重庆市</th>\n",
       "      <td>2849.0</td>\n",
       "      <td>2829.0</td>\n",
       "      <td>2814.0</td>\n",
       "      <td>2803.0</td>\n",
       "      <td>2793.0</td>\n",
       "      <td>2798.0</td>\n",
       "      <td>2808.0</td>\n",
       "      <td>2816.0</td>\n",
       "      <td>2839.0</td>\n",
       "      <td>2859.0</td>\n",
       "      <td>2885.0</td>\n",
       "      <td>2919.0</td>\n",
       "      <td>2945.0</td>\n",
       "      <td>2970.0</td>\n",
       "      <td>2991.0</td>\n",
       "      <td>3017.0</td>\n",
       "      <td>3048.0</td>\n",
       "      <td>3075.0</td>\n",
       "      <td>3102.0</td>\n",
       "    </tr>\n",
       "    <tr>\n",
       "      <th>陕西省</th>\n",
       "      <td>3644.0</td>\n",
       "      <td>3653.0</td>\n",
       "      <td>3662.0</td>\n",
       "      <td>3672.0</td>\n",
       "      <td>3681.0</td>\n",
       "      <td>3690.0</td>\n",
       "      <td>3699.0</td>\n",
       "      <td>3708.0</td>\n",
       "      <td>3718.0</td>\n",
       "      <td>3727.0</td>\n",
       "      <td>3735.0</td>\n",
       "      <td>3743.0</td>\n",
       "      <td>3753.0</td>\n",
       "      <td>3764.0</td>\n",
       "      <td>3775.0</td>\n",
       "      <td>3793.0</td>\n",
       "      <td>3813.0</td>\n",
       "      <td>3835.0</td>\n",
       "      <td>3864.0</td>\n",
       "    </tr>\n",
       "    <tr>\n",
       "      <th>青海省</th>\n",
       "      <td>517.0</td>\n",
       "      <td>523.0</td>\n",
       "      <td>529.0</td>\n",
       "      <td>534.0</td>\n",
       "      <td>539.0</td>\n",
       "      <td>543.0</td>\n",
       "      <td>548.0</td>\n",
       "      <td>552.0</td>\n",
       "      <td>554.0</td>\n",
       "      <td>557.0</td>\n",
       "      <td>563.0</td>\n",
       "      <td>568.0</td>\n",
       "      <td>573.0</td>\n",
       "      <td>578.0</td>\n",
       "      <td>583.0</td>\n",
       "      <td>588.0</td>\n",
       "      <td>593.0</td>\n",
       "      <td>598.0</td>\n",
       "      <td>603.0</td>\n",
       "    </tr>\n",
       "    <tr>\n",
       "      <th>黑龙江省</th>\n",
       "      <td>3807.0</td>\n",
       "      <td>3811.0</td>\n",
       "      <td>3813.0</td>\n",
       "      <td>3815.0</td>\n",
       "      <td>3817.0</td>\n",
       "      <td>3820.0</td>\n",
       "      <td>3823.0</td>\n",
       "      <td>3824.0</td>\n",
       "      <td>3825.0</td>\n",
       "      <td>3826.0</td>\n",
       "      <td>3833.0</td>\n",
       "      <td>3834.0</td>\n",
       "      <td>3834.0</td>\n",
       "      <td>3835.0</td>\n",
       "      <td>3833.0</td>\n",
       "      <td>3812.0</td>\n",
       "      <td>3799.0</td>\n",
       "      <td>3789.0</td>\n",
       "      <td>3773.0</td>\n",
       "    </tr>\n",
       "  </tbody>\n",
       "</table>\n",
       "</div>"
      ],
      "text/plain": [
       "            2000    2001    2002    2003    2004    2005    2006    2007  \\\n",
       "上海市       1609.0  1668.0  1713.0  1766.0  1835.0  1890.0  1964.0  2064.0   \n",
       "云南省       4241.0  4287.0  4333.0  4376.0  4415.0  4450.0  4483.0  4514.0   \n",
       "内蒙古自治区    2372.0  2381.0  2384.0  2386.0  2393.0  2403.0  2415.0  2429.0   \n",
       "北京市       1364.0  1385.0  1423.0  1456.0  1493.0  1538.0  1601.0  1676.0   \n",
       "吉林省       2682.0  2691.0  2699.0  2704.0  2709.0  2716.0  2723.0  2730.0   \n",
       "四川省       8329.0  8143.0  8110.0  8176.0  8090.0  8212.0  8169.0  8127.0   \n",
       "天津市       1001.0  1004.0  1007.0  1011.0  1024.0  1043.0  1075.0  1115.0   \n",
       "宁夏回族自治区    554.0   563.0   572.0   580.0   588.0   596.0   604.0   610.0   \n",
       "安徽省       6093.0  6128.0  6144.0  6163.0  6228.0  6120.0  6110.0  6118.0   \n",
       "山东省       8998.0  9041.0  9082.0  9125.0  9180.0  9248.0  9309.0  9367.0   \n",
       "山西省       3247.0  3272.0  3294.0  3314.0  3335.0  3355.0  3375.0  3393.0   \n",
       "广东省       8650.0  8733.0  8842.0  8963.0  9111.0  9194.0  9442.0  9660.0   \n",
       "广西壮族自治区   4751.0  4788.0  4822.0  4857.0  4889.0  4660.0  4719.0  4768.0   \n",
       "新疆维吾尔自治区  1849.0  1876.0  1905.0  1934.0  1963.0  2010.0  2050.0  2095.0   \n",
       "江苏省       7327.0  7359.0  7406.0  7458.0  7523.0  7588.0  7656.0  7723.0   \n",
       "江西省       4149.0  4186.0  4222.0  4254.0  4284.0  4311.0  4339.0  4368.0   \n",
       "河北省       6674.0  6699.0  6735.0  6769.0  6809.0  6851.0  6898.0  6943.0   \n",
       "河南省       9488.0  9555.0  9613.0  9667.0  9717.0  9380.0  9392.0  9360.0   \n",
       "浙江省       4680.0  4729.0  4776.0  4857.0  4925.0  4991.0  5072.0  5155.0   \n",
       "海南省        789.0   796.0   803.0   811.0   818.0   828.0   836.0   845.0   \n",
       "湖北省       5646.0  5658.0  5672.0  5685.0  5698.0  5710.0  5693.0  5699.0   \n",
       "湖南省       6562.0  6596.0  6629.0  6663.0  6698.0  6326.0  6342.0  6355.0   \n",
       "甘肃省       2515.0  2523.0  2531.0  2537.0  2541.0  2545.0  2547.0  2548.0   \n",
       "福建省       3410.0  3445.0  3476.0  3502.0  3529.0  3557.0  3585.0  3612.0   \n",
       "西藏自治区      258.0   264.0   268.0   272.0   276.0   280.0   285.0   289.0   \n",
       "贵州省       3756.0  3799.0  3837.0  3870.0  3904.0  3730.0  3690.0  3632.0   \n",
       "辽宁省       4184.0  4194.0  4203.0  4210.0  4217.0  4221.0  4271.0  4298.0   \n",
       "重庆市       2849.0  2829.0  2814.0  2803.0  2793.0  2798.0  2808.0  2816.0   \n",
       "陕西省       3644.0  3653.0  3662.0  3672.0  3681.0  3690.0  3699.0  3708.0   \n",
       "青海省        517.0   523.0   529.0   534.0   539.0   543.0   548.0   552.0   \n",
       "黑龙江省      3807.0  3811.0  3813.0  3815.0  3817.0  3820.0  3823.0  3824.0   \n",
       "\n",
       "            2008     2009     2010     2011     2012     2013     2014  \\\n",
       "上海市       2141.0   2210.0   2303.0   2347.0   2380.0   2415.0   2426.0   \n",
       "云南省       4543.0   4571.0   4602.0   4631.0   4659.0   4687.0   4714.0   \n",
       "内蒙古自治区    2444.0   2458.0   2472.0   2482.0   2490.0   2498.0   2505.0   \n",
       "北京市       1771.0   1860.0   1962.0   2019.0   2069.0   2115.0   2152.0   \n",
       "吉林省       2734.0   2740.0   2747.0   2749.0   2750.0   2751.0   2752.0   \n",
       "四川省       8138.0   8185.0   8045.0   8050.0   8076.0   8107.0   8140.0   \n",
       "天津市       1176.0   1228.0   1299.0   1355.0   1413.0   1472.0   1517.0   \n",
       "宁夏回族自治区    618.0    625.0    633.0    639.0    647.0    654.0    662.0   \n",
       "安徽省       6135.0   6131.0   5957.0   5968.0   5988.0   6030.0   6083.0   \n",
       "山东省       9417.0   9470.0   9588.0   9637.0   9685.0   9733.0   9789.0   \n",
       "山西省       3411.0   3427.0   3574.0   3593.0   3611.0   3630.0   3648.0   \n",
       "广东省       9893.0  10130.0  10441.0  10505.0  10594.0  10644.0  10724.0   \n",
       "广西壮族自治区   4816.0   4856.0   4610.0   4645.0   4682.0   4719.0   4754.0   \n",
       "新疆维吾尔自治区  2131.0   2159.0   2185.0   2209.0   2233.0   2264.0   2298.0   \n",
       "江苏省       7762.0   7810.0   7869.0   7899.0   7920.0   7939.0   7960.0   \n",
       "江西省       4400.0   4432.0   4462.0   4488.0   4504.0   4522.0   4542.0   \n",
       "河北省       6989.0   7034.0   7194.0   7241.0   7288.0   7333.0   7384.0   \n",
       "河南省       9429.0   9487.0   9405.0   9388.0   9406.0   9413.0   9436.0   \n",
       "浙江省       5212.0   5276.0   5447.0   5463.0   5477.0   5498.0   5508.0   \n",
       "海南省        854.0    864.0    869.0    877.0    887.0    895.0    903.0   \n",
       "湖北省       5711.0   5720.0   5728.0   5758.0   5779.0   5799.0   5816.0   \n",
       "湖南省       6380.0   6406.0   6570.0   6596.0   6639.0   6691.0   6737.0   \n",
       "甘肃省       2551.0   2555.0   2560.0   2564.0   2578.0   2582.0   2591.0   \n",
       "福建省       3639.0   3666.0   3693.0   3720.0   3748.0   3774.0   3806.0   \n",
       "西藏自治区      292.0    296.0    300.0    303.0    308.0    312.0    318.0   \n",
       "贵州省       3596.0   3537.0   3479.0   3469.0   3484.0   3502.0   3508.0   \n",
       "辽宁省       4315.0   4341.0   4375.0   4383.0   4389.0   4390.0   4391.0   \n",
       "重庆市       2839.0   2859.0   2885.0   2919.0   2945.0   2970.0   2991.0   \n",
       "陕西省       3718.0   3727.0   3735.0   3743.0   3753.0   3764.0   3775.0   \n",
       "青海省        554.0    557.0    563.0    568.0    573.0    578.0    583.0   \n",
       "黑龙江省      3825.0   3826.0   3833.0   3834.0   3834.0   3835.0   3833.0   \n",
       "\n",
       "             2015     2016     2017     2018  \n",
       "上海市        2415.0   2420.0   2418.0   2424.0  \n",
       "云南省        4742.0   4771.0   4801.0   4830.0  \n",
       "内蒙古自治区     2511.0   2520.0   2529.0   2534.0  \n",
       "北京市        2171.0   2173.0   2171.0   2154.0  \n",
       "吉林省        2753.0   2733.0   2717.0   2704.0  \n",
       "四川省        8204.0   8262.0   8302.0   8341.0  \n",
       "天津市        1547.0   1562.0   1557.0   1560.0  \n",
       "宁夏回族自治区     668.0    675.0    682.0    688.0  \n",
       "安徽省        6144.0   6196.0   6255.0   6324.0  \n",
       "山东省        9847.0   9947.0  10006.0  10047.0  \n",
       "山西省        3664.0   3682.0   3702.0   3718.0  \n",
       "广东省       10849.0  10999.0  11169.0  11346.0  \n",
       "广西壮族自治区    4796.0   4838.0   4885.0   4926.0  \n",
       "新疆维吾尔自治区   2360.0   2398.0   2445.0   2487.0  \n",
       "江苏省        7976.0   7999.0   8029.0   8051.0  \n",
       "江西省        4566.0   4592.0   4622.0   4648.0  \n",
       "河北省        7425.0   7470.0   7520.0   7556.0  \n",
       "河南省        9480.0   9532.0   9559.0   9605.0  \n",
       "浙江省        5539.0   5590.0   5657.0   5737.0  \n",
       "海南省         911.0    917.0    926.0    934.0  \n",
       "湖北省        5852.0   5885.0   5902.0   5917.0  \n",
       "湖南省        6783.0   6822.0   6860.0   6899.0  \n",
       "甘肃省        2600.0   2610.0   2626.0   2637.0  \n",
       "福建省        3839.0   3874.0   3911.0   3941.0  \n",
       "西藏自治区       324.0    331.0    337.0    344.0  \n",
       "贵州省        3530.0   3555.0   3580.0   3600.0  \n",
       "辽宁省        4382.0   4378.0   4369.0   4359.0  \n",
       "重庆市        3017.0   3048.0   3075.0   3102.0  \n",
       "陕西省        3793.0   3813.0   3835.0   3864.0  \n",
       "青海省         588.0    593.0    598.0    603.0  \n",
       "黑龙江省       3812.0   3799.0   3789.0   3773.0  "
      ]
     },
     "execution_count": 29,
     "metadata": {},
     "output_type": "execute_result"
    }
   ],
   "source": [
    "pop_df = pop.unstack()\n",
    "pop_df"
   ]
  },
  {
   "cell_type": "code",
   "execution_count": 30,
   "metadata": {},
   "outputs": [
    {
     "data": {
      "text/plain": [
       "上海市   2000    1609.0\n",
       "      2001    1668.0\n",
       "      2002    1713.0\n",
       "      2003    1766.0\n",
       "      2004    1835.0\n",
       "      2005    1890.0\n",
       "      2006    1964.0\n",
       "      2007    2064.0\n",
       "      2008    2141.0\n",
       "      2009    2210.0\n",
       "      2010    2303.0\n",
       "      2011    2347.0\n",
       "      2012    2380.0\n",
       "      2013    2415.0\n",
       "      2014    2426.0\n",
       "      2015    2415.0\n",
       "      2016    2420.0\n",
       "      2017    2418.0\n",
       "      2018    2424.0\n",
       "云南省   2000    4241.0\n",
       "      2001    4287.0\n",
       "      2002    4333.0\n",
       "      2003    4376.0\n",
       "      2004    4415.0\n",
       "      2005    4450.0\n",
       "      2006    4483.0\n",
       "      2007    4514.0\n",
       "      2008    4543.0\n",
       "      2009    4571.0\n",
       "      2010    4602.0\n",
       "               ...  \n",
       "青海省   2008     554.0\n",
       "      2009     557.0\n",
       "      2010     563.0\n",
       "      2011     568.0\n",
       "      2012     573.0\n",
       "      2013     578.0\n",
       "      2014     583.0\n",
       "      2015     588.0\n",
       "      2016     593.0\n",
       "      2017     598.0\n",
       "      2018     603.0\n",
       "黑龙江省  2000    3807.0\n",
       "      2001    3811.0\n",
       "      2002    3813.0\n",
       "      2003    3815.0\n",
       "      2004    3817.0\n",
       "      2005    3820.0\n",
       "      2006    3823.0\n",
       "      2007    3824.0\n",
       "      2008    3825.0\n",
       "      2009    3826.0\n",
       "      2010    3833.0\n",
       "      2011    3834.0\n",
       "      2012    3834.0\n",
       "      2013    3835.0\n",
       "      2014    3833.0\n",
       "      2015    3812.0\n",
       "      2016    3799.0\n",
       "      2017    3789.0\n",
       "      2018    3773.0\n",
       "Length: 589, dtype: float64"
      ]
     },
     "execution_count": 30,
     "metadata": {},
     "output_type": "execute_result"
    }
   ],
   "source": [
    "pop_df.stack()"
   ]
  },
  {
   "cell_type": "markdown",
   "metadata": {},
   "source": [
    "### 创建层级索引的方法"
   ]
  },
  {
   "cell_type": "code",
   "execution_count": 32,
   "metadata": {},
   "outputs": [
    {
     "data": {
      "text/html": [
       "<div>\n",
       "<style scoped>\n",
       "    .dataframe tbody tr th:only-of-type {\n",
       "        vertical-align: middle;\n",
       "    }\n",
       "\n",
       "    .dataframe tbody tr th {\n",
       "        vertical-align: top;\n",
       "    }\n",
       "\n",
       "    .dataframe thead th {\n",
       "        text-align: right;\n",
       "    }\n",
       "</style>\n",
       "<table border=\"1\" class=\"dataframe\">\n",
       "  <thead>\n",
       "    <tr style=\"text-align: right;\">\n",
       "      <th></th>\n",
       "      <th></th>\n",
       "      <th>data1</th>\n",
       "      <th>data2</th>\n",
       "    </tr>\n",
       "  </thead>\n",
       "  <tbody>\n",
       "    <tr>\n",
       "      <th rowspan=\"2\" valign=\"top\">a</th>\n",
       "      <th>1</th>\n",
       "      <td>0.944259</td>\n",
       "      <td>0.501218</td>\n",
       "    </tr>\n",
       "    <tr>\n",
       "      <th>2</th>\n",
       "      <td>0.780425</td>\n",
       "      <td>0.305258</td>\n",
       "    </tr>\n",
       "    <tr>\n",
       "      <th rowspan=\"2\" valign=\"top\">b</th>\n",
       "      <th>1</th>\n",
       "      <td>0.125085</td>\n",
       "      <td>0.080968</td>\n",
       "    </tr>\n",
       "    <tr>\n",
       "      <th>2</th>\n",
       "      <td>0.030989</td>\n",
       "      <td>0.431338</td>\n",
       "    </tr>\n",
       "  </tbody>\n",
       "</table>\n",
       "</div>"
      ],
      "text/plain": [
       "        data1     data2\n",
       "a 1  0.944259  0.501218\n",
       "  2  0.780425  0.305258\n",
       "b 1  0.125085  0.080968\n",
       "  2  0.030989  0.431338"
      ]
     },
     "execution_count": 32,
     "metadata": {},
     "output_type": "execute_result"
    }
   ],
   "source": [
    "df = pd.DataFrame(np.random.rand(4, 2),\n",
    "                  index=[['a', 'a', 'b', 'b'], [1, 2, 1, 2]],\n",
    "                  columns=['data1', 'data2'])\n",
    "df"
   ]
  },
  {
   "cell_type": "code",
   "execution_count": 33,
   "metadata": {},
   "outputs": [
    {
     "data": {
      "text/plain": [
       "California  2000    33871648\n",
       "            2010    37253956\n",
       "Texas       2000    20851820\n",
       "            2010    25145561\n",
       "New York    2000    18976457\n",
       "            2010    19378102\n",
       "dtype: int64"
      ]
     },
     "execution_count": 33,
     "metadata": {},
     "output_type": "execute_result"
    }
   ],
   "source": [
    "data = {('California', 2000): 33871648,\n",
    "        ('California', 2010): 37253956,\n",
    "        ('Texas', 2000): 20851820,\n",
    "        ('Texas', 2010): 25145561,\n",
    "        ('New York', 2000): 18976457,\n",
    "        ('New York', 2010): 19378102}\n",
    "pd.Series(data)"
   ]
  },
  {
   "cell_type": "code",
   "execution_count": 34,
   "metadata": {},
   "outputs": [
    {
     "data": {
      "text/plain": [
       "MultiIndex(levels=[['a', 'b'], [1, 2]],\n",
       "           labels=[[0, 0, 1, 1], [0, 1, 0, 1]])"
      ]
     },
     "execution_count": 34,
     "metadata": {},
     "output_type": "execute_result"
    }
   ],
   "source": [
    "pd.MultiIndex.from_arrays([['a', 'a', 'b', 'b'], [1, 2, 1, 2]])"
   ]
  },
  {
   "cell_type": "code",
   "execution_count": 35,
   "metadata": {},
   "outputs": [
    {
     "data": {
      "text/plain": [
       "MultiIndex(levels=[['a', 'b'], [1, 2]],\n",
       "           labels=[[0, 0, 1, 1], [0, 1, 0, 1]])"
      ]
     },
     "execution_count": 35,
     "metadata": {},
     "output_type": "execute_result"
    }
   ],
   "source": [
    "pd.MultiIndex.from_tuples([('a', 1), ('a', 2), ('b', 1), ('b', 2)])"
   ]
  },
  {
   "cell_type": "code",
   "execution_count": 37,
   "metadata": {},
   "outputs": [
    {
     "data": {
      "text/plain": [
       "MultiIndex(levels=[['a', 'b'], [1, 2]],\n",
       "           labels=[[0, 0, 1, 1], [0, 1, 0, 1]])"
      ]
     },
     "execution_count": 37,
     "metadata": {},
     "output_type": "execute_result"
    }
   ],
   "source": [
    "pd.MultiIndex.from_product([['a', 'b'], [1, 2]])"
   ]
  },
  {
   "cell_type": "code",
   "execution_count": 38,
   "metadata": {},
   "outputs": [
    {
     "data": {
      "text/plain": [
       "MultiIndex(levels=[['a', 'b'], [1, 2]],\n",
       "           labels=[[0, 0, 1, 1], [0, 1, 0, 1]])"
      ]
     },
     "execution_count": 38,
     "metadata": {},
     "output_type": "execute_result"
    }
   ],
   "source": [
    "pd.MultiIndex(levels=[['a', 'b'], [1, 2]],\n",
    "              labels=[[0, 0, 1, 1], [0, 1, 0, 1]])"
   ]
  },
  {
   "cell_type": "markdown",
   "metadata": {},
   "source": [
    "也可以给每一层级的索引加上名字，"
   ]
  },
  {
   "cell_type": "code",
   "execution_count": 39,
   "metadata": {},
   "outputs": [
    {
     "data": {
      "text/plain": [
       "北京市  2018    2154.0\n",
       "     2017    2171.0\n",
       "     2016    2173.0\n",
       "     2015    2171.0\n",
       "     2014    2152.0\n",
       "     2013    2115.0\n",
       "     2012    2069.0\n",
       "     2011    2019.0\n",
       "     2010    1962.0\n",
       "     2009    1860.0\n",
       "     2008    1771.0\n",
       "     2007    1676.0\n",
       "     2006    1601.0\n",
       "     2005    1538.0\n",
       "     2004    1493.0\n",
       "     2003    1456.0\n",
       "     2002    1423.0\n",
       "     2001    1385.0\n",
       "     2000    1364.0\n",
       "安徽省  2018    6324.0\n",
       "     2017    6255.0\n",
       "     2016    6196.0\n",
       "     2015    6144.0\n",
       "     2014    6083.0\n",
       "     2013    6030.0\n",
       "     2012    5988.0\n",
       "     2011    5968.0\n",
       "     2010    5957.0\n",
       "     2009    6131.0\n",
       "     2008    6135.0\n",
       "              ...  \n",
       "浙江省  2010    5447.0\n",
       "     2009    5276.0\n",
       "     2008    5212.0\n",
       "     2007    5155.0\n",
       "     2006    5072.0\n",
       "     2005    4991.0\n",
       "     2004    4925.0\n",
       "     2003    4857.0\n",
       "     2002    4776.0\n",
       "     2001    4729.0\n",
       "     2000    4680.0\n",
       "重庆市  2018    3102.0\n",
       "     2017    3075.0\n",
       "     2016    3048.0\n",
       "     2015    3017.0\n",
       "     2014    2991.0\n",
       "     2013    2970.0\n",
       "     2012    2945.0\n",
       "     2011    2919.0\n",
       "     2010    2885.0\n",
       "     2009    2859.0\n",
       "     2008    2839.0\n",
       "     2007    2816.0\n",
       "     2006    2808.0\n",
       "     2005    2798.0\n",
       "     2004    2793.0\n",
       "     2003    2803.0\n",
       "     2002    2814.0\n",
       "     2001    2829.0\n",
       "     2000    2849.0\n",
       "Length: 589, dtype: float64"
      ]
     },
     "execution_count": 39,
     "metadata": {},
     "output_type": "execute_result"
    }
   ],
   "source": [
    "pop"
   ]
  },
  {
   "cell_type": "code",
   "execution_count": 41,
   "metadata": {},
   "outputs": [
    {
     "data": {
      "text/plain": [
       "省    年份  \n",
       "北京市  2018    2154.0\n",
       "     2017    2171.0\n",
       "     2016    2173.0\n",
       "     2015    2171.0\n",
       "     2014    2152.0\n",
       "     2013    2115.0\n",
       "     2012    2069.0\n",
       "     2011    2019.0\n",
       "     2010    1962.0\n",
       "     2009    1860.0\n",
       "     2008    1771.0\n",
       "     2007    1676.0\n",
       "     2006    1601.0\n",
       "     2005    1538.0\n",
       "     2004    1493.0\n",
       "     2003    1456.0\n",
       "     2002    1423.0\n",
       "     2001    1385.0\n",
       "     2000    1364.0\n",
       "安徽省  2018    6324.0\n",
       "     2017    6255.0\n",
       "     2016    6196.0\n",
       "     2015    6144.0\n",
       "     2014    6083.0\n",
       "     2013    6030.0\n",
       "     2012    5988.0\n",
       "     2011    5968.0\n",
       "     2010    5957.0\n",
       "     2009    6131.0\n",
       "     2008    6135.0\n",
       "              ...  \n",
       "浙江省  2010    5447.0\n",
       "     2009    5276.0\n",
       "     2008    5212.0\n",
       "     2007    5155.0\n",
       "     2006    5072.0\n",
       "     2005    4991.0\n",
       "     2004    4925.0\n",
       "     2003    4857.0\n",
       "     2002    4776.0\n",
       "     2001    4729.0\n",
       "     2000    4680.0\n",
       "重庆市  2018    3102.0\n",
       "     2017    3075.0\n",
       "     2016    3048.0\n",
       "     2015    3017.0\n",
       "     2014    2991.0\n",
       "     2013    2970.0\n",
       "     2012    2945.0\n",
       "     2011    2919.0\n",
       "     2010    2885.0\n",
       "     2009    2859.0\n",
       "     2008    2839.0\n",
       "     2007    2816.0\n",
       "     2006    2808.0\n",
       "     2005    2798.0\n",
       "     2004    2793.0\n",
       "     2003    2803.0\n",
       "     2002    2814.0\n",
       "     2001    2829.0\n",
       "     2000    2849.0\n",
       "Length: 589, dtype: float64"
      ]
     },
     "execution_count": 41,
     "metadata": {},
     "output_type": "execute_result"
    }
   ],
   "source": [
    "pop.index.names = ['省', '年份']\n",
    "pop"
   ]
  },
  {
   "cell_type": "markdown",
   "metadata": {},
   "source": [
    "### 列的层级"
   ]
  },
  {
   "cell_type": "markdown",
   "metadata": {},
   "source": [
    "`DataFrame` 的列也可以加上多层索引"
   ]
  },
  {
   "cell_type": "code",
   "execution_count": 42,
   "metadata": {},
   "outputs": [
    {
     "data": {
      "text/html": [
       "<div>\n",
       "<style scoped>\n",
       "    .dataframe tbody tr th:only-of-type {\n",
       "        vertical-align: middle;\n",
       "    }\n",
       "\n",
       "    .dataframe tbody tr th {\n",
       "        vertical-align: top;\n",
       "    }\n",
       "\n",
       "    .dataframe thead tr th {\n",
       "        text-align: left;\n",
       "    }\n",
       "\n",
       "    .dataframe thead tr:last-of-type th {\n",
       "        text-align: right;\n",
       "    }\n",
       "</style>\n",
       "<table border=\"1\" class=\"dataframe\">\n",
       "  <thead>\n",
       "    <tr>\n",
       "      <th></th>\n",
       "      <th>subject</th>\n",
       "      <th colspan=\"2\" halign=\"left\">Bob</th>\n",
       "      <th colspan=\"2\" halign=\"left\">Guido</th>\n",
       "      <th colspan=\"2\" halign=\"left\">Sue</th>\n",
       "    </tr>\n",
       "    <tr>\n",
       "      <th></th>\n",
       "      <th>type</th>\n",
       "      <th>HR</th>\n",
       "      <th>Temp</th>\n",
       "      <th>HR</th>\n",
       "      <th>Temp</th>\n",
       "      <th>HR</th>\n",
       "      <th>Temp</th>\n",
       "    </tr>\n",
       "    <tr>\n",
       "      <th>year</th>\n",
       "      <th>visit</th>\n",
       "      <th></th>\n",
       "      <th></th>\n",
       "      <th></th>\n",
       "      <th></th>\n",
       "      <th></th>\n",
       "      <th></th>\n",
       "    </tr>\n",
       "  </thead>\n",
       "  <tbody>\n",
       "    <tr>\n",
       "      <th rowspan=\"2\" valign=\"top\">2013</th>\n",
       "      <th>1</th>\n",
       "      <td>48.0</td>\n",
       "      <td>36.8</td>\n",
       "      <td>43.0</td>\n",
       "      <td>36.8</td>\n",
       "      <td>29.0</td>\n",
       "      <td>36.5</td>\n",
       "    </tr>\n",
       "    <tr>\n",
       "      <th>2</th>\n",
       "      <td>45.0</td>\n",
       "      <td>37.0</td>\n",
       "      <td>39.0</td>\n",
       "      <td>36.4</td>\n",
       "      <td>40.0</td>\n",
       "      <td>36.0</td>\n",
       "    </tr>\n",
       "    <tr>\n",
       "      <th rowspan=\"2\" valign=\"top\">2014</th>\n",
       "      <th>1</th>\n",
       "      <td>47.0</td>\n",
       "      <td>34.5</td>\n",
       "      <td>43.0</td>\n",
       "      <td>36.3</td>\n",
       "      <td>48.0</td>\n",
       "      <td>35.3</td>\n",
       "    </tr>\n",
       "    <tr>\n",
       "      <th>2</th>\n",
       "      <td>33.0</td>\n",
       "      <td>36.5</td>\n",
       "      <td>54.0</td>\n",
       "      <td>37.5</td>\n",
       "      <td>25.0</td>\n",
       "      <td>36.9</td>\n",
       "    </tr>\n",
       "  </tbody>\n",
       "</table>\n",
       "</div>"
      ],
      "text/plain": [
       "subject      Bob       Guido         Sue      \n",
       "type          HR  Temp    HR  Temp    HR  Temp\n",
       "year visit                                    \n",
       "2013 1      48.0  36.8  43.0  36.8  29.0  36.5\n",
       "     2      45.0  37.0  39.0  36.4  40.0  36.0\n",
       "2014 1      47.0  34.5  43.0  36.3  48.0  35.3\n",
       "     2      33.0  36.5  54.0  37.5  25.0  36.9"
      ]
     },
     "execution_count": 42,
     "metadata": {},
     "output_type": "execute_result"
    }
   ],
   "source": [
    "# hierarchical indices and columns\n",
    "index = pd.MultiIndex.from_product([[2013, 2014], [1, 2]],\n",
    "                                   names=['year', 'visit'])\n",
    "columns = pd.MultiIndex.from_product([['Bob', 'Guido', 'Sue'], ['HR', 'Temp']],\n",
    "                                     names=['subject', 'type'])\n",
    "\n",
    "# mock some data\n",
    "data = np.round(np.random.randn(4, 6), 1)\n",
    "data[:, ::2] *= 10\n",
    "data += 37\n",
    "\n",
    "# create the DataFrame\n",
    "health_data = pd.DataFrame(data, index=index, columns=columns)\n",
    "health_data"
   ]
  },
  {
   "cell_type": "code",
   "execution_count": 43,
   "metadata": {},
   "outputs": [
    {
     "data": {
      "text/html": [
       "<div>\n",
       "<style scoped>\n",
       "    .dataframe tbody tr th:only-of-type {\n",
       "        vertical-align: middle;\n",
       "    }\n",
       "\n",
       "    .dataframe tbody tr th {\n",
       "        vertical-align: top;\n",
       "    }\n",
       "\n",
       "    .dataframe thead th {\n",
       "        text-align: right;\n",
       "    }\n",
       "</style>\n",
       "<table border=\"1\" class=\"dataframe\">\n",
       "  <thead>\n",
       "    <tr style=\"text-align: right;\">\n",
       "      <th></th>\n",
       "      <th>type</th>\n",
       "      <th>HR</th>\n",
       "      <th>Temp</th>\n",
       "    </tr>\n",
       "    <tr>\n",
       "      <th>year</th>\n",
       "      <th>visit</th>\n",
       "      <th></th>\n",
       "      <th></th>\n",
       "    </tr>\n",
       "  </thead>\n",
       "  <tbody>\n",
       "    <tr>\n",
       "      <th rowspan=\"2\" valign=\"top\">2013</th>\n",
       "      <th>1</th>\n",
       "      <td>29.0</td>\n",
       "      <td>36.5</td>\n",
       "    </tr>\n",
       "    <tr>\n",
       "      <th>2</th>\n",
       "      <td>40.0</td>\n",
       "      <td>36.0</td>\n",
       "    </tr>\n",
       "    <tr>\n",
       "      <th rowspan=\"2\" valign=\"top\">2014</th>\n",
       "      <th>1</th>\n",
       "      <td>48.0</td>\n",
       "      <td>35.3</td>\n",
       "    </tr>\n",
       "    <tr>\n",
       "      <th>2</th>\n",
       "      <td>25.0</td>\n",
       "      <td>36.9</td>\n",
       "    </tr>\n",
       "  </tbody>\n",
       "</table>\n",
       "</div>"
      ],
      "text/plain": [
       "type          HR  Temp\n",
       "year visit            \n",
       "2013 1      29.0  36.5\n",
       "     2      40.0  36.0\n",
       "2014 1      48.0  35.3\n",
       "     2      25.0  36.9"
      ]
     },
     "execution_count": 43,
     "metadata": {},
     "output_type": "execute_result"
    }
   ],
   "source": [
    "health_data['Sue']"
   ]
  },
  {
   "cell_type": "markdown",
   "metadata": {},
   "source": [
    "### `MultiIndex` 的索引和切片"
   ]
  },
  {
   "cell_type": "markdown",
   "metadata": {},
   "source": [
    "下面先介绍多层索引的 `Series` 对象的索引方法："
   ]
  },
  {
   "cell_type": "code",
   "execution_count": 44,
   "metadata": {},
   "outputs": [
    {
     "data": {
      "text/plain": [
       "省    年份  \n",
       "北京市  2018    2154.0\n",
       "     2017    2171.0\n",
       "     2016    2173.0\n",
       "     2015    2171.0\n",
       "     2014    2152.0\n",
       "     2013    2115.0\n",
       "     2012    2069.0\n",
       "     2011    2019.0\n",
       "     2010    1962.0\n",
       "     2009    1860.0\n",
       "     2008    1771.0\n",
       "     2007    1676.0\n",
       "     2006    1601.0\n",
       "     2005    1538.0\n",
       "     2004    1493.0\n",
       "     2003    1456.0\n",
       "     2002    1423.0\n",
       "     2001    1385.0\n",
       "     2000    1364.0\n",
       "安徽省  2018    6324.0\n",
       "     2017    6255.0\n",
       "     2016    6196.0\n",
       "     2015    6144.0\n",
       "     2014    6083.0\n",
       "     2013    6030.0\n",
       "     2012    5988.0\n",
       "     2011    5968.0\n",
       "     2010    5957.0\n",
       "     2009    6131.0\n",
       "     2008    6135.0\n",
       "              ...  \n",
       "浙江省  2010    5447.0\n",
       "     2009    5276.0\n",
       "     2008    5212.0\n",
       "     2007    5155.0\n",
       "     2006    5072.0\n",
       "     2005    4991.0\n",
       "     2004    4925.0\n",
       "     2003    4857.0\n",
       "     2002    4776.0\n",
       "     2001    4729.0\n",
       "     2000    4680.0\n",
       "重庆市  2018    3102.0\n",
       "     2017    3075.0\n",
       "     2016    3048.0\n",
       "     2015    3017.0\n",
       "     2014    2991.0\n",
       "     2013    2970.0\n",
       "     2012    2945.0\n",
       "     2011    2919.0\n",
       "     2010    2885.0\n",
       "     2009    2859.0\n",
       "     2008    2839.0\n",
       "     2007    2816.0\n",
       "     2006    2808.0\n",
       "     2005    2798.0\n",
       "     2004    2793.0\n",
       "     2003    2803.0\n",
       "     2002    2814.0\n",
       "     2001    2829.0\n",
       "     2000    2849.0\n",
       "Length: 589, dtype: float64"
      ]
     },
     "execution_count": 44,
     "metadata": {},
     "output_type": "execute_result"
    }
   ],
   "source": [
    "pop"
   ]
  },
  {
   "cell_type": "code",
   "execution_count": 45,
   "metadata": {},
   "outputs": [
    {
     "data": {
      "text/plain": [
       "1364.0"
      ]
     },
     "execution_count": 45,
     "metadata": {},
     "output_type": "execute_result"
    }
   ],
   "source": [
    "pop['北京市', 2000]"
   ]
  },
  {
   "cell_type": "code",
   "execution_count": 46,
   "metadata": {},
   "outputs": [
    {
     "data": {
      "text/plain": [
       "年份\n",
       "2018    2154.0\n",
       "2017    2171.0\n",
       "2016    2173.0\n",
       "2015    2171.0\n",
       "2014    2152.0\n",
       "2013    2115.0\n",
       "2012    2069.0\n",
       "2011    2019.0\n",
       "2010    1962.0\n",
       "2009    1860.0\n",
       "2008    1771.0\n",
       "2007    1676.0\n",
       "2006    1601.0\n",
       "2005    1538.0\n",
       "2004    1493.0\n",
       "2003    1456.0\n",
       "2002    1423.0\n",
       "2001    1385.0\n",
       "2000    1364.0\n",
       "dtype: float64"
      ]
     },
     "execution_count": 46,
     "metadata": {},
     "output_type": "execute_result"
    }
   ],
   "source": [
    "pop['北京市']"
   ]
  },
  {
   "cell_type": "code",
   "execution_count": 47,
   "metadata": {},
   "outputs": [
    {
     "data": {
      "text/plain": [
       "省\n",
       "北京市          2154.0\n",
       "安徽省          6324.0\n",
       "福建省          3941.0\n",
       "甘肃省          2637.0\n",
       "广东省         11346.0\n",
       "广西壮族自治区      4926.0\n",
       "贵州省          3600.0\n",
       "海南省           934.0\n",
       "河北省          7556.0\n",
       "河南省          9605.0\n",
       "黑龙江省         3773.0\n",
       "湖北省          5917.0\n",
       "湖南省          6899.0\n",
       "吉林省          2704.0\n",
       "江苏省          8051.0\n",
       "江西省          4648.0\n",
       "辽宁省          4359.0\n",
       "内蒙古自治区       2534.0\n",
       "宁夏回族自治区       688.0\n",
       "青海省           603.0\n",
       "山东省         10047.0\n",
       "山西省          3718.0\n",
       "陕西省          3864.0\n",
       "上海市          2424.0\n",
       "四川省          8341.0\n",
       "天津市          1560.0\n",
       "西藏自治区         344.0\n",
       "新疆维吾尔自治区     2487.0\n",
       "云南省          4830.0\n",
       "浙江省          5737.0\n",
       "重庆市          3102.0\n",
       "dtype: float64"
      ]
     },
     "execution_count": 47,
     "metadata": {},
     "output_type": "execute_result"
    }
   ],
   "source": [
    "pop[:, 2018]"
   ]
  },
  {
   "cell_type": "code",
   "execution_count": 91,
   "metadata": {},
   "outputs": [
    {
     "data": {
      "text/plain": [
       "省    年份  \n",
       "广东省  2018    11346.0\n",
       "     2017    11169.0\n",
       "     2016    10999.0\n",
       "     2015    10849.0\n",
       "     2014    10724.0\n",
       "     2013    10644.0\n",
       "     2012    10594.0\n",
       "     2011    10505.0\n",
       "     2010    10441.0\n",
       "     2009    10130.0\n",
       "山东省  2018    10047.0\n",
       "     2017    10006.0\n",
       "dtype: float64"
      ]
     },
     "execution_count": 91,
     "metadata": {},
     "output_type": "execute_result"
    }
   ],
   "source": [
    "pop[pop > 10000]"
   ]
  },
  {
   "cell_type": "code",
   "execution_count": 48,
   "metadata": {},
   "outputs": [
    {
     "data": {
      "text/plain": [
       "年份\n",
       "2018    11346.0\n",
       "2017    11169.0\n",
       "2016    10999.0\n",
       "2015    10849.0\n",
       "2014    10724.0\n",
       "2013    10644.0\n",
       "2012    10594.0\n",
       "2011    10505.0\n",
       "2010    10441.0\n",
       "2009    10130.0\n",
       "2008     9893.0\n",
       "2007     9660.0\n",
       "2006     9442.0\n",
       "2005     9194.0\n",
       "2004     9111.0\n",
       "2003     8963.0\n",
       "2002     8842.0\n",
       "2001     8733.0\n",
       "2000     8650.0\n",
       "dtype: float64"
      ]
     },
     "execution_count": 48,
     "metadata": {},
     "output_type": "execute_result"
    }
   ],
   "source": [
    "pop['广东省']"
   ]
  },
  {
   "cell_type": "markdown",
   "metadata": {},
   "source": [
    "下面介绍 `DataFrame` 对象的层级索引。但要注意，`DataFrame` 的列索引是**主索引**。"
   ]
  },
  {
   "cell_type": "code",
   "execution_count": 49,
   "metadata": {},
   "outputs": [
    {
     "data": {
      "text/html": [
       "<div>\n",
       "<style scoped>\n",
       "    .dataframe tbody tr th:only-of-type {\n",
       "        vertical-align: middle;\n",
       "    }\n",
       "\n",
       "    .dataframe tbody tr th {\n",
       "        vertical-align: top;\n",
       "    }\n",
       "\n",
       "    .dataframe thead tr th {\n",
       "        text-align: left;\n",
       "    }\n",
       "\n",
       "    .dataframe thead tr:last-of-type th {\n",
       "        text-align: right;\n",
       "    }\n",
       "</style>\n",
       "<table border=\"1\" class=\"dataframe\">\n",
       "  <thead>\n",
       "    <tr>\n",
       "      <th></th>\n",
       "      <th>subject</th>\n",
       "      <th colspan=\"2\" halign=\"left\">Bob</th>\n",
       "      <th colspan=\"2\" halign=\"left\">Guido</th>\n",
       "      <th colspan=\"2\" halign=\"left\">Sue</th>\n",
       "    </tr>\n",
       "    <tr>\n",
       "      <th></th>\n",
       "      <th>type</th>\n",
       "      <th>HR</th>\n",
       "      <th>Temp</th>\n",
       "      <th>HR</th>\n",
       "      <th>Temp</th>\n",
       "      <th>HR</th>\n",
       "      <th>Temp</th>\n",
       "    </tr>\n",
       "    <tr>\n",
       "      <th>year</th>\n",
       "      <th>visit</th>\n",
       "      <th></th>\n",
       "      <th></th>\n",
       "      <th></th>\n",
       "      <th></th>\n",
       "      <th></th>\n",
       "      <th></th>\n",
       "    </tr>\n",
       "  </thead>\n",
       "  <tbody>\n",
       "    <tr>\n",
       "      <th rowspan=\"2\" valign=\"top\">2013</th>\n",
       "      <th>1</th>\n",
       "      <td>48.0</td>\n",
       "      <td>36.8</td>\n",
       "      <td>43.0</td>\n",
       "      <td>36.8</td>\n",
       "      <td>29.0</td>\n",
       "      <td>36.5</td>\n",
       "    </tr>\n",
       "    <tr>\n",
       "      <th>2</th>\n",
       "      <td>45.0</td>\n",
       "      <td>37.0</td>\n",
       "      <td>39.0</td>\n",
       "      <td>36.4</td>\n",
       "      <td>40.0</td>\n",
       "      <td>36.0</td>\n",
       "    </tr>\n",
       "    <tr>\n",
       "      <th rowspan=\"2\" valign=\"top\">2014</th>\n",
       "      <th>1</th>\n",
       "      <td>47.0</td>\n",
       "      <td>34.5</td>\n",
       "      <td>43.0</td>\n",
       "      <td>36.3</td>\n",
       "      <td>48.0</td>\n",
       "      <td>35.3</td>\n",
       "    </tr>\n",
       "    <tr>\n",
       "      <th>2</th>\n",
       "      <td>33.0</td>\n",
       "      <td>36.5</td>\n",
       "      <td>54.0</td>\n",
       "      <td>37.5</td>\n",
       "      <td>25.0</td>\n",
       "      <td>36.9</td>\n",
       "    </tr>\n",
       "  </tbody>\n",
       "</table>\n",
       "</div>"
      ],
      "text/plain": [
       "subject      Bob       Guido         Sue      \n",
       "type          HR  Temp    HR  Temp    HR  Temp\n",
       "year visit                                    \n",
       "2013 1      48.0  36.8  43.0  36.8  29.0  36.5\n",
       "     2      45.0  37.0  39.0  36.4  40.0  36.0\n",
       "2014 1      47.0  34.5  43.0  36.3  48.0  35.3\n",
       "     2      33.0  36.5  54.0  37.5  25.0  36.9"
      ]
     },
     "execution_count": 49,
     "metadata": {},
     "output_type": "execute_result"
    }
   ],
   "source": [
    "health_data"
   ]
  },
  {
   "cell_type": "code",
   "execution_count": 52,
   "metadata": {},
   "outputs": [
    {
     "data": {
      "text/plain": [
       "year  visit\n",
       "2013  1        43.0\n",
       "      2        39.0\n",
       "2014  1        43.0\n",
       "      2        54.0\n",
       "Name: (Guido, HR), dtype: float64"
      ]
     },
     "execution_count": 52,
     "metadata": {},
     "output_type": "execute_result"
    }
   ],
   "source": [
    "health_data['Guido', 'HR'] # 列名才是主索引"
   ]
  },
  {
   "cell_type": "code",
   "execution_count": 96,
   "metadata": {},
   "outputs": [
    {
     "data": {
      "text/html": [
       "<div>\n",
       "<style scoped>\n",
       "    .dataframe tbody tr th:only-of-type {\n",
       "        vertical-align: middle;\n",
       "    }\n",
       "\n",
       "    .dataframe tbody tr th {\n",
       "        vertical-align: top;\n",
       "    }\n",
       "\n",
       "    .dataframe thead tr th {\n",
       "        text-align: left;\n",
       "    }\n",
       "\n",
       "    .dataframe thead tr:last-of-type th {\n",
       "        text-align: right;\n",
       "    }\n",
       "</style>\n",
       "<table border=\"1\" class=\"dataframe\">\n",
       "  <thead>\n",
       "    <tr>\n",
       "      <th></th>\n",
       "      <th>subject</th>\n",
       "      <th colspan=\"2\" halign=\"left\">Bob</th>\n",
       "    </tr>\n",
       "    <tr>\n",
       "      <th></th>\n",
       "      <th>type</th>\n",
       "      <th>HR</th>\n",
       "      <th>Temp</th>\n",
       "    </tr>\n",
       "    <tr>\n",
       "      <th>year</th>\n",
       "      <th>visit</th>\n",
       "      <th></th>\n",
       "      <th></th>\n",
       "    </tr>\n",
       "  </thead>\n",
       "  <tbody>\n",
       "    <tr>\n",
       "      <th rowspan=\"2\" valign=\"top\">2013</th>\n",
       "      <th>1</th>\n",
       "      <td>34.0</td>\n",
       "      <td>36.0</td>\n",
       "    </tr>\n",
       "    <tr>\n",
       "      <th>2</th>\n",
       "      <td>30.0</td>\n",
       "      <td>37.2</td>\n",
       "    </tr>\n",
       "  </tbody>\n",
       "</table>\n",
       "</div>"
      ],
      "text/plain": [
       "subject      Bob      \n",
       "type          HR  Temp\n",
       "year visit            \n",
       "2013 1      34.0  36.0\n",
       "     2      30.0  37.2"
      ]
     },
     "execution_count": 96,
     "metadata": {},
     "output_type": "execute_result"
    }
   ],
   "source": [
    "health_data.iloc[:2, :2] # 隐式索引 "
   ]
  },
  {
   "cell_type": "code",
   "execution_count": 57,
   "metadata": {},
   "outputs": [
    {
     "data": {
      "text/html": [
       "<div>\n",
       "<style scoped>\n",
       "    .dataframe tbody tr th:only-of-type {\n",
       "        vertical-align: middle;\n",
       "    }\n",
       "\n",
       "    .dataframe tbody tr th {\n",
       "        vertical-align: top;\n",
       "    }\n",
       "\n",
       "    .dataframe thead tr th {\n",
       "        text-align: left;\n",
       "    }\n",
       "\n",
       "    .dataframe thead tr:last-of-type th {\n",
       "        text-align: right;\n",
       "    }\n",
       "</style>\n",
       "<table border=\"1\" class=\"dataframe\">\n",
       "  <thead>\n",
       "    <tr>\n",
       "      <th>subject</th>\n",
       "      <th colspan=\"2\" halign=\"left\">Bob</th>\n",
       "      <th colspan=\"2\" halign=\"left\">Guido</th>\n",
       "      <th colspan=\"2\" halign=\"left\">Sue</th>\n",
       "    </tr>\n",
       "    <tr>\n",
       "      <th>type</th>\n",
       "      <th>HR</th>\n",
       "      <th>Temp</th>\n",
       "      <th>HR</th>\n",
       "      <th>Temp</th>\n",
       "      <th>HR</th>\n",
       "      <th>Temp</th>\n",
       "    </tr>\n",
       "    <tr>\n",
       "      <th>visit</th>\n",
       "      <th></th>\n",
       "      <th></th>\n",
       "      <th></th>\n",
       "      <th></th>\n",
       "      <th></th>\n",
       "      <th></th>\n",
       "    </tr>\n",
       "  </thead>\n",
       "  <tbody>\n",
       "    <tr>\n",
       "      <th>1</th>\n",
       "      <td>48.0</td>\n",
       "      <td>36.8</td>\n",
       "      <td>43.0</td>\n",
       "      <td>36.8</td>\n",
       "      <td>29.0</td>\n",
       "      <td>36.5</td>\n",
       "    </tr>\n",
       "    <tr>\n",
       "      <th>2</th>\n",
       "      <td>45.0</td>\n",
       "      <td>37.0</td>\n",
       "      <td>39.0</td>\n",
       "      <td>36.4</td>\n",
       "      <td>40.0</td>\n",
       "      <td>36.0</td>\n",
       "    </tr>\n",
       "  </tbody>\n",
       "</table>\n",
       "</div>"
      ],
      "text/plain": [
       "subject   Bob       Guido         Sue      \n",
       "type       HR  Temp    HR  Temp    HR  Temp\n",
       "visit                                      \n",
       "1        48.0  36.8  43.0  36.8  29.0  36.5\n",
       "2        45.0  37.0  39.0  36.4  40.0  36.0"
      ]
     },
     "execution_count": 57,
     "metadata": {},
     "output_type": "execute_result"
    }
   ],
   "source": [
    "health_data.loc[2013]"
   ]
  },
  {
   "cell_type": "code",
   "execution_count": 55,
   "metadata": {},
   "outputs": [
    {
     "ename": "SyntaxError",
     "evalue": "invalid syntax (<ipython-input-55-fb34fa30ac09>, line 1)",
     "output_type": "error",
     "traceback": [
      "\u001b[1;36m  File \u001b[1;32m\"<ipython-input-55-fb34fa30ac09>\"\u001b[1;36m, line \u001b[1;32m1\u001b[0m\n\u001b[1;33m    health_data.loc[(:, 1), (:, 'HR')]\u001b[0m\n\u001b[1;37m                     ^\u001b[0m\n\u001b[1;31mSyntaxError\u001b[0m\u001b[1;31m:\u001b[0m invalid syntax\n"
     ]
    }
   ],
   "source": [
    "health_data.loc[(:, 1), (:, 'HR')]"
   ]
  },
  {
   "cell_type": "code",
   "execution_count": 56,
   "metadata": {},
   "outputs": [
    {
     "data": {
      "text/html": [
       "<div>\n",
       "<style scoped>\n",
       "    .dataframe tbody tr th:only-of-type {\n",
       "        vertical-align: middle;\n",
       "    }\n",
       "\n",
       "    .dataframe tbody tr th {\n",
       "        vertical-align: top;\n",
       "    }\n",
       "\n",
       "    .dataframe thead tr th {\n",
       "        text-align: left;\n",
       "    }\n",
       "\n",
       "    .dataframe thead tr:last-of-type th {\n",
       "        text-align: right;\n",
       "    }\n",
       "</style>\n",
       "<table border=\"1\" class=\"dataframe\">\n",
       "  <thead>\n",
       "    <tr>\n",
       "      <th></th>\n",
       "      <th>subject</th>\n",
       "      <th>Bob</th>\n",
       "      <th>Guido</th>\n",
       "      <th>Sue</th>\n",
       "    </tr>\n",
       "    <tr>\n",
       "      <th></th>\n",
       "      <th>type</th>\n",
       "      <th>HR</th>\n",
       "      <th>HR</th>\n",
       "      <th>HR</th>\n",
       "    </tr>\n",
       "    <tr>\n",
       "      <th>year</th>\n",
       "      <th>visit</th>\n",
       "      <th></th>\n",
       "      <th></th>\n",
       "      <th></th>\n",
       "    </tr>\n",
       "  </thead>\n",
       "  <tbody>\n",
       "    <tr>\n",
       "      <th>2013</th>\n",
       "      <th>1</th>\n",
       "      <td>48.0</td>\n",
       "      <td>43.0</td>\n",
       "      <td>29.0</td>\n",
       "    </tr>\n",
       "    <tr>\n",
       "      <th>2014</th>\n",
       "      <th>1</th>\n",
       "      <td>47.0</td>\n",
       "      <td>43.0</td>\n",
       "      <td>48.0</td>\n",
       "    </tr>\n",
       "  </tbody>\n",
       "</table>\n",
       "</div>"
      ],
      "text/plain": [
       "subject      Bob Guido   Sue\n",
       "type          HR    HR    HR\n",
       "year visit                  \n",
       "2013 1      48.0  43.0  29.0\n",
       "2014 1      47.0  43.0  48.0"
      ]
     },
     "execution_count": 56,
     "metadata": {},
     "output_type": "execute_result"
    }
   ],
   "source": [
    "idx = pd.IndexSlice\n",
    "health_data.loc[idx[:, 1], idx[:, 'HR']]"
   ]
  },
  {
   "cell_type": "markdown",
   "metadata": {},
   "source": [
    "### 层级索引的排序"
   ]
  },
  {
   "cell_type": "markdown",
   "metadata": {},
   "source": [
    "**注意，对于 `MultiIndex` 来说，如果索引没有排序，大部分切片(slicing) 操作都会失败！**"
   ]
  },
  {
   "cell_type": "code",
   "execution_count": 58,
   "metadata": {},
   "outputs": [
    {
     "data": {
      "text/plain": [
       "char  int\n",
       "a     1      0.038286\n",
       "      2      0.797415\n",
       "c     1      0.373559\n",
       "      2      0.387682\n",
       "b     1      0.465409\n",
       "      2      0.317006\n",
       "dtype: float64"
      ]
     },
     "execution_count": 58,
     "metadata": {},
     "output_type": "execute_result"
    }
   ],
   "source": [
    "index = pd.MultiIndex.from_product([['a', 'c', 'b'], [1, 2]])\n",
    "data = pd.Series(np.random.rand(6), index=index)\n",
    "data.index.names = ['char', 'int']\n",
    "data"
   ]
  },
  {
   "cell_type": "code",
   "execution_count": null,
   "metadata": {},
   "outputs": [],
   "source": [
    "try:\n",
    "    data['a':'b']\n",
    "except KeyError as e:\n",
    "    print(type(e))\n",
    "    print(e)"
   ]
  },
  {
   "cell_type": "code",
   "execution_count": 60,
   "metadata": {},
   "outputs": [
    {
     "data": {
      "text/plain": [
       "char  int\n",
       "a     1      0.038286\n",
       "      2      0.797415\n",
       "b     1      0.465409\n",
       "      2      0.317006\n",
       "c     1      0.373559\n",
       "      2      0.387682\n",
       "dtype: float64"
      ]
     },
     "execution_count": 60,
     "metadata": {},
     "output_type": "execute_result"
    }
   ],
   "source": [
    "data = data.sort_index()\n",
    "data"
   ]
  },
  {
   "cell_type": "code",
   "execution_count": 61,
   "metadata": {},
   "outputs": [
    {
     "data": {
      "text/plain": [
       "char  int\n",
       "a     1      0.038286\n",
       "      2      0.797415\n",
       "b     1      0.465409\n",
       "      2      0.317006\n",
       "dtype: float64"
      ]
     },
     "execution_count": 61,
     "metadata": {},
     "output_type": "execute_result"
    }
   ],
   "source": [
    "data['a':'b']"
   ]
  },
  {
   "cell_type": "markdown",
   "metadata": {},
   "source": [
    "我们可以把一个带层级索引的 `Series` 对象，转化为二维的数据表示"
   ]
  },
  {
   "cell_type": "code",
   "execution_count": 62,
   "metadata": {},
   "outputs": [
    {
     "data": {
      "text/plain": [
       "省    年份  \n",
       "北京市  2018    2154.0\n",
       "     2017    2171.0\n",
       "     2016    2173.0\n",
       "     2015    2171.0\n",
       "     2014    2152.0\n",
       "     2013    2115.0\n",
       "     2012    2069.0\n",
       "     2011    2019.0\n",
       "     2010    1962.0\n",
       "     2009    1860.0\n",
       "     2008    1771.0\n",
       "     2007    1676.0\n",
       "     2006    1601.0\n",
       "     2005    1538.0\n",
       "     2004    1493.0\n",
       "     2003    1456.0\n",
       "     2002    1423.0\n",
       "     2001    1385.0\n",
       "     2000    1364.0\n",
       "安徽省  2018    6324.0\n",
       "     2017    6255.0\n",
       "     2016    6196.0\n",
       "     2015    6144.0\n",
       "     2014    6083.0\n",
       "     2013    6030.0\n",
       "     2012    5988.0\n",
       "     2011    5968.0\n",
       "     2010    5957.0\n",
       "     2009    6131.0\n",
       "     2008    6135.0\n",
       "              ...  \n",
       "浙江省  2010    5447.0\n",
       "     2009    5276.0\n",
       "     2008    5212.0\n",
       "     2007    5155.0\n",
       "     2006    5072.0\n",
       "     2005    4991.0\n",
       "     2004    4925.0\n",
       "     2003    4857.0\n",
       "     2002    4776.0\n",
       "     2001    4729.0\n",
       "     2000    4680.0\n",
       "重庆市  2018    3102.0\n",
       "     2017    3075.0\n",
       "     2016    3048.0\n",
       "     2015    3017.0\n",
       "     2014    2991.0\n",
       "     2013    2970.0\n",
       "     2012    2945.0\n",
       "     2011    2919.0\n",
       "     2010    2885.0\n",
       "     2009    2859.0\n",
       "     2008    2839.0\n",
       "     2007    2816.0\n",
       "     2006    2808.0\n",
       "     2005    2798.0\n",
       "     2004    2793.0\n",
       "     2003    2803.0\n",
       "     2002    2814.0\n",
       "     2001    2829.0\n",
       "     2000    2849.0\n",
       "Length: 589, dtype: float64"
      ]
     },
     "execution_count": 62,
     "metadata": {},
     "output_type": "execute_result"
    }
   ],
   "source": [
    "pop"
   ]
  },
  {
   "cell_type": "code",
   "execution_count": 65,
   "metadata": {},
   "outputs": [
    {
     "data": {
      "text/html": [
       "<div>\n",
       "<style scoped>\n",
       "    .dataframe tbody tr th:only-of-type {\n",
       "        vertical-align: middle;\n",
       "    }\n",
       "\n",
       "    .dataframe tbody tr th {\n",
       "        vertical-align: top;\n",
       "    }\n",
       "\n",
       "    .dataframe thead th {\n",
       "        text-align: right;\n",
       "    }\n",
       "</style>\n",
       "<table border=\"1\" class=\"dataframe\">\n",
       "  <thead>\n",
       "    <tr style=\"text-align: right;\">\n",
       "      <th>年份</th>\n",
       "      <th>2000</th>\n",
       "      <th>2001</th>\n",
       "      <th>2002</th>\n",
       "      <th>2003</th>\n",
       "      <th>2004</th>\n",
       "      <th>2005</th>\n",
       "      <th>2006</th>\n",
       "      <th>2007</th>\n",
       "      <th>2008</th>\n",
       "      <th>2009</th>\n",
       "      <th>2010</th>\n",
       "      <th>2011</th>\n",
       "      <th>2012</th>\n",
       "      <th>2013</th>\n",
       "      <th>2014</th>\n",
       "      <th>2015</th>\n",
       "      <th>2016</th>\n",
       "      <th>2017</th>\n",
       "      <th>2018</th>\n",
       "    </tr>\n",
       "    <tr>\n",
       "      <th>省</th>\n",
       "      <th></th>\n",
       "      <th></th>\n",
       "      <th></th>\n",
       "      <th></th>\n",
       "      <th></th>\n",
       "      <th></th>\n",
       "      <th></th>\n",
       "      <th></th>\n",
       "      <th></th>\n",
       "      <th></th>\n",
       "      <th></th>\n",
       "      <th></th>\n",
       "      <th></th>\n",
       "      <th></th>\n",
       "      <th></th>\n",
       "      <th></th>\n",
       "      <th></th>\n",
       "      <th></th>\n",
       "      <th></th>\n",
       "    </tr>\n",
       "  </thead>\n",
       "  <tbody>\n",
       "    <tr>\n",
       "      <th>上海市</th>\n",
       "      <td>1609.0</td>\n",
       "      <td>1668.0</td>\n",
       "      <td>1713.0</td>\n",
       "      <td>1766.0</td>\n",
       "      <td>1835.0</td>\n",
       "      <td>1890.0</td>\n",
       "      <td>1964.0</td>\n",
       "      <td>2064.0</td>\n",
       "      <td>2141.0</td>\n",
       "      <td>2210.0</td>\n",
       "      <td>2303.0</td>\n",
       "      <td>2347.0</td>\n",
       "      <td>2380.0</td>\n",
       "      <td>2415.0</td>\n",
       "      <td>2426.0</td>\n",
       "      <td>2415.0</td>\n",
       "      <td>2420.0</td>\n",
       "      <td>2418.0</td>\n",
       "      <td>2424.0</td>\n",
       "    </tr>\n",
       "    <tr>\n",
       "      <th>云南省</th>\n",
       "      <td>4241.0</td>\n",
       "      <td>4287.0</td>\n",
       "      <td>4333.0</td>\n",
       "      <td>4376.0</td>\n",
       "      <td>4415.0</td>\n",
       "      <td>4450.0</td>\n",
       "      <td>4483.0</td>\n",
       "      <td>4514.0</td>\n",
       "      <td>4543.0</td>\n",
       "      <td>4571.0</td>\n",
       "      <td>4602.0</td>\n",
       "      <td>4631.0</td>\n",
       "      <td>4659.0</td>\n",
       "      <td>4687.0</td>\n",
       "      <td>4714.0</td>\n",
       "      <td>4742.0</td>\n",
       "      <td>4771.0</td>\n",
       "      <td>4801.0</td>\n",
       "      <td>4830.0</td>\n",
       "    </tr>\n",
       "    <tr>\n",
       "      <th>内蒙古自治区</th>\n",
       "      <td>2372.0</td>\n",
       "      <td>2381.0</td>\n",
       "      <td>2384.0</td>\n",
       "      <td>2386.0</td>\n",
       "      <td>2393.0</td>\n",
       "      <td>2403.0</td>\n",
       "      <td>2415.0</td>\n",
       "      <td>2429.0</td>\n",
       "      <td>2444.0</td>\n",
       "      <td>2458.0</td>\n",
       "      <td>2472.0</td>\n",
       "      <td>2482.0</td>\n",
       "      <td>2490.0</td>\n",
       "      <td>2498.0</td>\n",
       "      <td>2505.0</td>\n",
       "      <td>2511.0</td>\n",
       "      <td>2520.0</td>\n",
       "      <td>2529.0</td>\n",
       "      <td>2534.0</td>\n",
       "    </tr>\n",
       "    <tr>\n",
       "      <th>北京市</th>\n",
       "      <td>1364.0</td>\n",
       "      <td>1385.0</td>\n",
       "      <td>1423.0</td>\n",
       "      <td>1456.0</td>\n",
       "      <td>1493.0</td>\n",
       "      <td>1538.0</td>\n",
       "      <td>1601.0</td>\n",
       "      <td>1676.0</td>\n",
       "      <td>1771.0</td>\n",
       "      <td>1860.0</td>\n",
       "      <td>1962.0</td>\n",
       "      <td>2019.0</td>\n",
       "      <td>2069.0</td>\n",
       "      <td>2115.0</td>\n",
       "      <td>2152.0</td>\n",
       "      <td>2171.0</td>\n",
       "      <td>2173.0</td>\n",
       "      <td>2171.0</td>\n",
       "      <td>2154.0</td>\n",
       "    </tr>\n",
       "    <tr>\n",
       "      <th>吉林省</th>\n",
       "      <td>2682.0</td>\n",
       "      <td>2691.0</td>\n",
       "      <td>2699.0</td>\n",
       "      <td>2704.0</td>\n",
       "      <td>2709.0</td>\n",
       "      <td>2716.0</td>\n",
       "      <td>2723.0</td>\n",
       "      <td>2730.0</td>\n",
       "      <td>2734.0</td>\n",
       "      <td>2740.0</td>\n",
       "      <td>2747.0</td>\n",
       "      <td>2749.0</td>\n",
       "      <td>2750.0</td>\n",
       "      <td>2751.0</td>\n",
       "      <td>2752.0</td>\n",
       "      <td>2753.0</td>\n",
       "      <td>2733.0</td>\n",
       "      <td>2717.0</td>\n",
       "      <td>2704.0</td>\n",
       "    </tr>\n",
       "    <tr>\n",
       "      <th>四川省</th>\n",
       "      <td>8329.0</td>\n",
       "      <td>8143.0</td>\n",
       "      <td>8110.0</td>\n",
       "      <td>8176.0</td>\n",
       "      <td>8090.0</td>\n",
       "      <td>8212.0</td>\n",
       "      <td>8169.0</td>\n",
       "      <td>8127.0</td>\n",
       "      <td>8138.0</td>\n",
       "      <td>8185.0</td>\n",
       "      <td>8045.0</td>\n",
       "      <td>8050.0</td>\n",
       "      <td>8076.0</td>\n",
       "      <td>8107.0</td>\n",
       "      <td>8140.0</td>\n",
       "      <td>8204.0</td>\n",
       "      <td>8262.0</td>\n",
       "      <td>8302.0</td>\n",
       "      <td>8341.0</td>\n",
       "    </tr>\n",
       "    <tr>\n",
       "      <th>天津市</th>\n",
       "      <td>1001.0</td>\n",
       "      <td>1004.0</td>\n",
       "      <td>1007.0</td>\n",
       "      <td>1011.0</td>\n",
       "      <td>1024.0</td>\n",
       "      <td>1043.0</td>\n",
       "      <td>1075.0</td>\n",
       "      <td>1115.0</td>\n",
       "      <td>1176.0</td>\n",
       "      <td>1228.0</td>\n",
       "      <td>1299.0</td>\n",
       "      <td>1355.0</td>\n",
       "      <td>1413.0</td>\n",
       "      <td>1472.0</td>\n",
       "      <td>1517.0</td>\n",
       "      <td>1547.0</td>\n",
       "      <td>1562.0</td>\n",
       "      <td>1557.0</td>\n",
       "      <td>1560.0</td>\n",
       "    </tr>\n",
       "    <tr>\n",
       "      <th>宁夏回族自治区</th>\n",
       "      <td>554.0</td>\n",
       "      <td>563.0</td>\n",
       "      <td>572.0</td>\n",
       "      <td>580.0</td>\n",
       "      <td>588.0</td>\n",
       "      <td>596.0</td>\n",
       "      <td>604.0</td>\n",
       "      <td>610.0</td>\n",
       "      <td>618.0</td>\n",
       "      <td>625.0</td>\n",
       "      <td>633.0</td>\n",
       "      <td>639.0</td>\n",
       "      <td>647.0</td>\n",
       "      <td>654.0</td>\n",
       "      <td>662.0</td>\n",
       "      <td>668.0</td>\n",
       "      <td>675.0</td>\n",
       "      <td>682.0</td>\n",
       "      <td>688.0</td>\n",
       "    </tr>\n",
       "    <tr>\n",
       "      <th>安徽省</th>\n",
       "      <td>6093.0</td>\n",
       "      <td>6128.0</td>\n",
       "      <td>6144.0</td>\n",
       "      <td>6163.0</td>\n",
       "      <td>6228.0</td>\n",
       "      <td>6120.0</td>\n",
       "      <td>6110.0</td>\n",
       "      <td>6118.0</td>\n",
       "      <td>6135.0</td>\n",
       "      <td>6131.0</td>\n",
       "      <td>5957.0</td>\n",
       "      <td>5968.0</td>\n",
       "      <td>5988.0</td>\n",
       "      <td>6030.0</td>\n",
       "      <td>6083.0</td>\n",
       "      <td>6144.0</td>\n",
       "      <td>6196.0</td>\n",
       "      <td>6255.0</td>\n",
       "      <td>6324.0</td>\n",
       "    </tr>\n",
       "    <tr>\n",
       "      <th>山东省</th>\n",
       "      <td>8998.0</td>\n",
       "      <td>9041.0</td>\n",
       "      <td>9082.0</td>\n",
       "      <td>9125.0</td>\n",
       "      <td>9180.0</td>\n",
       "      <td>9248.0</td>\n",
       "      <td>9309.0</td>\n",
       "      <td>9367.0</td>\n",
       "      <td>9417.0</td>\n",
       "      <td>9470.0</td>\n",
       "      <td>9588.0</td>\n",
       "      <td>9637.0</td>\n",
       "      <td>9685.0</td>\n",
       "      <td>9733.0</td>\n",
       "      <td>9789.0</td>\n",
       "      <td>9847.0</td>\n",
       "      <td>9947.0</td>\n",
       "      <td>10006.0</td>\n",
       "      <td>10047.0</td>\n",
       "    </tr>\n",
       "    <tr>\n",
       "      <th>山西省</th>\n",
       "      <td>3247.0</td>\n",
       "      <td>3272.0</td>\n",
       "      <td>3294.0</td>\n",
       "      <td>3314.0</td>\n",
       "      <td>3335.0</td>\n",
       "      <td>3355.0</td>\n",
       "      <td>3375.0</td>\n",
       "      <td>3393.0</td>\n",
       "      <td>3411.0</td>\n",
       "      <td>3427.0</td>\n",
       "      <td>3574.0</td>\n",
       "      <td>3593.0</td>\n",
       "      <td>3611.0</td>\n",
       "      <td>3630.0</td>\n",
       "      <td>3648.0</td>\n",
       "      <td>3664.0</td>\n",
       "      <td>3682.0</td>\n",
       "      <td>3702.0</td>\n",
       "      <td>3718.0</td>\n",
       "    </tr>\n",
       "    <tr>\n",
       "      <th>广东省</th>\n",
       "      <td>8650.0</td>\n",
       "      <td>8733.0</td>\n",
       "      <td>8842.0</td>\n",
       "      <td>8963.0</td>\n",
       "      <td>9111.0</td>\n",
       "      <td>9194.0</td>\n",
       "      <td>9442.0</td>\n",
       "      <td>9660.0</td>\n",
       "      <td>9893.0</td>\n",
       "      <td>10130.0</td>\n",
       "      <td>10441.0</td>\n",
       "      <td>10505.0</td>\n",
       "      <td>10594.0</td>\n",
       "      <td>10644.0</td>\n",
       "      <td>10724.0</td>\n",
       "      <td>10849.0</td>\n",
       "      <td>10999.0</td>\n",
       "      <td>11169.0</td>\n",
       "      <td>11346.0</td>\n",
       "    </tr>\n",
       "    <tr>\n",
       "      <th>广西壮族自治区</th>\n",
       "      <td>4751.0</td>\n",
       "      <td>4788.0</td>\n",
       "      <td>4822.0</td>\n",
       "      <td>4857.0</td>\n",
       "      <td>4889.0</td>\n",
       "      <td>4660.0</td>\n",
       "      <td>4719.0</td>\n",
       "      <td>4768.0</td>\n",
       "      <td>4816.0</td>\n",
       "      <td>4856.0</td>\n",
       "      <td>4610.0</td>\n",
       "      <td>4645.0</td>\n",
       "      <td>4682.0</td>\n",
       "      <td>4719.0</td>\n",
       "      <td>4754.0</td>\n",
       "      <td>4796.0</td>\n",
       "      <td>4838.0</td>\n",
       "      <td>4885.0</td>\n",
       "      <td>4926.0</td>\n",
       "    </tr>\n",
       "    <tr>\n",
       "      <th>新疆维吾尔自治区</th>\n",
       "      <td>1849.0</td>\n",
       "      <td>1876.0</td>\n",
       "      <td>1905.0</td>\n",
       "      <td>1934.0</td>\n",
       "      <td>1963.0</td>\n",
       "      <td>2010.0</td>\n",
       "      <td>2050.0</td>\n",
       "      <td>2095.0</td>\n",
       "      <td>2131.0</td>\n",
       "      <td>2159.0</td>\n",
       "      <td>2185.0</td>\n",
       "      <td>2209.0</td>\n",
       "      <td>2233.0</td>\n",
       "      <td>2264.0</td>\n",
       "      <td>2298.0</td>\n",
       "      <td>2360.0</td>\n",
       "      <td>2398.0</td>\n",
       "      <td>2445.0</td>\n",
       "      <td>2487.0</td>\n",
       "    </tr>\n",
       "    <tr>\n",
       "      <th>江苏省</th>\n",
       "      <td>7327.0</td>\n",
       "      <td>7359.0</td>\n",
       "      <td>7406.0</td>\n",
       "      <td>7458.0</td>\n",
       "      <td>7523.0</td>\n",
       "      <td>7588.0</td>\n",
       "      <td>7656.0</td>\n",
       "      <td>7723.0</td>\n",
       "      <td>7762.0</td>\n",
       "      <td>7810.0</td>\n",
       "      <td>7869.0</td>\n",
       "      <td>7899.0</td>\n",
       "      <td>7920.0</td>\n",
       "      <td>7939.0</td>\n",
       "      <td>7960.0</td>\n",
       "      <td>7976.0</td>\n",
       "      <td>7999.0</td>\n",
       "      <td>8029.0</td>\n",
       "      <td>8051.0</td>\n",
       "    </tr>\n",
       "    <tr>\n",
       "      <th>江西省</th>\n",
       "      <td>4149.0</td>\n",
       "      <td>4186.0</td>\n",
       "      <td>4222.0</td>\n",
       "      <td>4254.0</td>\n",
       "      <td>4284.0</td>\n",
       "      <td>4311.0</td>\n",
       "      <td>4339.0</td>\n",
       "      <td>4368.0</td>\n",
       "      <td>4400.0</td>\n",
       "      <td>4432.0</td>\n",
       "      <td>4462.0</td>\n",
       "      <td>4488.0</td>\n",
       "      <td>4504.0</td>\n",
       "      <td>4522.0</td>\n",
       "      <td>4542.0</td>\n",
       "      <td>4566.0</td>\n",
       "      <td>4592.0</td>\n",
       "      <td>4622.0</td>\n",
       "      <td>4648.0</td>\n",
       "    </tr>\n",
       "    <tr>\n",
       "      <th>河北省</th>\n",
       "      <td>6674.0</td>\n",
       "      <td>6699.0</td>\n",
       "      <td>6735.0</td>\n",
       "      <td>6769.0</td>\n",
       "      <td>6809.0</td>\n",
       "      <td>6851.0</td>\n",
       "      <td>6898.0</td>\n",
       "      <td>6943.0</td>\n",
       "      <td>6989.0</td>\n",
       "      <td>7034.0</td>\n",
       "      <td>7194.0</td>\n",
       "      <td>7241.0</td>\n",
       "      <td>7288.0</td>\n",
       "      <td>7333.0</td>\n",
       "      <td>7384.0</td>\n",
       "      <td>7425.0</td>\n",
       "      <td>7470.0</td>\n",
       "      <td>7520.0</td>\n",
       "      <td>7556.0</td>\n",
       "    </tr>\n",
       "    <tr>\n",
       "      <th>河南省</th>\n",
       "      <td>9488.0</td>\n",
       "      <td>9555.0</td>\n",
       "      <td>9613.0</td>\n",
       "      <td>9667.0</td>\n",
       "      <td>9717.0</td>\n",
       "      <td>9380.0</td>\n",
       "      <td>9392.0</td>\n",
       "      <td>9360.0</td>\n",
       "      <td>9429.0</td>\n",
       "      <td>9487.0</td>\n",
       "      <td>9405.0</td>\n",
       "      <td>9388.0</td>\n",
       "      <td>9406.0</td>\n",
       "      <td>9413.0</td>\n",
       "      <td>9436.0</td>\n",
       "      <td>9480.0</td>\n",
       "      <td>9532.0</td>\n",
       "      <td>9559.0</td>\n",
       "      <td>9605.0</td>\n",
       "    </tr>\n",
       "    <tr>\n",
       "      <th>浙江省</th>\n",
       "      <td>4680.0</td>\n",
       "      <td>4729.0</td>\n",
       "      <td>4776.0</td>\n",
       "      <td>4857.0</td>\n",
       "      <td>4925.0</td>\n",
       "      <td>4991.0</td>\n",
       "      <td>5072.0</td>\n",
       "      <td>5155.0</td>\n",
       "      <td>5212.0</td>\n",
       "      <td>5276.0</td>\n",
       "      <td>5447.0</td>\n",
       "      <td>5463.0</td>\n",
       "      <td>5477.0</td>\n",
       "      <td>5498.0</td>\n",
       "      <td>5508.0</td>\n",
       "      <td>5539.0</td>\n",
       "      <td>5590.0</td>\n",
       "      <td>5657.0</td>\n",
       "      <td>5737.0</td>\n",
       "    </tr>\n",
       "    <tr>\n",
       "      <th>海南省</th>\n",
       "      <td>789.0</td>\n",
       "      <td>796.0</td>\n",
       "      <td>803.0</td>\n",
       "      <td>811.0</td>\n",
       "      <td>818.0</td>\n",
       "      <td>828.0</td>\n",
       "      <td>836.0</td>\n",
       "      <td>845.0</td>\n",
       "      <td>854.0</td>\n",
       "      <td>864.0</td>\n",
       "      <td>869.0</td>\n",
       "      <td>877.0</td>\n",
       "      <td>887.0</td>\n",
       "      <td>895.0</td>\n",
       "      <td>903.0</td>\n",
       "      <td>911.0</td>\n",
       "      <td>917.0</td>\n",
       "      <td>926.0</td>\n",
       "      <td>934.0</td>\n",
       "    </tr>\n",
       "    <tr>\n",
       "      <th>湖北省</th>\n",
       "      <td>5646.0</td>\n",
       "      <td>5658.0</td>\n",
       "      <td>5672.0</td>\n",
       "      <td>5685.0</td>\n",
       "      <td>5698.0</td>\n",
       "      <td>5710.0</td>\n",
       "      <td>5693.0</td>\n",
       "      <td>5699.0</td>\n",
       "      <td>5711.0</td>\n",
       "      <td>5720.0</td>\n",
       "      <td>5728.0</td>\n",
       "      <td>5758.0</td>\n",
       "      <td>5779.0</td>\n",
       "      <td>5799.0</td>\n",
       "      <td>5816.0</td>\n",
       "      <td>5852.0</td>\n",
       "      <td>5885.0</td>\n",
       "      <td>5902.0</td>\n",
       "      <td>5917.0</td>\n",
       "    </tr>\n",
       "    <tr>\n",
       "      <th>湖南省</th>\n",
       "      <td>6562.0</td>\n",
       "      <td>6596.0</td>\n",
       "      <td>6629.0</td>\n",
       "      <td>6663.0</td>\n",
       "      <td>6698.0</td>\n",
       "      <td>6326.0</td>\n",
       "      <td>6342.0</td>\n",
       "      <td>6355.0</td>\n",
       "      <td>6380.0</td>\n",
       "      <td>6406.0</td>\n",
       "      <td>6570.0</td>\n",
       "      <td>6596.0</td>\n",
       "      <td>6639.0</td>\n",
       "      <td>6691.0</td>\n",
       "      <td>6737.0</td>\n",
       "      <td>6783.0</td>\n",
       "      <td>6822.0</td>\n",
       "      <td>6860.0</td>\n",
       "      <td>6899.0</td>\n",
       "    </tr>\n",
       "    <tr>\n",
       "      <th>甘肃省</th>\n",
       "      <td>2515.0</td>\n",
       "      <td>2523.0</td>\n",
       "      <td>2531.0</td>\n",
       "      <td>2537.0</td>\n",
       "      <td>2541.0</td>\n",
       "      <td>2545.0</td>\n",
       "      <td>2547.0</td>\n",
       "      <td>2548.0</td>\n",
       "      <td>2551.0</td>\n",
       "      <td>2555.0</td>\n",
       "      <td>2560.0</td>\n",
       "      <td>2564.0</td>\n",
       "      <td>2578.0</td>\n",
       "      <td>2582.0</td>\n",
       "      <td>2591.0</td>\n",
       "      <td>2600.0</td>\n",
       "      <td>2610.0</td>\n",
       "      <td>2626.0</td>\n",
       "      <td>2637.0</td>\n",
       "    </tr>\n",
       "    <tr>\n",
       "      <th>福建省</th>\n",
       "      <td>3410.0</td>\n",
       "      <td>3445.0</td>\n",
       "      <td>3476.0</td>\n",
       "      <td>3502.0</td>\n",
       "      <td>3529.0</td>\n",
       "      <td>3557.0</td>\n",
       "      <td>3585.0</td>\n",
       "      <td>3612.0</td>\n",
       "      <td>3639.0</td>\n",
       "      <td>3666.0</td>\n",
       "      <td>3693.0</td>\n",
       "      <td>3720.0</td>\n",
       "      <td>3748.0</td>\n",
       "      <td>3774.0</td>\n",
       "      <td>3806.0</td>\n",
       "      <td>3839.0</td>\n",
       "      <td>3874.0</td>\n",
       "      <td>3911.0</td>\n",
       "      <td>3941.0</td>\n",
       "    </tr>\n",
       "    <tr>\n",
       "      <th>西藏自治区</th>\n",
       "      <td>258.0</td>\n",
       "      <td>264.0</td>\n",
       "      <td>268.0</td>\n",
       "      <td>272.0</td>\n",
       "      <td>276.0</td>\n",
       "      <td>280.0</td>\n",
       "      <td>285.0</td>\n",
       "      <td>289.0</td>\n",
       "      <td>292.0</td>\n",
       "      <td>296.0</td>\n",
       "      <td>300.0</td>\n",
       "      <td>303.0</td>\n",
       "      <td>308.0</td>\n",
       "      <td>312.0</td>\n",
       "      <td>318.0</td>\n",
       "      <td>324.0</td>\n",
       "      <td>331.0</td>\n",
       "      <td>337.0</td>\n",
       "      <td>344.0</td>\n",
       "    </tr>\n",
       "    <tr>\n",
       "      <th>贵州省</th>\n",
       "      <td>3756.0</td>\n",
       "      <td>3799.0</td>\n",
       "      <td>3837.0</td>\n",
       "      <td>3870.0</td>\n",
       "      <td>3904.0</td>\n",
       "      <td>3730.0</td>\n",
       "      <td>3690.0</td>\n",
       "      <td>3632.0</td>\n",
       "      <td>3596.0</td>\n",
       "      <td>3537.0</td>\n",
       "      <td>3479.0</td>\n",
       "      <td>3469.0</td>\n",
       "      <td>3484.0</td>\n",
       "      <td>3502.0</td>\n",
       "      <td>3508.0</td>\n",
       "      <td>3530.0</td>\n",
       "      <td>3555.0</td>\n",
       "      <td>3580.0</td>\n",
       "      <td>3600.0</td>\n",
       "    </tr>\n",
       "    <tr>\n",
       "      <th>辽宁省</th>\n",
       "      <td>4184.0</td>\n",
       "      <td>4194.0</td>\n",
       "      <td>4203.0</td>\n",
       "      <td>4210.0</td>\n",
       "      <td>4217.0</td>\n",
       "      <td>4221.0</td>\n",
       "      <td>4271.0</td>\n",
       "      <td>4298.0</td>\n",
       "      <td>4315.0</td>\n",
       "      <td>4341.0</td>\n",
       "      <td>4375.0</td>\n",
       "      <td>4383.0</td>\n",
       "      <td>4389.0</td>\n",
       "      <td>4390.0</td>\n",
       "      <td>4391.0</td>\n",
       "      <td>4382.0</td>\n",
       "      <td>4378.0</td>\n",
       "      <td>4369.0</td>\n",
       "      <td>4359.0</td>\n",
       "    </tr>\n",
       "    <tr>\n",
       "      <th>重庆市</th>\n",
       "      <td>2849.0</td>\n",
       "      <td>2829.0</td>\n",
       "      <td>2814.0</td>\n",
       "      <td>2803.0</td>\n",
       "      <td>2793.0</td>\n",
       "      <td>2798.0</td>\n",
       "      <td>2808.0</td>\n",
       "      <td>2816.0</td>\n",
       "      <td>2839.0</td>\n",
       "      <td>2859.0</td>\n",
       "      <td>2885.0</td>\n",
       "      <td>2919.0</td>\n",
       "      <td>2945.0</td>\n",
       "      <td>2970.0</td>\n",
       "      <td>2991.0</td>\n",
       "      <td>3017.0</td>\n",
       "      <td>3048.0</td>\n",
       "      <td>3075.0</td>\n",
       "      <td>3102.0</td>\n",
       "    </tr>\n",
       "    <tr>\n",
       "      <th>陕西省</th>\n",
       "      <td>3644.0</td>\n",
       "      <td>3653.0</td>\n",
       "      <td>3662.0</td>\n",
       "      <td>3672.0</td>\n",
       "      <td>3681.0</td>\n",
       "      <td>3690.0</td>\n",
       "      <td>3699.0</td>\n",
       "      <td>3708.0</td>\n",
       "      <td>3718.0</td>\n",
       "      <td>3727.0</td>\n",
       "      <td>3735.0</td>\n",
       "      <td>3743.0</td>\n",
       "      <td>3753.0</td>\n",
       "      <td>3764.0</td>\n",
       "      <td>3775.0</td>\n",
       "      <td>3793.0</td>\n",
       "      <td>3813.0</td>\n",
       "      <td>3835.0</td>\n",
       "      <td>3864.0</td>\n",
       "    </tr>\n",
       "    <tr>\n",
       "      <th>青海省</th>\n",
       "      <td>517.0</td>\n",
       "      <td>523.0</td>\n",
       "      <td>529.0</td>\n",
       "      <td>534.0</td>\n",
       "      <td>539.0</td>\n",
       "      <td>543.0</td>\n",
       "      <td>548.0</td>\n",
       "      <td>552.0</td>\n",
       "      <td>554.0</td>\n",
       "      <td>557.0</td>\n",
       "      <td>563.0</td>\n",
       "      <td>568.0</td>\n",
       "      <td>573.0</td>\n",
       "      <td>578.0</td>\n",
       "      <td>583.0</td>\n",
       "      <td>588.0</td>\n",
       "      <td>593.0</td>\n",
       "      <td>598.0</td>\n",
       "      <td>603.0</td>\n",
       "    </tr>\n",
       "    <tr>\n",
       "      <th>黑龙江省</th>\n",
       "      <td>3807.0</td>\n",
       "      <td>3811.0</td>\n",
       "      <td>3813.0</td>\n",
       "      <td>3815.0</td>\n",
       "      <td>3817.0</td>\n",
       "      <td>3820.0</td>\n",
       "      <td>3823.0</td>\n",
       "      <td>3824.0</td>\n",
       "      <td>3825.0</td>\n",
       "      <td>3826.0</td>\n",
       "      <td>3833.0</td>\n",
       "      <td>3834.0</td>\n",
       "      <td>3834.0</td>\n",
       "      <td>3835.0</td>\n",
       "      <td>3833.0</td>\n",
       "      <td>3812.0</td>\n",
       "      <td>3799.0</td>\n",
       "      <td>3789.0</td>\n",
       "      <td>3773.0</td>\n",
       "    </tr>\n",
       "  </tbody>\n",
       "</table>\n",
       "</div>"
      ],
      "text/plain": [
       "年份          2000    2001    2002    2003    2004    2005    2006    2007  \\\n",
       "省                                                                          \n",
       "上海市       1609.0  1668.0  1713.0  1766.0  1835.0  1890.0  1964.0  2064.0   \n",
       "云南省       4241.0  4287.0  4333.0  4376.0  4415.0  4450.0  4483.0  4514.0   \n",
       "内蒙古自治区    2372.0  2381.0  2384.0  2386.0  2393.0  2403.0  2415.0  2429.0   \n",
       "北京市       1364.0  1385.0  1423.0  1456.0  1493.0  1538.0  1601.0  1676.0   \n",
       "吉林省       2682.0  2691.0  2699.0  2704.0  2709.0  2716.0  2723.0  2730.0   \n",
       "四川省       8329.0  8143.0  8110.0  8176.0  8090.0  8212.0  8169.0  8127.0   \n",
       "天津市       1001.0  1004.0  1007.0  1011.0  1024.0  1043.0  1075.0  1115.0   \n",
       "宁夏回族自治区    554.0   563.0   572.0   580.0   588.0   596.0   604.0   610.0   \n",
       "安徽省       6093.0  6128.0  6144.0  6163.0  6228.0  6120.0  6110.0  6118.0   \n",
       "山东省       8998.0  9041.0  9082.0  9125.0  9180.0  9248.0  9309.0  9367.0   \n",
       "山西省       3247.0  3272.0  3294.0  3314.0  3335.0  3355.0  3375.0  3393.0   \n",
       "广东省       8650.0  8733.0  8842.0  8963.0  9111.0  9194.0  9442.0  9660.0   \n",
       "广西壮族自治区   4751.0  4788.0  4822.0  4857.0  4889.0  4660.0  4719.0  4768.0   \n",
       "新疆维吾尔自治区  1849.0  1876.0  1905.0  1934.0  1963.0  2010.0  2050.0  2095.0   \n",
       "江苏省       7327.0  7359.0  7406.0  7458.0  7523.0  7588.0  7656.0  7723.0   \n",
       "江西省       4149.0  4186.0  4222.0  4254.0  4284.0  4311.0  4339.0  4368.0   \n",
       "河北省       6674.0  6699.0  6735.0  6769.0  6809.0  6851.0  6898.0  6943.0   \n",
       "河南省       9488.0  9555.0  9613.0  9667.0  9717.0  9380.0  9392.0  9360.0   \n",
       "浙江省       4680.0  4729.0  4776.0  4857.0  4925.0  4991.0  5072.0  5155.0   \n",
       "海南省        789.0   796.0   803.0   811.0   818.0   828.0   836.0   845.0   \n",
       "湖北省       5646.0  5658.0  5672.0  5685.0  5698.0  5710.0  5693.0  5699.0   \n",
       "湖南省       6562.0  6596.0  6629.0  6663.0  6698.0  6326.0  6342.0  6355.0   \n",
       "甘肃省       2515.0  2523.0  2531.0  2537.0  2541.0  2545.0  2547.0  2548.0   \n",
       "福建省       3410.0  3445.0  3476.0  3502.0  3529.0  3557.0  3585.0  3612.0   \n",
       "西藏自治区      258.0   264.0   268.0   272.0   276.0   280.0   285.0   289.0   \n",
       "贵州省       3756.0  3799.0  3837.0  3870.0  3904.0  3730.0  3690.0  3632.0   \n",
       "辽宁省       4184.0  4194.0  4203.0  4210.0  4217.0  4221.0  4271.0  4298.0   \n",
       "重庆市       2849.0  2829.0  2814.0  2803.0  2793.0  2798.0  2808.0  2816.0   \n",
       "陕西省       3644.0  3653.0  3662.0  3672.0  3681.0  3690.0  3699.0  3708.0   \n",
       "青海省        517.0   523.0   529.0   534.0   539.0   543.0   548.0   552.0   \n",
       "黑龙江省      3807.0  3811.0  3813.0  3815.0  3817.0  3820.0  3823.0  3824.0   \n",
       "\n",
       "年份          2008     2009     2010     2011     2012     2013     2014  \\\n",
       "省                                                                        \n",
       "上海市       2141.0   2210.0   2303.0   2347.0   2380.0   2415.0   2426.0   \n",
       "云南省       4543.0   4571.0   4602.0   4631.0   4659.0   4687.0   4714.0   \n",
       "内蒙古自治区    2444.0   2458.0   2472.0   2482.0   2490.0   2498.0   2505.0   \n",
       "北京市       1771.0   1860.0   1962.0   2019.0   2069.0   2115.0   2152.0   \n",
       "吉林省       2734.0   2740.0   2747.0   2749.0   2750.0   2751.0   2752.0   \n",
       "四川省       8138.0   8185.0   8045.0   8050.0   8076.0   8107.0   8140.0   \n",
       "天津市       1176.0   1228.0   1299.0   1355.0   1413.0   1472.0   1517.0   \n",
       "宁夏回族自治区    618.0    625.0    633.0    639.0    647.0    654.0    662.0   \n",
       "安徽省       6135.0   6131.0   5957.0   5968.0   5988.0   6030.0   6083.0   \n",
       "山东省       9417.0   9470.0   9588.0   9637.0   9685.0   9733.0   9789.0   \n",
       "山西省       3411.0   3427.0   3574.0   3593.0   3611.0   3630.0   3648.0   \n",
       "广东省       9893.0  10130.0  10441.0  10505.0  10594.0  10644.0  10724.0   \n",
       "广西壮族自治区   4816.0   4856.0   4610.0   4645.0   4682.0   4719.0   4754.0   \n",
       "新疆维吾尔自治区  2131.0   2159.0   2185.0   2209.0   2233.0   2264.0   2298.0   \n",
       "江苏省       7762.0   7810.0   7869.0   7899.0   7920.0   7939.0   7960.0   \n",
       "江西省       4400.0   4432.0   4462.0   4488.0   4504.0   4522.0   4542.0   \n",
       "河北省       6989.0   7034.0   7194.0   7241.0   7288.0   7333.0   7384.0   \n",
       "河南省       9429.0   9487.0   9405.0   9388.0   9406.0   9413.0   9436.0   \n",
       "浙江省       5212.0   5276.0   5447.0   5463.0   5477.0   5498.0   5508.0   \n",
       "海南省        854.0    864.0    869.0    877.0    887.0    895.0    903.0   \n",
       "湖北省       5711.0   5720.0   5728.0   5758.0   5779.0   5799.0   5816.0   \n",
       "湖南省       6380.0   6406.0   6570.0   6596.0   6639.0   6691.0   6737.0   \n",
       "甘肃省       2551.0   2555.0   2560.0   2564.0   2578.0   2582.0   2591.0   \n",
       "福建省       3639.0   3666.0   3693.0   3720.0   3748.0   3774.0   3806.0   \n",
       "西藏自治区      292.0    296.0    300.0    303.0    308.0    312.0    318.0   \n",
       "贵州省       3596.0   3537.0   3479.0   3469.0   3484.0   3502.0   3508.0   \n",
       "辽宁省       4315.0   4341.0   4375.0   4383.0   4389.0   4390.0   4391.0   \n",
       "重庆市       2839.0   2859.0   2885.0   2919.0   2945.0   2970.0   2991.0   \n",
       "陕西省       3718.0   3727.0   3735.0   3743.0   3753.0   3764.0   3775.0   \n",
       "青海省        554.0    557.0    563.0    568.0    573.0    578.0    583.0   \n",
       "黑龙江省      3825.0   3826.0   3833.0   3834.0   3834.0   3835.0   3833.0   \n",
       "\n",
       "年份           2015     2016     2017     2018  \n",
       "省                                             \n",
       "上海市        2415.0   2420.0   2418.0   2424.0  \n",
       "云南省        4742.0   4771.0   4801.0   4830.0  \n",
       "内蒙古自治区     2511.0   2520.0   2529.0   2534.0  \n",
       "北京市        2171.0   2173.0   2171.0   2154.0  \n",
       "吉林省        2753.0   2733.0   2717.0   2704.0  \n",
       "四川省        8204.0   8262.0   8302.0   8341.0  \n",
       "天津市        1547.0   1562.0   1557.0   1560.0  \n",
       "宁夏回族自治区     668.0    675.0    682.0    688.0  \n",
       "安徽省        6144.0   6196.0   6255.0   6324.0  \n",
       "山东省        9847.0   9947.0  10006.0  10047.0  \n",
       "山西省        3664.0   3682.0   3702.0   3718.0  \n",
       "广东省       10849.0  10999.0  11169.0  11346.0  \n",
       "广西壮族自治区    4796.0   4838.0   4885.0   4926.0  \n",
       "新疆维吾尔自治区   2360.0   2398.0   2445.0   2487.0  \n",
       "江苏省        7976.0   7999.0   8029.0   8051.0  \n",
       "江西省        4566.0   4592.0   4622.0   4648.0  \n",
       "河北省        7425.0   7470.0   7520.0   7556.0  \n",
       "河南省        9480.0   9532.0   9559.0   9605.0  \n",
       "浙江省        5539.0   5590.0   5657.0   5737.0  \n",
       "海南省         911.0    917.0    926.0    934.0  \n",
       "湖北省        5852.0   5885.0   5902.0   5917.0  \n",
       "湖南省        6783.0   6822.0   6860.0   6899.0  \n",
       "甘肃省        2600.0   2610.0   2626.0   2637.0  \n",
       "福建省        3839.0   3874.0   3911.0   3941.0  \n",
       "西藏自治区       324.0    331.0    337.0    344.0  \n",
       "贵州省        3530.0   3555.0   3580.0   3600.0  \n",
       "辽宁省        4382.0   4378.0   4369.0   4359.0  \n",
       "重庆市        3017.0   3048.0   3075.0   3102.0  \n",
       "陕西省        3793.0   3813.0   3835.0   3864.0  \n",
       "青海省         588.0    593.0    598.0    603.0  \n",
       "黑龙江省       3812.0   3799.0   3789.0   3773.0  "
      ]
     },
     "execution_count": 65,
     "metadata": {},
     "output_type": "execute_result"
    }
   ],
   "source": [
    "pop.unstack()"
   ]
  },
  {
   "cell_type": "code",
   "execution_count": null,
   "metadata": {},
   "outputs": [],
   "source": [
    "pop.unstack(level=1)\n",
    "print()"
   ]
  },
  {
   "cell_type": "code",
   "execution_count": 66,
   "metadata": {},
   "outputs": [
    {
     "data": {
      "text/plain": [
       "省     年份  \n",
       "上海市   2000    1609.0\n",
       "      2001    1668.0\n",
       "      2002    1713.0\n",
       "      2003    1766.0\n",
       "      2004    1835.0\n",
       "      2005    1890.0\n",
       "      2006    1964.0\n",
       "      2007    2064.0\n",
       "      2008    2141.0\n",
       "      2009    2210.0\n",
       "      2010    2303.0\n",
       "      2011    2347.0\n",
       "      2012    2380.0\n",
       "      2013    2415.0\n",
       "      2014    2426.0\n",
       "      2015    2415.0\n",
       "      2016    2420.0\n",
       "      2017    2418.0\n",
       "      2018    2424.0\n",
       "云南省   2000    4241.0\n",
       "      2001    4287.0\n",
       "      2002    4333.0\n",
       "      2003    4376.0\n",
       "      2004    4415.0\n",
       "      2005    4450.0\n",
       "      2006    4483.0\n",
       "      2007    4514.0\n",
       "      2008    4543.0\n",
       "      2009    4571.0\n",
       "      2010    4602.0\n",
       "               ...  \n",
       "青海省   2008     554.0\n",
       "      2009     557.0\n",
       "      2010     563.0\n",
       "      2011     568.0\n",
       "      2012     573.0\n",
       "      2013     578.0\n",
       "      2014     583.0\n",
       "      2015     588.0\n",
       "      2016     593.0\n",
       "      2017     598.0\n",
       "      2018     603.0\n",
       "黑龙江省  2000    3807.0\n",
       "      2001    3811.0\n",
       "      2002    3813.0\n",
       "      2003    3815.0\n",
       "      2004    3817.0\n",
       "      2005    3820.0\n",
       "      2006    3823.0\n",
       "      2007    3824.0\n",
       "      2008    3825.0\n",
       "      2009    3826.0\n",
       "      2010    3833.0\n",
       "      2011    3834.0\n",
       "      2012    3834.0\n",
       "      2013    3835.0\n",
       "      2014    3833.0\n",
       "      2015    3812.0\n",
       "      2016    3799.0\n",
       "      2017    3789.0\n",
       "      2018    3773.0\n",
       "Length: 589, dtype: float64"
      ]
     },
     "execution_count": 66,
     "metadata": {},
     "output_type": "execute_result"
    }
   ],
   "source": [
    "pop.unstack().stack()"
   ]
  },
  {
   "cell_type": "code",
   "execution_count": null,
   "metadata": {},
   "outputs": [],
   "source": []
  },
  {
   "cell_type": "code",
   "execution_count": null,
   "metadata": {},
   "outputs": [],
   "source": [
    "pop_flat = pop.reset_index(name='population')\n",
    "pop_flat"
   ]
  },
  {
   "cell_type": "code",
   "execution_count": 48,
   "metadata": {},
   "outputs": [
    {
     "data": {
      "text/plain": [
       "0      2018\n",
       "1      2017\n",
       "2      2016\n",
       "3      2015\n",
       "4      2014\n",
       "       ... \n",
       "584    2004\n",
       "585    2003\n",
       "586    2002\n",
       "587    2001\n",
       "588    2000\n",
       "Name: 年份, Length: 589, dtype: int64"
      ]
     },
     "execution_count": 48,
     "metadata": {},
     "output_type": "execute_result"
    }
   ],
   "source": [
    "values = np.array(data1.values[:, 2:], dtype=np.float)\n",
    "index = [data1['省'].values, data1['年份'].values]\n",
    "columns = ['人口(万人)', '地区gdp(亿元)']\n",
    "df = pd.DataFrame(values, index=index, columns=columns)\n",
    "df.index.names = ['省','年份']\n",
    "df"
   ]
  },
  {
   "cell_type": "code",
   "execution_count": 2,
   "metadata": {},
   "outputs": [
    {
     "data": {
      "text/html": [
       "<div>\n",
       "<style scoped>\n",
       "    .dataframe tbody tr th:only-of-type {\n",
       "        vertical-align: middle;\n",
       "    }\n",
       "\n",
       "    .dataframe tbody tr th {\n",
       "        vertical-align: top;\n",
       "    }\n",
       "\n",
       "    .dataframe thead th {\n",
       "        text-align: right;\n",
       "    }\n",
       "</style>\n",
       "<table border=\"1\" class=\"dataframe\">\n",
       "  <thead>\n",
       "    <tr style=\"text-align: right;\">\n",
       "      <th></th>\n",
       "      <th>省</th>\n",
       "      <th>面积</th>\n",
       "    </tr>\n",
       "  </thead>\n",
       "  <tbody>\n",
       "    <tr>\n",
       "      <th>0</th>\n",
       "      <td>北京市</td>\n",
       "      <td>1.68</td>\n",
       "    </tr>\n",
       "    <tr>\n",
       "      <th>1</th>\n",
       "      <td>安徽省</td>\n",
       "      <td>13.97</td>\n",
       "    </tr>\n",
       "    <tr>\n",
       "      <th>2</th>\n",
       "      <td>福建省</td>\n",
       "      <td>12.13</td>\n",
       "    </tr>\n",
       "    <tr>\n",
       "      <th>3</th>\n",
       "      <td>甘肃省</td>\n",
       "      <td>45.44</td>\n",
       "    </tr>\n",
       "    <tr>\n",
       "      <th>4</th>\n",
       "      <td>广东省</td>\n",
       "      <td>18.00</td>\n",
       "    </tr>\n",
       "    <tr>\n",
       "      <th>5</th>\n",
       "      <td>广西壮族自治区</td>\n",
       "      <td>23.60</td>\n",
       "    </tr>\n",
       "    <tr>\n",
       "      <th>6</th>\n",
       "      <td>贵州省</td>\n",
       "      <td>17.60</td>\n",
       "    </tr>\n",
       "    <tr>\n",
       "      <th>7</th>\n",
       "      <td>海南省</td>\n",
       "      <td>3.40</td>\n",
       "    </tr>\n",
       "    <tr>\n",
       "      <th>8</th>\n",
       "      <td>河北省</td>\n",
       "      <td>18.77</td>\n",
       "    </tr>\n",
       "    <tr>\n",
       "      <th>9</th>\n",
       "      <td>河南省</td>\n",
       "      <td>16.70</td>\n",
       "    </tr>\n",
       "    <tr>\n",
       "      <th>10</th>\n",
       "      <td>黑龙江省</td>\n",
       "      <td>47.30</td>\n",
       "    </tr>\n",
       "    <tr>\n",
       "      <th>11</th>\n",
       "      <td>湖北省</td>\n",
       "      <td>18.59</td>\n",
       "    </tr>\n",
       "    <tr>\n",
       "      <th>12</th>\n",
       "      <td>湖南省</td>\n",
       "      <td>21.18</td>\n",
       "    </tr>\n",
       "    <tr>\n",
       "      <th>13</th>\n",
       "      <td>吉林省</td>\n",
       "      <td>18.74</td>\n",
       "    </tr>\n",
       "    <tr>\n",
       "      <th>14</th>\n",
       "      <td>江苏省</td>\n",
       "      <td>10.26</td>\n",
       "    </tr>\n",
       "    <tr>\n",
       "      <th>15</th>\n",
       "      <td>江西省</td>\n",
       "      <td>16.70</td>\n",
       "    </tr>\n",
       "    <tr>\n",
       "      <th>16</th>\n",
       "      <td>辽宁省</td>\n",
       "      <td>14.59</td>\n",
       "    </tr>\n",
       "    <tr>\n",
       "      <th>17</th>\n",
       "      <td>内蒙古自治区</td>\n",
       "      <td>118.30</td>\n",
       "    </tr>\n",
       "    <tr>\n",
       "      <th>18</th>\n",
       "      <td>宁夏回族自治区</td>\n",
       "      <td>6.64</td>\n",
       "    </tr>\n",
       "    <tr>\n",
       "      <th>19</th>\n",
       "      <td>青海省</td>\n",
       "      <td>72.23</td>\n",
       "    </tr>\n",
       "    <tr>\n",
       "      <th>20</th>\n",
       "      <td>山东省</td>\n",
       "      <td>15.38</td>\n",
       "    </tr>\n",
       "    <tr>\n",
       "      <th>21</th>\n",
       "      <td>山西省</td>\n",
       "      <td>15.63</td>\n",
       "    </tr>\n",
       "    <tr>\n",
       "      <th>22</th>\n",
       "      <td>陕西省</td>\n",
       "      <td>20.56</td>\n",
       "    </tr>\n",
       "    <tr>\n",
       "      <th>23</th>\n",
       "      <td>上海市</td>\n",
       "      <td>0.63</td>\n",
       "    </tr>\n",
       "    <tr>\n",
       "      <th>24</th>\n",
       "      <td>四川省</td>\n",
       "      <td>48.14</td>\n",
       "    </tr>\n",
       "    <tr>\n",
       "      <th>25</th>\n",
       "      <td>天津市</td>\n",
       "      <td>3.60</td>\n",
       "    </tr>\n",
       "    <tr>\n",
       "      <th>26</th>\n",
       "      <td>西藏自治区</td>\n",
       "      <td>122.84</td>\n",
       "    </tr>\n",
       "    <tr>\n",
       "      <th>27</th>\n",
       "      <td>新疆维吾尔自治区</td>\n",
       "      <td>166.00</td>\n",
       "    </tr>\n",
       "    <tr>\n",
       "      <th>28</th>\n",
       "      <td>云南省</td>\n",
       "      <td>38.33</td>\n",
       "    </tr>\n",
       "    <tr>\n",
       "      <th>29</th>\n",
       "      <td>浙江省</td>\n",
       "      <td>10.20</td>\n",
       "    </tr>\n",
       "    <tr>\n",
       "      <th>30</th>\n",
       "      <td>重庆市</td>\n",
       "      <td>8.23</td>\n",
       "    </tr>\n",
       "  </tbody>\n",
       "</table>\n",
       "</div>"
      ],
      "text/plain": [
       "           省      面积\n",
       "0        北京市    1.68\n",
       "1        安徽省   13.97\n",
       "2        福建省   12.13\n",
       "3        甘肃省   45.44\n",
       "4        广东省   18.00\n",
       "5    广西壮族自治区   23.60\n",
       "6        贵州省   17.60\n",
       "7        海南省    3.40\n",
       "8        河北省   18.77\n",
       "9        河南省   16.70\n",
       "10      黑龙江省   47.30\n",
       "11       湖北省   18.59\n",
       "12       湖南省   21.18\n",
       "13       吉林省   18.74\n",
       "14       江苏省   10.26\n",
       "15       江西省   16.70\n",
       "16       辽宁省   14.59\n",
       "17    内蒙古自治区  118.30\n",
       "18   宁夏回族自治区    6.64\n",
       "19       青海省   72.23\n",
       "20       山东省   15.38\n",
       "21       山西省   15.63\n",
       "22       陕西省   20.56\n",
       "23       上海市    0.63\n",
       "24       四川省   48.14\n",
       "25       天津市    3.60\n",
       "26     西藏自治区  122.84\n",
       "27  新疆维吾尔自治区  166.00\n",
       "28       云南省   38.33\n",
       "29       浙江省   10.20\n",
       "30       重庆市    8.23"
      ]
     },
     "execution_count": 2,
     "metadata": {},
     "output_type": "execute_result"
    }
   ],
   "source": [
    "data0 = pd.read_csv('./data/area.csv', delimiter=',')\n",
    "data0"
   ]
  },
  {
   "cell_type": "code",
   "execution_count": 45,
   "metadata": {},
   "outputs": [
    {
     "data": {
      "text/html": [
       "<div>\n",
       "<style scoped>\n",
       "    .dataframe tbody tr th:only-of-type {\n",
       "        vertical-align: middle;\n",
       "    }\n",
       "\n",
       "    .dataframe tbody tr th {\n",
       "        vertical-align: top;\n",
       "    }\n",
       "\n",
       "    .dataframe thead th {\n",
       "        text-align: right;\n",
       "    }\n",
       "</style>\n",
       "<table border=\"1\" class=\"dataframe\">\n",
       "  <thead>\n",
       "    <tr style=\"text-align: right;\">\n",
       "      <th></th>\n",
       "      <th>面积</th>\n",
       "    </tr>\n",
       "  </thead>\n",
       "  <tbody>\n",
       "    <tr>\n",
       "      <th>北京市</th>\n",
       "      <td>1.68</td>\n",
       "    </tr>\n",
       "    <tr>\n",
       "      <th>安徽省</th>\n",
       "      <td>13.97</td>\n",
       "    </tr>\n",
       "    <tr>\n",
       "      <th>福建省</th>\n",
       "      <td>12.13</td>\n",
       "    </tr>\n",
       "    <tr>\n",
       "      <th>甘肃省</th>\n",
       "      <td>45.44</td>\n",
       "    </tr>\n",
       "    <tr>\n",
       "      <th>广东省</th>\n",
       "      <td>18.00</td>\n",
       "    </tr>\n",
       "    <tr>\n",
       "      <th>广西壮族自治区</th>\n",
       "      <td>23.60</td>\n",
       "    </tr>\n",
       "    <tr>\n",
       "      <th>贵州省</th>\n",
       "      <td>17.60</td>\n",
       "    </tr>\n",
       "    <tr>\n",
       "      <th>海南省</th>\n",
       "      <td>3.40</td>\n",
       "    </tr>\n",
       "    <tr>\n",
       "      <th>河北省</th>\n",
       "      <td>18.77</td>\n",
       "    </tr>\n",
       "    <tr>\n",
       "      <th>河南省</th>\n",
       "      <td>16.70</td>\n",
       "    </tr>\n",
       "    <tr>\n",
       "      <th>黑龙江省</th>\n",
       "      <td>47.30</td>\n",
       "    </tr>\n",
       "    <tr>\n",
       "      <th>湖北省</th>\n",
       "      <td>18.59</td>\n",
       "    </tr>\n",
       "    <tr>\n",
       "      <th>湖南省</th>\n",
       "      <td>21.18</td>\n",
       "    </tr>\n",
       "    <tr>\n",
       "      <th>吉林省</th>\n",
       "      <td>18.74</td>\n",
       "    </tr>\n",
       "    <tr>\n",
       "      <th>江苏省</th>\n",
       "      <td>10.26</td>\n",
       "    </tr>\n",
       "    <tr>\n",
       "      <th>江西省</th>\n",
       "      <td>16.70</td>\n",
       "    </tr>\n",
       "    <tr>\n",
       "      <th>辽宁省</th>\n",
       "      <td>14.59</td>\n",
       "    </tr>\n",
       "    <tr>\n",
       "      <th>内蒙古自治区</th>\n",
       "      <td>118.30</td>\n",
       "    </tr>\n",
       "    <tr>\n",
       "      <th>宁夏回族自治区</th>\n",
       "      <td>6.64</td>\n",
       "    </tr>\n",
       "    <tr>\n",
       "      <th>青海省</th>\n",
       "      <td>72.23</td>\n",
       "    </tr>\n",
       "    <tr>\n",
       "      <th>山东省</th>\n",
       "      <td>15.38</td>\n",
       "    </tr>\n",
       "  </tbody>\n",
       "</table>\n",
       "</div>"
      ],
      "text/plain": [
       "             面积\n",
       "北京市        1.68\n",
       "安徽省       13.97\n",
       "福建省       12.13\n",
       "甘肃省       45.44\n",
       "广东省       18.00\n",
       "广西壮族自治区   23.60\n",
       "贵州省       17.60\n",
       "海南省        3.40\n",
       "河北省       18.77\n",
       "河南省       16.70\n",
       "黑龙江省      47.30\n",
       "湖北省       18.59\n",
       "湖南省       21.18\n",
       "吉林省       18.74\n",
       "江苏省       10.26\n",
       "江西省       16.70\n",
       "辽宁省       14.59\n",
       "内蒙古自治区   118.30\n",
       "宁夏回族自治区    6.64\n",
       "青海省       72.23\n",
       "山东省       15.38"
      ]
     },
     "execution_count": 45,
     "metadata": {},
     "output_type": "execute_result"
    }
   ],
   "source": [
    "s0 = pd.Series(data0['面积'].values,\n",
    "               index= data0['省'].values)\n",
    "data = pd.DataFrame(s0, columns=['面积'])\n",
    "data.loc[:'山东省']"
   ]
  },
  {
   "cell_type": "code",
   "execution_count": 28,
   "metadata": {},
   "outputs": [
    {
     "data": {
      "text/plain": [
       "0      2018\n",
       "1      2017\n",
       "2      2016\n",
       "3      2015\n",
       "4      2014\n",
       "       ... \n",
       "584    2004\n",
       "585    2003\n",
       "586    2002\n",
       "587    2001\n",
       "588    2000\n",
       "Name: 年份, Length: 589, dtype: int64"
      ]
     },
     "execution_count": 28,
     "metadata": {},
     "output_type": "execute_result"
    }
   ],
   "source": []
  },
  {
   "cell_type": "code",
   "execution_count": 43,
   "metadata": {},
   "outputs": [
    {
     "data": {
      "text/html": [
       "<div>\n",
       "<style scoped>\n",
       "    .dataframe tbody tr th:only-of-type {\n",
       "        vertical-align: middle;\n",
       "    }\n",
       "\n",
       "    .dataframe tbody tr th {\n",
       "        vertical-align: top;\n",
       "    }\n",
       "\n",
       "    .dataframe thead th {\n",
       "        text-align: right;\n",
       "    }\n",
       "</style>\n",
       "<table border=\"1\" class=\"dataframe\">\n",
       "  <thead>\n",
       "    <tr style=\"text-align: right;\">\n",
       "      <th></th>\n",
       "      <th></th>\n",
       "      <th>人口(万人)</th>\n",
       "      <th>地区gdp(亿元)</th>\n",
       "    </tr>\n",
       "    <tr>\n",
       "      <th>省</th>\n",
       "      <th>年份</th>\n",
       "      <th></th>\n",
       "      <th></th>\n",
       "    </tr>\n",
       "  </thead>\n",
       "  <tbody>\n",
       "    <tr>\n",
       "      <th rowspan=\"5\" valign=\"top\">北京市</th>\n",
       "      <th>2018</th>\n",
       "      <td>2154.0</td>\n",
       "      <td>30319.98</td>\n",
       "    </tr>\n",
       "    <tr>\n",
       "      <th>2017</th>\n",
       "      <td>2171.0</td>\n",
       "      <td>28014.94</td>\n",
       "    </tr>\n",
       "    <tr>\n",
       "      <th>2016</th>\n",
       "      <td>2173.0</td>\n",
       "      <td>25669.13</td>\n",
       "    </tr>\n",
       "    <tr>\n",
       "      <th>2015</th>\n",
       "      <td>2171.0</td>\n",
       "      <td>23014.59</td>\n",
       "    </tr>\n",
       "    <tr>\n",
       "      <th>2014</th>\n",
       "      <td>2152.0</td>\n",
       "      <td>21330.83</td>\n",
       "    </tr>\n",
       "    <tr>\n",
       "      <th>...</th>\n",
       "      <th>...</th>\n",
       "      <td>...</td>\n",
       "      <td>...</td>\n",
       "    </tr>\n",
       "    <tr>\n",
       "      <th rowspan=\"5\" valign=\"top\">重庆市</th>\n",
       "      <th>2004</th>\n",
       "      <td>2793.0</td>\n",
       "      <td>3034.58</td>\n",
       "    </tr>\n",
       "    <tr>\n",
       "      <th>2003</th>\n",
       "      <td>2803.0</td>\n",
       "      <td>2555.72</td>\n",
       "    </tr>\n",
       "    <tr>\n",
       "      <th>2002</th>\n",
       "      <td>2814.0</td>\n",
       "      <td>2232.86</td>\n",
       "    </tr>\n",
       "    <tr>\n",
       "      <th>2001</th>\n",
       "      <td>2829.0</td>\n",
       "      <td>1976.86</td>\n",
       "    </tr>\n",
       "    <tr>\n",
       "      <th>2000</th>\n",
       "      <td>2849.0</td>\n",
       "      <td>1791.00</td>\n",
       "    </tr>\n",
       "  </tbody>\n",
       "</table>\n",
       "<p>589 rows × 2 columns</p>\n",
       "</div>"
      ],
      "text/plain": [
       "          人口(万人)  地区gdp(亿元)\n",
       "省   年份                     \n",
       "北京市 2018  2154.0   30319.98\n",
       "    2017  2171.0   28014.94\n",
       "    2016  2173.0   25669.13\n",
       "    2015  2171.0   23014.59\n",
       "    2014  2152.0   21330.83\n",
       "...          ...        ...\n",
       "重庆市 2004  2793.0    3034.58\n",
       "    2003  2803.0    2555.72\n",
       "    2002  2814.0    2232.86\n",
       "    2001  2829.0    1976.86\n",
       "    2000  2849.0    1791.00\n",
       "\n",
       "[589 rows x 2 columns]"
      ]
     },
     "execution_count": 43,
     "metadata": {},
     "output_type": "execute_result"
    }
   ],
   "source": []
  },
  {
   "cell_type": "code",
   "execution_count": 47,
   "metadata": {},
   "outputs": [
    {
     "data": {
      "text/plain": [
       "MultiIndex([('北京市', 2018),\n",
       "            ('北京市', 2017),\n",
       "            ('北京市', 2016),\n",
       "            ('北京市', 2015),\n",
       "            ('北京市', 2014),\n",
       "            ('北京市', 2013),\n",
       "            ('北京市', 2012),\n",
       "            ('北京市', 2011),\n",
       "            ('北京市', 2010),\n",
       "            ('北京市', 2009),\n",
       "            ...\n",
       "            ('重庆市', 2009),\n",
       "            ('重庆市', 2008),\n",
       "            ('重庆市', 2007),\n",
       "            ('重庆市', 2006),\n",
       "            ('重庆市', 2005),\n",
       "            ('重庆市', 2004),\n",
       "            ('重庆市', 2003),\n",
       "            ('重庆市', 2002),\n",
       "            ('重庆市', 2001),\n",
       "            ('重庆市', 2000)],\n",
       "           names=['省', '年份'], length=589)"
      ]
     },
     "execution_count": 47,
     "metadata": {},
     "output_type": "execute_result"
    }
   ],
   "source": [
    "df.index"
   ]
  },
  {
   "cell_type": "code",
   "execution_count": null,
   "metadata": {},
   "outputs": [],
   "source": []
  },
  {
   "cell_type": "markdown",
   "metadata": {},
   "source": [
    "## "
   ]
  },
  {
   "cell_type": "code",
   "execution_count": null,
   "metadata": {},
   "outputs": [],
   "source": [
    "name = ['Beijing','Anhui', 'Fujian', 'Gansu','Guangdong', 'Guangxi', 'Guizhou',\n",
    "        'Hainan', 'Hebei', 'Henan', 'Heilongjiang', 'Hubei', 'Hunan', 'Jilin',\n",
    "        'Jiangsu', 'Jiangxi', 'Liaoning', 'Neimenggu', 'Ningxia', 'Qinghai', \n",
    "        'Shandong', 'Shanxi', 'Shaanxi', 'Shanghai', 'Sichuan', 'Tianjing',\n",
    "        'Xizang', 'Xinjiang', 'Yunnan', 'Zhejiang', 'Chongqing']"
   ]
  }
 ],
 "metadata": {
  "kernelspec": {
   "display_name": "Python 3",
   "language": "python",
   "name": "python3"
  },
  "language_info": {
   "codemirror_mode": {
    "name": "ipython",
    "version": 3
   },
   "file_extension": ".py",
   "mimetype": "text/x-python",
   "name": "python",
   "nbconvert_exporter": "python",
   "pygments_lexer": "ipython3",
   "version": "3.7.1"
  },
  "latex_envs": {
   "LaTeX_envs_menu_present": true,
   "autoclose": false,
   "autocomplete": true,
   "bibliofile": "biblio.bib",
   "cite_by": "apalike",
   "current_citInitial": 1,
   "eqLabelWithNumbers": true,
   "eqNumInitial": 1,
   "hotkeys": {
    "equation": "Ctrl-E",
    "itemize": "Ctrl-I"
   },
   "labels_anchors": false,
   "latex_user_defs": false,
   "report_style_numbering": false,
   "user_envs_cfg": false
  },
  "toc": {
   "base_numbering": 1,
   "nav_menu": {},
   "number_sections": true,
   "sideBar": true,
   "skip_h1_title": false,
   "title_cell": "Table of Contents",
   "title_sidebar": "Contents",
   "toc_cell": false,
   "toc_position": {},
   "toc_section_display": true,
   "toc_window_display": false
  }
 },
 "nbformat": 4,
 "nbformat_minor": 2
}
