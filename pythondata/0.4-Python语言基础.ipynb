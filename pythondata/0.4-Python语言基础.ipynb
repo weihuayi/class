{
 "cells": [
  {
   "cell_type": "markdown",
   "metadata": {},
   "source": [
    "# Python 语言基础"
   ]
  },
  {
   "cell_type": "markdown",
   "metadata": {},
   "source": [
    "本节将介绍 Python 语言的基础概念和语法。"
   ]
  },
  {
   "cell_type": "markdown",
   "metadata": {},
   "source": [
    "Python 是一门编程语言，就像 C\\C++、Fortran、Matlab、BASIC、PHP 等语言，但它有如\n",
    "下的特点：\n",
    "\n",
    "* 是一门解释性的语言（与编译的语言相对），并且可以交互式使用。有很多 Python 的解\n",
    "    释器可以用来执行命令和脚本。\n",
    "* 开源协议下的自由软件，可以个人和开发商业软件都可以免费使用。\n",
    "* 跨平台。\n",
    "* 语法简洁明了，代码可读性强。\n",
    "* 从网站架构到科学计算，对于不同的应用，Python 都有大量高质量的软件包可以使用。\n",
    "* 非常容易和其它语言对接，特别是 C 和 C++ 语言。\n",
    "* 是面向对象和动态类型的语言。\n",
    "    + 这个世界是面向对象的。\n",
    "    + 在一个程序当中， 同一个变量可以包含不同类型的对象。"
   ]
  },
  {
   "cell_type": "code",
   "execution_count": 1,
   "metadata": {},
   "outputs": [
    {
     "name": "stdout",
     "output_type": "stream",
     "text": [
      "The Zen of Python, by Tim Peters\n",
      "\n",
      "Beautiful is better than ugly.\n",
      "Explicit is better than implicit.\n",
      "Simple is better than complex.\n",
      "Complex is better than complicated.\n",
      "Flat is better than nested.\n",
      "Sparse is better than dense.\n",
      "Readability counts.\n",
      "Special cases aren't special enough to break the rules.\n",
      "Although practicality beats purity.\n",
      "Errors should never pass silently.\n",
      "Unless explicitly silenced.\n",
      "In the face of ambiguity, refuse the temptation to guess.\n",
      "There should be one-- and preferably only one --obvious way to do it.\n",
      "Although that way may not be obvious at first unless you're Dutch.\n",
      "Now is better than never.\n",
      "Although never is often better than *right* now.\n",
      "If the implementation is hard to explain, it's a bad idea.\n",
      "If the implementation is easy to explain, it may be a good idea.\n",
      "Namespaces are one honking great idea -- let's do more of those!\n"
     ]
    }
   ],
   "source": [
    "import this"
   ]
  },
  {
   "cell_type": "markdown",
   "metadata": {},
   "source": [
    "下面是中文翻译，来自[这里\n",
    "](https://blog.csdn.net/gzlaiyonghao/article/details/2151918)\n",
    ">Python之禅 by Tim Peters\n",
    "> \n",
    ">优美胜于丑陋（Python 以编写优美的代码为目标）\n",
    ">\n",
    ">明了胜于晦涩（优美的代码应当是明了的，命名规范，风格相似）\n",
    ">\n",
    ">简洁胜于复杂（优美的代码应当是简洁的，不要有复杂的内部实现）\n",
    ">\n",
    ">复杂胜于凌乱（如果复杂不可避免，那代码间也不能有难懂的关系，要保持接口简洁）\n",
    ">\n",
    ">扁平胜于嵌套（优美的代码应当是扁平的，不能有太多的嵌套）\n",
    ">\n",
    ">间隔胜于紧凑（优美的代码有适当的间隔，不要奢望一行代码解决问题）\n",
    ">\n",
    ">可读性很重要（优美的代码是可读的）\n",
    ">\n",
    ">即便假借特例的实用性之名，也不可违背这些规则（这些规则至高无上）\n",
    ">\n",
    ">不要包容所有错误，除非你确定需要这样做（精准地捕获异常，不写 except:pass 风格的代码）\n",
    ">\n",
    ">当存在多种可能，不要尝试去猜测\n",
    ">\n",
    ">而是尽量找一种，最好是唯一一种明显的解决方案（如果不确定，就用穷举法）\n",
    ">\n",
    ">虽然这并不容易，因为你不是 Python 之父（这里的 Dutch 是指 Guido ）\n",
    ">\n",
    ">做也许好过不做，但不假思索就动手还不如不做（动手之前要细思量）\n",
    ">\n",
    ">如果你无法向人描述你的方案，那肯定不是一个好方案；反之亦然（方案测评标准）\n",
    ">\n",
    ">命名空间是一种绝妙的理念，我们应当多加利用（倡导与号召）\n",
    "\n",
    "\n",
    "**注：** 上面的原则有一定的普适性，如\n",
    "1. 数学 \n",
    "1. 写作"
   ]
  },
  {
   "cell_type": "markdown",
   "metadata": {},
   "source": [
    "## Python 语言基础"
   ]
  },
  {
   "cell_type": "markdown",
   "metadata": {},
   "source": [
    "### Hello, world"
   ]
  },
  {
   "cell_type": "code",
   "execution_count": null,
   "metadata": {},
   "outputs": [],
   "source": [
    "print(\"Hello, world!\")"
   ]
  },
  {
   "cell_type": "markdown",
   "metadata": {},
   "source": [
    "### 变量"
   ]
  },
  {
   "cell_type": "markdown",
   "metadata": {},
   "source": [
    "* 我们在计算机内存中存储值(value)，这些值存储的位置就叫做变量(variable)。"
   ]
  },
  {
   "cell_type": "markdown",
   "metadata": {},
   "source": [
    "下面定义一个名字为 `a` 的变量："
   ]
  },
  {
   "cell_type": "code",
   "execution_count": null,
   "metadata": {},
   "outputs": [],
   "source": [
    "a = 3"
   ]
  },
  {
   "cell_type": "markdown",
   "metadata": {},
   "source": [
    "**问题：**\n",
    "1. 与 c 语言定义变量有什么不同？"
   ]
  },
  {
   "cell_type": "markdown",
   "metadata": {},
   "source": [
    "* 变量可以分成不同的类型(types, data types)，每个变量都是一种类型的对象。\n",
    "    + 如何存储\n",
    "    + 能做何种操作\n",
    "    + 不能做什么操作\n",
    "    + `type` 方法检查对象所属的类型\n",
    "    + 属性和方法"
   ]
  },
  {
   "cell_type": "markdown",
   "metadata": {},
   "source": [
    "* 定义一个变量，与 C 语言定义的不同？\n",
    "* 变量的名字\n",
    "* 变量的地址 `id(a)`"
   ]
  },
  {
   "cell_type": "code",
   "execution_count": null,
   "metadata": {},
   "outputs": [],
   "source": [
    "from sys import getsizeof\n",
    "a = 4\n",
    "print(getsizeof(a))"
   ]
  },
  {
   "cell_type": "markdown",
   "metadata": {},
   "source": []
  },
  {
   "cell_type": "markdown",
   "metadata": {},
   "source": [
    "* Python 支持如下标准的数值类型：\n",
    "    1. Integer\n",
    "    1. Floats\n",
    "    1. Complex\n",
    "    1. Booleans"
   ]
  },
  {
   "cell_type": "markdown",
   "metadata": {},
   "source": [
    "* Python 可以当做一个计算器\n",
    "    1. `+`\n",
    "    1. `-`\n",
    "    1. `*`\n",
    "    1. `/`\n",
    "    1. `//`\n",
    "    1. `%`\n",
    "    1. `**`"
   ]
  },
  {
   "cell_type": "code",
   "execution_count": null,
   "metadata": {},
   "outputs": [],
   "source": [
    "a = 3"
   ]
  },
  {
   "cell_type": "markdown",
   "metadata": {},
   "source": [
    "### 赋值操作"
   ]
  },
  {
   "cell_type": "markdown",
   "metadata": {},
   "source": [
    "* 给一个**绑定**或**重新绑定**一个名字。\n",
    "* 等号右边的表达式计算后，创建或获得一个新对象。\n",
    "* 等号左边的名字被分配或者说绑定到右边的新对象上。\n",
    "* 一个对象绑定多个名字。\n",
    "* 要改变一个对象的数据（in place)，要用索引或者切片。\n",
    "* 可变 (mutable) 和不可变 (immutable) 的区别。\n",
    "    - 可变对象的内部可以修改。\n",
    "    - 不可变对象一旦创建就不可以修改。"
   ]
  },
  {
   "cell_type": "markdown",
   "metadata": {},
   "source": [
    "### 基本类型"
   ]
  },
  {
   "cell_type": "markdown",
   "metadata": {},
   "source": [
    "* Python 支持如下标题数值类型：\n",
    "    1. Integer\n",
    "    1. Floats\n",
    "    1. Complex\n",
    "    1. Booleans\n",
    "* Python 可以当做一个计算器\n",
    "    1. `+`\n",
    "    1. `-`\n",
    "    1. `*`\n",
    "    1. `/`\n",
    "    1. `//`\n",
    "    1. `%`\n",
    "    1. `**` "
   ]
  },
  {
   "cell_type": "markdown",
   "metadata": {},
   "source": [
    "### 表达式"
   ]
  },
  {
   "cell_type": "markdown",
   "metadata": {},
   "source": []
  },
  {
   "cell_type": "markdown",
   "metadata": {},
   "source": [
    "### 容器"
   ]
  },
  {
   "cell_type": "markdown",
   "metadata": {},
   "source": [
    "**列表（Lists)**\n",
    "    1. 定义 （Define) `colors = ['red', 'blue', 'green', 'black', 'white']`\n",
    "    1. 索引（Indexing）\n",
    "    1. 切片（Slicing）`[start:stop:stride]`\n",
    "        + 上面的三个参数都是可选的\n",
    "    1. list 是一个 **mutable** 对象， 可以被修改。\n",
    "    1. list 可以包含不同的类型对象。\n",
    "    1. 添加和移除 list 中的对象\n",
    "    1. 顺序取反（in-place  or out-place)\n",
    "    1. 拼接和重复操作 `+` 和 `*`\n",
    "    1. 排序 (in-place or out-place)\n",
    "    1. list 中的方法成员与数据成员（解释面向对象）\n",
    "    1. `<TAB>` 键来发现新的方法"
   ]
  },
  {
   "cell_type": "markdown",
   "metadata": {},
   "source": [
    "**字符串 (Strings)**\n",
    "    1. 不同字符串定义的语法(四种）， 展示错误的定义方式。\n",
    "    1. 索引\n",
    "    1. 切片\n",
    "    1. 不可变对象 (immutable object)，但可以基于原来的字符串创建新的字符串。\n",
    "    1. 字符串有很多有用的方法, 用 `<TAB>` 和`help(str)` 发现更多新方法。\n",
    "    1. 字符串格式化。"
   ]
  },
  {
   "cell_type": "markdown",
   "metadata": {},
   "source": [
    "**字典 （Dictionaries)**\n",
    "    1. 定义 \n",
    "    1. 索引\n",
    "    1. 添加\n",
    "    1. 键值对 （maps keys to values)\n",
    "    1. 无序容器"
   ]
  },
  {
   "cell_type": "markdown",
   "metadata": {},
   "source": [
    "**元组 (Tuples)**\n",
    "    1. 定义\n",
    "    1. 索引\n",
    "    1. 切片\n",
    "    1. 不可变的列表"
   ]
  },
  {
   "cell_type": "markdown",
   "metadata": {},
   "source": [
    "**集合 （Sets)**\n",
    "    1. 定义，包括无序且唯一的元素"
   ]
  },
  {
   "cell_type": "markdown",
   "metadata": {},
   "source": [
    "### 控制流 (Control Flow)"
   ]
  },
  {
   "cell_type": "markdown",
   "metadata": {},
   "source": [
    "**条件表达式**"
   ]
  },
  {
   "cell_type": "markdown",
   "metadata": {},
   "source": [
    "+ `==`\n",
    "+ `is`\n",
    "+ `in`\n",
    "+ `not`"
   ]
  },
  {
   "cell_type": "markdown",
   "metadata": {},
   "source": [
    "** `if/elif/else`**"
   ]
  },
  {
   "cell_type": "code",
   "execution_count": null,
   "metadata": {},
   "outputs": [],
   "source": [
    "if 2**2 == 4:\n",
    "     print('Obvious!')"
   ]
  },
  {
   "cell_type": "markdown",
   "metadata": {},
   "source": [
    "* **代码块**是通过**缩进(Indentation)**来标示的，请注意在 Python 交互终端或脚本文件中都要严格遵守缩进深度，不同缩进深度表示不同的代码块。"
   ]
  },
  {
   "cell_type": "markdown",
   "metadata": {},
   "source": [
    "**`for/range`**"
   ]
  },
  {
   "cell_type": "code",
   "execution_count": null,
   "metadata": {},
   "outputs": [],
   "source": []
  },
  {
   "cell_type": "markdown",
   "metadata": {},
   "source": [
    "** `while/break/continue`**\n",
    "\n",
    "+  `z = 1 + 1j, z = z**2 + 1`  例子\n",
    "+ `break`\n",
    "+ `continue`"
   ]
  },
  {
   "cell_type": "markdown",
   "metadata": {},
   "source": [
    "**列表内涵表达式 (List Comprehensions)**\n",
    "+ `[i**2 for i in range(4)]`\n",
    "+  与 `for` 循环的时间比较\n",
    "+  计算 $\\pi$ 的值"
   ]
  },
  {
   "cell_type": "markdown",
   "metadata": {},
   "source": [
    "### 函数"
   ]
  },
  {
   "cell_type": "markdown",
   "metadata": {},
   "source": [
    "### 类"
   ]
  },
  {
   "cell_type": "markdown",
   "metadata": {},
   "source": [
    "### 模块"
   ]
  }
 ],
 "metadata": {
  "kernelspec": {
   "display_name": "Python 3",
   "language": "python",
   "name": "python3"
  },
  "language_info": {
   "codemirror_mode": {
    "name": "ipython",
    "version": 3
   },
   "file_extension": ".py",
   "mimetype": "text/x-python",
   "name": "python",
   "nbconvert_exporter": "python",
   "pygments_lexer": "ipython3",
   "version": "3.6.8"
  },
  "latex_envs": {
   "LaTeX_envs_menu_present": true,
   "autoclose": false,
   "autocomplete": true,
   "bibliofile": "biblio.bib",
   "cite_by": "apalike",
   "current_citInitial": 1,
   "eqLabelWithNumbers": true,
   "eqNumInitial": 1,
   "hotkeys": {
    "equation": "Ctrl-E",
    "itemize": "Ctrl-I"
   },
   "labels_anchors": false,
   "latex_user_defs": false,
   "report_style_numbering": false,
   "user_envs_cfg": false
  },
  "toc": {
   "base_numbering": 1,
   "nav_menu": {},
   "number_sections": true,
   "sideBar": true,
   "skip_h1_title": false,
   "title_cell": "Table of Contents",
   "title_sidebar": "Contents",
   "toc_cell": false,
   "toc_position": {},
   "toc_section_display": true,
   "toc_window_display": false
  }
 },
 "nbformat": 4,
 "nbformat_minor": 2
}
