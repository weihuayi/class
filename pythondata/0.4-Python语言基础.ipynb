{
 "cells": [
  {
   "cell_type": "markdown",
   "metadata": {},
   "source": [
    "# Python 语言基础"
   ]
  },
  {
   "cell_type": "markdown",
   "metadata": {},
   "source": [
    "本节将介绍 Python 语言的基础概念和语法。"
   ]
  },
  {
   "cell_type": "markdown",
   "metadata": {},
   "source": [
    "Python 是一门编程语言，就像 C\\C++、Fortran、Matlab、BASIC、PHP 等语言，但它有如\n",
    "下的特点：\n",
    "\n",
    "* 是一门解释性的语言（与编译的语言相对），并且可以交互式使用。有很多 Python 的解\n",
    "    释器可以用来执行命令和脚本。\n",
    "* 开源协议下的自由软件，可以个人和开发商业软件都可以免费使用。\n",
    "* 跨平台。\n",
    "* 语法简洁明了，代码可读性强。\n",
    "* 从网站架构到科学计算，对于不同的应用，Python 都有大量高质量的软件包可以使用。\n",
    "* 非常容易和其它语言对接，特别是 C 和 C++ 语言。\n",
    "* 是面向对象和动态类型的语言。\n",
    "    + 这个世界是面向对象的。\n",
    "    + 在一个程序当中， 同一个变量可以包含不同类型的对象。"
   ]
  },
  {
   "cell_type": "code",
   "execution_count": 1,
   "metadata": {},
   "outputs": [
    {
     "name": "stdout",
     "output_type": "stream",
     "text": [
      "The Zen of Python, by Tim Peters\n",
      "\n",
      "Beautiful is better than ugly.\n",
      "Explicit is better than implicit.\n",
      "Simple is better than complex.\n",
      "Complex is better than complicated.\n",
      "Flat is better than nested.\n",
      "Sparse is better than dense.\n",
      "Readability counts.\n",
      "Special cases aren't special enough to break the rules.\n",
      "Although practicality beats purity.\n",
      "Errors should never pass silently.\n",
      "Unless explicitly silenced.\n",
      "In the face of ambiguity, refuse the temptation to guess.\n",
      "There should be one-- and preferably only one --obvious way to do it.\n",
      "Although that way may not be obvious at first unless you're Dutch.\n",
      "Now is better than never.\n",
      "Although never is often better than *right* now.\n",
      "If the implementation is hard to explain, it's a bad idea.\n",
      "If the implementation is easy to explain, it may be a good idea.\n",
      "Namespaces are one honking great idea -- let's do more of those!\n"
     ]
    }
   ],
   "source": [
    "import this"
   ]
  },
  {
   "cell_type": "markdown",
   "metadata": {},
   "source": [
    "下面是中文翻译，来自[这里\n",
    "](https://blog.csdn.net/gzlaiyonghao/article/details/2151918)\n",
    ">Python之禅 by Tim Peters\n",
    "> \n",
    ">优美胜于丑陋（Python 以编写优美的代码为目标）\n",
    ">\n",
    ">明了胜于晦涩（优美的代码应当是明了的，命名规范，风格相似）\n",
    ">\n",
    ">简洁胜于复杂（优美的代码应当是简洁的，不要有复杂的内部实现）\n",
    ">\n",
    ">复杂胜于凌乱（如果复杂不可避免，那代码间也不能有难懂的关系，要保持接口简洁）\n",
    ">\n",
    ">扁平胜于嵌套（优美的代码应当是扁平的，不能有太多的嵌套）\n",
    ">\n",
    ">间隔胜于紧凑（优美的代码有适当的间隔，不要奢望一行代码解决问题）\n",
    ">\n",
    ">可读性很重要（优美的代码是可读的）\n",
    ">\n",
    ">即便假借特例的实用性之名，也不可违背这些规则（这些规则至高无上）\n",
    ">\n",
    ">不要包容所有错误，除非你确定需要这样做（精准地捕获异常，不写 except:pass 风格的代码）\n",
    ">\n",
    ">当存在多种可能，不要尝试去猜测\n",
    ">\n",
    ">而是尽量找一种，最好是唯一一种明显的解决方案（如果不确定，就用穷举法）\n",
    ">\n",
    ">虽然这并不容易，因为你不是 Python 之父（这里的 Dutch 是指 Guido ）\n",
    ">\n",
    ">做也许好过不做，但不假思索就动手还不如不做（动手之前要细思量）\n",
    ">\n",
    ">如果你无法向人描述你的方案，那肯定不是一个好方案；反之亦然（方案测评标准）\n",
    ">\n",
    ">命名空间是一种绝妙的理念，我们应当多加利用（倡导与号召）\n",
    "\n",
    "\n",
    "**注：** 上面的原则有一定的普适性，如\n",
    "1. 数学 \n",
    "1. 写作"
   ]
  },
  {
   "cell_type": "markdown",
   "metadata": {},
   "source": [
    "## Python 语言基础"
   ]
  },
  {
   "cell_type": "markdown",
   "metadata": {},
   "source": [
    "### Hello, world"
   ]
  },
  {
   "cell_type": "code",
   "execution_count": null,
   "metadata": {},
   "outputs": [],
   "source": [
    "print(\"Hello, world!\")"
   ]
  },
  {
   "cell_type": "markdown",
   "metadata": {},
   "source": [
    "### 变量"
   ]
  },
  {
   "cell_type": "markdown",
   "metadata": {},
   "source": [
    "* 我们在计算机内存中存储值(value)，这些值存储的位置就叫做变量(variable)。"
   ]
  },
  {
   "cell_type": "markdown",
   "metadata": {},
   "source": [
    "下面定义一个名字为 `a` 的变量："
   ]
  },
  {
   "cell_type": "code",
   "execution_count": null,
   "metadata": {},
   "outputs": [],
   "source": [
    "a = 3"
   ]
  },
  {
   "cell_type": "markdown",
   "metadata": {},
   "source": [
    "**问题：**\n",
    "1. 与 c 语言定义变量有什么不同？"
   ]
  },
  {
   "cell_type": "markdown",
   "metadata": {},
   "source": [
    "* 变量可以分成不同的类型(types, data types)，每个变量都是一种类型的对象。\n",
    "    + 如何存储\n",
    "    + 能做何种操作\n",
    "    + 不能做什么操作\n",
    "    + `type` 方法检查对象所属的类型\n",
    "    + 属性和方法"
   ]
  },
  {
   "cell_type": "markdown",
   "metadata": {},
   "source": [
    "* 定义一个变量，与 C 语言定义的不同？\n",
    "* 变量的名字\n",
    "* 变量的地址 `id(a)`"
   ]
  },
  {
   "cell_type": "code",
   "execution_count": null,
   "metadata": {},
   "outputs": [],
   "source": [
    "from sys import getsizeof\n",
    "a = 4\n",
    "print(getsizeof(a))"
   ]
  },
  {
   "cell_type": "markdown",
   "metadata": {},
   "source": []
  },
  {
   "cell_type": "markdown",
   "metadata": {},
   "source": [
    "* Python 支持如下标准的数值类型：\n",
    "    1. Integer\n",
    "    1. Floats\n",
    "    1. Complex\n",
    "    1. Booleans"
   ]
  },
  {
   "cell_type": "markdown",
   "metadata": {},
   "source": [
    "* Python 可以当做一个计算器\n",
    "    1. `+`\n",
    "    1. `-`\n",
    "    1. `*`\n",
    "    1. `/`\n",
    "    1. `//`\n",
    "    1. `%`\n",
    "    1. `**`"
   ]
  },
  {
   "cell_type": "code",
   "execution_count": null,
   "metadata": {},
   "outputs": [],
   "source": [
    "a = 3"
   ]
  },
  {
   "cell_type": "markdown",
   "metadata": {},
   "source": [
    "### 赋值操作"
   ]
  },
  {
   "cell_type": "markdown",
   "metadata": {},
   "source": [
    "* 给一个**绑定**或**重新绑定**一个名字。\n",
    "* 等号右边的表达式计算后，创建或获得一个新对象。\n",
    "* 等号左边的名字被分配或者说绑定到右边的新对象上。\n",
    "* 一个对象绑定多个名字。\n",
    "* 要改变一个对象的数据（in place)，要用索引或者切片。\n",
    "* 可变 (mutable) 和不可变 (immutable) 的区别。\n",
    "    - 可变对象的内部可以修改。\n",
    "    - 不可变对象一旦创建就不可以修改。"
   ]
  },
  {
   "cell_type": "markdown",
   "metadata": {},
   "source": [
    "### 基本类型"
   ]
  },
  {
   "cell_type": "markdown",
   "metadata": {},
   "source": [
    "* Python 支持如下标题数值类型：\n",
    "    1. Integer\n",
    "    1. Floats\n",
    "    1. Complex\n",
    "    1. Booleans\n",
    "* Python 可以当做一个计算器\n",
    "    1. `+`\n",
    "    1. `-`\n",
    "    1. `*`\n",
    "    1. `/`\n",
    "    1. `//`\n",
    "    1. `%`\n",
    "    1. `**` "
   ]
  },
  {
   "cell_type": "markdown",
   "metadata": {},
   "source": [
    "### 表达式"
   ]
  },
  {
   "cell_type": "markdown",
   "metadata": {},
   "source": []
  },
  {
   "cell_type": "markdown",
   "metadata": {},
   "source": [
    "### 容器"
   ]
  },
  {
   "cell_type": "markdown",
   "metadata": {},
   "source": [
    "**列表（Lists)**\n",
    "    1. 定义 （Define) `colors = ['red', 'blue', 'green', 'black', 'white']`\n",
    "    1. 索引（Indexing）\n",
    "    1. 切片（Slicing）`[start:stop:stride]`\n",
    "        + 上面的三个参数都是可选的\n",
    "    1. list 是一个 **mutable** 对象， 可以被修改。\n",
    "    1. list 可以包含不同的类型对象。\n",
    "    1. 添加和移除 list 中的对象\n",
    "    1. 顺序取反（in-place  or out-place)\n",
    "    1. 拼接和重复操作 `+` 和 `*`\n",
    "    1. 排序 (in-place or out-place)\n",
    "    1. list 中的方法成员与数据成员（解释面向对象）\n",
    "    1. `<TAB>` 键来发现新的方法"
   ]
  },
  {
   "cell_type": "markdown",
   "metadata": {},
   "source": [
    "**字符串 (Strings)**\n",
    "    1. 不同字符串定义的语法(四种）， 展示错误的定义方式。\n",
    "    1. 索引\n",
    "    1. 切片\n",
    "    1. 不可变对象 (immutable object)，但可以基于原来的字符串创建新的字符串。\n",
    "    1. 字符串有很多有用的方法, 用 `<TAB>` 和`help(str)` 发现更多新方法。\n",
    "    1. 字符串格式化。"
   ]
  },
  {
   "cell_type": "markdown",
   "metadata": {},
   "source": [
    "**字典 （Dictionaries)**\n",
    "    1. 定义 \n",
    "    1. 索引\n",
    "    1. 添加\n",
    "    1. 键值对 （maps keys to values)\n",
    "    1. 无序容器"
   ]
  },
  {
   "cell_type": "markdown",
   "metadata": {},
   "source": [
    "**元组 (Tuples)**\n",
    "    1. 定义\n",
    "    1. 索引\n",
    "    1. 切片\n",
    "    1. 不可变的列表"
   ]
  },
  {
   "cell_type": "markdown",
   "metadata": {},
   "source": [
    "**集合 （Sets)**\n",
    "    1. 定义，包括无序且唯一的元素"
   ]
  },
  {
   "cell_type": "markdown",
   "metadata": {},
   "source": [
    "### 控制流 (Control Flow)"
   ]
  },
  {
   "cell_type": "markdown",
   "metadata": {},
   "source": [
    "**条件表达式**"
   ]
  },
  {
   "cell_type": "markdown",
   "metadata": {},
   "source": [
    "+ `==`\n",
    "+ `is`\n",
    "+ `in`\n",
    "+ `not`"
   ]
  },
  {
   "cell_type": "markdown",
   "metadata": {},
   "source": [
    "** `if/elif/else`**"
   ]
  },
  {
   "cell_type": "code",
   "execution_count": null,
   "metadata": {},
   "outputs": [],
   "source": [
    "if 2**2 == 4:\n",
    "     print('Obvious!')"
   ]
  },
  {
   "cell_type": "markdown",
   "metadata": {},
   "source": [
    "* **代码块**是通过**缩进(Indentation)**来标示的，请注意在 Python 交互终端或脚本文件中都要严格遵守缩进深度，不同缩进深度表示不同的代码块。"
   ]
  },
  {
   "cell_type": "markdown",
   "metadata": {},
   "source": [
    "**`for/range`**"
   ]
  },
  {
   "cell_type": "code",
   "execution_count": null,
   "metadata": {},
   "outputs": [],
   "source": []
  },
  {
   "cell_type": "markdown",
   "metadata": {},
   "source": [
    "** `while/break/continue`**\n",
    "\n",
    "+  `z = 1 + 1j, z = z**2 + 1`  例子\n",
    "+ `break`\n",
    "+ `continue`"
   ]
  },
  {
   "cell_type": "markdown",
   "metadata": {},
   "source": [
    "**列表内涵表达式 (List Comprehensions)**\n",
    "+ `[i**2 for i in range(4)]`\n",
    "+  与 `for` 循环的时间比较\n",
    "+  计算 $\\pi$ 的值"
   ]
  },
  {
   "cell_type": "markdown",
   "metadata": {},
   "source": [
    "## 控制流工具"
   ]
  },
  {
   "cell_type": "markdown",
   "metadata": {},
   "source": [
    "### `if` 语句"
   ]
  },
  {
   "cell_type": "code",
   "execution_count": null,
   "metadata": {},
   "outputs": [],
   "source": []
  },
  {
   "cell_type": "markdown",
   "metadata": {},
   "source": [
    "### `for` 语句"
   ]
  },
  {
   "cell_type": "markdown",
   "metadata": {},
   "source": [
    "###  `range()`  函数"
   ]
  },
  {
   "cell_type": "markdown",
   "metadata": {},
   "source": [
    "### `break` 和 `continue` 语句，`for` 循环的 `else` 从句"
   ]
  },
  {
   "cell_type": "markdown",
   "metadata": {},
   "source": [
    "### `pass` 语句"
   ]
  },
  {
   "cell_type": "markdown",
   "metadata": {},
   "source": [
    "## 定义函数"
   ]
  },
  {
   "cell_type": "markdown",
   "metadata": {},
   "source": [
    "* `def`\n",
    "* 函数名\n",
    "* 小括号内的参数列表 \n",
    "* 下一行开始函数体\n",
    "* 缩进\n",
    "* 函数体的第一行可以写函数的文档字符串， docstring\n",
    "    + 养成写函数说明文档的好习惯\n",
    "* 当调用一个函数时，Python 会为这个函数的局部变量创建一个符号表(symbol table)\n",
    "* 参数传递是变量的值(call by value)，所有变量的值都是对象的引用，而不是对象的值\n",
    "* 引用变量时，Python 查找该变量的顺序。\n",
    "* 定义一个函数时时，\n",
    "    + Python 会创建一个函数对象\n",
    "    + 在当前的符号表中加入函数的名字\n",
    "    + 可以把函数重新命名\n",
    "* 函数没有 `return` 语句时，默认返回 `None`\n",
    "\n",
    "\n",
    "```\n",
    ">>> def fib(n):    # write Fibonacci series up to n\n",
    "...     \"\"\"Print a Fibonacci series up to n.\"\"\"\n",
    "...     a, b = 0, 1\n",
    "...     while a < n:\n",
    "...         print(a, end=' ')\n",
    "...         a, b = b, a+b\n",
    "...     print()\n",
    "...\n",
    ">>> # Now call the function we just defined:\n",
    "... fib(2000)\n",
    "0 1 1 2 3 5 8 13 21 34 55 89 144 233 377 610 987 1597\n",
    "```"
   ]
  },
  {
   "cell_type": "markdown",
   "metadata": {},
   "source": [
    "## 定义函数进阶"
   ]
  },
  {
   "cell_type": "markdown",
   "metadata": {},
   "source": [
    "###  指定默认参数值"
   ]
  },
  {
   "cell_type": "markdown",
   "metadata": {},
   "source": [
    "```\n",
    "def ask_ok(prompt, retries=4, reminder='Please try again!'):\n",
    "    while True:\n",
    "        ok = input(prompt)\n",
    "        if ok in ('y', 'ye', 'yes'):\n",
    "            return True\n",
    "        if ok in ('n', 'no', 'nop', 'nope'):\n",
    "            return False\n",
    "        retries = retries - 1\n",
    "        if retries < 0:\n",
    "            raise ValueError('invalid user response')\n",
    "        print(reminder)\n",
    "```\n",
    "\n",
    "* 给定主参数: ask_ok('Do you really want to quit?')\n",
    "* 设定一个可选参数: ask_ok('OK to overwrite the file?', 2)\n",
    "* 或者给出所有参数: ask_ok('OK to overwrite the file?', 2, 'Come on, only yes or no!')\n",
    "\n",
    "\n",
    "**注意：** 默认参数最好不要是可变对象。\n",
    "\n",
    "```\n",
    "def f(a, L=[]):\n",
    "    L.append(a)\n",
    "    return L\n",
    "\n",
    "print(f(1))\n",
    "print(f(2))\n",
    "print(f(3))\n",
    "```\n",
    "\n",
    "```\n",
    "def f(a, L=None):\n",
    "    if L is None:\n",
    "        L = []\n",
    "    L.append(a)\n",
    "    return L\n",
    "```"
   ]
  },
  {
   "cell_type": "markdown",
   "metadata": {},
   "source": [
    "### 关键词参数 (keyword arguments)"
   ]
  },
  {
   "cell_type": "markdown",
   "metadata": {},
   "source": [
    "### 位置参数(positional arguments)"
   ]
  },
  {
   "cell_type": "markdown",
   "metadata": {},
   "source": [
    "* 关键词参数必须跟在位置参数后面\n",
    "* 用户输入的关键词参数必须匹配函数定义中的一个关键词参数。\n",
    "* 关键词参数的位置不重要\n",
    "* 每个参数只接收一次输入\n",
    "\n",
    "```\n",
    ">>> def function(a):\n",
    "...     pass\n",
    "...\n",
    ">>> function(0, a=0)\n",
    "Traceback (most recent call last):\n",
    "  File \"<stdin>\", line 1, in <module>\n",
    "TypeError: function() got multiple values for keyword argument 'a'\n",
    "```"
   ]
  },
  {
   "cell_type": "markdown",
   "metadata": {},
   "source": [
    "### tuple 参数 和 dict 参数"
   ]
  },
  {
   "cell_type": "markdown",
   "metadata": {},
   "source": [
    "```\n",
    "def cheeseshop(kind, *arguments, **keywords):\n",
    "    print(\"-- Do you have any\", kind, \"?\")\n",
    "    print(\"-- I'm sorry, we're all out of\", kind)\n",
    "    for arg in arguments:\n",
    "        print(arg)\n",
    "    print(\"-\" * 40)\n",
    "    for kw in keywords:\n",
    "        print(kw, \":\", keywords[kw])\n",
    "```"
   ]
  },
  {
   "cell_type": "markdown",
   "metadata": {},
   "source": [
    "### 任意参数列表"
   ]
  },
  {
   "cell_type": "markdown",
   "metadata": {},
   "source": [
    "* tuple 参数必须在位置参数的后面\n",
    "```\n",
    "def write_multiple_items(file, separator, *args):\n",
    "    file.write(separator.join(args))\n",
    "```\n",
    "* tuple 参数后面只能跟 keyword 参数\n",
    "```\n",
    ">>> def concat(*args, sep=\"/\"):\n",
    "...     return sep.join(args)\n",
    "...\n",
    ">>> concat(\"earth\", \"mars\", \"venus\")\n",
    "'earth/mars/venus'\n",
    ">>> concat(\"earth\", \"mars\", \"venus\", sep=\".\")\n",
    "'earth.mars.venus'\n",
    "```"
   ]
  },
  {
   "cell_type": "markdown",
   "metadata": {},
   "source": [
    "### 参数列表的展开\n",
    "\n",
    "* `*` operator\n",
    "* `**` operator"
   ]
  },
  {
   "cell_type": "markdown",
   "metadata": {},
   "source": [
    "### Lambda 表达式\n",
    "\n",
    "* 定义匿名函数\n",
    "* 只能包含一个表达式\n",
    "* 可以引用 Lambda 函数之外的变量"
   ]
  },
  {
   "cell_type": "markdown",
   "metadata": {},
   "source": [
    "### 文档字符串"
   ]
  },
  {
   "cell_type": "markdown",
   "metadata": {},
   "source": [
    "```\n",
    ">>> def my_function():\n",
    "...     \"\"\"Do nothing, but document it.\n",
    "...\n",
    "...     No, really, it doesn't do anything.\n",
    "...     \"\"\"\n",
    "...     pass\n",
    "...\n",
    ">>> print(my_function.__doc__)\n",
    "Do nothing, but document it.\n",
    "\n",
    "    No, really, it doesn't do anything.\n",
    "```"
   ]
  },
  {
   "cell_type": "markdown",
   "metadata": {},
   "source": [
    "### 函数标记(Function Annotations)\n",
    "\n",
    "```\n",
    ">>> def f(ham: str, eggs: str = 'eggs') -> str:\n",
    "...     print(\"Annotations:\", f.__annotations__)\n",
    "...     print(\"Arguments:\", ham, eggs)\n",
    "...     return ham + ' and ' + eggs\n",
    "...\n",
    ">>> f('spam')\n",
    "Annotations: {'ham': <class 'str'>, 'return': <class 'str'>, 'eggs': <class 'str'>}\n",
    "Arguments: spam eggs\n",
    "'spam and eggs'\n",
    "```"
   ]
  },
  {
   "cell_type": "markdown",
   "metadata": {},
   "source": [
    "## 数据结构"
   ]
  },
  {
   "cell_type": "markdown",
   "metadata": {},
   "source": [
    "### list 中的方法"
   ]
  },
  {
   "cell_type": "markdown",
   "metadata": {},
   "source": [
    "### list as Stacks\n",
    "\n",
    "* last-in, first-out\n",
    "* 在什么场景下可在用到？\n",
    "\n",
    "```\n",
    ">>> stack = [3, 4, 5]\n",
    ">>> stack.append(6)\n",
    ">>> stack.append(7)\n",
    ">>> stack\n",
    "[3, 4, 5, 6, 7]\n",
    ">>> stack.pop()\n",
    "7\n",
    ">>> stack\n",
    "[3, 4, 5, 6]\n",
    ">>> stack.pop()\n",
    "6\n",
    ">>> stack.pop()\n",
    "5\n",
    ">>> stack\n",
    "[3, 4]\n",
    "```"
   ]
  },
  {
   "cell_type": "markdown",
   "metadata": {},
   "source": [
    "### list as Queues\n",
    "\n",
    "* first-in, first-out\n",
    "* list 不是一个高效的实现队列数据结构的方式\n",
    "* `from collections import deque`"
   ]
  },
  {
   "cell_type": "markdown",
   "metadata": {},
   "source": [
    "### 列表推导或列表解析(List comprehension)\n",
    "\n",
    "* 0到100所有偶数组成的列表\n",
    "* 获取文本中所有单词的第 1 个字符\n",
    "* 获取两个列表对应位的乘积\n",
    "* `a=['1', '2', '3', 'i', '8']` 中能转化为数字的转化为数字， 否则转化为 0\n",
    "    + `[int(i) if i.isdigit() else 0 for i in a]`\n",
    "    + `[int(i) if i.isdigit() else None for i in a]`\n",
    "* 获取列表中嵌套列表的元素，生成一个无嵌套的新列表\n",
    "```\n",
    "a = [[1, 2]， [3, 4, 5]， [8]]\n",
    "[x for i in a for x in i]\n",
    "```\n",
    "* "
   ]
  },
  {
   "cell_type": "markdown",
   "metadata": {},
   "source": [
    "### 类"
   ]
  },
  {
   "cell_type": "markdown",
   "metadata": {},
   "source": [
    "### 模块"
   ]
  }
 ],
 "metadata": {
  "kernelspec": {
   "display_name": "Python 3",
   "language": "python",
   "name": "python3"
  },
  "language_info": {
   "codemirror_mode": {
    "name": "ipython",
    "version": 3
   },
   "file_extension": ".py",
   "mimetype": "text/x-python",
   "name": "python",
   "nbconvert_exporter": "python",
   "pygments_lexer": "ipython3",
   "version": "3.6.8"
  },
  "latex_envs": {
   "LaTeX_envs_menu_present": true,
   "autoclose": false,
   "autocomplete": true,
   "bibliofile": "biblio.bib",
   "cite_by": "apalike",
   "current_citInitial": 1,
   "eqLabelWithNumbers": true,
   "eqNumInitial": 1,
   "hotkeys": {
    "equation": "Ctrl-E",
    "itemize": "Ctrl-I"
   },
   "labels_anchors": false,
   "latex_user_defs": false,
   "report_style_numbering": false,
   "user_envs_cfg": false
  },
  "toc": {
   "base_numbering": 1,
   "nav_menu": {},
   "number_sections": true,
   "sideBar": true,
   "skip_h1_title": false,
   "title_cell": "Table of Contents",
   "title_sidebar": "Contents",
   "toc_cell": false,
   "toc_position": {},
   "toc_section_display": true,
   "toc_window_display": false
  }
 },
 "nbformat": 4,
 "nbformat_minor": 2
}
