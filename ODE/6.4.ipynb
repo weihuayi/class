{
 "cells": [
  {
   "cell_type": "markdown",
   "metadata": {},
   "source": [
    "$\\newcommand\\d{\\,{\\mathrm d}}$"
   ]
  },
  {
   "cell_type": "markdown",
   "metadata": {},
   "source": [
    "# 极限环和平面图貌"
   ]
  },
  {
   "cell_type": "markdown",
   "metadata": {},
   "source": [
    "**例 1** 对平面一阶非线性驻定方程组 \n",
    "$$\n",
    "\\begin{cases}\n",
    "\\frac{\\mathrm d x}{\\mathrm d t} = x + y - x(x^2 + y^2)\\\\\n",
    "\\frac{\\mathrm d y}{\\mathrm d t} = -x + y - y(x^2 + y^2)\n",
    "\\end{cases}\n",
    "$$\n",
    "\n",
    "通过极坐标变换  $x = r\\cos\\theta, y = r\\sin\\theta$, 上述方程组可化为\n",
    "\n",
    "$$\n",
    "\\frac{\\mathrm d r}{\\mathrm d t} = r(1-r^2), \\quad \\frac{\\mathrm d \\theta}{\\mathrm d t} = -1.\n",
    "$$\n",
    "\n",
    "方程有两个特解, 一个为\n",
    "$$\n",
    "r=0, \\quad \\theta = t_0 - t, t\\geq t_0\n",
    "$$\n",
    "这个解是不稳定的**焦点**.\n",
    "\n",
    "另一个为\n",
    "$$\n",
    "r=1, \\quad \\theta = t_0 - t, t\\geq t_0\n",
    "$$\n",
    "在相平面上的轨线是半径等于 1 以原点为圆心的一个圆, 它是一个**周期解**."
   ]
  },
  {
   "cell_type": "markdown",
   "metadata": {},
   "source": [
    "**其它轨线的性态是什么样的呢?** 以原点为圆心, 画一个半径为 $R$ 的圆, 讨论过这个圆上任意一点 $(R, \\theta^*)$ 的轨线的走向. "
   ]
  },
  {
   "cell_type": "markdown",
   "metadata": {},
   "source": [
    "当 $R=R_1 < 1$ 时, 有\n",
    "$$\n",
    "\\frac{\\mathrm d r}{\\mathrm d t}|_{r=R_1} = R_1(1-R_1^2) > 0, \\quad \\frac{\\mathrm d \\theta}{\\mathrm d t}|_{\\theta=\\theta^*} = -1 <0.\n",
    "$$\n",
    "\n",
    "轨线按顺时针方向从圆 $r=R_1$ 上走出圆外."
   ]
  },
  {
   "cell_type": "markdown",
   "metadata": {},
   "source": [
    "当 $R=R_2 > 1$ 时, 有\n",
    "$$\n",
    "\\frac{\\mathrm d r}{\\mathrm d t}|_{r=R_2} = R_2(1-R_2^2) < 0, \\quad \\frac{\\mathrm d \\theta}{\\mathrm d t}|_{\\theta=\\theta^*} = -1 <0.\n",
    "$$\n",
    "\n",
    "轨线按顺时针方向从圆 $r=R_2$ 上走进圆内."
   ]
  },
  {
   "cell_type": "markdown",
   "metadata": {},
   "source": [
    "下在讨论由 $R_1 < r < R_2$ 组成的环域 $D$, 无论 $|R_2 - R_1|$ 多么小, 经过 $D$ 边界的轨线都会进入 $D$, 并不再走出来, 进而说明所有的轨线都趋于闭轨线 $r = 1$, 或者说所有的解均趋近于这个周期解. \n",
    "\n",
    "这种孤立的同期解(闭曲线), 在相平面上我们称为**极限环**.\n",
    "1. 稳定 \n",
    "2. 不稳定\n",
    "3. 半稳定 \n",
    "\n",
    "上述的 $r=1$ 便是一个稳定的极限环. "
   ]
  },
  {
   "cell_type": "markdown",
   "metadata": {},
   "source": [
    "**上面的例子, 我们先求出特解的方法引入极限环的定义, 但实际问题中特解并不总能求出, 所以给出不需要求出特解的方法, 更具实用性.**"
   ]
  },
  {
   "cell_type": "markdown",
   "metadata": {},
   "source": [
    "##  本迪克松 (Bendixson) 方法 "
   ]
  },
  {
   "cell_type": "markdown",
   "metadata": {},
   "source": [
    "考虑二维（平面）一阶驻定微分方程组\n",
    "\n",
    "$$\n",
    "\\begin{cases}\n",
    "\\frac{\\mathrm d x}{\\mathrm d t} = X(x, y),\\\\\n",
    "\\frac{\\mathrm d y}{\\mathrm d t} = Y(x, y),\n",
    "\\end{cases}\n",
    "$$\n",
    "\n",
    "设 $X, Y$ 在相平面的某域 $G$ 内, 对 $x$, $y$ 有连续的偏导数(保证解的存在唯一性)."
   ]
  },
  {
   "cell_type": "markdown",
   "metadata": {
    "collapsed": true
   },
   "source": [
    "**定理 8** 如果 $G$ 内存在有界环形闭区域 $D$, 其内不含方程组的奇点, 而经过区域 $D$ 上点的解 $$x = x(t), \\quad y = y(t),$$ \n",
    "当 $t\\geq t_0$ (或 $t \\leq t_0$) 时不离开区域 $D$, 则存在两种可能:\n",
    "1. 该解本身是一个周期解(闭轨线)\n",
    "2. 该解按正向(或负向)趋近于 $D$ 内的某一周期解(闭轨线)"
   ]
  },
  {
   "cell_type": "markdown",
   "metadata": {},
   "source": [
    "**定理 9** 如果 $G$ 内存在单连通区域 $D^*$, 在其内函数 $\\frac{\\partial X}{\\partial x} + \\frac{\\partial Y}{\\partial y}$ 不变号且在 $D^*$ 内的任何子域上不恒等于零, 则方程组在 $D^*$ 内不存在任何周期解, 更不存在任何极限环."
   ]
  },
  {
   "cell_type": "markdown",
   "metadata": {},
   "source": [
    "**证明:** 可以用反证法和格林(Green)公式来证明该定理. 假设 $D^*$ 内存在某周期为 $T$ 的周期解\n",
    "$$\n",
    "\\Gamma: x= x(t),\\quad y = y(t),\\quad 0\\leq t \\leq T,\n",
    "$$\n",
    "则对于由 $\\Gamma$ 围成的区域 $D_\\Gamma$ (显然 $D_\\Gamma \\subset D^*$) 有\n",
    "$$\n",
    "\\begin{aligned}\n",
    "& \\iint_{D_\\Gamma} \\frac{\\partial X}{\\partial x} + \\frac{\\partial Y}{\\partial y}\\d x\\d y \\\\\n",
    "=& \\int_\\Gamma (X\\d y - Y \\d x)\\\\\n",
    "=& \\int_0^T X\\frac{\\d y}{\\d t} - Y \\frac{\\d x}{\\d t} \\d t \\\\\n",
    "=& \\int_0^T (XY - YX) \\d t = 0\n",
    "\\end{aligned}\n",
    "$$\n",
    "这与定理的假设矛盾, 故在区域 $D$ 内不存在任何周期解,更不存在几何极限环. $\\square$"
   ]
  },
  {
   "cell_type": "markdown",
   "metadata": {},
   "source": [
    "**例 2** 考虑带阻尼的数学摆, 其微分方程可化为平面微分方程组 $$\\frac{\\d x}{\\d t} = y, \\quad \\frac{\\d y}{\\d t} = -\\frac{g}{l}\\sin x - \\frac{\\mu}{m} y$$ "
   ]
  },
  {
   "cell_type": "markdown",
   "metadata": {},
   "source": [
    "**解:** 易验证 $$ \\frac{\\partial X}{\\partial x} + \\frac{\\partial Y}{\\partial y} = - \\frac{\\mu}{m} < 0, $$\n",
    "\n",
    "则根据定理 9, 方程不存在周期解.$\\square$"
   ]
  },
  {
   "cell_type": "markdown",
   "metadata": {},
   "source": [
    "由于\n",
    "$$\n",
    "\\begin{aligned}\n",
    "\\text{稳定的极限环} &\\leftrightarrow \\text{物理上的周 期振动}\\\\\n",
    "\\text{不稳定的极限环} &\\leftrightarrow \\text{物理上不能实现的周期振动}\\\\\n",
    "\\end{aligned}\n",
    "$$\n",
    "所以讨论如何确定极限环及其稳定性态的问题是具有**实际意义**的."
   ]
  },
  {
   "cell_type": "markdown",
   "metadata": {
    "collapsed": true
   },
   "source": [
    "## 范德波尔方程(van der Pol Equation)"
   ]
  },
  {
   "cell_type": "markdown",
   "metadata": {},
   "source": [
    "$$\n",
    "\\frac{\\d^2 x}{\\d t^2}+\\mu(x^2 - 1)\\frac{\\d x}{\\d t} + x = 0\n",
    "$$"
   ]
  },
  {
   "cell_type": "markdown",
   "metadata": {},
   "source": [
    "## 李纳微分方程(Liénard)"
   ]
  },
  {
   "cell_type": "markdown",
   "metadata": {},
   "source": [
    "$$\n",
    "\\frac{\\d^2 x}{\\d t^2}+f(x)\\frac{\\d x}{\\d t} + g(x) = 0\n",
    "$$"
   ]
  },
  {
   "cell_type": "markdown",
   "metadata": {},
   "source": [
    "记 \n",
    "$$\n",
    "F(x) = \\int_0^x f(x) \\d x \n",
    "$$\n",
    "并设\n",
    "$$\n",
    "y=\\frac{\\d x}{\\d t} + F(x)\n",
    "$$\n",
    "李纳方程可化为平面微分方程组\n",
    "$$\n",
    "\\begin{cases}\n",
    "\\frac{\\d x}{\\d t} = y - F(x), \\\\\n",
    "\\frac{\\d y}{\\d t} = -g(x).\n",
    "\\end{cases}\n",
    "$$"
   ]
  },
  {
   "cell_type": "markdown",
   "metadata": {},
   "source": [
    "**定理 10** 假设\n",
    "\n",
    "(1). $f(x)$ 及 $g(x)$ 对一切 $x$ 连续, $g(x)$ 满足局部利普希茨条件;\n",
    "\n",
    "(2). $f(x)$ 为偶函数, $f(0)<0$, $g(x)$ 为奇函数, 当 $x\\not=0$ 时, $xg(x)>0$;\n",
    "\n",
    "(3). 当 $x\\to \\pm \\infty$, $F(x)\\to \\pm \\infty$; $F(x)$ 有唯一的正零点, 且对 $x\\leq a$, $F(x)$ 是单调增加的,\n",
    "\n",
    "则李纳方程有唯一的周期解, 对应的平面微分方程组有一个稳定的极限环. "
   ]
  },
  {
   "cell_type": "markdown",
   "metadata": {},
   "source": [
    "## Poincaré 映射"
   ]
  },
  {
   "cell_type": "markdown",
   "metadata": {},
   "source": [
    "**Poincaré 映射**"
   ]
  },
  {
   "cell_type": "markdown",
   "metadata": {},
   "source": [
    "**后继函数:** $d(\\eta) = P(\\eta) - \\eta$"
   ]
  },
  {
   "cell_type": "markdown",
   "metadata": {
    "collapsed": true
   },
   "source": [
    "**$k$ 重极限环**"
   ]
  },
  {
   "cell_type": "markdown",
   "metadata": {},
   "source": [
    "## 6.4.2 平面图貌"
   ]
  }
 ],
 "metadata": {
  "kernelspec": {
   "display_name": "Python 3",
   "language": "python",
   "name": "python3"
  },
  "language_info": {
   "codemirror_mode": {
    "name": "ipython",
    "version": 3
   },
   "file_extension": ".py",
   "mimetype": "text/x-python",
   "name": "python",
   "nbconvert_exporter": "python",
   "pygments_lexer": "ipython3",
   "version": "3.5.2"
  },
  "latex_envs": {
   "bibliofile": "biblio.bib",
   "cite_by": "apalike",
   "current_citInitial": 1,
   "eqLabelWithNumbers": true,
   "eqNumInitial": 0
  }
 },
 "nbformat": 4,
 "nbformat_minor": 0
}
