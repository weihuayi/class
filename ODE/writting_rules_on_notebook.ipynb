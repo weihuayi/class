{
 "cells": [
  {
   "cell_type": "markdown",
   "metadata": {},
   "source": [
    "# Notebook 写作手册"
   ]
  },
  {
   "cell_type": "markdown",
   "metadata": {},
   "source": [
    "## 操作"
   ]
  },
  {
   "cell_type": "markdown",
   "metadata": {},
   "source": [
    "## 数学公式"
   ]
  },
  {
   "cell_type": "markdown",
   "metadata": {},
   "source": [
    "### 行内公式 "
   ]
  },
  {
   "cell_type": "markdown",
   "metadata": {},
   "source": [
    "这是一个行内公式 $x^2$. 写作时注意如下事项:\n",
    "1. `$ $` 内部不用空格, 因为 *Latex* 会自动忽略公式中的空格.\n",
    "1. `$ $` 内部如果需要空格, 可利用如下 *Latex* 命令.\n",
    "    + `\\quad` 表示四个空格\n",
    "    + `~`, `\\,` 表示一个空格\n",
    "1. 行内公式要与左右的文字空一格, 后面若直接跟标点符号, 则不用空格."
   ]
  },
  {
   "cell_type": "markdown",
   "metadata": {},
   "source": [
    "### 行间公式"
   ]
  },
  {
   "cell_type": "markdown",
   "metadata": {},
   "source": [
    "`$$ $$` 中间输入的公式是行间公式, 下面是一个行间公式 \n",
    "\n",
    "$$\n",
    "x^2 + y^2 = 1\n",
    "$$"
   ]
  },
  {
   "cell_type": "markdown",
   "metadata": {},
   "source": [
    "通常写作时注意如下事项:\n",
    "\n",
    "1. 如果可以使文档更清楚, 行间公式与前后文字可以空一行.\n",
    "1. 多行公式中, 公式显示中的一行对应 `latex` 公式中的一行.\n",
    "```latex\n",
    "$$\n",
    "\\begin{aligned}\n",
    "\\cos x\\frac{\\mathrm d y}{\\mathrm d x}&=y\\sin x\\\\\n",
    "\\frac{\\mathrm d y}{\\mathrm y}&=\\frac{\\sin x}{\\cos x}{\\mathrm d x}\\\\\n",
    "\\ln|y|&=-\\ln|\\cos x|+\\ln|c_0|\\\\\n",
    "y&=\\frac{c}{\\cos x}\\\\\n",
    "\\end{aligned}\n",
    "$$\n",
    "```\n",
    "$$\n",
    "\\begin{aligned}\n",
    "\\cos x\\frac{\\mathrm d y}{\\mathrm d x} & =y\\sin x\\\\\n",
    "\\frac{\\mathrm d y}{\\mathrm y} & =\\frac{\\sin x}{\\cos x}{\\mathrm d x}\\\\\n",
    "\\ln|y| &  =-\\ln|\\cos x|+\\ln|c_0|\\\\\n",
    "y &=\\frac{c}{\\cos x}\\\\\n",
    "\\end{aligned}\n",
    "$$"
   ]
  },
  {
   "cell_type": "markdown",
   "metadata": {},
   "source": [
    "特别在课件的写作中, 要注意如下事项:\n",
    "1. 尽量把长公式写为行间公式\n",
    "1. 不用编号索引公式.\n",
    "1. 一屏之内的内容尽量自封闭."
   ]
  },
  {
   "cell_type": "markdown",
   "metadata": {},
   "source": [
    "## Markdown"
   ]
  },
  {
   "cell_type": "markdown",
   "metadata": {
    "collapsed": false
   },
   "source": [
    "利用 Markdown 写作的过程中要注意如下事项:\n",
    "1. 一个 Markdown Cell 不要太多内容.\n",
    "1. 一个 Markdown Cell 尽量为一个意义单元.\n",
    "1. 所有的标题要独立一个 Cell. \n",
    "1. 数学中常用的一些关键词, 如 \n",
    "    + 第一次出现的概念名词\n",
    "    + \"注意:\", \"证明:\", \"练习\", \"解:\", \"例 1\", \"定理\" 等常用的词.\n",
    "1. 标点符号要与后面的文字空一格.\n",
    "1. 标点符号要用英文的标点符号.\n",
    "1. 一行内的数字, 英文单词都要和左右的文字空一格."
   ]
  },
  {
   "cell_type": "markdown",
   "metadata": {},
   "source": [
    "## 具体问题"
   ]
  },
  {
   "cell_type": "markdown",
   "metadata": {},
   "source": [
    "**例**\n",
    "```\n",
    "$$\n",
    "\\varphi(x)=y_0+\\int\\limits_{x_0}^x f(x,\\varphi(x))\\mathrm dx,\\quad x_0\\leq x\\leq x+h\n",
    "$$\n",
    "```\n",
    "注意第一个公式后, 一般加一个 `\\quad` 会更好一点"
   ]
  },
  {
   "cell_type": "markdown",
   "metadata": {},
   "source": [
    "**例**\n",
    "```\n",
    "$$\n",
    "\\int\\limits_{x_0}^x f(x,y)\\mathrm dx\n",
    "$$\n",
    "```\n",
    "$$\n",
    "\\int\\limits_{x_0}^x f(x,y)\\mathrm dx\n",
    "$$\n",
    "\n",
    "最好不要用`\\limits`, `\\mathrm dx` 前面要加一个 `\\,`\n",
    "```\n",
    "$$\n",
    "\\int_{x_0}^x f(x,y)\\,\\mathrm dx\n",
    "$$\n",
    "```\n",
    "$$\n",
    "\\int_{x_0}^x f(x,y)\\,\\mathrm dx\n",
    "$$"
   ]
  },
  {
   "cell_type": "markdown",
   "metadata": {},
   "source": [
    "\\left|\\int_{x_0}^x f(\\xi,y_0)\\,\\mathrm d\\xi\\right|"
   ]
  },
  {
   "cell_type": "markdown",
   "metadata": {},
   "source": [
    "\\varphi_k-1(x)"
   ]
  },
  {
   "cell_type": "markdown",
   "metadata": {},
   "source": [
    "## 4.1 节中出现在问题"
   ]
  },
  {
   "cell_type": "markdown",
   "metadata": {
    "collapsed": true
   },
   "source": [
    "1. 数学公式后的标点符号之间的空格应该去掉\n",
    "1. 公式过于重复"
   ]
  },
  {
   "cell_type": "code",
   "execution_count": null,
   "metadata": {
    "collapsed": true
   },
   "outputs": [],
   "source": []
  }
 ],
 "metadata": {
  "kernelspec": {
   "display_name": "Python 2",
   "language": "python",
   "name": "python2"
  },
  "language_info": {
   "codemirror_mode": {
    "name": "ipython",
    "version": 2
   },
   "file_extension": ".py",
   "mimetype": "text/x-python",
   "name": "python",
   "nbconvert_exporter": "python",
   "pygments_lexer": "ipython2",
   "version": "2.7.10"
  }
 },
 "nbformat": 4,
 "nbformat_minor": 0
}
