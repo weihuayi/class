{
 "cells": [
  {
   "cell_type": "markdown",
   "metadata": {
    "collapsed": true
   },
   "source": [
    "# 5.2.2 非齐次线性微分方程组"
   ]
  },
  {
   "cell_type": "markdown",
   "metadata": {},
   "source": [
    "本节讨论的是非齐次线性微分方程组\n",
    "\n",
    "$$\n",
    "\\mathbf x'=\\mathbf A(t)\\mathbf x+\\mathbf f(t)\n",
    "$$\n",
    "\n",
    "的解的结构问题, $\\mathbf A(t)$ 是区间 $a\\leq t \\leq b$ 上的已知 $n$ 阶连续矩阵,$\\mathbf f(t)$ 是区间 $a\\leq t \\leq b$ 的 $n$ 维连续列向量."
   ]
  },
  {
   "cell_type": "markdown",
   "metadata": {},
   "source": [
    "### 性质1 "
   ]
  },
  {
   "cell_type": "markdown",
   "metadata": {},
   "source": [
    "如果 $\\mathbf \\varphi (t)$ 是此方程的解, $\\mathbf \\psi$ 是此方程对应的齐次线性微分方程组 $\\mathbf x'=\\mathbf A(t)\\mathbf x$ 的解. 则 $\\mathbf\\varphi + \\mathbf\\psi$ 是此方程的解."
   ]
  },
  {
   "cell_type": "markdown",
   "metadata": {},
   "source": [
    "### 性质2"
   ]
  },
  {
   "cell_type": "markdown",
   "metadata": {},
   "source": [
    "如果 $\\mathbf\\varphi_1(t)$ 和 $\\mathbf\\varphi_2(t)$ 是上面方程的两个解, 则 $\\mathbf\\varphi_1(t)-\\mathbf\\varphi_2(t)$ 是齐次线性微分方程组 $\\mathbf x'=\\mathbf A(t)\\mathbf x$ 的解. "
   ]
  },
  {
   "cell_type": "markdown",
   "metadata": {},
   "source": [
    "### 定理7"
   ]
  },
  {
   "cell_type": "markdown",
   "metadata": {},
   "source": [
    "设 $\\Psi(t)$ 是方程 $\\mathbf x'=\\mathbf A(t)\\mathbf x$ 的基解矩阵, $ \\bar{\\mathbf\\varphi}(t)$ 是\n",
    "\n",
    "$$\n",
    "\\mathbf x'=\\mathbf A(t)\\mathbf x+\\mathbf f(t)\n",
    "$$\n",
    "\n",
    "的某一解, 则 $\\mathbf x'=\\mathbf A(t)\\mathbf x + \\mathbf f(t)$ 的任一解 $\\mathbf \\varphi(t)$ 都可以表示为\n",
    "\n",
    "$$\n",
    "\\mathbf \\varphi(t)=\\Psi(t)\\mathbf c+\\bar{\\mathbf \\varphi}(t)\n",
    "$$\n",
    "\n",
    "这里 $\\mathbf c$ 是确定的常数列向量."
   ]
  },
  {
   "cell_type": "markdown",
   "metadata": {},
   "source": [
    "**证明 ： ** 由性质2可知, 存在常数列向量 $c$,使得\n",
    "\n",
    "$$\n",
    "\\mathbf \\varphi(t)-\\bar{\\mathbf \\varphi}(t)=\\Psi(t)\\mathbf c\\\\\n",
    "\\mathbf \\varphi(t)=\\bar{\\mathbf \\varphi}(t)+\\Psi(t)\\mathbf c\n",
    "$$\n",
    "$\\square$"
   ]
  },
  {
   "cell_type": "markdown",
   "metadata": {},
   "source": [
    "## 常数变易法"
   ]
  },
  {
   "cell_type": "markdown",
   "metadata": {},
   "source": [
    "**注：** 回顾 $n$ 阶非齐次线性常微分方程的的常数变易法。"
   ]
  },
  {
   "cell_type": "markdown",
   "metadata": {},
   "source": [
    "下面讨论用**常数变易法**求解非齐次方程的通解\n",
    "\n",
    "$$\n",
    "\\mathbf x'=\\mathbf A(t)\\mathbf x+\\mathbf f(t)\n",
    "$$"
   ]
  },
  {
   "cell_type": "markdown",
   "metadata": {},
   "source": [
    "假设非齐次线性微分方程组\n",
    "\n",
    "$$\n",
    "\\mathbf x'=\\mathbf A(t)\\mathbf x+\\mathbf f(t)\n",
    "$$\n",
    "\n",
    "存在形如 $\\mathbf \\varphi(t)=\\Psi(t)\\mathbf c(t)$ 的解, 则 \n",
    "$$\n",
    "\\Psi'(t)\\mathbf c(t)+\\Psi(t)\\mathbf c'(t)=\\mathbf A(t)\\Psi(t)\\mathbf c(t)+\\mathbf f(t)\n",
    "$$"
   ]
  },
  {
   "cell_type": "markdown",
   "metadata": {},
   "source": [
    "而\n",
    "\n",
    "$$\n",
    "\\Psi'(t)=\\mathbf A(t) \\Psi(t) \\\\\n",
    "\\Psi (t) \\mathbf c'(t)=\\mathbf f(t) \\\\\n",
    "\\mathbf c'(t)=\\Psi ^{-1}(t)\\mathbf  f(t)\\\\\n",
    "\\mathbf c(t)=\\int_{t_0}^t\\Psi^{-1}(s)\\mathbf f(s)\\mathrm ds + \\mathbf c_1,\\quad t_0,t\\in[a,b]\\\\\n",
    "$$"
   ]
  },
  {
   "cell_type": "markdown",
   "metadata": {},
   "source": [
    "这样\n",
    "$$\n",
    "\\mathbf \\varphi(t)=\\Psi(t)(\\int_{t_0}^t\\mathbf \\Psi^{-1}(s)\\mathbf f(s)\\mathrm ds + \\mathbf c_1)\n",
    "$$"
   ]
  },
  {
   "cell_type": "markdown",
   "metadata": {},
   "source": [
    "易证 $\\mathbf \\varphi(t)$ 一定是非齐次方程的解.\n",
    "\n",
    "$$\n",
    "\\begin{align}\n",
    "\\mathbf \\varphi(t) &= \\Psi(t)\\int_{t_0}^t\\Psi^{-1}(s)\\mathbf f(s)\\mathrm ds + \\Psi(t)\\mathbf c_1\\\\\n",
    "\\mathbf \\varphi'(t) &= \\Psi'(t)\\int_{t_0}^t\\Psi^{-1}(s)\\mathbf f(s)\\mathrm ds+\\Psi(t)\\Psi^{-1}(t)f(t) + \\mathbf A(t) \\Psi(t)\\mathbf c_1\\\\\n",
    "\\mathbf \\varphi'(t) &= \\mathbf A(t)\\Psi(t)\\int_{t_0}^t\\Psi ^{-1}(s)f(s)\\mathrm ds+f(t) + \\mathbf A(t) \\Psi(t)\\mathbf c_1\\\\\n",
    "\\varphi'(t) &= \\mathbf A(t)\\mathbf \\varphi(t)+\\mathbf f(t)\n",
    "\\end{align}\n",
    "$$"
   ]
  },
  {
   "cell_type": "markdown",
   "metadata": {},
   "source": [
    "### 定理8"
   ]
  },
  {
   "cell_type": "markdown",
   "metadata": {},
   "source": [
    "如果 $\\Psi(t)$ 是齐次线性微分方程组 $\\mathbf x'=\\mathbf A(t)\\mathbf x$ 的基解矩阵, 则向量函数\n",
    "\n",
    "$$\n",
    "\\mathbf \\varphi(t) = \\Psi(t)\\int_{t_0}^t \\Psi^{-1}(s)\\mathbf f(s) \\mathrm ds\n",
    "$$\n",
    "\n",
    "是非齐次线性微分方程组\n",
    "\n",
    "$$\n",
    "\\mathbf x'=\\mathbf A(t)\\mathbf x+\\mathbf f(t)\n",
    "$$\n",
    "\n",
    "的解, 且满足初始条件 $\\mathbf \\varphi(t_0)=0$."
   ]
  },
  {
   "cell_type": "markdown",
   "metadata": {},
   "source": [
    "满足初始条件 $\\mathbf \\varphi(t_0)=\\mathbf \\eta$ 的解是\n",
    "\n",
    "$$\n",
    "\\mathbf \\varphi (t) =\\Psi(t)\\Psi^{-1}(t_0)\\mathbf \\eta+\\Psi(t)\\int_{t_0}^t \\Psi^{-1}(s)\\mathbf f(s) \\mathrm ds\n",
    "$$"
   ]
  },
  {
   "cell_type": "markdown",
   "metadata": {},
   "source": [
    "**例 2** 试求初值问题\n",
    "$$\n",
    "\\mathbf x'=\n",
    "\\begin{bmatrix}\n",
    "1 & 1 \\\\\n",
    "0 & 1\\\\\n",
    "\\end{bmatrix}\\mathbf x+\n",
    "\\begin{bmatrix}\n",
    "e^{-t} \\\\\n",
    "0\n",
    "\\end{bmatrix},\n",
    "\\mathbf x(0)=\n",
    "\\begin{bmatrix}\n",
    "-1\\\\\n",
    "1\n",
    "\\end{bmatrix}\n",
    "$$\n",
    "\n",
    "的解."
   ]
  },
  {
   "cell_type": "markdown",
   "metadata": {},
   "source": [
    "**解：** \n",
    "$$\n",
    "\\begin{cases}\n",
    "x'_1=x_1+x_2+e^{-t} \\\\\n",
    "x'_2=x_2\n",
    "\\end{cases}\n",
    "$$\n",
    "\n",
    "$$\n",
    "\\begin{cases}\n",
    "x'_1=x_1+x_2\\\\\n",
    "x'_2 = x_2\n",
    "\\end{cases}\n",
    "$$\n",
    "\n",
    "$$\n",
    "\\begin{cases}\n",
    "x_1=c_1e^{t}+c_2te^{t}\\\\\n",
    "x_2=c_2e^{t}\n",
    "\\end{cases}\n",
    "$$\n",
    "\n",
    "\n",
    "基解矩阵为 \n",
    "\n",
    "$$\n",
    "\\mathbf \\Phi(t)=\n",
    "\\begin{bmatrix}\n",
    "e^{t} & te^{t}\\\\\n",
    "0 & e^{t}\n",
    "\\end{bmatrix}\n",
    "$$"
   ]
  },
  {
   "cell_type": "markdown",
   "metadata": {},
   "source": [
    "$$\n",
    "\\mathbf \\varphi(t) = \\mathbf \\Phi(t) \\mathbf \\Phi^{-1}(t_0)\\mathbf \\eta+\\mathbf \\Phi(t)\\int_{t_0}^t \\mathbf \\Phi^{-1}(s)\\mathbf f(s)\\mathrm ds\n",
    "$$\n",
    "\n",
    "$$\n",
    "\\mathbf \\Phi(t)=\n",
    "\\begin{bmatrix}\n",
    "e^{t} & te^{t}\\\\\n",
    "0 & e^{t}\n",
    "\\end{bmatrix}\n",
    "$$\n",
    "\n",
    "$$\n",
    "\\mathbf \\Phi^{-1}(s)=\n",
    "\\begin{bmatrix}\n",
    "1 & -s\\\\\n",
    "0 & 1\n",
    "\\end{bmatrix}e^{-s} \\quad \\mathbf \\Phi^{-1}(0)=E\n",
    "$$"
   ]
  },
  {
   "cell_type": "markdown",
   "metadata": {},
   "source": [
    "$$\n",
    "\\begin{align}\n",
    "\\mathbf \\varphi(t) & =\n",
    "\\begin{bmatrix}\n",
    "e^{t} & te^{t}\\\\\n",
    "0 & e^{t}\n",
    "\\end{bmatrix}\n",
    "(\\begin{bmatrix}\n",
    "-1 \\\\\n",
    "1\n",
    "\\end{bmatrix}\n",
    "+\n",
    "\\int_0^t\n",
    "\\begin{bmatrix}\n",
    "1 & -s \\\\\n",
    "0 & 1\n",
    "\\end{bmatrix} \n",
    "e^{-s}\\cdot \n",
    "\\begin{bmatrix}\n",
    "e^{-s} \\\\\n",
    "0\n",
    "\\end{bmatrix}\n",
    "\\mathrm ds)\\\\\n",
    "& =\n",
    "\\begin{bmatrix}\n",
    "e^{t} & te^{t}\\\\\n",
    "0 & e^{t}\n",
    "\\end{bmatrix}(\n",
    "\\begin{bmatrix}\n",
    "-1 \\\\\n",
    "1\n",
    "\\end{bmatrix}+\n",
    "\\int_0^t\n",
    "\\begin{bmatrix}\n",
    "e^{-2s} \\\\\n",
    "0\n",
    "\\end{bmatrix} \\mathrm ds)\\\\\n",
    "& = \n",
    "\\begin{bmatrix}\n",
    "e^{t} & te^{t}\\\\\n",
    "0 & e^{t}\n",
    "\\end{bmatrix}(\n",
    "\\begin{bmatrix}\n",
    "-1 \\\\\n",
    "1\n",
    "\\end{bmatrix}+\n",
    "\\begin{bmatrix}\n",
    "-\\frac{1}{2}e^{-2t}+\\frac{1}{2} \\\\\n",
    "0\n",
    "\\end{bmatrix}\\\\\n",
    "& =\n",
    "\\begin{bmatrix}\n",
    "te^{t}-\\frac{1}{2}(e^t+e^{-t}) \\\\\n",
    "e^t\n",
    "\\end{bmatrix}\n",
    "\\end{align}\n",
    "$$\n",
    "\n",
    "则所求解为\n",
    "\n",
    "$$\n",
    "\\mathbf \\phi(t)=\n",
    "\\begin{bmatrix}\n",
    "te^{t}-\\frac{1}{2}(e^t+e^{-t}) \\\\\n",
    "e^t\n",
    "\\end{bmatrix}\n",
    "$$"
   ]
  },
  {
   "cell_type": "markdown",
   "metadata": {},
   "source": [
    "### 课堂练习"
   ]
  },
  {
   "cell_type": "markdown",
   "metadata": {},
   "source": [
    "试求下面初值问题的解\n",
    "\n",
    "$$\n",
    "\\mathbf x'=\n",
    "\\begin{bmatrix}\n",
    "2 & 1 \\\\\n",
    "0 & 2 \n",
    "\\end{bmatrix}\n",
    "\\mathbf x\n",
    "+\n",
    "\\begin{bmatrix}\n",
    "\\sin (t)\\\\\n",
    "\\cos (t)\n",
    "\\end{bmatrix}\n",
    "$$\n",
    "其中 \n",
    "$$\n",
    "x=\n",
    "\\begin{bmatrix}\n",
    "x_1 \\\\ \n",
    "x_2\n",
    "\\end{bmatrix}\n",
    "\\quad\n",
    "x(0)=\n",
    "\\begin{bmatrix}\n",
    "1 \\\\ \n",
    "-1\n",
    "\\end{bmatrix}\n",
    "$$"
   ]
  },
  {
   "cell_type": "markdown",
   "metadata": {},
   "source": [
    "### 常数变易法/Analytic of Unknow Function Method/"
   ]
  },
  {
   "cell_type": "markdown",
   "metadata": {},
   "source": [
    "$$\n",
    "\\mathbf \\varphi(t) = \\mathbf \\Phi(t)\\mathbf c(t) =\\mathbf x_1(t)c_1(t)+\\mathbf x_2(t)c_2(t)+\\dots+\\mathbf x_n(t)c_n(t)\\\\\n",
    "$$\n",
    "\n",
    "代入非齐次方程 $\\mathbf x'=\\mathbf A(t)\\mathbf x+\\mathbf f(t)$ 可得：\n",
    "\n",
    "$$\n",
    "\\mathbf \\Phi(t)\\mathbf c'(t)= \\mathbf f(t)\n",
    "$$\n",
    "\n",
    "写成显式矩阵形式：\n",
    "$$\n",
    "\\begin{bmatrix}\n",
    "x_{11}(t) & x_{12}(t) & \\cdots &x_{1n}(t) \\\\\n",
    "x_{21}(t) & x_{22}(t) & \\cdots &x_{2n}(t) \\\\\n",
    "\\vdots & \\vdots & \\ddots &\\vdots\\\\\n",
    "x_{n1}(t) & x_{n2}(t) & \\cdots& x_{nn}(t) \n",
    "\\end{bmatrix}\n",
    "\\begin{bmatrix}\n",
    "c'_1(t) \\\\\n",
    "c'_2(t) \\\\\n",
    "\\vdots\\\\\n",
    "c'_n(t)\n",
    "\\end{bmatrix}\n",
    "=\n",
    "\\begin{bmatrix}\n",
    "f_1(t) \\\\\n",
    "f_2(t) \\\\\n",
    "\\vdots\\\\\n",
    "f_n(t) \n",
    "\\end{bmatrix}\n",
    "$$"
   ]
  },
  {
   "cell_type": "markdown",
   "metadata": {},
   "source": [
    "把系数矩阵对应的朗斯基行列式 $W$ 的第 $k$ 列替换为右端向量 $\\mathbf f(t)$, 得行列式：\n",
    "$$\n",
    "W_k=\n",
    "\\begin{vmatrix}\n",
    "x_{11}(t) & \\cdots & f_1(t) & \\cdots & x_{1n}(t) \\\\\n",
    "x_{21}(t) & \\cdots & f_2(t) & \\cdots & x_{2n}(t) \\\\\n",
    "\\vdots    & \\ddots & \\vdots  & \\ddots & \\vdots \\\\\n",
    "x_{n1}(t) & \\cdots & f_n(t) & \\cdots & x_{nn}(t) \n",
    "\\end{vmatrix}\n",
    "$$"
   ]
  },
  {
   "cell_type": "markdown",
   "metadata": {},
   "source": [
    "利用克莱姆法则 （Cramer's Rule）， 可得：\n",
    "$$\n",
    "\\begin{align}\n",
    "c'_k(t) & =\\frac{W_k(t)}{W(t)} \\quad k=1,2,\\cdots,n\\\\\n",
    "c_k(t) & =\\int_{t_0}^t\\frac{W_k(s)}{W(s)}\\mathrm ds \\quad k=1,2,\\cdots,n\n",
    "\\end{align}\n",
    "$$"
   ]
  },
  {
   "cell_type": "markdown",
   "metadata": {},
   "source": [
    "$$\n",
    "\\mathbf \\varphi(t) = \\mathbf \\Phi(t)\\mathbf c(t) =\\mathbf x_1(t)c_1(t)+\\mathbf x_2(t)c_2(t)+\\dots+\\mathbf x_n(t)c_n(t)\\\\\n",
    "\\mathbf \\varphi(t)=\\sum_{k=1}^n \\mathbf x_k(t)\\int_{t_0}^t\\frac{W_k(s)}{W(s)}\\mathrm ds\n",
    "$$\n",
    "\n",
    "是非齐次线性微分方程组\n",
    "\n",
    "$$\n",
    "\\mathbf x'=\\mathbf A(t)\\mathbf x+\\mathbf f(t)\n",
    "$$\n",
    "\n",
    "的解."
   ]
  },
  {
   "cell_type": "markdown",
   "metadata": {},
   "source": [
    "上述方法可应用到 $n$ 阶线性方程\n",
    "\n",
    "$$\n",
    "x^{(n)}+a_1(t)x^{(n-1)}+\\cdots+a_n(t)x=f(t)\n",
    "$$"
   ]
  },
  {
   "cell_type": "markdown",
   "metadata": {},
   "source": [
    "### 推论3              "
   ]
  },
  {
   "cell_type": "markdown",
   "metadata": {},
   "source": [
    "如果 $a_1(t),a_2(t),\\cdots,a_n(t),f(t)$ 是区间 $a\\leq t\\leq b$ 上的连续函数,$x_1(t),x_2(t),\\cdots,x_n(t)$ 是对应齐次方程的基本解组, 则非齐次线性方程 \n",
    "\n",
    "$$\n",
    "x^{(n)}+a_1 (t) x^{(n-1)}+\\cdots+a_n (t) x=f(t)\n",
    "$$ \n",
    "\n",
    "满足初始条件\n",
    "\n",
    "$$\n",
    "\\varphi(t_0)=0,\\varphi'(t_0)=0,\\cdots,\\varphi^{(n-1)}(t_0)=0 \\quad t_0\\in [a,b]\n",
    "$$\n",
    "\n",
    "的解为\n",
    "\n",
    "$$\n",
    "\\varphi(t)=\\sum_{k=1}^n x_k(t)\\int_{t_0}^t{\\frac{W_k[x_1(s),x_2(s),\\cdots,x_n(s)]}{W[x_1(s),x_2(s),\\cdots,x_n(s)]}}f(s)\\mathrm ds\n",
    "$$"
   ]
  },
  {
   "cell_type": "markdown",
   "metadata": {},
   "source": [
    "$$\n",
    "W(t)= \n",
    "\\begin{vmatrix}\n",
    "x_1(t)  & x_2(t)  & \\cdots & x_n(t) \\\\\n",
    "x'_1(t) & x'_2(t) & \\cdots & x'_n(t) \\\\\n",
    "\\vdots  & \\vdots  & \\ddots & \\vdots \\\\\n",
    "x^{(n-1)}_1(t) & x^{(n-1)}_2(t) & \\cdots & x^{(n-1)}_n(t)\n",
    "\\end{vmatrix}\n",
    "$$"
   ]
  },
  {
   "cell_type": "markdown",
   "metadata": {},
   "source": [
    "$$\n",
    "W_k(t)= \n",
    "\\begin{vmatrix}\n",
    "x_1(t)  & \\cdots & 0  & \\cdots & x_n(t) \\\\\n",
    "x'_1(t) & \\cdots & 0 & \\cdots & x'_n(t) \\\\\n",
    "\\vdots  & \\ddots &\\vdots  & \\ddots & \\vdots \\\\\n",
    "x^{(n-1)}_1(t) & \\cdots & 1 & \\cdots & x^{(n-1)}_n(t)\n",
    "\\end{vmatrix}\n",
    "$$"
   ]
  },
  {
   "cell_type": "markdown",
   "metadata": {},
   "source": [
    "$x^{(n)}+a_1(t)x^{(n-1)}+\\cdots+a_n(t)x=f(t)$ 的常数变易公式是\n",
    "\n",
    "$$\n",
    "\\varphi(t)=\\sum_{k=1}^n x_k(t)\\int_{t_0}^t{\\frac{W_k[x_1(s),x_2(s),\\cdots,x_n(s)]}{W[x_1(s),x_2(s),\\cdots,x_n(s)]}}f(s)\\mathrm ds\n",
    "$$\n",
    "\n",
    "方程的通解可以表示为\n",
    "\n",
    "$$\n",
    "x=c_1x_1(t)+c_2x_2(t)+\\cdots+c_nx_n(t)+\\varphi(t)\n",
    "$$"
   ]
  },
  {
   "cell_type": "markdown",
   "metadata": {},
   "source": [
    "当 $n=2$ 时, \n",
    "\n",
    "$$\n",
    "\\varphi(t)=x_1(t)\\int_{t_0}^t\\frac{W_1[x_1(s),x_2(s)]}{W[x_1(s),x_2(s)]}f(s)\\mathrm ds\n",
    "+x_2(t)\\int_{t_0}^t\\frac{W_2[x_1(s),x_2(s)]}{W[x_1(s),x_2(s)]}f(s) \\mathrm ds\n",
    "$$\n",
    "\n",
    "$$\n",
    "W_1[x_1(s),x_2(s)]=\n",
    "\\begin{vmatrix}\n",
    "0 & x_2(s)\\\\\n",
    "1 & x'_2(s)\n",
    "\\end{vmatrix}=-x_2(s)\\\\\n",
    "W_2[x_1(s),x_2(s)]=\n",
    "\\begin{vmatrix}\n",
    "x_1(s) & 0\\\\\n",
    "x'_1(s) & 1\n",
    "\\end{vmatrix}=x_1(s)\\\\\n",
    "$$\n",
    "\n",
    "因此, 当 $n=2$ 时, 常数变易公式变为\n",
    "\n",
    "$$\n",
    "\\varphi(t)=\\int_{t_0}^t\\frac{x_2(t)x_1(s)-x_1(t)x_2(s)}{W[x_1(s),x_2(s)]}f(s)\\mathrm ds\n",
    "$$\n",
    "\n",
    "而通解就是\n",
    "\n",
    "$$\n",
    "x=c_1x_1(t)+c_2x_2(t)+\\varphi(t)\n",
    "$$\n",
    "\n",
    "这里 $c_1,c_2$ 是任意常数."
   ]
  },
  {
   "cell_type": "markdown",
   "metadata": {},
   "source": [
    "**例 3** 试求方程 \n",
    "$$\n",
    "x''+x=\\tan t\n",
    "$$\n",
    "\n",
    "的一个解."
   ]
  },
  {
   "cell_type": "markdown",
   "metadata": {},
   "source": [
    "**解 ： ** 易知对应的齐次线性微分方程 $x''+x=0$ 的基本解组为 \n",
    "$$\n",
    "x_1(t)=\\cos t,x_2(t)=\\sin t \n",
    "$$"
   ]
  },
  {
   "cell_type": "markdown",
   "metadata": {},
   "source": [
    "下面利用公式来求解方程. 这时\n",
    "\n",
    "$$\n",
    "W[x_1(t),x_2(t)]=\n",
    "\\begin{vmatrix}\n",
    "\\cos t & \\sin t \\\\\n",
    "-\\sin t & \\cos t\n",
    "\\end{vmatrix}\n",
    "=1\n",
    "$$"
   ]
  },
  {
   "cell_type": "markdown",
   "metadata": {},
   "source": [
    "$$\n",
    "\\begin{align}\n",
    "\\varphi (t) & =\\int_0^t (\\sin t \\cos s - \\cos t \\sin s) \\tan s \\mathrm ds\\\\\n",
    "& =\\sin t \\int_0^t\\sin t \\mathrm ds - \\cos t \\int_0^t\\sin s \\tan s \\mathrm ds \\\\\n",
    "& = \\sin t(1-\\cos t)+\\cos t(\\sin t + \\ln |\\sec t + \\tan t|)\\\\\n",
    "& = \\sin t - \\cos t\\ln |\\sec t+ \\tan t|\n",
    "\\end{align}\n",
    "$$ "
   ]
  },
  {
   "cell_type": "markdown",
   "metadata": {},
   "source": [
    "因为 $\\sin t$ 是对应的齐次线性微分方程的一个解, 所以函数\n",
    "\n",
    "$$\n",
    "\\bar{\\varphi}=-\\cos t \\ln|\\sec t + \\tan t|\n",
    "$$\n",
    "\n",
    "也是原方程的一个解."
   ]
  },
  {
   "cell_type": "markdown",
   "metadata": {},
   "source": [
    "## 作业\n",
    "P217, 6.\n",
    "P218, 11. 13. "
   ]
  }
 ],
 "metadata": {
  "kernelspec": {
   "display_name": "Python 3",
   "language": "python",
   "name": "python3"
  },
  "language_info": {
   "codemirror_mode": {
    "name": "ipython",
    "version": 3
   },
   "file_extension": ".py",
   "mimetype": "text/x-python",
   "name": "python",
   "nbconvert_exporter": "python",
   "pygments_lexer": "ipython3",
   "version": "3.5.2"
  },
  "latex_envs": {
   "bibliofile": "biblio.bib",
   "cite_by": "apalike",
   "current_citInitial": 1,
   "eqLabelWithNumbers": true,
   "eqNumInitial": 0
  }
 },
 "nbformat": 4,
 "nbformat_minor": 0
}
