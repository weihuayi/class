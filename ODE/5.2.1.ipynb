{
 "cells": [
  {
   "cell_type": "markdown",
   "metadata": {
    "collapsed": true
   },
   "source": [
    "# § 5.2 线性微分方程组的一般理论/General Theory of Linear ODEs/"
   ]
  },
  {
   "cell_type": "markdown",
   "metadata": {},
   "source": [
    "## 本节要求 /Requirements/\n",
    "\n",
    "* 掌握线性齐次微分方程组的解的性质及代数结构.\n",
    "* 掌握线性非齐次微分方程组的解的代数结构,理解常数变易法的基本思想."
   ]
  },
  {
   "cell_type": "markdown",
   "metadata": {},
   "source": [
    "对于线性微分方程组\n",
    "\n",
    "$$\n",
    "\\mathbf x'=\\mathbf A(t)\\mathbf x+\\mathbf f(t)\n",
    "$$\n",
    "\n",
    "如果 $ \\mathbf f(t)\\neq 0$则 \n",
    "$$\n",
    "\\mathbf x'=\\mathbf A(t)\\mathbf x+\\mathbf f(t)\n",
    "$$\n",
    "称为**非齐次线性**的.\n",
    "\n",
    "\n",
    "如果 $\\mathbf f(t) = 0$ 则 \n",
    "$$\n",
    "\\mathbf x'=\\mathbf A(t)\\mathbf x\n",
    "$$\n",
    "称为**齐次线性**的.\n",
    "\n",
    "若 $\\mathbf A(t)$ 为常数矩阵, 则称为**常系数线性方程组**.\n",
    "\n",
    "$$\n",
    "\\mathbf x'=\\mathbf A\\mathbf x\n",
    "$$"
   ]
  },
  {
   "cell_type": "markdown",
   "metadata": {},
   "source": [
    "### 5.2.1 齐次线性微分方程组"
   ]
  },
  {
   "cell_type": "markdown",
   "metadata": {},
   "source": [
    "$$\n",
    "\\mathbf x'=\\mathbf A(t)\\mathbf x\n",
    "$$"
   ]
  },
  {
   "cell_type": "markdown",
   "metadata": {},
   "source": [
    "**定理2**(叠加原理) 如果 $\\mathbf u(t)$ 和 $\\mathbf v(t)$ 是\n",
    "\n",
    "$$\n",
    "\\mathbf x'=\\mathbf A(t)\\mathbf x\n",
    "$$\n",
    "\n",
    "的解, 则它们的线性组合 $\\alpha \\mathbf u(t)+\\beta \\mathbf v(t)$ 也是 $\\mathbf x'=\\mathbf A(t)\\mathbf x$ 的解."
   ]
  },
  {
   "cell_type": "markdown",
   "metadata": {},
   "source": [
    "**证明:** \n",
    "\n",
    "$$\n",
    "\\begin{aligned}\n",
    "{[\\alpha \\mathbf u(t)+\\beta \\mathbf v(t)]'}\n",
    "&=\\alpha \\mathbf u(t)'+\\beta \\mathbf v(t)'\\\\\n",
    "&=\\alpha \\mathbf A(t)\\mathbf u(t)+\\beta \\mathbf A(t) \\mathbf v(t)\\\\\n",
    "&=\\mathbf A(t)[\\alpha \\mathbf u(t)+\\beta \\mathbf v(t)]\\\\\n",
    "\\end{aligned}\n",
    "$$\n",
    "证毕. $\\square$"
   ]
  },
  {
   "cell_type": "markdown",
   "metadata": {},
   "source": [
    "如果 $\\mathbf x_1(t),\\mathbf x_2(t),\\dotsi,\\mathbf x_n(t)$ 是 $\\mathbf x'=\\mathbf A(t)\\mathbf x$ 的解,则\n",
    "\n",
    "$$\n",
    "c_1\\mathbf x_1(t)+c_2\\mathbf x_2(t)+\\dotsi+c_n\\mathbf x_n(t)\n",
    "$$\n",
    "\n",
    "也是 $\\mathbf x'=\\mathbf A(t)\\mathbf x$ 的解."
   ]
  },
  {
   "cell_type": "markdown",
   "metadata": {},
   "source": [
    "可验证 $\\quad$ \n",
    "$$\n",
    "\\mathbf x_1(t)=\n",
    "\\left[\n",
    "\\begin{matrix}\n",
    "\\sin t\\\\\n",
    "\\cos t\\\\\n",
    "\\end{matrix}\n",
    "\\right],\n",
    "\\mathbf x_2(t)=\n",
    "\\left[\n",
    "\\begin{matrix}\n",
    "\\cos t\\\\\n",
    "-\\sin t\\\\\n",
    "\\end{matrix}\n",
    "\\right]\n",
    "$$\n",
    "\n",
    "是方程组\n",
    "\n",
    "$$\n",
    "\\mathbf x'=\n",
    "\\left[\n",
    "\\begin{matrix}\n",
    "0&1\\\\\n",
    "-1&0\\\\\n",
    "\\end{matrix}\n",
    "\\right]\\mathbf x\n",
    "$$\n",
    "\n",
    "的解,则\n",
    "\n",
    "$$\n",
    "\\mathbf x(t)=\n",
    "c_1\n",
    "\\left[\n",
    "\\begin{matrix}\n",
    "\\sin t\\\\\n",
    "\\cos t\\\\\n",
    "\\end{matrix}\n",
    "\\right]+c_2\n",
    "\\left[\n",
    "\\begin{matrix}\n",
    "\\cos t\\\\\n",
    "-\\sin t\\\\\n",
    "\\end{matrix}\n",
    "\\right]\n",
    "$$\n",
    "\n",
    "也是方程组的解."
   ]
  },
  {
   "cell_type": "markdown",
   "metadata": {},
   "source": [
    "### 基本概念 /Basic Concept/"
   ]
  },
  {
   "cell_type": "markdown",
   "metadata": {},
   "source": [
    "定义在区间 $a \\leq t \\leq b$ 上的向量函数\n",
    "\n",
    "$$\n",
    "\\mathbf x_1(t),\\mathbf x_2(t),\\dotsi,\\mathbf x_m(t)\n",
    "$$\n",
    "\n",
    "是**线性相关**的, 如果存在不全为零的常数\n",
    "\n",
    "$c_1,c_2,\\dotsi,c_m,$ 使得等式\n",
    "\n",
    "$$\n",
    "c_1\\mathbf x_1(t)+c_2\\mathbf x_2(t)+\\dotsi+c_m\\mathbf x_m(t)\\equiv \\mathbf 0,a\\leq t \\leq b\n",
    "$$\n",
    "\n",
    "成立;否则,\n",
    "\n",
    "$$\n",
    "\\mathbf x_1(t),\\mathbf x_2(t),\\dotsi,\\mathbf x_m(t)\n",
    "$$\n",
    "\n",
    "为**线性无关**的."
   ]
  },
  {
   "cell_type": "markdown",
   "metadata": {},
   "source": [
    "如下列向量组就是线性无关的:\n",
    "\n",
    "$$\n",
    "\\left[\n",
    "\\begin{matrix}\n",
    "1\\\\\n",
    "0\\\\\n",
    "\\vdots\\\\\n",
    "0\\\\\n",
    "\\end{matrix}\n",
    "\\right],\n",
    "\\left[\n",
    "\\begin{matrix}\n",
    "0\\\\\n",
    "t\\\\\n",
    "\\vdots\\\\\n",
    "0\\\\\n",
    "\\end{matrix}\n",
    "\\right], \\cdots, \\left[\n",
    "\\begin{matrix}\n",
    "0\\\\\n",
    "0\\\\\n",
    "\\vdots\\\\\n",
    "t^k\\\\\n",
    "\\end{matrix}\n",
    "\\right]\n",
    "$$"
   ]
  },
  {
   "cell_type": "markdown",
   "metadata": {},
   "source": [
    "设有 $n$ 个定义在区间 $a\\leq t \\leq b$ 上的向量函数\n",
    "\n",
    "$$\n",
    "\\mathbf x_1(t)=\n",
    "\\left[\n",
    "\\begin{matrix}\n",
    "x_{11}(t)\\\\\n",
    "x_{21}(t)\\\\\n",
    "\\vdots\\\\\n",
    "x_{n1}(t)\\\\\n",
    "\\end{matrix}\n",
    "\\right],\n",
    "\\mathbf x_2(t)=\n",
    "\\left[\n",
    "\\begin{matrix}\n",
    "x_{12}(t)\\\\\n",
    "x_{22}(t)\\\\\n",
    "\\vdots\\\\\n",
    "x_{n2}(t)\\\\\n",
    "\\end{matrix}\n",
    "\\right],\n",
    "\\dotsi,\n",
    "\\mathbf x_n(t)=\n",
    "\\left[\n",
    "\\begin{matrix}\n",
    "x_{1n}(t)\\\\\n",
    "x_{2n}(t)\\\\\n",
    "\\vdots\\\\\n",
    "x_{nn}(t)\\\\\n",
    "\\end{matrix}\n",
    "\\right],\n",
    "$$"
   ]
  },
  {
   "cell_type": "markdown",
   "metadata": {},
   "source": [
    "由这 $n$ 个向量函数构成的行列式,\n",
    "\n",
    "$$\n",
    "W[\\mathbf x_1(t),\\mathbf x_2(t),\\dotsi,\\mathbf x_n(t)] =\n",
    "\\begin{vmatrix}\n",
    "x_{11}(t)&x_{12}(t)&\\dots&x_{1n}(t)\\\\\n",
    "x_{21}(t)&x_{22}(t)&\\dots&x_{2n}(t)\\\\\n",
    "\\vdots&\\vdots&\\ddots&\\vdots&\\\\\n",
    "x_{n1}(t)&x_{n2}(t)&\\dots&x_{nn}(t)\\\\\n",
    "\\end{vmatrix},\n",
    "$$\n",
    "\n",
    "称为这些向量函数的**朗斯基行列式**. (与 4.1 节中朗斯基行列式的区别与联系）"
   ]
  },
  {
   "cell_type": "markdown",
   "metadata": {},
   "source": [
    "**定理 3** 如果向量函数 $\\mathbf x_1(t),\\mathbf x_2(t),\\dotsi,\\mathbf x_n(t)$ 在区间 $a\\leq t \\leq b$ 上线性相关, 则它们的朗斯基行列式\n",
    "\n",
    "$$\n",
    "W(t)\\equiv0,a \\leq t \\leq b\n",
    "$$"
   ]
  },
  {
   "cell_type": "markdown",
   "metadata": {},
   "source": [
    "**证明:** 由假设,存在不全为零的常数 $c_1,c_2,\\dotsi,c_n$ 使得\n",
    "\n",
    "$$\n",
    "c_1\\mathbf x_1(t)+c_2\\mathbf x_2(t)+\\dotsi+c_n\\mathbf x_n(t)\\equiv \\mathbf 0,a\\leq t \\leq b\n",
    "$$\n",
    "\n",
    "$$\n",
    "\\begin{cases}\n",
    "c_1x_{11}(t)+c_2x_{12}(t)+\\dotsi+c_nx_{1n}(t)=0\\\\\n",
    "c_1x_{21}(t)+c_2x_{22}(t)+\\dotsi+c_nx_{2n}(t)=0\\\\\n",
    "\\dots\\dots\\dots\\dots\\\\\n",
    "c_1x_{n1}(t)+c_2x_{n2}(t)+\\dotsi+c_nx_{nn}(t)=0\\\\\n",
    "\\end{cases}\n",
    "$$\n",
    "\n",
    "其系数行列式恰是 $W(t)$\n",
    "\n",
    "$$\n",
    "W(t)\\equiv0,a\\leq t \\leq b\n",
    "$$\n",
    "证毕. $\\square$"
   ]
  },
  {
   "cell_type": "markdown",
   "metadata": {},
   "source": [
    "**定理 4 ** 如果\n",
    "$$\n",
    "\\mathbf x'=\\mathbf A(t)\\mathbf x\n",
    "$$\n",
    "\n",
    "的解 $\\mathbf x_1(t),\\mathbf x_2(t),\\dotsi,\\mathbf x_n(t)$ 线性无关, 那么它们的朗斯基行列式\n",
    "\n",
    "$$\n",
    "W(t)\\neq0,a\\leq t \\leq b\n",
    "$$"
   ]
  },
  {
   "cell_type": "markdown",
   "metadata": {},
   "source": [
    "**证明: **用反证法, 设有某一个 $t_0$, $a\\leq t_0 \\leq b$ 使得 $W(t_0)=0$.\n",
    "\n",
    "考虑下面的齐次线性代数方程组\n",
    "\n",
    "$$\n",
    "c_1\\mathbf x_1(t_0)+c_2\\mathbf x_2(t_0)+\\dotsi+c_n\\mathbf x_n(t_0)=\\mathbf 0\n",
    "$$\n",
    "\n",
    "它的系数行列式 $W(t_0)=0$ ,所以\n",
    "\n",
    "$$\n",
    "c_1\\mathbf x_1(t_0)+c_2\\mathbf x_2(t_0)+\\dotsi+c_n\\mathbf x_n(t_0)=\\mathbf 0\n",
    "$$\n",
    "\n",
    "有非零解,$\\tilde{c_1},\\tilde{c_n},\\dotsi,\\tilde{c_n}$, 以这个非零解作向量函数\n",
    "\n",
    "$$\n",
    "\\mathbf x(t)=\\tilde{c_1}\\mathbf x_1(t)+\\tilde{c_2}\\mathbf x_2(t)+\\dotsi+\\tilde{c_n}\\mathbf x_n(t)\n",
    "$$"
   ]
  },
  {
   "cell_type": "markdown",
   "metadata": {},
   "source": [
    "易知 $\\mathbf x(t)$ 是\n",
    "\n",
    "$$\n",
    "\\mathbf x'=\\mathbf A(t)\\mathbf x\n",
    "$$\n",
    "\n",
    "的解 , 且满足初始条件\n",
    "\n",
    "$$\n",
    "\\mathbf x(t_0)=\\mathbf 0\n",
    "$$\n",
    "\n",
    "而在 $a \\leq t \\leq b $ 上恒等于零的向量函数 $\\mathbf 0$ 也是\n",
    "\n",
    "$$\n",
    "\\mathbf x'=\\mathbf A(t)\\mathbf x\n",
    "$$\n",
    "\n",
    "满足初始条件\n",
    "$$\n",
    "\\mathbf x(t_0)=\\mathbf 0\n",
    "$$\n",
    "\n",
    "的解.\n",
    "\n",
    "由解的唯一性，知道 $\\mathbf x(t)\\equiv \\mathbf 0$ 即\n",
    "\n",
    "$$\n",
    "\\tilde{c_1}\\mathbf x_1(t)+\\tilde{c_2}\\mathbf x_2(t)+\\dotsi+\\tilde{c_n}\\mathbf x_n(t)=\\mathbf 0,a \\leq t \\leq b\n",
    "$$\n",
    "\n",
    "因为 $\\tilde{c_1},\\tilde{c_2},\\dotsi,\\tilde{c_n}$ 不全为零, 这就与$\\mathbf x_1(t),\\mathbf x_2(t),\\dots,\\mathbf x_n(t)$ 线性无关矛盾.\n",
    "\n",
    "证毕. $\\square$"
   ]
  },
  {
   "cell_type": "markdown",
   "metadata": {},
   "source": [
    "**结论** 由\n",
    "$$\n",
    "\\mathbf x'=\\mathbf A(t)\\mathbf x\n",
    "$$\n",
    "的解 $\\mathbf x_1(t),\\mathbf x_2(t),\\dots,\\mathbf x_n(t)$ 作成的朗斯基行列式 $W(t)$ 或者恒等于零, 或者恒不等于零."
   ]
  },
  {
   "cell_type": "markdown",
   "metadata": {},
   "source": [
    "**定理 5 **\n",
    "$$\n",
    "\\mathbf x'=\\mathbf A(t)\\mathbf x\n",
    "$$\n",
    "\n",
    "一定存在 $n$ 个线性无关的解 $\\mathbf x_1(t),\\mathbf x_2(t),\\dots,\\mathbf x_n(t)$."
   ]
  },
  {
   "cell_type": "markdown",
   "metadata": {},
   "source": [
    "$$\n",
    "\\mathbf x_1(t_0)=\n",
    "\\left[\n",
    "\\begin{matrix}\n",
    "1\\\\\n",
    "0\\\\\n",
    "\\vdots\\\\\n",
    "0\\\\\n",
    "\\end{matrix}\n",
    "\\right],\n",
    "\\mathbf x_2(t_0)=\n",
    "\\left[\n",
    "\\begin{matrix}\n",
    "0\\\\\n",
    "1\\\\\n",
    "\\vdots\\\\\n",
    "0\\\\\n",
    "\\end{matrix}\n",
    "\\right],\n",
    "\\dots,\n",
    "\\mathbf x_n(t_0)=\n",
    "\\left[\n",
    "\\begin{matrix}\n",
    "0\\\\\n",
    "0\\\\\n",
    "\\vdots\\\\\n",
    "1\\\\\n",
    "\\end{matrix}\n",
    "\\right]\n",
    "$$"
   ]
  },
  {
   "cell_type": "markdown",
   "metadata": {},
   "source": [
    "$$\n",
    "\\mathbf x_1(t), \\mathbf x_2(t),\\dotsi,\\mathbf x_n(t)\n",
    "$$\n",
    "\n",
    "$W(t_0)=1\\neq0$, $\\mathbf x_1(t),\\mathbf x_2(t),\\dotsi,\\mathbf x_n(t)$ 线性无关."
   ]
  },
  {
   "cell_type": "markdown",
   "metadata": {},
   "source": [
    "**定理 6 ** 如果$\\mathbf x_1(t),\\mathbf x_2(t),\\dotsi,\\mathbf x_n(t)$ 是\n",
    "\n",
    "$$\n",
    "\\mathbf x'=\\mathbf A(t)\\mathbf x\n",
    "$$\n",
    "\n",
    "$n$ 个线性无关的解,则\n",
    "\n",
    "$$\n",
    "\\mathbf x'=\\mathbf A(t)\\mathbf x\n",
    "$$\n",
    "\n",
    "\n",
    "的任一解 $\\mathbf x(t)$ 均可表示为\n",
    "\n",
    "$$\n",
    "\\mathbf x(t)=c_1\\mathbf x_1(t)+c_2\\mathbf x_2(t)+\\dotsi+c_n\\mathbf x_n(t)\n",
    "$$\n",
    "\n",
    "这里 $c_1,c_2,\\dots,c_n$ 是相应的确定常数."
   ]
  },
  {
   "cell_type": "markdown",
   "metadata": {},
   "source": [
    "**证明:** 任取\n",
    "\n",
    "$$\n",
    "\\mathbf x'=\\mathbf A(t)\\mathbf x\n",
    "$$\n",
    "\n",
    "的任一解 $\\mathbf x(t)$, 它满足\n",
    "\n",
    "$$ \n",
    "\\mathbf x(t_0)=\\mathbf x_0 ,t_0\\in[a,b] \n",
    "$$"
   ]
  },
  {
   "cell_type": "markdown",
   "metadata": {},
   "source": [
    "令\n",
    "\n",
    "$$\n",
    "\\mathbf x(t_0)=c_1\\mathbf x_1(t_0)+c_2\\mathbf x_2(t_0)+\\dotsi+c_n\\mathbf x_n(t_0)\n",
    "$$\n",
    "\n",
    "上式看作是以 $c_1,c_2,\\dots,c_n$ 为未知量的线性代数方程组, 系数行列式就是\n",
    "$W(t_0)$, 因为 $\\mathbf x_1(t),\\mathbf x_2(t),\\dotsi,\\mathbf x_n(t)$ 线性无关, 则 $W(t_0)\\neq 0$,\n",
    "\n",
    "$$\n",
    "\\mathbf x(t_0)=c_1\\mathbf x_1(t_0)+c_2\\mathbf x_2(t_0)+\\dotsi+c_n\\mathbf x_n(t_0)\n",
    "$$\n",
    "\n",
    "有唯一解\n",
    "\n",
    "$$ \n",
    "c_1,c_2,\\dots,c_n\n",
    "$$ "
   ]
  },
  {
   "cell_type": "markdown",
   "metadata": {},
   "source": [
    "使得\n",
    "\n",
    "$$\n",
    "c_1\\mathbf x_1(t_0)+c_2\\mathbf x_2(t_0)+\\dotsi+c_n\\mathbf x_n(t_0)=\\mathbf x(t_0)\n",
    "$$\n",
    "\n",
    "作向量函数\n",
    "\n",
    "$$\n",
    "c_1\\mathbf x_1(t)+c_2\\mathbf x_2(t)+\\dotsi+c_n\\mathbf x_n(t)\n",
    "$$\n",
    "\n",
    "它显然是\n",
    "\n",
    "$$\n",
    "\\mathbf x'=\\mathbf A(t)\\mathbf x\n",
    "$$\n",
    "\n",
    "的解. "
   ]
  },
  {
   "cell_type": "markdown",
   "metadata": {},
   "source": [
    "显然, $\\mathbf x(t)$ 与 $c_1\\mathbf x_1(t)+c_2\\mathbf x_2(t)+\\dotsi+c_n\\mathbf x_n(t)$, 满足相同的初始条件\n",
    "\n",
    "$$\n",
    "c_1\\mathbf x_1(t_0)+c_2\\mathbf x_2(t_0)+\\dotsi+c_n\\mathbf x_n(t_0)=\\mathbf x(t_0)\n",
    "$$"
   ]
  },
  {
   "cell_type": "markdown",
   "metadata": {},
   "source": [
    "因此由解的存在唯一性条件可知\n",
    "\n",
    "$$\n",
    "\\mathbf x(t)=c_1\\mathbf x_1(t)+c_2\\mathbf x_2(t)+\\dotsi+c_n\\mathbf x_n(t)\n",
    "$$"
   ]
  },
  {
   "cell_type": "markdown",
   "metadata": {},
   "source": [
    "**推论$1$**\n",
    "$$\n",
    "\\mathbf x'=\\mathbf A(t)\\mathbf x\n",
    "$$\n",
    "线性无关解的最大个数等于 $n$."
   ]
  },
  {
   "cell_type": "markdown",
   "metadata": {},
   "source": [
    "**基本解组:**\n",
    "$$\n",
    "\\mathbf x'=\\mathbf A(t)\\mathbf x\n",
    "$$\n",
    "\n",
    "的 $n$ 个线性无关解."
   ]
  },
  {
   "cell_type": "markdown",
   "metadata": {},
   "source": [
    "**解矩阵:**由\n",
    "\n",
    "$$\n",
    "\\mathbf x'=\\mathbf A(t)\\mathbf x\n",
    "$$\n",
    "\n",
    "$n$ 个解按列构成的矩阵."
   ]
  },
  {
   "cell_type": "markdown",
   "metadata": {},
   "source": [
    "**基解矩阵:**由\n",
    "$$\n",
    "\\mathbf x'=\\mathbf A(t)\\mathbf x\n",
    "$$\n",
    "\n",
    "$n$ 个线性无关解按列构成的矩阵."
   ]
  },
  {
   "cell_type": "markdown",
   "metadata": {},
   "source": [
    "**标准基解矩阵:**\n",
    "\n",
    "$$\n",
    "\\det \\mathbf \\Phi(t)\\neq 0,\\mathbf \\Phi(t_0)=E\n",
    "$$\n",
    "\n",
    "其中 $\\mathbf \\Phi(t)$ 是**基解矩阵**."
   ]
  },
  {
   "cell_type": "markdown",
   "metadata": {},
   "source": [
    "**定理5和定理6的另一种形式**"
   ]
  },
  {
   "cell_type": "markdown",
   "metadata": {},
   "source": [
    "**定理1* **\n",
    "$$\n",
    "\\mathbf x'=\\mathbf A(t)\\mathbf x\n",
    "$$\n",
    "\n",
    "一定存在基解矩阵;若 $\\mathbf \\psi(t)$ 是\n",
    "\n",
    "$$\n",
    "\\mathbf x'=\\mathbf A(t)\\mathbf x\n",
    "$$\n",
    "\n",
    "任一解, 则存在一 $n$ 维常数列向量 $\\mathbf c$, 使得\n",
    "\n",
    "$$ \n",
    "\\mathbf \\psi(t)=\\mathbf \\Phi(t)\\mathbf c \n",
    "$$.\n",
    "\n",
    "即\n",
    "\n",
    "$$\n",
    "\\mathbf\\psi(t)=c_1\\mathbf x_1(t)+c_2\\mathbf x_2(t)＋\\dotsi+c_n\\mathbf x_n(t)\n",
    "$$"
   ]
  },
  {
   "cell_type": "markdown",
   "metadata": {},
   "source": [
    "**定理2  ** 一个解矩阵是基解矩阵的充要条件是\n",
    "\n",
    "$$\n",
    "\\det\\mathbf \\Phi(t)\\neq0\\quad(a\\leq t \\leq b)\n",
    "$$\n",
    "\n",
    "而且, 如果对某一个 $t_0\\in[a,b]$, $\\det\\mathbf \\Phi(t_0)\\neq0$, 则 $ \\det\\mathbf \\Phi(t)\\neq 0,(a\\leq t \\leq b)$."
   ]
  },
  {
   "cell_type": "markdown",
   "metadata": {},
   "source": [
    "**例 $1$**验证\n",
    "\n",
    "$$\n",
    "\\mathbf \\Phi(t)=\n",
    "\\left[\n",
    "\\begin{matrix}\n",
    "e^t&te^t\\\\\n",
    "0&e^t\\\\\n",
    "\\end{matrix}\n",
    "\\right]\n",
    "$$\n",
    "\n",
    "是方程组\n",
    "\n",
    "$$\n",
    "\\mathbf x'=\n",
    "\\left[\n",
    "\\begin{matrix}\n",
    "1&1\\\\\n",
    "0&1\\\\\n",
    "\\end{matrix}\n",
    "\\right]\\mathbf x,\n",
    "$$\n",
    "其中\n",
    "$$\n",
    "\\mathbf x=\n",
    "\\left[\n",
    "\\begin{matrix}\n",
    "x_1\\\\\n",
    "x_2\\\\\n",
    "\\end{matrix}\n",
    "\\right]\n",
    "$$\n",
    "\n",
    "的基解矩阵."
   ]
  },
  {
   "cell_type": "markdown",
   "metadata": {},
   "source": [
    "**解** 首先证明 $\\mathbf \\Phi(t)$ 是解矩阵.令 $\\mathbf \\varphi_1(t)$ 表示 $\\mathbf \\Phi(t)$ 的第一列, $\\mathbf \\varphi_2(t)$ 表示 $\\mathbf \\Phi(t)$ 的第二列.\n",
    "\n",
    "$$\n",
    "\\mathbf \\varphi_1(t)'=\n",
    "\\left[\n",
    "\\begin{matrix}\n",
    "e^t\\\\\n",
    "0\\\\\n",
    "\\end{matrix}\n",
    "\\right]\n",
    "=\n",
    "\\left[\n",
    "\\begin{matrix}\n",
    "1&1\\\\\n",
    "0&1\\\\\n",
    "\\end{matrix}\n",
    "\\right]\n",
    "\\varphi_1(t)=\n",
    "\\left[\n",
    "\\begin{matrix}\n",
    "1&1\\\\\n",
    "0&1\\\\\n",
    "\\end{matrix}\n",
    "\\right]\n",
    "\\left[\n",
    "\\begin{matrix}\n",
    "e^t\\\\\n",
    "0\\\\\n",
    "\\end{matrix}\n",
    "\\right]=\n",
    "\\left[\n",
    "\\begin{matrix}\n",
    "e^t\\\\\n",
    "0\\\\\n",
    "\\end{matrix}\n",
    "\\right]\n",
    "$$\n"
   ]
  },
  {
   "cell_type": "markdown",
   "metadata": {},
   "source": [
    "$$\n",
    "\\varphi_2(t)'=\n",
    "\\left[\n",
    "\\begin{matrix}\n",
    "e^t+te^t\\\\\n",
    "e^t\\\\\n",
    "\\end{matrix}\n",
    "\\right]=\n",
    "\\left[\n",
    "\\begin{matrix}\n",
    "1&1\\\\\n",
    "0&1\\\\\n",
    "\\end{matrix}\n",
    "\\right]\n",
    "\\varphi_2(t)=\n",
    "\\left[\n",
    "\\begin{matrix}\n",
    "1&1\\\\\n",
    "0&1\\\\\n",
    "\\end{matrix}\n",
    "\\right]\n",
    "\\left[\n",
    "\\begin{matrix}\n",
    "te^t\\\\\n",
    "e^t\\\\\n",
    "\\end{matrix}\n",
    "\\right]=\n",
    "\\left[\n",
    "\\begin{matrix}\n",
    "e^t+te^t\\\\\n",
    "e^t\\\\\n",
    "\\end{matrix}\n",
    "\\right]\n",
    "$$\n",
    "\n",
    "这表示$\\mathbf \\varphi_1(t),\\mathbf \\varphi_2(t)$是方程组的解, 因此\n",
    "\n",
    "$$\n",
    "\\mathbf \\Phi(t)=[\\mathbf \\varphi_1(t),\\mathbf \\varphi_2(t)]\n",
    "$$\n",
    "\n",
    "是解矩阵, 又因为 $\\det\\mathbf \\Phi(t)=e^{2t}\\neq0$, 所以 $\\mathbf \\Phi(t)$ 是基解矩阵."
   ]
  },
  {
   "cell_type": "markdown",
   "metadata": {},
   "source": [
    "**结论:** $\\mathbf X(t)$ 是方程组\n",
    "$$\n",
    "\\mathbf x'=\\mathbf A(t)\\mathbf x, \\quad a \\leq t \\leq b\n",
    "$$\n",
    "\n",
    "的一解矩阵的充要条件是 $\\mathbf X(t)$ 必满足关系\n",
    "\n",
    "$$\n",
    "\\mathbf X'(t)=\\mathbf A(t)\\mathbf X(t), \\quad a \\leq t \\leq b\n",
    "$$\n",
    "\n",
    "$$\n",
    "\\begin{aligned}\n",
    "\\mathbf X'(t)&=(\\mathbf x_1(t),\\mathbf x_2(t),\\dots,\\mathbf x_n(t))'\\\\\n",
    "&=(\\mathbf x_1(t)',\\mathbf x_2(t)',\\dots,\\mathbf x_n(t)')\\\\\n",
    "&=(\\mathbf A(t)\\mathbf x_1(t), \\mathbf A(t)\\mathbf x_2(t),\\dots,\\mathbf A(t)\\mathbf x_n(t))\\\\\n",
    "&=\\mathbf A(t)(\\mathbf x_1(t),\\mathbf x_2(t),\\dots,\\mathbf x_n(t))\\\\\n",
    "&=\\mathbf A(t)\\mathbf X(t)\\\\\n",
    "\\end{aligned}\n",
    "$$"
   ]
  },
  {
   "cell_type": "markdown",
   "metadata": {},
   "source": [
    "**推论1** 如果 $\\mathbf \\Phi(t)$ 是 $\\mathbf x'=\\mathbf A(t)\\mathbf x$ 在区间 $a \\leq t \\leq b$ 上的基解矩阵, $\\mathbf C$\n",
    "非奇异 $n \\times n$ 常数矩阵, 那么 $\\mathbf \\Phi(t)\\mathbf C$ 也是 $\\mathbf　x'=\\mathbf A(t)\\mathbf　x$ 在区间 $a \\leq t \\leq b$ 上的基解矩阵."
   ]
  },
  {
   "cell_type": "markdown",
   "metadata": {},
   "source": [
    "**证明:**\n",
    "\n",
    "令\n",
    "\n",
    "$$\n",
    "\\mathbf　\\Psi(t)=\\mathbf　\\Phi(t)\\mathbf C\\quad(a\\leq t \\leq b)\n",
    "$$\n",
    "\n",
    "$$\n",
    "\\mathbf　\\Psi(t)'\\equiv \\mathbf　\\Phi(t)'\\mathbf C \\equiv \\mathbf A(t)\\mathbf　\\Phi(t)\\mathbf C\\equiv \\mathbf A(t)\\mathbf \\Psi(t)\n",
    "$$\n",
    "$\\mathbf \\Psi(t)$ 是解矩阵."
   ]
  },
  {
   "cell_type": "markdown",
   "metadata": {},
   "source": [
    "$$\n",
    "\\det\\mathbf \\Psi(t)=\\det\\mathbf \\Phi(t)\\det\\mathbf C\\neq0 \\quad a\\leq t \\leq b\n",
    "$$\n",
    "\n",
    "则 $\\mathbf \\Psi(t)$  是\n",
    "\n",
    "$$\n",
    "\\mathbf x'=\\mathbf A(t)\\mathbf x\n",
    "$$\n",
    "\n",
    "的基解矩阵.\n",
    "\n",
    "证毕. $\\square$"
   ]
  },
  {
   "cell_type": "markdown",
   "metadata": {},
   "source": [
    "**推论2** 如果 $\\mathbf \\Phi(t),\\mathbf \\Psi(t)$ 在区间 $a\\leq t \\leq b$ 上是方程组\n",
    "\n",
    "$$\n",
    "\\mathbf x'=\\mathbf A(t)\\mathbf x\n",
    "$$\n",
    "\n",
    "的两个基解矩阵, 则存在一个非奇异 $n \\times n$ 常数矩阵 $\\mathbf C$ 使得在区间 $a\\leq t \\leq b$ 上\n",
    "\n",
    "$$\n",
    "\\mathbf \\Psi(t)＝\\mathbf \\Phi(t)\\mathbf C.\n",
    "$$"
   ]
  },
  {
   "cell_type": "markdown",
   "metadata": {},
   "source": [
    "**证明: **\n",
    "$\\mathbf \\Phi(t)$ 基解矩阵, $\\mathbf \\Phi(t)^{-1}$ 存在,\n",
    "\n",
    "令\n",
    "\n",
    "$$\n",
    "\\mathbf \\Phi(t)^{-1}\\mathbf \\Psi(t)=\\mathbf X(t)\n",
    "$$\n",
    "或\n",
    "$$\n",
    "\\mathbf \\Psi(t)=\\mathbf \\Phi(t)\\mathbf X(t)\n",
    "$$\n",
    "\n",
    "$$\n",
    "\\begin{aligned}\n",
    "\\mathbf A(t)\\mathbf \\Psi(t)=\\mathbf \\Psi'(t) & = \\mathbf \\Phi'(t)\\mathbf X(t)+\\mathbf \\Phi(t)X'(t)\\\\\n",
    "&=\\mathbf A(t)\\mathbf \\Phi(t)\\mathbf X(t)+\\mathbf \\Phi(t)\\mathbf X'(t)\\\\\n",
    "&=\\mathbf A(t)\\mathbf \\Psi(t)+\\mathbf \\Phi(t)\\mathbf X'(t)\\\\\n",
    "\\end{aligned}\n",
    "$$\n",
    "\n",
    "可得\n",
    "$$ \\mathbf \\Phi(t)\\mathbf X'(t)=0 $$\n",
    "\n",
    "由 $\\mathbf \\Phi(t)$ 非奇异, 可得\n",
    "$$\\mathbf X'(t)=0$$\n",
    "\n",
    "即\n",
    "$$ \\mathbf X(t)=\\mathbf C$$ "
   ]
  },
  {
   "cell_type": "markdown",
   "metadata": {
    "collapsed": true
   },
   "source": [
    "由\n",
    "$$ \\mathbf \\Psi(t)=\\mathbf \\Phi(t)C $$\n",
    "\n",
    "可得\n",
    "$$\\det C=\\det\\mathbf \\Phi^{-1}(t)\\mathbf \\Psi(t)\\neq0 $$"
   ]
  },
  {
   "cell_type": "markdown",
   "metadata": {},
   "source": [
    "**推论3** 如果 $\\mathbf \\Phi(t)$ 在区间 $a\\leq t \\leq b$ 上是某方程组的基解矩阵, 则这个方程组为\n",
    "\n",
    "$$\n",
    "\\mathbf x'(t)=\\mathbf \\Phi'(t)\\mathbf \\Phi^{-1}(t)\\mathbf x(t),\\quad a\\leq t \\leq b\n",
    "$$"
   ]
  },
  {
   "cell_type": "markdown",
   "metadata": {},
   "source": [
    "**证明:** 设所求方程组为 $\\mathbf x'=\\mathbf A(t)\\mathbf x$, 则\n",
    "\n",
    "$$\n",
    "\\mathbf \\Phi'(t)=\\mathbf A(t)\\mathbf \\Phi(t), \\quad a\\leq t \\leq b\n",
    "$$\n",
    "\n",
    "故\n",
    "\n",
    "$$\n",
    "\\mathbf A(t)=\\mathbf \\Phi'(t)\\mathbf \\Phi^{-1}(t)\\quad a\\leq t \\leq b\n",
    "$$\n",
    "\n",
    "证毕. $\\square$"
   ]
  },
  {
   "cell_type": "markdown",
   "metadata": {},
   "source": [
    "**例** 已知一个一阶线性齐次方程组的基解矩阵为\n",
    "\n",
    "$$\n",
    "\\mathbf \\Phi(t)=\n",
    "\\left[\n",
    "\\begin{matrix}\n",
    "e^{2t}&te^{2t}\\\\\n",
    "0&e^{2t}\\\\\n",
    "\\end{matrix}\n",
    "\\right],\n",
    "$$\n",
    "\n",
    "求该方程组. "
   ]
  },
  {
   "cell_type": "markdown",
   "metadata": {},
   "source": [
    "**解**\n",
    "$$\n",
    "\\mathbf \\Phi(t)^{-1}=\\frac{1}{e^{4t}}\\left[\n",
    "\\begin{matrix}\n",
    "e^{2t}&-te^{2t}\\\\\n",
    "0&e^{2t}\\\\\n",
    "\\end{matrix}\n",
    "\\right],\n",
    "$$\n",
    "\n",
    "\n",
    "$$\n",
    "\\mathbf A(t)=\\mathbf \\Phi'(t)\\mathbf \\Phi^{-1}(t)=\\frac{1}{e^{4t}}\n",
    "\\left[\n",
    "\\begin{matrix}\n",
    "2e^{2t}&e^{2t}+2te^{2t}\\\\\n",
    "0&2e^{2t}\\\\\n",
    "\\end{matrix}\n",
    "\\right]\n",
    "\\left[\n",
    "\\begin{matrix}\n",
    "e^{2t}&-te^{2t}\\\\\n",
    "0&e^{2t}\\\\\n",
    "\\end{matrix}\n",
    "\\right]=\n",
    "\\left[\n",
    "\\begin{matrix}\n",
    "2&1+2t\\\\\n",
    "0&2\\\\\n",
    "\\end{matrix}\n",
    "\\right]\n",
    "\\left[\n",
    "\\begin{matrix}\n",
    "1&-t\\\\\n",
    "0&1\\\\\n",
    "\\end{matrix}\n",
    "\\right]=\n",
    "\\left[\n",
    "\\begin{matrix}\n",
    "2&1\\\\\n",
    "0&2\\\\\n",
    "\\end{matrix}\n",
    "\\right]\n",
    "$$\n",
    "\n",
    "所求方程组为\n",
    "\n",
    "$$\n",
    "\\mathbf x'=\n",
    "\\left[\n",
    "\\begin{matrix}\n",
    "2&1\\\\\n",
    "0&2\\\\\n",
    "\\end{matrix}\n",
    "\\right]\\mathbf x\n",
    "$$\n"
   ]
  },
  {
   "cell_type": "markdown",
   "metadata": {
    "collapsed": true
   },
   "source": [
    "## 作业\n",
    "P217, 2. 3. 5."
   ]
  },
  {
   "cell_type": "code",
   "execution_count": null,
   "metadata": {
    "collapsed": true
   },
   "outputs": [],
   "source": []
  }
 ],
 "metadata": {
  "kernelspec": {
   "display_name": "Python 3",
   "language": "python",
   "name": "python3"
  },
  "language_info": {
   "codemirror_mode": {
    "name": "ipython",
    "version": 3
   },
   "file_extension": ".py",
   "mimetype": "text/x-python",
   "name": "python",
   "nbconvert_exporter": "python",
   "pygments_lexer": "ipython3",
   "version": "3.5.2"
  },
  "latex_envs": {
   "bibliofile": "biblio.bib",
   "cite_by": "apalike",
   "current_citInitial": 1,
   "eqLabelWithNumbers": true,
   "eqNumInitial": 0
  }
 },
 "nbformat": 4,
 "nbformat_minor": 0
}
