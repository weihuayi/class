{
 "cells": [
  {
   "cell_type": "code",
   "execution_count": 2,
   "metadata": {
    "collapsed": true
   },
   "outputs": [],
   "source": [
    "from sympy import * # 导入 sympy 中的所有功能\n",
    "init_printing(use_latex=True) \n",
    "from IPython.display import display # 显示公式"
   ]
  },
  {
   "cell_type": "code",
   "execution_count": 34,
   "metadata": {
    "collapsed": true
   },
   "outputs": [],
   "source": [
    "def mytest(n):\n",
    "    x = 'x_'\n",
    "    X = ''\n",
    "    for i in range(n):\n",
    "        X += ' '+ x + str(i+1)\n",
    "    s0 = Matrix([symbols(X)])\n",
    "    s1 = Matrix([symbols(X)[n-1::-1]])\n",
    "    M = zeros(n+1)\n",
    "    for i in range(n+1):\n",
    "        M[i, i+1:] = s0[0, 0:n-i]\n",
    "        M[i, 0:i] = s1[0, 0:i]\n",
    "    return M"
   ]
  },
  {
   "cell_type": "code",
   "execution_count": 41,
   "metadata": {
    "collapsed": false
   },
   "outputs": [
    {
     "data": {
      "image/png": "[encoded data removed]",
      "text/latex": [
       "$$x_{1} x_{2} \\left(x_{1} + x_{2}\\right)$$"
      ],
      "text/plain": [
       "x₁⋅x₂⋅(x₁ + x₂)"
      ]
     },
     "execution_count": 41,
     "metadata": {},
     "output_type": "execute_result"
    }
   ],
   "source": [
    "M = mytest(2)\n",
    "simplify(M.det())"
   ]
  },
  {
   "cell_type": "code",
   "execution_count": 42,
   "metadata": {
    "collapsed": false
   },
   "outputs": [
    {
     "data": {
      "image/png": "[encoded data removed]",
      "text/latex": [
       "$$- x_{1} x_{2} x_{3} \\left(x_{1} + x_{2} + x_{3}\\right)$$"
      ],
      "text/plain": [
       "-x₁⋅x₂⋅x₃⋅(x₁ + x₂ + x₃)"
      ]
     },
     "execution_count": 42,
     "metadata": {},
     "output_type": "execute_result"
    }
   ],
   "source": [
    "M = mytest(3)\n",
    "simplify(M.det())"
   ]
  },
  {
   "cell_type": "code",
   "execution_count": null,
   "metadata": {
    "collapsed": true
   },
   "outputs": [],
   "source": [
    "M = mytest(4)\n",
    "simplify(M.det())"
   ]
  },
  {
   "cell_type": "code",
   "execution_count": 44,
   "metadata": {
    "collapsed": false
   },
   "outputs": [
    {
     "data": {
      "image/png": "[encoded data removed]",
      "text/latex": [
       "$$- x_{1} x_{2} x_{3} x_{4} x_{5} \\left(x_{1} + x_{2} + x_{3} + x_{4} + x_{5}\\right)$$"
      ],
      "text/plain": [
       "-x₁⋅x₂⋅x₃⋅x₄⋅x₅⋅(x₁ + x₂ + x₃ + x₄ + x₅)"
      ]
     },
     "execution_count": 44,
     "metadata": {},
     "output_type": "execute_result"
    }
   ],
   "source": [
    "M = mytest(5)\n",
    "simplify(M.det())"
   ]
  },
  {
   "cell_type": "code",
   "execution_count": 4,
   "metadata": {
    "collapsed": true
   },
   "outputs": [],
   "source": [
    "n = symbols('n')"
   ]
  },
  {
   "cell_type": "code",
   "execution_count": 5,
   "metadata": {
    "collapsed": true
   },
   "outputs": [],
   "source": [
    "from sympy import limit_seq, Sum, binomial\n",
    "from sympy.abc import n, k, m"
   ]
  },
  {
   "cell_type": "code",
   "execution_count": 6,
   "metadata": {
    "collapsed": false
   },
   "outputs": [
    {
     "data": {
      "image/png": "[encoded data removed]",
      "text/latex": [
       "$$1$$"
      ],
      "text/plain": [
       "1"
      ]
     },
     "execution_count": 6,
     "metadata": {},
     "output_type": "execute_result"
    }
   ],
   "source": [
    "limit_seq(Sum(n**(1/k), (k, 1, n))/n, n)"
   ]
  },
  {
   "cell_type": "code",
   "execution_count": 8,
   "metadata": {
    "collapsed": false
   },
   "outputs": [
    {
     "data": {
      "image/png": "[encoded data removed]",
      "text/latex": [
       "$$\\frac{\\tan{\\left (\\theta_{1} \\right )} - \\tan{\\left (\\theta_{2} \\right )}}{\\tan{\\left (\\theta_{1} \\right )} \\tan{\\left (\\theta_{2} \\right )} + 1}$$"
      ],
      "text/plain": [
       " tan(θ₁) - tan(θ₂) \n",
       "───────────────────\n",
       "tan(θ₁)⋅tan(θ₂) + 1"
      ]
     },
     "execution_count": 8,
     "metadata": {},
     "output_type": "execute_result"
    }
   ],
   "source": [
    "a, b = symbols('theta_1, theta_2')\n",
    "f = tan(a - b)\n",
    "expand_trig(f)"
   ]
  },
  {
   "cell_type": "code",
   "execution_count": 9,
   "metadata": {
    "collapsed": false
   },
   "outputs": [
    {
     "data": {
      "image/png": "[encoded data removed]",
      "text/latex": [
       "$$\\frac{\\tan{\\left (\\theta_{1} \\right )} + \\tan{\\left (\\theta_{2} \\right )}}{- \\tan{\\left (\\theta_{1} \\right )} \\tan{\\left (\\theta_{2} \\right )} + 1}$$"
      ],
      "text/plain": [
       " tan(θ₁) + tan(θ₂)  \n",
       "────────────────────\n",
       "-tan(θ₁)⋅tan(θ₂) + 1"
      ]
     },
     "execution_count": 9,
     "metadata": {},
     "output_type": "execute_result"
    }
   ],
   "source": [
    "g = tan(a + b)\n",
    "expand_trig(g)"
   ]
  },
  {
   "cell_type": "code",
   "execution_count": null,
   "metadata": {
    "collapsed": true
   },
   "outputs": [],
   "source": []
  }
 ],
 "metadata": {
  "kernelspec": {
   "display_name": "Python 3",
   "language": "python",
   "name": "python3"
  },
  "language_info": {
   "codemirror_mode": {
    "name": "ipython",
    "version": 3
   },
   "file_extension": ".py",
   "mimetype": "text/x-python",
   "name": "python",
   "nbconvert_exporter": "python",
   "pygments_lexer": "ipython3",
   "version": "3.5.2"
  },
  "latex_envs": {
   "bibliofile": "biblio.bib",
   "cite_by": "apalike",
   "current_citInitial": 1,
   "eqLabelWithNumbers": true,
   "eqNumInitial": 0
  }
 },
 "nbformat": 4,
 "nbformat_minor": 2
}
