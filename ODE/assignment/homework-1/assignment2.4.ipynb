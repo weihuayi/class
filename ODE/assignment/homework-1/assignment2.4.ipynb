{
 "cells": [
  {
   "cell_type": "markdown",
   "metadata": {
    "collapsed": false
   },
   "source": [
    "**(1)** $x(\\frac{\\mathrm d y}{\\mathrm d x})^3=1+\\frac{\\mathrm d y}{\\mathrm d x}$"
   ]
  },
  {
   "cell_type": "markdown",
   "metadata": {},
   "source": [
    "**(2)** $(\\frac{\\mathrm d y}{\\mathrm d x})^3 - x^3(1 - \\frac{\\mathrm d y}{\\mathrm d x}) = 0$"
   ]
  },
  {
   "cell_type": "markdown",
   "metadata": {},
   "source": [
    "**(3)** $y = (\\frac{\\mathrm d y}{\\mathrm d x})^2e^{\\frac{\\mathrm d y}{\\mathrm d x}}$"
   ]
  },
  {
   "cell_type": "markdown",
   "metadata": {},
   "source": [
    "**(4)** $y(1 + (\\frac{\\mathrm d y}{\\mathrm d x})^2)=2a$, $a$ 为任意常数."
   ]
  },
  {
   "cell_type": "markdown",
   "metadata": {},
   "source": [
    "**(5)** $x^2 + (\\frac{\\mathrm d y}{\\mathrm d x})^2 = 1$"
   ]
  },
  {
   "cell_type": "markdown",
   "metadata": {},
   "source": [
    "**(6)** $y^2(\\frac{\\mathrm d y}{\\mathrm d x}"
   ]
  }
 ],
 "metadata": {
  "kernelspec": {
   "display_name": "Python 2",
   "language": "python",
   "name": "python2"
  },
  "language_info": {
   "codemirror_mode": {
    "name": "ipython",
    "version": 2
   },
   "file_extension": ".py",
   "mimetype": "text/x-python",
   "name": "python",
   "nbconvert_exporter": "python",
   "pygments_lexer": "ipython2",
   "version": "2.7.10"
  }
 },
 "nbformat": 4,
 "nbformat_minor": 0
}
