{
 "cells": [
  {
   "cell_type": "code",
   "execution_count": 1,
   "metadata": {
    "collapsed": true
   },
   "outputs": [],
   "source": [
    "from sympy import * # 导入 sympy 中的所有功能\n",
    "init_printing(use_latex=True) \n",
    "from IPython.display import display # 显示公式\n",
    "import matplotlib.pyplot as plt\n",
    "%matplotlib inline"
   ]
  },
  {
   "cell_type": "markdown",
   "metadata": {},
   "source": [
    "# 2.3 Exact ODE and Integrating Factor"
   ]
  },
  {
   "cell_type": "markdown",
   "metadata": {},
   "source": [
    "# 一.恰当方程\\Exact ODE\\\n"
   ]
  },
  {
   "cell_type": "markdown",
   "metadata": {},
   "source": [
    "**平等**看待一阶方程 \n",
    "\n",
    "$$\n",
    "\\frac{\\mathrm d y}{\\mathrm d x} = f(x, y)\n",
    "$$\n",
    "\n",
    "中的 $x$ 和 $y$, 则可得到下面具有**对称形式**的一阶微分方程\n",
    "\n",
    "$$\n",
    "M(x,y)\\mathrm d x+N(x,y)\\mathrm d y=0\n",
    "$$"
   ]
  },
  {
   "cell_type": "markdown",
   "metadata": {},
   "source": [
    "如果存在某一二元函数$\\ u(x,y)$ 使得\n",
    "\n",
    "$$\\mathrm du(x,y)=M(x,y)\\mathrm d x+N(x,y)\\mathrm d y$$\n",
    "\n",
    "则方程称为**恰当方程（或全微分方程)**, 且称 $u(x,y)$ 为 \n",
    "\n",
    "$$M(x,y)\\mathrm d x+N(x,y)\\mathrm d y$$ \n",
    "\n",
    "的一个**原函数**。 则原方程变为 \n",
    "\n",
    "$$ \\mathrm d u = 0 $$\n",
    "\n",
    "其通解为 \n",
    "\n",
    "$$ u(x, y) = c$$"
   ]
  },
  {
   "cell_type": "markdown",
   "metadata": {},
   "source": [
    "如方程\n",
    "$$\\frac {\\mathrm d y}{\\mathrm d x}=-\\frac {x}{y}$$\n",
    "\n",
    "改为如下形式\n",
    "\n",
    "$$x\\mathrm d x+y\\mathrm d y=0 $$\n",
    "\n",
    "易知\n",
    "$$x\\mathrm d x+y\\mathrm d y=\\mathrm d\\frac {1}{2}(x^2+y^2)$$\n",
    "\n",
    "则原方程通解为\n",
    "$$\n",
    "u(x,y)=\\frac {1}{2}(x^2+y^2)=c\n",
    "$$"
   ]
  },
  {
   "cell_type": "markdown",
   "metadata": {},
   "source": [
    "**例**$\\ (x^3+y)\\mathrm d x+(x-y)\\mathrm d y=0$"
   ]
  },
  {
   "cell_type": "markdown",
   "metadata": {},
   "source": [
    "**解：**方程各项经过重新组合后，可以看出它是恰当方程。"
   ]
  },
  {
   "cell_type": "markdown",
   "metadata": {},
   "source": [
    "$$\\ x^3\\mathrm d x-y\\mathrm d y+(y\\mathrm d x+x\\mathrm d y)=0$$"
   ]
  },
  {
   "cell_type": "markdown",
   "metadata": {},
   "source": [
    "$$d(\\frac {x^4}{4})-d(\\frac {y^2}{2})+d(xy)=0$$"
   ]
  },
  {
   "cell_type": "markdown",
   "metadata": {},
   "source": [
    "$$d(\\frac {x^4}{4}-\\frac {y^2}{2}+xy)=0$$"
   ]
  },
  {
   "cell_type": "markdown",
   "metadata": {},
   "source": [
    "通解为 $$\\quad\\frac {x^4}{4}-\\frac {y^2}{2}+xy=c.$$"
   ]
  },
  {
   "cell_type": "markdown",
   "metadata": {},
   "source": [
    "**求解恰当方程的关键就是求解原函数的问题**"
   ]
  },
  {
   "cell_type": "markdown",
   "metadata": {},
   "source": [
    "## 问题"
   ]
  },
  {
   "cell_type": "markdown",
   "metadata": {},
   "source": [
    "* 如何判断方程 $$M(x,y)\\mathrm d x+N(x,y)\\mathrm d y=0$$ 是否为恰当方程?\n",
    "* 如果方程 $$M(x,y)\\mathrm d x+N(x,y)\\mathrm d y=0$$ 是恰当方程，如何求原函数 $u(x,y)$?"
   ]
  },
  {
   "cell_type": "markdown",
   "metadata": {},
   "source": [
    "**定理** 假设函数 $M(x,y)$ 和 $N(x,y)$ 在某区域内连续可微，则方程 \n",
    "$$M(x,y)\\mathrm d x+N(x,y)\\mathrm d y=0$$\n",
    "是恰当方程的充分必要条件是：\n",
    "$$\\frac {\\partial {M}}{\\partial y} \\equiv \\frac {\\partial N}{\\partial x}$$\n",
    "此时，它的通解为\n",
    "$$\\int\\limits_{x_0}^x M(x,y)\\mathrm  d x+\\int\\limits_{y_0}^yN(x_0,y)\\mathrm d y=c$$\n",
    "\n",
    "$$\\int\\limits_{x_0}^x M(x,y_0)\\mathrm  d x+\\int\\limits_{y_0}^yN(x,y)\\mathrm d y=c$$\n",
    "其中 $c$ 是任意常数。"
   ]
  },
  {
   "cell_type": "markdown",
   "metadata": {},
   "source": [
    "**证明:**     **必要条件** $$M(x,y)\\mathrm d x+N(x,y)\\mathrm d y=0$$\n",
    "为恰当方程, 证明"
   ]
  },
  {
   "cell_type": "markdown",
   "metadata": {
    "collapsed": true
   },
   "source": [
    "$$\\quad \\frac{\\partial M}{\\partial y}\\equiv \\frac{\\partial N}{\\partial x}$$ \n",
    "成立。"
   ]
  },
  {
   "cell_type": "markdown",
   "metadata": {},
   "source": [
    "由恰当方程定义可知，存在二元函数 $u(x,y)$.使 \n",
    "$$\\mathrm d u(x,y)=M(x,y)\\mathrm d x+N(x,y)\\mathrm d y$$"
   ]
  },
  {
   "cell_type": "markdown",
   "metadata": {},
   "source": [
    "$$\n",
    "\\begin{cases}\n",
    "\\frac{\\partial u}{\\partial x}=M(x,y)\\\\\n",
    "\\frac{\\partial u}{\\partial y}=N(x,y)\n",
    "\\end{cases}\n",
    "$$\n",
    "\n",
    "$$\\frac{\\partial M}{\\partial y} = \\frac{\\partial^2 u}{\\partial x\\partial y}=\\frac{\\partial N}{\\partial x}$$"
   ]
  },
  {
   "cell_type": "markdown",
   "metadata": {},
   "source": [
    "**充分条件**"
   ]
  },
  {
   "cell_type": "markdown",
   "metadata": {},
   "source": [
    "即证若 $\\quad \\frac{\\partial M}{\\partial y}\\equiv\\frac{\\partial N}{\\partial x}$ 时，\n",
    "\n",
    "$$M(x,y)\\mathrm d x+N(x,y)\\mathrm d y=0$$\n",
    "\n",
    "是恰当方程，即要找到一个二元函数 $u(x,y)$, 满足\n",
    "\n",
    "$$\\mathrm du(x,y)=M(x,y)\\mathrm d x+N(x,y)\\mathrm d y$$"
   ]
  },
  {
   "cell_type": "markdown",
   "metadata": {},
   "source": [
    "$u(x,y)$ 满足以下方程组\n",
    "$$\n",
    "\\begin{cases}\n",
    "\\frac{\\partial u(x,y)}{\\partial x}=M(x,y) \\\\\n",
    "\\frac{\\partial u(x,y)}{\\partial y}=N(x,y) \n",
    "\\end{cases}\n",
    "$$\n"
   ]
  },
  {
   "cell_type": "markdown",
   "metadata": {},
   "source": [
    "以下推证满足上方程组的 $u(x,y)$ 一定存在, 从 $x_0$ 到 $x$ 对方程组\n",
    "的第一式进行积分"
   ]
  },
  {
   "cell_type": "markdown",
   "metadata": {},
   "source": [
    "$$\n",
    "\\begin{aligned}\n",
    "u(x,y)-u(x_0,y) & =\\int_{x_0}^x M(x,y)\\mathrm d x \\\\\n",
    "u(x,y) &=\\int_{x_0}^x M(x,y)\\mathrm d x+u(x_0,y)\\\\\n",
    "\\end{aligned}\n",
    "$$\n",
    "对等式两端关于 $y$ 求导，可得："
   ]
  },
  {
   "cell_type": "markdown",
   "metadata": {
    "collapsed": true
   },
   "source": [
    "$$\n",
    "\\begin{aligned}\n",
    "\\frac {\\partial u}{\\partial y} &=\\frac{\\partial}{\\partial y}\\left(\\int_{x_0}^x M(x,y)\\mathrm d x\\right)+\\frac{\\mathrm d u(x_0,y)}{\\mathrm d y}\\\\\n",
    "\\frac {\\partial u}{\\partial y} &=\\left(\\int_{x_0}^x \\frac{\\partial M(x,y)}{\\partial y}\\mathrm d x\\right)+\\frac{\\mathrm d u(x_0,y)}{\\mathrm d y}\\\\\n",
    "N(x,y)&=\\int\\limits_{x_0}^x\\frac{\\partial N(x, y)}{\\partial x}\\mathrm d x+\\frac{\\mathrm d u(x_0,y)}{\\mathrm d y}\\\\\n",
    "N(x,y)&=N(x,y)-N({x_0},y)+\\frac{\\mathrm d u(x_0,y)}{\\mathrm d y}\\\\\n",
    "\\frac{\\mathrm d u(x_0,y)}{\\mathrm d y} &= N(x_0,y)\\\\\n",
    "u(x_0, y) & = \\int_{y_0}^yN(x_0,y)\\mathrm d y\n",
    "\\end{aligned}\n",
    "$$"
   ]
  },
  {
   "cell_type": "markdown",
   "metadata": {},
   "source": [
    "$$\\quad u(x,y)=\\int_{x_0}^x M(x,y)\\mathrm d x+\\int_{y_0}^y N(x_0,y)\\mathrm  d y$$"
   ]
  },
  {
   "cell_type": "markdown",
   "metadata": {},
   "source": [
    "这就是所求方程左端微分式的一个原函数。"
   ]
  },
  {
   "cell_type": "markdown",
   "metadata": {},
   "source": [
    "故方程的通解为：\n",
    "$$\\int\\limits_{x_0}^x M(x,y)\\mathrm d x+\\int\\limits_{y_0}^y N({x_0},y)\\mathrm d y=c$$       "
   ]
  },
  {
   "cell_type": "markdown",
   "metadata": {},
   "source": [
    "如从方程组的第二式出发，推证，还可得：\n",
    "$$u(x,y)=\\int\\limits_{x_0}^x M(x,y_0)\\mathrm d x+\\int\\limits_{y_0}^y N(x,y)\\mathrm  d y=c$$"
   ]
  },
  {
   "cell_type": "markdown",
   "metadata": {},
   "source": [
    "**注意:** 求解时，$x_0,y_0$ 的选择要尽可能简单，且使 $M,N$ 有意义."
   ]
  },
  {
   "cell_type": "markdown",
   "metadata": {},
   "source": [
    "**例 1.** $(3x^2+6xy^2)\\mathrm d x+(6x^2y+4y^3)\\mathrm d y=0$"
   ]
  },
  {
   "cell_type": "markdown",
   "metadata": {},
   "source": [
    "**解:** $M(x,y)=3x^2+6xy^2$, $N(x,y)=6x^2y+4y^3$"
   ]
  },
  {
   "cell_type": "markdown",
   "metadata": {},
   "source": [
    "有\n",
    "$$\\frac{\\partial M}{\\partial y}=12xy=\\frac{\\partial N}{\\partial x}$$"
   ]
  },
  {
   "cell_type": "markdown",
   "metadata": {},
   "source": [
    "故此方程为恰当方程，得出通解为\n",
    "$$\n",
    "\\int_{x_0}^{x} (3x^2+6xy^2)\\mathrm d x+\\int_{y_0}^y (6x_0^2y+4y^3)\\mathrm d y=c\n",
    "$$\n",
    "取 $x_0=0$,$y_0=0$, 可得\n",
    "$$\n",
    "x^3+3x^2y^2+y^4=c\n",
    "$$"
   ]
  },
  {
   "cell_type": "markdown",
   "metadata": {},
   "source": [
    "**另解** 原方程可写为："
   ]
  },
  {
   "cell_type": "markdown",
   "metadata": {},
   "source": [
    "$$\n",
    "\\begin{aligned}\n",
    "3x^2\\mathrm d x+4y^3\\mathrm d y+(6xy^2\\mathrm d x+6x^2y\\mathrm d y)&=0\\\\\n",
    "3x^2\\mathrm d x+4y^3\\mathrm d y+3(y^2\\mathrm d x^2+x^2\\mathrm d y^2)&=0\\\\\n",
    "\\mathrm d(x^3)+\\mathrm d(y^4)+\\mathrm d(3x^2y^2)&=0\\\\\n",
    "\\mathrm d(x^3+y^4+3x^2y^2)&=0\n",
    "\\end{aligned}\n",
    "$$"
   ]
  },
  {
   "cell_type": "markdown",
   "metadata": {},
   "source": [
    "故$$x^3+y^4+3x^2y^2=c$$"
   ]
  },
  {
   "cell_type": "markdown",
   "metadata": {},
   "source": [
    "**例 2.** 求解\n",
    "$$\n",
    "\\frac{2xy+1}{y}\\mathrm d x+\\frac{y-x}{y^2}\\mathrm d y=0\n",
    "$$"
   ]
  },
  {
   "cell_type": "markdown",
   "metadata": {},
   "source": [
    "**解:** \n",
    "$$\n",
    "\\frac{\\partial M}{\\partial y}=-\\frac{1}{y^2}=\\frac{\\partial N}{\\partial x}\n",
    "$$ \n",
    "故为恰当（全微分）方程。"
   ]
  },
  {
   "cell_type": "markdown",
   "metadata": {},
   "source": [
    "根据定理，可得:\n",
    "$$\n",
    "\\int_{x_0}^x \\frac{2xy+1}{y}\\mathrm  d x+\\int_{y_0}^y\\frac{y-x_0}{y^2}\\mathrm  d y=c\n",
    "$$"
   ]
  },
  {
   "cell_type": "markdown",
   "metadata": {},
   "source": [
    "选取 $x_0=0$, $y_0=1$, 可得通解为 \n",
    "$$\n",
    "x^2+\\frac{x}{y}+\\ln y=c\n",
    "$$"
   ]
  },
  {
   "cell_type": "markdown",
   "metadata": {},
   "source": [
    "**练习 1.**"
   ]
  },
  {
   "cell_type": "markdown",
   "metadata": {},
   "source": [
    "**(1)** $x\\mathrm d x+y\\mathrm d y+\\frac{x\\mathrm d y-y\\mathrm d x}{x^2+y^2}=0$"
   ]
  },
  {
   "cell_type": "markdown",
   "metadata": {},
   "source": [
    "**解:**   方程 (1) 可写为\n",
    "$$\n",
    "\\mathrm d\\frac{1}{2}x^2+\\mathrm d\\frac{1}{2}y^2+\\frac{\\mathrm d\\frac{y}{x}}{1+(\\frac{y}{x})^2}=0\n",
    "$$"
   ]
  },
  {
   "cell_type": "markdown",
   "metadata": {},
   "source": [
    "显见，此为恰当方程，积分之，得通解\n",
    "$$\n",
    "\\frac{x^2}{2}+\\frac{y^2}{2}+\\arctan\\frac{y}{x}=c\n",
    "$$"
   ]
  },
  {
   "cell_type": "markdown",
   "metadata": {},
   "source": [
    "**(2)** $(y^2e^{xy^2}+4x^3)\\mathrm d x+(2xye^{xy^2}-3y^2)\\mathrm d y=0$"
   ]
  },
  {
   "cell_type": "markdown",
   "metadata": {},
   "source": [
    "**解:** \n",
    "$$\n",
    "\\frac{\\partial M}{\\partial y}=2ye^{xy^2}+2xy^3e^{xy^2}=\\frac{\\partial N}{\\partial x}\n",
    "$$"
   ]
  },
  {
   "cell_type": "markdown",
   "metadata": {},
   "source": [
    "故为恰当方程，可得通解为\n",
    "$$\\int_{x_0}^x (y^2e^{xy^2}+4x^3)\\mathrm d x+\\int_{y_0}^y (2x_0ye^{x_0 y^2}-3y^2)\\mathrm  d y=c$$"
   ]
  },
  {
   "cell_type": "markdown",
   "metadata": {},
   "source": [
    "取 $x_0 = 0$, $y_0 = 0$, 可得 \n",
    "$$\n",
    "x^4+e^{xy^2}-y^3=c\n",
    "$$"
   ]
  },
  {
   "cell_type": "markdown",
   "metadata": {},
   "source": [
    "## 二. 积分因子/Intrgrating Factor/"
   ]
  },
  {
   "cell_type": "markdown",
   "metadata": {},
   "source": [
    "**问题:** 如何将非恰当方程化为恰当方程？"
   ]
  },
  {
   "cell_type": "markdown",
   "metadata": {},
   "source": [
    "###  1. 积分因子的意义 "
   ]
  },
  {
   "cell_type": "markdown",
   "metadata": {},
   "source": [
    "$$M(x,y)\\mathrm d x+N(x,y)\\mathrm d y=0$$"
   ]
  },
  {
   "cell_type": "markdown",
   "metadata": {},
   "source": [
    "如果存在非零连续可微函数 $\\mu(x,y)$,使得\n",
    "$$\n",
    "\\mu(x,y)M(x,y)\\mathrm d x+\\mu(x,y)N(x,y)\\mathrm d y=0\n",
    "$$\n",
    "为恰当方程，则称 $\\mu(x,y)$ 是方程的一个**积分因子**。"
   ]
  },
  {
   "cell_type": "markdown",
   "metadata": {},
   "source": [
    "此时，\n",
    "$$\n",
    "\\mathrm dv(x,y)=\\mu M\\mathrm d x+\\mu N\\mathrm d y\n",
    "$$\n",
    "\n",
    "则方程的通解为:\n",
    "$$\n",
    "v(x,y)=c\n",
    "$$ "
   ]
  },
  {
   "cell_type": "markdown",
   "metadata": {},
   "source": [
    "**求解非恰当方程的关键是求积分因子**"
   ]
  },
  {
   "cell_type": "markdown",
   "metadata": {},
   "source": [
    "**例如**"
   ]
  },
  {
   "cell_type": "markdown",
   "metadata": {},
   "source": [
    "(1) 可分离变量方程：\n",
    "\n",
    "$$M_1(x)M_2(y)\\mathrm d x+N_1(x)N_2(y)\\mathrm d y=0$$\n",
    "\n",
    "不一定是恰当方程，但是方程两端乘以 \n",
    "\n",
    "$$\\mu=\\frac{1}{N_1(x)M_2(y)}$$"
   ]
  },
  {
   "cell_type": "markdown",
   "metadata": {},
   "source": [
    "得到\n",
    "\n",
    "$$\\frac{M_1(x)}{N_1(x)}\\mathrm d x+\\frac{N_2(y)}{M_2(y)} \\mathrm d y=0$$\n",
    "\n",
    "恰当方程。"
   ]
  },
  {
   "cell_type": "markdown",
   "metadata": {},
   "source": [
    "所以，$$\\mu=\\frac{1}{N_1(x)M_2(y)}$$ 是可分离变量方程的积分因子。"
   ]
  },
  {
   "cell_type": "markdown",
   "metadata": {},
   "source": [
    "（2）方程 $$y\\mathrm d x-x\\mathrm d y=0$$ 由如下积分因子：\n",
    "$$\n",
    "\\frac{1}{x^2},\\frac{1}{y^2},\\frac{1}{xy},\\frac{1}{x^2+y^2},\\frac{1}{x^2-y^2}\n",
    "$$"
   ]
  },
  {
   "cell_type": "markdown",
   "metadata": {},
   "source": [
    "$$y\\mathrm d x-x\\mathrm d y=0$$ "
   ]
  },
  {
   "cell_type": "markdown",
   "metadata": {},
   "source": [
    "这是因为："
   ]
  },
  {
   "cell_type": "markdown",
   "metadata": {},
   "source": [
    "$$\n",
    "\\mathrm d(\\frac{y}{x})=\\frac{y\\mathrm d x-x\\mathrm d y}{x^2}\\quad\\mathrm d(\\arctan \\frac{x}{y})=\\frac{y\\mathrm d x-x\\mathrm d y}{x^2+y^2}\n",
    "$$ "
   ]
  },
  {
   "cell_type": "markdown",
   "metadata": {},
   "source": [
    "$$\\mathrm d(\\frac{x}{y})=\\frac{y\\mathrm d x-x\\mathrm d y}{y^2}\\quad\\mathrm d(\\frac{1}{2}\\ln\\frac{x-y}{x+y})=\\frac{y\\mathrm d x-x\\mathrm d y}{x^2-y^2}$$"
   ]
  },
  {
   "cell_type": "markdown",
   "metadata": {},
   "source": [
    "$$\\mathrm d(\\ln\\frac{x}{y})=\\frac{y\\mathrm d x-x\\mathrm d y}{xy}$$"
   ]
  },
  {
   "cell_type": "markdown",
   "metadata": {},
   "source": [
    "**结论:** 一个非恰当方程积分因子有无穷多个！"
   ]
  },
  {
   "cell_type": "markdown",
   "metadata": {},
   "source": [
    "### 2. 寻求积分因子的方法"
   ]
  },
  {
   "cell_type": "markdown",
   "metadata": {},
   "source": [
    "### （1）观察法：利用已知的或熟悉的微分式的原函数求积分因子。"
   ]
  },
  {
   "cell_type": "markdown",
   "metadata": {},
   "source": [
    "**例 1.** 解方程\n",
    "$$\n",
    "x\\mathrm d x+y\\mathrm d y+4y^3(x^2+y^2)\\mathrm d y=0\n",
    "$$"
   ]
  },
  {
   "cell_type": "markdown",
   "metadata": {},
   "source": [
    "**解:**\n",
    "$$\n",
    "\\frac{1}{2}\\mathrm d(x^2+y^2)+4y^3(x^2+y^2)\\mathrm d y=0\n",
    "$$\n",
    "取积分因子\n",
    "$$\n",
    "\\mu(x,y)=\\frac{1}{x^2+y^2}\n",
    "$$\n",
    "乘以方程两端, 可得:"
   ]
  },
  {
   "cell_type": "markdown",
   "metadata": {},
   "source": [
    "$$\n",
    "\\begin{aligned}\n",
    "\\frac{1}{2}\\frac{1}{x^2+y^2}\\mathrm d(x^2+y^2)+4y^3\\mathrm d y &=0\\\\\n",
    "\\mathrm d(\\frac{1}{2}\\ln(x^2+y^2))+\\mathrm d(y^4) &=0\\\\\n",
    "\\frac{1}{2}\\ln(x^2+y^2)+y^4&=c\n",
    "\\end{aligned}\n",
    "$$"
   ]
  },
  {
   "cell_type": "markdown",
   "metadata": {},
   "source": [
    "**例 2.**  解方程 \n",
    "$$\n",
    "(2x^3-y^3-3x)\\mathrm d x+3xy^2\\mathrm d y=0\n",
    "$$"
   ]
  },
  {
   "cell_type": "markdown",
   "metadata": {},
   "source": [
    "**解:** 将方程改为\n",
    "$$\n",
    "(2x^3-3x)\\mathrm d x-(y^3\\mathrm d x-3xy^2\\mathrm d y)=0\n",
    "$$"
   ]
  },
  {
   "cell_type": "markdown",
   "metadata": {},
   "source": [
    "$$(2x^3-3x)\\mathrm d x-(y^3\\mathrm d x-x\\mathrm d y^3)=0$$"
   ]
  },
  {
   "cell_type": "markdown",
   "metadata": {},
   "source": [
    "由此看出 $\\mu=\\frac{1}{x^2}$ 是积分因子，于是方程化为：\n",
    "$$\n",
    "(2x-\\frac{3}{x})\\mathrm d x+\\frac{x\\mathrm d y^3-y^3\\mathrm d x}{x^2}=0\n",
    "$$\n",
    "\n",
    "故方程的通解为：\n",
    "$$\n",
    "x^2-3\\ln|x|+\\frac{y^3}{x}=c\n",
    "$$"
   ]
  },
  {
   "cell_type": "markdown",
   "metadata": {},
   "source": [
    "**练习**    求积分因子"
   ]
  },
  {
   "cell_type": "markdown",
   "metadata": {},
   "source": [
    "1.$x\\mathrm d y-y\\mathrm d x-(1-x^2)\\mathrm d x=0$"
   ]
  },
  {
   "cell_type": "markdown",
   "metadata": {},
   "source": [
    "$$\\frac{1}{x^2}$$"
   ]
  },
  {
   "cell_type": "markdown",
   "metadata": {},
   "source": [
    "2.$~x^2\\frac{\\mathrm d y}{\\mathrm d x}+xy+\\sqrt {1-x^2y^2}=0$"
   ]
  },
  {
   "cell_type": "markdown",
   "metadata": {},
   "source": [
    "$$\\frac{1}{x\\sqrt {1-(xy)^2}}$$"
   ]
  },
  {
   "cell_type": "markdown",
   "metadata": {},
   "source": [
    "3.$~(x-y^2)\\mathrm d x+2xy\\mathrm d y=0$"
   ]
  },
  {
   "cell_type": "markdown",
   "metadata": {},
   "source": [
    "$$\\frac{1}{x^2}$$"
   ]
  },
  {
   "cell_type": "markdown",
   "metadata": {},
   "source": [
    "1.$x\\mathrm d y-y\\mathrm d x-(1-x^2)\\mathrm d x=0$"
   ]
  },
  {
   "cell_type": "markdown",
   "metadata": {},
   "source": [
    "**解:** 由观察法的$~~\\frac{1}{x^2}~~$为积分因子，故方程化为："
   ]
  },
  {
   "cell_type": "markdown",
   "metadata": {},
   "source": [
    "$$\\frac{x\\mathrm d y-y\\mathrm d x}{x^2}-(\\frac{1}{x^2}-1)\\mathrm d x=0$$"
   ]
  },
  {
   "cell_type": "markdown",
   "metadata": {},
   "source": [
    "$$\\mathrm d(\\frac{y}{x})+\\mathrm d(\\frac{1}{x}+x)=0$$\n"
   ]
  },
  {
   "cell_type": "markdown",
   "metadata": {},
   "source": [
    "$$\\frac{y}{x}+\\frac{1}{x}+x=C$$"
   ]
  },
  {
   "cell_type": "markdown",
   "metadata": {},
   "source": [
    "2.$~x^2\\frac{\\mathrm d y}{\\mathrm d x}+xy+\\sqrt {1-x^2y^2}=0$"
   ]
  },
  {
   "cell_type": "markdown",
   "metadata": {},
   "source": [
    "**解**：  将方程改为$\\quad x(x\\mathrm d y+y\\mathrm d x)+\\sqrt{1-x^2y^2}\\mathrm d x=0$"
   ]
  },
  {
   "cell_type": "markdown",
   "metadata": {},
   "source": [
    "$$x\\mathrm d(xy)+\\sqrt{1-x^2y^2}\\mathrm d x=0$$"
   ]
  },
  {
   "cell_type": "markdown",
   "metadata": {},
   "source": [
    "由观察得$~~\\mu=\\frac{1}{x\\sqrt{1-x^2y^2}}~~$为积分因子"
   ]
  },
  {
   "cell_type": "markdown",
   "metadata": {},
   "source": [
    "于是方程化为：$$\\frac{\\mathrm d(xy)}{\\sqrt{1-x^2y^2}}+\\frac{\\mathrm d x}{x}=0$$"
   ]
  },
  {
   "cell_type": "markdown",
   "metadata": {},
   "source": [
    "$$\\arcsin(xy)+\\ln|x|=C$$"
   ]
  },
  {
   "cell_type": "markdown",
   "metadata": {},
   "source": [
    "3.$~~(x-y^2)\\mathrm d x+2xy\\mathrm d y=0$"
   ]
  },
  {
   "cell_type": "markdown",
   "metadata": {},
   "source": [
    "**解**      $$x\\mathrm d x-(y^2\\mathrm d x-x\\mathrm d y^2)=0$$"
   ]
  },
  {
   "cell_type": "markdown",
   "metadata": {},
   "source": [
    "显然 $u=\\frac{1}{x^2}$ 是积分因子，于是方程可化为：$$\\frac{1}{x}\\mathrm d x+\\frac{x\\mathrm d y^2-y^2\\mathrm d x}{x^2}=0$$"
   ]
  },
  {
   "cell_type": "markdown",
   "metadata": {},
   "source": [
    "故通解为：$$\\ln|x|+\\frac{y^2}{x}=C$$"
   ]
  },
  {
   "cell_type": "markdown",
   "metadata": {},
   "source": [
    "## （2）公式法：利用积分因子满足的微分方程来求解积分因子。"
   ]
  },
  {
   "cell_type": "markdown",
   "metadata": {},
   "source": [
    "如果 $\\mu(x,y)$ 是方程 $M(x,y)\\mathrm d x+N(x,y)\\mathrm d y=0$ 的积分因子, 则\n",
    "$$\n",
    "\\mu(x,y)M(x,y)\\mathrm d x+\\mu(x,y)N(x,y)\\mathrm d y=0\n",
    "$$\n",
    "为恰当方程. 于是有\n",
    "$$\n",
    "\\frac{\\partial (\\mu M)}{\\partial y}\\equiv\\frac{\\partial (\\mu N)}{\\partial x}\n",
    "$$\n",
    "即 \n",
    "$$\n",
    "M\\frac{\\partial \\mu}{\\partial y}-N\\frac{\\partial \\mu}{\\partial x}+\\mu(\\frac{\\partial M}{\\partial y}-\\frac{\\partial N}{\\partial x})=0\n",
    "$$\n",
    "\n",
    "反过来，满足上式的函数 $\\mu(x,y)$ 一定是方程的积分因子。"
   ]
  },
  {
   "cell_type": "markdown",
   "metadata": {},
   "source": [
    "**定理:**\n",
    "若 $\\mu(x,y)$ 是方程的积分因子的充要条件 $\\mu(x,y)$ 满足\n",
    "$$\n",
    "M\\frac{\\partial \\mu}{\\partial y}-N\\frac{\\partial \\mu}{\\partial x}+\\mu(\\frac{\\partial M}{\\partial y}-\\frac{\\partial N}{\\partial x})=0\n",
    "$$"
   ]
  },
  {
   "cell_type": "markdown",
   "metadata": {},
   "source": [
    "**结论 1.** 若 $M(x,y)\\mathrm d x+N(x,y)\\mathrm d y=0$ 有只与 $x$ 有关的积分因子的充要条件是\n",
    "$$\n",
    "\\frac{1}{N}(\\frac{\\partial M}{\\partial y}-\\frac{\\partial N}{\\partial x})=\\psi(x)\n",
    "$$\n",
    "此时，\n",
    "$$\n",
    "\\mu(x,y)=e^{\\int\\psi(x)\\mathrm d x}\n",
    "$$"
   ]
  },
  {
   "cell_type": "markdown",
   "metadata": {},
   "source": [
    "这是因为\n",
    "$$\n",
    "\\begin{aligned}\n",
    "M\\frac{\\partial \\mu}{\\partial y}-N\\frac{\\partial \\mu}{\\partial x}+\\mu(\\frac{\\partial M}{\\partial y}-\\frac{\\partial N}{\\partial x}) & =0\\\\\n",
    "N\\frac{\\mathrm d \\mu}{\\mathrm d x}&=\\mu(\\frac{\\partial M}{\\partial y}-\\frac{\\partial N}{\\partial x})\\\\\n",
    "\\frac{1}{\\mu}\\frac{\\mathrm d\\mu}{\\mathrm d x}=\\frac{1}{N}(\\frac{\\partial M}{\\partial y}-\\frac{\\partial N}{\\partial x}) & :=\\psi(x)\\\\\n",
    "\\end{aligned}\n",
    "$$\n",
    "可得 \n",
    "$$\n",
    "\\mu(x, y)=e^{\\int \\psi(x)\\mathrm d x}\n",
    "$$"
   ]
  },
  {
   "cell_type": "markdown",
   "metadata": {},
   "source": [
    "反过来，可证 $e^{\\int \\psi(x)\\mathrm d x}$ 满足上述定理条件，且有只与 $x$ 有关的积分因子。"
   ]
  },
  {
   "cell_type": "markdown",
   "metadata": {},
   "source": [
    "**结论2：**若 $M(x,y)\\mathrm d x+N(x,y)\\mathrm d y=0$ 有只与 $y$ 有关的积分因子的充要条件是 \n",
    "$$-\\frac{1}{M}(\\frac{\\partial M}{\\partial y}-\\frac{\\partial N}{\\partial x})=\\Psi (y)$$  \n",
    "此时，$$\\mu(x,y)=e^{\\int\\Psi(y)\\mathrm d y}$$"
   ]
  },
  {
   "cell_type": "markdown",
   "metadata": {},
   "source": [
    "**思考：**推证方程有只与$~x\\pm y,xy,x^2\\pm y^2~$有关的积分因子的充要条件。 "
   ]
  },
  {
   "cell_type": "markdown",
   "metadata": {},
   "source": [
    "**例 3.** 试用积分因子法求解线性方程 $$\\frac{\\mathrm d y}{\\mathrm d x}=P(x)y+Q(x)$$"
   ]
  },
  {
   "cell_type": "markdown",
   "metadata": {},
   "source": [
    "**解:** \n",
    "$$\n",
    "(P(x)y+Q(x))\\mathrm d x-\\mathrm d y=0\n",
    "$$"
   ]
  },
  {
   "cell_type": "markdown",
   "metadata": {},
   "source": [
    "$$\n",
    "\\frac{\\partial M}{\\partial y}=P(x),\\frac{\\partial N}{\\partial x}=0\n",
    "$$"
   ]
  },
  {
   "cell_type": "markdown",
   "metadata": {},
   "source": [
    "$$\n",
    "\\frac{1}{N}(\\frac{\\partial M}{\\partial y}-\\frac{\\partial N}{\\partial x})=-P(x)\n",
    "$$"
   ]
  },
  {
   "cell_type": "markdown",
   "metadata": {},
   "source": [
    "$$\n",
    "\\mu(x,y)=e^{-\\int P(x)\\mathrm d x}\n",
    "$$"
   ]
  },
  {
   "cell_type": "markdown",
   "metadata": {},
   "source": [
    "$$e^{-\\int P(x)\\mathrm d x}(P(x)y+Q(x))\\mathrm d x-e^{-\\int P(x)}\\mathrm d y=0$$"
   ]
  },
  {
   "cell_type": "markdown",
   "metadata": {},
   "source": [
    "$$\\left(e^{-\\int P(x)\\mathrm d x}P(x)y\\mathrm d x-e^{-\\int P(x)\\mathrm d x}\\mathrm d y\\right)+Q(x)e^{-\\int P(x)}\\mathrm d x=0$$"
   ]
  },
  {
   "cell_type": "markdown",
   "metadata": {},
   "source": [
    "$$\\left(y\\mathrm de^{-\\int P(x)\\mathrm d x}+e^{-\\int P(x)\\mathrm d x}\\mathrm d y\\right)-Q(x)e^{-\\int P(x)\\mathrm d x}\\mathrm d x=0$$"
   ]
  },
  {
   "cell_type": "markdown",
   "metadata": {},
   "source": [
    "$$\n",
    "\\mathrm d\\left(ye^{-\\int P(x)\\mathrm d x}\\right)-\\mathrm d\\int Q(x)e^{-\\int P(x)\\mathrm d x}\\mathrm d x=0\n",
    "$$"
   ]
  },
  {
   "cell_type": "markdown",
   "metadata": {},
   "source": [
    "$$ye^{-\\int P(x)\\mathrm d x}-\\int Q(x)e^{-\\int P(x)\\mathrm d x}\\mathrm d x=c$$\n"
   ]
  },
  {
   "cell_type": "markdown",
   "metadata": {},
   "source": [
    "$$y=e^{\\int P(x)\\mathrm d x}(\\int Q(x)e^{-\\int P(x)\\mathrm d x}\\mathrm d x + c)$$"
   ]
  },
  {
   "cell_type": "markdown",
   "metadata": {},
   "source": [
    "## （3）分组组合法："
   ]
  },
  {
   "cell_type": "markdown",
   "metadata": {},
   "source": [
    "$$(M_1\\mathrm d x+N_1\\mathrm d y)+(M_2\\mathrm d x+N_2\\mathrm d y)=0$$"
   ]
  },
  {
   "cell_type": "markdown",
   "metadata": {},
   "source": [
    "$$\\mu_1(x,y)(M_1\\mathrm d x+N_1\\mathrm d y)=\\mathrm dU_1(x,y)$$"
   ]
  },
  {
   "cell_type": "markdown",
   "metadata": {},
   "source": [
    "$$\\mu_2(x,y)(M_2\\mathrm d x+N_2\\mathrm d y)=\\mathrm dU_2(x,y)$$"
   ]
  },
  {
   "cell_type": "markdown",
   "metadata": {},
   "source": [
    "$$\\mu_1(x,y)\\psi_1(U_1)~,\\mu_2(x,y)\\psi_2(U_2)$$"
   ]
  },
  {
   "cell_type": "markdown",
   "metadata": {},
   "source": [
    "寻求适当的 $\\psi_1(t)$ 和 $\\psi_2(t)$ 使得 \n",
    "$$\n",
    "\\mu_1(x,y)\\psi_1(U_1)=\\mu_2(x,y)\\psi_2(U_2)\n",
    "$$"
   ]
  },
  {
   "cell_type": "markdown",
   "metadata": {},
   "source": [
    "则原方程的积分因子 \n",
    "$$\n",
    "\\mu_1(x,y)\\psi_1(U_1)=\\mu_2(x,y)\\psi_2(U_2)\n",
    "$$"
   ]
  },
  {
   "cell_type": "markdown",
   "metadata": {},
   "source": [
    "**例 4.**    解方程 \n",
    "$$\n",
    "(x-y)\\mathrm d x+(x+y)\\mathrm d y=0\n",
    "$$"
   ]
  },
  {
   "cell_type": "markdown",
   "metadata": {},
   "source": [
    "**解**  因为 \n",
    "$$\n",
    "\\frac{\\partial M}{\\partial y}=-1,\\frac{\\partial N}{\\partial x}=1\n",
    "$$\n",
    "所以该方程不是恰当方程."
   ]
  },
  {
   "cell_type": "markdown",
   "metadata": {},
   "source": [
    "$$ \n",
    "(x\\mathrm d x+y\\mathrm d y)+(x\\mathrm d y-y\\mathrm d x)=0\n",
    "$$"
   ]
  },
  {
   "cell_type": "markdown",
   "metadata": {},
   "source": [
    "$$ \n",
    "\\frac{1}{2}(x\\mathrm d x+y\\mathrm d y)=\\mathrm d(x^2+y^2), \\quad \\mu_1(x,y)=\\frac{1}{2}\n",
    "$$"
   ]
  },
  {
   "cell_type": "markdown",
   "metadata": {},
   "source": [
    "$$\n",
    "\\frac{1}{x^2+y^2}(x\\mathrm d y-y\\mathrm d x)=\\mathrm d \\arctan \\frac{y}{x}, \\quad \\mu_2(x,y)=\\frac{1}{x^2+y^2}\n",
    "$$"
   ]
  },
  {
   "cell_type": "markdown",
   "metadata": {},
   "source": [
    "$$\n",
    "\\mu_1\\psi_1(x^2+y^2) = \\mu_2(x,y)\\psi_2(\\arctan\\frac{y}{x})\n",
    "$$\n",
    "$$\n",
    "\\psi_1(x^2+y^2) = \\frac{2}{x^2 + y^2}, \\quad \\psi_2(\\arctan\\frac{y}{x})=1\n",
    "$$"
   ]
  },
  {
   "cell_type": "markdown",
   "metadata": {},
   "source": [
    "所以最终的积分因子为：\n",
    "$$\n",
    "\\mu(x,y)=\\frac{1}{x^2+y^2}\n",
    "$$"
   ]
  },
  {
   "cell_type": "markdown",
   "metadata": {},
   "source": [
    "$$ \n",
    "(x\\mathrm d x+y\\mathrm d y)+(x\\mathrm d y-y\\mathrm d x)=0 \n",
    "$$"
   ]
  },
  {
   "cell_type": "markdown",
   "metadata": {},
   "source": [
    "$$\n",
    "\\frac{x\\mathrm d x+y\\mathrm d y}{x^2+y^2}+\\frac{x\\mathrm d y-y\\mathrm d x}{x^2+y^2}\n",
    "$$"
   ]
  },
  {
   "cell_type": "markdown",
   "metadata": {},
   "source": [
    "$$\n",
    "\\frac{1}{2}\\frac{\\mathrm d(x^2+y^2)}{x^2+y^2}+\\mathrm d\\arctan\\frac{y}{x}=0\n",
    "$$"
   ]
  },
  {
   "cell_type": "markdown",
   "metadata": {},
   "source": [
    "$$ \n",
    "\\ln\\sqrt{x^2+y^2}+\\arctan\\frac{y}{x}=c \n",
    "$$"
   ]
  },
  {
   "cell_type": "markdown",
   "metadata": {},
   "source": [
    "**练习**"
   ]
  },
  {
   "cell_type": "markdown",
   "metadata": {},
   "source": [
    "(1)$(x^2+y)\\mathrm d x+(x-2y)\\mathrm d y=0$"
   ]
  },
  {
   "cell_type": "markdown",
   "metadata": {},
   "source": [
    "(2)$2(3xy^2+2x^3)\\mathrm d x+3(2x^2y+y^2)\\mathrm d y=0$"
   ]
  },
  {
   "cell_type": "markdown",
   "metadata": {},
   "source": [
    "(3)$2x(ye^{x^2}-1)\\mathrm d x+e^{x^2}\\mathrm d y=0$"
   ]
  },
  {
   "cell_type": "markdown",
   "metadata": {},
   "source": [
    "(4)$(y-x^2)\\mathrm d x-x\\mathrm d y=0$"
   ]
  },
  {
   "cell_type": "markdown",
   "metadata": {},
   "source": [
    "**结论3：**若 $M(x,y)\\mathrm d x+N(x,y)\\mathrm d y=0$ 有只与 $x+y$ 有关的积分因子的充要条件是\n",
    "$$\n",
    "\\frac{1}{N-M}(\\frac {\\partial M}{\\partial y}-\\frac{\\partial N}{\\partial x})=\\psi (x+y)\n",
    "$$\n",
    "此时，\n",
    "$$ \n",
    "\\mu(x,y)=e^{\\int\\psi(x+y)\\mathrm d x}\n",
    "$$"
   ]
  },
  {
   "cell_type": "markdown",
   "metadata": {},
   "source": [
    "这是因为\n",
    "$$\n",
    "M\\frac{\\mathrm d\\mu}{\\mathrm dt}-N\\frac{\\mathrm d\\mu}{\\mathrm dt}+\\mu(\\frac{\\partial M}{\\partial y}-\\frac{\\partial N}{\\partial x})=0\n",
    "$$"
   ]
  },
  {
   "cell_type": "markdown",
   "metadata": {},
   "source": [
    "$$\n",
    "M\\frac{\\mathrm d\\mu}{\\mathrm dt}-N\\frac{\\mathrm d\\mu}{\\mathrm dt}=-\\mu(\\frac{\\partial M}{\\partial y}-\\frac{\\partial N}{\\partial x})\n",
    "$$"
   ]
  },
  {
   "cell_type": "markdown",
   "metadata": {},
   "source": [
    "$$\n",
    "\\mu(x,y)=e^{\\int \\psi(t)\\mathrm dt}\n",
    "$$"
   ]
  },
  {
   "cell_type": "markdown",
   "metadata": {},
   "source": [
    "$$\n",
    "\\frac{1}{\\mu}\\frac{\\mathrm d\\mu}{\\mathrm dt}=\\frac{1}{N-M}(\\frac{\\partial M}{\\partial y}-\\frac{\\partial N}{\\partial x})=\\psi(x+y)\\doteq \\psi(t) (x+y\\doteq t)\n",
    "$$"
   ]
  },
  {
   "cell_type": "markdown",
   "metadata": {},
   "source": [
    "**结论4：**若 $M(x,y)\\mathrm d x+N(x,y)\\mathrm d y=0$ 有只与 $xy$ 有关的积分因子的充要条件是\n",
    "$$\n",
    "\\frac{1}{Ny-Mx}(\\frac {\\partial M}{\\partial y}-\\frac{\\partial N}{\\partial x})=\\psi (xy)\n",
    "$$\n",
    "此时，\n",
    "$$\n",
    "\\mu(x,y)=e^{\\int\\psi(xy)\\mathrm d x}\n",
    "$$"
   ]
  },
  {
   "cell_type": "markdown",
   "metadata": {},
   "source": [
    "这是因为$$~Mx\\frac{\\partial \\mu}{\\partial t}-Ny\\frac{\\partial \\mu}{\\mathrm dt}+\\mu(\\frac{\\partial M}{\\partial y}-\\frac{\\partial N}{\\partial x})=0\\quad(2.58)$$\n"
   ]
  },
  {
   "cell_type": "markdown",
   "metadata": {},
   "source": [
    "$$\n",
    "Mx\\frac{\\partial \\mu}{\\partial t}-Ny\\frac{\\partial \\mu}{\\mathrm dt}=-\\mu(\\frac{\\partial M}{\\partial y}-\\frac{\\partial N}{\\partial x}),\n",
    "$$"
   ]
  },
  {
   "cell_type": "markdown",
   "metadata": {},
   "source": [
    "$$\n",
    "\\mu(x,y)=e^{\\int \\psi(t)\\mathrm dt}\n",
    "$$"
   ]
  },
  {
   "cell_type": "markdown",
   "metadata": {},
   "source": [
    "$$\n",
    "\\frac{1}{\\mu}\\frac{\\mathrm d\\mu}{\\mathrm dt}=\\frac{1}{Ny-Mx}(\\frac{\\partial M}{\\partial y}-\\frac{\\partial N}{\\partial x})=\\psi(xy)\\doteq \\psi(t)\\quad(xy\\doteq t)\n",
    "$$"
   ]
  },
  {
   "cell_type": "markdown",
   "metadata": {},
   "source": [
    "# 小结 /Conclusion/#"
   ]
  },
  {
   "cell_type": "markdown",
   "metadata": {},
   "source": [
    "* 恰当方程$\\begin{cases}恰当方程的判断定理\\\\\n",
    "        恰当方程的求解方法\n",
    "        \\end{cases}\n",
    "        $"
   ]
  },
  {
   "cell_type": "markdown",
   "metadata": {},
   "source": [
    "积分因子$\\begin{cases}积分因子的意义\\\\\n",
    "           寻求积分因子的方法\n",
    "           \\end{cases}\n",
    "           $"
   ]
  },
  {
   "cell_type": "markdown",
   "metadata": {},
   "source": [
    "\n"
   ]
  },
  {
   "cell_type": "markdown",
   "metadata": {
    "collapsed": true
   },
   "source": [
    "# 作业\n",
    "\n",
    "P60. 1. (3), (5); 2. (6), (9), (11); 4; 6; 9;\n"
   ]
  },
  {
   "cell_type": "code",
   "execution_count": null,
   "metadata": {
    "collapsed": true
   },
   "outputs": [],
   "source": []
  }
 ],
 "metadata": {
  "kernelspec": {
   "display_name": "Python 3",
   "language": "python",
   "name": "python3"
  },
  "language_info": {
   "codemirror_mode": {
    "name": "ipython",
    "version": 3
   },
   "file_extension": ".py",
   "mimetype": "text/x-python",
   "name": "python",
   "nbconvert_exporter": "python",
   "pygments_lexer": "ipython3",
   "version": "3.5.2"
  },
  "latex_envs": {
   "LaTeX_envs_menu_present": true,
   "bibliofile": "biblio.bib",
   "cite_by": "apalike",
   "current_citInitial": 1,
   "eqLabelWithNumbers": true,
   "eqNumInitial": 0
  }
 },
 "nbformat": 4,
 "nbformat_minor": 0
}
