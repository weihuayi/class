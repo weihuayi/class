{
 "cells": [
  {
   "cell_type": "markdown",
   "metadata": {},
   "source": [
    "## 第五章 线性微分方程组/Linear ODEs/"
   ]
  },
  {
   "cell_type": "markdown",
   "metadata": {},
   "source": [
    "### 本章主要内容 / Main Contents /\n",
    "\n",
    "    § 5.1 线性微分方程组解的存在唯一性定理    \n",
    "    § 5.2 线性微分方程组的一般理论    \n",
    "    § 5.3 常系数线性方程组的解法"
   ]
  },
  {
   "cell_type": "markdown",
   "metadata": {},
   "source": [
    "### 本章要求 / Requirements /\n",
    "\n",
    "* 理解线性微分方程组解的存在唯一性定理.\n",
    "* 掌握高阶线性微分方程与线性微分方程组的关系.\n",
    "* 掌握线性微分方程组的解的代数结构.\n",
    "* 熟练掌握常系数齐次线性微分方程组基解矩阵的求法与计算."
   ]
  }
 ],
 "metadata": {
  "kernelspec": {
   "display_name": "Python 3",
   "language": "python",
   "name": "python3"
  },
  "language_info": {
   "codemirror_mode": {
    "name": "ipython",
    "version": 3
   },
   "file_extension": ".py",
   "mimetype": "text/x-python",
   "name": "python",
   "nbconvert_exporter": "python",
   "pygments_lexer": "ipython3",
   "version": "3.5.2"
  },
  "latex_envs": {
   "bibliofile": "biblio.bib",
   "cite_by": "apalike",
   "current_citInitial": 1,
   "eqLabelWithNumbers": true,
   "eqNumInitial": 0
  }
 },
 "nbformat": 4,
 "nbformat_minor": 0
}
