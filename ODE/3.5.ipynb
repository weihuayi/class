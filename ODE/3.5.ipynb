{
 "cells": [
  {
   "cell_type": "markdown",
   "metadata": {},
   "source": [
    "# 3.5数值解"
   ]
  },
  {
   "cell_type": "markdown",
   "metadata": {},
   "source": [
    "在工程和科学计算中, 所建立的各种常微分方程的初值或边值问题, 除很少几类的特殊方程能给出解析解, 绝大多数方程是很难甚至不可能给出解析解的,　其主要原因在于积分工具的局限性. 因此, 人们转向用数值方法去解常微分方程, 并获得相当大的成功, 讨论和研究常微分方程的数值解法是有重要意义."
   ]
  },
  {
   "cell_type": "markdown",
   "metadata": {},
   "source": [
    "## 一阶常微分方程的初值问题"
   ]
  },
  {
   "cell_type": "markdown",
   "metadata": {},
   "source": [
    "$$\n",
    "\\begin{cases}\n",
    "y'(x) = f(x,y(x)),x \\in(a,b)\\\\\n",
    "y(a) = y_0\n",
    "\\end{cases}\n",
    "$$\n",
    "\n",
    "**注:** 若 $f$ 在 $D =\\{a\\leq x\\leq b,\\left|y\\right|<+\\infty\\}$ 内连续, 且满足 Lipschitz 条件, $\\exists L \\geq 0$, 使\n",
    "\n",
    "$$\n",
    "\\left|f(x,y_1)-f(x,y_2)\\right|\\leq L\\left|y_1-y_2\\right| \n",
    "$$ \n",
    "\n",
    "则\n",
    "\n",
    "$$\n",
    "\\begin{cases}\n",
    "y'(x) = f(x,y(x)), x \\in(a,b)\\\\\n",
    "y(a) = y_0\n",
    "\\end{cases}\n",
    "$$\n",
    "\n",
    "的连续可微解 $y(x)$ 在 $[a,b]$ 上唯一存在."
   ]
  },
  {
   "cell_type": "markdown",
   "metadata": {},
   "source": [
    "## 初值问题的数值解"
   ]
  },
  {
   "cell_type": "markdown",
   "metadata": {},
   "source": [
    "设 $y(x)$ 为方程\n",
    "\n",
    "$$\n",
    "\\begin{cases}\n",
    "y'(x) = f(x,y(x))\\\\\n",
    "y(x_0) = y_0\n",
    "\\end{cases}\n",
    "$$\n",
    "\n",
    "的解。 从初值条件 $y(x_0) = y_0$ 出发，按照一定的步长 $h$， 依某种方法逐步计算微分方程解 $y(x)$ 在节点 $x_i$ 处的近似值 $y_i\\approx y(x_i)$, 其中 $x_i = x_0 + i\\cdot h$, 这样求出的解称为微分方程的**数值解**, 其求解方法称为**数值方法**."
   ]
  },
  {
   "cell_type": "markdown",
   "metadata": {},
   "source": [
    "## 初值问题数值解法的构造及其精度"
   ]
  },
  {
   "cell_type": "markdown",
   "metadata": {},
   "source": [
    "### 欧拉方法"
   ]
  },
  {
   "cell_type": "markdown",
   "metadata": {},
   "source": [
    "对于 \n",
    "\n",
    "$$\n",
    "\\begin{cases}\n",
    "y'(x) = f(x,y(x)),x \\in(x_0, x_n)\\\\\n",
    "y(x_0) = y_0\n",
    "\\end{cases}\n",
    "$$\n",
    "\n",
    "把区域 $（x_0, x_n) $ 平均分成 $n$ 段， 每段长度为 $h = \\frac{x_n - x_0}{n}$, 用数值方法**近似**求解节点 $x_i$ 上的函数值 $y(x_i)$, 其中 $i=1, 2, \\cdots, n$. \n",
    "\n",
    "可借助\n",
    "\n",
    "* **Taylor 展开(导数法)**\n",
    "* **差商法**\n",
    "* **积分法**\n",
    "\n",
    "构造相应的数值求解公式。"
   ]
  },
  {
   "cell_type": "markdown",
   "metadata": {},
   "source": [
    "#### Taylor 展开(导数法)"
   ]
  },
  {
   "cell_type": "markdown",
   "metadata": {},
   "source": [
    "设 $y\\in C[a，b]$ 将 $y(x_{i+1}) = y(x_{i}+h)$ 在 $x_i$ 处展开\n",
    "\n",
    "$$\n",
    "\\begin{align}\n",
    "y(x_{i+1}) &= y(x_i) +hy'(x_i) +\\frac{h^2}{2}y''(x_i)+\\cdots \\\\\n",
    "&=y(x_i)+hf(x_i,y(x_i))+O(h^2)\\\\\n",
    "&= y_{i+1}  + O(h^2),\n",
    "\\end{align}\n",
    "$$\n",
    "\n",
    "其中记\n",
    "\n",
    "$$y_{i+1} = y(x_i)+hf(x_i,y(x_i)),$$\n",
    "\n",
    "此公式即为**欧拉公式**(注意这个公式是**显式**的）。 因此， 欧拉公式的**局部截断误差**为\n",
    "\n",
    "$$\n",
    "y(x_{i+1}) - y_{i+1} = O(h^2)\n",
    "$$"
   ]
  },
  {
   "cell_type": "markdown",
   "metadata": {},
   "source": [
    "如果一种方法， 其局部截断误差为步长 $h$ 的 $O(h^{p+1})$, 则称该方法有 **$p$ 阶精度**。因此， 欧拉方法有 1 阶精度。 "
   ]
  },
  {
   "cell_type": "markdown",
   "metadata": {},
   "source": [
    "#### 差商法"
   ]
  },
  {
   "cell_type": "markdown",
   "metadata": {},
   "source": [
    "$$\n",
    "\\frac{y(x_{i+１})-y(x_i)}{h} \\approx y'(x_i)\n",
    "$$\n",
    "\n",
    "得差分方程\n",
    "\n",
    "$$\n",
    "\\frac{y_{i+1}-y_i}{h} = f(x_i,y_i)\n",
    "$$\n",
    "\n",
    "$\\Rightarrow$  $y_{i+1} = y_i+hf(x_i,y_i)$. 也可得到 **显式 Euler 公式**."
   ]
  },
  {
   "cell_type": "markdown",
   "metadata": {},
   "source": [
    "若记 \n",
    "\n",
    "$$\n",
    "\\frac{y(x_{i+１})-y(x_i)}{h} \\approx y'(x_{i+1}) = f(x_{i+1}，y(x_{i+1}))\n",
    "$$\n",
    "\n",
    "可得 **隐式 Euler 公式**\n",
    "\n",
    "$$\n",
    "y_{i+1} = y_i+hf(x_{i+1}，y_{i+1}).\n",
    "$$"
   ]
  },
  {
   "cell_type": "markdown",
   "metadata": {},
   "source": [
    "可用定点迭代法， 求出 $y_{i+1}$:\n",
    "$$\n",
    "y_{i+1}^{(k+1)} = y_i + hf (x_{i+1}，y_{i+1}^{(k)}),k = 0,1,2,\\cdots, \n",
    "$$\n",
    "\n",
    "其中 $y_{i+1}^{(0)} = y_i + hf (x_i，y_i)$."
   ]
  },
  {
   "cell_type": "markdown",
   "metadata": {},
   "source": [
    "#### 积分法"
   ]
  },
  {
   "cell_type": "markdown",
   "metadata": {},
   "source": [
    "对\n",
    "\n",
    "$$\n",
    "\\begin{cases}\n",
    "y'(x) = f(x,y(x)),x \\in(a,b)\\\\\n",
    "y(a) = y_0\n",
    "\\end{cases}\n",
    "$$\n",
    "\n",
    "两边取积分得\n",
    "\n",
    "$$\n",
    "y(x_{i+1})= y({x_i}) +\\int_{x_i}^{x_{i+1}}f(x,y(x))\\mathrm d{x}\n",
    "$$"
   ]
  },
  {
   "cell_type": "markdown",
   "metadata": {},
   "source": [
    "取不同的数值积分可得不同的求解公式, 如"
   ]
  },
  {
   "cell_type": "markdown",
   "metadata": {},
   "source": [
    "１) 用矩形公式："
   ]
  },
  {
   "cell_type": "markdown",
   "metadata": {},
   "source": [
    "$$\n",
    "\\int_{x_i}^{x_{i+1}}f(x,y(x))\\approx hf(x_i,y(x_i)) \\approx hf(x_{i+1},y(x_{i+1}))\n",
    "$$\n",
    "\n",
    "可得上面的**欧拉公式**：\n",
    "$$\n",
    "y_{i+1} = y_i+h f(x_i,y_i)\n",
    "$$\n",
    "\n",
    "$$\n",
    "y_{i+1} = y_i+hf(x_{i+1}，y_{i+1})\n",
    "$$"
   ]
  },
  {
   "cell_type": "markdown",
   "metadata": {},
   "source": [
    "2) 用梯形公式"
   ]
  },
  {
   "cell_type": "markdown",
   "metadata": {},
   "source": [
    "$$\n",
    "y(x_{i+1}) - y(x_i) = \\int_{x_i}^{x_{i+1}}f(x,y(x)) \\mathrm d{x} \\approx \\frac{h}{2}\\left[f(x_i,y(x_i))+f(x_{i+1},y(x_{i+1}))\\right] \n",
    "$$"
   ]
  },
  {
   "cell_type": "markdown",
   "metadata": {},
   "source": [
    "$\\Rightarrow$  \n",
    "\n",
    "$$\n",
    "y(x_{i+1}) \\approx  y(x_i)+\\frac{h}{2}\\left[f(x_i,y(x_i))+f(x_{i+1},y(x_{i+1}))\\right]\n",
    "$$\n",
    "\n",
    "$\\Rightarrow$ \n",
    "\n",
    "$$\n",
    "y_{i+1} = y_i +\\frac{h}{2}\\left[f(x_i,y_i)+f(x_{i+1},y(x_{i+1}))\\right]\n",
    "$$\n",
    "\n",
    "\n",
    "称 \n",
    "\n",
    "$$\n",
    "y_{i+1} = y_i +\\frac{h}{2}\\left[f(x_i,y_i)+f(x_{i+1},y(x_{i+1}))\\right]\n",
    "$$\n",
    "\n",
    "为 **梯形公式**, 易知它为隐式公式。可以做如下的**显化**处理，得到一个更易计算的公式。"
   ]
  },
  {
   "cell_type": "markdown",
   "metadata": {},
   "source": [
    "$$\n",
    "\\bar{y}_{i+1} = y_i+hf(x_i,y_i) \\text{ 预估}\n",
    "$$\n",
    "\n",
    "$$\n",
    "y_{i+1} = y_i + \\frac{h}{2}\\left[f(x_i,y_i)+f(x_{i+1},\\bar{y}_{i+1})\\right] \\text{ 校正}\n",
    "$$\n",
    "\n",
    "\n",
    "为**改进的（显式）Euler法**. 下面给出相应的误差分析："
   ]
  },
  {
   "cell_type": "markdown",
   "metadata": {},
   "source": [
    "$$\n",
    "\\begin{aligned}\n",
    "y(x_i + \\frac{h}{2}) = & y(x_i) + \\frac{h}{2}y'(x_i) + \\frac{h^2}{8}y''(x_i) + O(h^3)\\\\\n",
    "y(x_{i+1} - \\frac{h}{2}) = & y(x_{i+1}) - \\frac{h}{2}y'(x_{i+1})+ \\frac{h^2}{8}y''(x_{i+1}) + O(h^3)\\\\\n",
    "y''(x_{i+1}) = & y''(x_i+h) = y''(x_i) + h y'''(\\eta)\n",
    "\\end{aligned}\n",
    "$$"
   ]
  },
  {
   "cell_type": "markdown",
   "metadata": {},
   "source": [
    "$$\n",
    "\\begin{aligned}\n",
    "y(x_{i+1}) =& y(x_i) + \\frac{h}{2}\\left[y'(x_i) + y'(x_{i+1})\\right] + O(h^3)\\\\\n",
    "=& y(x_i) + \\frac{h}{2}\\left[f(x_i, y(x_i)) + f(x_{i+1}, y(x_{i+1}))\\right] + O(h^3)\\\\\n",
    "=& y(x_i) + \\frac{h}{2}\\left[f(x_i, y(x_i)) + f(x_{i+1}, \\bar y_{i+1})\\right] + \\frac{h}{2}\\left[f(x_{i+1}, y(x_{i+1})) - f(x_{i+1}, \\bar y_{i+1})\\right] + O(h^3)\\\\\n",
    "\\end{aligned}\n",
    "$$"
   ]
  },
  {
   "cell_type": "markdown",
   "metadata": {},
   "source": [
    "**注：** 上述方法的几何意义？"
   ]
  },
  {
   "cell_type": "markdown",
   "metadata": {},
   "source": [
    "### Runge——kutta方法"
   ]
  },
  {
   "cell_type": "markdown",
   "metadata": {},
   "source": [
    "给定微分方程的积分形式：\n",
    "$$\n",
    "y(x_{i+1}) = y(x_i) +\\int_{x_i}^{x_{i+1}} f(x,y(x)) \\mathrm d{x}\n",
    "$$\n",
    "由积分中值定理可得， 存在 $\\xi \\in [x_{i}, x_{i+1}]$, 有\n",
    "$$\n",
    "y(x_{i+1}) = y(x_i) +hf(\\xi,y(\\xi)) := y(x_i) +hK_{\\xi} \n",
    "$$\n",
    "\n",
    "其中 \n",
    "$$ K_{\\xi} = f(\\xi,y(\\xi)) $$\n",
    "\n",
    "称为 $y(x)$ 在 $[x_i,x_{i+1}]$ 上的平均斜率. \n",
    "\n",
    "若 $ K_{\\xi} $ 近似取 \n",
    "* $f(x_i,y(x_{i}))$ ——Euler 公式\n",
    "* $f(x_{i+1},y(x_{i+1}))$ ——向后 Euler 公式一阶精度\n",
    "* $\\frac{1}{2}\\left[f(x_i,y(x_{i+1}))+f(x_{i+1},y(x_{i+1}))\\right]$ ——梯形公式　二阶精度\n",
    "\n",
    "**猜想:** 若能多预测几个点的斜率, 再取其加权平均作为 $K_{\\xi}$, 可望得到较高精度的数值解. "
   ]
  },
  {
   "cell_type": "markdown",
   "metadata": {},
   "source": [
    "比如构造 $r$ 个斜率 $k_1, k_2,\\cdots, k_l$, 做加权平均得如下公式：\n",
    "\n",
    "$$\n",
    "y_{i+1} = y_{i} + h \\sum_{l=1}^r \\lambda_l k_l\n",
    "$$\n",
    "\n",
    "取 $k_1 = f(x_i, y_i)$, 然后逐步递推\n",
    "$$\n",
    "k_l = f(x_i + d_lh, y_i + h\\sum_{s=1}^{l-1}\\beta_{ls}k_s),\\, l= 2, 3, \\cdots, r.\n",
    "$$\n",
    "\n",
    "其中 $\\lambda_l$, $d_l$, $\\beta_{ls}$ 都是特定的系数， 上面就称为 $r$ 阶的**龙格-库塔（Runge-Kutta）公式**."
   ]
  },
  {
   "cell_type": "markdown",
   "metadata": {},
   "source": [
    "$$\n",
    "\\begin{cases}\n",
    "y_{i+1} = y_i +h\\sum\\limits_{l=1}^{r}\\lambda_lk_l\\\\\n",
    "k_1 = f(x_i,y_i)\\\\\n",
    "k_l = f(x_i+d_lh,y_i+h\\sum\\limits_{s =1}^{l-1}\\beta_{ls}k_s), 2\\leq l\\leq r\n",
    "\\end{cases}\n",
    "$$\n",
    "\n",
    "其中 $k_l$ 为 $y = y(x)$ 在 $x_i+d_lh$ $(0\\leq d_l\\leq 1)$ 处的斜率预测值, $\\lambda_l$, $d_l$, $\\beta_{ls}$ 都是特定的系数."
   ]
  },
  {
   "cell_type": "markdown",
   "metadata": {},
   "source": [
    "下面讨论如何确定公式中的系数, 以二阶为例:"
   ]
  }
 ],
 "metadata": {
  "kernelspec": {
   "display_name": "Python 3",
   "language": "python",
   "name": "python3"
  },
  "language_info": {
   "codemirror_mode": {
    "name": "ipython",
    "version": 3
   },
   "file_extension": ".py",
   "mimetype": "text/x-python",
   "name": "python",
   "nbconvert_exporter": "python",
   "pygments_lexer": "ipython3",
   "version": "3.5.2"
  },
  "latex_envs": {
   "bibliofile": "biblio.bib",
   "cite_by": "apalike",
   "current_citInitial": 1,
   "eqLabelWithNumbers": true,
   "eqNumInitial": 0
  }
 },
 "nbformat": 4,
 "nbformat_minor": 2
}
