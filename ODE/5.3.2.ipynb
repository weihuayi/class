{
 "cells": [
  {
   "cell_type": "markdown",
   "metadata": {},
   "source": [
    "## 5.3.3 拉普拉斯变换的应用"
   ]
  },
  {
   "cell_type": "markdown",
   "metadata": {},
   "source": [
    "定义\n",
    "\n",
    "$$\n",
    "\\mathbf F(s)=L[\\mathbf f(t)]=\\int_0^{+\\infty}e^{-st}\\mathbf f(t){\\mathrm d t}\n",
    "$$\n",
    "\n",
    "这里 $\\mathbf f(t)$ 是 $n$ 维向量函数，要求它的每一个分量,都存在拉普拉斯变换."
   ]
  },
  {
   "cell_type": "markdown",
   "metadata": {},
   "source": [
    "**定理 12** 如果对向量函数 $\\mathbf f(t)$ ,存在常数 $M>0$ 和　$\\sigma>0$ 使不等式\n",
    "\n",
    "$$\n",
    "\\| \\mathbf f(t)\\|\\leq Me^{\\sigma t}\n",
    "$$\n",
    "\n",
    "对所有充分大的 $t$ 成立，则初值问题\n",
    "\n",
    "$$\n",
    "\\mathbf x'=\\mathbf A\\mathbf x+\\mathbf f(t),\\quad x(0)=\\eta\n",
    "$$\n",
    "\n",
    "的解 $\\mathbf \\varphi(t)$ 及其导数 $\\mathbf \\varphi(t)'$ 均和  $\\mathbf f(t)$ 一样满足类似\n",
    "\n",
    "$$\n",
    "\\|\\mathbf f(t)\\|\\leq Me^{\\sigma t}\n",
    "$$\n",
    "\n",
    "的不等式， 从而它们的拉普拉斯变换都存在."
   ]
  },
  {
   "cell_type": "markdown",
   "metadata": {},
   "source": [
    "**例$12$**试求方程组\n",
    "\n",
    "$$\n",
    "\\begin{cases}\n",
    "x_1'=2x_1+x_2 \\\\\n",
    "x_2'=-x_1+4x_2\\\\\n",
    "\\end{cases}\n",
    "$$\n",
    "\n",
    "满足初始条件 $\\varphi_1(0)=0$, $\\varphi_2(0)=1$ 的解 $(\\varphi_1(t),\\varphi_2(t))$, 和满足初值条件 $\\psi_1(0)=1,\\psi_2(0)=0 $ 的 $(\\psi_1(t),\\psi_2(t))$， 并求出它的基解矩阵."
   ]
  },
  {
   "cell_type": "markdown",
   "metadata": {},
   "source": [
    "**解：** $\\quad$ 令\n",
    "\n",
    "$$\n",
    "X_1(s)=L[x_1(t)],X_2(s)=L[x_2(t)]\n",
    "$$\n",
    "\n",
    "假设　$x_1=\\varphi_1(t)$ , $x_2=\\varphi_2(t)$ 满足微分方程组对方程组施行拉普拉斯变换,有:\n",
    "\n",
    "$$\n",
    "\\begin{cases}\n",
    "sX_1(s)-\\varphi_1(0)=2X_1(s)+X_2(s)\\\\\n",
    "sX_2(s)-\\varphi_2(0)=-X_1(s)+4X_2(s)\\\\\n",
    "\\end{cases}\n",
    "$$\n",
    "\n",
    "即\n",
    "\n",
    "$$\n",
    "\\begin{cases}\n",
    "(s-2)X_1(s)-X_2(s)=\\varphi_1(0)=0\\\\\n",
    "X_1(s)+(s-4)X_2(s)=\\varphi_2(0)=1\\\\\n",
    "\\end{cases}\n",
    "$$\n",
    "\n",
    "解出　$X_1(s)$ , $X_2(s)$ 有:\n",
    "\n",
    "$$\n",
    "X_1(s)=\\frac{1}{(s-3)^2},X_2(s)=\\frac{s-2}{(s-3)^2}=\\frac{1}{s-3}+\\frac{1}{(s-3)^2}\n",
    "$$\n",
    "\n",
    "取反变换，得:\n",
    "\n",
    "$$\n",
    "\\varphi_1(t)=te^{3t},\\varphi_2(t)=e^{3t}+te^{3t}=(1+t)e^{3t}\n",
    "$$\n",
    "\n",
    "为了寻求基解矩阵，再求满足初始条件\n",
    "\n",
    "$$\n",
    "\\psi_1(0)=1,\\psi_2(0)=0\n",
    "$$\n",
    "\n",
    "的解 $(\\psi_1(t),\\psi_2(t))$\n",
    "\n",
    "$$\n",
    "\\begin{cases}\n",
    "(s-2)X_1(s)-X_2(s)=\\psi_1(0)=1\\\\\n",
    "X_1(s)+(s-4)X_2(s)=\\psi_2(0)=0\\\\\n",
    "\\end{cases}\n",
    "$$\n",
    "\n",
    "其解为:\n",
    "\n",
    "$$\n",
    "X_1(s)=\\frac{s-4}{(s-3)^2}=\\frac{1}{s-3}-\\frac{1}{(s-3)^2},X_2(s)=-\\frac{1}{(s-3)^2}\n",
    "$$\n",
    "\n",
    "$$\n",
    "\\psi_1(t)=(1-t)e^{3t},\\psi_2(t)=-te^{3t}\n",
    "$$\n",
    "\n",
    "基解矩阵是\n",
    "\n",
    "$$\n",
    "\\Phi(t)=\n",
    "\\left[\n",
    "\\begin{matrix}\n",
    "\\psi_1(t)&\\varphi_1(t)\\\\\n",
    "\\psi_2(t)&\\varphi_2(t)\\\\\n",
    "\\end{matrix}\n",
    "\\right]=e^{3t}\n",
    "\\left[\n",
    "\\begin{matrix}\n",
    "1-t&t\\\\\n",
    "-t&1+t\\\\\n",
    "\\end{matrix}\n",
    "\\right]\n",
    "$$"
   ]
  },
  {
   "cell_type": "markdown",
   "metadata": {},
   "source": [
    "*  应用拉普拉斯变换可以将求解线性微分方程组的问题转化为求解线性代数方程组的问题.\n",
    "*  应用拉普拉斯变换还可以直接解高阶的常系数线性微分方程，不必先化为一阶的常系数线性微分方程组.\n",
    "*  拉普拉斯变换提供了一种寻求常系数线性微分方程组\n",
    "$$\n",
    "\\mathbf x'=\\mathbf A\\mathbf x\n",
    "$$\n",
    "的基解矩阵的又一种方法."
   ]
  }
 ],
 "metadata": {
  "kernelspec": {
   "display_name": "Python 3",
   "language": "python",
   "name": "python3"
  },
  "language_info": {
   "codemirror_mode": {
    "name": "ipython",
    "version": 3
   },
   "file_extension": ".py",
   "mimetype": "text/x-python",
   "name": "python",
   "nbconvert_exporter": "python",
   "pygments_lexer": "ipython3",
   "version": "3.5.2"
  },
  "latex_envs": {
   "bibliofile": "biblio.bib",
   "cite_by": "apalike",
   "current_citInitial": 1,
   "eqLabelWithNumbers": true,
   "eqNumInitial": 0
  }
 },
 "nbformat": 4,
 "nbformat_minor": 0
}
