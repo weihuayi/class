{
 "cells": [
  {
   "cell_type": "markdown",
   "metadata": {},
   "source": [
    "# SymPy  入门简介"
   ]
  },
  {
   "cell_type": "markdown",
   "metadata": {},
   "source": [
    "SymPy 是 Python 的数学符号计算库，用它可以进行数学公式的符号推导。 为了调用方便，下面所有的实例程序都假设事先从sympy库导入了所有内容："
   ]
  },
  {
   "cell_type": "code",
   "execution_count": 1,
   "metadata": {
    "collapsed": false
   },
   "outputs": [],
   "source": [
    "from sympy import * # 导入 sympy 中的所有功能\n",
    "init_printing(use_latex=True) \n",
    "from IPython.display import display # 显示公式"
   ]
  },
  {
   "cell_type": "markdown",
   "metadata": {},
   "source": [
    "## 核心功能"
   ]
  },
  {
   "cell_type": "markdown",
   "metadata": {},
   "source": [
    "* 基本算术运算： \n",
    "    + 加法： +\n",
    "    + 减法： -\n",
    "    + 乘法： *\n",
    "    + 除法： /\n",
    "    + 幂次： **\n",
    "* 化简（Simplication）\n",
    "* 展开（Expansion)\n",
    "* 常用初等函数\n",
    "* 替换 （substitution)\n",
    "* 任意精度的整数， 有理数和浮点数\n",
    "* ......\n",
    "\n",
    "另外， 还包括：\n",
    "\n",
    "* 多项式\n",
    "* 微积分\n",
    "* 方程求解\n",
    "* 离散数学\n",
    "* 矩阵 \n",
    "* 几何\n",
    "* 画图\n",
    "* 物理\n",
    "* 统计\n",
    "* 组合数学\n",
    "* 数学公式显示"
   ]
  },
  {
   "cell_type": "markdown",
   "metadata": {},
   "source": [
    "## 示例"
   ]
  },
  {
   "cell_type": "markdown",
   "metadata": {},
   "source": [
    "定义数学符号和函数： "
   ]
  },
  {
   "cell_type": "code",
   "execution_count": 2,
   "metadata": {
    "collapsed": false
   },
   "outputs": [
    {
     "data": {
      "image/png": "[encoded data removed]",
      "text/latex": [
       "$$x e^{x}$$"
      ],
      "text/plain": [
       "   x\n",
       "x⋅ℯ "
      ]
     },
     "metadata": {},
     "output_type": "display_data"
    }
   ],
   "source": [
    "x = Symbol('x')\n",
    "y = Symbol('y')\n",
    "f = Function('f')\n",
    "display(x*exp(x))"
   ]
  },
  {
   "cell_type": "code",
   "execution_count": 4,
   "metadata": {
    "collapsed": false
   },
   "outputs": [
    {
     "data": {
      "image/png": "[encoded data removed]",
      "text/latex": [
       "$$\\int f{\\left (x \\right )}\\, dx$$"
      ],
      "text/plain": [
       "⌠        \n",
       "⎮ f(x) dx\n",
       "⌡        "
      ]
     },
     "metadata": {},
     "output_type": "display_data"
    }
   ],
   "source": [
    "display(Integral(f(x), x))"
   ]
  },
  {
   "cell_type": "code",
   "execution_count": 5,
   "metadata": {
    "collapsed": false
   },
   "outputs": [
    {
     "data": {
      "image/png": "[encoded data removed]",
      "text/latex": [
       "$$\\sqrt[4]{e^{x}}$$"
      ],
      "text/plain": [
       "   ____\n",
       "4 ╱  x \n",
       "╲╱  ℯ  "
      ]
     },
     "metadata": {},
     "output_type": "display_data"
    }
   ],
   "source": [
    "display(sqrt(sqrt(exp(x))))"
   ]
  },
  {
   "cell_type": "code",
   "execution_count": 6,
   "metadata": {
    "collapsed": false
   },
   "outputs": [
    {
     "data": {
      "image/png": "[encoded data removed]",
      "text/latex": [
       "$$1 + \\frac{x^{2}}{2} + \\frac{5 x^{4}}{24} + \\frac{61 x^{6}}{720} + \\frac{277 x^{8}}{8064} + \\mathcal{O}\\left(x^{10}\\right)$$"
      ],
      "text/plain": [
       "     2      4       6        8         \n",
       "    x    5⋅x    61⋅x    277⋅x     ⎛ 10⎞\n",
       "1 + ── + ──── + ───── + ────── + O⎝x  ⎠\n",
       "    2     24     720     8064          "
      ]
     },
     "metadata": {},
     "output_type": "display_data"
    }
   ],
   "source": [
    "a = (1/cos(x)).series(x, 0, 10)\n",
    "display(a)"
   ]
  },
  {
   "cell_type": "markdown",
   "metadata": {},
   "source": [
    "### 展开"
   ]
  },
  {
   "cell_type": "code",
   "execution_count": 7,
   "metadata": {
    "collapsed": false
   },
   "outputs": [
    {
     "data": {
      "image/png": "[encoded data removed]",
      "text/latex": [
       "$$\\left(a + b\\right)^{5}$$"
      ],
      "text/plain": [
       "       5\n",
       "(a + b) "
      ]
     },
     "metadata": {},
     "output_type": "display_data"
    }
   ],
   "source": [
    "a = Symbol('a')\n",
    "b = Symbol('b')\n",
    "e = (a+b)**5\n",
    "display(e)"
   ]
  },
  {
   "cell_type": "code",
   "execution_count": 18,
   "metadata": {
    "collapsed": false
   },
   "outputs": [
    {
     "data": {
      "image/png": "[encoded data removed]",
      "text/latex": [
       "$$a^{5} + 5 a^{4} b + 10 a^{3} b^{2} + 10 a^{2} b^{3} + 5 a b^{4} + b^{5}$$"
      ],
      "text/plain": [
       " 5      4         3  2       2  3        4    5\n",
       "a  + 5⋅a ⋅b + 10⋅a ⋅b  + 10⋅a ⋅b  + 5⋅a⋅b  + b "
      ]
     },
     "metadata": {},
     "output_type": "display_data"
    }
   ],
   "source": [
    "display(e.expand())"
   ]
  },
  {
   "cell_type": "markdown",
   "metadata": {},
   "source": [
    "### 任意精度计算"
   ]
  },
  {
   "cell_type": "code",
   "execution_count": 8,
   "metadata": {
    "collapsed": false
   },
   "outputs": [
    {
     "data": {
      "image/png": "[encoded data removed]",
      "text/latex": [
       "$$\\frac{1}{88817841970012523233890533447265625}$$"
      ],
      "text/plain": [
       "1/88817841970012523233890533447265625"
      ]
     },
     "metadata": {},
     "output_type": "display_data"
    }
   ],
   "source": [
    "e = Rational(2)**50 / Rational(10)**50\n",
    "display(e)"
   ]
  },
  {
   "cell_type": "markdown",
   "metadata": {},
   "source": [
    "### 微分"
   ]
  },
  {
   "cell_type": "code",
   "execution_count": 21,
   "metadata": {
    "collapsed": false
   },
   "outputs": [
    {
     "data": {
      "image/png": "[encoded data removed]",
      "text/latex": [
       "$$\\frac{x^{2}}{y} + 2 x - \\log{\\left (y \\right )}$$"
      ],
      "text/plain": [
       " 2               \n",
       "x                \n",
       "── + 2⋅x - log(y)\n",
       "y                "
      ]
     },
     "metadata": {},
     "output_type": "display_data"
    }
   ],
   "source": [
    "x, y = symbols('x y')\n",
    "f = x**2/y + 2*x - ln(y)\n",
    "display(f)"
   ]
  },
  {
   "cell_type": "code",
   "execution_count": 22,
   "metadata": {
    "collapsed": false
   },
   "outputs": [
    {
     "data": {
      "image/png": "[encoded data removed]",
      "text/latex": [
       "$$\\frac{2 x}{y} + 2$$"
      ],
      "text/plain": [
       "2⋅x    \n",
       "─── + 2\n",
       " y     "
      ]
     },
     "execution_count": 22,
     "metadata": {},
     "output_type": "execute_result"
    }
   ],
   "source": [
    "diff(f, x)"
   ]
  },
  {
   "cell_type": "code",
   "execution_count": 23,
   "metadata": {
    "collapsed": false
   },
   "outputs": [
    {
     "data": {
      "image/png": "[encoded data removed]",
      "text/latex": [
       "$$- \\frac{x^{2}}{y^{2}} - \\frac{1}{y}$$"
      ],
      "text/plain": [
       "   2    \n",
       "  x    1\n",
       "- ── - ─\n",
       "   2   y\n",
       "  y     "
      ]
     },
     "execution_count": 23,
     "metadata": {},
     "output_type": "execute_result"
    }
   ],
   "source": [
    "diff(f, y)"
   ]
  },
  {
   "cell_type": "code",
   "execution_count": 24,
   "metadata": {
    "collapsed": false
   },
   "outputs": [
    {
     "data": {
      "image/png": "[encoded data removed]",
      "text/latex": [
       "$$- \\frac{2 x}{y^{2}}$$"
      ],
      "text/plain": [
       "-2⋅x \n",
       "─────\n",
       "   2 \n",
       "  y  "
      ]
     },
     "execution_count": 24,
     "metadata": {},
     "output_type": "execute_result"
    }
   ],
   "source": [
    "diff(diff(f, x), y)"
   ]
  },
  {
   "cell_type": "markdown",
   "metadata": {},
   "source": [
    "### 画图"
   ]
  },
  {
   "cell_type": "code",
   "execution_count": 9,
   "metadata": {
    "collapsed": false
   },
   "outputs": [
    {
     "data": {
      "image/png": "[encoded data removed]",
      "text/plain": [
       "<matplotlib.figure.Figure at 0x7f5e97e5c8d0>"
      ]
     },
     "metadata": {},
     "output_type": "display_data"
    },
    {
     "data": {
      "text/plain": [
       "<sympy.plotting.plot.Plot at 0x7f5e97e5c400>"
      ]
     },
     "execution_count": 9,
     "metadata": {},
     "output_type": "execute_result"
    }
   ],
   "source": [
    "from sympy.plotting import plot3d\n",
    "x, y = symbols('x y')\n",
    "plot3d(cos(x*3)*cos(y*5)-y, (x, -1, 1), (y, -1, 1))"
   ]
  },
  {
   "cell_type": "markdown",
   "metadata": {},
   "source": [
    "### 极限"
   ]
  },
  {
   "cell_type": "code",
   "execution_count": 12,
   "metadata": {
    "collapsed": false
   },
   "outputs": [
    {
     "data": {
      "image/png": "[encoded data removed]",
      "text/latex": [
       "$$- x + \\sqrt{x^{2} - 5 x + 6}$$"
      ],
      "text/plain": [
       "        ______________\n",
       "       ╱  2           \n",
       "-x + ╲╱  x  - 5⋅x + 6 "
      ]
     },
     "metadata": {},
     "output_type": "display_data"
    }
   ],
   "source": [
    "x = Symbol('x')\n",
    "f = sqrt(x**2 - 5*x + 6) - x\n",
    "display(f)"
   ]
  },
  {
   "cell_type": "code",
   "execution_count": 13,
   "metadata": {
    "collapsed": false
   },
   "outputs": [
    {
     "data": {
      "image/png": "[encoded data removed]",
      "text/latex": [
       "$$- \\frac{5}{2}$$"
      ],
      "text/plain": [
       "-5/2"
      ]
     },
     "execution_count": 13,
     "metadata": {},
     "output_type": "execute_result"
    }
   ],
   "source": [
    "limit(f, x, oo)"
   ]
  },
  {
   "cell_type": "code",
   "execution_count": 14,
   "metadata": {
    "collapsed": false
   },
   "outputs": [
    {
     "data": {
      "image/png": "[encoded data removed]",
      "text/latex": [
       "$$x \\left(- x + \\sqrt{x^{2} + 1}\\right)$$"
      ],
      "text/plain": [
       "  ⎛        ________⎞\n",
       "  ⎜       ╱  2     ⎟\n",
       "x⋅⎝-x + ╲╱  x  + 1 ⎠"
      ]
     },
     "metadata": {},
     "output_type": "display_data"
    }
   ],
   "source": [
    "f = x*(sqrt(x**2 + 1) - x)\n",
    "display(f)"
   ]
  },
  {
   "cell_type": "code",
   "execution_count": 32,
   "metadata": {
    "collapsed": false
   },
   "outputs": [
    {
     "data": {
      "image/png": "[encoded data removed]",
      "text/latex": [
       "$$\\frac{1}{2}$$"
      ],
      "text/plain": [
       "1/2"
      ]
     },
     "execution_count": 32,
     "metadata": {},
     "output_type": "execute_result"
    }
   ],
   "source": [
    "limit(f, x, oo)"
   ]
  },
  {
   "cell_type": "code",
   "execution_count": 33,
   "metadata": {
    "collapsed": false
   },
   "outputs": [
    {
     "data": {
      "image/png": "[encoded data removed]",
      "text/latex": [
       "$$\\left(\\frac{x - 1}{x + 1}\\right)^{x}$$"
      ],
      "text/plain": [
       "       x\n",
       "⎛x - 1⎞ \n",
       "⎜─────⎟ \n",
       "⎝x + 1⎠ "
      ]
     },
     "metadata": {},
     "output_type": "display_data"
    }
   ],
   "source": [
    "f = ((x - 1)/(x + 1))**x\n",
    "display(f)"
   ]
  },
  {
   "cell_type": "code",
   "execution_count": 34,
   "metadata": {
    "collapsed": false
   },
   "outputs": [
    {
     "data": {
      "image/png": "[encoded data removed]",
      "text/latex": [
       "$$e^{-2}$$"
      ],
      "text/plain": [
       " -2\n",
       "ℯ  "
      ]
     },
     "execution_count": 34,
     "metadata": {},
     "output_type": "execute_result"
    }
   ],
   "source": [
    "limit(f, x, oo)"
   ]
  },
  {
   "cell_type": "markdown",
   "metadata": {},
   "source": [
    "### 积分"
   ]
  },
  {
   "cell_type": "code",
   "execution_count": 35,
   "metadata": {
    "collapsed": false
   },
   "outputs": [
    {
     "data": {
      "image/png": "[encoded data removed]",
      "text/latex": [
       "$$x^{2} + x + 1$$"
      ],
      "text/plain": [
       " 2        \n",
       "x  + x + 1"
      ]
     },
     "metadata": {},
     "output_type": "display_data"
    }
   ],
   "source": [
    "x = Symbol('x')\n",
    "f = x**2 + x + 1\n",
    "display(f)"
   ]
  },
  {
   "cell_type": "code",
   "execution_count": 36,
   "metadata": {
    "collapsed": false
   },
   "outputs": [
    {
     "data": {
      "image/png": "[encoded data removed]",
      "text/latex": [
       "$$\\frac{x^{3}}{3} + \\frac{x^{2}}{2} + x$$"
      ],
      "text/plain": [
       " 3    2    \n",
       "x    x     \n",
       "── + ── + x\n",
       "3    2     "
      ]
     },
     "execution_count": 36,
     "metadata": {},
     "output_type": "execute_result"
    }
   ],
   "source": [
    "integrate(f, x)"
   ]
  },
  {
   "cell_type": "code",
   "execution_count": 37,
   "metadata": {
    "collapsed": false
   },
   "outputs": [
    {
     "data": {
      "image/png": "[encoded data removed]",
      "text/latex": [
       "$$\\frac{x}{x^{2} + 2 x + 1}$$"
      ],
      "text/plain": [
       "     x      \n",
       "────────────\n",
       " 2          \n",
       "x  + 2⋅x + 1"
      ]
     },
     "metadata": {},
     "output_type": "display_data"
    }
   ],
   "source": [
    "f = x/(x**2 + 2*x + 1)\n",
    "display(f)"
   ]
  },
  {
   "cell_type": "code",
   "execution_count": 38,
   "metadata": {
    "collapsed": false
   },
   "outputs": [
    {
     "data": {
      "image/png": "[encoded data removed]",
      "text/latex": [
       "$$\\log{\\left (x + 1 \\right )} + \\frac{1}{x + 1}$$"
      ],
      "text/plain": [
       "               1  \n",
       "log(x + 1) + ─────\n",
       "             x + 1"
      ]
     },
     "execution_count": 38,
     "metadata": {},
     "output_type": "execute_result"
    }
   ],
   "source": [
    "integrate(f, x)"
   ]
  },
  {
   "cell_type": "code",
   "execution_count": 39,
   "metadata": {
    "collapsed": false
   },
   "outputs": [
    {
     "data": {
      "image/png": "[encoded data removed]",
      "text/latex": [
       "$$x^{2} e^{x} \\cos{\\left (x \\right )}$$"
      ],
      "text/plain": [
       " 2  x       \n",
       "x ⋅ℯ ⋅cos(x)"
      ]
     },
     "metadata": {},
     "output_type": "display_data"
    }
   ],
   "source": [
    "f = x**2 * exp(x) * cos(x)\n",
    "display(f)"
   ]
  },
  {
   "cell_type": "code",
   "execution_count": 40,
   "metadata": {
    "collapsed": false
   },
   "outputs": [
    {
     "data": {
      "image/png": "[encoded data removed]",
      "text/latex": [
       "$$\\frac{x^{2} e^{x}}{2} \\sin{\\left (x \\right )} + \\frac{x^{2} e^{x}}{2} \\cos{\\left (x \\right )} - x e^{x} \\sin{\\left (x \\right )} + \\frac{e^{x}}{2} \\sin{\\left (x \\right )} - \\frac{e^{x}}{2} \\cos{\\left (x \\right )}$$"
      ],
      "text/plain": [
       " 2  x           2  x                         x           x       \n",
       "x ⋅ℯ ⋅sin(x)   x ⋅ℯ ⋅cos(x)      x          ℯ ⋅sin(x)   ℯ ⋅cos(x)\n",
       "──────────── + ──────────── - x⋅ℯ ⋅sin(x) + ───────── - ─────────\n",
       "     2              2                           2           2    "
      ]
     },
     "execution_count": 40,
     "metadata": {},
     "output_type": "execute_result"
    }
   ],
   "source": [
    "integrate(f, x)"
   ]
  },
  {
   "cell_type": "markdown",
   "metadata": {},
   "source": [
    "### 级数"
   ]
  },
  {
   "cell_type": "code",
   "execution_count": 41,
   "metadata": {
    "collapsed": false
   },
   "outputs": [
    {
     "data": {
      "image/png": "[encoded data removed]",
      "text/latex": [
       "$$\\frac{1}{\\cos{\\left (x \\right )}}$$"
      ],
      "text/plain": [
       "  1   \n",
       "──────\n",
       "cos(x)"
      ]
     },
     "metadata": {},
     "output_type": "display_data"
    }
   ],
   "source": [
    "x = Symbol('x')\n",
    "e = 1/cos(x)\n",
    "display(e)"
   ]
  },
  {
   "cell_type": "code",
   "execution_count": 42,
   "metadata": {
    "collapsed": false
   },
   "outputs": [
    {
     "data": {
      "image/png": "[encoded data removed]",
      "text/latex": [
       "$$1 + \\frac{x^{2}}{2} + \\frac{5 x^{4}}{24} + \\frac{61 x^{6}}{720} + \\frac{277 x^{8}}{8064} + \\mathcal{O}\\left(x^{10}\\right)$$"
      ],
      "text/plain": [
       "     2      4       6        8         \n",
       "    x    5⋅x    61⋅x    277⋅x     ⎛ 10⎞\n",
       "1 + ── + ──── + ───── + ────── + O⎝x  ⎠\n",
       "    2     24     720     8064          "
      ]
     },
     "execution_count": 42,
     "metadata": {},
     "output_type": "execute_result"
    }
   ],
   "source": [
    "e.series(x, 0, 10)"
   ]
  },
  {
   "cell_type": "code",
   "execution_count": 4,
   "metadata": {
    "collapsed": false
   },
   "outputs": [
    {
     "data": {
      "image/png": "[encoded data removed]",
      "text/latex": [
       "$$\\frac{1}{\\sin{\\left (x \\right )}}$$"
      ],
      "text/plain": [
       "  1   \n",
       "──────\n",
       "sin(x)"
      ]
     },
     "metadata": {},
     "output_type": "display_data"
    }
   ],
   "source": [
    "e = 1/sin(x)\n",
    "display(e)"
   ]
  },
  {
   "cell_type": "code",
   "execution_count": 5,
   "metadata": {
    "collapsed": false
   },
   "outputs": [
    {
     "data": {
      "image/png": "[encoded data removed]",
      "text/latex": [
       "$$\\frac{1}{x} + \\frac{x}{6} + \\frac{7 x^{3}}{360} + \\mathcal{O}\\left(x^{4}\\right)$$"
      ],
      "text/plain": [
       "           3        \n",
       "1   x   7⋅x     ⎛ 4⎞\n",
       "─ + ─ + ──── + O⎝x ⎠\n",
       "x   6   360         "
      ]
     },
     "execution_count": 5,
     "metadata": {},
     "output_type": "execute_result"
    }
   ],
   "source": [
    "e.series(x, 0, 4)"
   ]
  },
  {
   "cell_type": "markdown",
   "metadata": {},
   "source": [
    "## 方程"
   ]
  },
  {
   "cell_type": "code",
   "execution_count": 7,
   "metadata": {
    "collapsed": false
   },
   "outputs": [
    {
     "data": {
      "image/png": "[encoded data removed]",
      "text/latex": [
       "$$\\frac{d}{d x} f{\\left (x \\right )} = f{\\left (x \\right )}$$"
      ],
      "text/plain": [
       "d              \n",
       "──(f(x)) = f(x)\n",
       "dx             "
      ]
     },
     "metadata": {},
     "output_type": "display_data"
    }
   ],
   "source": [
    "x = Symbol('x')\n",
    "f = Function('f')\n",
    "eq = Eq(f(x).diff(x), f(x))\n",
    "display(eq)"
   ]
  },
  {
   "cell_type": "code",
   "execution_count": 8,
   "metadata": {
    "collapsed": false
   },
   "outputs": [
    {
     "data": {
      "image/png": "[encoded data removed]",
      "text/latex": [
       "$$f{\\left (x \\right )} = C_{1} e^{x}$$"
      ],
      "text/plain": [
       "           x\n",
       "f(x) = C₁⋅ℯ "
      ]
     },
     "execution_count": 8,
     "metadata": {},
     "output_type": "execute_result"
    }
   ],
   "source": [
    "dsolve(eq, f(x))"
   ]
  },
  {
   "cell_type": "code",
   "execution_count": 48,
   "metadata": {
    "collapsed": false
   },
   "outputs": [
    {
     "data": {
      "image/png": "[encoded data removed]",
      "text/latex": [
       "$$x^{2} \\frac{d}{d x} f{\\left (x \\right )} = - 3 x f{\\left (x \\right )} + \\frac{1}{x} \\sin{\\left (x \\right )}$$"
      ],
      "text/plain": [
       " 2 d                      sin(x)\n",
       "x ⋅──(f(x)) = -3⋅x⋅f(x) + ──────\n",
       "   dx                       x   "
      ]
     },
     "metadata": {},
     "output_type": "display_data"
    }
   ],
   "source": [
    "eq = Eq(x**2*f(x).diff(x), -3*x*f(x) + sin(x)/x)\n",
    "display(eq)"
   ]
  },
  {
   "cell_type": "code",
   "execution_count": 9,
   "metadata": {
    "collapsed": false
   },
   "outputs": [
    {
     "data": {
      "image/png": "[encoded data removed]",
      "text/latex": [
       "$$f{\\left (x \\right )} = C_{1} e^{x}$$"
      ],
      "text/plain": [
       "           x\n",
       "f(x) = C₁⋅ℯ "
      ]
     },
     "execution_count": 9,
     "metadata": {},
     "output_type": "execute_result"
    }
   ],
   "source": [
    "dsolve(eq, f(x))"
   ]
  },
  {
   "cell_type": "markdown",
   "metadata": {},
   "source": [
    "### 练习： \n",
    "\n",
    "利用 SymPy 证明下面的公式：\n",
    "\n",
    "$$ \n",
    "e^{i x} = \\cos(x) + i\\sin(x)\n",
    "$$"
   ]
  },
  {
   "cell_type": "code",
   "execution_count": 16,
   "metadata": {
    "collapsed": false
   },
   "outputs": [],
   "source": [
    "x = Symbol('x')\n",
    "y = Function('y')(x)\n",
    "eqn = Eq(diff(y, x), sin(y/x))"
   ]
  },
  {
   "cell_type": "code",
   "execution_count": null,
   "metadata": {
    "collapsed": true
   },
   "outputs": [],
   "source": []
  }
 ],
 "metadata": {
  "kernelspec": {
   "display_name": "Python 3",
   "language": "python",
   "name": "python3"
  },
  "language_info": {
   "codemirror_mode": {
    "name": "ipython",
    "version": 3
   },
   "file_extension": ".py",
   "mimetype": "text/x-python",
   "name": "python",
   "nbconvert_exporter": "python",
   "pygments_lexer": "ipython3",
   "version": "3.5.2"
  },
  "latex_envs": {
   "bibliofile": "biblio.bib",
   "cite_by": "apalike",
   "current_citInitial": 1,
   "eqLabelWithNumbers": true,
   "eqNumInitial": 0
  }
 },
 "nbformat": 4,
 "nbformat_minor": 0
}
