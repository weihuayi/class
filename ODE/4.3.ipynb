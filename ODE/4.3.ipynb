{
 "cells": [
  {
   "cell_type": "markdown",
   "metadata": {},
   "source": [
    "# 4.3 高阶微分方程的降阶和幂级数解法"
   ]
  },
  {
   "cell_type": "markdown",
   "metadata": {},
   "source": [
    "## 4.3.1 可降阶的一些方程类型"
   ]
  },
  {
   "cell_type": "markdown",
   "metadata": {},
   "source": [
    "$n$ 阶微分方程一般地可写为\n",
    "\n",
    "$$\n",
    "F(t,x,x',\\cdots,x^{(n)})=0\n",
    "$$\n",
    "\n",
    "下面讨论三类特殊方程的降阶问题."
   ]
  },
  {
   "cell_type": "markdown",
   "metadata": {},
   "source": [
    "### (1) $n$ 阶微分方程不显含未知函数 $x$, 或更一般地, 设方程不含 $x,x',\\cdots,x^{(k-1)}$"
   ]
  },
  {
   "cell_type": "markdown",
   "metadata": {},
   "source": [
    "此类方程形状\n",
    "\n",
    "$$\n",
    "F(t,x^{(k)},\\cdots,x^{(n)})=0\\quad (1\\leq k \\leq n)\n",
    "$$\n",
    "\n",
    "若令 $x^{(k)}=y$, 则方程即降为关于 $y$ 的 $n-k$ 阶方程\n",
    "\n",
    "$$\n",
    "F(t,y,\\cdots,y^{(n-k)})=0\n",
    "$$"
   ]
  },
  {
   "cell_type": "markdown",
   "metadata": {},
   "source": [
    "若求得上方程的通解为\n",
    "\n",
    "$$\n",
    "y=\\varphi(t,c_1,\\cdots,c_{n-k})\n",
    "$$\n",
    "\n",
    "即\n",
    "\n",
    "$$\n",
    "x^{(k)}=\\varphi(t,c_1,\\cdots,c_{n-k})\n",
    "$$\n",
    "\n",
    "再经过 $k$ 次积分得到\n",
    "\n",
    "$$\n",
    "x=\\psi(t, c_1,c_2,\\cdots,c_n)\n",
    "$$\n",
    "\n",
    "其中 $c_1,c_2,\\cdots,c_n$ 为任意常数. 可以验证得到它是方程\n",
    "\n",
    "$$\n",
    "F(t,x^{(k)},\\cdots,x^{(n)})\\quad (1\\leq k \\leq n)\n",
    "$$\n",
    "\n",
    "的解. 特别的，若二阶方程不显含 $x$(相当于 $n=2,k=1$ 的情形), 则用变换 $x'=y$ 便把方程化为一阶方程."
   ]
  },
  {
   "cell_type": "markdown",
   "metadata": {},
   "source": [
    "**例 1 ** 求方程 \n",
    "$$\n",
    "\\frac{\\mathrm d^5x}{\\mathrm dt^5}-\\frac{1}{t} \\frac{\\mathrm d^4x}{\\mathrm dt^4}=0\n",
    "$$\n",
    "\n",
    "的解."
   ]
  },
  {
   "cell_type": "markdown",
   "metadata": {},
   "source": [
    "**解： **令 $\\frac{\\mathrm d^4x}{\\mathrm dt^4}=y$, 则方程化为\n",
    "\n",
    "$$\n",
    "\\frac{\\mathrm dy}{\\mathrm dt}-\\frac{1}{t}y=0\n",
    "$$\n",
    "\n",
    "这是一阶方程, 积分后得到 $y=ct$, 即 $\\frac{\\mathrm d^4x}{\\mathrm dt^4}=ct$. 于是\n",
    "\n",
    "$$\n",
    "x=c_1t^5+c_2t^3+c_3t^2+c_4t+c_5\n",
    "$$\n",
    "\n",
    "其中 $c_1,c_2,\\cdots,c_5$ 为任意常数,这就是原方程的通解."
   ]
  },
  {
   "cell_type": "markdown",
   "metadata": {},
   "source": [
    "### (2) 不显含自变量 $t$ 的方程"
   ]
  },
  {
   "cell_type": "markdown",
   "metadata": {},
   "source": [
    "$$\n",
    "F(x,x',\\cdots,x^{(n)})=0\n",
    "$$\n",
    "\n",
    "我们指出, 若令 $x'=y$, 并以它为新未知函数，而视 $x$ 为新自变量, 则方程可降一阶.\n",
    "\n",
    "令\n",
    "\n",
    "$$\n",
    "\\begin{align}\n",
    "x' &=y\\\\\n",
    "x'' &=\\frac{\\mathrm dy}{\\mathrm dt}=\\frac{\\mathrm dy}{\\mathrm dx}x'=y\\frac{\\mathrm dy}{\\mathrm dx}\\\\\n",
    "x''' &=y(\\frac{\\mathrm dy}{\\mathrm dx})^2+y^2\\frac{\\mathrm d^2y}{\\mathrm dx^2}\\\\\n",
    "\\cdots\n",
    "\\end{align}\n",
    "$$\n",
    "\n",
    "将这些表达式代入上方程就得到\n",
    "\n",
    "$$\n",
    "G(x,y,\\frac{\\mathrm dy}{\\mathrm dx},\\cdots,\\frac{\\mathrm d^{n-1}y}{\\mathrm dx^{n-1}})=0\n",
    "$$\n",
    "\n",
    "这是关于 $x,y$ 的 $n-1$ 阶方程, 比原方程低一阶."
   ]
  },
  {
   "cell_type": "markdown",
   "metadata": {},
   "source": [
    "**例 2** 求解方程\n",
    "\n",
    "$$\n",
    "xx''+(x')^2=0\n",
    "$$\n"
   ]
  },
  {
   "cell_type": "markdown",
   "metadata": {},
   "source": [
    "**解: ** 令 $x'=y$, 直接计算可得 $x''=y\\frac{\\mathrm dy}{\\mathrm dx}$,于是原方程可化为 \n",
    "$$\n",
    "xy\\frac{\\mathrm dy}{\\mathrm dx}+y^2=0\n",
    "$$\n",
    "\n",
    "得到 $y=0$ 或 $-x\\frac{\\mathrm dy}{\\mathrm dx}$, 积分后得 $y=\\frac{c}{x}$, 即 $x'=\\frac{c}{x}$, 所以 $x^2=c_1t+c_2(c_1=2c)$, 这就是原方程的解."
   ]
  },
  {
   "cell_type": "markdown",
   "metadata": {},
   "source": [
    "###  (3) 齐次线性微分方程"
   ]
  },
  {
   "cell_type": "markdown",
   "metadata": {},
   "source": [
    "$$\n",
    "\\frac{\\mathrm d^nx}{\\mathrm dt^n}+a_1(t)\\frac{\\mathrm d^{n-1}x}{\\mathrm dt^{n-1}}+\\cdots+a_n(t)x=0\n",
    "$$\n",
    "\n",
    "已知此方程的 $k$ 个线性无关的特解, 则此方程可降低 $k$ 阶, 即可得到 $n-k$ 阶的齐次线性方程. 特别地, 如果已知此方程的 $n-1$ 个线性无关的解, 则此方程可以降为一阶方程求解."
   ]
  },
  {
   "cell_type": "markdown",
   "metadata": {},
   "source": [
    "设 $x_1, x_2,\\cdots,x_k$ 是此方程的 $k$ 个线性无关解, 显然 $x_i \\neq 0(i=1,2,\\cdots,k)$. 首先令 $x=x_ky$, 直接计算可得\n",
    "\n",
    "$$\n",
    "\\begin{align}\n",
    "x' &=x_ky'+x'_ky\\\\\n",
    "x'' &=x_ky''+2x'_ky'+x_k''y\\\\\n",
    "\\cdots\\\\\n",
    "x^{(n)} &=x_ky^{(n)}+nx'_ky^{(n-1)}+\\frac{n(n-1)}{2}x_k''y^{(n-2)}+\\cdots+x^{(n)}_ky\n",
    "\\end{align}\n",
    "$$"
   ]
  },
  {
   "cell_type": "markdown",
   "metadata": {},
   "source": [
    "将这些式子代入方程得到\n",
    "\n",
    "$$\n",
    "x_ky^{(n)}+[nx_k'+a_1(t)x_k]y^{(n-1)}+\\cdots+[x_k^{(n)}+\\cdots+a_nx_k]y=0\n",
    "$$\n",
    "\n",
    "上面最后一项为 0 ！"
   ]
  },
  {
   "cell_type": "markdown",
   "metadata": {},
   "source": [
    "令 $z=y'$, 并在 $x_k\\neq 0$ 的区间上用 $x_k$ 除方程的各项，得到\n",
    "\n",
    "$$\n",
    "z^{(n-1)}+b_1(t)z^{(n-2)}+\\cdots+b_{n-1}(t)z=0\n",
    "$$\n",
    "\n",
    "的 $n-1$ 阶齐次线性微分方程. **这个新的方程的解是什么？ 和原来的 $x_1, x_2,\\cdots, x_k$ 有什么关系？**"
   ]
  },
  {
   "cell_type": "markdown",
   "metadata": {},
   "source": [
    "\n",
    "$$ \n",
    "z=y'=(\\frac{x}{x_k})',\n",
    "$$\n",
    "或 \n",
    "$$\n",
    "x=x_k\\int z \\mathrm dt\n",
    "$$\n",
    "\n",
    "因此，对于此方程就有 $k-1$ 个线性无关解:\n",
    "\n",
    "$$ \n",
    "z_i=(\\frac{x_i}{x_k})'(i=1,2,3.\\cdots,k-1) \n",
    "$$"
   ]
  },
  {
   "cell_type": "markdown",
   "metadata": {},
   "source": [
    "**证明：** 假设存在一组系数 $\\alpha_1, \\alpha_2,\\cdots, \\alpha_k$, 有\n",
    "$$\n",
    "\\alpha_1z_1+\\alpha_2z_2+\\cdots+\\alpha_{k-1}z_{k-1}\\equiv 0\n",
    "$$\n",
    "或\n",
    "$$\n",
    "\\alpha_1(\\frac{x_1}{x_k})'+\\alpha_2(\\frac{x_2}{x_k})'+\\cdots+\\alpha_{k-1}(\\frac{x_{k-1}}{x_k})'\\equiv 0\n",
    "$$\n",
    "则有\n",
    "$$\n",
    "\\alpha_1(\\frac{x_1}{x_k})+\\alpha_2(\\frac{x_2}{x_k})+\\cdots+\\alpha_{k-1}(\\frac{x_{k-1}}{x_k})\\equiv -\\alpha_k\n",
    "$$\n",
    "\n",
    "或\n",
    "\n",
    "$$\n",
    "\\alpha_1x_1+\\alpha_2x_2+\\cdots+\\alpha_{k-1}x_{k-1}+\\alpha_kx_k\\equiv 0\n",
    "$$\n",
    "\n",
    "由于 $x_1,x_2,\\cdots,x_k$ 是线性无关的, 则有 $\\alpha_1=\\alpha_2=\\cdots=\\alpha_k=0$. 即 $z_1,z_2,\\cdots,z_{k-1}$ 是线性无关的. $\\square$\n"
   ]
  },
  {
   "cell_type": "markdown",
   "metadata": {},
   "source": [
    "类似地, 令 \n",
    "\n",
    "$$\n",
    "u=(\\frac{z}{z_{k-1}})' \n",
    "$$ \n",
    "\n",
    "或 \n",
    "\n",
    "$$ \n",
    "z=z_{k-1}\\int u\\mathrm dt \n",
    "$$\n",
    "\n",
    "代入方程\n",
    "\n",
    "$$\n",
    "z^{(n-1)}+b_1(t)z^{(n-2)}+\\cdots+b_{n-1}(t)z=0\n",
    "$$\n",
    "\n",
    "可得, 关于 $u$ 的 $n-2$ 阶方程:\n",
    "$$\n",
    "u^{(n-2)}+c_1(t)u^{(n-3)}+\\cdots+c_{n-2}(t)u=0\n",
    "$$\n",
    "有 $k-2$ 个线性无关的解:\n",
    "$$\n",
    "u_i=(\\frac{z_i}{z_{k-1}})'\\quad i=1,2,\\cdots,k-2\n",
    "$$ \n",
    "继续下去, 得到一个 $n-k$ 阶的线性齐次方程. 若 $k=n-1$, 则可得到1阶线性齐次方程, 可求得通解."
   ]
  },
  {
   "cell_type": "markdown",
   "metadata": {},
   "source": [
    "特别地, 对于二阶齐次线性方程 \n",
    "$$\n",
    "\\frac{\\mathrm d^2x}{\\mathrm dt^2}+p(t)\\frac{\\mathrm dx}{\\mathrm dt}+q(t)x=0\n",
    "$$\n",
    "\n",
    "若知其一非零解 $x=x_1\\neq 0$, 则可求得通解.\n",
    "\n",
    "令 \n",
    "$$\n",
    "\\begin{align}\n",
    "z &=(\\frac{x}{x_1})'\\\\\n",
    "x &=x_1\\int z \\mathrm dt\\\\\n",
    "x' &=x'_1\\int z\\mathrm dt+x_1z\\\\\n",
    "x'' &=x_1''\\int z\\mathrm dt+x'_1z+x'_1z+x_1z'\\\\\n",
    "&=x_1''\\int z \\mathrm dt+2x'_1z+x_1z'\\\\\n",
    "\\end{align}\n",
    "$$\n",
    "\n",
    "代入 2 阶方程, 可得:\n",
    "$$\n",
    "\\begin{align}\n",
    "x_1''\\int z\\mathrm dt+2x_1'z+x_1z'+p(t)x_1'\\int z\\mathrm dt+p(t)x_1z+q(t)x_1\\int z\\mathrm dt =0\\\\\n",
    "x_1z'+[2x_1'+p(t)x_1]z =0\\\\\n",
    "\\end{align}\n",
    "$$\n",
    "求解可得 \n",
    "$$\n",
    "\\begin{align}\n",
    "z'&=-\\frac{2x'_1+p(t)x_1}{x_1}z\\\\\n",
    "z &=c_1e^{-\\int \\frac{2x'_1+p(t)x_1}{x_1}\\mathrm dt}\\\\\n",
    "&=c_1e^{-\\left[2\\int \\frac{1}{x_1}\\mathrm dx_1+\\int p(t)\\mathrm dt\\right]}\\\\\n",
    "&=c_1e^{-\\ln {x_1}^2}\\cdot e^{-\\int p(t)\\mathrm dt}\\\\\n",
    "&=\\frac{c_1}{x_1^2}e^{-\\int p(t)\\mathrm dt}\n",
    "\\end{align}\n",
    "$$\n",
    "\n",
    "基本解组为 \n",
    "$$ \n",
    "x_1,x_1\\int \\frac{1}{x_1^2}e^{-\\int p(t)\\mathrm dt} \\mathrm dt\n",
    "$$\n",
    "\n",
    "通解为 \n",
    "$$ \n",
    "x(t)=x_1[c_1+c_2\\int \\frac{1}{x_1^2}e^{-\\int p(t)\\mathrm dt}] \n",
    "$$"
   ]
  },
  {
   "cell_type": "markdown",
   "metadata": {},
   "source": [
    "**例 4** 已知 $x=\\frac{\\sin t}{t}$ 是方程 $x''+\\frac{2}{t}x'+x=0$ 的解, 试求方程的通解."
   ]
  },
  {
   "cell_type": "markdown",
   "metadata": {},
   "source": [
    "**解： ** 这里 $p(t)=\\frac{2}{t}$,则得到\n",
    "$$\n",
    "\\begin{align}\n",
    "x &=\\frac{\\sin t}{t}(c_1+c_2\\int \\frac{t^2}{\\sin^2 t}\\cdot\\frac{1}{t^2}\\mathrm dt)\\\\\n",
    "&=\\frac{\\sin t}{t}(c_1-c_2\\frac{\\cos t}{\\sin t})\\\\\n",
    "&=\\frac{1}{t}(c_1\\sin t-c_2\\cos t)\n",
    "\\end{align}\n",
    "$$\n",
    "其中 $c_1,c_2$ 是任意常数, 这就是方程的通解."
   ]
  },
  {
   "cell_type": "code",
   "execution_count": 3,
   "metadata": {
    "collapsed": false
   },
   "outputs": [
    {
     "data": {
      "text/plain": [
       "-1/tan(t)"
      ]
     },
     "execution_count": 3,
     "metadata": {},
     "output_type": "execute_result"
    }
   ],
   "source": [
    "var('t')\n",
    "integral(1/sin(t)^2,t )"
   ]
  },
  {
   "cell_type": "markdown",
   "metadata": {},
   "source": [
    "## 4.3.2 二阶线性微分方程的幂级数解法"
   ]
  },
  {
   "cell_type": "markdown",
   "metadata": {},
   "source": [
    "**例 5** 求方程 $y''-xy=0$ 的通解."
   ]
  },
  {
   "cell_type": "markdown",
   "metadata": {},
   "source": [
    "**解: ** 设\n",
    "$$\n",
    "y=a_0+a_1x+a_2x^2+\\cdots+a_nx^n+\\cdots\n",
    "$$\n",
    "\n",
    "为方程的解, 这里 $a_i(i=1,2,\\cdots,n,\\cdots)$ 是待定常数, 将它对 $x$ 微分两次,有\n",
    "\n",
    "$$\n",
    "y''=2\\cdot1\\cdot a_2+3\\cdot2\\cdot a_3x+\\cdots+n(n-1)a_nx^{n-2}+(n+1)na_{n+1}x^{n-1}+\\cdots\n",
    "$$\n",
    "\n",
    "将 $y,y''$ 的表达式代入方程, 并比较 $x$ 的同次幂的系数, 得到\n",
    "\n",
    "$$\n",
    "2\\cdot 1 \\cdot a_2=0,\\quad 3\\cdot2\\cdot a_3-a_0=0,\\quad 4\\cdot 3 \\cdot a_4-a_1=0,5\\cdot4 \\cdot a_5-a_2=0,\\cdots\n",
    "$$\n",
    "\n",
    "因而\n",
    "\n",
    "$$\n",
    "y=a_0[1+\\frac{x^3}{2\\cdot3}+\\frac{x^6}{2\\cdot3\\cdot5\\cdot6}+\\cdots+\\frac{x^{3n}}{2\\cdot3\\cdots(3n-1)\\cdot3n}+\\cdots]+a_1[x+\\frac{x^4}{3\\cdot4}+\\cdots+\\frac{x^{3n+1}}{3\\cdot4\\cdot6\\cdots3n\\cdot(3n+1)}+\\cdots]\n",
    "$$\n",
    "\n",
    "这个幂级数的收敛半径是无限大的, 因而级数的和便是所要求的通解."
   ]
  },
  {
   "cell_type": "markdown",
   "metadata": {},
   "source": [
    "**例 6 ** 求方程 $y''-2xy'-4y=0$ 的满足初值条件 $y(0)=0$ 及 $y'(0)=1$ 的解."
   ]
  },
  {
   "cell_type": "markdown",
   "metadata": {},
   "source": [
    "**解: ** 设级数\n",
    "\n",
    "$$\n",
    "y=a_0+a_1x+a_2x^2+\\cdots+a_nx^n+\\cdots\n",
    "$$\n",
    "\n",
    "为方程的解. 首先, 利用初值条件, 可以得到 \n",
    "\n",
    "$$\n",
    "a_0=0,a_1=1,\n",
    "$$\n",
    "\n",
    "因而\n",
    "\n",
    "$$\n",
    "\\begin{align}\n",
    "y &= x+a_2 x^2+a_3 x^3+\\cdots+a_n x^n+\\cdots \\\\\n",
    "y' &= 1+2a_2 x+3 a_3x^2+\\cdots+na_n x^{n-1}+\\cdots \\\\\n",
    "y'' &= 2 a_2+6a_3x+\\cdots+n(n-1) a_nx^{n-2}+\\cdots\n",
    "\\end{align}\n",
    "$$\n",
    "\n",
    "将 $y,y',y''$ 的表达式代入原方程, 合并 $x$ 的各同次幂的项, 并令各项系数等于零, 得到\n",
    "\n",
    "$$\n",
    "a_2=0,a_3=1,a_4=0,\\cdots,a_n=\\frac{2}{n-1}a_{n-2},\\cdots\n",
    "$$\n",
    "\n",
    "因而\n",
    "\n",
    "$$\n",
    "a_5=\\frac{1}{2!},a_6=0,a_7=\\frac{1}{6}=\\frac{1}{3!},a_8=0,\\cdots\n",
    "$$\n",
    "\n",
    "最后得\n",
    "\n",
    "$$\n",
    "a_{2k+1}=\\frac{1}{k}\\cdot\\frac{1}{(k-1)!}=\\frac{1}{k!},a_{2k}=0\n",
    "$$\n",
    "\n",
    "对一切正整数 $k$ 成立.\n",
    "\n",
    "将 $a_i(i=0,1,\\cdots)$ 的值代入方程可得\n",
    "\n",
    "$$\n",
    "\\begin{align}\n",
    "y &= x+x^3+\\frac{x^5}{2!}+\\cdots+\\frac{x^{2k+1}}{k!}+\\cdots\\\\\n",
    "&= x(1+x^2+\\frac{x^4}{2!}+\\cdots+\\frac{x^{2k}}{k!})\\\\\n",
    "&= xe^{x^2}\n",
    "\\end{align}\n",
    "$$"
   ]
  },
  {
   "cell_type": "markdown",
   "metadata": {},
   "source": [
    "考虑二阶齐次线性微分方程\n",
    "\n",
    "$$\n",
    "\\frac{\\mathrm d^2y}{\\mathrm dx^2}+p(x)\\frac{\\mathrm dy}{\\mathrm dx}+q(x)y=0\n",
    "$$\n",
    "\n",
    "及初值条件 $y(x_0)=y_0$ 及 $y'(x_0)=y'_0$ 的情况."
   ]
  },
  {
   "cell_type": "markdown",
   "metadata": {},
   "source": [
    "**定理 10** 若上方程系数 $p(x)$ 和 $q(x)$ 都能展成 $x$ 的幂级数, 且收敛区间为 $|x|<R$, 则上方程有形如\n",
    "\n",
    "$$\n",
    "y=\\sum_{n=0}^\\infty a_nx^n\n",
    "$$\n",
    "\n",
    "的特解, 也以 $|x|<R$ 为级数的收敛区间."
   ]
  },
  {
   "cell_type": "markdown",
   "metadata": {},
   "source": [
    "但某些方程可能不满足定理 10 的条件, 如**贝塞尔方程**\n",
    "\n",
    "$$\n",
    "x^2\\frac{\\mathrm d^2y}{\\mathrm dx^2}+x\\frac{\\mathrm dy}{\\mathrm dx}+(x^2-n^2)y=0\n",
    "$$\n",
    "其中 $n$ 为非负常数, 不一定为正整数. 方程两边同除 $x^2$, 可得 \n",
    "$$\n",
    "\\frac{\\mathrm d^2y}{\\mathrm dx^2}+\\frac{1}{x}\\frac{\\mathrm dy}{\\mathrm dx}+(1-\\frac{n^2}{x^2})y=0\n",
    "$$\n",
    "\n",
    "可知\n",
    "$$\n",
    "p(x)=\\frac{1}{x},\\quad q(x)=1-\\frac{n^2}{x^2},\n",
    "$$\n",
    "\n",
    "不满足定理10的条件, 我们还有如下定理:"
   ]
  },
  {
   "cell_type": "code",
   "execution_count": 10,
   "metadata": {
    "collapsed": false
   },
   "outputs": [
    {
     "data": {
      "text/plain": [
       "1/_SAGE_VAR_x"
      ]
     },
     "execution_count": 10,
     "metadata": {},
     "output_type": "execute_result"
    }
   ],
   "source": [
    "var('x')\n",
    "f = 1/x\n",
    "maxima(f).powerseries(x, 1)"
   ]
  },
  {
   "cell_type": "markdown",
   "metadata": {},
   "source": [
    "**定理 11** 若方程\n",
    "\n",
    "$$\n",
    "\\frac{\\mathrm d^2y}{\\mathrm dx^2}+p(x)\\frac{\\mathrm dy}{\\mathrm dx}+q(x)y=0\n",
    "$$\n",
    "\n",
    "中系数  $p(x)$ 和 $q(x)$ 具有这样的性质, 即 $xp(x)$ 和 $x^2q(x)$ 均能展成 $x$  的幂级数, 且收敛区间为 $|x|<R$, 若 $a_0 \\neq 0$,则此方程有形如\n",
    "\n",
    "\n",
    "$$\n",
    "y=x^\\alpha\\sum_{n=0}^\\infty a_nx^n\n",
    "$$\n",
    "\n",
    "即\n",
    "\n",
    "\n",
    "$$\n",
    "y=\\sum_{n=0}^\\infty a_nx^{\\alpha+n}\n",
    "$$\n",
    "\n",
    "的特解,$\\alpha$ 是一个特定的常数, 上级数也以 $|x|<R$ 为收敛区间. 若 $a_0=0$, 或更一般的,$a_i=0(i=0,1,2,\\cdots,m-1)$, 但 $a_m\\neq 0$, 则引入记号 $\\beta =\\alpha+m,b_k=a_{m+k}$, 则\n",
    "\n",
    "$$\n",
    "y=x^ \\alpha \\sum_{n=m}^\\infty a_nx^n=x^{\\alpha+m}\\sum_{k=0}^\\infty  a_{m+k}x^k=x^{\\beta}\\sum _{k=0}^\\infty b_kx^k\n",
    "$$\n",
    "\n",
    "这里 $b_0=a_m\\neq 0$, 而 $\\beta$ 仍为待定常数.\n",
    " \n",
    "\n"
   ]
  },
  {
   "cell_type": "markdown",
   "metadata": {},
   "source": [
    "## 作业 \n",
    "\n",
    "P.182 1. (1), (2), (4), (6) 2. (3)"
   ]
  },
  {
   "cell_type": "code",
   "execution_count": null,
   "metadata": {
    "collapsed": true
   },
   "outputs": [],
   "source": []
  }
 ],
 "metadata": {
  "kernelspec": {
   "display_name": "Python 3",
   "language": "python",
   "name": "python3"
  },
  "language_info": {
   "codemirror_mode": {
    "name": "ipython",
    "version": 3
   },
   "file_extension": ".py",
   "mimetype": "text/x-python",
   "name": "python",
   "nbconvert_exporter": "python",
   "pygments_lexer": "ipython3",
   "version": "3.5.2"
  },
  "latex_envs": {
   "bibliofile": "biblio.bib",
   "cite_by": "apalike",
   "current_citInitial": 1,
   "eqLabelWithNumbers": true,
   "eqNumInitial": 0
  }
 },
 "nbformat": 4,
 "nbformat_minor": 0
}
