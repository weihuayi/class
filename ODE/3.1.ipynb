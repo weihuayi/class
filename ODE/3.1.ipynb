{
 "cells": [
  {
   "cell_type": "code",
   "execution_count": null,
   "metadata": {
    "collapsed": true
   },
   "outputs": [],
   "source": [
    "from sympy import * # 导入 sympy 中的所有功能\n",
    "init_printing(use_latex=True) \n",
    "from IPython.display import display # 显示公式\n",
    "import matplotlib.pyplot as plt\n",
    "%matplotlib inline"
   ]
  },
  {
   "cell_type": "markdown",
   "metadata": {},
   "source": [
    "* 差之毫厘，谬以千里\n",
    "* 鸡蛋里挑骨头"
   ]
  },
  {
   "cell_type": "markdown",
   "metadata": {},
   "source": [
    "所谓极限的思想，是指用极限概念分析问题和解决问题的一种数学思想。用极限思想解决问题的一般步骤可概括为：\n",
    "\n",
    "* 对于被考察的未知量，先设法构思一个与它有关的变量;\n",
    "* 确认这变量通过无限过程的结果就是所求的未知量；\n",
    "* 最后用极限计算来得到这结果。"
   ]
  },
  {
   "cell_type": "markdown",
   "metadata": {
    "collapsed": true
   },
   "source": [
    "割圆术： https://zh.wikipedia.org/wiki/%E5%89%B2%E5%9C%86%E6%9C%AF_(%E5%88%98%E5%BE%BD)"
   ]
  },
  {
   "cell_type": "markdown",
   "metadata": {},
   "source": [
    "# 3.1 解的存在唯一性定理和逐步逼近法"
   ]
  },
  {
   "cell_type": "markdown",
   "metadata": {},
   "source": [
    "\n",
    "* 本节要求 /Requirements/\n",
    "    * 深刻理解解的存在唯一性定理的条件与结论\n",
    "    * 掌握逐步逼近"
   ]
  },
  {
   "cell_type": "markdown",
   "metadata": {},
   "source": [
    "# 一 .  概念与定义 /Concept and Definition/"
   ]
  },
  {
   "cell_type": "markdown",
   "metadata": {},
   "source": [
    "## 1. 一阶方程的初值问题(Cauchy problem)表示"
   ]
  },
  {
   "cell_type": "markdown",
   "metadata": {},
   "source": [
    "$$\n",
    "\\begin{cases}\n",
    "\\frac{\\mathrm dy}{\\mathrm dx}=f(x,y) \\\\\n",
    "y(x_0)=y_0\n",
    "\\end{cases}\n",
    "$$"
   ]
  },
  {
   "cell_type": "markdown",
   "metadata": {},
   "source": [
    "## 2. 利普希兹条件"
   ]
  },
  {
   "cell_type": "markdown",
   "metadata": {},
   "source": [
    "函数 $f(x,y)$ 称为在矩形域 :\n",
    "\n",
    "$$\n",
    "R: \n",
    "\\begin{cases}\n",
    "|x-x_0|\\leq a\\\\\n",
    "|y-y_0|\\leq b\n",
    "\\end{cases}\n",
    "$$\n",
    "\n",
    "关于 $y$ 满足**利普希兹(Lipschitz)条件**, 存在 $L>0$ 使得不等式\n",
    "\n",
    "$$\n",
    "\\left|f(x,y_1)-f(x,y_2)\\right|\\leq L|y_1-y_2|\n",
    "$$\n",
    "\n",
    "对于所有 $(x,y_1),(x,y_2)\\in R$ 都成立，$L$ 称为**利普希兹常数**."
   ]
  },
  {
   "cell_type": "markdown",
   "metadata": {},
   "source": [
    "* 如何理解利普希兹(Lipschitz)条件？\n",
    "* $f=\\sqrt{x}$ 在 $[0, +\\infty)$ 满足 Lipschitz 条件吗？"
   ]
  },
  {
   "cell_type": "markdown",
   "metadata": {},
   "source": [
    "# 二 、 存在唯一性定理"
   ]
  },
  {
   "cell_type": "markdown",
   "metadata": {},
   "source": [
    "## 定理1"
   ]
  },
  {
   "cell_type": "markdown",
   "metadata": {},
   "source": [
    "如果 $f(x,y)$ 在矩形域 $R$ 上连续且关于 $y$ 满足利普希茨条件, 则方程\n",
    "\n",
    "$$\n",
    "\\begin{cases}\n",
    "\\frac{\\mathrm dy}{\\mathrm dx}=f(x,y) \\\\\n",
    "y(x_0)=y_0\n",
    "\\end{cases}\n",
    "$$\n",
    "存在唯一的解\n",
    "$$ \n",
    "y=\\varphi(x),\n",
    "$$ \n",
    "满足如下条件: \n",
    "1. 定义区间为 $|x-x_0|\\leq h$;\n",
    "1. 连续\n",
    "1. 满足初值条件\n",
    "$$\n",
    "\\varphi(x_0)=y_0,\n",
    "$$\n",
    "\n",
    "这里 $h=\\min(a,\\frac{b}{M})$, $M =\\displaystyle\\max_{(x,y)\\in R}|f(x,y)|$."
   ]
  },
  {
   "cell_type": "markdown",
   "metadata": {},
   "source": [
    "## 定理 1 的证明需要证明五个命题\n"
   ]
  },
  {
   "cell_type": "markdown",
   "metadata": {},
   "source": [
    "* 命题 1 求解微分方程的初值问题等价于求解一个积分方程\n",
    "* 命题 2 构造一个连续的逐步逼近序列\n",
    "* 命题 3 证明此逐步逼近序列一致收敛\n",
    "* 命题 4 证明此收敛的极限函数为所求初值问题的解\n",
    "* 命题 5 证明唯一性"
   ]
  },
  {
   "cell_type": "markdown",
   "metadata": {},
   "source": [
    "### 命题 1"
   ]
  },
  {
   "cell_type": "markdown",
   "metadata": {},
   "source": [
    "设 $y=\\varphi(x)$ 是初值问题 \n",
    "$$\n",
    "\\begin{cases}\\frac{\\mathrm dy}{\\mathrm dx}=f(x,y)\\\\\n",
    "y(x_0)=y_0\n",
    "\\end{cases}\n",
    "$$\n",
    "的解的充要条件是 $y=\\varphi(x)$ 是积分方程\n",
    "\n",
    "$$\n",
    "y=y_0+\\int_{x_0}^x f(x,y)\\,\\mathrm dx,\\quad x_0\\leq x\\leq x_0+h\n",
    "$$\n",
    "\n",
    "的定义于 $x_0\\leq x\\leq x_0+h$ 上的连续解."
   ]
  },
  {
   "cell_type": "markdown",
   "metadata": {},
   "source": [
    "**证明分析**\n",
    "\n",
    "* 微分方程的初值问题的解满足积分方程\n",
    "* 积分方程\n",
    "$$\n",
    "y=y_0+\\int_{x_0}^x f(x,y)\\,\\mathrm dx,\\quad x_0\\leq x\\leq x_0+h\n",
    "$$\n",
    "的连续解是微分方程的初值问题的解."
   ]
  },
  {
   "cell_type": "markdown",
   "metadata": {},
   "source": [
    "**证明:** 因为 $y=\\varphi(x)$ 是方程 $\\frac{\\mathrm dy}{\\mathrm dx}=f(x,y)$ 的解，故有\n",
    "\n",
    "$$\n",
    "\\frac{\\mathrm d\\varphi(x)}{\\mathrm dx}=f(x,\\varphi(x))\n",
    "$$\n",
    "\n",
    "两边从 $x_0$ 到 $x$ 取定积分得到\n",
    "\n",
    "$$\n",
    "\\varphi(x)-\\varphi(x_0)\\equiv\\int_{x_0}^x f(x,\\varphi(x))\\,\\mathrm dx,\\quad x_0\\leq x\\leq x_0+h\n",
    "$$"
   ]
  },
  {
   "cell_type": "markdown",
   "metadata": {},
   "source": [
    "把方程 $\\varphi(x_0)=y_0$ 代入上式, 即有\n",
    "\n",
    "$$\n",
    "\\varphi(x)=y_0+\\int_{x_0}^x f(x,\\varphi(x))\\,\\mathrm dx,\\quad x_0\\leq x\\leq x+h\n",
    "$$\n",
    "\n",
    "因此, $y=\\varphi(x)$ 是积分方程在 $x_0\\leq x\\leq x_0+h$ 上的连续解. 反之, 如果 $y=\\varphi(x)$ 是方程的连续解，则有\n",
    "\n",
    "$$\n",
    "\\varphi(x) \\equiv y_0+\\int_{x_0}^x f(x,\\varphi(x))\\mathrm dx,\\quad x_0\\leq x\\leq x_0+h,\n",
    "$$\n",
    "\n",
    "显然, 上式中取 $x = x_0$, 可得 $\\varphi(x_0) = y_0$. 另外, 上式两边对 $x$ 求导, 可得 \n",
    "\n",
    "$$\n",
    "\\frac{\\mathrm d\\varphi(x)}{\\mathrm dx}=f(x,\\varphi(x)),\n",
    "$$"
   ]
  },
  {
   "cell_type": "markdown",
   "metadata": {},
   "source": [
    "因此,\n",
    "$$\n",
    "y=\\varphi(x)\n",
    "$$ \n",
    "是方程 \n",
    "$$ \n",
    "y=y_0+\\int_{x_0}^x f(x,y)\\,\\mathrm dx,x_0\\leq x\\leq x_0+h\n",
    "$$ \n",
    "的定义于 $x\\leq x\\leq x_0+h$ 上，且满足初值条件方程的解. \n",
    "\n",
    "同理, 可证在 $x_0-h\\leq x\\leq x_0$ 也成立.                                                  \n",
    "\n",
    "命题 1 证毕. $\\square$"
   ]
  },
  {
   "cell_type": "markdown",
   "metadata": {},
   "source": [
    "现在取 $\\varphi_0(x)=y_0$ , 构造皮卡逐步逼近函数序列如下:\n",
    "\n",
    "$$\n",
    "\\begin{cases}\n",
    "\\varphi_0(x)=y_0,\\\\\n",
    "\\varphi_n(x)=y_0+\\int_{x_0}^x f(\\xi,\\varphi_{n-1}(\\xi))\\, \\mathrm d\\xi,& x_0\\leq x\\leq x_0+h\\\\(n=1,2.\\cdots)\n",
    "\\end{cases}\n",
    "$$"
   ]
  },
  {
   "cell_type": "markdown",
   "metadata": {},
   "source": [
    "### 命题 2"
   ]
  },
  {
   "cell_type": "markdown",
   "metadata": {},
   "source": [
    "递推关系式\n",
    "$$\n",
    "\\begin{cases}\n",
    "\\varphi_0(x)=y_0,\\\\\n",
    "\\varphi_n(x)=y_0+\\int_{x_0}^x f(\\xi,\\varphi_{n-1}(\\xi))\\,\\mathrm d\\xi,&x_0\\leq x\\leq x_0+h\\\\(n=1,2.\\cdots)\n",
    "\\end{cases}\n",
    "$$\n",
    "\n",
    "中函数的 $\\varphi_n(x)$ 在 $x_0\\leq x\\leq x_0+h$ 上有定义、连续且满足不等式\n",
    "\n",
    "$$\n",
    "|\\varphi_n(x)-y_0|\\leq b\n",
    "$$"
   ]
  },
  {
   "cell_type": "markdown",
   "metadata": {},
   "source": [
    " **证明:** （只在一半区间上来证明，另一半区间证明相似）"
   ]
  },
  {
   "cell_type": "markdown",
   "metadata": {},
   "source": [
    "当 $n=1$ 时，\n",
    "\n",
    "$$ \\varphi_1(x)=y_0+\\int_{x_0}^x f(\\xi,y_0)\\,\\mathrm d\\xi.$$\n",
    "\n",
    "显然 $\\varphi_1(x)$ 在 $x_0\\leq x\\leq x_0 + h$ 上有定义、连续且有\n",
    "\n",
    "$$\n",
    "\\begin{aligned}\n",
    "|\\varphi_1(x)-y_0| & =\\left|\\int_{x_0}^x f(\\xi,y_0)\\,\\mathrm d\\xi\\right|\\\\\n",
    "& \\leq \\int_{x_0}^x \\left|f(\\xi,y_0)\\right|\\,\\mathrm d\\xi\\\\\n",
    "& \\leq M(x-x_0)\\leq Mh\\leq b\n",
    "\\end{aligned}\n",
    "$$"
   ]
  },
  {
   "cell_type": "markdown",
   "metadata": {},
   "source": [
    "即当 $n=1$ 时命题 2 成立. 现在我们用数学归纳法证明定义任何正整数 $n$, 命题 2 都成立. 假设\n",
    "\n",
    "$n=k$ 时 $\\varphi_k(x)$ 在 $x_0\\leq x\\leq x_0+h$ 上有定义、连续且满足不等式\n",
    "\n",
    "$$\n",
    "\\left|\\varphi_k(x)-y_0\\right|\\leq b\n",
    "$$"
   ]
  },
  {
   "cell_type": "markdown",
   "metadata": {},
   "source": [
    "当 $n=k+1$ 时，\n",
    "\n",
    "$$\n",
    "\\varphi_{k+1}(x)=y_0+\\int_{x_0}^x f(\\xi,\\varphi_k(\\xi))\\,\\mathrm d\\xi\n",
    "$$\n",
    "\n",
    "$$\n",
    "\\begin{aligned}\n",
    "|\\varphi_{k+1}(x)-y_0| & \\leq \\int_{x_0}^x \\left|f(\\xi,\\varphi_k(\\xi))\\right|\\, \\mathrm d\\xi\\\\\n",
    "& \\leq M(x-x_0)\\leq Mh\\leq b,\n",
    "\\end{aligned}\n",
    "$$\n",
    "\n",
    "$\\varphi_{k+1}(x)$ 在 $x_0\\leq x\\leq x_0+h$ 上有定义、连续. 即当 $n=k+1$ 时命题 2 也成立. 由数学归纳法得知命题   2 对于所有 $n$ 均成立. \n",
    "\n",
    "命题 2 证毕. $\\square$"
   ]
  },
  {
   "cell_type": "markdown",
   "metadata": {},
   "source": [
    "### 命题 3 "
   ]
  },
  {
   "cell_type": "markdown",
   "metadata": {},
   "source": [
    "函数序列 $\\{\\varphi_n(x)\\}$ 在 $x_0\\leq x\\leq x_0+h$ 上是一致收敛的。"
   ]
  },
  {
   "cell_type": "markdown",
   "metadata": {},
   "source": [
    "**证明:** 考虑级数"
   ]
  },
  {
   "cell_type": "markdown",
   "metadata": {},
   "source": [
    "$$\n",
    "\\varphi_0(x)+\\displaystyle\\sum_{k=1}^\\infty\\left[\\varphi_k(x)-\\varphi_{k-1}(x)\\right],~x_0\\leq x\\leq x_0+h\n",
    "$$\n",
    "\n",
    "它的部分和为\n",
    "\n",
    "$$\n",
    "\\varphi_0(x)+\\displaystyle\\sum_{k=1}^n [\\varphi_k(x)-\\varphi_{k-1}(x)]=\\varphi_n(x)\n",
    "$$"
   ]
  },
  {
   "cell_type": "markdown",
   "metadata": {},
   "source": [
    "因此，要证明函数序列 ${\\varphi_n(x)}$  在 $x_0\\leq x\\leq x_0+h$ 上一致收敛的，只需证明级数 $\n",
    "\\varphi_0(x)+\\displaystyle\\sum_{k=1}^n [\\varphi_k(x)-\\varphi_{k-1}(x)]=\\varphi_n(x)\n",
    "$ 在 $x_0\\leq x\\leq x_0+h$ 上一致收敛. 为此，我们进行如下的估计，由\n",
    "\n",
    "$$\n",
    "\\begin{cases}\n",
    "\\varphi_0(x)=y_0,\\\\\n",
    "\\varphi_n(x)=y_0+\\int_{x_0}^x f(\\xi,\\varphi_{n-1} (\\xi))\\,\\mathrm d\\xi, & x_0\\leq x\\leq x_0+h\\\\(n=1,2.\\cdots)\n",
    "\\end{cases}\n",
    "$$\n",
    "\n",
    "有\n",
    "\n",
    "$$\n",
    "|\\varphi_1(x)-\\varphi_0(x)|\\leq \\int_{x_0}^x |f(\\xi,\\varphi_0(\\xi)|\\,\\mathrm d\\xi\\leq M(x-x_0)\n",
    "$$\n",
    "\n",
    "及\n",
    "\n",
    "$$\n",
    "|\\varphi_2(x)-\\varphi_1(x)|\\leq \\int_{x_0}^x |f(\\xi,\\varphi_1(\\xi))-f(\\xi,\\varphi_0(\\xi)|\\,\\mathrm d\\xi\n",
    "$$"
   ]
  },
  {
   "cell_type": "markdown",
   "metadata": {},
   "source": [
    "再利用利普希茨条件可得\n",
    "$$\n",
    "\\begin{aligned}\n",
    "|\\varphi_2(x)-\\varphi_1(x)| & \\leq \\int_{x_0}^x \\left|f(\\xi,\\varphi_1(\\xi))-f(\\xi,\\varphi_0(\\xi)\\right|\\,\\mathrm d\\xi\\\\\n",
    "& \\leq L\\int_{x_0}^x|\\varphi_1(\\xi)-\\varphi_0(\\xi)|\\,\\mathrm d\\xi\\\\\n",
    "& \\leq L\\int_{x_0}^xM(\\xi-x_0)\\,\\mathrm d\\xi\\\\\n",
    "& =\\frac{ML}{2!}(x-x_0)^2\n",
    "\\end{aligned}\n",
    "$$"
   ]
  },
  {
   "cell_type": "markdown",
   "metadata": {},
   "source": [
    "再假设对任意正整数 $n$, 成立不等式\n",
    "\n",
    "$$\n",
    "|\\varphi_n(x)-\\varphi_{n-1}(x)|\\leq \\frac{ML^{n-1}}{n!}(x-x_0)^n.\n",
    "$$\n",
    "\n",
    "则由利普希茨条件，当 $x_0\\leq x\\leq x_0+h$ 时，有\n",
    "\n",
    "$$\n",
    "\\begin{aligned}\n",
    "|\\varphi_{n+1}(x)-\\varphi_n(x)| & \\leq \\int_{x_0}^x |f(\\xi,\\varphi_n(\\xi))-f(\\xi,\\varphi_{n-1}(\\xi))\\,|\\mathrm d\\xi\\\\\n",
    "& \\leq L\\int_{x_0}^x\\left|\\varphi_n(\\xi)-\\varphi_{n-1}(\\xi)\\right|\\,\\mathrm d\\xi\\\\\n",
    "& \\leq \\frac{ML^n}{n!}\\int_{x_0}^x(\\xi-x_0)^n\\, \\mathrm d\\xi\\\\\n",
    "& =\\frac{ML^n}{(n+1)!}(x-x_0)^{n+1}\n",
    "\\end{aligned}\n",
    "$$\n",
    "\n",
    "于是，由数学归纳法得知，对于所有的正整数 $k$, 有如下的估计:\n",
    "\n",
    "$$\n",
    "|\\varphi_k(x)-\\varphi_{k-1}(x)|\\leq \\frac{ML^{k-1}}{k!}(x-x_0)^k,\\quad x_0\\leq x\\leq x_0+h\n",
    "$$"
   ]
  },
  {
   "cell_type": "markdown",
   "metadata": {},
   "source": [
    "从而可知, 当 $x_0\\leq x\\leq x_0+h$ 时\n",
    "\n",
    "$$\n",
    "|\\phi_k(x)-\\varphi_{k-1}(x)|\\leq \\frac{ML^{k-1}}{k!}h^k\n",
    "$$\n",
    "\n",
    "的右端是正项收敛级数\n",
    "\n",
    "$$\n",
    "\\displaystyle\\sum_{k=1}^\\infty ML^{k-1}\\frac{h^k}{k!}\n",
    "$$\n",
    "\n",
    "的一般项. 由威尔斯特拉斯（Weierstrass）判别法(简称魏氏判别法)，级数\n",
    "\n",
    "$$ \n",
    "\\varphi_0(x)+\\displaystyle\\sum_{k=1}^\\infty[\\varphi_k(x)-\\varphi_{k-1}(x)],\\quad x_0\\leq x\\leq x_0+h\n",
    "$$ \n",
    "\n",
    "在 $x_0\\leq x\\leq x_0+h$ 上一致收敛，因而序列 ${\\varphi_n(x)}$ 也在 $x_0\\leq x\\leq x_0+h$ 上一致收敛."
   ]
  },
  {
   "cell_type": "markdown",
   "metadata": {},
   "source": [
    "现设 $\\lim_{n\\to \\infty} \\varphi_n (x)=\\varphi (x)$ , 则 $\\varphi (x)$ 也在 $x_0 \\leq x\\leq x_0+h$ 上连续, 且由 $|\\varphi_n (x)-y_0|\\leq b$ 又可知\n",
    "\n",
    "$$\n",
    "|\\varphi (x)-y_0|\\leq b\n",
    "$$"
   ]
  },
  {
   "cell_type": "markdown",
   "metadata": {},
   "source": [
    "### 命题 4 "
   ]
  },
  {
   "cell_type": "markdown",
   "metadata": {},
   "source": [
    "函数序列 $\\{\\varphi_n(x)\\}_{n=0}^{\\infty}$ 的极限 $\\varphi(x)$ 是积分方程 \n",
    "$$ \n",
    "y=y_0+\\int_{x_0}^x f(x,y)\\, \\mathrm dx,\\quad x_0\\leq x\\leq x_0+h\n",
    "$$ \n",
    "的定义于 $x_0\\leq x\\leq x_0+h$ 上的连续解。"
   ]
  },
  {
   "cell_type": "markdown",
   "metadata": {},
   "source": [
    "**证明:**  由利普希茨条件\n",
    "\n",
    "$$\n",
    "|f(x,\\varphi(x))-f(x,\\varphi_n(x))|\\leq L\\left|\\varphi_n(x)-\\varphi(x)\\right|\n",
    "$$\n",
    "\n",
    "以及 $\\varphi_n(x)$ 在 $x_0\\leq x\\leq x_0+h$ 上一致收敛于 $\\varphi(x)$，\n",
    "\n",
    "即知序列 ${f(x,\\varphi_n(x)})$ 在 $x_0\\leq x\\leq x_0+h$ 一致收敛于 $f(x,\\varphi (x))$ .\n",
    "\n",
    "因此，对方程\n",
    "$$\n",
    "\\begin{cases}\n",
    "\\varphi_0(x)=y_0,\\\\\n",
    "\\varphi_n(x)=y_0+\\int_{x_0}^x f(\\xi,\\varphi_{n-1}(\\xi))\\,\\mathrm d\\xi, & x_0\\leq x\\leq x_0+h\\\\(n=1,2.\\cdots)\n",
    "\\end{cases}\n",
    "$$\n",
    "两边取极限，得到\n",
    "$$\n",
    "\\begin{aligned}\n",
    "\\lim_{n \\to \\infty} \\varphi_n(x) & = y_0 + \\lim_{n \\to \\infty} \\int_{x_0}^x f(\\xi,\\varphi_{n-1}(\\xi))\\, \\mathrm d\\xi\\\\\n",
    "& =y_0+\\int_{x_0}^x\\lim_{n \\rightarrow \\infty}f(\\xi,\\varphi_{n-1}(\\xi))\\,\\mathrm d\\xi\n",
    "\\end{aligned}\n",
    "$$"
   ]
  },
  {
   "cell_type": "markdown",
   "metadata": {},
   "source": [
    "即\n",
    "$$\n",
    "\\varphi(x)=y_0+\\int_{x_0}^x f(\\xi,\\varphi(\\xi))\\,\\mathrm d\\xi,\n",
    "$$\n",
    "\n",
    "这就是说, $\\varphi(x)$ 是积分方程 $y=y_0+\\int_{x_0}^x f(x,y)\\,\\mathrm dx$, $x_0\\leq x\\leq x_0+h$ 的定义于 $x_0\\leq x\\leq x_0+h$ 上的连续解.\n",
    "\n",
    "命题 4 证毕. $\\square$"
   ]
  },
  {
   "cell_type": "markdown",
   "metadata": {},
   "source": [
    "### 命题5 "
   ]
  },
  {
   "cell_type": "markdown",
   "metadata": {},
   "source": [
    "设 $\\psi(x)$ 是积分方程 \n",
    "$$\n",
    "y=y_0+\\int_{x_0}^x f(x,y)\\,\\mathrm dx,\\quad x_0\\leq x\\leq x_0+h\n",
    "$$ \n",
    "的定义与 $x_0\\leq x\\leq x_0+h$ 上的另一个连续解，则  \n",
    "$$\n",
    "\\varphi(x)=\\psi(x), \\quad x_0\\leq x\\leq x_0+h\n",
    "$$ "
   ]
  },
  {
   "cell_type": "markdown",
   "metadata": {},
   "source": [
    "**证明:** 我们证明 $\\psi(x)$ 也是序列 $\\{\\varphi(x)_n\\}_{n=0}^{\\infty}$ 的一致收敛极限函数. 从"
   ]
  },
  {
   "cell_type": "markdown",
   "metadata": {},
   "source": [
    "$$\n",
    "\\begin{aligned}\n",
    "&\\begin{cases}\n",
    "\\varphi_0(x) =y_0\\\\\n",
    "\\varphi_n(x)=y_0+\\int_{x_0}^x f(\\xi,\\varphi_{n-1}(\\xi)\\,\\mathrm d\\xi, &\\quad n\\geq 1,\\\\\n",
    "\\end{cases} \\\\\n",
    "&\\psi(x) =y_0+\\int_{x_0}^x f(\\xi,\\psi(\\xi))\\, \\mathrm d\\xi,\n",
    "\\end{aligned}\n",
    "$$\n",
    "\n",
    "可以进行如下估计\n",
    "\n",
    "$$\n",
    "\\begin{aligned}\n",
    "|\\varphi_0(x)-\\psi(x)| & \\leq \\int_{x_0}^x|f(\\xi,\\psi_0(\\xi))|\\leq M(x-x_0)\\\\\n",
    "|\\varphi_1(x)-\\psi(x)| & \\leq \\int_{x_0}^x |f(\\xi,\\varphi_0(\\xi))-f(\\xi,\\psi(\\xi))|\\,\\mathrm d\\xi\\\\\n",
    "& \\leq L\\int_{x_0}^x |\\varphi_0(\\xi)-\\psi(\\xi)|\\,\\mathrm d\\xi\\\\\n",
    "& \\leq ML\\int_{x_0}^x(\\xi-x_0)\\,\\mathrm d \\xi\\\\\n",
    "& =\\frac{ML}{2!}(x-x_0)^2\n",
    "\\end{aligned}\n",
    "$$"
   ]
  },
  {
   "cell_type": "markdown",
   "metadata": {},
   "source": [
    "现设 \n",
    "$$ \n",
    "|\\varphi_{n-1}(x)-\\psi(x)|\\leq \\frac{ML^{n-1}}{n!}(x-x_0)^n,\n",
    "$$\n",
    "则有\n",
    "\n",
    "$$\n",
    "\\begin{aligned}\n",
    "|\\varphi_n(x)-\\psi(x)| & \\leq \\int_{x_0}^x |f(\\xi,\\varphi_{n-1}(\\xi))-f(\\xi,\\psi(\\xi))|\\,\\mathrm d\\xi\\\\\n",
    "& \\leq L\\int_{x_0}^x|\\varphi_{n-1}(\\xi)-\\psi(\\xi)|\\,\\mathrm d\\xi\\\\\n",
    "& \\leq\\frac{ML^n}{n!}\\int_{x_0}^x(\\xi-x_0)^n\\,\\mathrm d\\xi\\\\\n",
    "& =\\frac{ML^n}{(n+1)!}(x-x_0)^{n+1}\n",
    "\\end{aligned}\n",
    "$$  \n",
    "\n",
    "故由数学归纳法得知，对于所有的正整数 $n$, 有下面的估计式\n",
    "\n",
    "$$\n",
    "|\\varphi_n(x)-\\psi(x)|\\leq\\frac{ML^n}{(n+1)!}(x-x_0)^{n+1}\n",
    "$$"
   ]
  },
  {
   "cell_type": "markdown",
   "metadata": {},
   "source": [
    "因此, 在 $x_0\\leq x\\leq x_0+h$ 有\n",
    "\n",
    "$$\n",
    "|\\varphi_n(x)-\\psi(x)|\\leq \\frac{ML^n}{(n+1)!}(x-x_0)^{n+1}\n",
    "$$\n",
    "\n",
    "$\\frac{ML^n}{(n+1)!}h^{n+1}$ 是收敛级数的公项，故 $n\\to \\infty$ 时，$\\frac{ML^n}{(n+1)!}h^{n+1}\\to 0$, 因而 ${\\varphi_n(x)}$ 在 $x_0\\leq x\\leq x_0+h$ 上一致收敛于 $\\psi(x)$, 根据极限的唯一性，即得\n",
    "\n",
    "$$\n",
    "\\varphi(x)=\\psi(x),\\quad x_0\\leq x\\leq x_0+h.\n",
    "$$\n",
    "\n",
    "命题 5 证毕. $\\square$"
   ]
  },
  {
   "cell_type": "markdown",
   "metadata": {},
   "source": [
    "综合命题1-5,即得到存在唯一性定理的证明。"
   ]
  },
  {
   "cell_type": "markdown",
   "metadata": {},
   "source": [
    "**例 1**  求初值问题 \n",
    "$$ \n",
    "\\begin{cases}\n",
    "\\frac{\\mathrm dy}{\\mathrm dx}=x^2+y^2\\\\y(0)=0\n",
    "\\end{cases} \n",
    "$$\n",
    "的第三次近似解."
   ]
  },
  {
   "cell_type": "markdown",
   "metadata": {},
   "source": [
    "**解:**\n",
    "$$\n",
    "\\begin{aligned}\n",
    "\\varphi_0(x)&=0\\\\\n",
    "\\varphi_1(x)&=\\int_0^x\\left[x^2+{\\varphi_0}^2(x)\\right]\\,\\mathrm dx=\\frac{x^3}{3}\\\\\n",
    "\\varphi_2(x)&=\\int_0^x\\left[x^2+{\\varphi_1}^2(x)\\right]\\,\\mathrm dx=\\int_0^x\\left[x^2+\\frac{x^6}{3^2}\\right]\\,\\mathrm\n",
    "dx=\\frac{x^3}{3}+\\frac{x^7}{63}\\\\\n",
    "\\varphi_3(x)&=\\int_0^x\\left[x^2+{\\varphi_2(x)}^2\\right]\\,\\mathrm dx=\\int_0^x\\left[x^2+\\frac{x^6}{3^2}+\\frac{2x^{10}}\n",
    "{189}+\\frac{x^{14}}{3969}\\right]\\,\\mathrm dx=\\frac{x^3}{3}+\\frac{x^7}{63}+\\frac{2x^{11}}{2079}+\\frac{x^{15}}{59535}\n",
    "\\end{aligned}\n",
    "$$"
   ]
  },
  {
   "cell_type": "markdown",
   "metadata": {},
   "source": [
    "### 附注 1)"
   ]
  },
  {
   "cell_type": "markdown",
   "metadata": {},
   "source": [
    "如果 $\\frac{\\partial f}{\\partial y}$ 在矩形区域 $R$ 上存在且连续，则 $f(x,y)$ 在 $R$ 上关于 $y$ 满足利普希茨条件，反之不成立。"
   ]
  },
  {
   "cell_type": "markdown",
   "metadata": {},
   "source": [
    "**证:** $\\frac{\\partial f}{\\partial y}$ 在 $R$ 上连续，则在 $R$ 上有界，记为$L$. $\\forall (x,y_i)\\in R, i=1,2$ 由中值定理, 存在 $\\xi\\in (y_1, y_2)$ \n",
    "\n",
    "$$ \n",
    "|f(x,y_1)-f(x,y_2)|=\\left|f^\\prime_y(x,\\xi)\\right|\\left|y_1-y_2\\right|\\leq L\\left|y_1-y_2\\right|, \n",
    "$$\n",
    "\n",
    "故 $f(x,y)$ 在 $R$ 上关于 $y$ 满足利普希茨条件."
   ]
  },
  {
   "cell_type": "markdown",
   "metadata": {},
   "source": [
    "**例 2** 考虑方程 \n",
    "$$\n",
    "\\frac{\\mathrm dy}{\\mathrm dx}=|y|\n",
    "$$ \n",
    "其定义域为中心在原点的矩形域, 记为 $R$. "
   ]
  },
  {
   "cell_type": "markdown",
   "metadata": {},
   "source": [
    "易知 $f(x,y)=|y|$ 在 $y=0$($x$ 轴上)无导数，但 \n",
    "$$\n",
    "|f(x,y_1)-f(x,y_2)|\\leq ||y_1|-|y_2||\\leq |y_1-y_2|\n",
    "$$ \n",
    "故 $f(x,y)$ 在 $R$ 上关于 $y$ 满足利普希茨条件。$\\square$"
   ]
  },
  {
   "cell_type": "markdown",
   "metadata": {},
   "source": [
    "### 附注 2)"
   ]
  },
  {
   "cell_type": "markdown",
   "metadata": {},
   "source": [
    "定理 1 中的两个条件是保证柯西问题存在唯一的充分条件, 而非必要条件。"
   ]
  },
  {
   "cell_type": "markdown",
   "metadata": {},
   "source": [
    "**例 3** 当连续条件不满足时, 解也可能存在唯一。"
   ]
  },
  {
   "cell_type": "markdown",
   "metadata": {},
   "source": [
    "$$\n",
    "\\frac{\\mathrm dy}{\\mathrm dx}=f(x,y)=\n",
    "\\begin{cases}a & y=ax & a\\neq 0\\\\0 & y\\neq ax\\end{cases}\n",
    "$$\n",
    "\n",
    "$f(x,y)$ 在以原点为中心的矩形域中不连续，但解存在唯一 \n",
    "$$ \n",
    "\\begin{cases}当 y=ax   &  \\frac{\\mathrm dy}{\\mathrm dx}=a &  y=ax\\\\当  y\\neq ax &   \\frac{\\mathrm dy}{\\mathrm dx}=0 & y=C\n",
    "\\end{cases}\n",
    "$$"
   ]
  },
  {
   "cell_type": "markdown",
   "metadata": {},
   "source": [
    "**例 4** 当 Lipscitz 条件不满足时, 解也可能存在唯一. 如"
   ]
  },
  {
   "cell_type": "markdown",
   "metadata": {},
   "source": [
    "\n",
    "$$\n",
    "\\frac{\\mathrm dy}{\\mathrm dx}=f(x,y)=\n",
    "\\begin{cases} y\\ln|y|  &  y\\neq0\\\\\n",
    "0  &  y=0\\end{cases}\n",
    "$$\n",
    "的解存在唯一: \n",
    "\n",
    "$$\n",
    "\\begin{aligned}\n",
    "\\frac{\\mathrm dy}{\\mathrm dx}&=y\\ln|y|\\\\\n",
    "\\frac{\\mathrm dy}{y\\ln |y|}&=dx\\\\\n",
    "\\frac{\\mathrm dy}{y\\ln |y|}&=\\mathrm dx\\\\\n",
    "\\frac{\\mathrm d\\ln|y|}{\\ln |y|}&=\\mathrm dx\\\\\n",
    "\\ln|\\ln|y||&=x+c_1\\\\\n",
    "\\ln|y|&=c_2e^x\\\\\n",
    "y&=\\pm e^{c_2e^x}\n",
    "\\end{aligned}\n",
    "$$\n",
    "但在 $f(x,y)$ 在 $(x,0)$ 的任何领域内不满足 Lipscitz 条件: \n",
    "$$\n",
    "|f(x,y_1)-f(x,0)|=|y\\ln|y_1|-0|=\\left|\\ln|y_1|\\right|\\cdot\\left|y_1-0\\right|\\\\\n",
    "y_1\\longrightarrow 0, \\quad \\left|\\ln|y_1|\\right| \\longrightarrow \\infty\n",
    "$$"
   ]
  },
  {
   "cell_type": "markdown",
   "metadata": {},
   "source": [
    "### 附注 3)"
   ]
  },
  {
   "cell_type": "markdown",
   "metadata": {},
   "source": [
    "对于线性方程 \n",
    "$$ \n",
    "\\frac{\\mathrm dy}{\\mathrm dx}=P(x)y+Q(x).\n",
    "$$ \n",
    "当 $P(x)$, $Q(x)$ 在区间 $[\\alpha,\\beta]$ 上连续时，\n",
    "\n",
    "1. 满足定理 1 的条件, 解存在唯一.\n",
    "1. 由任一初值 $(x_0,y_0)$, 其中 $x_0\\in [\\alpha,\\beta]$, 所确定的解在整个区间 $[\\alpha,\\beta]$ 上都存在. "
   ]
  },
  {
   "cell_type": "markdown",
   "metadata": {},
   "source": [
    "### 附注 4)"
   ]
  },
  {
   "cell_type": "markdown",
   "metadata": {},
   "source": [
    "一阶隐式方程的解的存在唯一性\n",
    "$$\n",
    "\\begin{cases}\n",
    "F(x,y,y')=0\\\\\n",
    "y(x_0)=y_0, y'(x_0)=y_0^\\prime\n",
    "\\end{cases}\n",
    "$$"
   ]
  },
  {
   "cell_type": "markdown",
   "metadata": {},
   "source": [
    "### 定理2"
   ]
  },
  {
   "cell_type": "markdown",
   "metadata": {},
   "source": [
    "如果在点 $(x_0,y_0,{y_0}′)$ 的某一邻域中,\n",
    "\n",
    "1. $F(x,y,y') $ 对所有的变元 $(x,y,y')$ 连续,且存在连续的偏导数;\n",
    "\n",
    "2. $F(x_0,y_0,{y_0}′) = 0$\n",
    "\n",
    "3. $\\frac{\\partial F(x_0,y_0,{y_0}')}{\\partial y'}\\neq 0$"
   ]
  },
  {
   "cell_type": "markdown",
   "metadata": {},
   "source": [
    "则上述初值问题的解在 $x_0$ 的某一邻域存在. 事实上, 由条件知 $F(x,y,y')=0$ 所确定的隐函数 $y'=f(x,y)$ 在 $(x_0,y_0)$ 领域内连续，\n",
    "\n",
    "且 \n",
    "$$ \n",
    "\\frac{\\partial f}{\\partial y}=-\\frac{{F'}_y}{{F'}_{y'}}\n",
    "$$\n",
    "在 $(x_0,y_0)$ 领域内连续，在以 $(x_0,y_0)$ 为中心的某一闭矩形 $D$ 中有界，所以 $f(x,y)$ 在 $D$ 中关于 $y$ 满足Lipschitz条件。由解的惟一性定理，\n",
    "\n",
    "$$\n",
    "\\begin{cases}\n",
    "\\frac{\\mathrm dy}{\\mathrm dx}=f(x,y)\\\\\n",
    "y(x_0)=y_0\n",
    "\\end{cases}\n",
    "$$\n",
    " \n",
    "的解的 $y(x)$ 存在唯一，存在区间中的 $h$ 可足够小。\n",
    "\n",
    "同时，有 \n",
    "$$\n",
    "y(x_0)=y_0,\\quad y'(x_0)=y_0^\\prime=f(x_0,y_0)\n",
    "$$"
   ]
  },
  {
   "cell_type": "markdown",
   "metadata": {},
   "source": [
    "# 三 、 近似计算和误差估计"
   ]
  },
  {
   "cell_type": "markdown",
   "metadata": {},
   "source": [
    "### 第 n 次近似解"
   ]
  },
  {
   "cell_type": "markdown",
   "metadata": {},
   "source": [
    "$$\n",
    "\\begin{cases}\n",
    "\\varphi_0(x)&=y_0\\\\\n",
    "\\varphi_n(x)&=y_0+\\int_{x_0}^x f(\\xi,\\varphi_{n-1}(\\xi))\\,\\mathrm d\\xi, \\quad x_0\\leq x\\leq x_0+h\n",
    "\\end{cases}\n",
    "$$"
   ]
  },
  {
   "cell_type": "markdown",
   "metadata": {},
   "source": [
    "### 第 n 次近似解的误差公式"
   ]
  },
  {
   "cell_type": "markdown",
   "metadata": {},
   "source": [
    "$$\n",
    "|\\varphi_n(x)-\\varphi(x)|\\leq \\frac{ML^n}{(n+1)!}h^{n+1}\n",
    "$$"
   ]
  },
  {
   "cell_type": "markdown",
   "metadata": {},
   "source": [
    "**例 6** 方程 \n",
    "$$\n",
    "\\frac{\\mathrm dy}{\\mathrm dx}=x^2+y^2\n",
    "$$ \n",
    "定义在矩形域 \n",
    "$$\n",
    "R：-1\\leq x\\leq 1,-1\\leq y\\leq 1.\n",
    "$$ \n",
    "试确定经过 $(0,0)$ 的解的存在区间，并求在此区间上与真正解的误差不超过 0.05 的近似解的表达式."
   ]
  },
  {
   "cell_type": "markdown",
   "metadata": {},
   "source": [
    "**解:** 满足解的唯一性条件"
   ]
  },
  {
   "cell_type": "markdown",
   "metadata": {},
   "source": [
    "$$\n",
    "M=\\displaystyle\\max _{(x,y)\\in R} |x^2+y^2|=2,\\quad\n",
    "h=\\min (a,\\frac{b}{M})=\\min(1,\\frac{1}{2})=\\frac{1}{2}\n",
    "$$\n",
    "\n",
    "Lipschitz 常数取为 $L=2$,因为\n",
    "\n",
    "$$\n",
    "|\\frac{\\partial f}{\\partial y}|=|2y|\\leq 2=L\n",
    "$$\n",
    "\n",
    "根据误差公式\n",
    "\n",
    "$$\n",
    "|\\varphi_n(x)-\\varphi (x)|\\leq \\frac{ML^n}{(n+1)!}h^{n+1}=\\frac{M}{L}\\frac{1}{(n+1)!}(Lh)^{n+1}=\\frac{1}{(n+1)!}<0.05\n",
    "$$\n",
    "可知, 当 $n=3$ 时即可满足精度要求.\n",
    "\n",
    "$$\n",
    "\\begin{aligned}\n",
    "\\varphi_0(x)&=0\\\\\n",
    "\\varphi_1(x)&=\\int_0^x[x^2+{\\varphi_0}^2]\\,\\mathrm dx=\\frac{x^3}{3}\\\\\n",
    "\\varphi_2(x)&=\\int_0^x[x^2+\\varphi_1{^2}(x)]\\,\\mathrm  dx=\\int_0^x[x^2+\\frac{x^6}{3^2}]\\,\\mathrm dx=\\frac{x^3}{3}+\\frac{x^7}{63}\\\\\n",
    "\\varphi_3(x)&=\\int\\limits_0^x[x^2+\\varphi_2{^2}(x)]\\mathrm  dx=\\int\\limits_0^x[x^2+\\frac{x^6}{3^2}+\\frac{2x^{10}}{189}+\\frac{x^{14}}{3969}]\\mathrm dx=\\frac{x^3}{3}+\\frac{x^7}{63}+\\frac{2x^{11}}{2079}+\\frac{x^{15}}{59535}\n",
    "\\end{aligned}\n",
    "$$\n",
    "\n",
    "$\\varphi_3(x)$ 就是所求的近似解. 在区间 $-\\frac{1}{2}\\leq x\\leq \\frac{1}{2}$ 上，这个解与真正解的误差不会超过 0.05."
   ]
  },
  {
   "cell_type": "markdown",
   "metadata": {},
   "source": [
    "## 四，一阶隐式微分方程解的局部存在唯一性定理"
   ]
  },
  {
   "cell_type": "markdown",
   "metadata": {},
   "source": [
    "$$\n",
    "F(x, y, y') = 0\n",
    "$$"
   ]
  },
  {
   "cell_type": "markdown",
   "metadata": {
    "collapsed": true
   },
   "source": [
    "# 作业\n",
    "P88 1. 6. 8. 11."
   ]
  },
  {
   "cell_type": "code",
   "execution_count": null,
   "metadata": {
    "collapsed": true
   },
   "outputs": [],
   "source": []
  }
 ],
 "metadata": {
  "kernelspec": {
   "display_name": "Python 3",
   "language": "python",
   "name": "python3"
  },
  "language_info": {
   "codemirror_mode": {
    "name": "ipython",
    "version": 3
   },
   "file_extension": ".py",
   "mimetype": "text/x-python",
   "name": "python",
   "nbconvert_exporter": "python",
   "pygments_lexer": "ipython3",
   "version": "3.5.2"
  },
  "latex_envs": {
   "bibliofile": "biblio.bib",
   "cite_by": "apalike",
   "current_citInitial": 1,
   "eqLabelWithNumbers": true,
   "eqNumInitial": 0
  }
 },
 "nbformat": 4,
 "nbformat_minor": 0
}
