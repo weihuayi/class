{
 "cells": [
  {
   "cell_type": "markdown",
   "metadata": {},
   "source": [
    "$\\newcommand\\d{\\,{\\mathrm d}}$\n",
    "$\\newcommand\\p{\\partial}$"
   ]
  },
  {
   "cell_type": "markdown",
   "metadata": {},
   "source": [
    "# 3.4 奇解"
   ]
  },
  {
   "cell_type": "markdown",
   "metadata": {},
   "source": [
    "## 主要内容"
   ]
  },
  {
   "cell_type": "markdown",
   "metadata": {},
   "source": [
    "## • 包络和奇解\n",
    "\n",
    "## • 克莱罗方程（Clairant Equation）"
   ]
  },
  {
   "cell_type": "markdown",
   "metadata": {},
   "source": [
    "##  本节要求："
   ]
  },
  {
   "cell_type": "markdown",
   "metadata": {},
   "source": [
    "1. 了解奇解的意义;\n",
    "\n",
    "2. 掌握求奇解的方法;"
   ]
  },
  {
   "cell_type": "markdown",
   "metadata": {},
   "source": [
    "## 一. 包络定义"
   ]
  },
  {
   "cell_type": "markdown",
   "metadata": {},
   "source": [
    "给定平面上的单参数曲线族 \n",
    "\n",
    "$$ \n",
    "\\Phi (x,y,c)=0, \n",
    "$$\n",
    "其中 $c$ 是参数， $\\Phi$ 是 $x$， $y$， $c$ 的连续可微函数。 单参数曲线族的包络曲线是指， 它本身并不包含在积分曲线族中, 但过这条曲线上的每一点, 都有积分曲线族中的一条曲线与其在此点**相切**."
   ]
  },
  {
   "cell_type": "markdown",
   "metadata": {},
   "source": [
    "**例:** 单参数曲线族\n",
    "\n",
    "$$\n",
    "(x-c)^2+y^2=R^2\n",
    "$$\n",
    "\n",
    "$R$ 是常数, $c$ 是参数.\n",
    "\n",
    "![](./figures/1.jpg)\n",
    "\n",
    "显然，$y = \\pm R $ 是曲线族 $(x-c)^2+y^2=R^2$ 的包络."
   ]
  },
  {
   "cell_type": "markdown",
   "metadata": {},
   "source": [
    "**注:** 一般的曲线族并不一定有包络，如同心圆族，平行线族等都是没有包络的."
   ]
  },
  {
   "cell_type": "markdown",
   "metadata": {},
   "source": [
    "## 二. 求包络线的方法: $c$-判别曲线法"
   ]
  },
  {
   "cell_type": "markdown",
   "metadata": {},
   "source": [
    "给定平面上的单参数曲线族 \n",
    "\n",
    "$$ \n",
    "\\Phi (x,y,c)=0, \n",
    "$$\n",
    "\n",
    "如何求 $\\Phi$ 的包络线。"
   ]
  },
  {
   "cell_type": "markdown",
   "metadata": {},
   "source": [
    "###  1. $c$-判别曲线法"
   ]
  },
  {
   "cell_type": "markdown",
   "metadata": {},
   "source": [
    "积分曲线族的包络线应满足下列方程组:\n",
    "\n",
    "$$\n",
    "\\begin{cases}\n",
    "\\Phi(x,y, c)=0\\\\\n",
    "\\Phi'_c(x,y,c)=0\\\\\n",
    "\\end{cases}\n",
    "$$"
   ]
  },
  {
   "cell_type": "markdown",
   "metadata": {},
   "source": [
    "**证:** 设由 \n",
    "\n",
    "$$\n",
    "\\begin{cases}\n",
    "\\Phi(x,y,c)=0\\\\\n",
    "\\Phi'_c(x,y,c)=0\\\\\n",
    "\\end{cases}\n",
    "$$\n",
    "\n",
    "能确定出曲线为 $L:x=x(c)$, $y=y(c)$\n",
    "则 \n",
    "$$ \n",
    "\\Phi(x(c),y(c), c)=0\n",
    "$$\n",
    "对参数 $c$ 求导数\n",
    "\n",
    "$$\n",
    "\\Phi'_x(x(c),y(c), c)x'(c)+\\Phi'_y(x(c),y(c), c)y'(c)+\\Phi'_c(x(c),y(c),c)=0\n",
    "$$\n",
    "\n",
    "从而得到恒等式\n",
    "\n",
    "$$\n",
    "\\Phi'_x(x(c),y(c),c)x'(c)+\\Phi'_y(x(c),y(c),c)y'(c)=0\n",
    "$$\n",
    "\n",
    "当 $\\Phi'_x(x,y,c)=0$ , $\\Phi'_y(x,y,c)=0$ 至少有一个不为零时有\n",
    "\n",
    "$$\n",
    "\\frac{y'(c)}{x'(c)}=-\\frac{\\Phi'_x(x(c),y(c),c)}{\\Phi'_y(x(c),y(c),c)}\n",
    "$$\n",
    "\n",
    "或\n",
    "\n",
    "$$\n",
    "\\frac{x'(c)}{y'(c)}=-\\frac{\\Phi'_y(x(c),y(c),c)}{\\Phi'_x(x(c),y(c),c)}\n",
    "$$\n",
    "\n",
    "这表明曲线 $L$ 在其上每一点 $(x(c), y(c))$ 处均与曲线族中对应于 $c$ 的曲线 $\\Phi(x, y,c)=0$ 相切.\n",
    "\n",
    "证毕. $\\square$"
   ]
  },
  {
   "cell_type": "markdown",
   "metadata": {},
   "source": [
    "**注：**  满足 $c$-判别曲线法方程的解并不一定全为原微分方程积分曲线族的包络, 解出之后仍须检验."
   ]
  },
  {
   "cell_type": "markdown",
   "metadata": {},
   "source": [
    "**例1** 求直线族\n",
    "$$\n",
    "xcosα+ysinα−p=0\n",
    "$$\n",
    "的包络，这里 $\\alpha$ 是参数, $p$ 是常数."
   ]
  },
  {
   "cell_type": "markdown",
   "metadata": {},
   "source": [
    "**解：** 对参数 $\\alpha$ 求导数\n",
    "$$\n",
    "−x\\sin\\alpha + y\\cos\\alpha=0\n",
    "$$\n",
    "\n",
    "联立\n",
    "\n",
    "$$\n",
    "\\begin{cases}\n",
    "x\\cos\\alpha+y\\sin\\alpha−p=0\\\\\n",
    "−x\\sin\\alpha + y\\cos\\alpha=0\\\\\n",
    "\\end{cases}\n",
    "$$\n",
    "\n",
    "$$\n",
    "x^2\\cos^2\\alpha+y^2\\sin^2\\alpha+2xy \\sin\\alpha\\cos\\alpha=p^2\n",
    "$$\n",
    "\n",
    "$$\n",
    "x^2\\sin^2\\alpha+y^2\\cos^2\\alpha-2xy \\sin\\alpha \\cos\\alpha=0\n",
    "$$\n",
    "\n",
    "相加，得 $x^2+y^2=p^2$ , 经检验，其是所求包络线.\n",
    "\n",
    "解毕. $\\square$"
   ]
  },
  {
   "cell_type": "markdown",
   "metadata": {},
   "source": [
    "**例2** 求曲线族\n",
    "$$\n",
    "(y-c)^2-\\frac{2}{3}(x-c)^3=0\n",
    "$$\n",
    "的包络,这里 $c$ 是参数."
   ]
  },
  {
   "cell_type": "markdown",
   "metadata": {},
   "source": [
    "**解：** 对参数 $c$ 求导数 $(y-c)^2-\\frac{2}{3}(x-c)^3=0$\n",
    "\n",
    "联立\n",
    "\n",
    "$$\n",
    "\\begin{cases}\n",
    "(y-c)^2-\\frac{2}{3}(x-c)^3=0\\\\\n",
    "y-c-(x-c)^2=0\\\\\n",
    "\\end{cases}\n",
    "$$\n",
    "\n",
    "得 $(x-c)^3[(x-c)-\\frac{2}{3}]=0$ 从 $x-c=0$ 得到 $y=x$.\n",
    "\n",
    "从 $(x-c)-\\frac{2}{3}=0$  得到 $y=x-\\frac{2}{9}$.\n",
    "\n",
    "因此, $C$-判别曲线中包括了两条曲线, 易检验，$y=x-\\frac{2}{9}$ 是所求包络线.\n",
    "\n",
    "![](./figures/2.jpg). "
   ]
  },
  {
   "cell_type": "markdown",
   "metadata": {},
   "source": [
    "## 三、奇解与$p$-判别曲线法"
   ]
  },
  {
   "cell_type": "markdown",
   "metadata": {},
   "source": [
    "给定一阶微分方程 \n",
    "$$ \n",
    "F(x, y, \\frac{\\mathrm d y}{\\mathrm d x})=0， \n",
    "$$\n",
    "如果它的通解的包络若存在， 则它是**奇解**， 反之亦然。\n",
    "\n",
    "* 在微分方程奇解通过的每一点上， 至少还有方程的另外一个解通过它。\n",
    "* 微分方程通解的包络（如是存在的话）一定是微分方程的奇解，反之亦成立。所以，要想求微分方程的奇解，可以先求方程的通解，然后求通解的包络。"
   ]
  },
  {
   "cell_type": "markdown",
   "metadata": {},
   "source": [
    "方程 $F(x,y,y')=0$ 的奇解包含在下列方程组\n",
    "\n",
    "$$\n",
    "\\begin{cases}\n",
    "F(x,y, p)=0\\\\\n",
    "F'_p(x,y,p)=0\\\\\n",
    "\\end{cases}\n",
    "$$\n",
    "\n",
    "消去 $p$ 而得到的曲线中."
   ]
  },
  {
   "cell_type": "markdown",
   "metadata": {},
   "source": [
    "设方程的解 \n",
    "$$\n",
    "\\begin{cases}\n",
    "x = x(p) \\\\\n",
    "y = y(p)\n",
    "\\end{cases}\n",
    "$$\n",
    "\n",
    "$$\n",
    "F(x(p), y(p), p) = 0\n",
    "$$\n",
    "\n",
    "$$F'_x x'_p + F'_yy'_p = 0$$\n",
    "\n"
   ]
  },
  {
   "cell_type": "markdown",
   "metadata": {},
   "source": [
    "**注:** $p$-判别曲线中除了包络外, 还有其他曲线, 尚需检验."
   ]
  },
  {
   "cell_type": "markdown",
   "metadata": {},
   "source": [
    "**例3** 求方程 $\\left(\\frac{\\mathrm d y}{\\mathrm d x}\\right)^2+y^2-1=0$ 的奇解。\n",
    "\n",
    "\n",
    "**解:** 从\n",
    "$$\n",
    "\\begin{cases}\n",
    "p^2+y^2-1=0\\\\\n",
    "2p=0\\\\\n",
    "\\end{cases}\n",
    "$$\n",
    "\n",
    "消去 $p$, 得到 $p$-判别曲线\n",
    "$$\n",
    "y=\\pm 1\n",
    "$$\n",
    "\n",
    "经检验, 它们是方程的奇解.\n",
    "\n",
    "因为易求得原方程的通解为 $y=sin(x+c)$\n",
    "而 $y=\\pm 1$ 是方程的解 y = ±1，且正好是通解的包络."
   ]
  },
  {
   "cell_type": "markdown",
   "metadata": {},
   "source": [
    "**例4** 求方程 $y=2x\\frac{\\mathrm d y}{\\mathrm d x}-\\left(\\frac{\\mathrm d y}{\\mathrm d x}\\right)^2$ 的奇解.\n",
    "\n",
    "**解:** 从\n",
    "$$\n",
    "\\begin{cases}\n",
    "y=2xp-p^2\\\\\n",
    "2x-2p=0\\\\\n",
    "\\end{cases}\n",
    "$$\n",
    "\n",
    "消去 $p$, 得到 $p$-判别曲线 $y=x^2$. \n",
    "经检验, **它不是方程的解**, 故此方程没有奇解.\n",
    "\n",
    "注意: 以上两种方法, 只提供求奇解的途径, 所得 $p$-判别曲线和 $c$-判别曲线是不是奇解, 必需进行检验."
   ]
  },
  {
   "cell_type": "markdown",
   "metadata": {},
   "source": [
    "**3、克莱罗方程**"
   ]
  },
  {
   "cell_type": "markdown",
   "metadata": {},
   "source": [
    "形如\n",
    "\n",
    "$$\n",
    "y=xp+f(p)\n",
    "$$\n",
    "的方程，称为**克莱罗微分方程**\n",
    "\n",
    "其中 $p=\\frac{\\mathrm d y}{\\mathrm d x} $, $f(p) $ 是 $p$ 的连续函数.\n",
    "\n",
    "**解：** 先求通解，上式两端对 $p$ 求导可得\n",
    "\n",
    "$$\n",
    "p=p+xp'+f'(p)p'\n",
    "$$\n",
    "\n",
    "$$\n",
    "(x+f'(p))p'=0\n",
    "$$\n",
    "\n",
    "\n",
    "第一种情况：$p' = 0$,  可得 $p = c$， 进而可得方程的通解为：\n",
    "\n",
    "$$\n",
    "y=cx+f(c)\n",
    "$$\n",
    "\n",
    "第二种情况： $x+f'(p)=0$， 可得一个奇解：\n",
    "\n",
    "$$\n",
    "\\begin{cases}\n",
    "x=-f'(p)\\\\\n",
    "y=-f'(p)p+f(p)\\\\  \n",
    "\\end{cases}\n",
    "$$"
   ]
  },
  {
   "cell_type": "markdown",
   "metadata": {},
   "source": [
    "**例5** 求解方程 $y=xp+\\frac{1}{p}$\n",
    "\n",
    "**解:** 这是克莱罗方程,因而其通解为 $y=xc+\\frac{1}{c}$\n",
    "从\n",
    "\n",
    "$$\n",
    "\\begin{cases}\n",
    "x = \\frac{1}{c^2}\\\\\n",
    "y=xc+\\frac{1}{c}\\\\\n",
    "\\end{cases}\n",
    "$$\n",
    "\n",
    "消去 $c$ ,得到奇解\n",
    "$$\n",
    "y^2=4x\n",
    "$$"
   ]
  },
  {
   "cell_type": "markdown",
   "metadata": {},
   "source": [
    "**例6** 求一曲线，使在其上每一点的切线截割坐标轴而成的直角三角形的面积都等于2.\n",
    "\n",
    "**解** 设要求的曲线为 $y=y(x)$ 过曲线任上一点 $(x,y)$ 的切线方程为\n",
    "\n",
    "$$\n",
    "Y=y'(x)(X-x)+y\n",
    "$$\n",
    "\n",
    "其与坐标轴的交点为 $(-\\frac{y}{y'}+x,-xy'+y)$ 切线截割坐标轴而成的直角三角形的面积为 \n",
    "\n",
    "$$\n",
    "\\begin{aligned}\n",
    "\\frac{1}{2}(-\\frac{y}{y'}+x)(-xy'+y) & =2\\\\\n",
    "(y-xy')^2 & = -4y'\\\\\n",
    "y-xy' & =\\pm 2\\sqrt{-y'}\n",
    "\\end{aligned}\\\\\n",
    "$$\n",
    "\n",
    "即 $y=xy'\\pm 2\\sqrt{-y'}$\n",
    "\n",
    "这是克莱罗方程,因而其通解为\n",
    "\n",
    "$$\n",
    "y=c_1x\\pm2\\sqrt{-c_1}=2c-c^2x, \\quad c_1 < 0\n",
    "$$\n",
    "\n",
    "从\n",
    "\n",
    "$$\n",
    "\\begin{cases}\n",
    "y=2c-c^2x\\\\\n",
    "2-2cx=0\\\\\n",
    "\\end{cases}\n",
    "$$\n",
    "\n",
    "消去 $c$，得到奇解 $xy=1$\n",
    "这是等腰双曲线,显然它就是满足要求的曲线."
   ]
  },
  {
   "cell_type": "markdown",
   "metadata": {
    "collapsed": true
   },
   "source": [
    "## 课堂练习:"
   ]
  },
  {
   "cell_type": "markdown",
   "metadata": {},
   "source": [
    "1 求一曲线，使在其上每一点的切线截割坐标轴的两截距之和等于常数 $a$.\n",
    "\n",
    "2求解方程，并画出积分曲线图.\n",
    "\n",
    "(1)$y=x\\frac{\\mathrm d y}{\\mathrm d x}+\\sqrt{1+(\\frac{\\mathrm d y}{\\mathrm d x})^2}$\n",
    "\n",
    "(2)$(\\frac{\\mathrm d y}{\\mathrm d x})^2+x\\frac{\\mathrm d y}{\\mathrm d x}-y=0$"
   ]
  },
  {
   "cell_type": "markdown",
   "metadata": {},
   "source": [
    "## 课堂笔记 \n",
    "\n",
    "1. 用 $c$-判别法或 $p$-判别法要检验获得的曲线是否为奇解？ 主要验证它上任一点上都有一条通解的积分曲线和它相切。\n",
    "2. 隐函数曲线的导数"
   ]
  }
 ],
 "metadata": {
  "kernelspec": {
   "display_name": "Python 3",
   "language": "python",
   "name": "python3"
  },
  "language_info": {
   "codemirror_mode": {
    "name": "ipython",
    "version": 3
   },
   "file_extension": ".py",
   "mimetype": "text/x-python",
   "name": "python",
   "nbconvert_exporter": "python",
   "pygments_lexer": "ipython3",
   "version": "3.5.2"
  },
  "latex_envs": {
   "bibliofile": "biblio.bib",
   "cite_by": "apalike",
   "current_citInitial": 1,
   "eqLabelWithNumbers": true,
   "eqNumInitial": 0
  }
 },
 "nbformat": 4,
 "nbformat_minor": 0
}
