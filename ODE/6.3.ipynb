{
 "cells": [
  {
   "cell_type": "markdown",
   "metadata": {
    "collapsed": true
   },
   "source": [
    "# 奇点"
   ]
  },
  {
   "cell_type": "markdown",
   "metadata": {},
   "source": [
    "本节介绍平面定性理论。考虑二维（平面）一阶驻定微分方程组\n",
    "\n",
    "$$\n",
    "\\begin{cases}\n",
    "\\frac{\\mathrm d x}{\\mathrm d t} = X(x, y),\\\\\n",
    "\\frac{\\mathrm d y}{\\mathrm d t} = Y(x, y),\n",
    "\\end{cases}\n",
    "$$\n",
    "\n",
    "设 $X, Y$ 对 $x$, $y$ 有连续的偏导数(保证解的存在唯一性)， 且 $X^2+Y^2$ 不恒为零。 可将方程组改写为\n",
    "\n",
    "$$\n",
    "\\frac{\\mathrm d y}{\\mathrm d x} = \\frac{Y(x, y)}{X(x, y)}, \\quad (X(x, y)\\not=0)\n",
    "$$\n",
    "或者 \n",
    "$$\n",
    "\\frac{\\mathrm d x}{\\mathrm d y} = \\frac{X(x, y)}{Y(x, y)}, \\quad (Y(x, y)\\not=0)\n",
    "$$\n",
    "\n",
    "\n",
    "1. 新的方程组的解仍是存在唯一的。\n",
    "1. 新的方程组的在 $Oxy$ 上的积分曲线可以看成原方程在 $Oxy$ 平面上的轨线。\n",
    "1. 积分曲线不能相交（但可以相切）"
   ]
  },
  {
   "cell_type": "markdown",
   "metadata": {},
   "source": [
    "求解方程\n",
    "$$\n",
    "\\begin{cases}\n",
    "X(x,y) = 0\\\\\n",
    "Y(x,y) = 0\n",
    "\\end{cases}\n",
    "$$\n",
    "得到的点 $(x^*, y^*)$ 是微分方程组\n",
    "$$\n",
    "\\begin{cases}\n",
    "\\frac{\\mathrm d x}{\\mathrm d t} = X(x, y),\\\\\n",
    "\\frac{\\mathrm d y}{\\mathrm d t} = Y(x, y),\n",
    "\\end{cases}\n",
    "$$\n",
    "的奇点， $x=x^*, y = y^*$ 是相应的解。 \n",
    "\n",
    "**通过坐标平移，每个奇点都可以移到原点 $(0, 0)$**."
   ]
  },
  {
   "cell_type": "markdown",
   "metadata": {},
   "source": [
    "**奇点有很多， 首要的问题是如何分类？用什么样的标准来分类？**， "
   ]
  },
  {
   "cell_type": "markdown",
   "metadata": {},
   "source": [
    "为了便于讨论，我们首先考虑**线性驻定微分方程组**奇点的分类， 依据标准为**奇点邻域内轨线分布的不同性态**。\n",
    "\n",
    "$$\n",
    "\\begin{cases}\n",
    "\\frac{\\mathrm d x}{\\mathrm d t} = ax + by,\\\\\n",
    "\\frac{\\mathrm d y}{\\mathrm d t} = cx + dy.\n",
    "\\end{cases}\n",
    "$$\n",
    "\n",
    "1. 原点 $(0, 0)$ 是奇点;\n",
    "2. 当 $ad - cb \\not=0$, 奇点是唯一的。"
   ]
  },
  {
   "cell_type": "markdown",
   "metadata": {
    "collapsed": true
   },
   "source": [
    "通过非奇异的实线性变换\n",
    "$$\n",
    "\\begin{cases}\n",
    "\\xi = k_{11}x + k_{12}y,\\\\\n",
    "\\eta = k_{21}x + k_{22}y,\n",
    "\\end{cases}\n",
    "$$\n",
    "\n",
    "原线性微分方程组可化为如下四种标准形式之一：\n",
    "$$\n",
    "\\begin{bmatrix} \\lambda & 0 \\\\ 0 & \\mu \\end{bmatrix}, \\quad\n",
    "\\begin{bmatrix} \\lambda & 1\\\\ 0 & \\lambda \\end{bmatrix}, \\quad\n",
    "\\begin{bmatrix} \\lambda & 0 \\\\ 0 & \\lambda \\end{bmatrix}, \\quad\n",
    "\\begin{bmatrix} \\alpha & \\beta \\\\ -\\beta & \\alpha \\end{bmatrix},\n",
    "$$\n",
    "\n",
    "这些形式由线性微分方程的特征根决定。 \n",
    "\n",
    "**为什么要引入线性变换？** 这样可以简化问题的讨论， 因为非奇异的线性变换不改变奇点的位置，也不会引起相平面上轨线的性态发生改变。"
   ]
  },
  {
   "cell_type": "markdown",
   "metadata": {},
   "source": [
    "## 情形 I: 同号相异实根"
   ]
  },
  {
   "cell_type": "markdown",
   "metadata": {},
   "source": [
    "这时方程的标准形式设为\n",
    "$$\n",
    "\\frac{\\mathrm d \\xi}{\\mathrm d t} = \\lambda_1 \\xi, \\frac{\\mathrm d \\eta}{\\mathrm d t} = \\lambda_2 \\eta, \n",
    "$$\n",
    "其解为\n",
    "$$\n",
    "\\xi(t) = Ae^{\\lambda_1 t},\\quad \\eta(t) = B e^{\\lambda_2 t}\n",
    "$$\n",
    "\n",
    "如果 $\\lambda_1, \\lambda_2$ 同为负实数， \n",
    "\n",
    "1. 零解是渐近稳定的\n",
    "1. 当 $B=0$， $\\xi$ 轴的左半轴及右半轴本身为轨线\n",
    "1. 当 $A=0$， $\\eta$ 轴的上半轴及下半轴亦为轨线\n",
    "1. 当 $A\\cdot B\\not=0$\n",
    "    + 若 $\\lambda_1 > \\lambda_2$, 则轨线上 $t$ 时刻的切线斜率 $k$ 有 $$k = \\frac{\\eta(t)}{\\xi(t)}=\\frac{B}{A}e^{(\\lambda_2 - \\lambda_1)t}\\xrightarrow{t\\to+\\infty} 0 $$ 轨线切 $\\xi$ 轴与原点。\n",
    "    + 若 $\\lambda_1 < \\lambda_2$, 则有  $$k = \\frac{\\xi(t)}{\\eta(t)}=\\frac{A}{B}e^{(\\lambda_1 - \\lambda_2)t}\\xrightarrow{t\\to+\\infty} 0 $$ 轨线切 $\\eta$ 轴与原点。"
   ]
  },
  {
   "cell_type": "markdown",
   "metadata": {},
   "source": [
    "**结点：** 结点是一种奇点， 所有轨线趋向于该奇点，且除个别轨线外，它们在该奇点处有公切线。\n",
    "\n",
    "1. 当 $\\lambda_1$, $\\lambda_2$ 同为负实数时， 方程的零解是渐近稳定的，对应的奇点为**稳定结点**.\n",
    "1. 当 $\\lambda_1$, $\\lambda_2$ 同为正实数时， 方程的零解是不稳定的，对应的奇点为**不稳定结点**."
   ]
  },
  {
   "cell_type": "markdown",
   "metadata": {},
   "source": [
    "## 情形 II: 异号实根"
   ]
  },
  {
   "cell_type": "markdown",
   "metadata": {},
   "source": [
    "这时方程的标准形式设为\n",
    "$$\n",
    "\\frac{\\mathrm d \\xi}{\\mathrm d t} = \\lambda_1 \\xi, \\frac{\\mathrm d \\eta}{\\mathrm d t} = \\lambda_2 \\eta, \n",
    "$$\n",
    "其解为\n",
    "$$\n",
    "\\xi(t) = Ae^{\\lambda_1 t},\\quad \\eta(t) = B e^{\\lambda_2 t}\n",
    "$$\n",
    "\n",
    "1. 当 $A=0$ 或 $B=0$， 轨线分别为 $\\xi$ 轴的左右半轴或 $\\eta$ 的上下半轴，且其中一轴趋于原点，另一轴远离原点。\n",
    "1. 当 $A\\cdot B \\not=0$, \n",
    "    + 若 $\\lambda_1 < 0 < \\lambda_2$, 则当 $t\\to +\\infty$时 $$\\xi(t)\\to 0,\\quad \\eta(t)\\to \\infty$$\n",
    "    + 若 $\\lambda_1 > 0 > \\lambda_2$, 则当 $t\\to +\\infty$时 $$\\xi(t)\\to \\infty,\\quad \\eta(t)\\to 0$$\n",
    "    \n",
    "在奇点的邻域内， 方程轨线的图貌如鞍形，这样的奇点称为**鞍点**，它只能是不稳定的。 "
   ]
  },
  {
   "cell_type": "markdown",
   "metadata": {},
   "source": [
    "## 情形 III: 重根"
   ]
  },
  {
   "cell_type": "markdown",
   "metadata": {},
   "source": [
    "它对应两种标准形式，下面讨论第一种形式\n",
    "$$\n",
    "\\frac{\\mathrm d \\xi}{\\mathrm d t} = \\lambda \\xi + \\eta, \\frac{\\mathrm d \\eta}{\\mathrm d t} = \\lambda \\eta, \n",
    "$$\n",
    "其解为\n",
    "$$\n",
    "\\xi(t) = (At+B)e^{\\lambda t},\\quad \\eta(t) = A e^{\\lambda t}\n",
    "$$\n",
    "\n",
    "其中 $\\lambda$ 为实特征根， $A$, $B$ 为实数。"
   ]
  },
  {
   "cell_type": "markdown",
   "metadata": {
    "collapsed": true
   },
   "source": [
    "若 $\\lambda < 0$, \n",
    "1. 当 $t\\to +\\infty$时 $$\\xi(t)\\to 0,\\quad \\eta(t)\\to 0, $$ 此时零解是渐近稳定的\n",
    "2. 当 $A=0$ 时, $\\xi$ 轴的左右半轴也是轨线\n",
    "3. 当 $A\\not=0$ 时, 由于 $$ \\frac{\\eta(t)}{\\xi(t)}=\\frac{A}{At+B}\\xrightarrow{t\\to+\\infty} 0, $$ 且当 $ t = - \\frac{B}{A}$ 时, $\\xi(t) = 0$, 可知轨线越过 $\\eta$ 轴而切 $\\xi$ 轴于原点.\n",
    "\n",
    "所有轨线毫无例外的沿同一方向($\\xi$ 轴)趋于奇点, 其附近轨线具有这种性态的奇点称为**稳定的退化结点**.\n",
    "\n",
    "若 $\\lambda > 0 $, 取 $t\\to -\\infty$, 同样的讨论, 可知奇点是附近的轨线沿相反方向远离奇点, 此时的奇点称为**不稳定的退化结点**."
   ]
  },
  {
   "cell_type": "markdown",
   "metadata": {},
   "source": [
    "下面讨论第二种形式, \n",
    "$$\n",
    "\\frac{\\mathrm d \\xi}{\\mathrm d t} = \\lambda \\xi, \\frac{\\mathrm d \\eta}{\\mathrm d t} = \\lambda \\eta, \n",
    "$$\n",
    "其解为\n",
    "$$\n",
    "\\xi(t) = Ae^{\\lambda t},\\quad \\eta(t) = B e^{\\lambda t}\n",
    "$$\n",
    "\n",
    "此时, 轨线是趋向(或远离)奇点的半射线, 这样的奇点称为**奇结点**. \n",
    "\n",
    "当 $\\lambda < 0 $ 时为**稳定的**, 而 $\\lambda > 0$ 时为**不稳定的**."
   ]
  },
  {
   "cell_type": "markdown",
   "metadata": {},
   "source": [
    "## 情形 IV: 非零实部复根"
   ]
  },
  {
   "cell_type": "markdown",
   "metadata": {},
   "source": [
    "此时方程的标准形式是\n",
    "$$\n",
    "\\frac{\\mathrm d \\xi}{\\mathrm d t} = \\alpha \\xi + \\beta \\eta, \\frac{\\mathrm d \\eta}{\\mathrm d t} = -\\beta\\xi + \\alpha \\eta, \n",
    "$$\n",
    "令 $\\xi = r\\cos\\theta, \\eta = r\\sin\\theta$, 利用 \n",
    "$$\n",
    "\\xi \\frac{\\mathrm d \\xi}{\\mathrm d t} + \\eta \\frac{\\mathrm d \\eta}{\\mathrm d t} = r \\frac{\\mathrm d r}{\\mathrm d t}, \\quad \\xi \\frac{\\mathrm d \\eta}{\\mathrm d t} - \\eta \\frac{\\mathrm d \\xi}{\\mathrm d t} = r^2 \\frac{\\mathrm d \\theta}{\\mathrm d t}\n",
    "$$\n",
    "可得\n",
    "$$\n",
    "\\frac{\\mathrm d r}{\\mathrm d t} = \\alpha r, \\quad \\frac{\\mathrm d \\theta}{\\mathrm d t}=-\\beta,\n",
    "$$\n",
    "其解的极坐标形式\n",
    "$$\n",
    "r = Ae^{\\alpha t}, \\theta = -\\beta t + B,\n",
    "$$\n",
    "其中 $A>0$ 和 $B$ 为任意常数."
   ]
  },
  {
   "cell_type": "markdown",
   "metadata": {},
   "source": [
    "此时, 轨线为一族对数螺旋线, 依顺(逆)时针的方向盘旋地趋近或远离原点, 此时奇点为**焦点**, 且 $\\alpha < 0$ 是为**稳定的**, 而 $\\alpha > 0$ 时为**不稳定的**."
   ]
  },
  {
   "cell_type": "markdown",
   "metadata": {},
   "source": [
    "## 情形 V: 纯虚根"
   ]
  },
  {
   "cell_type": "markdown",
   "metadata": {},
   "source": [
    "此时的轨线为以原点为中心的一族圆, 对应奇点称为**中心**. 这种情形下零解是稳定的, 但非渐近稳定的."
   ]
  },
  {
   "cell_type": "markdown",
   "metadata": {},
   "source": [
    "**线性驻定微分方程组**\n",
    "$$\n",
    "\\begin{cases}\n",
    "\\frac{\\mathrm d x}{\\mathrm d t} = ax + by,\\\\\n",
    "\\frac{\\mathrm d y}{\\mathrm d t} = cx + dy.\n",
    "\\end{cases}\n",
    "$$\n",
    "的特征方程为\n",
    "$$\n",
    "\\lambda^2 + p\\lambda + q = 0\n",
    "$$\n",
    "其中\n",
    "$$\n",
    "p= -(a+d), \\quad q = ad - bc\n",
    "$$\n",
    "\n",
    "可以利用方程的根 $\\lambda_1$, $\\lambda_2$ 与系数 $p$, $q$ 之间的关系, 通过 $\\lambda_1$, $\\lambda_2$ 为媒介, 在以 $p$, $q$ 为直角坐标的平面 $(p, q)$ 上明确划分出各种类型奇点的分布区域."
   ]
  },
  {
   "cell_type": "markdown",
   "metadata": {},
   "source": [
    "**例 1** 考虑二阶线性微分方程\n",
    "$$\n",
    "\\frac{\\mathrm d^2 x}{\\mathrm d t^2} + 3 \\frac{\\mathrm d x}{\\mathrm d t} + 2x = 0\n",
    "$$"
   ]
  },
  {
   "cell_type": "markdown",
   "metadata": {},
   "source": [
    "## 总结"
   ]
  },
  {
   "cell_type": "markdown",
   "metadata": {},
   "source": [
    "这一节讨论平面线性驻定方程组的轨线在相平布的图貌. 通过讨论, 我们知道这类方程组的轨线只有三种类型:\n",
    "\n",
    "1. 奇点\n",
    "2. 闭曲线\n",
    "3. 一端趋于奇点, 一端趋于无穷远, 或两端趋于无穷远\n",
    "\n",
    "注意奇点是一种特殊的轨线.\n",
    "\n",
    "对于非线性微分方程组,我们仅在 6.1 利用线性近似方程组讨论了奇点的邻域的轨线性态, 那么这类方程全平面的轨线图貌就会很复杂了? 但复杂中是否还有什么规律呢?"
   ]
  },
  {
   "cell_type": "code",
   "execution_count": null,
   "metadata": {
    "collapsed": true
   },
   "outputs": [],
   "source": []
  }
 ],
 "metadata": {
  "kernelspec": {
   "display_name": "Python 3",
   "language": "python",
   "name": "python3"
  },
  "language_info": {
   "codemirror_mode": {
    "name": "ipython",
    "version": 3
   },
   "file_extension": ".py",
   "mimetype": "text/x-python",
   "name": "python",
   "nbconvert_exporter": "python",
   "pygments_lexer": "ipython3",
   "version": "3.5.2"
  },
  "latex_envs": {
   "bibliofile": "biblio.bib",
   "cite_by": "apalike",
   "current_citInitial": 1,
   "eqLabelWithNumbers": true,
   "eqNumInitial": 0
  }
 },
 "nbformat": 4,
 "nbformat_minor": 0
}
