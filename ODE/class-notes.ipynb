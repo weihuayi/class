{
 "cells": [
  {
   "cell_type": "markdown",
   "metadata": {},
   "source": [
    "* 函数相关性等价于 Jacobi 行列式为 0， 即一个函数可以表示成另外一个函数的函数。它是线性相关性的推广。"
   ]
  },
  {
   "cell_type": "markdown",
   "metadata": {},
   "source": [
    "## 解决一个问题的基本思路"
   ]
  },
  {
   "cell_type": "markdown",
   "metadata": {},
   "source": [
    "1. 理解题目。\n",
    "2. 找到数据与未知量（条件与结论）之间的联系，如果找不到这种联系， 可能需要引入解决一个辅助的问题，最终得到一个解决问题的方案。\n",
    "3. 执行你的方案。\n",
    "4. 检查你的解决方案。"
   ]
  },
  {
   "cell_type": "markdown",
   "metadata": {},
   "source": [
    "# 3.3 解对初值的连续性和可微性定理"
   ]
  },
  {
   "cell_type": "markdown",
   "metadata": {},
   "source": [
    "## 引理的证明构造过程"
   ]
  },
  {
   "cell_type": "markdown",
   "metadata": {},
   "source": [
    "### 1. 理解题目\n",
    "\n",
    "要问的问题:\n",
    "1. 题目的结论是什么？ \n",
    "1. 题目的条件是什么？能否写下来\n",
    "\n",
    "可以做的事情：\n",
    "* 画图\n",
    "* 引入适当的符号\n",
    "* 把条件的不同部分写出来。\n",
    "\n",
    "### 2. 设计方案\n",
    "找到数据与未知量（条件与结论）之间的联系，如果找不到这种联系， 可能需要引入解决一个辅助的问题，最终得到一个解决问题的方案。\n",
    "要问的问题：\n",
    "1. 以前有没有见过这个题目？或者有没有见过形式稍微不同的题目？\n",
    "1. 知不知道一个相关的题目？或者一个相关的定理？\n",
    "1. 有没有用到所有的条件？\n",
    "\n",
    "可以做的事情：\n",
    "1. 观察结论， 试着找出一个类似的题目， 有同样或者相似的结论， 也许可以利用该题目的结论，方法\n",
    "2. 引入辅助问题\n",
    "\n",
    "### 3. 执行方案。\n",
    "\n",
    "可以做的事情：\n",
    "1. 检查每一步的正确性\n",
    "1. 能否证明每一步的正确性\n",
    "\n",
    "\n",
    "### 4. 回顾方案。\n",
    "\n",
    "要问的问题：\n",
    "1. 能否检查结论和论证的正确性？\n",
    "1. 能否用不同的方法推出结论？\n",
    "1. 能否一眼看出结论的正确性？\n",
    "1. 能否把该题目的结论与方法应用到其它题目中去？"
   ]
  },
  {
   "cell_type": "markdown",
   "metadata": {},
   "source": [
    "## 解对初值的连续依赖的证明过程"
   ]
  },
  {
   "cell_type": "markdown",
   "metadata": {},
   "source": [
    "### 1. 理解题目\n",
    "\n",
    "条件：\n",
    "1. 柯西问题\n",
    "1. $f(x, y)$ 的定义域是 $G$\n",
    "1. $f(x, y)$ 在 $G$ 上连续\n",
    "1. $f(x, y)$ 关于 $y$ 满足局部利普希茨条件\n",
    "1. $y=\\varphi(x, x_0, y_0)$ 是方程的解\n",
    "1. $\\varphi$ 的定义域是 $[a, b]$ \n",
    "1. $x_0 \\in [a, b]$\n",
    "\n",
    "结论：\n",
    "$\\forall \\epsilon > 0$ \n",
    "1. 存在 $\\delta(\\epsilon, a, b)$, 当 $(\\bar x_0 - x_0)^2 + (\\bar y_0 - y_0)^2 \\leq \\delta^2$ 时\n",
    "1. $ y = \\varphi(x, \\bar x_0, \\bar y_0)$ 在区间 $[a, b]$ 上有定义\n",
    "1. $ \\varphi(x, \\bar x_0, \\bar y_0)\n",
    "\n",
    "\n",
    "* 画图"
   ]
  },
  {
   "cell_type": "code",
   "execution_count": null,
   "metadata": {
    "collapsed": true
   },
   "outputs": [],
   "source": []
  }
 ],
 "metadata": {
  "kernelspec": {
   "display_name": "Python 3",
   "language": "python",
   "name": "python3"
  },
  "language_info": {
   "codemirror_mode": {
    "name": "ipython",
    "version": 3
   },
   "file_extension": ".py",
   "mimetype": "text/x-python",
   "name": "python",
   "nbconvert_exporter": "python",
   "pygments_lexer": "ipython3",
   "version": "3.5.2"
  },
  "latex_envs": {
   "bibliofile": "biblio.bib",
   "cite_by": "apalike",
   "current_citInitial": 1,
   "eqLabelWithNumbers": true,
   "eqNumInitial": 0
  }
 },
 "nbformat": 4,
 "nbformat_minor": 2
}
