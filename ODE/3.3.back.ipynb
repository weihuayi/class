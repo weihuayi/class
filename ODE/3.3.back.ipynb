{
 "cells": [
  {
   "cell_type": "markdown",
   "metadata": {},
   "source": [
    "# 3.3 解对初值的连续性和可微性定理"
   ]
  },
  {
   "cell_type": "markdown",
   "metadata": {},
   "source": [
    "$\\quad$ 在 $3.1$ 存在唯一性定理的证明中，我们把初值问 $(x_0,y_0)$ 看作固定的. 显然，假如 $(x_0, y_0)$ 变动，则相应的初值问题的解也随之变动，也就是说，初值问题的解不单依赖自变量 $x$, 同时也依赖于初值 $(x_0,y_0)$. 因此在考虑**解与初值的关系**时，解可以看做三个变量的函数, 记为:\n",
    "\n",
    "$$\n",
    "y=\\varphi(x,x_0,y_0),\n",
    "$$\n",
    "\n",
    "它满足下面条件\n",
    "\n",
    "$$\n",
    "y_0=\\varphi(x_0,x_0,y_0)\n",
    "$$\n",
    "\n",
    "$\\quad$ 下面我们着重讨论解关于初值的一些基本性质."
   ]
  },
  {
   "cell_type": "markdown",
   "metadata": {},
   "source": [
    "## 1. 解关于初值的对称性"
   ]
  },
  {
   "cell_type": "markdown",
   "metadata": {},
   "source": [
    "**解关于初值的对称性定理** "
   ]
  },
  {
   "cell_type": "markdown",
   "metadata": {},
   "source": [
    "$\\quad$ 设方程 $\\frac{\\mathrm d y}{\\mathrm d x}=f(x,y)$ 的满足初值条件 $y(x_0)=y_0$ 的解是唯一的，记为 $y=\\varphi(x,x_0,y_0)$, 则在此表达式中，$(x,y)$ 与 $(x_0,y_0)$ 可以调换其相对位置，即在解的存在范围内成立着关系式\n",
    "\n",
    "$$\n",
    "y_0=\\varphi(x_0,x,y)\n",
    "$$"
   ]
  },
  {
   "cell_type": "markdown",
   "metadata": {},
   "source": [
    "**证明:** "
   ]
  },
  {
   "cell_type": "markdown",
   "metadata": {},
   "source": [
    "在上述的解的存在区间内任取一值 $x_1$, 且记 $y_1=\\varphi(x_1,x_0,y_0)$, 则由解的唯一性知过点 $(x_1,y_1)$ 的解与过点 $(x_0,y_0)$ 的解是同一条积分曲线，则此解也可以写为\n",
    "\n",
    "$$\n",
    "y=\\varphi(x,x_1,y_1),\n",
    "$$\n",
    "\n",
    "并且，显然有 $y_0=\\varphi(x_0,x_1,y_1)$. 注意到点 $(x_1,y_1)$ 是积分曲线上任意一点，因此关系表达式 $y_0=\\varphi(x_0,x,y)$ 对该积分曲线上任意一点 $(x,y)$ 均成立，这就证实了我们的论断."
   ]
  },
  {
   "cell_type": "markdown",
   "metadata": {},
   "source": [
    "### 2. 解关于初值的连续依赖性"
   ]
  },
  {
   "cell_type": "markdown",
   "metadata": {},
   "source": [
    "#### $\\bullet$ 引理"
   ]
  },
  {
   "cell_type": "markdown",
   "metadata": {},
   "source": [
    " $\\quad$ 如果函数 $f(x,y)$ 于某域 $D$  内连续，且关于 $y$ 满足利普希茨条件(利普希茨常数为 $L$) 则对方程 \n",
    " $$\n",
    " \\frac{\\mathrm d y}{\\mathrm d x}=f(x,y)\n",
    " $$ \n",
    " 的任意两个解 $\\varphi(x)$ 及 $\\psi(x)$,在它们公共存在的区间内成立着不等式\n",
    "\n",
    "$$\n",
    "\\mid \\varphi(x)-\\psi(x) \\mid \\leq \\mid \\varphi(x_0)-\\psi(x_0) \\mid e^{L\\mid x-x_0\\mid}\n",
    "$$\n",
    "\n",
    "其中 $x_0$ 为所考虑的区间内的某一值."
   ]
  },
  {
   "cell_type": "markdown",
   "metadata": {},
   "source": [
    "**证明** $\\quad$ 设$\\varphi(x)$, $\\psi(x)$ 于区间 $a\\leq x \\leq b$ 上均有定义，令\n",
    "\n",
    "$$\n",
    "V(x)=[\\varphi(x)-\\psi(x)]^2,\\quad a\\leq x \\leq b\n",
    "$$\n",
    "\n",
    "则\n",
    "\n",
    "$$\n",
    "\\frac{\\mathrm d V(x)}{\\mathrm d x}=2[\\varphi(x)-\\psi(x)][f(x,\\varphi)-f(x,\\psi)]\\leq 2L |\\varphi(x)-\\psi(x)]|\\cdot|\\varphi(x) - \\psi(x)|\\leq 2LV(x)\n",
    "$$\n",
    "\n",
    "$$\n",
    "|f(x,\\varphi)-f(x,\\psi)|\\leq L |\\varphi - \\psi|\n",
    "$$\n",
    "\n",
    "于是\n",
    "\n",
    "$$\n",
    "\\begin{aligned}\n",
    "\\frac{\\mathrm d V(x)}{\\mathrm d x}e^{-2Lx} - 2LV(x)e^{-2Lx} &\\leq 0\\\\\n",
    "\\frac{\\mathrm d }{\\mathrm d x}(V(x)e^{-2Lx})&\\leq 0\n",
    "\\end{aligned}\n",
    "$$\n",
    "\n",
    "因此，对 $x_0\\in[a,b]$,有\n",
    "\n",
    "$$\n",
    "V(x)\\leq V(x_0)e^{2L(x-x_0)},\\quad x_0\\leq x \\leq b.\n",
    "$$"
   ]
  },
  {
   "cell_type": "markdown",
   "metadata": {},
   "source": [
    "下面在区间 $a \\leq x \\leq x_0$ 上证明"
   ]
  },
  {
   "cell_type": "markdown",
   "metadata": {},
   "source": [
    "令 $-x=t$, 并记\n",
    "$-x_0=t_0$, 则方程 $\\frac{\\mathrm d y}{\\mathrm d x}=f(x,y)$ 变为\n",
    "\n",
    "$$\n",
    "\\frac{\\mathrm d y}{\\mathrm d t}=-f(-t,y)\n",
    "$$\n",
    "\n",
    "并且已知它有解 $y=\\varphi(-t)$ 和 $y=\\psi(-t)$.\n",
    "\n",
    "$\\quad$ 类似上述推演过程，令 $\\sigma(t)=[\\varphi(-t)-\\psi(-t)]^2$, 可得\n",
    "\n",
    "$$\n",
    "\\sigma(t)\\leq \\sigma(t_0) e^{2L(t-t_0)},\\quad t_0 \\leq t\\leq -a\n",
    "$$\n",
    "\n",
    "注意到 $\\sigma(t)\\mid_{t=-x}= V(x)$\n",
    "及 $\\sigma(t_0)= V(x_0)$, 就有\n",
    "\n",
    "$$\n",
    "V(x)\\leq V(x_0)e^{2L(x_0-x)},\\quad a \\leq x \\leq x_0\n",
    "$$\n",
    "\n",
    "因此\n",
    "\n",
    "$$\n",
    "V(x)\\leq V(x_0)e^{2L|x-x_0|},\\quad a \\leq x, x_0 \\leq b\n",
    "$$\n",
    "\n",
    "两边取平方根得到 $\\mid \\varphi(x)-\\psi(x) \\mid \\leq \\mid \\varphi(x_0)-\\psi(x_0) \\mid e^{L\\mid x-x_0\\mid}$.\n",
    "\n",
    "证毕. $\\square$"
   ]
  },
  {
   "cell_type": "markdown",
   "metadata": {},
   "source": [
    "### $\\bullet$ 解对初值的连续依赖定理"
   ]
  },
  {
   "cell_type": "markdown",
   "metadata": {},
   "source": [
    "$\\quad$ 假设 $ f(x,y)$ 于域 $G$ 内连续且关于 $y$ 满足局部的利普希茨条件，$(x_0,y_0)\\in G$,  $y=\\varphi(x,x_0,y_0)$ 是方程\n",
    "$\\frac{\\mathrm d y}{\\mathrm d x}=f(x,y)$ 的满足初值条件 $y(x_0)=y_0$ 的解，它于区间 $a \\leq x \\leq b$ 上有定义 $(a \\leq x_0 \\leq b)$, 那么对任意给定的 $\\varepsilon>0$, 必能找到正数 $\\delta=\\delta(\\varepsilon,a,b)$, 使得当\n",
    "\n",
    "$$\n",
    "(\\bar{x}_0-x_0)^2+(\\bar{y}_0-y_0)^2\\leq \\delta^2\n",
    "$$\n",
    "\n",
    "时，方程 $\\frac{\\mathrm d y}{\\mathrm d x}=f(x,y)$ 的满足条件$y(\\bar{x}_0)=\\bar{y}_0$ 的解 $y=\\varphi(x,\\bar{x}_0,\\bar{y}_0)$ 在区间 $a\\leq x\\leq b$ 上也有定义，并且\n",
    "\n",
    "$$\n",
    "\\mid \\varphi(x,\\bar{x}_0,\\bar{y}_0)-\\varphi(x, x_0, y_0)\\mid< \\varepsilon,\\quad a \\leq x \\leq b\n",
    "$$"
   ]
  },
  {
   "cell_type": "markdown",
   "metadata": {},
   "source": [
    "**证明:** "
   ]
  },
  {
   "cell_type": "markdown",
   "metadata": {},
   "source": [
    "首先我们证明, 可以找到一个有界闭域 $D$,  $\\, f(x,y)$ 在 $D$ 上利普希茨条件. 注意到:"
   ]
  },
  {
   "cell_type": "markdown",
   "metadata": {},
   "source": [
    "1. 积分曲线 $S:y=\\varphi(x,x_0,y_0)\\equiv \\varphi (x)(a\\leq x\\leq b)$ 是 $Oxy$ 平面上一个有界闭集，\n",
    "1. 对 $S$ 上每一点$(x,y)$ 必存在一个以它为中心的开圆 $C$, $C\\subset G$, 使在其内的函数 $f(x,y)$ 关于 $y$满足利普希茨条件."
   ]
  },
  {
   "cell_type": "markdown",
   "metadata": {},
   "source": [
    "因此，根据有限覆盖定理，可以找到有限个具有这种性质的圆 $\\{C_i\\}_{i=1}^N$, 并且它们全体覆盖了整个积分曲线线段 $S$. \n",
    "\n",
    "设 $r_i$ 为圆 $C_i$ 的半径，$L_i$ 为 $f(x,y)$ 于 $C_i$ 内的相应的利普希茨常数.  令   $\\tilde{G}=\\bigcup_{i=1}^{N}C_i$, 则有 $S\\subset \\tilde{G}\\subset G$, 且 $\\tilde{G}$ 的边界与 $S$ 的距离 $\\rho>0$."
   ]
  },
  {
   "cell_type": "markdown",
   "metadata": {},
   "source": [
    "对预先给定的 $\\varepsilon>0$, 若取\n",
    " \n",
    "$$\n",
    "\\eta=\\min(\\varepsilon,\\frac{\\rho}{2})\\quad \\text{ 及 }  L=\\max(L_1,L_2,……，L_N),\n",
    "$$\n",
    "\n",
    "则以 $S$ 上每一点为中心，以 $\\eta$ 为半径的圆的全体，连同它们的圆周一起构成包含 $S$ 的有界闭域 $D\\subset G$, 且 $f(x,y)$ 在 $D$ 上关于 $y$ 满足利普希茨条件，利普希茨常数为 $L$."
   ]
  },
  {
   "cell_type": "markdown",
   "metadata": {},
   "source": [
    "$\\quad$ 其次，我们证明必存在正数 $\\delta=\\delta(\\varepsilon,a,b)(\\delta<\\eta)$, 使得只要 $\\bar{x}_0，\\bar{y}_0$ 满足不等式\n",
    "\n",
    "$$\n",
    "(\\bar{x}_0-x_0)^2+(\\bar{y}_0-y_0)^2\\leq \\delta^2\n",
    "$$\n",
    "\n",
    "则解 $y=\\varphi(x,\\bar{x}_0,\\bar{y}_0)\\equiv\\psi(x)$ 在区间 $ a\\leq x\\leq b$ 上也一定有定义."
   ]
  },
  {
   "cell_type": "markdown",
   "metadata": {},
   "source": [
    "事实上，由于 $f(x,y)$ 在有界闭域  $D$ 内关于 $y$ 满足利普希茨条件，由延拓定理可知，解 \n",
    "$$ \n",
    "y=\\varphi(x,\\bar{x}_0,\\bar{y}_0)\\equiv\\psi(x)\n",
    "$$ \n",
    "必能延拓到区域 $D$ 的边界上. 设它在 $D$ 的边界上的点为 $(c,\\psi(c))$ 和$(d,\\psi(d))$, 其中 $c<d$.  这时必然有 $c\\leq a $, $b\\leq d$, 即:\n",
    "\n",
    "$$\n",
    "[a, b] \\subset [c, d]\n",
    "$$\n",
    "\n",
    "因为否则设 $[c, d] \\subset (a, b)$, 则由引理就有\n",
    "\n",
    "$$\n",
    "\\mid \\psi(x)-\\varphi(x)\\mid \\leq \\mid \\psi(\\bar{x}_0)-\\varphi(\\bar{x}_0) \\mid e^{L\\mid x-\\bar{x}_0\\mid}, \\quad x\\in[c,d],\n",
    "$$"
   ]
  },
  {
   "cell_type": "markdown",
   "metadata": {},
   "source": [
    "由 $\\varphi(x)$ 的连续性，对 $\\delta_1=\\frac{1}{2}\\eta e^{-L(b-a)}$, 必有 $\\delta_2>0$ 存在，使当 $\\mid x-x_0 \\mid\\leq\\delta_2$ 时，有$\\mid\\varphi(x)-\\varphi(x_0)\\mid<\\delta_1$."
   ]
  },
  {
   "cell_type": "markdown",
   "metadata": {
    "collapsed": true
   },
   "source": [
    "取 $\\delta=\\min(\\delta_1,\\delta_2)$, 则当\n",
    "\n",
    "$$\n",
    "(\\bar{x}_0-x_0)^2+(\\bar{y}_0-y_0)^2\\leq \\delta^2\n",
    "$$\n",
    "\n",
    "时，就有\n",
    "\n",
    "$$\n",
    "\\begin{aligned}\n",
    "\\mid \\psi(x)-\\varphi(x)\\mid^2 & \\leq \\mid \\psi(\\bar{x}_0)-\\varphi(\\bar{x}_0) \\mid^2 e^{2L\\mid x-\\bar{x_0}\\mid}\\\\\n",
    "&\\leq(\\mid \\psi(\\bar{x}_0)-\\varphi(x_0)\\mid+\\mid\\varphi(x_0)-\\varphi(\\bar{x}_0)\\mid)^2e^{2L\\mid x-\\bar{x_0}\\mid}\\\\\n",
    "&\\leq 2(\\mid \\psi(\\bar{x}_0)-\\varphi(x_0)\\mid^2+\\mid\\varphi(x_0)-\\varphi(\\bar{x}_0)\\mid^2)e^{2L\\mid x-\\bar{x}_0\\mid}\\\\ \n",
    "&<2(\\mid\\bar{y}_0-y_0\\mid^2+\\delta_1^2)e^{2L(b-a)}\\\\\n",
    "&\\leq 4 \\delta_1^2e^{2L(b-a)}=\\eta^2,\\quad x\\in[c,d]\n",
    "\\end{aligned}\n",
    "$$\n",
    "\n",
    "于是 $\\mid \\psi(x)-\\varphi(x)\\mid<\\eta$ 对一切$x\\in[c,d]$ 成立，特别的有\n",
    "\n",
    "$$\n",
    "\\mid\\psi(c)-\\varphi(c)\\mid<\\eta,\n",
    "\\mid\\psi(d)-\\varphi(d)\\mid<\\eta,\n",
    "$$\n",
    "\n",
    "即点 $(c,\\psi(c))$ 及 $(d,\\psi(d)) $ 均落在域 $D$ 的内部，而不可能位于\n",
    " $D$ 的边界上，这与假设矛盾，因此解 $\\psi(x)$ 在区域 $[a,b]$ 上有定义."
   ]
  },
  {
   "cell_type": "markdown",
   "metadata": {
    "collapsed": true
   },
   "source": [
    "则对任意 $x \\in [a, b]$, 同样有:\n",
    "\n",
    "$$\n",
    "\\begin{aligned}\n",
    "\\mid \\psi(x)-\\varphi(x)\\mid^2 & \\leq \\mid \\psi(\\bar{x}_0)-\\varphi(\\bar{x}_0) \\mid^2 e^{2L\\mid x-\\bar{x_0}\\mid}\\\\\n",
    "&\\leq(\\mid \\psi(\\bar{x}_0)-\\varphi(x_0)\\mid+\\mid\\varphi(x_0)-\\varphi(\\bar{x}_0)\\mid)^2e^{2L\\mid x-\\bar{x_0}\\mid}\\\\\n",
    "&\\leq 2(\\mid \\psi(\\bar{x}_0)-\\varphi(x_0)\\mid^2+\\mid\\varphi(x_0)-\\varphi(\\bar{x}_0)\\mid^2)e^{2L\\mid x-\\bar{x}_0\\mid}\\\\ \n",
    "&<2(\\mid\\bar{y}_0-y_0\\mid^2+\\delta_1^2)e^{2L(b-a)}\\\\\n",
    "&\\leq 4 \\delta_1^2e^{2L(b-a)}=\\eta^2,\\quad x \\in [a, b]\n",
    "\\end{aligned}\n",
    "$$\n",
    "\n",
    "可知，当\n",
    "\n",
    "$$\n",
    "(\\bar{x}_0-x_0)^2+(\\bar{y}_0-y_0)^2\\leq \\delta^2\n",
    "$$\n",
    "\n",
    "时就有\n",
    "\n",
    "$$\n",
    "\\mid \\varphi(x,\\bar{x}_0,\\bar{y}_0)-\\varphi(x, x_0, y_0)\\mid <\\eta\\leq \\varepsilon , x \\in [a, b]\n",
    "$$\n",
    "\n",
    "证毕. $\\square$"
   ]
  },
  {
   "cell_type": "markdown",
   "metadata": {},
   "source": [
    "**注:** 把解 $\\varphi(x, x_0, y_0)$ 视为自变量 $x$ 和初值 $(x_0, y_0)$ 的三元函数时, 由上述定理可以推知 $\\varphi$ 是三元连续函数."
   ]
  },
  {
   "cell_type": "markdown",
   "metadata": {},
   "source": [
    "### $\\bullet$ 解对初值的连续性定理"
   ]
  },
  {
   "cell_type": "markdown",
   "metadata": {},
   "source": [
    " 若函数 $f(x,y)$ 在区域 $G$ 内连续 ，且关于 $y$ 满足局部利普希茨条件，则方程\n",
    " $$ \n",
    " \\frac{\\mathrm d y}{\\mathrm d x}=f(x,y)\n",
    " $$\n",
    " 的解 $y=\\varphi(x,x_0,y_0)$ 作为 $x$, $x_0$ , $y_0$ 的函数在它的存在范围内是连续的."
   ]
  },
  {
   "cell_type": "markdown",
   "metadata": {},
   "source": [
    "## 3. 解对初值和参数的连续依赖性"
   ]
  },
  {
   "cell_type": "markdown",
   "metadata": {},
   "source": [
    "我们还可以讨论含有参数 $\\lambda$ 的微分方程\n",
    "\n",
    "$$\n",
    "\\frac{\\mathrm d y}{\\mathrm d x}=f(x,y,\\lambda)\n",
    "$$\n",
    "\n",
    "用 $G_{\\lambda}$ 表示域\n",
    "\n",
    "$$\n",
    "G_{\\lambda}:(x,y)\\in G \\quad \\alpha<\\lambda<\\beta\n",
    "$$"
   ]
  },
  {
   "cell_type": "markdown",
   "metadata": {},
   "source": [
    "设 $f(x,y,\\lambda)$ 在 $G_{\\lambda}$ 内连续，且在 $G_{\\lambda}$ 内一致地关于 $y$ 满足局部的利普希茨条件，即对 \n",
    "$G_{\\lambda}$ 内的每一点 $(x, y, \\lambda)$ 都存在以 $(x, y,\\lambda)$ 为中心的球 $C\\subset G_{\\lambda}$, 使得对任何 $(x,y_1,\\lambda), (x,y_2,\\lambda)\\in C$ 成立不等式\n",
    "\n",
    "$$\n",
    "\\mid f(x,y_1,\\lambda)-f(x,y_2,\\lambda)\\mid \\leq L\\mid y_1-y_2\\mid\n",
    "$$\n",
    "\n",
    "其中 $L$ 是与 $\\lambda$ 无关的正数. 由解的存在唯一性定理，对每一 $\\lambda_0 \\in(\\alpha,\\beta)$, 方程 \n",
    "\n",
    "$$ \n",
    "\\frac{\\mathrm d y}{\\mathrm d x}=f(x,y,\\lambda)\n",
    "$$ \n",
    "\n",
    "的通过点 $(x_0,y_0)\\in G$ 的解存在唯一，记为 \n",
    "\n",
    "$$ \n",
    "y=\\varphi(x,x_0,y_0,\\lambda_0),\\quad y_0 =\\varphi(x_0,x_0,y_0,\\lambda_0).\n",
    "$$\n"
   ]
  },
  {
   "cell_type": "markdown",
   "metadata": {},
   "source": [
    "### $\\bullet$ 解对初值和参数的连续依赖定理"
   ]
  },
  {
   "cell_type": "markdown",
   "metadata": {},
   "source": [
    "设\n",
    " $f(x,y,\\lambda)$ 在 $G_{\\lambda}$ 内连续，且在 $G_{\\lambda}$ 内关于$y$ 一致满足局部的利普希茨条件，$(x_0,y_0,\\lambda_0)\\in G_{\\lambda}$ ,\n",
    " $y=\\varphi(x,x_0,y_0,\\lambda_0)$ 是方程 $\\frac{\\mathrm d y}{\\mathrm d x}=f(x,y,\\lambda)$ 通过点$(x_0,y_0)$ 的解，在区间 $a\\leq x\\leq b$ 上有定义，其中 $a\\leq x_0\\leq b$ ,那么对任意给定$\\varepsilon>0$\n",
    ",可以找到正数 $\\delta=\\delta(\\varepsilon,a,b)$ 使得当\n",
    "\n",
    "$$\n",
    "(\\bar{x}_0-x_0)^2+(\\bar{y}_0-y_0)^2+(\\lambda-\\lambda_0)^2\\leq \\delta^2\n",
    "$$\n",
    "\n",
    "时，方程 $\\frac{\\mathrm d y}{\\mathrm d x}=f(x,y,\\lambda)$ 通过点$(\\bar{x}_0,\\bar{y}_0)$ 的解$y=\\varphi(x,\\bar{x}_0,\\bar{y}_0,\\lambda)$ 在区间 $a\\leq x\\leq b$上也有定义，并且\n",
    "\n",
    "$$\n",
    "\\mid\\varphi(x,\\bar{x}_0,\\bar{y}_0,\\lambda)-\\varphi(x,x_0,y_0,\\lambda)\\mid <\\varepsilon,\\quad a\\leq x\\leq b\n",
    "$$"
   ]
  },
  {
   "cell_type": "markdown",
   "metadata": {},
   "source": [
    "### $\\bullet$ 解对初值和参数的连续性定理"
   ]
  },
  {
   "cell_type": "markdown",
   "metadata": {},
   "source": [
    "$\\quad$设$f(x,y,\\lambda)$在$G_{\\lambda}$内连续, 且在$G_{\\lambda}$内关于$y$一致满足局部的利普希茨条件，则方程\n",
    "$$ \n",
    "\\frac{\\mathrm d y}{\\mathrm d x}=f(x,y,\\lambda)\n",
    "$$\n",
    "的解 \n",
    "$$ \n",
    "y=\\varphi(x,x_0,y_0,\\lambda)\n",
    "$$\n",
    "作为 $x$, $x_0$, $y_0$, $\\lambda$ 的函数在它的存在范围内是连续的."
   ]
  },
  {
   "cell_type": "markdown",
   "metadata": {},
   "source": [
    "## 4. 解对初值的可微性"
   ]
  },
  {
   "cell_type": "markdown",
   "metadata": {},
   "source": [
    "下面讨论解 $y=\\varphi(x,x_0,y_0)$ 关于初值 $(x_0,y_0)$ 的偏导数的存在性和连续性，我们有如下定理."
   ]
  },
  {
   "cell_type": "markdown",
   "metadata": {},
   "source": [
    "### 解对初值的可微性定理"
   ]
  },
  {
   "cell_type": "markdown",
   "metadata": {},
   "source": [
    "若函数 $f(x,y)$ 以及 $\\frac{\\partial f}{\\partial y}$ 都在区域 $G$ 内连续，则方程\n",
    "\n",
    "$$ \n",
    "\\frac{\\mathrm d y}{\\mathrm d x}=f(x,y)\n",
    "$$ \n",
    "\n",
    "的解 $y=\\varphi(x,x_0,y_0)$ 作为 $x$ , $x_0$ , $y_0$ 的函数，在它的存在范围内是**连续可微**的."
   ]
  },
  {
   "cell_type": "markdown",
   "metadata": {},
   "source": [
    "**证明:**"
   ]
  },
  {
   "cell_type": "markdown",
   "metadata": {},
   "source": [
    "由 $\\frac{\\partial f}{\\partial y}$ 在区域 $G$ 内连续，推知 $f(x,y)$ 在 $G$ 内关于 $y$ 一致满足局部的利普希茨条件.\n",
    "\n",
    "因此，在定理的条件下，解对初值的连续性定理成立，即 $y=\\varphi(x,x_0,y_0)$ 在它的存在范围内关于 $x$ , $x_0$ , $y_0$ 是连续的.\n",
    "\n",
    "下面进一步证明对函数 $y=\\varphi(x,x_0,y_0)$ 的存在范围内任一点的偏导数 $\\frac{\\partial \\varphi }{\\partial x}$ , $\\frac{\\partial \\varphi \n",
    "}{\\partial x_0}$ , $\\frac{\\partial \\varphi }{\\partial y_0}$ 存在且连续."
   ]
  },
  {
   "cell_type": "markdown",
   "metadata": {},
   "source": [
    "先证 $\\frac{\\partial \\varphi }{\\partial x_0}$ 存在且连续. 设由初值 $(x_0,y_0)$ 和 $(x_0+\\Delta x_0,y_0)$ \n",
    "($\\mid\\Delta x_0\\mid\\leq\\alpha$,$\\alpha$为足够小正整数) 所确定的方程的解分别为\n",
    "\n",
    "$$\n",
    "y=\\varphi(x,x_0,y_0)=\\varphi  \\text{ 和 } y=\\varphi(x,x_0+\\Delta x_0,y_0)=\\psi\n",
    "$$\n",
    "\n",
    "即\n",
    "\n",
    "$$\n",
    "\\varphi=y_0+\\int_{x_0}^x f(x,\\varphi){\\mathrm d x} \\text{ 和 }\n",
    " \\psi=y_0+\\int_{x_0+\\Delta x_0}^x f(x,\\psi){\\mathrm d x}\n",
    "$$\n",
    "\n",
    "于是\n",
    "$$\n",
    "\\begin{aligned}\n",
    "\\psi-\\varphi &=y_0+\\int_{x_0+\\Delta x_0}^x f(x,\\psi){\\mathrm d x}-y_0-\\int_{x_0}^x f(x,\\varphi){\\mathrm d x}\\\\\n",
    "&=-\\int_{x_0}^{x_0+\\Delta x_0}f(x,\\psi)+\\int_{x_0}^x\\frac{\\partial f (x,\\varphi+\\theta(\\psi-\\varphi))}{\\partial y}(\\psi-\\varphi){\\mathrm d  x}\\\\\n",
    "\\end{aligned}\n",
    "$$\n",
    "\n",
    "其中$0<\\theta<1$. 注意到$\\frac{\\partial f}{\\partial y}$及$\\varphi$, $\\psi$的连续性，我们有\n",
    "\n",
    "$$\n",
    "\\frac{\\partial f (x,\\varphi+\\theta(\\psi-\\varphi))}{\\partial y}=\\frac{\\partial f(x,\\varphi)}{\\partial y}+r_1\n",
    "$$\n",
    "\n",
    "这里 $r_1$ 具有性质：当$\\Delta x_0\\to 0$，时 $r_1\\to 0$, 且当$\\Delta x_0= 0$时，$r_1= 0$，类似的有\n",
    "\n",
    "$$\n",
    "-\\frac{1}{\\Delta x_0}\\int_{x_0}^{x_0+\\Delta x_0}f(x,\\psi){\\mathrm d x}=-f(x_0,y_0)+r_2\n",
    "$$\n",
    "\n",
    "其中 $r_2$ 与 $r_1$ 具有相同的性质，因此对 $\\Delta x_0  \\neq 0$ 有"
   ]
  },
  {
   "cell_type": "markdown",
   "metadata": {
    "collapsed": true
   },
   "source": [
    "$$\n",
    "\\frac{\\psi-\\varphi}{\\Delta x_0}=[-f(x_0,y_0)+r_2]+\\int_{x_0}^x[\\frac{\\partial f(x,\\varphi)}{\\partial y}+r_1]\\frac{\\psi-\\varphi}{\\Delta x_0}{\\mathrm d x}\n",
    "$$\n",
    "\n",
    "即\n",
    "\n",
    "$$\n",
    "z=\\frac{\\psi-\\varphi}{\\Delta x_0}\n",
    "$$\n",
    "\n",
    "是初值问题\n",
    "\n",
    "$$\n",
    "\\begin{cases}\n",
    "\\frac{\\mathrm d z}{\\mathrm d x}=[\\frac{\\partial f(x,\\varphi)}{\\partial y}+r_1]z\\\\\n",
    "z(x_0)=-f(x_0,y_0)+r_2=z_0\\\\\n",
    "\\end{cases}\n",
    "$$\n",
    "\n",
    "的解，在这里 $\\Delta x_0 \\neq 0$ 被看成参数."
   ]
  },
  {
   "cell_type": "markdown",
   "metadata": {},
   "source": [
    "显然,当 $\\Delta x_0 = 0$ 时上式初值问题仍然有解，根据解对初值和参数的连续性定理，知 $\\frac{\\psi-\\varphi}{\\Delta x_0}$ 是 $x$ , $x_0$ ,$z_0$ , $\\Delta x_0$ , 的连续函数，从而存在\n",
    "\n",
    "$$\n",
    "\\lim_{\\Delta x_0 \\to 0} \\frac{\\psi-\\varphi}{\\Delta x_0}\\equiv\\frac{\\partial \\varphi}{\\partial x_0}\n",
    "$$\n",
    "\n",
    "而 $\\frac{\\partial \\varphi}{\\partial x_0}$ 是初值问题\n",
    "\n",
    "$$\n",
    "\\begin{cases}\n",
    "\\frac{\\mathrm d z}{\\mathrm d x}=\\frac{\\partial f(x,\\varphi)}{\\partial y}z\\\\\n",
    "z(x_0)=-f(x_0,y_0)\\\\\n",
    "\\end{cases}\n",
    "$$\n",
    "\n",
    "的解不难求得\n",
    "\n",
    "$$\n",
    "\\frac{\\partial \\varphi}{\\partial x_0}=-f(x_0,y_0)e^ {\\int_{x_0}^{x}\\frac{\\partial f(x,\\varphi)}{\\partial y}{\\mathrm d x}}\n",
    "$$\n",
    "\n",
    "显然它是 $x$ , $x_0$ , $y_0$ 的连续函数."
   ]
  },
  {
   "cell_type": "markdown",
   "metadata": {
    "collapsed": true
   },
   "source": [
    "同样可证 $\\frac{\\partial \\varphi}{\\partial y_0}$ 存在且连续.事实上，设\n",
    " $y=\\varphi(x,x_0,y_0+\\Delta y_0)=\\bar{\\psi}$ 为初值 $(x_0,y_0+\\Delta y_0)(\\mid y_0\\mid\\leq \\alpha)$ 所确定的解. 类似上述的推演可证\n",
    "$\\frac{\\bar{\\psi}-\\varphi}{\\Delta y_0}$ 是初值问题"
   ]
  },
  {
   "cell_type": "markdown",
   "metadata": {},
   "source": [
    "$$\n",
    "\\begin{cases}\n",
    "\\frac{\\mathrm d z}{\\mathrm d x}=[\\frac{\\partial f(x,\\varphi)}{\\partial y}+r_3]z\\\\\n",
    "z(x_0)=1\\\\\n",
    "\\end{cases}\n",
    "$$\n",
    "\n",
    "的解.因而\n",
    "\n",
    "$$\n",
    "\\frac{\\bar{\\psi}-\\varphi}{\\Delta y_0}=e^{\\int_{x_0}^{x}[\\frac{\\partial f(x,\\varphi)}{\\partial y}+r_3]{\\mathrm d x}}\n",
    "$$"
   ]
  },
  {
   "cell_type": "markdown",
   "metadata": {},
   "source": [
    "其中 $r_3$ 具有性质：当 $\\Delta y_0\\to 0$ 时 $r_3\\to0$ , 且当 $\\Delta y_0=0$ 时 $r_3 = 0$\n",
    "\n",
    "故有\n",
    "\n",
    "$$\n",
    "\\frac{\\partial \\varphi}{\\partial y_0}=\\lim_{\\Delta y_0 \\to 0} \\frac{\\bar{\\psi}-\\varphi}{\\Delta y_0}=e^{\\int_{x_0}^{x}\\frac{\\partial f(x,\\varphi)}{\\partial y}{\\mathrm d x}}\n",
    "$$\n",
    "\n",
    "它是 $x$ , $x_0$ , $y_0$ 的连续函数.\n",
    "\n",
    "至于 $\\frac{\\partial \\varphi}{\\partial x}$ 的存在及连续，只需要注意到 $ y=\\varphi(x,x_0,y_0)$ , 是方程的解，因而\n",
    "\n",
    "$$\n",
    "\\frac{\\partial \\varphi}{\\partial x}=f(x,\\varphi(x,x_0,y_0))\n",
    "$$\n",
    "\n",
    "由 $f$ 及 $\\varphi$ 的连续性即直接可以的出结论."
   ]
  },
  {
   "cell_type": "markdown",
   "metadata": {},
   "source": [
    "## 5. 作业 "
   ]
  },
  {
   "cell_type": "markdown",
   "metadata": {},
   "source": [
    "P103 2. 3.\n",
    "\n",
    "P103 1. 4."
   ]
  },
  {
   "cell_type": "code",
   "execution_count": null,
   "metadata": {
    "collapsed": true
   },
   "outputs": [],
   "source": []
  }
 ],
 "metadata": {
  "kernelspec": {
   "display_name": "SageMath 7.3",
   "language": "",
   "name": "sagemath"
  },
  "language_info": {
   "codemirror_mode": {
    "name": "ipython",
    "version": 2
   },
   "file_extension": ".py",
   "mimetype": "text/x-python",
   "name": "python",
   "nbconvert_exporter": "python",
   "pygments_lexer": "ipython2",
   "version": "2.7.10"
  }
 },
 "nbformat": 4,
 "nbformat_minor": 0
}
