{
 "cells": [
  {
   "cell_type": "markdown",
   "metadata": {},
   "source": [
    "# 4.1 线性微分方程的一般理论"
   ]
  },
  {
   "cell_type": "markdown",
   "metadata": {},
   "source": [
    "## 4.1.1引言"
   ]
  },
  {
   "cell_type": "markdown",
   "metadata": {},
   "source": [
    " 我们讨论如下的 $n$ 阶线性微分方程时\n",
    " \n",
    "$$\n",
    "\\frac{\\mathrm {d^n}x}{\\mathrm dt^n}+a_1(t)\\frac{{d^{n-1}}x}{\\mathrm dt^{n-1}}+\\cdots+a_{n-1}(t)\\frac{\\mathrm dx}{\\mathrm dt}+a_n(t)x=f(t)\n",
    "$$\n",
    "\n",
    "其中 $a_i(t)(i=1,2,3,\\cdots)$ 及 $f(t)$ 都是区间 $a\\leq t\\leq b$ 上的连续函数."
   ]
  },
  {
   "cell_type": "markdown",
   "metadata": {},
   "source": [
    "如果 $f(t)\\equiv 0$, 则方程变为\n",
    "\n",
    "$$\n",
    "\\frac{\\mathrm {d^n}x}{\\mathrm dt^n}+a_1(t)\\frac{{d^{n-1}}x}{\\mathrm dt^{n-1}}+\\cdots+a_{n-1}(t)\\frac{\\mathrm dx}{\\mathrm dt}+a_n(t)x=0\n",
    "$$\n",
    "\n",
    "我们称它为** $n$ 阶齐次线性微分方程**, 简称**齐次线性微分方程**, 而称一般的方程\n",
    "\n",
    "$$\n",
    "\\frac{\\mathrm {d^n}x}{\\mathrm dt^n}+a_1(t)\\frac{{d^{n-1}}x}{\\mathrm dt^{n-1}}+\\cdots+a_{n-1}(t)\\frac{\\mathrm dx}{\\mathrm dt}+a_n(t)x=f(t)\n",
    "$$\n",
    "\n",
    "为** $n$ 阶非齐次线性微分方程**, 简称**非齐次线性微分方程**."
   ]
  },
  {
   "cell_type": "markdown",
   "metadata": {},
   "source": [
    "并且通常把方程\n",
    "\n",
    "$$\n",
    "\\frac{\\mathrm {d^n}x}{\\mathrm dt^n}+a_1(t)\\frac{{d^{n-1}}x}{\\mathrm dt^{n-1}}+\\cdots+a_{n-1}(t)\\frac{\\mathrm dx}{\\mathrm dt}+a_n(t)x=0\n",
    "$$\n",
    "\n",
    "叫做**对应于方程\n",
    "$$\n",
    "\\frac{\\mathrm {d^n}x}{\\mathrm dt^n}+a_1(t)\\frac{{d^{n-1}}x}{\\mathrm dt^{n-1}}+\\cdots+a_{n-1}(t)\\frac{\\mathrm dx}{\\mathrm dt}+a_n(t)x=f(t)\n",
    "$$\n",
    "的齐次线性微分方程**."
   ]
  },
  {
   "cell_type": "markdown",
   "metadata": {},
   "source": [
    "同一阶微分方程一样, 高阶微分方程也存在着是否有解和解是否唯一的问题. 因此, 作为讨论的基础, 我们给出方程\n",
    "\n",
    "$$\n",
    "\\frac{\\mathrm {d^n}x}{\\mathrm dt^n}+a_1(t)\\frac{{d^{n-1}}x}{\\mathrm dt^{n-1}}+\\cdots+a_{n-1}(t)\\frac{\\mathrm dx}{\\mathrm dt}+a_n(t)x=f(t)\n",
    "$$\n",
    "\n",
    "的解的存在唯一性定理.\n"
   ]
  },
  {
   "cell_type": "markdown",
   "metadata": {},
   "source": [
    "### 定理1"
   ]
  },
  {
   "cell_type": "markdown",
   "metadata": {},
   "source": [
    " \n",
    "如果 $a_i(t)(i=1,2,3,\\cdots)$ 及 $f(t)$ 都是区间 $a\\leq t\\leq b$ 上的连续函数, 则对于任一 $t_0\\in [a,b]$ 及任意的 $x_0,x^{(1)}_0,\\cdots,x^{(n-1)}_0$, 方程\n",
    "\n",
    "$$\n",
    "\\frac{\\mathrm {d^n}x}{\\mathrm dt^n}+a_1(t)\\frac{{d^{n-1}}x}{\\mathrm dt^{n-1}}+\\cdots+a_{n-1}(t)\\frac{\\mathrm dx}{\\mathrm dt}+a_n(t)x=f(t)\n",
    "$$\n",
    "\n",
    "存在唯一解\n",
    "\n",
    "$$\n",
    "x=\\varphi (t)\n",
    "$$\n",
    "\n",
    "定义于区间 $a\\leq t\\leq b$ 上, 且满足初值条件\n",
    "\n",
    "$$\n",
    "\\varphi (t_0)=x_0,\\, \\frac{\\mathrm d\\varphi (t_0)}{\\mathrm dt}=x^{(1)}_0,\\, \\cdots,\\, \\frac{\\mathrm d^{n-1}\\varphi}{\\mathrm dt^{n-1}}=x^{(n-1)}_0\n",
    "$$"
   ]
  },
  {
   "cell_type": "markdown",
   "metadata": {},
   "source": [
    "我们将在下一章讲述线性微分方程组的有关定理时给出这一定理的证明. 从这个定理看出，初值条件唯一的确定了方程\n",
    "\n",
    "$$\n",
    "\\frac{\\mathrm {d^n}x}{\\mathrm dt^n}+a_1(t)\\frac{{d^{n-1}}x}{\\mathrm dt^{n-1}}+\\cdots+a_{n-1}(t)\\frac{\\mathrm dx}{\\mathrm dt}+a_n(t)x=f(t)\n",
    "$$\n",
    "\n",
    "的解, 而且这个解在所有的 $a_i(t)(t=1,2,\\cdots)$ 及 $f(t)$ 连续的整个区间 $a\\leq t\\leq b$ 上有定义. "
   ]
  },
  {
   "cell_type": "markdown",
   "metadata": {},
   "source": [
    "## 4.1.2 齐次线性微分方程的解的性质与结构"
   ]
  },
  {
   "cell_type": "markdown",
   "metadata": {},
   "source": [
    "首先讨论齐次线性微分方程\n",
    "\n",
    "$$\n",
    "\\frac{\\mathrm {d^n}x}{\\mathrm dt^n}+a_1(t)\\frac{{d^{n-1}}x}{\\mathrm dt^{n-1}}+\\cdots+a_{n-1}(t)\\frac{\\mathrm dx}{\\mathrm dt}+a_n(t)x=0\n",
    "$$\n",
    "\n",
    "根据**常数可以从微分号下提出来**以及**和的导数等于导数之和**的法则, 容易得到齐次线性微分方程的解的叠加原理."
   ]
  },
  {
   "cell_type": "markdown",
   "metadata": {},
   "source": [
    "### 定理2 (叠加原理)"
   ]
  },
  {
   "cell_type": "markdown",
   "metadata": {},
   "source": [
    "如果 $x_1(t),x_2(t),\\cdots, x_k(t)$ 是方程\n",
    "\n",
    "$$\n",
    "\\frac{\\mathrm {d^n}x}{\\mathrm dt^n}+a_1(t)\\frac{{d^{n-1}}x}{\\mathrm dt^{n-1}}+\\cdots+a_{n-1}(t)\\frac{\\mathrm dx}{\\mathrm dt}+a_n(t)x=0\n",
    "$$\n",
    " \n",
    "的 $k$ 个解, 则它们的线性组合 \n",
    "\n",
    "$$\n",
    "c_1x_1(t)+c_2x_2(t)+\\cdots+c_kx_k(t)\n",
    "$$\n",
    "\n",
    "也是方程的解, 这里 $c_i(i=1,\\cdots,k)$ 是任意常数."
   ]
  },
  {
   "cell_type": "markdown",
   "metadata": {},
   "source": [
    "特别的, 当 $k=n$ 时，即方程\n",
    "\n",
    "$$\n",
    "\\frac{\\mathrm {d^n}x}{\\mathrm dt^n}+a_1(t)\\frac{{d^{n-1}}x}{\\mathrm dt^{n-1}}+\\cdots+a_{n-1}(t)\\frac{\\mathrm dx}{\\mathrm dt}+a_n(t)x=0\n",
    "$$\n",
    "\n",
    "有解\n",
    "\n",
    "$$\n",
    "x=c_1x_1(t)+c_2x_2(t)+\\cdots+c_nx_n(t)\n",
    "$$\n",
    "\n",
    "它含有 $n$ 个任意常数. "
   ]
  },
  {
   "cell_type": "markdown",
   "metadata": {},
   "source": [
    "**思考:**\n",
    "1. 在什么条件下, 上述表达式是齐次线性常微分方程的通解？\n",
    "1. 它具有什么性质呢？\n",
    "\n",
    "下面引入**函数线性相关与线性无关**及**朗斯基 (Wronsky)行列式**等的概念."
   ]
  },
  {
   "cell_type": "markdown",
   "metadata": {},
   "source": [
    "* **定义:** 考虑定义在区间 $a\\leq t\\leq b$ 上的函数 $x_1(t),x_2(t),\\cdots,x_k(t)$, 如果存在不全为 $0$ 的常数 $c_1, \\cdots, c_k$, 使得恒等式 \n",
    "$$\n",
    "c_1x_1(t)+c_2x_2(t)+\\cdots+c_kx_k(t)\\equiv 0\n",
    "$$\n",
    "对于所有的 $t\\in [a,b]$ 都成立, 则称函数是**线性相关**的, 否则就称这些函数在所给的区间上是**线性无关**."
   ]
  },
  {
   "cell_type": "markdown",
   "metadata": {},
   "source": [
    "* **定义:** 有定义在区间 $a\\leq t\\leq b$ 上的 $k$ 个可微 $k-1$ 次函数 $x_1(t),\\cdots,x_k(t)$ 所做成的行列式\n",
    "$$\n",
    "W[x_1(t),x_2(t),\\cdots,x_k(t)]\\equiv W(t)\\equiv \n",
    "\\begin{vmatrix}\n",
    "x_1(t) & x_2(t) & \\cdots & x_k(t) \\\\\n",
    "x^{'}_1(t) & x^{'}_2(t) & \\cdots & x^{'}_k(t) \\\\\n",
    "\\vdots & \\vdots & \\ddots & \\vdots \\\\\n",
    "x^{(k-1)}_1(t) & x^{(k-1)}_2(t) & \\cdots & x^{(k-1)}_k(t)\n",
    "\\end{vmatrix}\n",
    "$$\n",
    "称为这些函数的**朗斯基行列式**."
   ]
  },
  {
   "cell_type": "markdown",
   "metadata": {},
   "source": [
    "### 定理3 \n",
    "\n",
    "若函数 $x_1(t),x_2(t),\\cdots,x_n(t)$ 在区间 $a\\leq t\\leq b$ 上线性相关， 则在 $[a,b]$上它们的朗斯基行列式 $W(t)\\equiv 0$."
   ]
  },
  {
   "cell_type": "markdown",
   "metadata": {},
   "source": [
    "**证明:** 有假设即知, 存在一组不全为零的常数 $c_1,c_2,\\cdots,c_n$ 使得\n",
    "\n",
    "$$\n",
    "c_1x_1(t)+c_2x_2(t)+\\cdots+c_nx_n(t)=0\n",
    "$$\n",
    "\n",
    "依次对 $t$ 微分此恒等式, 得到\n",
    "\n",
    "$$\n",
    "\\begin{cases}\n",
    "c_1x_1(t)+c_2x_2(t)+\\cdots+c_nx_n(t)=0\\\\\n",
    "c_1x^{'}_1(t)+c_2x^{'}_2(t)+\\cdots+c_nx^{'}_n(t)=0 \\\\\n",
    "\\cdots\\\\\n",
    "c_1x^{(n-1)}_1(t)+c_2x^{(n-1)}_2(t)+\\cdots+c_nx^{(n-1)}_n=0 \\\\\n",
    "\\end{cases}\n",
    "$$\n",
    "\n",
    "把以上两式看成关于 $c_1,c_2,\\cdots,c_n$ 的齐次线性方程组, 它的系数行列式就是$W[x_1(t),x_2(t),\\cdots,x_n(t)]$, 于是由线性代数理论知道， 要此方程存在非零解， 它的系数行列式为零, 即它的系数行列式为零， 即 $W(t)\\equiv 0(a\\leq t\\leq b)$, 定理证毕."
   ]
  },
  {
   "cell_type": "markdown",
   "metadata": {},
   "source": [
    "**注:** 定理 3 的逆定理不一定成立. 事实上, 容易给出这样的函数组, 由其构成的朗斯基行列式恒为零, 然而它们却是线性无关的."
   ]
  },
  {
   "cell_type": "markdown",
   "metadata": {},
   "source": [
    "**例:**\n",
    "\n",
    "$$\n",
    "x_1(t)=\n",
    "\\begin{cases}\n",
    "t^2 , & -1\\leq t\\leq 0\\\\\n",
    "0 , & 0\\leq t\\leq 1\\\\\n",
    "\\end{cases}\n",
    "$$\n",
    "\n",
    "和\n",
    "\n",
    "$$\n",
    "x_2(t)=\\begin{cases}\n",
    "0 , -1\\leq t\\leq 0\\\\\n",
    "t^2 , 0\\leq t\\leq 1\\\\\n",
    "\\end{cases}\n",
    "$$\n",
    "\n",
    "在 $-1\\leq t\\leq 0$ 时\n",
    "$$\n",
    "W[x_1(t),x_2(t)]=\n",
    "\\begin{vmatrix}\n",
    "t^2 & 0\\\\\n",
    "2t & 0 \\\\\n",
    "\\end{vmatrix}\n",
    "=0\n",
    "$$\n",
    "\n",
    "在 $0\\leq t\\leq 1$\n",
    "$$\n",
    "W[x_1(t),x_2(t)]=\n",
    "\\begin{vmatrix}\n",
    "0 & t^2\\\\\n",
    "0 & 2t\\\\\n",
    "\\end{vmatrix}\n",
    "=0\n",
    "$$\n",
    "\n",
    "在区间 $-1\\leq t\\leq 1$ 上, 显然 $W[x_1(t),x_2(t)]\\equiv 0$, 但它们在此区间确是线性无关的."
   ]
  },
  {
   "cell_type": "markdown",
   "metadata": {},
   "source": [
    "### 定理 4\n",
    "\n",
    "如果方程\n",
    "\n",
    "$$\n",
    "\\frac{\\mathrm {d^n}x}{\\mathrm dt^n}+a_1(t)\\frac{{d^{n-1}}x}{\\mathrm dt^{n-1}}+\\cdots+a_{n-1}(t)\\frac{\\mathrm dx}{\\mathrm dt}+a_n(t)x=0\n",
    "$$\n",
    "\n",
    "的解 $x_1(t),x_2(t),\\cdots,x_n(t)$ 在区间 $a\\leq t\\leq b$ 上线性无关，则 \n",
    "\n",
    "$$\n",
    "W[x_1(t),x_2(t),\\cdots,x_n(t)]\n",
    "$$\n",
    "\n",
    "在区间任意一点都不等于零，即\n",
    "\n",
    "$$\n",
    "W[x_1(t),x_2(t),\\cdots,x_n(t)]\\neq 0 (a\\leq t\\leq b)\n",
    "$$"
   ]
  },
  {
   "cell_type": "markdown",
   "metadata": {},
   "source": [
    "**注**：一般对任意情况的结论用**反证法**证明。"
   ]
  },
  {
   "cell_type": "markdown",
   "metadata": {},
   "source": [
    "**证明:** 反证法 设有某个 $t_0(a\\leq t_0\\leq b)$ 在区间 $a\\leq t\\leq b$ 使得 $W[t_0]=0$ ,考虑关于 $c_1,c_2,\\cdots,c_n$ 的齐次线性方程组\n",
    "\n",
    "$$\n",
    "\\begin{cases}\n",
    "c_1x_1(t_0)+c_2x_2(t_0)+\\cdots+c_nx_n(t_0)=0 \\\\\n",
    "c_1x^{'}_1(t_0)+c_2x^{'}_2(t_0)+\\cdots+c_nx^{'}_n(t_0)=0 \\\\\n",
    "c_1x^{''}_1(t_0)+c_2x^{''}_2(t_0)+\\cdots+c_nx^{''}_n(t_0)=0 \\\\\n",
    "\\cdots\\\\\n",
    "c_1x^{(n-1)}_1(t_0)+c_2x^{(n-1)}_2(t_0)+\\cdots+c_nx^{(n-1)}_n(t_0)=0 \\\\\n",
    "\\end{cases}\n",
    "$$\n",
    "\n",
    "其系数行列式 $W[t_0]=0$ , 故上面方程有非零解 $c_1,c_2,\\cdots,c_n$ 现在以这组常数构造函数 \n",
    "\n",
    "$$\n",
    "x(t)=c_1x_1(t)+c_2x_2(t)+\\cdots+c_nx_n(t),a\\leq t\\leq b\n",
    "$$\n",
    "\n",
    "根据叠加原理, $x(t)$ 是上面方程的解, 由齐次线性方程组, $x(t)$ 满足初始条件\n",
    "\n",
    "$$\n",
    "x(t_0)=x^{'}(t_0)=\\cdots=x^{(n-1)}(t_0)=0\n",
    "$$\n",
    "\n",
    "但是 $x=0$ 显然也是齐次线性方程的解. 由解的唯一性, 即知 $x(t)\\equiv 0(a\\leq t\\leq b)$ , 即\n",
    "\n",
    "$$\n",
    "c_1x_1(t)+c_2x_2(t)+\\cdots+c_nx_n(t)=0,a\\leq t\\leq b\n",
    "$$\n",
    "\n",
    "因为 $c_1,\\cdots,c_n$ 不全为零，与假设矛盾.\n",
    "\n",
    "证毕. $\\square$"
   ]
  },
  {
   "cell_type": "markdown",
   "metadata": {},
   "source": [
    "**注：** 齐次线性微分方程的一组解对应的$W[x_1(t), \\ldots, x_n(t)]$, 只会有两种可能\n",
    "1. 恒等于0\n",
    "1. 恒不等于0"
   ]
  },
  {
   "cell_type": "markdown",
   "metadata": {},
   "source": [
    "**注：** 取\n",
    "$$\n",
    "\\begin{cases}\n",
    "x_1(t_0) = 1, & x'_1(t_0) = 0, & \\cdots, & x^{(n-1)}_1(t_0)=0 \\\\\n",
    "x_2(t_0) = 0, & x'_2(t_0) = 1, & \\cdots, & x^{(n-1)}_2(t_0)=0 \\\\\n",
    "\\cdots\\cdots\\cdots\\\\\n",
    "x_n(t_0) = 0, & x'_n(t_0) = 0, & \\cdots, & x^{(n-1)}_n(t_0)=1\\\\\n",
    "\\end{cases}\n",
    "$$\n",
    "\n",
    "分别作为初值， 则可以得到 $n$ 个线性无关的解。因为由定理 1 可知， 这些初值对应的解 $x_1(t), x_2(t), \\cdots, x_n(t)$ 一定存在，且\n",
    "\n",
    "$$\n",
    "W[x_1(t_0), x_2(t_0), \\cdots, x_n(t_0)]\\not=0.\n",
    "$$"
   ]
  },
  {
   "cell_type": "markdown",
   "metadata": {},
   "source": [
    "### 定理 5"
   ]
  },
  {
   "cell_type": "markdown",
   "metadata": {},
   "source": [
    "$n$ 阶齐次线性微分方程\n",
    "\n",
    "$$\n",
    "\\frac{\\mathrm {d^n}x}{\\mathrm dt^n}+a_1(t)\\frac{{d^{n-1}}x}{\\mathrm dt^{n-1}}+\\cdots+a_{n-1}(t)\\frac{\\mathrm dx}{\\mathrm dt}+a_n(t)x=0\n",
    "$$\n",
    "\n",
    "一定存在 $n$ 个线性无关的解."
   ]
  },
  {
   "cell_type": "markdown",
   "metadata": {},
   "source": [
    "### 定理6  （通解结构定理）\n",
    "\n",
    "如果 $x_1(t),x_2(t),\\cdots,x_n(t)$ 是方程\n",
    "\n",
    "$$\n",
    "\\frac{\\mathrm {d^n}x}{\\mathrm dt^n}+a_1(t)\\frac{{d^{n-1}}x}{\\mathrm dt^{n-1}}+\\cdots+a_{n-1}(t)\\frac{\\mathrm dx}{\\mathrm dt}+a_n(t)x=0\n",
    "$$\n",
    "\n",
    "的 $n$ 个线性无关的解, 则方程的通解可表示为\n",
    "\n",
    "$$\n",
    "x(t)=c_1x_1(t)+c_2x_2(t)+\\cdots+c_nx_n(t)\n",
    "$$\n",
    "\n",
    "其中 $c_1,c_2,\\cdots,c_n$ 是任意常数, 且通解包含了齐次方程组的所有解."
   ]
  },
  {
   "cell_type": "markdown",
   "metadata": {},
   "source": [
    "**证明：** \n",
    "1. $x(t)=c_1x_1(t)+c_2x_2(t)+\\cdots+c_nx_n(t)$ 是解\n",
    "1. $c_1, c_2, \\cdots, c_n$ 相互独立\n",
    "$$\n",
    "\\begin{vmatrix}\n",
    "\\frac{\\partial x(t)}{\\partial c_1} & \\frac{\\partial x(t)}{\\partial c_2} & \\cdots & \\frac{\\partial x(t)}{\\partial c_n}\\\\\n",
    "\\frac{\\partial x'(t)}{\\partial c_1} & \\frac{\\partial x'(t)}{\\partial c_2} & \\cdots & \\frac{\\partial x'(t)}{\\partial c_n}\\\\\n",
    "\\vdots & \\vdots & \\ddots & \\vdots \\\\\n",
    "\\frac{\\partial x^{(n-1)}(t)}{\\partial c_1} & \\frac{\\partial x^{(n-1)}(t)}{\\partial c_2} & \\cdots & \\frac{\\partial x^{(n-1)}(t)}{\\partial c_n}\\\\\n",
    "\\end{vmatrix}\n",
    "= W[x_1(t), x_2(t), \\cdots, x_n(t)]\\not=0.(a\\leq t \\leq b)\n",
    "$$\n",
    "3. 给定任意初值条件\n",
    "$$\n",
    "x(t_0) = x_0, x'(t_0) = x'_0, \\cdots, x^{(n-1)}(t_0)=x_0^{(n-1)}\n",
    "$$\n",
    "都能确定一组常数 $c_1, c_2, \\cdots, c_n$, 使得\n",
    "$$ \n",
    "x(t)=c_1x_1(t)+c_2x_2(t)+\\cdots+c_nx_n(t)\n",
    "$$ \n",
    "为微分方程的解。"
   ]
  },
  {
   "cell_type": "markdown",
   "metadata": {},
   "source": [
    "### 推论\n",
    "\n",
    "方程\n",
    "\n",
    "$$\n",
    "\\frac{\\mathrm {d^n}x}{\\mathrm dt^n}+a_1(t)\\frac{{d^{n-1}}x}{\\mathrm dt^{n-1}}+\\cdots+a_{n-1}(t)\\frac{\\mathrm dx}{\\mathrm dt}+a_n(t)x=0\n",
    "$$\n",
    "\n",
    "的线性无关解的最大个数等于 $n$, 因此可得结论: $n$ 阶齐次线性微分方程的所有解构成一个 **$n$ 维线性空间**.\n",
    "\n",
    "* **基本解组:** 齐次方程的一组 $n$ 个线性无关的解.\n",
    "    + 基本解组不是唯一的\n",
    "* **标准基本解组:** 初值条件满足 $W(t_0)=1$ 时得到的一组解. "
   ]
  },
  {
   "cell_type": "markdown",
   "metadata": {},
   "source": [
    "## 4.1.3 非齐次线性微分方程与常数变易法"
   ]
  },
  {
   "cell_type": "markdown",
   "metadata": {},
   "source": [
    "$$\n",
    "\\frac{\\mathrm {d^n}x}{\\mathrm dt^n}+a_1(t)\\frac{{d^{n-1}}x}{\\mathrm dt^{n-1}}+\\cdots+a_{n-1}(t)\\frac{\\mathrm dx}{\\mathrm dt}+a_n(t)x=f(t)\n",
    "$$\n",
    "\n",
    "$$\n",
    "\\frac{\\mathrm {d^n}x}{\\mathrm dt^n}+a_1(t)\\frac{{d^{n-1}}x}{\\mathrm dt^{n-1}}+\\cdots+a_{n-1}(t)\\frac{\\mathrm dx}{\\mathrm dt}+a_n(t)x=0\n",
    "$$\n",
    "\n",
    "\n",
    "\n",
    "\n"
   ]
  },
  {
   "cell_type": "markdown",
   "metadata": {},
   "source": [
    "### 性质 1\n",
    "\n",
    "如果 $\\bar{x}(t)$ 是方程\n",
    "\n",
    "$$\n",
    "\\frac{\\mathrm {d^n}x}{\\mathrm dt^n}+a_1(t)\\frac{{d^{n-1}}x}{\\mathrm dt^{n-1}}+\\cdots+a_{n-1}(t)\\frac{\\mathrm dx}{\\mathrm dt}+a_n(t)x=f(t)\n",
    "$$\n",
    "\n",
    "的解, 而 $x(t)$ 是方程\n",
    "\n",
    "$$\n",
    "\\frac{\\mathrm {d^n}x}{\\mathrm dt^n}+a_1(t)\\frac{{d^{n-1}}x}{\\mathrm dt^{n-1}}+\\cdots+a_{n-1}(t)\\frac{\\mathrm dx}{\\mathrm dt}+a_n(t)x=0\n",
    "$$\n",
    "\n",
    "的解, 则 $\\bar{x}(t)+x(t)$ 也是方程\n",
    "\n",
    "$$\n",
    "\\frac{\\mathrm {d^n}x}{\\mathrm dt^n}+a_1(t)\\frac{{d^{n-1}}x}{\\mathrm dt^{n-1}}+\\cdots+a_{n-1}(t)\\frac{\\mathrm dx}{\\mathrm dt}+a_n(t)x=f(t)\n",
    "$$\n",
    "\n",
    "的解.\n"
   ]
  },
  {
   "cell_type": "markdown",
   "metadata": {},
   "source": [
    "### 性质 2\n",
    "\n",
    "方程\n",
    "\n",
    "$$\n",
    "\\frac{\\mathrm {d^n}x}{\\mathrm dt^n}+a_1(t)\\frac{{d^{n-1}}x}{\\mathrm dt^{n-1}}+\\cdots+a_{n-1}(t)\\frac{\\mathrm dx}{\\mathrm dt}+a_n(t)x=f(t)\n",
    "$$\n",
    "\n",
    "的任意两个解之差必为方程\n",
    "\n",
    "$$\n",
    "\\frac{\\mathrm {d^n}x}{\\mathrm dt^n}+a_1(t)\\frac{{d^{n-1}}x}{\\mathrm dt^{n-1}}+\\cdots+a_{n-1}(t)\\frac{\\mathrm dx}{\\mathrm dt}+a_n(t)x=0\n",
    "$$\n",
    "\n",
    "的解.\n"
   ]
  },
  {
   "cell_type": "markdown",
   "metadata": {},
   "source": [
    "### 定理 7\n",
    "\n",
    "设 $x_1(t)$, $x_2(t)$, $\\cdots$, $x_n(t)$ 为方程\n",
    "\n",
    "$$\n",
    "\\frac{\\mathrm {d^n}x}{\\mathrm dt^n}+a_1(t)\\frac{{d^{n-1}}x}{\\mathrm dt^{n-1}}+\\cdots+a_{n-1}(t)\\frac{\\mathrm dx}{\\mathrm dt}+a_n(t)x=0\n",
    "$$\n",
    "\n",
    "的基本解组, 而 $\\bar{x}(t)$ 是方程\n",
    "\n",
    "$$\n",
    "\\frac{\\mathrm {d^n}x}{\\mathrm dt^n}+a_1(t)\\frac{{d^{n-1}}x}{\\mathrm dt^{n-1}}+\\cdots+a_{n-1}(t)\\frac{\\mathrm dx}{\\mathrm dt}+a_n(t)x=f(t)\n",
    "$$\n",
    "\n",
    "的某一解, 则它的通解可表示为\n",
    "\n",
    "$$\n",
    "x=c_1x_1(t)+c_2x_2(t)+\\cdots+c_nx_n(t)+\\bar{x}(t)\n",
    "$$\n",
    "\n",
    "其中 $c_1,c_2,\\cdots,c_n$ 为任意常数. 而且这个通解包括了方程\n",
    "\n",
    "$$\n",
    "\\frac{\\mathrm {d^n}x}{\\mathrm dt^n}+a_1(t)\\frac{{d^{n-1}}x}{\\mathrm dt^{n-1}}+\\cdots+a_{n-1}(t)\\frac{\\mathrm dx}{\\mathrm dt}+a_n(t)x=f(t)\n",
    "$$\n",
    "\n",
    "的所有解."
   ]
  },
  {
   "cell_type": "markdown",
   "metadata": {},
   "source": [
    "**证明:**\n",
    "\n",
    "$$\n",
    "x=c_1x_1(t)+c_2x_2(t)+\\cdots+c_nx_n(t)+\\bar{x}(t)\n",
    "$$\n",
    "\n",
    "是方程\n",
    "\n",
    "$$\n",
    "\\frac{\\mathrm {d^n}x}{\\mathrm dt^n}+a_1(t)\\frac{{d^{n-1}}x}{\\mathrm dt^{n-1}}+\\cdots+a_{n-1}(t)\\frac{\\mathrm dx}{\\mathrm dt}+a_n(t)x=f(t)\n",
    "$$\n",
    "\n",
    "的解，它包含了 $n$ 个任意常数;\n",
    "\n",
    "$\\tilde{x}(t)-\\bar{x}(t)$ 也是方程\n",
    "\n",
    "$$\n",
    "\\frac{\\mathrm {d^n}x}{\\mathrm dt^n}+a_1(t)\\frac{{d^{n-1}}x}{\\mathrm dt^{n-1}}+\\cdots+a_{n-1}(t)\\frac{\\mathrm dx}{\\mathrm dt}+a_n(t)x=0\n",
    "$$\n",
    "\n",
    "的解, 根据定理 6 必有一组确定的常数 $\\tilde{c_1},\\cdots,\\tilde{c_n}$, 使得\n",
    "\n",
    "$$\n",
    "\\tilde{x}(t)-\\bar{x}(t)=\\tilde{c_1}x_1(t)+\\cdots+\\tilde{c_n}x_n(t)\n",
    "$$\n",
    "\n",
    "即\n",
    "\n",
    "$$\n",
    "\\tilde{x}(t)=\\tilde{c_1}x_1(t)+\\cdots+\\tilde{c_n}x_n(t)+\\bar{x}(t)\n",
    "$$"
   ]
  },
  {
   "cell_type": "markdown",
   "metadata": {},
   "source": [
    "## 常数变易法"
   ]
  },
  {
   "cell_type": "markdown",
   "metadata": {},
   "source": [
    "设\n",
    "\n",
    "$$\n",
    "x=c_1x_1(t)+c_2x_2(t)+\\cdots+c_nx_n(t)\n",
    "$$\n",
    "\n",
    "为\n",
    "\n",
    "$$\n",
    "\\frac{\\mathrm {d^n}x}{\\mathrm dt^n}+a_1(t)\\frac{{d^{n-1}}x}{\\mathrm dt^{n-1}}+\\cdots+a_{n-1}(t)\\frac{\\mathrm dx}{\\mathrm dt}+a_n(t)x=0\n",
    "$$\n",
    "\n",
    "的通解. 把其中的任意常数 $c_i$ 看作 $t$ 的待定函数 $c_i(t),\\, i=1,2,\\cdots$. 这时上式变为\n",
    "\n",
    "$$\n",
    "x=c_1(t)x_1(t)+c_2(t)x_2(t)+\\cdots+c_n(t)x_n(t).\n",
    "$$\n",
    "\n",
    "设它为对应非齐次线性方程的解:\n",
    "\n",
    "$$\n",
    "\\frac{\\mathrm {d^n}x}{\\mathrm dt^n}+a_1(t)\\frac{{d^{n-1}}x}{\\mathrm dt^{n-1}}+\\cdots+a_{n-1}(t)\\frac{\\mathrm dx}{\\mathrm dt}+a_n(t)x=f(t)\n",
    "$$\n",
    "\n",
    "的解. "
   ]
  },
  {
   "cell_type": "markdown",
   "metadata": {},
   "source": [
    "两边对 $t$ 求导, 可得:\n",
    "\n",
    "$$\n",
    "x'=c_1(t)x'_1(t)+c_2(t)x'_2(t)+\\cdots+c_n(t)x'_n(t)\\\\+x_1(t)c'_1(t)+\\cdots+x_n(t)c'_n(t)\n",
    "$$\n",
    "\n",
    "令\n",
    "\n",
    "$$\n",
    "x_1(t)c'_1(t)+\\cdots+x_n(t)c'_n(t)=0\n",
    "$$\n",
    "\n",
    "得到\n",
    "\n",
    "$$\n",
    "x'=c_1(t)x'_1(t)+c_2(t)x'_2(t)+\\cdots+c_n(t)x'_n(t)\n",
    "$$\n",
    "\n",
    "又\n",
    "\n",
    "$$\n",
    "c'_1(t)x'_1(t)+c'_2(t)x'_2(t)+\\cdots+c'_n(t)x'_n(t)=0\n",
    "$$\n",
    "\n",
    "$$\n",
    "x''=c_1(t)x''_1(t)+c_2(t)x''_2(t)+\\cdots+c_n(t)x''_n(t)\n",
    "$$\n",
    "\n",
    "继续以上做法，在最后一次我们得到第 $n-1$ 个条件\n",
    "\n",
    "$$\n",
    "x^{(n-2)}_1(t)c'_1(t)+x^{(n-2)}_2(t)c'_2(t)+\\cdots+x^{(n-2)}_n(t)c'_n(t)=0\n",
    "$$\n",
    "\n",
    "和表达式\n",
    "\n",
    "$$\n",
    "x^{(n-1)}=c_1(t)x^{(n-1)}_1(t)+c_2(t)x^{(n-1)}_2(t)+\\cdots+c_n(t)x^{(n-1)}_n(t)\n",
    "$$\n",
    "\n",
    "最后对 $t$ 微分上式得到\n",
    "\n",
    "$$\n",
    "x^{(n)}=c_1(t)x^{(n)}_1(t)+c_2(t)x^{(n)}_2(t)+\\cdots+c_n(t)x^{(n)}_n(t)\\\\+c'_1(t)x^{(n-1)}_1(t)+c'_2(t)x^{(n-1)}_2(t)+\\cdots+c'_n(t)x^{(n-1)}_n(t)\n",
    "$$\n",
    "\n"
   ]
  },
  {
   "cell_type": "markdown",
   "metadata": {},
   "source": [
    "现将\n",
    "\n",
    "$$\n",
    "x=c_1(t)x_1(t)+c_2(t)x_2(t)+\\cdots+c_n(t)x_n(t)\n",
    "$$\n",
    "\n",
    "$$\n",
    "x'=c_1(t)x'_1(t)+c_2(t)x'_2(t)+\\cdots+c_n(t)x'_n(t)\n",
    "$$\n",
    "\n",
    "$$\n",
    "x''=c_1(t)x''_1(t)+c_2(t)x''_2(t)+\\cdots+c_n(t)x''_n(t)\n",
    "$$\n",
    "\n",
    "$$\\cdots$$\n",
    "\n",
    "$$\n",
    "x^{(n)}=c_1(t)x^{(n)}(t)+c_2(t)x^{(n)}_2(t)+\\cdots+c_n(t)x^{(n)}_n(t)\\\\+c'_1(t)x^{n-1}_1(t)+c'_2(t)x^{n-1}_2(t)+\\cdots+c'_n(t)x^{n-1}_n(t)\n",
    "$$\n",
    "\n",
    "代入\n",
    "\n",
    "$$\n",
    "\\frac{\\mathrm {d^n}x}{\\mathrm dt^n}+a_1(t)\\frac{{d^{n-1}}x}{\\mathrm dt^{n-1}}+\\cdots+a_{n-1}(t)\\frac{\\mathrm dx}{\\mathrm dt}+a_n(t)x=f(t)\n",
    "$$\n",
    "\n",
    "得到\n",
    "\n",
    "$$\n",
    "c'_1(t)x^{(n-1)}_1(t)+c'_2(t)x^{(n-1)}_2(t)+\\cdots+c'_n(t)x^{(n-1)}_n(t)=f(t)\n",
    "$$\n",
    "\n"
   ]
  },
  {
   "cell_type": "markdown",
   "metadata": {},
   "source": [
    "$$\n",
    "\\begin{cases}\n",
    "x_1(t)c'_1(t)+\\cdots+x_n(t)c'_n(t)=0\\\\\n",
    "x'_1(t)c'_1(t)+x'_2(t)c’_2(t)+\\cdots+x'_n(t)c'_n(t)=0\\\\\n",
    "\\cdots\\\\\n",
    "x^{(n-2)}_1(t)c'_1(t)+x^{(n-2)}_2(t)c'_1(t)+\\cdots+x^{(n-2)}_n(t)c'_n(t)=0\\\\\n",
    "x^{(n-1)}_1(t)c'_1(t)+x^{(n-1)}_2(t)c'_2(t)+\\cdots+x^{(n-1)}_n(t)c'_n(t)=f(t)\\\\\n",
    "\\end{cases}\n",
    "$$\n",
    "\n",
    "$$\n",
    "W[x_1(t),x_2(t),\\cdots,x_n(t)]\\neq 0\n",
    "$$\n",
    "\n",
    "方程组有惟一的解, 设求得\n",
    "\n",
    "$$\n",
    "c'_i(t)=\\varphi_i(t),\\quad i=1,2,\\cdots,n.\\\\\n",
    "c_i=\\int\\varphi_i(t)\\mathrm dt +\\gamma_i,\\quad i=1,2,\\cdots,n\\\\\n",
    "x=c_1(t)x_1(t)+c_2(t)x_2(t)+\\cdots+c_n(t)x_n(t)\n",
    "$$"
   ]
  },
  {
   "cell_type": "markdown",
   "metadata": {},
   "source": [
    "方程的通解为\n",
    "\n",
    "$$\n",
    "x=\\sum_{i=1}^n \\gamma_i x_i(t)+\\sum_{i=1}^n x_i(t) \\int\\varphi_i(t)\\mathrm dt\n",
    "$$"
   ]
  },
  {
   "cell_type": "markdown",
   "metadata": {},
   "source": [
    "#### 例 1    \n",
    "求方程 $x''+x=\\frac{1}{\\cos t}$ 的通解, 已知它对应齐次线性微分方程的基本解组为 $\\cos t , \\sin t$."
   ]
  },
  {
   "cell_type": "markdown",
   "metadata": {},
   "source": [
    "**解:** 应用常数变易法, 令\n",
    "\n",
    "$$\n",
    "x=c_1(t)\\cos t+c_2(t)\\sin t\n",
    "$$\n",
    "\n",
    "将它代入方程，则可得决定 $c'_1(t)$ 和 $c'_2(t)$ 的两个方程\n",
    "\n",
    "$$\n",
    "\\cos tc'_1(t)+\\sin tc'_2(t)=0\n",
    "$$\n",
    "\n",
    "及\n",
    "\n",
    "$$\n",
    "-\\sin tc'_1(t)+\\cos tc'_2(t)=\\frac{1}{\\cos t}\n",
    "$$\n",
    "\n",
    "解得\n",
    "\n",
    "$$\n",
    "c'_1(t)=-\\frac{\\sin t}{\\cos t} ,c'_2(t)=1\\\\\n",
    "c_1(t)=\\ln|\\cos t|+\\gamma_1 , c_2(t)=t+\\gamma_2\n",
    "$$\n",
    "\n",
    "于是原方程的通解为\n",
    "\n",
    "$$\n",
    "x=\\gamma_1\\cos t+\\gamma_2\\sin t+\\cos t\\ln|\\cos t|+t\\sin t\n",
    "$$\n",
    "\n",
    "其中 $\\gamma_1,\\gamma_2$ 为任意常数."
   ]
  },
  {
   "cell_type": "markdown",
   "metadata": {},
   "source": [
    "#### 例2\n",
    "求方程 $tx''-x'=t^2$ 于域 $t\\neq 0$ 上的所有解."
   ]
  },
  {
   "cell_type": "markdown",
   "metadata": {},
   "source": [
    "**解：** 对应的齐次线性微分方程为\n",
    "\n",
    "$$\n",
    "tx''-x'=0\\\\\n",
    "\\frac{x''}{x'}=\\frac{1}{t}\n",
    "$$\n",
    "\n",
    "积分既得 $x'=At$ , 所以 $x=\\frac{1}{2}At^2+B$ , 这里 A，B 为任意常数, 易见有基本解组 $1,t^2$, 则方程改写为\n",
    "\n",
    "$$\n",
    "x''-\\frac{1}{t}x'=t\n",
    "$$\n",
    "\n",
    "并以 $x=c_1(t)+c_2(t)t^2$ 代入，可得\n",
    "\n",
    "$$\n",
    "c'_1(t)+t^2c'_2(t)=0 及 2tc'_2(t)=t\n",
    "$$\n",
    "\n",
    "于是\n",
    "\n",
    "$$\n",
    "c_2(t)=\\frac{1}{2}t+\\gamma_2 , c_1(t)=-\\frac{1}{6}t^3+\\gamma_1\n",
    "$$\n",
    "\n",
    "故得原方程的通解为\n",
    "\n",
    "$$\n",
    "x=\\gamma_1+\\gamma_2t^2+\\frac{1}{3}t^3\n",
    "$$\n",
    "这里 $\\gamma_1,\\gamma_2$ 是任意常数.\n"
   ]
  },
  {
   "cell_type": "markdown",
   "metadata": {},
   "source": [
    "**作业：**\n",
    "\n",
    "P.131 1. 2. "
   ]
  }
 ],
 "metadata": {
  "kernelspec": {
   "display_name": "Python 3",
   "language": "python",
   "name": "python3"
  },
  "language_info": {
   "codemirror_mode": {
    "name": "ipython",
    "version": 3
   },
   "file_extension": ".py",
   "mimetype": "text/x-python",
   "name": "python",
   "nbconvert_exporter": "python",
   "pygments_lexer": "ipython3",
   "version": "3.5.2"
  },
  "latex_envs": {
   "bibliofile": "biblio.bib",
   "cite_by": "apalike",
   "current_citInitial": 1,
   "eqLabelWithNumbers": true,
   "eqNumInitial": 0
  }
 },
 "nbformat": 4,
 "nbformat_minor": 0
}
