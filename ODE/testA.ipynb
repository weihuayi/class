{
 "cells": [
  {
   "cell_type": "markdown",
   "metadata": {},
   "source": [
    "一、填空题（每题４分，共２０分）"
   ]
  },
  {
   "cell_type": "markdown",
   "metadata": {},
   "source": [
    "１、微分方程 $\\frac{\\mathrm d^2 y}{\\mathrm d x^2}＋b\\frac{\\mathrm d y}{\\mathrm d x}+cy=\\cos x$ 是否是线性方程 $\\underline{\\qquad\\qquad}$, 其阶数是 $\\underline{\\qquad\\qquad}$."
   ]
  },
  {
   "cell_type": "markdown",
   "metadata": {},
   "source": [
    "２、若 $x_1(t),x_2(t),\\dots,x_n(t)$ 为 $n$ 阶齐次线性微分方程的 $n$ 个解， 则它们线性无关的充要条件是 $\\underline{\\qquad\\qquad}$."
   ]
  },
  {
   "cell_type": "markdown",
   "metadata": {},
   "source": [
    "３、$\\underline{\\qquad\\qquad\\qquad}$称为伯努力方程, 它有积分因子$\\underline{\\qquad\\qquad\\qquad}$."
   ]
  },
  {
   "cell_type": "markdown",
   "metadata": {},
   "source": [
    "4、若 $\\varphi(x)$ 为皮卡逼近序列 $\\{\\varphi_n(x)\\}$ 的极限，　则有 ${|\\varphi(x)-\\varphi_n|}(x)\\leq$ $\\underline{\\qquad\\qquad}$."
   ]
  },
  {
   "cell_type": "markdown",
   "metadata": {},
   "source": [
    "5、若 $\\Phi（t）$ 和 $\\Psi（t）$ 都是 $x=A(t)x$ 的基解矩阵, 则 $\\Phi（t）$ 和 $\\Psi（t）$ 具有关系 $\\underline{\\qquad\\qquad}$."
   ]
  },
  {
   "cell_type": "markdown",
   "metadata": {},
   "source": [
    "二、求下列方程（组）的通解（每小题１０分,共５０分）"
   ]
  },
  {
   "cell_type": "markdown",
   "metadata": {},
   "source": [
    "１、解方程 $(x^2+y^2+x){\\mathrm d x}+xy{\\mathrm d y}=0$\n",
    "\n",
    "2、设 $\\int_0^x[2y(t)+\\sqrt{t^2+y^2(t)}]{\\mathrm d t}=xy(t)$, 且 $y(1)=0$, 求 $y(x)$.\n",
    "\n",
    "3、解方程 $y^2+y'^2=1$.\n",
    "\n",
    "４、求微分方程 $\\frac{\\mathrm d^2 x}{\\mathrm d t^2}-\\frac{\\mathrm d x}{\\mathrm d t}-2x=e^{-t}(\\cos t －7\\sin t)$ 的通解.\n",
    "\n",
    "5、试求微分方程 $x''+x'=\\sec t$ 的通解. $(-\\frac{\\pi}{2}<t<\\frac{\\pi}{2})$"
   ]
  },
  {
   "cell_type": "markdown",
   "metadata": {},
   "source": [
    "三、证明题(20分)"
   ]
  },
  {
   "cell_type": "markdown",
   "metadata": {},
   "source": [
    "试证 $n$ 阶非齐次线性微分方程 \n",
    "$$\n",
    "\\frac{\\mathrm d^n x}{\\mathrm d t^n}+a_1(t)\\frac{\\mathrm d^{n-1} x}{\\mathrm d t^{n-1}}+\\dots+a_{n-1}(t)\\frac{\\mathrm d x}{\\mathrm d t}+a_{n}(t)x=f(t)\n",
    "$$\n",
    "存在且最多存在 $n+1$ 个线性无关解。"
   ]
  },
  {
   "cell_type": "markdown",
   "metadata": {},
   "source": [
    "四、应用题"
   ]
  },
  {
   "cell_type": "markdown",
   "metadata": {},
   "source": [
    "１、一质量为 $m$ 的质点作直线运动，从速度等于零的时刻起，有一个和时间成正比(比例系数为 $k_1$）的力作用在它上面，此外质点又受到介质的阻力，这个阻力和速度成正比，（比例系数为 $k_2$）,试求此质点的速度与时间的关系."
   ]
  },
  {
   "cell_type": "markdown",
   "metadata": {},
   "source": [
    "### 参考答案"
   ]
  },
  {
   "cell_type": "markdown",
   "metadata": {},
   "source": [
    "一、填空题"
   ]
  },
  {
   "cell_type": "markdown",
   "metadata": {},
   "source": [
    "1、线性非奇次、２阶\n",
    "\n",
    "２、$w[x_1(t),x_2(t),\\dots,x_n(t)]\\neq 0$\n",
    "\n",
    "３、$\\frac{\\mathrm d y}{\\mathrm d x}=p(x)y+q(x)y^n$, $u(x,y)=y^{-n}e^{\\int(n-1)p(x){\\mathrm d x}}$\n",
    "\n",
    "４、$\\frac{ML^n}{(n+1!)}h^{n+1}$\n",
    "\n",
    "５、$\\Psi（t）＝\\Phi（t）C$ "
   ]
  },
  {
   "cell_type": "markdown",
   "metadata": {},
   "source": [
    "二、计算题"
   ]
  },
  {
   "cell_type": "markdown",
   "metadata": {},
   "source": [
    "(1)、$\\frac{\\partial M}{\\partial y}=2y$, $\\frac{\\partial N}{\\partial x}=y$,得\n",
    "$$\n",
    "\\frac{\\frac{\\partial M}{\\partial y}-\\frac{\\partial N}{\\partial x}}{N}=\\frac{2y-y}{xy}=\\frac{1}{x},\n",
    "$$\n",
    "故有\n",
    "$$\n",
    "\\mu(x)=e^{\\int\\frac{1}{x}{\\mathrm d x}}=x\n",
    "$$\n",
    "用 $\\mu（x）＝x$ 乘原方程两端，得全微分方程\n",
    "$$\n",
    "(x^3+xy^2+x^2){\\mathrm d x}+x^2y{\\mathrm d y}=0\n",
    "$$\n",
    "用凑微分法重组，得\n",
    "$$\n",
    "(xy^2{\\mathrm d x}+x^2y{\\mathrm d y})+(x^3+x^2){\\mathrm d x}\n",
    "$$\n",
    "即\n",
    "$$\n",
    "d(\\frac{1}{2}x^2y^2)+d(\\frac{x^4}{4}+\\frac{x^3}{3})=0\n",
    "$$\n",
    "故通解为\n",
    "$$\n",
    "6x^2y^2+3x^4+4x^3=C\n",
    "$$"
   ]
  },
  {
   "cell_type": "markdown",
   "metadata": {},
   "source": [
    "（２）解$\\quad$将积分式两端对 $x$ 求导, 得\n",
    "$$\n",
    "2y+\\sqrt{x^2=y^2}=xy'+y\n",
    "$$\n",
    "将上式变形\n",
    "$$\n",
    "\\frac{\\mathrm d y}{\\mathrm d x}=\\frac{y}{x}+\\sqrt{1+(\\frac{y}{x})^2}.\n",
    "$$\n",
    "令 $u=\\frac{y}{x}$, 得\n",
    "$$\n",
    "\\frac{\\mathrm d u}{\\mathrm d x}=\\frac{\\sqrt{1+u^2}}{x}\n",
    "$$\n",
    "分离变量后两端积分，得\n",
    "$$\n",
    "\\ln(u+\\sqrt{1+u^2})=\\ln Cx\n",
    "$$\n",
    "代入 $u(1)=y(1)=0$, 解得 $C=1$, 故\n",
    "$$\n",
    "u+\\sqrt{1+u^2}=x\n",
    "$$\n",
    "将 $u=\\frac{y}{x}$ 代入上式\n",
    "$$\n",
    "y=\\frac{1}{2}(x^2-1)\n",
    "$$"
   ]
  },
  {
   "cell_type": "markdown",
   "metadata": {},
   "source": [
    "(3)令 $y=\\sin t$,则 ${\\mathrm d y}=\\cos t {\\mathrm dt}$, 由方程又有\n",
    "$$\n",
    "y'=\\frac{\\mathrm d y}{\\mathrm d x}=\\cos t.\n",
    "$$\n",
    "当 $\\cos t\\neq 0$ 时， 有\n",
    "$$\n",
    "{\\mathrm d x}=\\frac{\\mathrm d y}{\\cos t}=\\frac{\\cos t}{\\cos t}{\\mathrm d t}={\\mathrm d t}\n",
    "$$\n",
    "对上式两边积分得 $x=t=+C$, 得到方程的通解为\n",
    "$$\n",
    "y=sin(x-C).\n",
    "$$\n",
    "当 $\\cos t =0$ 时, $y=\\sin t = \\pm 1$. $y=\\pm 1$ 是两个特解。"
   ]
  },
  {
   "cell_type": "markdown",
   "metadata": {},
   "source": [
    "(4)、特征方程为 $\\lambda^2-\\lambda-2=0$, 特征根为 $\\lambda_1=-1$, $\\lambda_2=2$.\n",
    "因为 $\\alpha+i\\beta=-1+i$ 不是特征根, 故原方程有解形如\n",
    "$$\n",
    "\\tilde{t}=e^{-t}(A\\cos t+ B\\sin t),\n",
    "$$\n",
    "代入原方程化简得到\n",
    "$$\n",
    "(-3B-A)\\cos t-(B-3A)\\sin t=\\cos t -7\\sin t,\n",
    "$$\n",
    "比较上式两端 $\\cos t$, $\\sin t$ 的系数, 可得 $A=-\\frac{11}{5}$, $B=\\frac{2}{5}$, 故原方程的特解为\n",
    "$$\n",
    "\\tilde{t}=e^{-t}(-\\frac{11}{5}\\cos t+\\frac{2}{5}\\sin t),\n",
    "$$\n",
    "于是原方程的通解为\n",
    "$$\n",
    "x=c_1e^t+c_2e^{-2t}+e^{-t}(-\\frac{11}{5}\\cos t+\\frac{2}{5}\\sin t)\n",
    "$$\n",
    "其中， $c_1,c_2$ 为任意常数."
   ]
  },
  {
   "cell_type": "markdown",
   "metadata": {},
   "source": [
    "(5)、易知对应齐次微分方程 $x''+x'=0$ 的基本解组为\n",
    "$$\n",
    "x_1(t)=\\cos t,x_2(t)=\\sin t.\n",
    "$$\n",
    "这时，\n",
    "$$\n",
    "W[x_1(t),x_2(t)]=\\begin{vmatrix}\n",
    "\\cos t & \\sin t \\\\\n",
    "-\\sin t & \\cos t \\\\\n",
    "\\end{vmatrix}=1\n",
    "$$\n",
    "由公式得\n",
    "$$\n",
    "\\varphi(t)=\\int_0^t\\frac{\\sin t \\cos s -\\cos t \\sin s}{1}{\\sec s}{\\mathrm d s}=\\int_0^t(\\sin t -\\cos t \\tan s){\\mathrm d s}=t \\sin t +\\cos t\\ln|cos t|.\n",
    "$$\n",
    "所以原方程的通解为 $x=c_1\\cos t+c_2\\sin t+t \\sin t +\\cos t\\ln|cos t|$."
   ]
  },
  {
   "cell_type": "markdown",
   "metadata": {
    "collapsed": true
   },
   "source": [
    "三、证明题"
   ]
  },
  {
   "cell_type": "markdown",
   "metadata": {},
   "source": [
    "证明：\n",
    "设 $x_1(t),x_2(t),\\dots,x_n(t)$ 为非齐次线性微分方程对应的齐次线性微分方程的一个基本解组, $\\bar{x}(t)$ 是非齐次微分方程的一个解，则：\n",
    "$$\n",
    "x_1(t)+\\bar{x}(t),x_2(t)+\\bar{x}(t),\\dots,x_n(t)+\\bar{x}(t),\\bar{x}(t) \\qquad(1)\n",
    "$$\n",
    "均为非齐次线性微分方程的解.\n",
    "\n",
    "同时（１）是线性无关的.\n",
    "\n",
    "事实上假设存在常数 $c_1,c_2,\\dots,c_{n+1}$, 使得\n",
    "\n",
    "$$\n",
    "c_1(x_1(t)+\\bar{x}(t))+c_2(x_2(t)+\\bar{x}(t))+\\dots+c_n(x_n(t)+\\bar{x}(t))+c_{n+1}(\\bar{x}(t))=0\n",
    "$$\n",
    "\n",
    "即\n",
    "$$\n",
    "\\displaystyle\\sum_{i=1}^{n} c_ix_i(t)+\\bar{x}(t)\\displaystyle\\sum_{i=1}^{n+1} c_i=0\n",
    "$$\n",
    "我们说\n",
    "$$\n",
    "\\displaystyle\\sum_{i=1}^{n+1} c_i=0\n",
    "$$\n",
    "\n",
    "否则,若 $\\displaystyle\\sum_{i=1}^{n+1} c_i\\neq0$, 则有 $\\bar{x}(t)=-\\displaystyle\\sum_{i=1}^{n} \\frac{c_i}{\\displaystyle\\sum_{j=1}^{n+1} c_j}x_i(t)$.\n",
    "\n",
    "$(*)$ 的左端为非齐次线性方程的解，而右端为齐次微分方程的解，矛盾！\n",
    "\n",
    "从而有 $\\displaystyle\\sum_{i=1}^{n} c_ix_i(t)=0$\n",
    "\n",
    "又 $x_1(t),x_2(t),\\dots,x_n(t)$ 为非齐次微分方程对应的齐次线性微分方程的一个基本解组\n",
    "\n",
    "故有 $c_1=c_2=\\dots=c_n=0$, 进而有 $c_{n+1}=0$\n",
    "即 $（１）$ 是线性无关的.\n",
    "再证明非齐次微分方程最多有 $n+1$ 个线性无关的解.\n",
    "\n",
    "设 $x_1(t),x_2(t),\\dots,x_{n+2}(t)$ 为非齐次微分方程的任意 $n+2$ 个解.\n",
    "\n",
    "显然，$x_1(t)-x_{n+2}(t),x_2(t)-x_{n+2}(t),\\dots,x_{n+1}(t)-x_{n+2}(t)$ 齐次微分方程的　$n+1$ 个解.\n",
    "\n",
    "由定理６及推论，　这　$n+1$ 个解一定是线性相关的, 即，存在不全为零的数 $c_1,c_2,\\dots,c_{n+1}$ 使得\n",
    "\n",
    "$$\n",
    "c_1(x_1(t)-x_{n+2}(t))+c_2(x_2(t)-x_{n+2}(t))+\\dots+c_{n+1}(x_{n+1}(t)-x_{n+2}(t))=0\n",
    "$$\n",
    "\n",
    "即\n",
    "$$\n",
    "c_1x(t)+c_2x(t)+\\dots+c_{n+1}x_{n+1}(t)-(c_1+c_2+\\dots+c_{n+1})x_{n+2}(t)=0\n",
    "$$\n",
    "所以，这 $n+2$ 个解是线性相关的，即证明了最多有 $n+1$ 个线性无关的解。\n"
   ]
  },
  {
   "cell_type": "markdown",
   "metadata": {},
   "source": [
    "四、应用题"
   ]
  },
  {
   "cell_type": "markdown",
   "metadata": {},
   "source": [
    "解：根据牛顿第二定律，可以写出质点运动满足的方程为：\n",
    "$$\n",
    "m\\frac{\\mathrm d v}{\\mathrm d t}=k_1t-k_2v,\n",
    "$$\n",
    "\n",
    "其中 $v$ 表示质点运动的速度， $t$ 表示时间.\n",
    "\n",
    "方程可以变形为 \n",
    "$$\n",
    "\\frac{\\mathrm d v}{\\mathrm d t}=-\\frac{k_2}{m}v+\\frac{k_1}{m}t,\n",
    "$$\n",
    "运用公式法求解，可得解为\n",
    "$$\n",
    "v=e^{\\int-\\frac{k_2}{m}{\\mathrm d t}}(\\int\\frac{k_1}{m}t \n",
    " {e^{\\int\\frac{k_2}{m}{\\mathrm d t}}}{\\mathrm d t}+c)\n",
    "$$\n",
    "\n",
    "化简得　$v=ce^{-\\frac{k_2}{m}t}+\\frac{k_1}{k_2}(t-\\frac{m}{k_2})$.\n",
    "\n",
    "由于 $t=0$ 时，$ｖ（0）$,代入可得　$c=\\frac{mk_1}{k_2^2}$\n",
    "\n",
    "于是 \n",
    "$$\n",
    "v=\\frac{mk_1}{k_2^2}e^{-\\frac{k_2}{m}t}+\\frac{k_1}{k_2}(t-\\frac{m}{k_2})\n",
    "$$\n",
    "\n",
    "这就是质点的速度与时间的关系。"
   ]
  },
  {
   "cell_type": "code",
   "execution_count": null,
   "metadata": {
    "collapsed": true
   },
   "outputs": [],
   "source": []
  }
 ],
 "metadata": {
  "kernelspec": {
   "display_name": "SageMath 7.3",
   "language": "",
   "name": "sagemath"
  },
  "language_info": {
   "codemirror_mode": {
    "name": "ipython",
    "version": 2
   },
   "file_extension": ".py",
   "mimetype": "text/x-python",
   "name": "python",
   "nbconvert_exporter": "python",
   "pygments_lexer": "ipython2",
   "version": "2.7.10"
  }
 },
 "nbformat": 4,
 "nbformat_minor": 0
}
