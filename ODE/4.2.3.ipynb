{
 "cells": [
  {
   "cell_type": "markdown",
   "metadata": {},
   "source": [
    "# 4.2.3 非齐次线性微分方程$\\bullet$比较系数法"
   ]
  },
  {
   "cell_type": "markdown",
   "metadata": {},
   "source": [
    "现在讨论常系数非齐次线性微分方程\n",
    "\n",
    "$$\n",
    "L[x]\\equiv \\frac{\\mathrm d^nx}{\\mathrm dt^n}+a_1\\frac{\\mathrm d^{n-1}x}{\\mathrm dt^{n-1}}+\\cdots+a_{n-1}\\frac{\\mathrm dx}{\\mathrm dt}+a_nx=f(t)\n",
    "$$\n",
    "\n",
    "的求解问题. 其中 $a_1,a_2,\\cdots,a_n$ 是常数, $f(t)$ 是连续函数. "
   ]
  },
  {
   "cell_type": "markdown",
   "metadata": {},
   "source": [
    "## 比较系数法"
   ]
  },
  {
   "cell_type": "markdown",
   "metadata": {},
   "source": [
    "### 类型1"
   ]
  },
  {
   "cell_type": "markdown",
   "metadata": {},
   "source": [
    "设 \n",
    "$$\n",
    "f(t)=(b_0t^m+b_1t^{m-1}+\\cdots+b_{m-1}t+b_m)e^{\\lambda t}\n",
    "$$\n",
    "\n",
    "其中 $\\lambda$ 及 $b$ 为实常数, 那么方程\n",
    "\n",
    "$$\n",
    "L[x]\\equiv \\frac{\\mathrm d^nx}{\\mathrm dt^n}+a_1\\frac{\\mathrm d^{n-1}x}{\\mathrm dt^{n-1}}+\\cdots+a_{n-1}\\frac{\\mathrm dx}{\\mathrm dt}+a_nx=f(t)\n",
    "$$\n",
    "\n",
    "有形如\n",
    "\n",
    "$$\n",
    "\\tilde{x}=t^k(B_0t^m+B_1t^{m-1}+\\cdots+B_{m-1}t+B_m)e^{\\lambda t}\n",
    "$$\n",
    "\n",
    "的特解, 其中 $k$ 为特征方程 $F(\\lambda)=0$ 的根 $\\lambda$ 的重数, 而 $B_0,B_1,\\cdots,B_m$ 是待定常数, 可以通过比较系数来确定."
   ]
  },
  {
   "cell_type": "markdown",
   "metadata": {},
   "source": [
    "* $\\lambda = 0$\n",
    "    + $\\lambda = 0$ 不是特征根\n",
    "    + $\\lambda = 0$ 是 $k$ 重特征根\n",
    "* $\\lambda \\not=0$, 做变换 $x = ye^{\\lambda t}$\n",
    "    + $\\lambda$ 不是特征根\n",
    "    + $\\lambda$ 是 $k$ 重特征根"
   ]
  },
  {
   "cell_type": "markdown",
   "metadata": {},
   "source": [
    "1) 如果 **$\\lambda=0$**"
   ]
  },
  {
   "cell_type": "markdown",
   "metadata": {},
   "source": [
    "则有\n",
    "\n",
    "$$\n",
    "f(t)=b_0t^m+b_1t^{m-1}+\\cdots+b_{m-1}t+b_m\n",
    "$$\n",
    "\n",
    "现分两种情况讨论："
   ]
  },
  {
   "cell_type": "markdown",
   "metadata": {},
   "source": [
    "* 在 $\\lambda =0$ **不是特征根的情形**， 即 $F(0)\\neq 0$。"
   ]
  },
  {
   "cell_type": "markdown",
   "metadata": {},
   "source": [
    "因而 $a_n\\neq 0$, 这时取 $k=0$, 以及 \n",
    "\n",
    "$$\n",
    "\\tilde{x}=B_0t^m+B_1t^{m-1}+\\cdots+B_{m-1}t+B_m\n",
    "$$\n",
    "\n",
    "代入方程\n",
    "\n",
    "$$\n",
    "L[x]\\equiv \\frac{\\mathrm d^nx}{\\mathrm dt^n}+a_1\\frac{\\mathrm d^{n-1}x}{\\mathrm dt^{n-1}}+\\cdots+a_{n-1}\\frac{\\mathrm dx}{\\mathrm dt}+a_nx=f(t)\n",
    "$$\n",
    "\n",
    "并比较 $t$ 的同次幂的系数, 得到常数 $B_0,B_1,\\cdots,B_m$ 必须满足方程\n",
    "\n",
    "$$\n",
    "\\begin{cases}\n",
    "B_0a_n=b_0\\\\\n",
    "B_1a_n+mB_0a_{n-1}=b_1\\\\\n",
    "B_2a_n+(m-1)B_1a_{n-1}+m(m-1)B_0a_{n-2}=b_2\\\\\n",
    "\\cdots\\cdots\\\\\n",
    "B_ma_n+\\cdots=b_m\n",
    "\\end{cases}\n",
    "$$\n",
    "\n",
    "注意到 $a_n\\neq 0$,  这些待定常数 $B_0,B_1,\\cdots,B_m$ 可以从上述方程组唯一逐个确定出来."
   ]
  },
  {
   "cell_type": "markdown",
   "metadata": {},
   "source": [
    "* 在 $\\lambda =0$ 是 **$k$ 重特征根的情形**。\n",
    "即 \n",
    "\n",
    "$$ \n",
    "F(0)=F'(0)=\\cdots=F^{(k-1)}(0)=0,\\quad F^{(k)}(0)\\neq 0\n",
    "$$\n",
    "\n",
    "也就是 \n",
    "$$ \n",
    "a_n=a_{n-1}=\\cdots=a_{n-k+1}=0,\\quad a_{n-k}\\neq 0 \n",
    "$$ "
   ]
  },
  {
   "cell_type": "markdown",
   "metadata": {},
   "source": [
    "这时方程\n",
    "\n",
    "$$\n",
    "L[x]\\equiv \\frac{\\mathrm d^nx}{\\mathrm dt^n}+a_1\\frac{\\mathrm d^{n-1}x}{\\mathrm dt^{n-1}}+\\cdots+a_{n-1}\\frac{\\mathrm dx}{\\mathrm dt}+a_nx=f(t)\n",
    "$$\n",
    "\n",
    "变为\n",
    "\n",
    "$$\n",
    "\\frac{\\mathrm d^nx}{\\mathrm dt^n}+a_1\\frac{\\mathrm d^{n-1}x}{\\mathrm dt^{n-1}}+\\cdots+a_{n-k}\\frac{\\mathrm d^kx}{\\mathrm dt^k}=f(t)\n",
    "$$"
   ]
  },
  {
   "cell_type": "markdown",
   "metadata": {},
   "source": [
    "令 $\\frac{\\mathrm d^kx}{\\mathrm dt^k}=z$, 则方程上化为\n",
    "\n",
    "$$\n",
    "\\frac{\\mathrm d^{n-k}z}{\\mathrm dt^{n-k}}+a_1\\frac{\\mathrm d^{n-k-1}z}{\\mathrm dt^{n-k-1}}+\\cdots+a_{n-k}z=f(t)\n",
    "$$\n",
    "\n",
    "对上方程来说， 由于 $a_{n-k}\\neq 0, \\lambda =0$ 不是它的特征根，因此特解为\n",
    "\n",
    "$$\n",
    "\\tilde{z}=\\tilde{B}_0t^m+\\tilde{B}_1t^{m-1}+\\cdots+\\tilde{B}_{m-1}t+\\tilde{B}_m\n",
    "$$"
   ]
  },
  {
   "cell_type": "markdown",
   "metadata": {},
   "source": [
    "因而**原方程**有特解 $\\tilde{x}$ 满足\n",
    "\n",
    "$$\n",
    "\\frac{\\mathrm d^k\\tilde{x}}{\\mathrm dt^k}=\\tilde{B}_0t^m+\\tilde{B}_1t^{m-1}+\\cdots+\\tilde{B}_{m-1}t+\\tilde{B}_m\n",
    "$$"
   ]
  },
  {
   "cell_type": "markdown",
   "metadata": {},
   "source": [
    "因此得到原方程的一个特解\n",
    "\n",
    "$$\n",
    "\\tilde{x}=t^k(\\gamma_0t^m+\\gamma_1t^{m-1}+\\cdots+\\gamma_m),\n",
    "$$\n",
    "\n",
    "这里 $\\gamma_i(i=1,2,\\cdots,m)$ 是已经确定的常数."
   ]
  },
  {
   "cell_type": "markdown",
   "metadata": {},
   "source": [
    "2)  如果 $\\lambda \\neq 0$, 作变量变换 $x=ye^{\\lambda t}$, 将方程\n",
    "\n",
    "$$\n",
    "L[x]\\equiv \\frac{\\mathrm d^nx}{\\mathrm dt^n}+a_1\\frac{\\mathrm d^{n-1}x}{\\mathrm dt^{n-1}}+\\cdots+a_{n-1}\\frac{\\mathrm dx}{\\mathrm dt}+a_nx=f(t)\n",
    "$$\n",
    "\n",
    "化为\n",
    "\n",
    "$$\n",
    "\\frac{\\mathrm d^ny}{\\mathrm dt^n}+A_1\\frac{\\mathrm d^{n-1}y}{\\mathrm dt^{n-1}}+\\cdots+A_{n-1}\\frac{\\mathrm dy}{\\mathrm dt}+A_ny=b_0t^m+\\cdots+b_m\n",
    "$$\n",
    "其中 $A_1,A_2,\\cdots,A_n$ 是常数."
   ]
  },
  {
   "cell_type": "markdown",
   "metadata": {},
   "source": [
    "利用上面的结论, 因此得到结论：\n",
    "\n",
    "* 如果 $\\lambda$ 不是特征方程 \n",
    "\n",
    "$$\n",
    "F(\\lambda)\\equiv \\lambda^n+a_1\\lambda^{n-1}+\\cdots+a_{n-1}\\lambda+a_n=0\n",
    "$$\n",
    "\n",
    "的根.\n",
    "\n",
    "方程\n",
    "\n",
    "$$\n",
    "\\frac{\\mathrm d^ny}{\\mathrm dt^n}+A_1\\frac{\\mathrm d^{n-1}y}{\\mathrm dt^{n-1}}+\\cdots+A_{n-1}\\frac{\\mathrm dy}{\\mathrm dx}+A_ny=b_0t^m+\\cdots+b_m\n",
    "$$\n",
    "\n",
    "的特解为\n",
    "\n",
    "$$\n",
    "\\tilde{y}=B_0t^m+B_1t^{m-1}+\\cdots+B_m.\n",
    "$$\n",
    "\n",
    "原方程的特解为\n",
    "\n",
    "$$\n",
    "\\tilde{x}=(B_0t^m+B_1t^{m-1}+\\cdots+B_m)e^{\\lambda t}.\n",
    "$$"
   ]
  },
  {
   "cell_type": "markdown",
   "metadata": {},
   "source": [
    "* 如果 $\\lambda$ 是方程\n",
    "$$\n",
    "F(\\lambda)\\equiv \\lambda^n+a_1\\lambda^{n-1}+\\cdots+a_{n-1}\\lambda+a_n=0\n",
    "$$\n",
    "\n",
    "的特征根.\n",
    "\n",
    "方程\n",
    "\n",
    "$$\n",
    "\\frac{\\mathrm d^ny}{\\mathrm dt^n}+A_1\\frac{\\mathrm d^{n-1}y}{\\mathrm dt^{n-1}}+\\cdots+A_{n-1}\\frac{\\mathrm dy}{\\mathrm dx}+A_ny=b_0t^m+\\cdots+b_m\n",
    "$$\n",
    "\n",
    "的特解为\n",
    "\n",
    "$$\n",
    "y=t^k(B_0t^m+B_1t^{m-1}+\\cdots+B_m).\n",
    "$$\n",
    "\n",
    "原方程的特解为\n",
    "\n",
    "$$\n",
    "\\tilde{x}=t^k(B_0t^m+B_1t^{m-1}+\\cdots+B_m)e^{\\lambda t}.\n",
    "$$"
   ]
  },
  {
   "cell_type": "markdown",
   "metadata": {},
   "source": [
    "**例 1** 求方程 \n",
    "\n",
    "$$\n",
    "\\frac{\\mathrm d^2x}{\\mathrm dt^2}-2\\frac{\\mathrm dx}{\\mathrm dt}-3x=3t+1\n",
    "$$\n",
    "\n",
    "的通解."
   ]
  },
  {
   "cell_type": "markdown",
   "metadata": {},
   "source": [
    "**解： ** 先求对应的齐次线性微分方程\n",
    "\n",
    "$$\n",
    "\\frac{\\mathrm d^2x}{\\mathrm dt^2}-2\\frac{\\mathrm dx}{\\mathrm dt}-3x=0\n",
    "$$\n",
    "\n",
    "的通解. 特征方程 $\\lambda^2-2\\lambda-3=0$ 的两个根为 $\\lambda_1=3,\\lambda_2=-1$, 因此通解为\n",
    "\n",
    "$$\n",
    "x=c_1e^{3t}+c_2e^{-t}\n",
    "$$\n",
    "\n",
    "又 $f(t)=3t+1,\\lambda=0$, 则设特解的形式为 $\\tilde{x}=A+Bt$ 带入原方程可得\n",
    "\n",
    "$$\n",
    "-2B-3A-3Bt=3t+1\n",
    "$$\n",
    "\n",
    "比较系数可得\n",
    "\n",
    "$$\n",
    "\\begin{cases}\n",
    "-3B=3\\\\\n",
    "-2B-3A=1\n",
    "\\end{cases}\n",
    "$$\n",
    "\n",
    "解得 \n",
    "\n",
    "$$ B=-1,A=\\frac{1}{3} $$\n",
    "\n",
    "从而 \n",
    "\n",
    "$$ \\tilde{x}=\\frac{1}{3}-t $$\n",
    "\n",
    "原方程的解为\n",
    "$$\n",
    "x=c_1e^{3t}+c_2e^{-t}-t+\\frac{1}{3}\n",
    "$$"
   ]
  },
  {
   "cell_type": "markdown",
   "metadata": {},
   "source": [
    "**例 2** 求方程\n",
    "\n",
    "$$\n",
    "\\frac{\\mathrm d^2x}{\\mathrm dt^2}-2\\frac{\\mathrm dx}{\\mathrm dt}-3x=e^{-t}\n",
    "$$\n",
    "\n",
    "的通解.\n"
   ]
  },
  {
   "cell_type": "markdown",
   "metadata": {},
   "source": [
    "**解： ** 齐次线性微分方程的通解为\n",
    "\n",
    "$$\n",
    "x=c_1e^{3t}+c_2e^{-t}\n",
    "$$\n",
    "其中 $c_1,c_2$ 为任意常数.\n",
    "\n",
    "$f(t)=e^{-t}$, $\\lambda =-1$ 是特征方程的一个根, 则特解的形式为\n",
    "\n",
    "$$\n",
    "\\tilde{x}=Ate^{-t}\n",
    "$$\n",
    "\n",
    "代入原方程可得到\n",
    "\n",
    "$$\n",
    "-4Ae^{-t}=e^{-t}\n",
    "$$\n",
    "\n",
    "从而$A=-\\frac{1}{4}$ 于是\n",
    "\n",
    "$$\n",
    "\\tilde{x}=-\\frac{1}{4}te^{-t}\n",
    "$$\n",
    "\n",
    "原方程的通解为\n",
    "\n",
    "$$\n",
    "x=c_1e^{3t}+c_2e^{-t}-\\frac{1}{4}te^{-t}\n",
    "$$\n"
   ]
  },
  {
   "cell_type": "markdown",
   "metadata": {},
   "source": [
    "**例 3** 求\n",
    "\n",
    "$$\n",
    "\\frac{\\mathrm d^3x}{\\mathrm dt^3}+3\\frac{\\mathrm d^2x}{\\mathrm dt^2}+3\\frac{\\mathrm dx}{\\mathrm dt}+x=e^{-t}(t-5)\n",
    "$$\n",
    "\n",
    "的通解."
   ]
  },
  {
   "cell_type": "markdown",
   "metadata": {},
   "source": [
    "**解： ** 特征方程 \n",
    "$$\n",
    "\\lambda^3+3\\lambda^2+3\\lambda+1=(\\lambda+1)^3=0\n",
    "$$\n",
    "\n",
    "的三重根为 $\\lambda_{1,2,3}=-1$, 对应齐次方程的通解为\n",
    "\n",
    "$$\n",
    "x=(c_1+c_2t+c_3t^2)e^{-t}\n",
    "$$\n",
    "\n",
    "非齐次方程的特解形式为\n",
    "\n",
    "$$\n",
    "\\tilde{x}=t^3(A+Bt)e^{-t}\n",
    "$$\n",
    "\n",
    "的特解，将它们代入方程为\n",
    "\n",
    "$$\n",
    "(6A+24Bt)e^{-t}=e^{-t}(t-5)\n",
    "$$\n",
    "\n",
    "比较系数可得 $A=\\frac{5}{6},B=\\frac{1}{24}$ . 从而\n",
    "\n",
    "$$\n",
    "\\tilde{x}=\\frac{1}{24}t^3(t-20)e^{-t}\n",
    "$$\n",
    "\n",
    "故方程的通解为\n",
    "\n",
    "$$\n",
    "x=(c_1+c_2t+c_3t^2)e^{-t}+\\frac{1}{24}t^3(t-20)e^{-t}\n",
    "$$\n",
    "其中 $c_1,c_2,c_3$ 为任意常数."
   ]
  },
  {
   "cell_type": "markdown",
   "metadata": {},
   "source": [
    "### 类型 2"
   ]
  },
  {
   "cell_type": "markdown",
   "metadata": {},
   "source": [
    "方程\n",
    "\n",
    "$$\n",
    "L[x]\\equiv \\frac{\\mathrm d^nx}{\\mathrm dt^n}+a_1\\frac{\\mathrm d^{n-1}x}{\\mathrm dt^{n-1}}+\\cdots+a_{n-1}\\frac{\\mathrm dx}{\\mathrm dt}+a_nx=[A(t)\\cos\\beta t+B(t)\\sin \\beta t]e^{\\alpha t}\n",
    "$$\n",
    "\n",
    "有特解\n",
    "\n",
    "$$\n",
    "\\tilde{x}=t^k[P(t)\\cos\\beta t+Q(t)\\sin \\beta t]e^{\\alpha t}\n",
    "$$\n",
    "\n",
    "$P(t),Q(t)$ 是次数不高于 $m$ 的多项式， $k$ 由 $\\alpha+i\\beta$ 决定.\n",
    "\n",
    "* 当 $\\alpha+i\\beta$ 是特征方程 $F(\\lambda)=0$ 的根时， $k$ 为重数.\n",
    "\n",
    "* 当 $\\alpha+i\\beta$ 不是特征方程 $F(\\lambda)=0$ 的根时， $k=0$."
   ]
  },
  {
   "cell_type": "markdown",
   "metadata": {},
   "source": [
    "\n",
    "\n",
    "$$\n",
    "\\begin{align}\n",
    "e^{(\\alpha+i\\beta)t}= &[\\cos \\beta t+i\\sin \\beta t]e^{\\alpha t}\\\\\n",
    "e^{(\\alpha-i\\beta)t}= &[\\cos \\beta t-i\\sin \\beta t]e^{\\alpha t}\\\\\n",
    "e^{\\alpha t}\\cos \\beta t= &\\frac{e^{(\\alpha+i\\beta)t}+e^{(\\alpha-i\\beta)t}}{2}\\\\\n",
    "e^{\\alpha t}\\sin \\beta t= &\\frac{e^{(\\alpha+i\\beta)t}-e^{(\\alpha-i\\beta)t}}{2i}=-\\frac{1}{2}i(e^{(\\alpha+i\\beta)t}-e^{(\\alpha-i\\beta)t})\n",
    "\\end{align}\n",
    "$$\n",
    "\n",
    "$$\n",
    "\\begin{align}\n",
    "f(t) &=[A(t)\\cos \\beta t+B(t)\\sin \\beta t]e^{\\alpha t}\\\\\n",
    "f(t) &=A(t)\\frac{e^{(\\alpha+i \\beta )t}+e^{(\\alpha-i \\beta)t}}{2}-i\\frac{B(t)}{2}(e^{(\\alpha+i\\beta)t}-e^{(\\alpha-i\\beta)t})\\\\\n",
    "&=\\frac{A(t)-iB(t)}{2}e^{(\\alpha +i\\beta)t}+\\frac{A(t)+iB(t)}{2}e^{(\\alpha -i\\beta)t}\\\\ \n",
    "&=f_1(t)+f_2(t)\n",
    "\\end{align}\n",
    "$$"
   ]
  },
  {
   "cell_type": "markdown",
   "metadata": {},
   "source": [
    "显然\n",
    "$$\n",
    "\\overline{f_1(t)}= \\frac{A(t)+iB(t)}{2}e^{\\alpha-i\\beta}=f_2(t)\n",
    "$$"
   ]
  },
  {
   "cell_type": "markdown",
   "metadata": {},
   "source": [
    "$$\n",
    "\\begin{cases}\n",
    "L[x]=f_1(t)\\\\\n",
    "L[x]=f_2(t)\n",
    "\\end{cases}\n",
    "$$\n",
    "\n",
    "$$\n",
    "\\begin{align}\n",
    "\\tilde{x_1}= &t^kD(t)e^{(\\alpha+i\\beta)t}\\\\\n",
    "\\tilde{x_2}= &t^k\\overline{D}(t)e^{(\\alpha-i\\beta)t}\\\\\n",
    "\\end{align}\n",
    "$$\n",
    "\n",
    "$$\n",
    "\\begin{align}\n",
    "\\tilde{x} &= \\tilde{x_1}+\\tilde{x_2}\\\\\n",
    "&=t^kD(t)e^{(\\alpha+i\\beta)t}+t^k \\overline{D}(t)e^{(\\alpha-i\\beta)t}\\\\\n",
    "& =t^k e^{\\alpha t}[D(t)e^{i\\beta t}+\\overline{D}(t)e^{-i\\beta t}]\\\\\n",
    "& =t^k e^{\\alpha t}[D(t)(\\cos \\beta t+i\\sin \\beta t)+\\overline{D}(t)(\\cos \\beta t-i\\sin \\beta t)]\\\\\n",
    " & =t^k e^{\\alpha t}[(D(t)+\\overline{D}(t)\\cos \\beta t+i(D(t)-\\overline{D}(t))\\sin \\beta t]\\\\\n",
    "&=t^ke^{\\alpha t}[P(t)\\cos \\beta t+Q(t)\\sin \\beta t]\n",
    "\\end{align}\n",
    "$$\n",
    "\n",
    "$P(t),Q(t)$ 是次数不高于 $m$ 的多项式."
   ]
  },
  {
   "cell_type": "markdown",
   "metadata": {},
   "source": [
    "**例 5** 求方程\n",
    "\n",
    "$$\n",
    "\\frac{\\mathrm d^2x}{\\mathrm dt^2}+4\\frac{\\mathrm dx}{\\mathrm dt}+4x=\\cos 2t\n",
    "$$\n",
    "\n",
    "的通解."
   ]
  },
  {
   "cell_type": "markdown",
   "metadata": {},
   "source": [
    "**解 : ** 解特征方程 \n",
    "\n",
    "$$\n",
    "\\lambda^2+4\\lambda+4=0\n",
    "$$\n",
    "\n",
    "有重根 $\\lambda_{1,2}=-2$, 因此齐次线性方程的通解为 \n",
    "\n",
    "$$\n",
    "x=(c_1+c_2t)e^{-2t}\n",
    "$$\n",
    "其中 $c_1,c_2$ 为任意常数.\n",
    "\n",
    "设方程的特解形如为\n",
    "\n",
    "$$\n",
    "\\tilde{x}=A\\cos 2t+B\\sin 2t\n",
    "$$\n",
    "\n",
    "代入方程可得\n",
    "\n",
    "$$\n",
    "\\begin{cases}\n",
    "4A+8B+4A=1\\\\\n",
    "4B-8A-4B=0\\\\\n",
    "\\end{cases}\n",
    "\\rightarrow A=0,B=\\frac{1}{8}\\\\\n",
    "\\tilde{x}=\\frac{1}{8}\\sin 2t\n",
    "$$\n",
    "\n",
    "原方程的它通解为\n",
    "\n",
    "$$\n",
    "x(t)=(c_1+c_2t)e^{-2t}+\\frac{1}{8}\\sin 2t\n",
    "$$"
   ]
  },
  {
   "cell_type": "markdown",
   "metadata": {
    "collapsed": true
   },
   "source": [
    "## 作业\n",
    "P165， 2, (12), (13), (14), (15), (16)"
   ]
  },
  {
   "cell_type": "code",
   "execution_count": null,
   "metadata": {
    "collapsed": true
   },
   "outputs": [],
   "source": []
  }
 ],
 "metadata": {
  "kernelspec": {
   "display_name": "Python 3",
   "language": "python",
   "name": "python3"
  },
  "language_info": {
   "codemirror_mode": {
    "name": "ipython",
    "version": 3
   },
   "file_extension": ".py",
   "mimetype": "text/x-python",
   "name": "python",
   "nbconvert_exporter": "python",
   "pygments_lexer": "ipython3",
   "version": "3.5.2"
  },
  "latex_envs": {
   "LaTeX_envs_menu_present": true,
   "bibliofile": "biblio.bib",
   "cite_by": "apalike",
   "current_citInitial": 1,
   "eqLabelWithNumbers": true,
   "eqNumInitial": 0
  }
 },
 "nbformat": 4,
 "nbformat_minor": 0
}
