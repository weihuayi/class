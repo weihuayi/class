{
 "cells": [
  {
   "cell_type": "markdown",
   "metadata": {},
   "source": [
    "\n",
    "# § 4.2 常系数线性微分方程的解法 Solving Method of Constant Coefficients Linear ODE"
   ]
  },
  {
   "cell_type": "markdown",
   "metadata": {},
   "source": [
    "## § 4.1内容回顾"
   ]
  },
  {
   "cell_type": "markdown",
   "metadata": {},
   "source": [
    "微分方程\n",
    "\n",
    "$$\n",
    "x^{(n)}+a_1{(t)}x^{(n-1)}+\\dotsi + a_{n-1}(t)x'+{a_n}(t)x=0\n",
    "$$\n",
    "\n",
    "解的性质与结构."
   ]
  },
  {
   "cell_type": "markdown",
   "metadata": {},
   "source": [
    "$n$ 阶齐次线性方程的所有解构成一个 $n$ 维线性空间.  方程\n",
    "\n",
    "$$\n",
    "x^{(n)}+a_1(t)x^{(n-1)}+ …… +a_{n-1}(t)x'+{a_n}(t)x=0\n",
    "$$\n",
    "\n",
    "的一组 $n$ 个线性无关解称为它的一个**基本解组**."
   ]
  },
  {
   "cell_type": "markdown",
   "metadata": {},
   "source": [
    "## 本节要求 /Requirements/\n",
    "  \n",
    "  1. 熟练掌握常系数齐次线性方程的求解方法  \n",
    "  \n",
    "  1. 熟练掌握常系数 非齐次线性方程的求解方法\n",
    "  \n",
    "  1. 熟练掌握欧拉方程的求解方法"
   ]
  },
  {
   "cell_type": "markdown",
   "metadata": {},
   "source": [
    "**结构**\n",
    "\n",
    "齐线性方程的通解可由其基本解组线性表示, 非齐线性方程的通解等于对应齐次方程的通解与自身的一个特解之和."
   ]
  },
  {
   "cell_type": "markdown",
   "metadata": {},
   "source": [
    "![](./figures/3.png)"
   ]
  },
  {
   "cell_type": "markdown",
   "metadata": {},
   "source": [
    "### 4.2.1 复值函数与复值解 /Complex Function and Complex Solution/"
   ]
  },
  {
   "cell_type": "markdown",
   "metadata": {
    "collapsed": true
   },
   "source": [
    "**一 定义**\n",
    "$$\n",
    "z(t)=\\varphi(t)+i\\psi(t)\\quad t\\in[a,b]\n",
    "$$\n",
    "\n",
    "$\\varphi(t)$ , $\\psi(t)$ 是定义在 $[a,b]$ 上的实函数.\n",
    "\n",
    "**极限**\n",
    "$$\n",
    "\\lim_{t\\to t_0}z(t)=\\lim_{t \\to t_0}\\varphi(t)+i\\lim_{t \\to t_0}\\psi(t) \\quad t_0\\in[a,b]\n",
    "$$\n",
    "\n",
    "**连续**\n",
    "$$\n",
    "\\lim_{t\\to t_0}z(t)=z(t_0) \\quad t_0\\in[a,b]\n",
    "$$\n",
    "\n",
    "**导数**\n",
    "$$\n",
    "\\lim_{t\\to t_0}\\frac{z(t)-z(t_0)}{t-t_0}=\\lim_{t\\to t_0}\\frac{\\varphi(t)-\\varphi(t_0)}{t-t_0}+i\\lim_{t\\to t_0}\\frac{\\psi(t)-\\psi(t_0)}{t-t_0}\n",
    "$$\n",
    "\n",
    "$$\n",
    "\\lim_{t\\to t_0}\\frac{z(t)-z(t_0)}{t-t_0}=z'(t_0)={\\frac{\\mathrm d z}{\\mathrm d t}}|_{t=t_0}={\\frac{\\mathrm d \\varphi}{\\mathrm d t}}\\mid_{t=t_0}+i{\\frac{\\mathrm d \\psi}{\\mathrm d t} }|_{t=t_0}\n",
    "$$\n"
   ]
  },
  {
   "cell_type": "markdown",
   "metadata": {
    "collapsed": true
   },
   "source": [
    "**易验证**\n",
    "$$\n",
    "\\frac{\\mathrm d}{\\mathrm d t}(z_1(t)+z_2(t))=\\frac{\\mathrm d z_1(t)}{\\mathrm d t}+\\frac{\\mathrm d z_2(t)}{\\mathrm d t}\n",
    "$$"
   ]
  },
  {
   "cell_type": "markdown",
   "metadata": {},
   "source": [
    "$$\n",
    "\\frac{\\mathrm d}{\\mathrm d t}[cz_1(t)]=c\\frac{\\mathrm d z_1(t)}{\\mathrm d t}\n",
    "$$"
   ]
  },
  {
   "cell_type": "markdown",
   "metadata": {},
   "source": [
    "$$\n",
    "\\frac{\\mathrm d}{\\mathrm d t}(z_1(t)\\cdot z_2(t))=\\frac{\\mathrm d z_1(t)}{\\mathrm d t}z_2(t)+\\frac{\\mathrm d z_2(t)}{\\mathrm d t}z_1(t)\n",
    "$$"
   ]
  },
  {
   "cell_type": "markdown",
   "metadata": {},
   "source": [
    "**如**\n",
    "\n",
    "$$\n",
    "z_j(t)=\\varphi_j(t)+i\\psi_j(t)\\quad j=1,2\\quad t\\in[a,b]\n",
    "$$\n",
    "\n",
    "$$\n",
    "\\begin{aligned}\n",
    "\\frac{\\mathrm d}{\\mathrm d t}(z_1(t)+z_2(t))\n",
    "&= \\frac{\\mathrm d}{\\mathrm d t}(\\varphi_1(t)+i\\psi_1(t)+\\varphi_2(t)+i\\psi_2(t))\\\\\n",
    "&= \\frac{\\mathrm d}{\\mathrm d t}\\{[\\varphi_1(t)+\\varphi_2(t)]+i[\\psi_1(t)+\\psi_2(t)]\\}\\\\ \n",
    "&= \\frac{\\mathrm d}{\\mathrm d t}[\\varphi_1(t)+\\varphi_2(t)]+i\\frac{\\mathrm d}{\\mathrm d t}[\\psi_1(t)+\\psi_2(t)]\\\\\n",
    "&=(\\frac{\\mathrm d \\varphi_1}{\\mathrm d t}+i\\frac{\\mathrm d \\psi_1}{\\mathrm d t})+(\\frac{\\mathrm d \\varphi_2}{\\mathrm d t}+i\\frac{\\mathrm d \\psi_2}{\\mathrm d t})\\\\\n",
    "&=\\frac{\\mathrm d z_1(t)}{\\mathrm d t}+\\frac{\\mathrm d z_2(t)}{\\mathrm d t}\\\\\n",
    "\\end{aligned}\n",
    "$$"
   ]
  },
  {
   "cell_type": "markdown",
   "metadata": {},
   "source": [
    "### 二　关于　$e^{kt} $"
   ]
  },
  {
   "cell_type": "markdown",
   "metadata": {},
   "source": [
    "**定义:**\n",
    "\n",
    "$k=\\alpha+i\\beta$ , $\\alpha$, $\\beta$ 为实数, $t$ 为实变量，称\n",
    "\n",
    "$$\n",
    "e^{kt}=e^{(\\alpha+i\\beta)t}=e^{\\alpha t}e^{i\\beta t}\n",
    "=e^{\\alpha t}(\\cos\\beta t+i\\sin\\beta t)\n",
    "$$\n",
    "为定义在 $t\\in[a,b]$ 上的负指数函数."
   ]
  },
  {
   "cell_type": "markdown",
   "metadata": {},
   "source": [
    "$$\n",
    "\\begin{aligned}\n",
    "e^{(\\alpha-i\\beta)t} = & e^{\\alpha t}(\\cos\\beta t-i\\sin\\beta t)\\\\\n",
    "e^{i\\beta t} = &\\cos\\beta t+i\\sin\\beta t\\\\\n",
    "e^{-i\\beta t} = &\\cos\\beta t-i\\sin\\beta t \\\\\n",
    "e^{\\overline{kt}} = &\\overline{e^{kt}}\n",
    "\\end{aligned}\n",
    "$$\n",
    "\n",
    "其中 $\\bar{k}=\\alpha-i\\beta$ 表示　$k=\\alpha+i\\beta$　共轭复数."
   ]
  },
  {
   "cell_type": "markdown",
   "metadata": {
    "collapsed": true
   },
   "source": [
    "### $e^{kt}$的性质"
   ]
  },
  {
   "cell_type": "markdown",
   "metadata": {},
   "source": [
    "$$\n",
    "\\begin{aligned}\n",
    "e^{(k_1+k_2)t}=&e^{k_1t}\\cdot e^{k_2t}\\\\\n",
    "\\frac{\\mathrm d e^{kt}}{\\mathrm d t}=&ke^{kt}\\\\\n",
    "\\frac{\\mathrm d^n e^{kt}}{\\mathrm d t^n}=&k^ne^{kt}\n",
    "\\end{aligned}\n",
    "$$"
   ]
  },
  {
   "cell_type": "markdown",
   "metadata": {},
   "source": [
    "### 结论"
   ]
  },
  {
   "cell_type": "markdown",
   "metadata": {},
   "source": [
    "1. 实变量的复值函数的求导公式与实变量的实值函数的**求导公式**一致.\n",
    "1. 实变量的复指数函数的求导公式与实变量的实指数函数的**性质**一致."
   ]
  },
  {
   "cell_type": "markdown",
   "metadata": {},
   "source": [
    "### 三 线性方程的复值解"
   ]
  },
  {
   "cell_type": "markdown",
   "metadata": {},
   "source": [
    "如果定义在 $[a,b]$ 上的实变量的复值函数 $x=z(t)$ 满足方程\n",
    "$$\n",
    "\\frac{\\mathrm d^n x}{\\mathrm d t^n}+a_1(t)\\frac{\\mathrm d^{n-1} x}{\\mathrm d t^{n-1}}+\\dotsi+a_{n-1}(t)\\frac{\\mathrm d x}{\\mathrm d t}+a_n(t)x=f(t)\n",
    "$$\n",
    "\n",
    "则称 $x=z(t)$ 为方程的一个复值解."
   ]
  },
  {
   "cell_type": "markdown",
   "metadata": {},
   "source": [
    "**定理 8** 如果方程\n",
    "$$\n",
    "\\frac{\\mathrm d^n x}{\\mathrm d t^n}+a_1(t)\\frac{\\mathrm d^{n-1} x}{\\mathrm d t^{n-1}}+\\dotsi+a_{n-1}(t)\\frac{\\mathrm d x}{\\mathrm d t}+a_n(t)x=0\n",
    "$$\n",
    "\n",
    "中所有系数 $a_i(t)(i=1,2,\\dotsi,n)$ 都是实值函数, 而 $x=z(t)=\\varphi(t)+i\\psi(t)$ 是方程的复数解, 则 $z(t)$ 的实部 $\\varphi(t)$,虚部 $\\psi(t)$ 和共轭复数函数 $\\overline{z}(t)$ 也是方程\n",
    "\n",
    "$$\n",
    "\\frac{\\mathrm d^n x}{\\mathrm d t^n}+a_1(t)\\frac{\\mathrm d^{n-1} x}{\\mathrm d t^{n-1}}+\\dotsi+a_{n-1}(t)\\frac{\\mathrm d x}{\\mathrm d t}+a_n(t)x=0\n",
    "$$\n",
    "\n",
    "的解."
   ]
  },
  {
   "cell_type": "markdown",
   "metadata": {},
   "source": [
    "**定理 9** 若方程\n",
    "$$\n",
    "\\frac{\\mathrm d^n x}{\\mathrm d t^n}+a_1(t)\\frac{\\mathrm d^{n-1} x}{\\mathrm d t^{n-1}}+\\dotsi+a_{n-1}(t)\\frac{\\mathrm d x}{\\mathrm d t}+a_n(t)x=u(t)+iv(t)\n",
    "$$\n",
    "有复数解 $x=U(t)+iV(t)$ , 这里 $a_i(t)(i=1,2,\\dotsi,n)$, $ u(t)$ 及 $v(t)$ 都是实函数. 那么这个解的实部 $U(t)$ 和虚部 $V(t)$ 分别是方程\n",
    "\n",
    "$$\n",
    "\\frac{\\mathrm d^n x}{\\mathrm d t^n}+a_1(t)\\frac{\\mathrm d^{n-1} x}{\\mathrm d t^{n-1}}+\\dotsi+a_{n-1}(t)\\frac{\\mathrm d x}{\\mathrm d t}+a_n(t)x=u(t)\n",
    "$$\n",
    "\n",
    "和\n",
    "\n",
    "$$\n",
    "\\frac{\\mathrm d^n x}{\\mathrm d t^n}+a_1(t)\\frac{\\mathrm d^{n-1} x}{\\mathrm d t^{n-1}}+\\dotsi+a_{n-1}(t)\\frac{\\mathrm d x}{\\mathrm d t}+a_n(t)x=ｖ(t)\n",
    "$$\n",
    "\n",
    "的解."
   ]
  },
  {
   "cell_type": "markdown",
   "metadata": {},
   "source": [
    "### 4.2.2 常系数齐次线性方程和欧拉方程/Coefficient Linear Homogenous Higher-Order ODE And Euler Equation/"
   ]
  },
  {
   "cell_type": "markdown",
   "metadata": {},
   "source": [
    "$n$ 阶常系数齐次线性方程其中 $a_1,a_2,\\dotsi,a_n$ 为常数\n",
    "\n",
    "$$\n",
    "L[x]\\equiv\\frac{\\mathrm d^n x}{\\mathrm d t^n}+a_1\\frac{\\mathrm d^{n-1} x}{\\mathrm d t^{n-1}}+\\dotsi+a_{n-1}\\frac{\\mathrm d x}{\\mathrm d t}+a_nx=0\n",
    "$$\n",
    "\n",
    "为了求方程\n",
    "\n",
    "$$\n",
    "L[x]\\equiv\\frac{\\mathrm d^n x}{\\mathrm d t^n}+a_1\\frac{\\mathrm d^{n-1} x}{\\mathrm d t^{n-1}}+\\dotsi+a_{n-1}\\frac{\\mathrm d x}{\\mathrm d t}+a_nx=0\n",
    "$$\n",
    "\n",
    "的通解, 只需求出它的基本解组."
   ]
  },
  {
   "cell_type": "markdown",
   "metadata": {},
   "source": [
    "一阶常系数齐次微分方程，\n",
    "\n",
    "$$\n",
    "\\frac{\\mathrm d x}{\\mathrm d t}+ax=0\n",
    "$$\n",
    "\n",
    "有形如$x=e^{-at}$ 的解, 其通解就是 $x=ce^{-at}$.\n",
    "\n",
    "因此对于方程\n",
    "\n",
    "$$\n",
    "L[x]\\equiv\\frac{\\mathrm d^n x}{\\mathrm d t^n}+a_1\\frac{\\mathrm d^{n-1} x}{\\mathrm d t^{n-1}}+\\dotsi+a_{n-1}\\frac{\\mathrm d x}{\\mathrm d t}+a_nx=0\n",
    "$$\n",
    "\n",
    "我们也可以求指数函数形式的解, \n",
    "\n",
    "$$\n",
    "x=e^{\\lambda t}\n",
    "$$\n",
    "\n",
    "代入方程:"
   ]
  },
  {
   "cell_type": "markdown",
   "metadata": {},
   "source": [
    "$$\n",
    "\\begin{aligned}\n",
    "L[e^{\\lambda t}]&\\equiv\\frac{\\mathrm d^n e^{\\lambda t}}{\\mathrm d t^n}+a_1\\frac{\\mathrm d^{n-1} e^{\\lambda t}}{\\mathrm d t^{n-1}}+\\dotsi+a_{n-1}\\frac{\\mathrm d e^{\\lambda t}}{\\mathrm d t}+a_ne^{\\lambda t}\\\\\n",
    "&=(\\lambda^n+a_1\\lambda^{n-1}+\\dotsi+a_{n-1}\\lambda+a_n)e^{\\lambda t}\\equiv e^{\\lambda t }F(\\lambda)\n",
    "\\end{aligned}\n",
    "$$"
   ]
  },
  {
   "cell_type": "markdown",
   "metadata": {},
   "source": [
    "其中\n",
    "\n",
    "$$\n",
    "F(\\lambda)=\\lambda^n+a_1\\lambda^{n-1}+\\dotsi+a_{n-1}\\lambda+a_n=0\n",
    "$$\n",
    "\n",
    "是关于 $\\lambda$ 的$n$次多项式。"
   ]
  },
  {
   "cell_type": "markdown",
   "metadata": {},
   "source": [
    "易知 $x=e^{\\lambda t}$ 是方程\n",
    "\n",
    "$$\n",
    "L[x]\\equiv\\frac{\\mathrm d^n x}{\\mathrm d t^n}+a_1\\frac{\\mathrm d^{n-1} x}{\\mathrm d t^{n-1}}+\\dotsi+a_{n-1}\\frac{\\mathrm d x}{\\mathrm d t}+a_nx=0\n",
    "$$\n",
    "\n",
    "的解的充要条件是 $\\lambda$ 是代数方程\n",
    "\n",
    "$$\n",
    "F(\\lambda)=\\lambda^n+a_1\\lambda^{n-1}+\\dotsi+a_{n-1}\\lambda+a_n=0\n",
    "$$\n",
    "\n",
    "的根. 这里 $F(\\lambda)=0$ 称为原微分方程的**特征方程**, 它的根称为**特征根**."
   ]
  },
  {
   "cell_type": "markdown",
   "metadata": {},
   "source": [
    "**结论:**\n",
    "微分方程\n",
    "\n",
    "$$\n",
    "L[x]\\equiv\\frac{\\mathrm d^n x}{\\mathrm d t^n}+a_1\\frac{\\mathrm d^{n-1} x}{\\mathrm d t^{n-1}}+\\dotsi+a_{n-1}\\frac{\\mathrm d x}{\\mathrm d t}+a_nx=0\n",
    "$$\n",
    "\n",
    "的解的问题，便转化为求解方程\n",
    "\n",
    "$$\n",
    "L[x]\\equiv\\frac{\\mathrm d^n x}{\\mathrm d t^n}+a_1\\frac{\\mathrm d^{n-1} x}{\\mathrm d t^{n-1}}+\\dotsi+a_{n-1}\\frac{\\mathrm d x}{\\mathrm d t}+a_nx=0\n",
    "$$\n",
    "\n",
    "的特征根问题."
   ]
  },
  {
   "cell_type": "markdown",
   "metadata": {},
   "source": [
    "### 下面根据特征根的不同情况分别进行讨论."
   ]
  },
  {
   "cell_type": "markdown",
   "metadata": {},
   "source": [
    "**(1) 特征根为单根的情况**"
   ]
  },
  {
   "cell_type": "markdown",
   "metadata": {},
   "source": [
    "设 $\\lambda_1,\\lambda_2,\\dotsi,\\lambda_n$ 是特征方程\n",
    "$$\n",
    "F(\\lambda)=\\lambda^n+a_1\\lambda^{n-1}+\\dotsi+a_{n-1}\\lambda+a_n=0\n",
    "$$\n",
    "的 $n$ 个互不相等的根, 则相应的方程\n",
    "\n",
    "$$\n",
    "L[x]\\equiv\\frac{\\mathrm d^n x}{\\mathrm d t^n}+a_1\\frac{\\mathrm d^{n-1} x}{\\mathrm d t^{n-1}}+\\dotsi+a_{n-1}\\frac{\\mathrm d x}{\\mathrm d t}+a_nx=0\n",
    "$$\n",
    "\n",
    "有如下 $n$ 个解\n",
    "\n",
    "$$\n",
    "e^{\\lambda_1 t},e^{\\lambda_2 t},\\dotsi,e^{\\lambda_n t}\n",
    "$$\n",
    "\n",
    "这 $n$ 个解在区间 $-\\infty<t<＋\\infty$ 上线性无关, 从而组成方程的基本解组."
   ]
  },
  {
   "cell_type": "markdown",
   "metadata": {},
   "source": [
    "事实上\n",
    "\n",
    "$$\n",
    "W(t)=\n",
    "\\begin{vmatrix}\n",
    "e^{\\lambda_1t}&e^{\\lambda_2t}&\\dots&e^{\\lambda_nt}\\\\\n",
    "\\lambda_1e^{\\lambda_1t}&\\lambda_2e^{\\lambda_2t}&\\dots&\\lambda_ne^{\\lambda_nt}\\\\\n",
    "\\vdots&\\vdots&\\ddots&\\vdots\\\\\n",
    "{\\lambda_1}^{n-1}e^{\\lambda_1t}&{\\lambda_2}^{n-1}e^{\\lambda_2t}&\\dots&{\\lambda_n}^{n-1}e^{\\lambda_nt}\\\\\n",
    "\\end{vmatrix}\n",
    "$$\n",
    "\n",
    "$$\n",
    "=e^{(\\lambda_1+\\lambda_2+\\dots+\\lambda_n)t}\n",
    "\\begin{vmatrix}\n",
    "1 & 1 & \\dots & 1 \\\\\n",
    "\\lambda_1&\\lambda_2&\\dots&\\lambda_n\\\\\n",
    "\\vdots&\\vdots&\\ddots&\\vdots\\\\\n",
    "{\\lambda_1}^{n-1}&{\\lambda_2}^{n-1}&\\dots&{\\lambda_n}^{n-1}\\\\\n",
    "\\end{vmatrix}\n",
    "\\neq 0\n",
    "$$\n",
    "\n",
    "故解组\n",
    "\n",
    "$$\n",
    "e^{\\lambda_1 t},e^{\\lambda_2 t},\\dotsi,e^{\\lambda_n t}\n",
    "$$\n",
    "\n",
    "线性无关, 其中　$\\lambda_i\\neq\\lambda_j$ $(i\\neq j)$. 因此 \n",
    "\n",
    "$$\n",
    "e^{\\lambda_1 t},e^{\\lambda_2 t},\\dotsi,e^{\\lambda_n t}\n",
    "$$\n",
    "是方程的基本解组."
   ]
  },
  {
   "cell_type": "markdown",
   "metadata": {},
   "source": [
    "方程\n",
    "$$\n",
    "L[x]\\equiv\\frac{\\mathrm d^n x}{\\mathrm d t^n}+a_1\\frac{\\mathrm d^{n-1} x}{\\mathrm d t^{n-1}}+\\dotsi+a_{n-1}\\frac{\\mathrm d x}{\\mathrm d t}+a_nx=0\n",
    "$$\n",
    "的通解可表示为\n",
    "$$\n",
    "x=c_1e^{\\lambda_1 t}+c_2e^{\\lambda_2 t}+\\dotsi+c_ne^{\\lambda_n t}\n",
    "$$"
   ]
  },
  {
   "cell_type": "markdown",
   "metadata": {},
   "source": [
    "如果特征方程有复根, 则因方程的系数是实常数. 将成对共轭的出现,设\n",
    "$$\n",
    "\\lambda_1=\\alpha+i\\beta\n",
    "$$\n",
    "方程的一个特征根\n",
    "$$\n",
    "\\lambda_2=\\alpha-i\\beta\n",
    "$$\n",
    "也是一个特征根\n",
    "\n",
    "则方程\n",
    "$$\n",
    "L[x]\\equiv\\frac{\\mathrm d^n x}{\\mathrm d t^n}+a_1\\frac{\\mathrm d^{n-1} x}{\\mathrm d t^{n-1}}+\\dotsi+a_{n-1}\\frac{\\mathrm d x}{\\mathrm d t}+a_nx=0\n",
    "$$\n",
    "\n",
    "有两个复值解\n",
    "$$\n",
    "e^{(\\alpha+i\\beta)t}=e^{\\alpha t}(\\cos\\beta t+i\\sin\\beta t)\\\\\n",
    "e^{(\\alpha-i\\beta)t}=e^{\\alpha t}(\\cos\\beta t-i\\sin\\beta t)\n",
    "$$"
   ]
  },
  {
   "cell_type": "markdown",
   "metadata": {},
   "source": [
    "对应两个实值解\n",
    "$$\n",
    "e^{\\alpha t}\\cos\\beta t\\\\\n",
    "e^{\\alpha t}\\sin\\beta t\\\\\n",
    "$$"
   ]
  },
  {
   "cell_type": "markdown",
   "metadata": {},
   "source": [
    "**例 1** 求方程\n",
    "$$\n",
    "\\frac{\\mathrm d^4 x}{\\mathrm d t^4}-x=0\n",
    "$$\n",
    "的通解."
   ]
  },
  {
   "cell_type": "markdown",
   "metadata": {},
   "source": [
    "**解: **\n",
    "\n",
    "第一步 : 求特征根\n",
    "\n",
    "$$\n",
    "F(\\lambda)=\\lambda^4-1=0\\quad\\lambda_{1,2}=\\pm 1,\\lambda_{3,4}=\\pm i\n",
    "$$\n",
    "\n",
    "第二步 : 求出基本解组\n",
    "$$\n",
    "e^t,e^{-t},\\cos t,\\sin t\n",
    "$$\n",
    "\n",
    "第三步 : 写出通解\n",
    "$$\n",
    "x(t)=c_1e^t+c_2e^{-t}+c_3\\cos t+c_4\\sin t\n",
    "$$\n",
    "\n",
    "这里$c_1$,$c_2$,$c_3$,$c_4$是任意常数。"
   ]
  },
  {
   "cell_type": "markdown",
   "metadata": {},
   "source": [
    "**例 2**求方程\n",
    "$$\n",
    "\\frac{\\mathrm d^3 x}{\\mathrm d t^3}+x=0\n",
    "$$\n",
    "的通解."
   ]
  },
  {
   "cell_type": "markdown",
   "metadata": {},
   "source": [
    "**解: **\n",
    "\n",
    "第一步 : 求特征根\n",
    "$$\n",
    "F(\\lambda)=\\lambda^3+1=0\\quad\\lambda_1=-1,\\lambda_{2,3}=\\frac{1}{2}\\pm i\\frac{\\sqrt{3}}{2}\n",
    "$$\n",
    "\n",
    "第二步 : 求出基本解组\n",
    "\n",
    "$$\n",
    "e^{-t},e^{\\frac{1}{2}t}\\cos \\frac{\\sqrt{3}}{2}t,e^{\\frac{1}{2}t}\\sin \\frac{\\sqrt{3}}{2}t\n",
    "$$\n",
    "\n",
    "第三步 : 写出通解\n",
    "$$\n",
    "x(t)=c_1e^{-t}+c_2e^{\\frac{1}{2}t}\\cos \\frac{\\sqrt{3}}{2}t+c_3e^{\\frac{1}{2}t}\\sin \\frac{\\sqrt{3}}{2}t\n",
    "$$\n",
    "\n",
    "这里$c_1$,$c_2$,$c_3$是任意常数。"
   ]
  },
  {
   "cell_type": "markdown",
   "metadata": {},
   "source": [
    "**(2) 特征根有重根的情况**"
   ]
  },
  {
   "cell_type": "markdown",
   "metadata": {},
   "source": [
    "$$\n",
    "L[x]\\equiv\\frac{\\mathrm d^n x}{\\mathrm d t^n}+a_1\\frac{\\mathrm d^{n-1} x}{\\mathrm d t^{n-1}}+\\dotsi+a_{n-1}\\frac{\\mathrm d x}{\\mathrm d t}+a_nx=0\n",
    "$$\n",
    "\n",
    "$$\n",
    "F(\\lambda)=\\lambda^n+a_1\\lambda^{n-1}+\\dotsi+a_{n-1}\\lambda+a_n=0\n",
    "$$\n",
    "\n",
    "设 $\\lambda_1,\\lambda_2,\\dotsi,\\lambda_m$ 是特征方程\n",
    "\n",
    "$$\n",
    "F(\\lambda)=\\lambda^n+a_1\\lambda^{n-1}+\\dotsi+a_{n-1}\\lambda+a_n=0\n",
    "$$\n",
    "\n",
    "的 $m$ 个互不相等的根, 重数分别为 $k_1,k_2,\\dotsi,k_m$,  $k_1+k_2+\\dotsi+k_m=n$, $k_i\\geq1$."
   ]
  },
  {
   "cell_type": "markdown",
   "metadata": {},
   "source": [
    "**$m$ 个特征根只对应 $m$ 解，怎么办？**"
   ]
  },
  {
   "cell_type": "markdown",
   "metadata": {},
   "source": [
    "下面以第一个特征根 $\\lambda_1$ 为例进行讨论, 分两种情况:"
   ]
  },
  {
   "cell_type": "markdown",
   "metadata": {},
   "source": [
    "* **$\\lambda_1＝0$**"
   ]
  },
  {
   "cell_type": "markdown",
   "metadata": {},
   "source": [
    "特征方程 $F(\\lambda)$ 有因子 $\\lambda^{k_1}$, \n",
    "\n",
    "$$\n",
    "a_n=a_{n-1}=\\dotsi=a_{n-k_1+1}=0\\quad a_{n-k_1}\\neq0\n",
    "$$\n",
    "\n",
    "也就是特征方程有以下形式\n",
    "\n",
    "$$\n",
    "\\lambda^n+a_1\\lambda^{n-1}+\\dotsi+a_{n-k_1}\\lambda^{k_1}=0\n",
    "$$\n",
    "\n",
    "\n",
    "此时对应的微分方程\n",
    "\n",
    "$$\n",
    "L[x]\\equiv\\frac{\\mathrm d^n x}{\\mathrm d t^n}+a_1\\frac{\\mathrm d^{n-1} x}{\\mathrm d t^{n-1}}+\\dotsi+a_{n-１}\\frac{\\mathrm d x}{\\mathrm d t}+a_nx=0\n",
    "$$\n",
    "\n",
    "变为\n",
    "\n",
    "$$\n",
    "\\frac{\\mathrm d^n x}{\\mathrm d t^n}+a_1\\frac{\\mathrm d^{n-1} x}{\\mathrm d t^{n-1}}+\\dotsi+a_{n-k_1}\\frac{\\mathrm d^{k_1} x}{\\mathrm d t^{k_1}}=0\n",
    "$$\n",
    "\n",
    "显然$1,t,t^2,\\dotsi,t^{k_1-1}$ 是方程的 $k_1$ 个线性无关的解,方程\n",
    "\n",
    "$$\n",
    "L[x]\\equiv\\frac{\\mathrm d^n x}{\\mathrm d t^n}+a_1\\frac{\\mathrm d^{n-1} x}{\\mathrm d t^{n-1}}+\\dotsi+a_{n-1}\\frac{\\mathrm d x}{\\mathrm d t}+a_nx=0\n",
    "$$\n",
    "\n",
    "有 $k_1$ 重特征根，方程恰有 $k_1$ 个线性无关的解 $1,t,t^2,\\dotsi,t^{k_1-1}$."
   ]
  },
  {
   "cell_type": "markdown",
   "metadata": {},
   "source": [
    "* **$\\lambda_１\\neq 0:$** 变换为特征值为零的情形。"
   ]
  },
  {
   "cell_type": "markdown",
   "metadata": {},
   "source": [
    "做变换 $x=ye^{\\lambda_1 t}$ 注意到\n",
    "\n",
    "$$\n",
    "x^{(m)}=(ye^{\\lambda_1 t})^{(m)}=e^{\\lambda_1 t}\\left[y^{(m)}+m\\lambda_1y^{(m-1)}+\\frac{m(m-1)}{2!}\\lambda_1^2y^{(m-2)}+\\dotsi+\\lambda_1^my\\right]\n",
    "$$\n",
    "\n",
    "代入微分方程\n",
    "\n",
    "$$\n",
    "L[x]\\equiv\\frac{\\mathrm d^n x}{\\mathrm d t^n}+a_1\\frac{\\mathrm d^{n-1} x}{\\mathrm d t^{n-1}}+\\dotsi+a_{n-１}\\frac{\\mathrm d x}{\\mathrm d t}+a_nx=0\n",
    "$$\n",
    "\n",
    "整理得\n",
    "\n",
    "$$\n",
    "L[ye^{\\lambda_1 t}]=\\left(\\frac{\\mathrm d^n y}{\\mathrm d t^n}+b_1\\frac{\\mathrm d^{n-1} y}{\\mathrm d t^{n-1}}+\\dotsi+b_ny  \\right)e^{\\lambda_1 t}=e^{\\lambda_1 t}L_1[y]\n",
    "$$\n",
    "\n",
    "于是微分方程\n",
    "\n",
    "\n",
    "$$\n",
    "L[x]\\equiv\\frac{\\mathrm d^n x}{\\mathrm d t^n}+a_1\\frac{\\mathrm d^{n-1} x}{\\mathrm d t^{n-1}}+\\dotsi+a_{n-１}\\frac{\\mathrm d x}{\\mathrm d t}+a_nx=0\n",
    "$$\n",
    "\n",
    "转化为\n",
    "\n",
    "$$\n",
    "L[ye^{\\lambda_1 t}]=\\left(\\frac{\\mathrm d^n y}{\\mathrm d t^n}+b_1\\frac{\\mathrm d^{n-1} y}{\\mathrm d t^{n-1}}+\\dotsi+b_ny  \\right)e^{\\lambda_1 t}=0\n",
    "$$\n",
    "\n",
    "其中$b_1$,$b_2$,$\\dotsi$,$b_n$仍为常数，微分方程\n",
    "\n",
    "$$\n",
    "L_1[y]=\\frac{\\mathrm d^n y}{\\mathrm d t^n}+b_1\\frac{\\mathrm d^{n-1} y}{\\mathrm d t^{n-1}}+\\dotsi+b_ny =0\n",
    "$$\n",
    "\n",
    "的相应特征方程为\n",
    "\n",
    "\n",
    "$$\n",
    "G(\\mu)=\\mu^n+b_1\\mu^{n-1}+\\dotsi+b_{n-1}\\mu+b_n=0\n",
    "$$\n",
    "\n",
    "\n",
    "直接计算得\n",
    "\n",
    "$$\n",
    "Ｆ(\\mu+\\lambda_1)e^{(\\mu+\\lambda_1)t}=L[e^{(\\mu+\\lambda_1)t}]=L[e^{\\mu t}e^{\\lambda_1 t}]=e^{\\lambda_1 t}L_1[e^{\\mu t}]=e^{(\\mu+\\lambda_1)t}G(\\mu)\n",
    "$$\n",
    "\n",
    "因此\n",
    "\n",
    "$$\n",
    "F(\\mu+\\lambda_1)=G(\\mu)\n",
    "$$\n",
    "\n",
    "从而有\n",
    "\n",
    "$$\n",
    "F^{(j)}(\\lambda_1+\\mu)=G^{(j)}(\\mu),\\quad j=1,2,\\dotsi,k_1 - 1.\n",
    "$$"
   ]
  },
  {
   "cell_type": "markdown",
   "metadata": {},
   "source": [
    "可见式\n",
    "\n",
    "$$\n",
    "F(\\lambda)=\\lambda^n+a_1\\lambda^{n-1}+\\dotsi+a_{n-1}\\lambda+a_n=0\n",
    "$$\n",
    "\n",
    "的根 $\\lambda_1$ 对应着式\n",
    "\n",
    "\n",
    "$$\n",
    "G(\\mu)=\\mu^n+b_1\\mu^{n-1}+\\dotsi+b_{n-1}\\mu+b_n=0\n",
    "$$\n",
    "\n",
    "的零根$\\mu_1=0$, 而且重数相同，这样把问题转化为前面讨论过得情形,"
   ]
  },
  {
   "cell_type": "markdown",
   "metadata": {},
   "source": [
    "$$\n",
    "L[x]\\equiv\\frac{\\mathrm d^n x}{\\mathrm d t^n}+a_1\\frac{\\mathrm d^{n-1} x}{\\mathrm d t^{n-1}}+\\dotsi+a_{n-1}\\frac{\\mathrm d x}{\\mathrm d t}+a_nx=0\n",
    "$$\n",
    "\n",
    "的** $k_1$ 重特征根 $\\lambda_1$** 对应微分方程\n",
    "\n",
    "\n",
    "$$\n",
    "L_1[y]=\\frac{\\mathrm d^n y}{\\mathrm d t^n}+b_1\\frac{\\mathrm d^{n-1} y}{\\mathrm d t^{n-1}}+\\dotsi+b_{n-1}\\frac{\\mathrm d y}{\\mathrm d t}+b_ny =0\n",
    "$$\n",
    "\n",
    "的** $k_1$ 重 0 特征根**."
   ]
  },
  {
   "cell_type": "markdown",
   "metadata": {},
   "source": [
    "方程\n",
    "\n",
    "$$\n",
    "L_1[y]=\\frac{\\mathrm d^n y}{\\mathrm d t^n}+b_1\\frac{\\mathrm d^{n-1} y}{\\mathrm d t^{n-1}}+\\dotsi+b_{n-1}\\frac{\\mathrm d y}{\\mathrm d t}+b_ny =0\n",
    "$$\n",
    "\n",
    "恰有 $k_1$ 个线性无关的解 $1,t,t^2,\\dotsi,t^{k_1-1}$\n",
    "\n",
    "由 $x=ye^{\\lambda_1 t}$方程\n",
    "\n",
    "$$\n",
    "L[x]\\equiv\\frac{\\mathrm d^n x}{\\mathrm d t^n}+a_1\\frac{\\mathrm d^{n-1} x}{\\mathrm d t^{n-1}}+\\dotsi+a_{n-1}\\frac{\\mathrm d x}{\\mathrm d t}+a_nx=0\n",
    "$$\n",
    "\n",
    "恰有 $k_1$ 个线性无关的解\n",
    "\n",
    "$$\n",
    "e^{\\lambda_1 t},te^{\\lambda_1 t},t^2e^{\\lambda_1 t},\\dotsi,t^{k_1-1}e^{\\lambda_1 t}\n",
    "$$\n",
    "\n",
    "类似地"
   ]
  },
  {
   "cell_type": "markdown",
   "metadata": {},
   "source": [
    "基本解组\n",
    "\n",
    "$$\n",
    "\\begin{cases}\n",
    "\\lambda_1 & k_1&  e^{\\lambda_1 t},te^{\\lambda_1 t},t^2e^{\\lambda_1 t},\\dotsi,t^{k_1-1}e^{\\lambda_1 t}\\\\\n",
    "\\lambda_2&k_2&e^{\\lambda_2 t},te^{\\lambda_2 t},t^2e^{\\lambda_2 t},\\dotsi,t^{k_2-1}e^{\\lambda_2 t}\\\\\n",
    "\\vdots&\\vdots&\\vdots\\\\\n",
    "\\lambda_m&k_m&e^{\\lambda_m t},te^{\\lambda_m t},t^2e^{\\lambda_m t},\\dotsi,t^{k_m-1}e^{\\lambda_m t}\\\\\n",
    "\\end{cases}\n",
    "$$\n",
    "\n",
    "$$\n",
    "k_1+k_2+\\dotsi+k_m=n,k_i\\geq 1\n",
    "$$"
   ]
  },
  {
   "cell_type": "markdown",
   "metadata": {},
   "source": [
    "**证明** 假若这些函数线性相关,则存在不全为零的数 $A_j^{(r)}$ 使得"
   ]
  },
  {
   "cell_type": "markdown",
   "metadata": {},
   "source": [
    "$$\n",
    "\\begin{aligned}\n",
    "(A_0^{(1)}+A_1^{(1)}t+\\dotsi+A_{k_1-1}^{(1)}t^{k_1-1})e^{\\lambda_1 t}+\n",
    "(A_0^{(2)}+A_1^{(2)}t+\\dotsi+A_{k_2-1}^{(2)}t^{k_2-1})e^{\\lambda_2t}+\\dotsi+(A_0^{(m)}+A_1^{(m)}t+\\dotsi+A_{k_m-1}^{(m)}t^{k_m-1})e^{\\lambda_m t}\\equiv 0\n",
    "\\end{aligned}\n",
    "$$"
   ]
  },
  {
   "cell_type": "markdown",
   "metadata": {},
   "source": [
    "简化上式中的记号, 且两端同除以 $e^{\\lambda_1 t}$, 可得\n",
    "$$\n",
    "P_1(t)+P_2(t)e^{(\\lambda_2-\\lambda_1) t}+\\dotsi+P_m(t)e^{(\\lambda_m-\\lambda_1) t}\\equiv 0\n",
    "$$\n",
    "\n",
    "假定多项式 $P_m(t)$ 至少有一个系数不为零, 即 $P_m(t)$ 不恒为零. 对上式关于 $t$ 做 $k_1$ 次微分\n",
    "\n",
    "$$\n",
    "\\begin{aligned}\n",
    "{[P_r(t)e^{(\\lambda_r-\\lambda_1) t}]}^{(k_1)}=&\n",
    "[P_r^{(k_1)}(t)+k_1(\\lambda_r-\\lambda_1)P_r^{(k_1-1)}(t)+\\dotsi+(\\lambda_r-\\lambda_1)^{k_1}P_r(t)]e^{(\\lambda_r-\\lambda_1) t}\\\\\n",
    "=& [(\\lambda_r-\\lambda_1)^{k_1}P_r(t)+S_r(t)]e^{(\\lambda_r-\\lambda_1) t}\\\\\n",
    "=& Q_r(t)e^{(\\lambda_r-\\lambda_1) t}\n",
    "\\end{aligned}\n",
    "$$"
   ]
  },
  {
   "cell_type": "markdown",
   "metadata": {},
   "source": [
    "可得\n",
    "\n",
    "$$\n",
    "\\sum\\limits_{r=2}^mQ_r(t)e^{(\\lambda_r-\\lambda_1) t}=0\n",
    "$$ \n",
    "\n",
    "两边同时除以 $e^{(\\lambda_2-\\lambda_1) t}$, 并用微分$k_2$ 次, 类似可得\n",
    "\n",
    "$$\n",
    "\\sum\\limits_{r=3}^m V_r(t)e^{(\\lambda_r-\\lambda_2) t}=0\n",
    "$$ \n",
    "\n",
    "其中 $V_r(t) = (\\lambda_r-\\lambda_1)^{k_1}(\\lambda_r-\\lambda_2)^{k_2}P_r(t)+M_r(t)$, $M_r(t)$ 为次数低于 $P_r(t)$ 多项式. 执行上述类似步骤, 最终可得\n",
    "\n",
    "$$\n",
    "R_m(t)e^{(\\lambda_m-\\lambda_{m-1}) t}=0\n",
    "$$ \n",
    "\n",
    "其中 \n",
    "$$ \n",
    "R_m(t)= (\\lambda_m-\\lambda_1)^{k_1}(\\lambda_m-\\lambda_2)^{k_2}\\cdots(\\lambda_{m}-\\lambda_{m-1})^{k_{m-1}} P_m(t)+W_m(t)\n",
    "$$\n",
    "\n",
    "$W_m(t)$ 为次数低于 $P_m(t)$ 多项式. 而 $P_m(t)\\not=0$, 因此 $R_m(t)\\not=0$, 进而\n",
    "\n",
    "$$\n",
    "R_m(t)e^{(\\lambda_m-\\lambda_{m-1}) t}\\not=0\n",
    "$$\n",
    "\n",
    "与前面证明矛盾. 即证所得解组为基本解组.\n",
    "\n",
    "证毕. $\\square$"
   ]
  },
  {
   "cell_type": "markdown",
   "metadata": {},
   "source": [
    "$$\n",
    "\\lambda_1=\\alpha+i\\beta\\quad　方程的一个k重特征根\\\\\n",
    "\\lambda_2=\\alpha-i\\beta\\quad　也是一个k重特征根\\\\\n",
    "$$\n",
    "\n",
    "\n",
    "它们对应 $２k$ 个线性无关的实解是\n",
    "\n",
    "$$\n",
    "e^{\\alpha t}\\cos \\beta t,te^{\\alpha t}\\cos \\beta t,\\dotsi,t^{k-1}e^{\\alpha t}\\cos \\beta t\\\\\n",
    "e^{\\alpha t}\\sin \\beta t,te^{\\alpha t}\\sin \\beta t,\\dotsi,t^{k-1}e^{\\alpha t}\\sin \\beta t\\\\\n",
    "$$"
   ]
  },
  {
   "cell_type": "markdown",
   "metadata": {},
   "source": [
    "**结论**\n",
    "\n",
    "求解微分方程通解步骤\n",
    "\n",
    "第一步:计算微分方程的特征根 $\\lambda_1$, $\\lambda_1$, $\\dotsi$, $\\lambda_n$\n",
    "\n",
    "第二步:计算微分方程相应的解\n",
    "\n",
    "1.对每一个实单根 $\\lambda_k$,微分方程有解 $e^{\\lambda_k t}$\n",
    "\n",
    "2.对每一个 $m>1$ 重实根 $\\lambda_k$，微分方程有$m$个解 $e^{\\lambda_k t}$，$te^{\\lambda_k t}$,$\\dotsi$, $t^{m-1}e^{\\lambda_k t}$\n",
    "\n",
    "3.对于每个单的共轭复数根 $\\alpha \\pm i \\beta$,微分方程有两个解 $e^{\\alpha t}\\cos \\beta t$, $e^{\\alpha t}\\sin \\beta t$\n",
    "\n",
    "4.对于每一对重数 $m>1$ 的共轭复根 $\\alpha\\pm i\\beta$ 微分方程有 $2m$ 个解\n",
    "\n",
    "$$\n",
    "e^{\\alpha t}\\cos \\beta t,te^{\\alpha t}\\cos \\beta t,\\dotsi,t^{m-1}e^{\\alpha t}\\cos \\beta t\\\\\n",
    "e^{\\alpha t}\\sin \\beta t,te^{\\alpha t}\\sin \\beta t,\\dotsi,t^{m-1}e^{\\alpha t}\\sin \\beta t\\\\\n",
    "$$\n"
   ]
  },
  {
   "cell_type": "markdown",
   "metadata": {},
   "source": [
    "**例 3**\n",
    "求方程\n",
    "$$\n",
    "\\frac{\\mathrm d^3 x}{\\mathrm d t^3}-3\\frac{\\mathrm d^2 x}{\\mathrm d t^2}+3\\frac{\\mathrm d x}{\\mathrm d t}-x=0\n",
    "$$\n",
    "的通解."
   ]
  },
  {
   "cell_type": "markdown",
   "metadata": {},
   "source": [
    "**解: **\n",
    "\n",
    "第一步 : 求特征根\n",
    "$$\n",
    "F(\\lambda)=\\lambda^3-3\\lambda^2+3\\lambda-1=0\n",
    "\\quad \\lambda_{1,2,3}=1\n",
    "$$\n",
    "\n",
    "第二步 : 求出基本解组\n",
    "\n",
    "$$\n",
    "e^t,te^t,t^2e^t\n",
    "$$\n",
    "\n",
    "第三步 : 写出通解\n",
    "\n",
    "$$\n",
    "x(t)=c_1e^t+c_2te^t+c_3t^2e^t\n",
    "$$\n",
    "\n",
    "这里$c_1$,$c_2$,$c_3$是任意常数"
   ]
  },
  {
   "cell_type": "markdown",
   "metadata": {},
   "source": [
    "**例 4 **\n",
    "求方程\n",
    "$$\n",
    "\\frac{\\mathrm d^4 x}{\\mathrm d t^4}+2\\frac{\\mathrm d^2 x}{\\mathrm d t^2}+x=0\n",
    "$$\n",
    "的通解."
   ]
  },
  {
   "cell_type": "markdown",
   "metadata": {},
   "source": [
    "**解: **\n",
    "\n",
    "第一步 : 求特征根\n",
    "\n",
    "$$\n",
    "F(\\lambda)=\\lambda^4+2\\lambda^2+1=0 \n",
    "$$\n",
    "\n",
    "$$ \n",
    "\\lambda_{1,2}=\\pm i  二重根\n",
    "$$\n",
    "\n",
    "第二步 : 求出基本解组\n",
    "\n",
    "$$\n",
    "\\cos t,t\\cos t,\\sin t, t\\sin t\n",
    "$$\n",
    "\n",
    "第三步 : 写出通解\n",
    "\n",
    "$$\n",
    "x(t)=c_1\\cos t+c_2t\\cos t+c_3sin t+c_4 t\\sin t\n",
    "$$\n",
    "\n",
    "这里$c_1$,$c_2$,$c_3$,$c_4$是任意常数"
   ]
  },
  {
   "cell_type": "markdown",
   "metadata": {},
   "source": [
    "### 可化为常系数线性方程的方程------欧拉(Euler)方程"
   ]
  },
  {
   "cell_type": "markdown",
   "metadata": {},
   "source": [
    "$$\n",
    "x^n\\frac{\\mathrm d^n y}{\\mathrm d x^n}+a_1x^{n-1}\\frac{\\mathrm d^{n-1} y}{\\mathrm d x^{n-1}}+\\dotsi+a_{n-1}x\\frac{\\mathrm d y}{\\mathrm d x}+a_ny=0\n",
    "$$\n",
    "\n",
    "其中$a_1$,$a_2$,$\\dotsi$,$a_n$为常数。"
   ]
  },
  {
   "cell_type": "markdown",
   "metadata": {},
   "source": [
    "引入自变量代换\n",
    "\n",
    "$$\n",
    "x=e^t, \\ln x = t, \\mathrm d x=e^t \\mathrm d t\n",
    "$$"
   ]
  },
  {
   "cell_type": "markdown",
   "metadata": {},
   "source": [
    "$$\\frac{\\mathrm d y}{\\mathrm d x}=\\frac{\\mathrm d y}{\\mathrm d t}\\cdot\\frac{\\mathrm d t}{\\mathrm d x}=e^{-t}\\frac{\\mathrm d y}{\\mathrm d t}=\\frac{1}{x}\\frac{\\mathrm d y}{\\mathrm d t}\n",
    "$$"
   ]
  },
  {
   "cell_type": "markdown",
   "metadata": {},
   "source": [
    "$$\n",
    "\\begin{aligned}\n",
    "\\frac{\\mathrm d^2 y}{\\mathrm d x^2} = & \\frac{\\mathrm d}{\\mathrm d x}(e^{-t}\\frac{\\mathrm d y}{\\mathrm d t})\\\\\n",
    " = &(-e^{-t}\\frac{\\mathrm d y}{\\mathrm d t}+e^{-t}\\frac{\\mathrm d^2 y}{\\mathrm d t^2})\\frac{\\mathrm d t}{\\mathrm d x}\\\\\n",
    " = & e^{-2t}(\\frac{\\mathrm d^2 y}{\\mathrm d t^2}-\\frac{\\mathrm d y}{\\mathrm d t})\\\\\n",
    " = &\\frac{1}{x^2}(\\frac{\\mathrm d^2 y}{\\mathrm d t^2}-\\frac{\\mathrm d y}{\\mathrm d t})\n",
    "\\end{aligned}\n",
    "$$"
   ]
  },
  {
   "cell_type": "markdown",
   "metadata": {},
   "source": [
    "假设任意的自然数$m$有以下关系式成立,$\\alpha_1$,$\\alpha_2$,$\\dotsi$,$\\alpha_{m-1}$为常数"
   ]
  },
  {
   "cell_type": "markdown",
   "metadata": {},
   "source": [
    "$$\n",
    "\\frac{\\mathrm d^m y}{\\mathrm d x^m}=\\frac{1}{x^m}(\\frac{\\mathrm d^m y}{\\mathrm d t^m}+\\alpha_1\\frac{\\mathrm d^{m-1} y}{\\mathrm d t^{m-1}}+\\dotsi+\\alpha_{m-1}\\frac{\\mathrm d y}{\\mathrm d t})\n",
    "$$\n",
    "\n",
    "上式两边对 $x$ 求导数， 可得 \n",
    "\n",
    "$$\n",
    "\\begin{aligned}\n",
    "\\frac{\\mathrm d^{m+1} y}{\\mathrm d x^{m+1}}=&\\frac{\\mathrm d}{\\mathrm d x}\\left[\\frac{1}{x^m}(\\frac{\\mathrm d^m y}{\\mathrm d t^m}+\\alpha_1\\frac{\\mathrm d^{m-1} y}{\\mathrm d t^{m-1}}+\\dotsi+\\alpha_{m-1}\\frac{\\mathrm d y}{\\mathrm d t})\\right]\\\\\n",
    "= & \\frac{\\mathrm d}{\\mathrm d t}\\left[e^{-mt}(\\frac{\\mathrm d^m y}{\\mathrm d t^m}+\\alpha_1\\frac{\\mathrm d^{m-1} y}{\\mathrm d t^{m-1}}+\\dotsi+\\alpha_{m-1}\\frac{\\mathrm d y}{\\mathrm d t})\\right]\\cdot\\frac{\\mathrm d t}{\\mathrm d x}\\\\\n",
    "= & \\left[-me^{-mt}(\\frac{\\mathrm d^m y}{\\mathrm d t^m}+\\alpha_1\\frac{\\mathrm d^{m-1} y}{\\mathrm d t^{m-1}}+\\dotsi+\\alpha_{m-1}\\frac{\\mathrm d y}{\\mathrm d t})\\right.\\\\\n",
    "&\\left. +e^{-mt}\\frac{\\mathrm d}{\\mathrm d t}(\\frac{\\mathrm d^m y}{\\mathrm d t^m}+\\alpha_1\\frac{\\mathrm d^{m-1} y}{\\mathrm d t^{m-1}}+\\dotsi+\\alpha_{m-1}\\frac{\\mathrm d y}{\\mathrm d t})\\right]e^{-t}\\\\\n",
    "= &\\frac{1}{x^{m+1}}(\\frac{\\mathrm d^{m+1} y}{\\mathrm d t^{m+1}}+\\beta_1\\frac{\\mathrm d^m y}{\\mathrm d t^m}+\\dotsi+\\beta_m\\frac{\\mathrm d y}{\\mathrm d t})\n",
    "\\end{aligned}\n",
    "$$\n"
   ]
  },
  {
   "cell_type": "markdown",
   "metadata": {},
   "source": [
    "对一切自然数 $m$ 均有以下关系是成立\n",
    "$$\n",
    "\\frac{\\mathrm d^m y}{\\mathrm d x^m}=\\frac{1}{x^m}(\\frac{\\mathrm d^m y}{\\mathrm d t^m}+\\alpha_1\\frac{\\mathrm d^{m-1} y}{\\mathrm d t^{m-1}}+\\dotsi+\\alpha_{m-1}\\frac{\\mathrm d y}{\\mathrm d t})\n",
    "$$\n",
    "\n",
    "原方程\n",
    "\n",
    "$$\n",
    "x=e^t\n",
    "$$\n",
    "\n",
    "$$\n",
    "x^n\\frac{\\mathrm d^n y}{\\mathrm d x^n}+a_1x^{n-1}\\frac{\\mathrm d^{n-1} y}{\\mathrm d x^{n-1}}+\\dotsi+a_{n-1}x\\frac{\\mathrm d y}{\\mathrm d x}+a_ny=0\n",
    "$$\n",
    "\n",
    "可化为常系数线性方程\n",
    "\n",
    "$$\n",
    "\\frac{\\mathrm d^n y}{\\mathrm d t^n}+b_1\\frac{\\mathrm d^{n-1}}{\\mathrm d t^{n-1}}+\\dotsi+b_{n-1}\\frac{\\mathrm d y}{\\mathrm d t}+b_ny=0\n",
    "$$"
   ]
  },
  {
   "cell_type": "markdown",
   "metadata": {},
   "source": [
    "上述方程有 $$ y = e^{\\lambda t} $$"
   ]
  },
  {
   "cell_type": "markdown",
   "metadata": {},
   "source": [
    "则原方程有 $$ y = x^\\lambda $$ 形式的解"
   ]
  },
  {
   "cell_type": "markdown",
   "metadata": {},
   "source": [
    "设$y=x^\\lambda$是欧拉方程的解"
   ]
  },
  {
   "cell_type": "markdown",
   "metadata": {},
   "source": [
    "$$\n",
    "\\lambda (\\lambda -1)\\dotsi(\\lambda -n+1)x^\\lambda + \\dotsi + a_{n-2}\\lambda(\\lambda - 1) x^\\lambda+a_{n-1}\\lambda x^\\lambda+a_nx^\\lambda=0\n",
    "$$"
   ]
  },
  {
   "cell_type": "markdown",
   "metadata": {},
   "source": [
    "$$\n",
    "[\\lambda (\\lambda - 1)\\dotsi(\\lambda - n + 1)+a_1(\\lambda - 1)\\dotsi(\\lambda - n + 2)+\\dotsi+a_{n-1}\\lambda +a_n] x^\\lambda =0\n",
    "$$"
   ]
  },
  {
   "cell_type": "markdown",
   "metadata": {},
   "source": [
    "$$\n",
    "\\lambda (\\lambda - 1)\\dotsi(\\lambda - n + 1)+a_1(\\lambda - 1)\\dotsi(\\lambda - n + 2)+\\dotsi+a_{n-1}\\lambda +a_n=0\n",
    "$$\n",
    "\n",
    "$$\n",
    "F( \\lambda )=\\lambda (\\lambda - 1) \\dotsi (\\lambda - n + 1) + a_1(\\lambda - 1)\\dotsi(\\lambda - n + 2)+\\dotsi+a_{n-1}\\lambda + a_n\n",
    "$$"
   ]
  },
  {
   "cell_type": "markdown",
   "metadata": {},
   "source": [
    "### 解齐次欧拉方程的步骤\n",
    "    第一步 : 写出特征方程, 并求特征根\n",
    "    第二步 : 求出的基本解组,先求出变换以后方程的基本解组,再求出原方程的基本解组\n",
    "    第三步 : 写出原方程的通解"
   ]
  },
  {
   "cell_type": "markdown",
   "metadata": {},
   "source": [
    "**例$5$**求方程\n",
    "$$\n",
    "x^2\\frac{\\mathrm d^2 y}{\\mathrm d x^2}-x\\frac{\\mathrm d y}{\\mathrm d x}+y=0\n",
    "$$\n",
    "的通解."
   ]
  },
  {
   "cell_type": "markdown",
   "metadata": {},
   "source": [
    "解\n",
    "\n",
    "\n",
    "第一步 : 写出特征方程 , 并求特征根\n",
    "$$\n",
    "F(\\lambda)=\\lambda(\\lambda - 1) - \\lambda +1=0\\quad \\lambda_{1,2}=1\n",
    "$$\n",
    "\n",
    "第二步 : 求出基本解组\n",
    "\n",
    "$$\n",
    "e^t,te^t\\to x，x\\ln|x|\n",
    "$$\n",
    "\n",
    "第三步 : 写出通解\n",
    "\n",
    "$$\n",
    "y(x)=c_1x+c_2x\\ln|x|\n",
    "$$\n",
    "\n",
    "这里$c_1$,$c_2$是任意常数"
   ]
  },
  {
   "cell_type": "markdown",
   "metadata": {},
   "source": [
    "**例$６$**求方程\n",
    "$$\n",
    "x^2\\frac{\\mathrm d^2 y}{\\mathrm d x^2}+3x\\frac{\\mathrm d y}{\\mathrm d x}+5y=0\n",
    "$$\n",
    "的通解"
   ]
  },
  {
   "cell_type": "markdown",
   "metadata": {},
   "source": [
    "解\n",
    "第一步 : 写出特征方程, 并求特征根\n",
    "$$\n",
    "F(\\lambda)=\\lambda(\\lambda-1)+3\\lambda+5=0 \\quad \\lambda^2+2\\lambda+5=0\\\\\n",
    "\\lambda_{1,2}=-1\\pm 2i\n",
    "$$\n",
    "\n",
    "第二步 : 求出基本解组\n",
    "\n",
    "$$\n",
    "e^{-t}\\cos{(2t)},e^{-t}\\sin{(2t)} \\to\\frac{1}{x}\\cos{(2\\ln|x|)},\n",
    "\\frac{1}{x}\\sin{(2\\ln|x|)}\n",
    "$$"
   ]
  },
  {
   "cell_type": "markdown",
   "metadata": {},
   "source": [
    "第三步 : 写出通解\n",
    "$$\n",
    "y(x)=\\frac{1}{x}\\left[c_1\\cos{(2\\ln|x|)}+c_2\\sin{(2\\ln|x|)}\\right]\n",
    "$$\n",
    "\n",
    "这里$c_1$,$c_2$是任意整数。"
   ]
  },
  {
   "cell_type": "markdown",
   "metadata": {
    "collapsed": true
   },
   "source": [
    "**作业：**\n",
    "P164, 2. (1), (2), (3); 3. (1)"
   ]
  },
  {
   "cell_type": "code",
   "execution_count": null,
   "metadata": {
    "collapsed": true
   },
   "outputs": [],
   "source": []
  }
 ],
 "metadata": {
  "kernelspec": {
   "display_name": "Python 3",
   "language": "python",
   "name": "python3"
  },
  "language_info": {
   "codemirror_mode": {
    "name": "ipython",
    "version": 3
   },
   "file_extension": ".py",
   "mimetype": "text/x-python",
   "name": "python",
   "nbconvert_exporter": "python",
   "pygments_lexer": "ipython3",
   "version": "3.5.2"
  },
  "latex_envs": {
   "LaTeX_envs_menu_present": true,
   "bibliofile": "biblio.bib",
   "cite_by": "apalike",
   "current_citInitial": 1,
   "eqLabelWithNumbers": true,
   "eqNumInitial": 0
  }
 },
 "nbformat": 4,
 "nbformat_minor": 0
}
