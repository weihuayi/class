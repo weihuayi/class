{
 "cells": [
  {
   "cell_type": "markdown",
   "metadata": {},
   "source": [
    "# 课程信息"
   ]
  },
  {
   "cell_type": "markdown",
   "metadata": {},
   "source": [
    "* **任课教师:** 魏华祎\n",
    "* **电话:** 15973229281\n",
    "* **办公室:** 数学院南楼 227\n",
    "* **邮箱：** weihuayi@xtu.edu.cn"
   ]
  },
  {
   "cell_type": "markdown",
   "metadata": {},
   "source": [
    "* **助教:** 刘江刚\n",
    "* **电话:** 17369202596"
   ]
  },
  {
   "cell_type": "markdown",
   "metadata": {},
   "source": [
    "* 第 2 周—第 14 周，共64学时（第6周国庆）\n",
    "* 总成绩=平时（20%）+期末（80%），每周五交作业至助教，（随机查到）"
   ]
  },
  {
   "cell_type": "markdown",
   "metadata": {},
   "source": [
    "## 数学与编程"
   ]
  },
  {
   "cell_type": "markdown",
   "metadata": {},
   "source": [
    "* 知识就是力量\n",
    "* 如何更好发挥数学知识的力量，来提升自我和社会的生产力，在单位时间内产生更多价值？\n",
    "* 把数学知识和算法变成软件\n",
    "* 开源软件工具提升自我生产率"
   ]
  },
  {
   "cell_type": "markdown",
   "metadata": {},
   "source": [
    "## 软件集成开发环境： Anaconda "
   ]
  },
  {
   "cell_type": "markdown",
   "metadata": {},
   "source": [
    "[Anaconda](https://www.anaconda.com) 是一个基于 `Python` 语言的科学计算集成开发环境, 包含丰富的开源数学软件模块和辅助工具, 可以作为商业软件 Matlab， Maple， Mathmatica 的替代工具使用。 \n",
    "\n",
    "* 网址： https://www.anaconda.com\n",
    "* 开源，可免费下载使用\n",
    "* 安装文件最大只有 400M， 比最新的 `Matlab` 安装包小很多。\n",
    "* 入门更加容易"
   ]
  },
  {
   "cell_type": "markdown",
   "metadata": {},
   "source": [
    "Python 语言的特点：\n",
    "\n",
    "* 支持面向对象编程的解释性语言，无需编译，易学易用。\n",
    "* 代码可读性非常强\n",
    "* 有庞大的用户社群，包括 NASA, ANL, Google 等国际知名的科研机构和公司都选择 Python 做为高性能计算的开发语言。Python 的初学者和开发者很容易从社群中获得帮助和开发文档。\n",
    "* 有丰富的科学计算基础软件包， 如：\n",
    "    + NumPy:  http://numpy.scipy.org - Numerical Python，主要提供多维数组及相关运算功能。\n",
    "    + SciPy:  http://www.scipy.org - Scientific Python，提供高效的优化、FFT、稀疏矩阵等科学计算模块。\n",
    "    + Matplotlib: http://www.matplotlib.org - Graphics library，提供成熟 2D 和 3D 画图软件功能。\n",
    "    + SymPy： http://www.sympy.org - 数学符号计算。\n",
    "* 开源免费"
   ]
  },
  {
   "cell_type": "markdown",
   "metadata": {},
   "source": [
    "下载地址： https://www.anaconda.com/download/\n",
    "\n",
    "![](./figures/anaconda.png)"
   ]
  },
  {
   "cell_type": "markdown",
   "metadata": {},
   "source": [
    "## 什么是 Jupyter Notebook?"
   ]
  },
  {
   "cell_type": "markdown",
   "metadata": {},
   "source": [
    "`Jupyter Notebook` 是一个 web 应用， 可以创建和分享文档， 文档中可包含\n",
    "\n",
    "* **直接可运行的代码**\n",
    "* **数学公式** \n",
    "* **可视化**\n",
    "* **文本 **\n",
    "\n",
    "本课件就是直接用 Jupyter Notebook 编写的。 在 Jupyter Notebook 可以使用两种排版语言\n",
    "\n",
    "* Markdown\n",
    "* Latex\n",
    "\n",
    "写出漂亮的数学文档。"
   ]
  },
  {
   "cell_type": "markdown",
   "metadata": {},
   "source": [
    "## 什么是 Markdown"
   ]
  },
  {
   "cell_type": "markdown",
   "metadata": {},
   "source": [
    "Markdown 是一种轻量级的文本标记语言, 可以让你使用易读易写的纯文本格式编写文档."
   ]
  },
  {
   "cell_type": "markdown",
   "metadata": {},
   "source": [
    "**列表：**\n",
    "\n",
    "* 第一点\n",
    "    + A\n",
    "    + B\n",
    "    + C\n",
    "* 第二点\n",
    "* 第三点"
   ]
  },
  {
   "cell_type": "markdown",
   "metadata": {},
   "source": [
    "1. 第一点\n",
    "    * A\n",
    "    * B\n",
    "    * C\n",
    "1. 第二点\n",
    "    + A\n",
    "    + B\n",
    "    + C\n",
    "1. 第三点"
   ]
  },
  {
   "cell_type": "markdown",
   "metadata": {},
   "source": [
    "**强调**  *斜体 **强调** *"
   ]
  },
  {
   "cell_type": "markdown",
   "metadata": {},
   "source": [
    "表头1 | 表头 2 \n",
    ":------ | ------:\n",
    " A  | B\n",
    " C  | D "
   ]
  },
  {
   "cell_type": "markdown",
   "metadata": {},
   "source": [
    "## 什么是 Latex?"
   ]
  },
  {
   "cell_type": "markdown",
   "metadata": {},
   "source": [
    " **Latex** 语言可以用纯文本的方式输入数学公式."
   ]
  },
  {
   "cell_type": "markdown",
   "metadata": {
    "collapsed": true
   },
   "source": [
    "这是一个**行内公式** $x^2 + y^2 = 1$."
   ]
  },
  {
   "cell_type": "markdown",
   "metadata": {},
   "source": [
    "下面是一个**行间公式**\n",
    "\n",
    "$$\n",
    "e^{ix} = \\cos x + i\\sin x\n",
    "$$"
   ]
  },
  {
   "cell_type": "markdown",
   "metadata": {},
   "source": [
    "$$\n",
    "\\sqrt{x^2_1+5}=6\n",
    "$$"
   ]
  },
  {
   "cell_type": "code",
   "execution_count": 1,
   "metadata": {
    "collapsed": false
   },
   "outputs": [
    {
     "name": "stdout",
     "output_type": "stream",
     "text": [
      "Hello World!\n"
     ]
    }
   ],
   "source": [
    "print(\"Hello World!\")"
   ]
  },
  {
   "cell_type": "code",
   "execution_count": 2,
   "metadata": {
    "collapsed": false
   },
   "outputs": [
    {
     "data": {
      "text/plain": [
       "58"
      ]
     },
     "execution_count": 2,
     "metadata": {},
     "output_type": "execute_result"
    }
   ],
   "source": [
    "34  + 24"
   ]
  },
  {
   "cell_type": "code",
   "execution_count": 3,
   "metadata": {
    "collapsed": false
   },
   "outputs": [
    {
     "data": {
      "text/plain": [
       "4"
      ]
     },
     "execution_count": 3,
     "metadata": {},
     "output_type": "execute_result"
    }
   ],
   "source": [
    "2**2"
   ]
  },
  {
   "cell_type": "code",
   "execution_count": null,
   "metadata": {
    "collapsed": true
   },
   "outputs": [],
   "source": []
  }
 ],
 "metadata": {
  "kernelspec": {
   "display_name": "Python 3",
   "language": "python",
   "name": "python3"
  },
  "language_info": {
   "codemirror_mode": {
    "name": "ipython",
    "version": 3
   },
   "file_extension": ".py",
   "mimetype": "text/x-python",
   "name": "python",
   "nbconvert_exporter": "python",
   "pygments_lexer": "ipython3",
   "version": "3.5.2"
  },
  "latex_envs": {
   "LaTeX_envs_menu_present": true,
   "bibliofile": "biblio.bib",
   "cite_by": "apalike",
   "current_citInitial": 1,
   "eqLabelWithNumbers": true,
   "eqNumInitial": 0
  }
 },
 "nbformat": 4,
 "nbformat_minor": 0
}
