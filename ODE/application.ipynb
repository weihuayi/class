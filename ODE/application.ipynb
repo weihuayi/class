{
 "cells": [
  {
   "cell_type": "markdown",
   "metadata": {},
   "source": [
    "# $RLC$ 电路"
   ]
  },
  {
   "cell_type": "markdown",
   "metadata": {},
   "source": [
    "## 1. 基本概念"
   ]
  },
  {
   "cell_type": "markdown",
   "metadata": {},
   "source": [
    "**电阻 $R$**"
   ]
  },
  {
   "cell_type": "markdown",
   "metadata": {},
   "source": [
    "**电感 $L$**： 是闭合回路的一种属性，即当通过闭合回路的电流改变时，会出现电动势来抵抗电流的改变。"
   ]
  },
  {
   "cell_type": "markdown",
   "metadata": {},
   "source": [
    "**电容 $C$**： 1法拉等于1库仑每伏特\n",
    "\n",
    "$$\n",
    "C = \\frac{Q}{V}\n",
    "$$"
   ]
  },
  {
   "cell_type": "markdown",
   "metadata": {},
   "source": [
    "**$RLC$ 电路**"
   ]
  },
  {
   "cell_type": "markdown",
   "metadata": {},
   "source": [
    "## 2. 基本原理"
   ]
  },
  {
   "cell_type": "markdown",
   "metadata": {},
   "source": [
    "**基尔霍夫(Kirchhoff)第二定律**"
   ]
  },
  {
   "cell_type": "markdown",
   "metadata": {},
   "source": [
    "## 3. 模型例子"
   ]
  },
  {
   "cell_type": "markdown",
   "metadata": {},
   "source": [
    "# 数学摆"
   ]
  },
  {
   "cell_type": "code",
   "execution_count": null,
   "metadata": {
    "collapsed": true
   },
   "outputs": [],
   "source": [
    "T,t,b,a,g,L,c=var('T,t,b,a,g,L,c')\n",
    "phi = function('phi')(t)\n",
    "b=g/L\n",
    "assume(g>0)\n",
    "assume(L>0)\n",
    "L=4 ## Length of string\n",
    "g=9.8 ## accelaration due to gravity\n",
    "omega = sqrt(g/L)\n",
    "# Pendulum's Time Period: \n",
    "T=2*pi*(L/g)^(1/2)\n",
    "show(\"t= \",T)\n",
    "#### Pendulum's Equation\n",
    "de=diff(phi,t,t)+b*phi==0\n",
    "# Solving Differential equation with initial conditions, i.e at t=0,\n",
    "# phi(0)=2*pi/3, phi'(0)=1 (i.e angular velocity=1)\n",
    "des=desolve_laplace(de,dvar=phi,ivar=t,ics=[0,pi/3,1])\n",
    "phi(t)=des\n",
    "show(\"Solution of pendulum equation:\", des)\n",
    "## Fixed point of pendulum i.e. origin ##\n",
    "p0 = (0, 0)\n",
    "c=point((0,0), color='blue', pointsize = 20)\n",
    "z=animate([c+\n",
    "           circle(((2/3*(pi*cos(omega*t) + 3*sin(omega*t)/omega)),-T),\n",
    "                  0.25,color='red',fill=True)+\n",
    "           line([(0,0),\n",
    "                 ((2/3*(pi*cos(omega*t) + 3*sin(omega*t)/omega)),-T)],\n",
    "                color='black',thickness=3.0) \n",
    "           for t in srange(0,T,T/100)],\n",
    "          xmin=-3, xmax=3, ymin=-7,ymax=1,figsize=[10,10])\n",
    "z.ffmpeg(savefile='pendulum.gif',delay=20)"
   ]
  },
  {
   "cell_type": "markdown",
   "metadata": {},
   "source": [
    "## 无阻尼的自由振动"
   ]
  },
  {
   "cell_type": "markdown",
   "metadata": {},
   "source": [
    "$$\n",
    "\\frac{\\mathrm d^2\\varphi}{\\mathrm dt} + \\frac{g}{l}\\varphi=0\n",
    "$$\n",
    "利用特征方程可得通解\n",
    "$$\n",
    "\\varphi = A sin(\\omega t + \\theta)\n",
    "$$\n",
    "其中 $\\omega^2= \\frac{g}{l}$. "
   ]
  },
  {
   "cell_type": "markdown",
   "metadata": {},
   "source": [
    "**简谐振动：** 其中 $A$ 和 $\\theta$ 反映了摆的初始状态，无论它们为何值，摆的运动总是一个正弦函数，它是 $t$ 的周期函数。"
   ]
  },
  {
   "cell_type": "markdown",
   "metadata": {},
   "source": [
    "1. **周期：**摆往返一次所需的时间， 记 $T=\\frac{2\\pi}{\\omega}$\n",
    "1. **频率：**单位时间内往返的次数， 记为 $\\upsilon = \\frac{1}{T} = \\frac{\\omega}{2\\pi} $\n",
    "1. **角频率：** $\\omega = 2\\pi\\upsilon$\n",
    "1. **振幅：** 摆离开平衡位置的最大偏离， $A$\n",
    "1. **相位：** 相位(phase)是对于一个波，特定的时刻在它循环中的位置：一种它是否在波峰、波谷或它们之间的某点的标度。相位描述信号波形变化的度量，通常以度 （角度）作为单位，也称作相角。\n",
    "1. **初相位：** $t=0$ 时刻的相位。\n",
    "\n",
    "数学的周期只依赖于摆长 $l$，与初值无关， 但振幅和初相位都依赖于初值条件。 下面的初值条件：\n",
    "\n",
    "$$\n",
    "\\varphi|_{t=0} = \\varphi_0, \\frac{\\mathrm d \\varphi}{\\mathrm d t}|_{t=0} = 0\n",
    "$$\n",
    "相当于把摆移动到 $\\varphi = \\varphi_0$ 的位置， 然后突然松开使其自由移动, 代入通解：\n",
    "\n",
    "$$\n",
    "\\varphi|_{t=0} = A\\sin\\theta = \\varphi_0, \\frac{\\mathrm d \\varphi}{\\mathrm d t}|_{t=0} =A\\omega\\cos\\theta= 0\n",
    "$$\n",
    "可得初相位 $\\theta=\\frac{\\pi}{2}$, 振幅为 $A=\\varphi_0$, 所求特解为\n",
    "$$\n",
    "\\varphi = \\varphi_0\\sin(\\omega t+\\frac{\\pi}{2})=\\varphi_0\\cos(\\omega t)\n",
    "$$"
   ]
  },
  {
   "cell_type": "markdown",
   "metadata": {},
   "source": [
    "## 有阻尼的自由振动"
   ]
  },
  {
   "cell_type": "markdown",
   "metadata": {},
   "source": [
    "$$\n",
    "\\frac{\\mathrm d^2\\varphi}{\\mathrm dt^2} + \\frac{\\mu}{m}\\frac{\\mathrm d\\varphi}{\\mathrm dt} + \\frac{g}{l}\\varphi=0\n",
    "$$\n",
    "\n",
    "记 $\\frac{\\mu}{m} = 2n$, $\\frac{g}{l}=\\omega^2$, 这里的 $n$, $\\omega$ 都是正常数， 则\n",
    "\n",
    "$$\n",
    "\\frac{\\mathrm d^2\\varphi}{\\mathrm dt^2} + 2n \\frac{\\mathrm d\\varphi}{\\mathrm dt} + \\omega^2\\varphi=0\n",
    "$$\n",
    "\n",
    "其特征方程为\n",
    "\n",
    "$$\n",
    "\\lambda^2 + 2n\\lambda + \\omega^2 = 0\n",
    "$$\n",
    "\n",
    "特征根为\n",
    "\n",
    "$$\n",
    "\\lambda_{1,2}=-n\\pm \\sqrt{n^2 - \\omega^2}\n",
    "$$"
   ]
  },
  {
   "cell_type": "markdown",
   "metadata": {},
   "source": [
    "**(1) 小阻尼的情形：$n < \\omega$ ** \n",
    "\n",
    "$$\n",
    "\\lambda_{1,2}=-n\\pm \\sqrt{\\omega^2 - n^2}i =- n\\pm\\omega_1 i\n",
    "$$\n",
    "\n",
    "可得通解为\n",
    "\n",
    "$$\n",
    "\\varphi = e^{-nt}(c_1\\cos\\omega_1 t + c_2\\sin \\omega_1 t)\n",
    "$$\n",
    "\n",
    "改写为如下形式\n",
    "\n",
    "$$\n",
    "\\varphi = Ae^{-nt}\\sin(\\omega_1 t+\\theta)\n",
    "$$\n",
    "\n",
    "它的周期为 \n",
    "\n",
    "$$\n",
    "T= \\frac{2\\pi}{\\omega_1}\n",
    "$$\n",
    "\n",
    "因为阻尼的存在， 摆的最大偏离随时间的增大而不断减小，最后趋于平衡位置 $\\varphi=0$."
   ]
  },
  {
   "cell_type": "markdown",
   "metadata": {},
   "source": [
    "**(2) 大阻尼情形： $n > \\omega$**\n",
    "\n",
    "特征根为\n",
    "$$\n",
    "\\lambda_1 = -n + \\sqrt{n^2 - \\omega^2}, \\lambda_2 = -n - \\sqrt{n^2 - \\omega^2}\n",
    "$$\n",
    "易知， $\\lambda_2 < \\lambda_1 < 0$, 方程的通解为：\n",
    "\n",
    "$$\n",
    "\\varphi = c_1 e^{\\lambda_1t} + c_2 e^{\\lambda_2 t}\n",
    "$$\n",
    "\n",
    "因为下面方程 \n",
    "$$\n",
    "\\varphi = c_1 e^{\\lambda_1t} + c_2 e^{\\lambda_2 t} = 0\n",
    "$$\n",
    "对于 $t$ 最多只有一个解， 因此摆最多通过平衡位置一次。又因为，\n",
    "$$\n",
    "\\begin{aligned}\n",
    "\\frac{\\mathrm d \\varphi}{\\mathrm d t} = & c_1\\lambda_1 e^{\\lambda_1 t} + c_2\\lambda_2e^{\\lambda_2 t}\\\\\n",
    "=& e^{\\lambda_1 t}\\left[c_1\\lambda_1 + c_2\\lambda_2 e^{(\\lambda_2 - \\lambda_1)t}\\right]\n",
    "\\end{aligned}\n",
    "$$"
   ]
  },
  {
   "cell_type": "markdown",
   "metadata": {},
   "source": [
    "##### **(3) 临界情形： $n = \\omega$**\n",
    "\n",
    "特征方程有重根 \n",
    "$$\n",
    "\\lambda_{1,2}=-n\n",
    "$$\n",
    "方程的通解为\n",
    "$$\n",
    "\\varphi = e^{-nt}(c_1 + c_2t)\n",
    "$$\n",
    "这里的 $c_1$, $c_2$ 是任意常数。 \n",
    "\n",
    "这里的 $n =  \\omega$ 称为**阻尼临界值**。 "
   ]
  },
  {
   "cell_type": "markdown",
   "metadata": {},
   "source": [
    "## 强迫振动"
   ]
  },
  {
   "cell_type": "markdown",
   "metadata": {},
   "source": [
    "数学摆的微小强迫振动方程可写为\n",
    "\n",
    "$$\n",
    "\\frac{\\mathrm d^2\\varphi}{\\mathrm dt^2} + \\frac{\\mu}{m}\\frac{\\mathrm d\\varphi}{\\mathrm dt} + \\frac{g}{l}\\varphi=\\frac{F(t)}{ml}\n",
    "$$\n",
    "\n",
    "下面考虑无阻尼强迫振动， 即 $\\mu=0$ 的情形，外力作用满足正弦变化规律：\n",
    "\n",
    "$$\n",
    "\\frac{\\mathrm d^2\\varphi}{\\mathrm dt^2} + \\frac{g}{l}\\varphi=H\\sin pt\n",
    "$$\n",
    "\n",
    "其中 $\\omega^2 = \\frac{g}{l}$, $H$ 为已知常数， $p$ 为**外力角频率**。对应齐次方程通解为\n",
    "\n",
    "$$\n",
    "\\varphi = A\\sin(\\omega t + \\theta)\n",
    "$$\n",
    "\n",
    "下面求非齐次方程的特解。如果 $p\\ne \\omega$, 则非齐次方程特解形式如下：\n",
    "\n",
    "$$\n",
    "\\tilde\\varphi = M \\cos pt + N \\sin pt\n",
    "$$\n",
    "\n",
    "其中 $M$ 和 $N$ 为特定常数， 代入非齐次方程，比较同类项可得 \n",
    "\n",
    "$$\n",
    "M = 0， N = \\frac{H}{\\omega^2 - p^2}\n",
    "$$\n",
    "\n",
    "因此方程的通解为\n",
    "$$\n",
    "\\varphi = A\\sin(\\omega t + \\theta) + \\frac{H}{\\omega^2 - p^2}\\sin pt\n",
    "$$"
   ]
  },
  {
   "cell_type": "markdown",
   "metadata": {},
   "source": [
    "如果 $p = \\omega$, 则非齐次方程有如下的特解形式：\n",
    "\n",
    "$$\n",
    "\\tilde\\varphi = t(M \\cos pt + N \\sin pt)\n",
    "$$\n",
    "\n",
    "其中 $M$ 和 $N$ 为特定常数， 代入非齐次方程，比较同类项可得 \n",
    "\n",
    "$$\n",
    "M = -\\frac{H}{2\\omega}， N = 0.\n",
    "$$\n",
    "\n",
    "因此方程的通解为\n",
    "$$\n",
    "\\varphi = A\\sin(\\omega t + \\theta) - \\frac{H}{2\\omega}t\\cos pt\n",
    "$$\n",
    "\n",
    "**共振现象**"
   ]
  },
  {
   "cell_type": "markdown",
   "metadata": {},
   "source": [
    "## 有阻尼的强迫振动"
   ]
  },
  {
   "cell_type": "markdown",
   "metadata": {
    "collapsed": false
   },
   "source": [
    "数学摆的微小强迫振动方程可写为\n",
    "\n",
    "$$\n",
    "\\frac{\\mathrm d^2\\varphi}{\\mathrm dt^2} + \\frac{\\mu}{m}\\frac{\\mathrm d\\varphi}{\\mathrm dt} + \\frac{g}{l}\\varphi=\\frac{F(t)}{ml}\n",
    "$$\n",
    "\n",
    "设其中 $\\frac{\\mu}{m} = 2n$, $\\frac{g}{l}=\\omega^2$. \n",
    "\n",
    "下面只讨论小阻尼的情形， $n < \\omega$, 此时对应齐次微分方程的通解为\n",
    "\n",
    "$$\n",
    "\\varphi = Ae^{-nt}\\sin(\\omega_1 t + \\theta)\n",
    "$$\n",
    "\n",
    "下面可以找非齐次方程下面形式的特解\n",
    "$$\n",
    "\\tilde\\varphi = M \\cos pt + N \\sin pt\n",
    "$$\n",
    "\n",
    "代入非齐次方程，比较两端同类项系数可得：\n",
    "\n",
    "$$\n",
    "M = \\frac{-2npH}{(\\omega^2 - p^2)^2 + 4n^2p^2},\\quad N = \\frac{(\\omega^2 - p^2)H}{(\\omega^2 - p^2)+4n^2p^2}\n",
    "$$\n",
    "\n",
    "为了获得更明显的物理意义， 令\n",
    "\n",
    "$$\n",
    "M = H^*\\sin\\theta^*, \\quad N = H^*\\cos \\theta^*\n",
    "$$"
   ]
  },
  {
   "cell_type": "markdown",
   "metadata": {},
   "source": [
    "# 人口模型"
   ]
  },
  {
   "cell_type": "markdown",
   "metadata": {},
   "source": [
    "# 两种生物种群生态模型"
   ]
  },
  {
   "cell_type": "markdown",
   "metadata": {},
   "source": [
    "# Lorenz 方程"
   ]
  },
  {
   "cell_type": "markdown",
   "metadata": {},
   "source": [
    "$$\n",
    "\\begin{cases}\n",
    "\\frac{\\mathrm d x}{\\mathrm d t} = a(y - x)\\\\\n",
    "\\frac{\\mathrm d y}{\\mathrm d t} = -xz + cx - y\\\\\n",
    "\\frac{\\mathrm d z}{\\mathrm d t} = xy - bz\\\\\n",
    "\\end{cases}\n",
    "$$"
   ]
  },
  {
   "cell_type": "markdown",
   "metadata": {},
   "source": [
    "# 化学动力模型"
   ]
  },
  {
   "cell_type": "markdown",
   "metadata": {},
   "source": [
    "# 力学系统中的常微分方程模型"
   ]
  },
  {
   "cell_type": "code",
   "execution_count": null,
   "metadata": {
    "collapsed": true
   },
   "outputs": [],
   "source": []
  }
 ],
 "metadata": {
  "kernelspec": {
   "display_name": "SageMath 7.5.1",
   "language": "",
   "name": "sagemath"
  },
  "language_info": {
   "codemirror_mode": {
    "name": "ipython",
    "version": 2
   },
   "file_extension": ".py",
   "mimetype": "text/x-python",
   "name": "python",
   "nbconvert_exporter": "python",
   "pygments_lexer": "ipython2",
   "version": "2.7.13"
  },
  "latex_envs": {
   "LaTeX_envs_menu_present": true,
   "bibliofile": "biblio.bib",
   "cite_by": "apalike",
   "current_citInitial": 1,
   "eqLabelWithNumbers": true,
   "eqNumInitial": 0
  }
 },
 "nbformat": 4,
 "nbformat_minor": 0
}
