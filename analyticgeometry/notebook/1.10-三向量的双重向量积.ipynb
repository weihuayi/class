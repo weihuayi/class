{
 "cells": [
  {
   "cell_type": "markdown",
   "metadata": {},
   "source": [
    "# 1.10 三向理的双重向量积"
   ]
  },
  {
   "cell_type": "markdown",
   "metadata": {},
   "source": [
    "## 一、双重向量积的概念"
   ]
  },
  {
   "cell_type": "markdown",
   "metadata": {},
   "source": [
    "$$ (\\vec a \\times \\vec b)\\times \\vec c $$\n",
    "\n",
    "**问题：** \n",
    "\n",
    "双重向量积有什么特别的性质？你能从定义中看出来吗？"
   ]
  },
  {
   "cell_type": "markdown",
   "metadata": {},
   "source": [
    "## 二、双重向量积的性质"
   ]
  },
  {
   "cell_type": "markdown",
   "metadata": {},
   "source": [
    "几何性质：$ (\\vec a \\times \\vec b)\\times \\vec c $， $\\vec a$ 和 $\\vec b$ 三向量共面\n",
    "    + 垂直于同一个向量的三个向量共面。\n",
    "    + $\\vec a$ 和 $\\vec b$ 可以线性表示 $(\\vec a \\times \\vec b)\\times \\vec c$\n",
    "\n",
    "**问题：**\n",
    "\n",
    "* 三个向量共面，你能想到什么？"
   ]
  },
  {
   "cell_type": "markdown",
   "metadata": {},
   "source": [
    "**定理 1** \n",
    "$$ \n",
    "(\\vec a \\times \\vec b)\\times \\vec c = (\\vec a\\cdot \\vec c)\\vec b - (\\vec b\\cdot \\vec c)\\vec a \n",
    "$$\n",
    "**证明分析：**\n",
    "1. 先说明特殊情形下，上式成立\n",
    "    + 有零向量\n",
    "    + $\\vec a $, $\\vec b$ 共线\n",
    "    + $\\vec c$ 垂直于 $\\vec a $ 和 $\\vec b$\n",
    "1. $\\vec c = \\vec a$，同理 $\\vec c = \\vec b$\n",
    "1. $\\vec a$, $\\vec b$ 和 $\\vec a\\times \\vec b$ 不共面\n",
    "    + $\\vec c = \\alpha \\vec a + \\beta \\vec b + \\gamma \\vec a \\times \\vec b$\n",
    "    + 两边同时与 $\\vec a\\times \\vec b$ 做向量乘，转化为上一种情况。"
   ]
  },
  {
   "cell_type": "markdown",
   "metadata": {},
   "source": [
    "**双重向量乘不满足结合律**\n",
    "\n",
    "1. $(\\vec a \\times \\vec b)\\times \\vec c$\n",
    "1. $\\vec a \\times (\\vec b \\times \\vec c)$"
   ]
  },
  {
   "cell_type": "markdown",
   "metadata": {},
   "source": [
    "**拉格朗日恒等式**， 对于任意 4 个向量， 有\n",
    "\n",
    "$$\n",
    "(\\vec a\\times \\vec b)\\cdot(\\vec c \\times \\vec d)\n",
    "= \\begin{vmatrix}\n",
    "\\vec a\\cdot\\vec c & \\vec a\\cdot\\vec d\\\\\n",
    "\\vec b\\cdot\\vec c & \\vec b\\cdot\\vec d\n",
    "\\end{vmatrix}\n",
    "$$"
   ]
  },
  {
   "cell_type": "markdown",
   "metadata": {},
   "source": [
    "**证明：**\n",
    "$$\n",
    "(\\vec a\\times \\vec b)\\cdot(\\vec c \\times \\vec d) \n",
    "= [(\\vec a\\times\\vec b)\\times\\vec c]\\cdot\\vec d \n",
    "= [(\\vec a\\cdot \\vec c)\\vec b - (\\vec b\\cdot \\vec c)\\vec a]\\cdot\\vec d\n",
    "= (\\vec a\\cdot \\vec c)(\\vec b\\cdot\\vec d) - (\\vec b\\cdot \\vec c)(\\vec a\\cdot\\vec d)\n",
    "$$"
   ]
  },
  {
   "cell_type": "markdown",
   "metadata": {},
   "source": [
    "**雅可比(Jacobi)恒等式** \n",
    "$$\n",
    "(\\vec a\\times\\vec b)\\times\\vec c  + (\\vec b\\times\\vec c)\\times\\vec a +(\\vec c\\times\\vec a)\\times\\vec b = \\vec 0\n",
    "$$"
   ]
  },
  {
   "cell_type": "markdown",
   "metadata": {},
   "source": [
    "**例 2** \n",
    "$$ (\\vec a\\times \\vec b)\\times(\\vec c \\times \\vec d) $$\n",
    "\n",
    "\n",
    "把 $$(\\vec a\\times \\vec b)$$ 看成整体 \n"
   ]
  },
  {
   "cell_type": "code",
   "execution_count": null,
   "metadata": {},
   "outputs": [],
   "source": []
  }
 ],
 "metadata": {
  "kernelspec": {
   "display_name": "Python 3",
   "language": "python",
   "name": "python3"
  },
  "language_info": {
   "codemirror_mode": {
    "name": "ipython",
    "version": 3
   },
   "file_extension": ".py",
   "mimetype": "text/x-python",
   "name": "python",
   "nbconvert_exporter": "python",
   "pygments_lexer": "ipython3",
   "version": "3.6.8"
  }
 },
 "nbformat": 4,
 "nbformat_minor": 2
}
