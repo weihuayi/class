{
 "cells": [
  {
   "cell_type": "markdown",
   "metadata": {},
   "source": [
    "# 1.5 标架与坐标"
   ]
  },
  {
   "cell_type": "markdown",
   "metadata": {},
   "source": [
    "**定义１．５．１ 标架**，　定点，有序，不共面\n",
    "1. 标架\n",
    "1. 笛卡尔标架\n",
    "1. 笛卡尔直角标架\n",
    "1. 仿射标架\n",
    "\n",
    "**问题：**\n",
    "1. 任给空间三个不共面的向量就可以形成一个标架？\n",
    "1. 与前面知识的联系是什么？为什么定义标架？它将会有什么作用？"
   ]
  },
  {
   "cell_type": "markdown",
   "metadata": {},
   "source": [
    "**定义　１．５．２，　１．５．３：**\n",
    "1. 向量的坐标， 空间点的坐标\n",
    "1. 坐标或分量\n",
    "1. 向径，位置向量\n",
    "1. 关于标架的坐标\n",
    "1. 标架中的定点称为坐标原点　\n",
    "1. 坐标向量\n",
    "1. $\\{O;\\vec{i}, \\vec{j}, \\vec{k}\\}$ 表示直角坐标系．\n",
    "1. 坐标轴\n",
    "1. 坐标面：$xOy$, $yOz$, $xOz$　平面\n",
    "1. 卦限\n",
    "1. 坐标分解式 $\\vec{r}=x\\vec{i}+y\\vec{j}+z\\vec{k}$\n",
    "\n",
    "**问题:**\n",
    "1．引入标架的好处是什么？\n",
    "\n",
    "答：把空间中的点和向量与三元数组一一对应起来．在数学中，一一对应是很重要的关系，可以把一个问题转化为另外一种更容易处理的形式．这是用解析的办法处理几何问题最根本原因．\n",
    "\n",
    "1. 空间中只可以定义一个坐标系？更换坐标系如何更新一个点的坐标？\n",
    "\n",
    "1. 在图形可视化中，坐标系是很重要的概念？"
   ]
  },
  {
   "cell_type": "code",
   "execution_count": 2,
   "metadata": {},
   "outputs": [],
   "source": [
    "import numpy as np\n",
    "import matplotlib.pyplot as plt\n",
    "%matplotlib inline"
   ]
  },
  {
   "cell_type": "markdown",
   "metadata": {},
   "source": [
    "## 四、向量的坐标运算"
   ]
  },
  {
   "cell_type": "markdown",
   "metadata": {},
   "source": [
    "有了坐标系, 可把向量的线性运算转化为坐标的线性运算。"
   ]
  },
  {
   "cell_type": "markdown",
   "metadata": {},
   "source": [
    "**定理 1.5.4** 向量共线<-->线性相关<-->坐标运算"
   ]
  },
  {
   "cell_type": "markdown",
   "metadata": {},
   "source": [
    "**定理 1.5.5** 向量共面<-->线性相关<-->线性方程组存在非零解"
   ]
  },
  {
   "cell_type": "markdown",
   "metadata": {},
   "source": [
    "**定理 1.5.6** \n",
    "1. $\\lambda\\not=-1$\n",
    "1. 坐标隐含了坐标原点这个概念。\n",
    "1. 什么是定比分点？[wiki](https://zh.wikipedia.org/wiki/%E5%AE%9A%E6%AF%94%E5%88%86%E7%82%B9%E5%85%AC%E5%BC%8F)\n",
    "1. 画图分析。\n",
    "1. 把由坐标表述的结论转化为向量表述的结论。\n",
    "1. $\\lambda = 1$ 得到中点公式的推论。"
   ]
  },
  {
   "cell_type": "markdown",
   "metadata": {},
   "source": [
    "**例 1：** 三角形重心的坐标公式。\n",
    "\n",
    "1. 画图分析。\n",
    "1. 一边的中点公式\n",
    "1. 重心把中线 $\\vec{P_1G}=2\\vec{GM_1}$, 把中线分成定比 $\\lambda = 2$\n",
    "1. 加权平均，系数之和为 1. "
   ]
  },
  {
   "cell_type": "markdown",
   "metadata": {},
   "source": [
    "1. 三角形中的其它点能否由三个顶点表示？表示的系数有什么特点？"
   ]
  },
  {
   "cell_type": "markdown",
   "metadata": {},
   "source": [
    "**例 2：** 四面体的重心公式。\n",
    "\n",
    "1. $\\vec{P_1Q_1}$, $O_1$ 是它的定比为 3 的分点 $|\\vec{P_1O_1}| = 3|\\vec{O_1Q_1}|$"
   ]
  },
  {
   "cell_type": "markdown",
   "metadata": {},
   "source": [
    "1. 三角形中的其它点能否由三个顶点表示？表示的系数有什么特点？"
   ]
  },
  {
   "cell_type": "code",
   "execution_count": null,
   "metadata": {},
   "outputs": [],
   "source": []
  }
 ],
 "metadata": {
  "kernelspec": {
   "display_name": "Python 3",
   "language": "python",
   "name": "python3"
  },
  "language_info": {
   "codemirror_mode": {
    "name": "ipython",
    "version": 3
   },
   "file_extension": ".py",
   "mimetype": "text/x-python",
   "name": "python",
   "nbconvert_exporter": "python",
   "pygments_lexer": "ipython3",
   "version": "3.6.8"
  },
  "latex_envs": {
   "LaTeX_envs_menu_present": true,
   "autoclose": false,
   "autocomplete": true,
   "bibliofile": "biblio.bib",
   "cite_by": "apalike",
   "current_citInitial": 1,
   "eqLabelWithNumbers": true,
   "eqNumInitial": 1,
   "hotkeys": {
    "equation": "Ctrl-E",
    "itemize": "Ctrl-I"
   },
   "labels_anchors": false,
   "latex_user_defs": false,
   "report_style_numbering": false,
   "user_envs_cfg": false
  },
  "toc": {
   "base_numbering": 1,
   "nav_menu": {},
   "number_sections": true,
   "sideBar": true,
   "skip_h1_title": false,
   "title_cell": "Table of Contents",
   "title_sidebar": "Contents",
   "toc_cell": false,
   "toc_position": {},
   "toc_section_display": true,
   "toc_window_display": false
  }
 },
 "nbformat": 4,
 "nbformat_minor": 2
}
