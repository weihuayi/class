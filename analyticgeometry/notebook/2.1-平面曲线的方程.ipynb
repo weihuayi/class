{
 "cells": [
  {
   "cell_type": "markdown",
   "metadata": {},
   "source": [
    "# 平面曲线的方程"
   ]
  },
  {
   "cell_type": "markdown",
   "metadata": {},
   "source": [
    "## 一、曲线的方程"
   ]
  },
  {
   "cell_type": "markdown",
   "metadata": {},
   "source": [
    "**定义 1**\n",
    "\n",
    "1. 曲线的方程\n",
    "1. 方程的图形\n",
    "1. 曲线的点和方程的解存在一一对应的关系。"
   ]
  },
  {
   "cell_type": "markdown",
   "metadata": {},
   "source": [
    "注：\n",
    "\n",
    "1. 方程的解是形式就是有序数组？\n",
    "1. 你能想到什么方程表示的图形？\n",
    "    + 直线 \n",
    "    + 圆\n",
    "    + 椭圆\n",
    "    + ....."
   ]
  },
  {
   "cell_type": "markdown",
   "metadata": {},
   "source": [
    "**例 1**， 由圆的定义可得。"
   ]
  },
  {
   "cell_type": "markdown",
   "metadata": {},
   "source": [
    "**例 2**， 设 $M$ 的坐标为 $(x, y)$ , 代入方程。"
   ]
  },
  {
   "cell_type": "markdown",
   "metadata": {},
   "source": [
    "**注意:**\n",
    "\n",
    "1. 方程形式化简过程中，方程不一定等价！"
   ]
  },
  {
   "cell_type": "markdown",
   "metadata": {},
   "source": [
    "## 二，曲线的参数方程"
   ]
  },
  {
   "cell_type": "markdown",
   "metadata": {},
   "source": [
    "* 运动规律\n",
    "    + 坐标之间的关系\n",
    "    + 通过时间建立关系"
   ]
  },
  {
   "cell_type": "markdown",
   "metadata": {},
   "source": [
    "**定义2** \n",
    "\n",
    "1. 向量式参数方程\n",
    "1. 坐标式参数方程\n",
    "1. 曲线上的点和向径一一对应关系。\n",
    "\n",
    "**注：**\n",
    "\n",
    "1. 这个定义有什么要素？\n",
    "    + 参数\n",
    "    + 坐标系\n",
    "    + 曲线上的点对应的向径，由坐标向量来线性表示\n",
    "1. 如果让你来构造参数方程，根据定义，你会怎么做？"
   ]
  },
  {
   "cell_type": "markdown",
   "metadata": {},
   "source": [
    "**例 3 旋轮线或摆线 cycloid**\n",
    "\n",
    "1. 画图分析，建立坐标系。\n",
    "1. 确定适当的参数，这里是转动的角度 $\\theta$.\n",
    "1. 利用向量的语言，把目标轨迹上的点转化为向径向量，找出该向量的线性表示\n",
    "\n",
    "1. 图形的周期性"
   ]
  },
  {
   "cell_type": "markdown",
   "metadata": {},
   "source": [
    "## 三，常见曲线的参数方程"
   ]
  },
  {
   "cell_type": "markdown",
   "metadata": {},
   "source": [
    "**例 4** 一个半径为r 的小圆在半径为R 的大圆内无滑动地滚动，小圆周上一定点P 的运动轨迹称为内摆线(hypocycloid), 内旋轮线"
   ]
  },
  {
   "cell_type": "markdown",
   "metadata": {},
   "source": [
    "1. 画图分析，建立坐标系，$O$\n",
    "1. $\\vec{OC}$ 与 $x$轴的夹角 $\\theta$ 为参数\n",
    "1. 以小圆转动的角度 $\\phi$ 为辅助角\n",
    "1. $\\vec{r} = \\vec{OP} = \\vec{OC} + \\vec{CP}$"
   ]
  },
  {
   "cell_type": "markdown",
   "metadata": {},
   "source": [
    "(2) 一个半径为r的小圆在半径为R的大圆外无滑动地滚动，小圆周上一个定点P的运动轨迹称为**外摆线（epicycloid)**"
   ]
  },
  {
   "cell_type": "markdown",
   "metadata": {},
   "source": [
    "**心脏线**"
   ]
  },
  {
   "cell_type": "markdown",
   "metadata": {},
   "source": [
    "(3) 把线绕在一个固定的圆周上，将线头拉紧后向反方向旋转，以把线从圆周上解放出来，使放出来的部分成为圆的切线，则线头的轨迹所形成的曲线叫做**圆的渐伸线或切展线（involute)**\n",
    "\n",
    "$$\n",
    "\\begin{cases}\n",
    "x = R(\\cos\\theta+\\theta\\sin\\theta)\\\\\n",
    "y = R(\\sin\\theta - \\theta\\cos\\theta)\n",
    "\\end{cases}\n",
    "$$"
   ]
  },
  {
   "cell_type": "markdown",
   "metadata": {},
   "source": [
    "![](./figures/Involut_cir.jpg)"
   ]
  },
  {
   "cell_type": "markdown",
   "metadata": {},
   "source": [
    "https://www.desmos.com"
   ]
  },
  {
   "cell_type": "markdown",
   "metadata": {},
   "source": [
    "**求曲线方程一般需要下面 5 个步骤**\n",
    "\n",
    "1. 选取适当的坐标系\n",
    "1. 在曲线上任取一点，也就是轨迹上的动点\n",
    "1. 根据曲线上的点满足的几何条件写出等式\n",
    "1. 用点的坐标 $x, y, z$ 的关系来表示这个等式，并简化方程;\n",
    "1. 证明所得方程就是曲线的方程，也就是证明它符合定义。"
   ]
  },
  {
   "cell_type": "markdown",
   "metadata": {},
   "source": [
    "**求参数曲线方程的步骤**\n",
    "\n",
    "1. 画图，选取适应的坐标系和参数变量\n",
    "1. 用向量语言表达轨迹向径的向量分解式，分解式中的向量要容易确定方向和长度\n",
    "1. 根据角度，弧长相等等条件确定每个向量分量的坐标表达式\n",
    "1. 推导出参数方程"
   ]
  },
  {
   "cell_type": "markdown",
   "metadata": {},
   "source": [
    "1. 一条曲线对应的参数方程不是唯一的，比如椭圆曲线，可以用角度做参数也可以用，过一点的直线斜率做参数。"
   ]
  },
  {
   "cell_type": "code",
   "execution_count": null,
   "metadata": {},
   "outputs": [],
   "source": []
  }
 ],
 "metadata": {
  "kernelspec": {
   "display_name": "Python 3",
   "language": "python",
   "name": "python3"
  },
  "language_info": {
   "codemirror_mode": {
    "name": "ipython",
    "version": 3
   },
   "file_extension": ".py",
   "mimetype": "text/x-python",
   "name": "python",
   "nbconvert_exporter": "python",
   "pygments_lexer": "ipython3",
   "version": "3.6.8"
  },
  "latex_envs": {
   "LaTeX_envs_menu_present": true,
   "autoclose": false,
   "autocomplete": true,
   "bibliofile": "biblio.bib",
   "cite_by": "apalike",
   "current_citInitial": 1,
   "eqLabelWithNumbers": true,
   "eqNumInitial": 1,
   "hotkeys": {
    "equation": "Ctrl-E",
    "itemize": "Ctrl-I"
   },
   "labels_anchors": false,
   "latex_user_defs": false,
   "report_style_numbering": false,
   "user_envs_cfg": false
  },
  "toc": {
   "base_numbering": 1,
   "nav_menu": {},
   "number_sections": true,
   "sideBar": true,
   "skip_h1_title": false,
   "title_cell": "Table of Contents",
   "title_sidebar": "Contents",
   "toc_cell": false,
   "toc_position": {},
   "toc_section_display": true,
   "toc_window_display": false
  }
 },
 "nbformat": 4,
 "nbformat_minor": 2
}
