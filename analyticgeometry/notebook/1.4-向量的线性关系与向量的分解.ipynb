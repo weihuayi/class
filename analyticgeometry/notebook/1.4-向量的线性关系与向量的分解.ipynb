{
 "cells": [
  {
   "cell_type": "markdown",
   "metadata": {},
   "source": [
    "# 1.4 向量的线性关系与向量的分解"
   ]
  },
  {
   "cell_type": "markdown",
   "metadata": {},
   "source": [
    "**定理　１.4.1 **"
   ]
  },
  {
   "cell_type": "markdown",
   "metadata": {},
   "source": [
    "**定理　１.4.2 **\n",
    "证明解析：\n",
    "* 先证必要性，再证充分性\n",
    "* 共线是共面的一般化\n",
    "* 证明唯一性的的套路，假设存在另一个，推出矛盾。"
   ]
  },
  {
   "cell_type": "markdown",
   "metadata": {},
   "source": [
    "**例　１**\n",
    "解析：\n",
    "\n",
    "1. 画图\n",
    "1. 条件是什么？\n",
    "1. 结论是什么？\n",
    "1. 能否用其它的形式把条件和结论写出来？"
   ]
  },
  {
   "cell_type": "markdown",
   "metadata": {},
   "source": [
    "**例　２**\n",
    "例2  证明四面体对边中点的连线交于一点，且互相平分.\n",
    "解析：\n",
    "1. 画图\n",
    "1. 引入基底\n",
    "1. 在同一个基底下表示三个对边中点连线的中点，还有同一个参考点　$A$"
   ]
  },
  {
   "cell_type": "markdown",
   "metadata": {},
   "source": [
    "**定理　1.4.4**\n",
    "解析：\n",
    "1. 先证必要性，再证充分性\n",
    "1. 回到定义即可证明。"
   ]
  },
  {
   "cell_type": "markdown",
   "metadata": {},
   "source": [
    "**注：** 线性相关是共线、共面等几何概念的一般化之后的概念。"
   ]
  },
  {
   "cell_type": "markdown",
   "metadata": {},
   "source": [
    "**思考题：**"
   ]
  },
  {
   "cell_type": "markdown",
   "metadata": {},
   "source": [
    "1. 两个向量共线的充要条件是线性相关\n",
    "1. 由线性相关的定义，转化为齐次线性方程组存在非零解"
   ]
  }
 ],
 "metadata": {
  "kernelspec": {
   "display_name": "Python 3",
   "language": "python",
   "name": "python3"
  },
  "language_info": {
   "codemirror_mode": {
    "name": "ipython",
    "version": 3
   },
   "file_extension": ".py",
   "mimetype": "text/x-python",
   "name": "python",
   "nbconvert_exporter": "python",
   "pygments_lexer": "ipython3",
   "version": "3.6.8"
  }
 },
 "nbformat": 4,
 "nbformat_minor": 2
}
