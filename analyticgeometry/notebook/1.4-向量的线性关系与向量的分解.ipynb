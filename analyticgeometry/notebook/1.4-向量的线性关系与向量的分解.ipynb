{
 "cells": [
  {
   "cell_type": "markdown",
   "metadata": {},
   "source": [
    "# 1.4 向量的线性关系与向量的分解"
   ]
  },
  {
   "cell_type": "markdown",
   "metadata": {},
   "source": [
    "**定理　１.4.1 ** 共线与线性表示\n",
    "\n",
    "* 充分性，由线性表示证共线\n",
    "* 必要性，由共线，找到一个系数 x，得到线性表示。"
   ]
  },
  {
   "cell_type": "markdown",
   "metadata": {},
   "source": [
    "**定理　１.4.2 ** 共面与线性表示 \n",
    "\n",
    "证明解析：\n",
    "* 前提条件是什么？换成向量的语言？\n",
    "* 必要性，共面证明线性表示。\n",
    "    + 特殊情形，与一个基共线，共线是特殊的共面啊。\n",
    "    + 与两个基底都不共线，做平行四边形，转化为共线线性表示问题。\n",
    "* 充分性，线性表示证明共面。\n",
    "    + 特殊情形， $x$ 和 $y$ 有一个为零，是一个共线问题，已经解决， 是一个特殊的共面问题。\n",
    "    + \n",
    "* 共线是共面的一般化\n",
    "* 证明唯一性的的套路，假设存在另一个，推出矛盾。"
   ]
  },
  {
   "cell_type": "markdown",
   "metadata": {},
   "source": [
    "**例　１**\n",
    "解析：\n",
    "\n",
    "1. 画图，图形化表达题中的条件。\n",
    "1. 待定系数法\n",
    "1. 结论是什么？要把线性组合的系数找出来\n",
    "1. $\\vec{OP}$ 能被哪些向量表达出来？如何和 $\\vec a$ 和 $\\vec b$ 联系起来。\n",
    "1. $\\vec{MP}$ 与 $\\vec{MB}$ 共线。\n",
    "1. $\\vec{NP}$ 与 $\\vec{NA}$ 共线。"
   ]
  },
  {
   "cell_type": "markdown",
   "metadata": {},
   "source": [
    "**例　２**\n",
    "例2  证明四面体对边中点的连线交于一点，且互相平分.\n",
    "解析：\n",
    "1. 画图\n",
    "1. 引入基底\n",
    "1. 在同一个基底下表示三个对边中点连线的中点，还有同一个参考点　$A$\n",
    "1. 证明同一个点有相同的线性表示。 "
   ]
  },
  {
   "cell_type": "markdown",
   "metadata": {},
   "source": [
    "**定理 1.4.3** 三维空间的线性表示\n",
    "\n",
    "解析：\n",
    "\n",
    "1. $\\vec{e}_1$, $\\vec{e}_2$, $\\vec{e}_3$ 不共面， 肯定不等于 0， 也不共线。\n",
    "1. $\\vec{r}$ 如果和两个共面\n",
    "1. 都不共面，利用平行六面体的几何\n",
    "1. 证明唯一性"
   ]
  },
  {
   "cell_type": "markdown",
   "metadata": {},
   "source": [
    "**定理　1.4.4**\n",
    "解析：\n",
    "1. 先证必要性，再证充分性\n",
    "1. 回到**线性组合**定义即可证明。"
   ]
  },
  {
   "cell_type": "markdown",
   "metadata": {},
   "source": [
    "**注：** 线性相关是共线、共面等几何概念的一般化之后的概念。"
   ]
  },
  {
   "cell_type": "markdown",
   "metadata": {},
   "source": [
    "**定理 1.4.5**\n",
    "\n",
    "解析："
   ]
  },
  {
   "cell_type": "markdown",
   "metadata": {},
   "source": [
    "**定理 1.4.6** 两向量共线的充要条件是它们线性相关。\n",
    "\n",
    "解析：\n",
    "1. 必要性， 线性相关---> 共线\n",
    "1. 充分性， 共线\n",
    "    + $\\vec b \\not= \\vec 0$\n",
    "    + $\\vec b = \\vec 0$"
   ]
  },
  {
   "cell_type": "markdown",
   "metadata": {},
   "source": [
    "**定理 1.4.7** 三向量共面的充要条件是它们经性相关"
   ]
  },
  {
   "cell_type": "markdown",
   "metadata": {},
   "source": [
    "**定理 1.4.8** 空间任何四个向量的总是线性相关。\n",
    "\n",
    "解析：\n",
    "1. 分情况讨论\n",
    "1. 任意 3 个共面\n",
    "1. 任意 3 个不共面"
   ]
  },
  {
   "cell_type": "markdown",
   "metadata": {},
   "source": [
    "**例 3**\n",
    "\n",
    "1. 三点共线\n",
    "1. 两个向量共线\n",
    "1. 向量线性相关 表达式"
   ]
  },
  {
   "cell_type": "markdown",
   "metadata": {},
   "source": [
    "**思考题：**"
   ]
  },
  {
   "cell_type": "markdown",
   "metadata": {},
   "source": [
    "1. 两个向量共线的充要条件是线性相关\n",
    "1. 由线性相关的定义，转化为齐次线性方程组存在非零解"
   ]
  }
 ],
 "metadata": {
  "kernelspec": {
   "display_name": "Python 3",
   "language": "python",
   "name": "python3"
  },
  "language_info": {
   "codemirror_mode": {
    "name": "ipython",
    "version": 3
   },
   "file_extension": ".py",
   "mimetype": "text/x-python",
   "name": "python",
   "nbconvert_exporter": "python",
   "pygments_lexer": "ipython3",
   "version": "3.6.8"
  },
  "latex_envs": {
   "LaTeX_envs_menu_present": true,
   "autoclose": false,
   "autocomplete": true,
   "bibliofile": "biblio.bib",
   "cite_by": "apalike",
   "current_citInitial": 1,
   "eqLabelWithNumbers": true,
   "eqNumInitial": 1,
   "hotkeys": {
    "equation": "Ctrl-E",
    "itemize": "Ctrl-I"
   },
   "labels_anchors": false,
   "latex_user_defs": false,
   "report_style_numbering": false,
   "user_envs_cfg": false
  },
  "toc": {
   "base_numbering": 1,
   "nav_menu": {},
   "number_sections": true,
   "sideBar": true,
   "skip_h1_title": false,
   "title_cell": "Table of Contents",
   "title_sidebar": "Contents",
   "toc_cell": false,
   "toc_position": {},
   "toc_section_display": true,
   "toc_window_display": false
  }
 },
 "nbformat": 4,
 "nbformat_minor": 2
}
