{
 "cells": [
  {
   "cell_type": "markdown",
   "metadata": {},
   "source": [
    "# 两向量的数量积"
   ]
  },
  {
   "cell_type": "markdown",
   "metadata": {},
   "source": [
    "##  实例"
   ]
  },
  {
   "cell_type": "markdown",
   "metadata": {},
   "source": [
    "解释功的定义"
   ]
  },
  {
   "cell_type": "markdown",
   "metadata": {},
   "source": [
    "### 一、数量积的概念"
   ]
  },
  {
   "cell_type": "markdown",
   "metadata": {},
   "source": [
    "** 定义 1.7.1 ** "
   ]
  },
  {
   "cell_type": "markdown",
   "metadata": {},
   "source": [
    "1. 数量积是一个数\n",
    "1. 数量积(内积)与向量射影的关系"
   ]
  },
  {
   "cell_type": "markdown",
   "metadata": {},
   "source": [
    "** 定理 1.7.1**\n",
    "1. 向量垂直的定义 \n",
    "1. 零向量和任何向量"
   ]
  },
  {
   "cell_type": "markdown",
   "metadata": {},
   "source": [
    "### 二、数量积的运算规律"
   ]
  },
  {
   "cell_type": "markdown",
   "metadata": {},
   "source": [
    "1. 交换律\n",
    "1. 关于数乘因子的结合律\n",
    "1. 分配律\n",
    "1. 向量自身数量积的非负性，这里定义了**向量平方的意义：** 向量自身的内积"
   ]
  },
  {
   "cell_type": "markdown",
   "metadata": {},
   "source": [
    "**例 1**"
   ]
  },
  {
   "cell_type": "markdown",
   "metadata": {},
   "source": [
    "1. 理解题意， 题目的描述**对角线的平方和**和**各边的平方和**是什么意思？\n",
    "1. 画图理解，定义两个向量 $\\vec a$ 和 $\\vec b$， 因为两个向量不多不少刚好决定了一个平行四边形\n",
    "1. 用 $\\vec a$ 和 $\\vec b$ 表达对角线向量。\n",
    "1. 证明两者之间的关系， 这里有有一个**长度平方到向量平方的转换**。"
   ]
  },
  {
   "cell_type": "markdown",
   "metadata": {},
   "source": [
    "**例 2**"
   ]
  },
  {
   "cell_type": "markdown",
   "metadata": {},
   "source": [
    "1. 画图理解题意\n",
    "1. $A$、$B$对应两边的高交于一点 $P$ \n",
    "1. 证明 $\\vec{PC}$ 垂直于 $C$ 的对边。\n",
    "1. 用单字母的表示向量"
   ]
  },
  {
   "cell_type": "markdown",
   "metadata": {},
   "source": [
    "**例 3**"
   ]
  },
  {
   "cell_type": "markdown",
   "metadata": {},
   "source": [
    "1. 画图理解题意\n",
    "1. 用向量表示直线，然后用向量重新表达题目中的条件\n",
    "1. 直线相交就是向量不共线\n",
    "1. 线性表示结合向量垂直条件即可证明"
   ]
  },
  {
   "cell_type": "markdown",
   "metadata": {},
   "source": [
    "## 三、数量积的坐标表示"
   ]
  },
  {
   "cell_type": "markdown",
   "metadata": {},
   "source": [
    "**定理 1.7.3**"
   ]
  },
  {
   "cell_type": "markdown",
   "metadata": {},
   "source": [
    "1. 在直角坐标系下 $\\{O;\\vec{i}, \\vec{j}, \\vec{k}\\}$\n",
    "1. 这是一个非常重要的定理，**把向量数量积(内积)**的运算和坐标运算结合一一对应起来！\n",
    "1. 推论说明向量和坐标向量的内积就是坐标分量"
   ]
  },
  {
   "cell_type": "markdown",
   "metadata": {},
   "source": [
    "** 1)** 两点距离\n",
    "** 2)** 向量的方向余弦，相对坐标轴(坐标向量)来说\n",
    "** 3)** 向量的交角\n",
    "    + 向量内积的原始定义\n",
    "    + 向量内积与坐标运算的关系"
   ]
  },
  {
   "cell_type": "markdown",
   "metadata": {},
   "source": [
    "**例 4** \n",
    "1. 射影与射影向量"
   ]
  },
  {
   "cell_type": "markdown",
   "metadata": {},
   "source": [
    "**例 5**\n",
    "1. 向量的数量积定义\n",
    "1. 本质上是余弦的平方是一个小于等于 1 的数"
   ]
  }
 ],
 "metadata": {
  "kernelspec": {
   "display_name": "Python 3",
   "language": "python",
   "name": "python3"
  },
  "language_info": {
   "codemirror_mode": {
    "name": "ipython",
    "version": 3
   },
   "file_extension": ".py",
   "mimetype": "text/x-python",
   "name": "python",
   "nbconvert_exporter": "python",
   "pygments_lexer": "ipython3",
   "version": "3.6.8"
  }
 },
 "nbformat": 4,
 "nbformat_minor": 2
}
