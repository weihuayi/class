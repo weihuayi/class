{
 "cells": [
  {
   "cell_type": "markdown",
   "metadata": {},
   "source": [
    "# 1.6 向量在轴上的射影"
   ]
  },
  {
   "cell_type": "markdown",
   "metadata": {},
   "source": [
    "## 空间一点在轴上的射影"
   ]
  },
  {
   "cell_type": "markdown",
   "metadata": {},
   "source": [
    "## 空间一向量在轴上的射影"
   ]
  },
  {
   "cell_type": "markdown",
   "metadata": {},
   "source": [
    "* 轴是有方向的直线\n",
    "* 射影是一个实数 $x$\n",
    "* 射影向量是一个向量 $x\\vec e$\n",
    "\n",
    "定义一个从向量空间到实数空间的射影 \n",
    "\n",
    "$$ P_l(\\vec{AB}) \\in R $$\n",
    "\n",
    "$$ \n",
    "P_l(\\vec a + \\vec b) = P_l(\\vec a) + P_l(\\vec b)\n",
    "$$"
   ]
  },
  {
   "cell_type": "markdown",
   "metadata": {},
   "source": [
    "**例 1：** "
   ]
  },
  {
   "cell_type": "markdown",
   "metadata": {},
   "source": [
    "**证：** 射影向量的定义，加上单位向量，射影向量和单位向量之间的关系。\n",
    "\n",
    "1. $\\vec{OP} = \\vec a$ \n",
    "1. 点 $P$ 的在三个轴上的射影 $A, B, C$\n",
    "1. $P_{\\vec i}(\\vec{OP})\\vec i = \\vec{OA} = X\\vec i$\n",
    "1. $P_{\\vec j}(\\vec{OP})\\vec j = \\vec{OA} = Y\\vec j$\n",
    "1. $P_{\\vec k}(\\vec{OP})\\vec k = \\vec{OA} = Z\\vec k$"
   ]
  },
  {
   "cell_type": "markdown",
   "metadata": {},
   "source": [
    "**例 2：**\n",
    "1. 代入合并同类项\n",
    "1. 向量的线性运算， 数乘和加法运算"
   ]
  },
  {
   "cell_type": "markdown",
   "metadata": {},
   "source": [
    "## 向量的射影定理"
   ]
  },
  {
   "cell_type": "markdown",
   "metadata": {},
   "source": [
    "** 定理 1.6.1** \n",
    "\n",
    "1. 分类讨论\n",
    "1. 利用点在轴上的射影定义，构造直角三角形"
   ]
  },
  {
   "cell_type": "markdown",
   "metadata": {},
   "source": [
    "** 定理 1.6.2 **\n",
    "\n",
    "1. 画图， 由射影向量相等到射影相等\n",
    "1. 引入轴的单位向量。"
   ]
  },
  {
   "cell_type": "code",
   "execution_count": null,
   "metadata": {},
   "outputs": [],
   "source": []
  }
 ],
 "metadata": {
  "kernelspec": {
   "display_name": "Python 3",
   "language": "python",
   "name": "python3"
  },
  "language_info": {
   "codemirror_mode": {
    "name": "ipython",
    "version": 3
   },
   "file_extension": ".py",
   "mimetype": "text/x-python",
   "name": "python",
   "nbconvert_exporter": "python",
   "pygments_lexer": "ipython3",
   "version": "3.6.8"
  },
  "latex_envs": {
   "LaTeX_envs_menu_present": true,
   "autoclose": false,
   "autocomplete": true,
   "bibliofile": "biblio.bib",
   "cite_by": "apalike",
   "current_citInitial": 1,
   "eqLabelWithNumbers": true,
   "eqNumInitial": 1,
   "hotkeys": {
    "equation": "Ctrl-E",
    "itemize": "Ctrl-I"
   },
   "labels_anchors": false,
   "latex_user_defs": false,
   "report_style_numbering": false,
   "user_envs_cfg": false
  },
  "toc": {
   "base_numbering": 1,
   "nav_menu": {},
   "number_sections": true,
   "sideBar": true,
   "skip_h1_title": false,
   "title_cell": "Table of Contents",
   "title_sidebar": "Contents",
   "toc_cell": false,
   "toc_position": {},
   "toc_section_display": true,
   "toc_window_display": false
  }
 },
 "nbformat": 4,
 "nbformat_minor": 2
}
