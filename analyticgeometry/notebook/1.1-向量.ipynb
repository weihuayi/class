{
 "cells": [
  {
   "cell_type": "markdown",
   "metadata": {},
   "source": [
    "# 1.1 向量"
   ]
  },
  {
   "cell_type": "markdown",
   "metadata": {},
   "source": [
    "**固定向量**\n",
    "\n",
    "在一些上下文中，尤其在物理学领域，有些向量会与起点有关（如一个力与其的作用点有关，质点运动速度与该质点的位置有关），因而假设向量有确定的起点和终点[1]，当起点和终点改变后，构成的向量就不再是原来的向量。这样的向量也被称为固定向量。例子之一是运动学中常见的物理量位置矢量。\n",
    "\n",
    "**自由向量**\n",
    "\n",
    "在另一些时候，由于向量的共性都具有大小和方向，会认为向量的起点和终点并不那么重要。两个起点不一样的向量，只要大小相等，方向相同，就可以称为是同一个向量。这样的向量被称为自由向量。在数学中，一般只研究自由向量，并且数学中所指的向量就是指自由向量。也就是只要大小以及方向一样，即可视为同一向量，与向量的起始点并无关系。"
   ]
  },
  {
   "cell_type": "markdown",
   "metadata": {},
   "source": [
    "所有的向量组成一个集合。\n",
    "\n",
    "* 这里讨论的向量默认是三维空间中的向量\n",
    "\n",
    "* 这个集合中的有多少个不同的向量？\n",
    "* 向量之间有什么关系？\n",
    "* 能否由尽量少的有限个向量，得到其它所有的向量？由 1 出发，定义加法，可以得到所有的自然数"
   ]
  },
  {
   "cell_type": "markdown",
   "metadata": {},
   "source": [
    "**定义 1.1.4** **共线** 不是**重合**。这里说的是**自由向量**。"
   ]
  },
  {
   "cell_type": "markdown",
   "metadata": {},
   "source": [
    "**定义 1.1.5** **共面** 不是**重合**。这里说的是**自由向量**。"
   ]
  },
  {
   "cell_type": "code",
   "execution_count": null,
   "metadata": {},
   "outputs": [],
   "source": []
  }
 ],
 "metadata": {
  "kernelspec": {
   "display_name": "Python 3",
   "language": "python",
   "name": "python3"
  },
  "language_info": {
   "codemirror_mode": {
    "name": "ipython",
    "version": 3
   },
   "file_extension": ".py",
   "mimetype": "text/x-python",
   "name": "python",
   "nbconvert_exporter": "python",
   "pygments_lexer": "ipython3",
   "version": "3.8.5"
  },
  "toc": {
   "base_numbering": 1,
   "nav_menu": {},
   "number_sections": true,
   "sideBar": true,
   "skip_h1_title": false,
   "title_cell": "Table of Contents",
   "title_sidebar": "Contents",
   "toc_cell": false,
   "toc_position": {},
   "toc_section_display": true,
   "toc_window_display": false
  }
 },
 "nbformat": 4,
 "nbformat_minor": 2
}
