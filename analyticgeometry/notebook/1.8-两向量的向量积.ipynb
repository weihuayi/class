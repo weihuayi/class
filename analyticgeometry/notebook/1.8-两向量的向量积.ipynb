{
 "cells": [
  {
   "cell_type": "markdown",
   "metadata": {},
   "source": [
    "# 1.8 两向量的向量积"
   ]
  },
  {
   "cell_type": "markdown",
   "metadata": {},
   "source": [
    "力矩(Torque, moment, moment of force): 作用力促使物体绕着转动轴或支点转动的趋向，[1]称为力矩（torque），也就是扭转的力\n",
    "\n",
    "![力矩](./figures/torque.png)\n",
    "\n",
    "* 大小为 $\\tau = |\\boldsymbol r|\\cdot |\\boldsymbol F| \\sin\\theta$\n",
    "* 方向右手法则 $\\boldsymbol \\tau = \\boldsymbol r\\times \\boldsymbol F$\n",
    "* 右手标架 $\\{O;\\vec a, \\vec b, \\vec a\\times \\vec b\\}$"
   ]
  },
  {
   "cell_type": "markdown",
   "metadata": {},
   "source": [
    "## 一、向量积的概念"
   ]
  },
  {
   "cell_type": "markdown",
   "metadata": {},
   "source": [
    "**定理 1.8.1** \n",
    "\n",
    "1. 几何中为平行四边形的面积 "
   ]
  },
  {
   "cell_type": "markdown",
   "metadata": {},
   "source": [
    "**定理 1.8.2**\n",
    "1. 必要性， 由共线的定义，角度为0\n",
    "1. 充分性， 由向量积为0，及其定义推出共线。\n",
    "1. 意义，把一个抽象的概念变成一个可计算的概念。"
   ]
  },
  {
   "cell_type": "markdown",
   "metadata": {},
   "source": [
    "## 二、向量积的运算"
   ]
  },
  {
   "cell_type": "markdown",
   "metadata": {},
   "source": [
    "**定理 1.8.3** 反交换"
   ]
  },
  {
   "cell_type": "markdown",
   "metadata": {},
   "source": [
    "**定理 1.8.4** 数乘结合律"
   ]
  },
  {
   "cell_type": "markdown",
   "metadata": {},
   "source": [
    "**定理 1.8.5** 向量积与向量加法运算的分配律"
   ]
  },
  {
   "cell_type": "markdown",
   "metadata": {},
   "source": [
    "**例 1** $$ (\\vec a - \\vec b)\\times(\\vec a + \\vec b) = 2(\\vec a \\times \\vec b) $$"
   ]
  },
  {
   "cell_type": "markdown",
   "metadata": {},
   "source": [
    "**例 2** $$ (\\vec a \\times \\vec b)^2 + (\\vec a \\cdot \\vec b)^2 = {\\vec a}^2 {\\vec b}^2 $$"
   ]
  },
  {
   "cell_type": "markdown",
   "metadata": {},
   "source": [
    "## 三、向量积的坐标表示(直角坐标系下)"
   ]
  },
  {
   "cell_type": "markdown",
   "metadata": {},
   "source": [
    "**定理 1.8.6** \n",
    "$$\n",
    "\\vec a \\times \\vec b = \n",
    "\\begin{vmatrix}\n",
    "\\vec i & \\vec j & \\vec k\\\\\n",
    "X_1 & Y_1 & Z_1 \\\\\n",
    "X_2 & Y_2 & Z_2 \n",
    "\\end{vmatrix}\n",
    "$$\n",
    "\n",
    "1. 在坐标表示下，利用向量积的运算律，转化为坐标向量 $\\vec i, \\vec j, \\vec k$ 的向量积的问题。\n",
    "1. 由坐标向量的相互垂直关系，及行列式的定义得出最终结论。"
   ]
  },
  {
   "cell_type": "markdown",
   "metadata": {},
   "source": [
    "**例 3** 已知空间 3 点的坐标，求相应三角形的面积，高\n",
    "\n",
    "1. 向量积\n",
    "1. 向量长度\n",
    "1. 向量运算与几何实体的关系"
   ]
  },
  {
   "cell_type": "code",
   "execution_count": null,
   "metadata": {},
   "outputs": [],
   "source": []
  }
 ],
 "metadata": {
  "kernelspec": {
   "display_name": "Python 3",
   "language": "python",
   "name": "python3"
  },
  "language_info": {
   "codemirror_mode": {
    "name": "ipython",
    "version": 3
   },
   "file_extension": ".py",
   "mimetype": "text/x-python",
   "name": "python",
   "nbconvert_exporter": "python",
   "pygments_lexer": "ipython3",
   "version": "3.6.8"
  }
 },
 "nbformat": 4,
 "nbformat_minor": 2
}
