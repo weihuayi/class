{
 "cells": [
  {
   "cell_type": "markdown",
   "metadata": {},
   "source": [
    "# 二次曲线的一般理论"
   ]
  },
  {
   "cell_type": "markdown",
   "metadata": {},
   "source": [
    "二次曲线方程的一般形式为：\n",
    "\n",
    "$$\n",
    "F(x, y) = a_{11}x^2 + 2a_{12}xy + a_{22}y^2 + 2a_{13}x + 2 a_{23}y + a_{33}\n",
    "$$"
   ]
  },
  {
   "cell_type": "markdown",
   "metadata": {},
   "source": [
    "$$\n",
    "F(x, y) = \n",
    "\\begin{bmatrix}\n",
    "x & y & 1\n",
    "\\end{bmatrix}\n",
    "\\begin{bmatrix}\n",
    "a_{11} & a_{12} & a_{13}\\\\\n",
    "a_{12} & a_{22} & a_{23}\\\\\n",
    "a_{13} & a_{23} & a_{33}\n",
    "\\end{bmatrix}\n",
    "\\begin{bmatrix}\n",
    "x \\\\ y \\\\ 1\n",
    "\\end{bmatrix}\n",
    "$$\n",
    "\n",
    "$$\n",
    "F_1(x, y) = \n",
    "\\begin{bmatrix}\n",
    "a_{11} & a_{12} & a_{13}\n",
    "\\end{bmatrix}\n",
    "\\begin{bmatrix}\n",
    "x \\\\ y \\\\ 1\n",
    "\\end{bmatrix}\n",
    "$$\n",
    "\n",
    "$$\n",
    "F_2(x, y) = \n",
    "\\begin{bmatrix}\n",
    "a_{12} & a_{22} & a_{23}\n",
    "\\end{bmatrix}\n",
    "\\begin{bmatrix}\n",
    "x \\\\ y \\\\ 1\n",
    "\\end{bmatrix}\n",
    "$$\n",
    "\n",
    "$$\n",
    "F_3(x, y) = \n",
    "\\begin{bmatrix}\n",
    "a_{13} & a_{23} & a_{33}\n",
    "\\end{bmatrix}\n",
    "\\begin{bmatrix}\n",
    "x \\\\ y \\\\ 1\n",
    "\\end{bmatrix}\n",
    "$$\n",
    "\n",
    "$$\n",
    "\\Phi(x, y) = \n",
    "\\begin{bmatrix}\n",
    "x & y\n",
    "\\end{bmatrix}\n",
    "\\begin{bmatrix}\n",
    "a_{11} & a_{12}\\\\ a_{12} & a_{22}\n",
    "\\end{bmatrix}\n",
    "\\begin{bmatrix}\n",
    "x \\\\ y\n",
    "\\end{bmatrix}\n",
    "$$"
   ]
  },
  {
   "cell_type": "markdown",
   "metadata": {},
   "source": [
    "对应的矩阵：\n",
    "\n",
    "$$\n",
    "\\begin{aligned}\n",
    "A = & \\begin{bmatrix}\n",
    "a_{11} & a_{12} & a_{13}\\\\\n",
    "a_{12} & a_{22} & a_{23}\\\\\n",
    "a_{13} & a_{23} & a_{33}\n",
    "\\end{bmatrix}\\\\\n",
    "A^* = & \\begin{bmatrix}\n",
    "a_{11} & a_{12}\\\\\n",
    "a_{12} & a_{22}\n",
    "\\end{bmatrix}\n",
    "\\end{aligned}\n",
    "$$"
   ]
  },
  {
   "cell_type": "markdown",
   "metadata": {},
   "source": [
    "$$\n",
    "\\begin{aligned}\n",
    "I_1 = & a_{11} + a_{22}\\\\\n",
    "I_2 = & \\begin{vmatrix}\n",
    "a_{11} & a_{12}\\\\\n",
    "a_{12} & a_{22}\n",
    "\\end{vmatrix}\\\\\n",
    "I_3 = &  \\begin{vmatrix}\n",
    "a_{11} & a_{12} & a_{13}\\\\\n",
    "a_{12} & a_{22} & a_{23}\\\\\n",
    "a_{13} & a_{23} & a_{33}\n",
    "\\end{vmatrix}\\\\\n",
    "K_1 = & \\begin{vmatrix}\n",
    "a_{11} & a_{13}\\\\\n",
    "a_{13} & a_{33}\n",
    "\\end{vmatrix} + \n",
    "\\begin{vmatrix}\n",
    "a_{22} & a_{23}\\\\\n",
    "a_{23} & a_{33}\n",
    "\\end{vmatrix}\\\\\n",
    "\\end{aligned}\n",
    "$$"
   ]
  },
  {
   "cell_type": "markdown",
   "metadata": {},
   "source": [
    "## 直线与二次曲线相交"
   ]
  },
  {
   "cell_type": "markdown",
   "metadata": {},
   "source": [
    "$$\n",
    "\\begin{aligned}\n",
    "x =& x_0 + X t\\\\\n",
    "y =& y_0 + Y t\n",
    "\\end{aligned}\n",
    "$$"
   ]
  },
  {
   "cell_type": "code",
   "execution_count": null,
   "metadata": {},
   "outputs": [],
   "source": []
  }
 ],
 "metadata": {
  "kernelspec": {
   "display_name": "Python 3",
   "language": "python",
   "name": "python3"
  },
  "language_info": {
   "codemirror_mode": {
    "name": "ipython",
    "version": 3
   },
   "file_extension": ".py",
   "mimetype": "text/x-python",
   "name": "python",
   "nbconvert_exporter": "python",
   "pygments_lexer": "ipython3",
   "version": "3.6.8"
  },
  "latex_envs": {
   "LaTeX_envs_menu_present": true,
   "autoclose": false,
   "autocomplete": true,
   "bibliofile": "biblio.bib",
   "cite_by": "apalike",
   "current_citInitial": 1,
   "eqLabelWithNumbers": true,
   "eqNumInitial": 1,
   "hotkeys": {
    "equation": "Ctrl-E",
    "itemize": "Ctrl-I"
   },
   "labels_anchors": false,
   "latex_user_defs": false,
   "report_style_numbering": false,
   "user_envs_cfg": false
  },
  "toc": {
   "base_numbering": 1,
   "nav_menu": {},
   "number_sections": true,
   "sideBar": true,
   "skip_h1_title": false,
   "title_cell": "Table of Contents",
   "title_sidebar": "Contents",
   "toc_cell": false,
   "toc_position": {},
   "toc_section_display": true,
   "toc_window_display": false
  }
 },
 "nbformat": 4,
 "nbformat_minor": 2
}
