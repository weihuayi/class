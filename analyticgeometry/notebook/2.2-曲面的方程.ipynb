{
 "cells": [
  {
   "cell_type": "markdown",
   "metadata": {},
   "source": [
    "# 曲面的方程"
   ]
  },
  {
   "cell_type": "markdown",
   "metadata": {},
   "source": [
    "把曲面上点的特征性质用点的 $x$, $y$ 和 $z$ 之间的关系式来表达。"
   ]
  },
  {
   "cell_type": "markdown",
   "metadata": {},
   "source": [
    "## 一，曲面的方程"
   ]
  },
  {
   "cell_type": "markdown",
   "metadata": {},
   "source": [
    "1. 曲面的方程\n",
    "1. 方程的图形\n",
    "\n",
    "1. 隐函数\n",
    "1. 显函数"
   ]
  },
  {
   "cell_type": "markdown",
   "metadata": {},
   "source": [
    "曲面的方程可能有如下情况：\n",
    "\n",
    "* 虚曲面\n",
    "* 只有一点\n",
    "* 一个曲线上的点满足\n",
    "* 表示一个曲面"
   ]
  },
  {
   "cell_type": "markdown",
   "metadata": {},
   "source": [
    "**例 1** 利用距离来定义方程。"
   ]
  },
  {
   "cell_type": "markdown",
   "metadata": {},
   "source": [
    "**例 2** $ x + y = 0$ 和 $ x - y = 0$ "
   ]
  },
  {
   "cell_type": "markdown",
   "metadata": {},
   "source": [
    "**例 3** $x = 0$"
   ]
  },
  {
   "cell_type": "markdown",
   "metadata": {},
   "source": [
    "**例 4** $ y = k $"
   ]
  },
  {
   "cell_type": "markdown",
   "metadata": {},
   "source": [
    "**例 5** $(x-a)^2 + (y-b)^2 + (z-c)^2 = r^2$"
   ]
  },
  {
   "cell_type": "markdown",
   "metadata": {},
   "source": [
    "* 球面的方程是一个没有交叉项、平方项系数相等的三元二次方程\n",
    "* 点球\n",
    "* 虚球面\n",
    "* 球面"
   ]
  },
  {
   "cell_type": "markdown",
   "metadata": {},
   "source": [
    "## 二，曲面的参数方程"
   ]
  },
  {
   "cell_type": "markdown",
   "metadata": {},
   "source": [
    "**定义 2.2.2** \n",
    "\n",
    "* 向量式参数方程\n",
    "* 坐标式参数方程"
   ]
  },
  {
   "cell_type": "markdown",
   "metadata": {},
   "source": [
    "**例 6** $-\\frac{\\pi}{2} \\leq \\theta \\leq \\frac{\\pi}{2}$ "
   ]
  },
  {
   "cell_type": "markdown",
   "metadata": {},
   "source": [
    "1. 建立坐标系\n",
    "1. 向量语言描述曲面上的动点\n",
    "1. 选择参数 $\\theta$, $\\phi$\n",
    "1. 用有序数组表示向量\n",
    "\n",
    "**注意：** 空间曲面的参数方程的表达式不是唯一的。 \n",
    "球面上有两个特殊点 $(0, 0, \\pm r)$， 其它点"
   ]
  },
  {
   "cell_type": "markdown",
   "metadata": {},
   "source": [
    "**例 7** 同上，两个参数"
   ]
  },
  {
   "cell_type": "markdown",
   "metadata": {},
   "source": [
    "**注：** 求空间曲面或曲线的参数方程时，经常是作向径 $\\vec{OP}$ 的坐标折线，将$\\vec{OP}$ 分解为平行于坐标轴的三个向量之和，这样便于找出 $x$, $y$, $z$ 与参数之间的函数关系."
   ]
  },
  {
   "cell_type": "markdown",
   "metadata": {},
   "source": [
    "##  三，球坐标系与柱坐标系"
   ]
  },
  {
   "cell_type": "markdown",
   "metadata": {},
   "source": [
    "**1.球坐标系**\n",
    "\n",
    "$\\rho \\geq 0 $\n",
    "\n",
    "$-\\pi < \\varphi \\leq \\pi$\n",
    "\n",
    "$-\\frac{\\pi}{2} \\leq \\theta \\leq \\frac{\\pi}{2} $"
   ]
  },
  {
   "cell_type": "markdown",
   "metadata": {},
   "source": [
    "**2.柱坐标系** $M(\\rho, \\varphi, u)$"
   ]
  },
  {
   "cell_type": "markdown",
   "metadata": {},
   "source": [
    "$ x = \\rho\\cos\\varphi, \\rho \\geq 0,$\n",
    "\n",
    "$ y = \\rho\\sin\\varphi, -\\pi < \\varphi \\leq \\pi, $\n",
    "\n",
    "$ z = u, -\\infty < u < \\infty $ "
   ]
  },
  {
   "cell_type": "markdown",
   "metadata": {},
   "source": [
    "**注：** 坐标系是一种一一对应关系。"
   ]
  },
  {
   "cell_type": "markdown",
   "metadata": {},
   "source": [
    "在球坐标系下或柱坐标系下一些曲面的方程表达非常简单"
   ]
  },
  {
   "cell_type": "markdown",
   "metadata": {},
   "source": [
    "$\\rho = a$ 球面\n",
    "\n",
    "$\\varphi = \\varphi_0$ 半平面\n",
    "\n",
    "$ \\theta = \\theta_0$ 圆锥面"
   ]
  },
  {
   "cell_type": "markdown",
   "metadata": {},
   "source": [
    "$\\rho = a$ 柱面\n",
    "\n",
    "$\\varphi = \\alpha$ 半平面"
   ]
  },
  {
   "cell_type": "code",
   "execution_count": null,
   "metadata": {},
   "outputs": [],
   "source": []
  }
 ],
 "metadata": {
  "kernelspec": {
   "display_name": "Python 3",
   "language": "python",
   "name": "python3"
  },
  "language_info": {
   "codemirror_mode": {
    "name": "ipython",
    "version": 3
   },
   "file_extension": ".py",
   "mimetype": "text/x-python",
   "name": "python",
   "nbconvert_exporter": "python",
   "pygments_lexer": "ipython3",
   "version": "3.6.8"
  },
  "latex_envs": {
   "LaTeX_envs_menu_present": true,
   "autoclose": false,
   "autocomplete": true,
   "bibliofile": "biblio.bib",
   "cite_by": "apalike",
   "current_citInitial": 1,
   "eqLabelWithNumbers": true,
   "eqNumInitial": 1,
   "hotkeys": {
    "equation": "Ctrl-E",
    "itemize": "Ctrl-I"
   },
   "labels_anchors": false,
   "latex_user_defs": false,
   "report_style_numbering": false,
   "user_envs_cfg": false
  },
  "toc": {
   "base_numbering": 1,
   "nav_menu": {},
   "number_sections": true,
   "sideBar": true,
   "skip_h1_title": false,
   "title_cell": "Table of Contents",
   "title_sidebar": "Contents",
   "toc_cell": false,
   "toc_position": {},
   "toc_section_display": true,
   "toc_window_display": false
  }
 },
 "nbformat": 4,
 "nbformat_minor": 2
}
