{
 "cells": [
  {
   "cell_type": "markdown",
   "metadata": {},
   "source": [
    "# 向量的加法"
   ]
  },
  {
   "cell_type": "markdown",
   "metadata": {},
   "source": [
    "* 向量的抽象表示\n",
    "* 向量的几何表示"
   ]
  },
  {
   "cell_type": "markdown",
   "metadata": {},
   "source": [
    "* 三角形法则　是对向量的几何表示而言的\n",
    "* 平行四边形法则"
   ]
  },
  {
   "cell_type": "markdown",
   "metadata": {},
   "source": [
    "** 例 1：**\n",
    "\n",
    "1. 画图\n",
    "1. 必要性， 可以构成三角形， 证明和是零矢量\n",
    "    + 由单字母表示，转化为有向线段表表示，利用多边形法则，得到起点和终点重和的向量\n",
    "1. 充分性，和为零矢量，证明可构成三角形 \n",
    "    + 由单字母表示，转化 $\\vec a$ 和 $\\vec b$ 为有向线段表示，得到 $\\vec c$ 也可以有向线段表示，所以构成三角形。"
   ]
  },
  {
   "cell_type": "markdown",
   "metadata": {},
   "source": [
    "** 例 2：**\n",
    "\n",
    "1. 画图，标记条件\n",
    "1. 多边形法则"
   ]
  },
  {
   "cell_type": "markdown",
   "metadata": {},
   "source": [
    "**例 3:** \n",
    "1. 画图，标记条件\n",
    "1. 平行四边形的定义是什么？对边平行且长度相等\n",
    "1. 条件是什么？对角线平分\n",
    "1. 条件如何转化为向量的语言。"
   ]
  }
 ],
 "metadata": {
  "kernelspec": {
   "display_name": "Python 3",
   "language": "python",
   "name": "python3"
  },
  "language_info": {
   "codemirror_mode": {
    "name": "ipython",
    "version": 3
   },
   "file_extension": ".py",
   "mimetype": "text/x-python",
   "name": "python",
   "nbconvert_exporter": "python",
   "pygments_lexer": "ipython3",
   "version": "3.6.8"
  },
  "latex_envs": {
   "LaTeX_envs_menu_present": true,
   "autoclose": false,
   "autocomplete": true,
   "bibliofile": "biblio.bib",
   "cite_by": "apalike",
   "current_citInitial": 1,
   "eqLabelWithNumbers": true,
   "eqNumInitial": 1,
   "hotkeys": {
    "equation": "Ctrl-E",
    "itemize": "Ctrl-I"
   },
   "labels_anchors": false,
   "latex_user_defs": false,
   "report_style_numbering": false,
   "user_envs_cfg": false
  },
  "toc": {
   "base_numbering": 1,
   "nav_menu": {},
   "number_sections": true,
   "sideBar": true,
   "skip_h1_title": false,
   "title_cell": "Table of Contents",
   "title_sidebar": "Contents",
   "toc_cell": false,
   "toc_position": {},
   "toc_section_display": true,
   "toc_window_display": false
  }
 },
 "nbformat": 4,
 "nbformat_minor": 2
}
