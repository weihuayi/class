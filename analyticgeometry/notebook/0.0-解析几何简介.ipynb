{
 "cells": [
  {
   "cell_type": "markdown",
   "metadata": {},
   "source": [
    "# 什么是解析几何"
   ]
  },
  {
   "cell_type": "markdown",
   "metadata": {},
   "source": [
    "[解析几何](https://zh.wikipedia.org/wiki/%E8%A7%A3%E6%9E%90%E5%87%A0%E4%BD%95)（英语：Analytic geometry），又称为坐标几何（英语：Coordinate geometry）或卡氏几何（英语：Cartesian geometry），早先被叫作笛卡尔几何，是一种借助于解析式进行图形研究的几何学分支。解析几何通常使用二维的平面直角坐标系研究直线、圆、圆锥曲线、摆线、星形线等各种一般平面曲线，使用三维的空间直角坐标系来研究平面、球等各种一般空间曲面，同时研究它们的方程，并定义一些图形的概念和参数。\n"
   ]
  },
  {
   "cell_type": "markdown",
   "metadata": {},
   "source": [
    "## 欧氏几何"
   ]
  },
  {
   "cell_type": "markdown",
   "metadata": {},
   "source": [
    "欧几里得平面几何的五条公理（公设）是：\n",
    "\n",
    "* 从一点向另一点可以引一条直线。\n",
    "* 任意线段能无限延伸成一条直线。\n",
    "* 给定任意线段，可以以其一个端点作为圆心，该线段作为半径作一个圆。\n",
    "* 所有直角都相等。\n",
    "* 若两条直线都与第三条直线相交，并且在同一边的内角之和小于两个直角，则这两条直线在这一边必定相交。"
   ]
  },
  {
   "cell_type": "markdown",
   "metadata": {},
   "source": [
    "欧氏几何的问题：\n",
    "\n",
    "* 定性而不定量"
   ]
  },
  {
   "cell_type": "markdown",
   "metadata": {},
   "source": [
    "## 解析几何的实际意义"
   ]
  },
  {
   "cell_type": "markdown",
   "metadata": {},
   "source": [
    "一、　是在平面坐标系中，一个点的坐标与一组有序的实数对相对应；\n",
    "\n",
    "二、　是在平面坐标系中，平面上的一条曲线就可由带两个变数的一个代数方程来表示了。\n",
    "\n",
    "因此，运用坐标法不仅可以把几何问题通过代数的方法解决，而且还把变量、函数以及数和形等重要概念密切联系了起来，这就是创立解析几何最重要意义之一。\n",
    "\n",
    "[吴国平](http://www.sohu.com/a/123531101_109415)"
   ]
  },
  {
   "cell_type": "markdown",
   "metadata": {},
   "source": [
    "## 解析几何的网上展示资源"
   ]
  },
  {
   "cell_type": "markdown",
   "metadata": {},
   "source": [
    "1. 坐标几何：http://www.mathopenref.com/tocs/coordpointstoc.html\n",
    "1. 实体几何：http://www.mathopenref.com/tocs/solidtoc.html"
   ]
  }
 ],
 "metadata": {
  "kernelspec": {
   "display_name": "Python 3",
   "language": "python",
   "name": "python3"
  },
  "language_info": {
   "codemirror_mode": {
    "name": "ipython",
    "version": 3
   },
   "file_extension": ".py",
   "mimetype": "text/x-python",
   "name": "python",
   "nbconvert_exporter": "python",
   "pygments_lexer": "ipython3",
   "version": "3.6.8"
  },
  "latex_envs": {
   "LaTeX_envs_menu_present": true,
   "autoclose": false,
   "autocomplete": true,
   "bibliofile": "biblio.bib",
   "cite_by": "apalike",
   "current_citInitial": 1,
   "eqLabelWithNumbers": true,
   "eqNumInitial": 1,
   "hotkeys": {
    "equation": "Ctrl-E",
    "itemize": "Ctrl-I"
   },
   "labels_anchors": false,
   "latex_user_defs": false,
   "report_style_numbering": false,
   "user_envs_cfg": false
  },
  "toc": {
   "base_numbering": 1,
   "nav_menu": {},
   "number_sections": true,
   "sideBar": true,
   "skip_h1_title": false,
   "title_cell": "Table of Contents",
   "title_sidebar": "Contents",
   "toc_cell": false,
   "toc_position": {},
   "toc_section_display": true,
   "toc_window_display": false
  }
 },
 "nbformat": 4,
 "nbformat_minor": 2
}
