{
 "cells": [
  {
   "cell_type": "markdown",
   "metadata": {},
   "source": [
    "# 1.9 三向量的混合积"
   ]
  },
  {
   "cell_type": "markdown",
   "metadata": {},
   "source": [
    "1. 数的乘法\n",
    "    + $ab = ba$\n",
    "    + $\\lambda (ab) = (\\lambda a)b = a(\\lambda b)$\n",
    "    + $(a + b)c = ac + bc$\n",
    "    + $aa = a^2$\n",
    "    + $ab = 0 \\Rightarrow a=0\\text{ or } b = 0$\n",
    "    + $ab = ac \\Rightarrow b = c$"
   ]
  },
  {
   "cell_type": "markdown",
   "metadata": {},
   "source": [
    "1. 向量的数量积\n",
    "1. 向量的向量积"
   ]
  },
  {
   "cell_type": "markdown",
   "metadata": {},
   "source": [
    "## 一、混合积的概念"
   ]
  },
  {
   "cell_type": "markdown",
   "metadata": {},
   "source": [
    "**定义 1.9.1** $$ (\\vec a \\times \\vec b)\\cdot c $$"
   ]
  },
  {
   "cell_type": "markdown",
   "metadata": {},
   "source": [
    "## 二、混合积的几何意义"
   ]
  },
  {
   "cell_type": "markdown",
   "metadata": {},
   "source": [
    "**定理 1.9.1**\n",
    "1. 不共面\n",
    "1. 混合积的绝对值 = 平行六面体的体积\n",
    "1. 右手系， 混合积为正; 左手系，混合积为负"
   ]
  },
  {
   "cell_type": "markdown",
   "metadata": {},
   "source": [
    "## 三、混合积的性质"
   ]
  },
  {
   "cell_type": "markdown",
   "metadata": {},
   "source": [
    "**定理 1.9.2** 共面的可计算性\n",
    "1. 特殊情形\n",
    "1. 充分性，垂直于同一个向量的三个向量共面。\n",
    "1. 必要性，"
   ]
  },
  {
   "cell_type": "markdown",
   "metadata": {},
   "source": [
    "**定理 1.9.3** 轮换不改变它的值。\n",
    "\n",
    "1. 从几何角度来理解这种不变性。"
   ]
  },
  {
   "cell_type": "markdown",
   "metadata": {},
   "source": [
    "**例 1** \n",
    "1. 两边同时向量积 $c$\n",
    "1. 共面的充分必要条件。"
   ]
  },
  {
   "cell_type": "markdown",
   "metadata": {},
   "source": [
    "**例 2**\n",
    "1. "
   ]
  },
  {
   "cell_type": "markdown",
   "metadata": {},
   "source": [
    "## 四、混合积的坐标表示"
   ]
  },
  {
   "cell_type": "markdown",
   "metadata": {},
   "source": [
    "**定理 1.9.4** 三阶行列式"
   ]
  },
  {
   "cell_type": "markdown",
   "metadata": {},
   "source": [
    "**例 3** 四面体的体积 $V = \\frac{1}{3} Sh$"
   ]
  },
  {
   "cell_type": "markdown",
   "metadata": {},
   "source": [
    "**例 4** 一个向量由其它向量线性表示\n",
    "\n",
    "1. 线性表示\n",
    "1. 两边做混合积"
   ]
  },
  {
   "cell_type": "code",
   "execution_count": null,
   "metadata": {},
   "outputs": [],
   "source": []
  }
 ],
 "metadata": {
  "kernelspec": {
   "display_name": "Python 3",
   "language": "python",
   "name": "python3"
  },
  "language_info": {
   "codemirror_mode": {
    "name": "ipython",
    "version": 3
   },
   "file_extension": ".py",
   "mimetype": "text/x-python",
   "name": "python",
   "nbconvert_exporter": "python",
   "pygments_lexer": "ipython3",
   "version": "3.6.8"
  }
 },
 "nbformat": 4,
 "nbformat_minor": 2
}
